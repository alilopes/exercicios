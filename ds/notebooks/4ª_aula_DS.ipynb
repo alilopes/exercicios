{
  "nbformat": 4,
  "nbformat_minor": 0,
  "metadata": {
    "colab": {
      "name": "4ª aula - DS.ipynb",
      "provenance": []
    },
    "kernelspec": {
      "name": "python3",
      "display_name": "Python 3"
    },
    "language_info": {
      "name": "python"
    }
  },
  "cells": [
    {
      "cell_type": "markdown",
      "source": [
        "# Principais métodos "
      ],
      "metadata": {
        "id": "pOx-huKj6wJR"
      }
    },
    {
      "cell_type": "markdown",
      "source": [
        "## Os mais comuns"
      ],
      "metadata": {
        "id": "HhHT19_bygqR"
      }
    },
    {
      "cell_type": "markdown",
      "source": [
        "A biblioteca __Pandas__ possui muitas funções e métodos implementados que nos ajudam, e muito, em nosso dia-a-dia na análise exploratória de dados. \n",
        "\n",
        "Nesta aula, vamos aprender a utilizar os mais comuns conforme estão listados abaixo:\n",
        "\n",
        "* `rename` : renomeia os 'rótulos' dos eixos (índices ou colunas)\n",
        "\n",
        "* `apply` : aplica uma determinada função ao longo de um eixo quando for chamado diretamente pelo _DataFrame_ ou aplica uma função numa _Series_ em questão\n",
        "\n",
        "* `map` : \"mapeia\" uma _Series_ aplicando determinada função a cada elemento desta\n",
        "\n",
        "* `agg` : agrega uma ou mais operações à uma _Series_\n",
        "\n",
        "* `min` : retorna o valor mínimo de uma _Series_\n",
        "\n",
        "* `max` : retorna o valor máximo de uma _Series_\n",
        "\n",
        "* `sum` : retorna a soma dos valores de uma _Series_\n",
        "\n",
        "* `mean` : retorna a média dos valores de uma _Series_\n",
        "\n",
        "* `count` : conta as células não vazias de cada linha ou coluna\n",
        "\n",
        "* `value_counts` : retorna uma _Series_ contendo a contagem de linhas exclusivas no _DataFrame_\n",
        "\n",
        "* `sort_values` : classifica / ordena os valores ao longo de qualquer eixo\n",
        "\n",
        "* `insert` : insire uma nova coluna no _DataFrame_ no local especificado\n",
        "\n",
        "* `drop` : remova linhas ou colunas especificando diretamente seus nomes"
      ],
      "metadata": {
        "id": "1-49XG14llVQ"
      }
    },
    {
      "cell_type": "markdown",
      "source": [
        "### Exemplos"
      ],
      "metadata": {
        "id": "mDvMCacN1Lrk"
      }
    },
    {
      "cell_type": "code",
      "source": [
        "# Importação da biblioteca pandas\n",
        "import pandas as pd\n",
        "\n",
        "# Configuração para que os números fiquem com 2 casas decimais\n",
        "pd.options.display.float_format = '{:,.2f}'.format"
      ],
      "metadata": {
        "id": "GRuFFhV61U6C"
      },
      "execution_count": null,
      "outputs": []
    },
    {
      "cell_type": "markdown",
      "source": [
        "Construindo um _DataFrame_ pequeno com 5 colunas e 7 linhas usando a notação de dicionários"
      ],
      "metadata": {
        "id": "DmIjy7MYCbvn"
      }
    },
    {
      "cell_type": "code",
      "source": [
        "df = pd.DataFrame(\n",
        "    {\n",
        "        'Linguagem': ['Python', 'R', 'SQL', 'C', 'Java', 'Javascript', 'Elixir'],\n",
        "        'Popularidade': ['Alta', 'Baixa', 'Altíssima', 'Média', 'Altíssima', 'Altíssima', 'Baixa'],\n",
        "        'Versão': [3.10, 4.2, None, None, 11, 16, 1.12],\n",
        "        'Desenvolvedores': [7_000_000, 500_000, 20_000_000, 3_500_000, 16_000_000, 25_000_000, 200_000],\n",
        "        'Data de Lançamento': ['1991-02-20', '1993-08-03', '1986-01-01', '1972-01-01', '1995-05-23', '1995-12-04', '2012-01-01']\n",
        "    }\n",
        ")\n",
        "\n",
        "df"
      ],
      "metadata": {
        "id": "85iZS8Xz1c42",
        "colab": {
          "base_uri": "https://localhost:8080/",
          "height": 269
        },
        "outputId": "a5879624-1f64-4b47-8a71-0c51d07ab8d2"
      },
      "execution_count": null,
      "outputs": [
        {
          "output_type": "execute_result",
          "data": {
            "text/plain": [
              "    Linguagem Popularidade  Versão  Desenvolvedores Data de Lançamento\n",
              "0      Python         Alta    3.10          7000000         1991-02-20\n",
              "1           R        Baixa    4.20           500000         1993-08-03\n",
              "2         SQL    Altíssima     NaN         20000000         1986-01-01\n",
              "3           C        Média     NaN          3500000         1972-01-01\n",
              "4        Java    Altíssima   11.00         16000000         1995-05-23\n",
              "5  Javascript    Altíssima   16.00         25000000         1995-12-04\n",
              "6      Elixir        Baixa    1.12           200000         2012-01-01"
            ],
            "text/html": [
              "\n",
              "  <div id=\"df-f9458994-ace3-4fc9-89f3-2f771bec0585\">\n",
              "    <div class=\"colab-df-container\">\n",
              "      <div>\n",
              "<style scoped>\n",
              "    .dataframe tbody tr th:only-of-type {\n",
              "        vertical-align: middle;\n",
              "    }\n",
              "\n",
              "    .dataframe tbody tr th {\n",
              "        vertical-align: top;\n",
              "    }\n",
              "\n",
              "    .dataframe thead th {\n",
              "        text-align: right;\n",
              "    }\n",
              "</style>\n",
              "<table border=\"1\" class=\"dataframe\">\n",
              "  <thead>\n",
              "    <tr style=\"text-align: right;\">\n",
              "      <th></th>\n",
              "      <th>Linguagem</th>\n",
              "      <th>Popularidade</th>\n",
              "      <th>Versão</th>\n",
              "      <th>Desenvolvedores</th>\n",
              "      <th>Data de Lançamento</th>\n",
              "    </tr>\n",
              "  </thead>\n",
              "  <tbody>\n",
              "    <tr>\n",
              "      <th>0</th>\n",
              "      <td>Python</td>\n",
              "      <td>Alta</td>\n",
              "      <td>3.10</td>\n",
              "      <td>7000000</td>\n",
              "      <td>1991-02-20</td>\n",
              "    </tr>\n",
              "    <tr>\n",
              "      <th>1</th>\n",
              "      <td>R</td>\n",
              "      <td>Baixa</td>\n",
              "      <td>4.20</td>\n",
              "      <td>500000</td>\n",
              "      <td>1993-08-03</td>\n",
              "    </tr>\n",
              "    <tr>\n",
              "      <th>2</th>\n",
              "      <td>SQL</td>\n",
              "      <td>Altíssima</td>\n",
              "      <td>NaN</td>\n",
              "      <td>20000000</td>\n",
              "      <td>1986-01-01</td>\n",
              "    </tr>\n",
              "    <tr>\n",
              "      <th>3</th>\n",
              "      <td>C</td>\n",
              "      <td>Média</td>\n",
              "      <td>NaN</td>\n",
              "      <td>3500000</td>\n",
              "      <td>1972-01-01</td>\n",
              "    </tr>\n",
              "    <tr>\n",
              "      <th>4</th>\n",
              "      <td>Java</td>\n",
              "      <td>Altíssima</td>\n",
              "      <td>11.00</td>\n",
              "      <td>16000000</td>\n",
              "      <td>1995-05-23</td>\n",
              "    </tr>\n",
              "    <tr>\n",
              "      <th>5</th>\n",
              "      <td>Javascript</td>\n",
              "      <td>Altíssima</td>\n",
              "      <td>16.00</td>\n",
              "      <td>25000000</td>\n",
              "      <td>1995-12-04</td>\n",
              "    </tr>\n",
              "    <tr>\n",
              "      <th>6</th>\n",
              "      <td>Elixir</td>\n",
              "      <td>Baixa</td>\n",
              "      <td>1.12</td>\n",
              "      <td>200000</td>\n",
              "      <td>2012-01-01</td>\n",
              "    </tr>\n",
              "  </tbody>\n",
              "</table>\n",
              "</div>\n",
              "      <button class=\"colab-df-convert\" onclick=\"convertToInteractive('df-f9458994-ace3-4fc9-89f3-2f771bec0585')\"\n",
              "              title=\"Convert this dataframe to an interactive table.\"\n",
              "              style=\"display:none;\">\n",
              "        \n",
              "  <svg xmlns=\"http://www.w3.org/2000/svg\" height=\"24px\"viewBox=\"0 0 24 24\"\n",
              "       width=\"24px\">\n",
              "    <path d=\"M0 0h24v24H0V0z\" fill=\"none\"/>\n",
              "    <path d=\"M18.56 5.44l.94 2.06.94-2.06 2.06-.94-2.06-.94-.94-2.06-.94 2.06-2.06.94zm-11 1L8.5 8.5l.94-2.06 2.06-.94-2.06-.94L8.5 2.5l-.94 2.06-2.06.94zm10 10l.94 2.06.94-2.06 2.06-.94-2.06-.94-.94-2.06-.94 2.06-2.06.94z\"/><path d=\"M17.41 7.96l-1.37-1.37c-.4-.4-.92-.59-1.43-.59-.52 0-1.04.2-1.43.59L10.3 9.45l-7.72 7.72c-.78.78-.78 2.05 0 2.83L4 21.41c.39.39.9.59 1.41.59.51 0 1.02-.2 1.41-.59l7.78-7.78 2.81-2.81c.8-.78.8-2.07 0-2.86zM5.41 20L4 18.59l7.72-7.72 1.47 1.35L5.41 20z\"/>\n",
              "  </svg>\n",
              "      </button>\n",
              "      \n",
              "  <style>\n",
              "    .colab-df-container {\n",
              "      display:flex;\n",
              "      flex-wrap:wrap;\n",
              "      gap: 12px;\n",
              "    }\n",
              "\n",
              "    .colab-df-convert {\n",
              "      background-color: #E8F0FE;\n",
              "      border: none;\n",
              "      border-radius: 50%;\n",
              "      cursor: pointer;\n",
              "      display: none;\n",
              "      fill: #1967D2;\n",
              "      height: 32px;\n",
              "      padding: 0 0 0 0;\n",
              "      width: 32px;\n",
              "    }\n",
              "\n",
              "    .colab-df-convert:hover {\n",
              "      background-color: #E2EBFA;\n",
              "      box-shadow: 0px 1px 2px rgba(60, 64, 67, 0.3), 0px 1px 3px 1px rgba(60, 64, 67, 0.15);\n",
              "      fill: #174EA6;\n",
              "    }\n",
              "\n",
              "    [theme=dark] .colab-df-convert {\n",
              "      background-color: #3B4455;\n",
              "      fill: #D2E3FC;\n",
              "    }\n",
              "\n",
              "    [theme=dark] .colab-df-convert:hover {\n",
              "      background-color: #434B5C;\n",
              "      box-shadow: 0px 1px 3px 1px rgba(0, 0, 0, 0.15);\n",
              "      filter: drop-shadow(0px 1px 2px rgba(0, 0, 0, 0.3));\n",
              "      fill: #FFFFFF;\n",
              "    }\n",
              "  </style>\n",
              "\n",
              "      <script>\n",
              "        const buttonEl =\n",
              "          document.querySelector('#df-f9458994-ace3-4fc9-89f3-2f771bec0585 button.colab-df-convert');\n",
              "        buttonEl.style.display =\n",
              "          google.colab.kernel.accessAllowed ? 'block' : 'none';\n",
              "\n",
              "        async function convertToInteractive(key) {\n",
              "          const element = document.querySelector('#df-f9458994-ace3-4fc9-89f3-2f771bec0585');\n",
              "          const dataTable =\n",
              "            await google.colab.kernel.invokeFunction('convertToInteractive',\n",
              "                                                     [key], {});\n",
              "          if (!dataTable) return;\n",
              "\n",
              "          const docLinkHtml = 'Like what you see? Visit the ' +\n",
              "            '<a target=\"_blank\" href=https://colab.research.google.com/notebooks/data_table.ipynb>data table notebook</a>'\n",
              "            + ' to learn more about interactive tables.';\n",
              "          element.innerHTML = '';\n",
              "          dataTable['output_type'] = 'display_data';\n",
              "          await google.colab.output.renderOutput(dataTable, element);\n",
              "          const docLink = document.createElement('div');\n",
              "          docLink.innerHTML = docLinkHtml;\n",
              "          element.appendChild(docLink);\n",
              "        }\n",
              "      </script>\n",
              "    </div>\n",
              "  </div>\n",
              "  "
            ]
          },
          "metadata": {},
          "execution_count": 3
        }
      ]
    },
    {
      "cell_type": "markdown",
      "source": [
        "Construção de novo _DataFrame_, mas desta vez, passando os parâmetros nomeadas - __data__, __columns__ e __index__. Repare que o parâmetro nomeado __data__ está vazio, logo os valores serão apresentados como NaN"
      ],
      "metadata": {
        "id": "NKj5_oHvC3JV"
      }
    },
    {
      "cell_type": "code",
      "source": [
        "dfs = pd.DataFrame(\n",
        "    data=[],\n",
        "    columns=['Lógica de Programação', 'Python', 'Data Science', 'HTML & CSS', 'JavaScript', 'React Native'],\n",
        "    index=['Amanda', 'Camila', 'Cinthia', 'Gisele', 'Helen', 'Carol', 'Clara', 'Paula']\n",
        ")\n",
        "\n",
        "dfs"
      ],
      "metadata": {
        "id": "b9leeP6YF46g",
        "colab": {
          "base_uri": "https://localhost:8080/",
          "height": 300
        },
        "outputId": "3997508c-5775-4c47-f687-ca42e296c509"
      },
      "execution_count": null,
      "outputs": [
        {
          "output_type": "execute_result",
          "data": {
            "text/plain": [
              "        Lógica de Programação Python Data Science HTML & CSS JavaScript  \\\n",
              "Amanda                    NaN    NaN          NaN        NaN        NaN   \n",
              "Camila                    NaN    NaN          NaN        NaN        NaN   \n",
              "Cinthia                   NaN    NaN          NaN        NaN        NaN   \n",
              "Gisele                    NaN    NaN          NaN        NaN        NaN   \n",
              "Helen                     NaN    NaN          NaN        NaN        NaN   \n",
              "Carol                     NaN    NaN          NaN        NaN        NaN   \n",
              "Clara                     NaN    NaN          NaN        NaN        NaN   \n",
              "Paula                     NaN    NaN          NaN        NaN        NaN   \n",
              "\n",
              "        React Native  \n",
              "Amanda           NaN  \n",
              "Camila           NaN  \n",
              "Cinthia          NaN  \n",
              "Gisele           NaN  \n",
              "Helen            NaN  \n",
              "Carol            NaN  \n",
              "Clara            NaN  \n",
              "Paula            NaN  "
            ],
            "text/html": [
              "\n",
              "  <div id=\"df-927d3947-0433-4b33-94b7-0fafd4ae7ba7\">\n",
              "    <div class=\"colab-df-container\">\n",
              "      <div>\n",
              "<style scoped>\n",
              "    .dataframe tbody tr th:only-of-type {\n",
              "        vertical-align: middle;\n",
              "    }\n",
              "\n",
              "    .dataframe tbody tr th {\n",
              "        vertical-align: top;\n",
              "    }\n",
              "\n",
              "    .dataframe thead th {\n",
              "        text-align: right;\n",
              "    }\n",
              "</style>\n",
              "<table border=\"1\" class=\"dataframe\">\n",
              "  <thead>\n",
              "    <tr style=\"text-align: right;\">\n",
              "      <th></th>\n",
              "      <th>Lógica de Programação</th>\n",
              "      <th>Python</th>\n",
              "      <th>Data Science</th>\n",
              "      <th>HTML &amp; CSS</th>\n",
              "      <th>JavaScript</th>\n",
              "      <th>React Native</th>\n",
              "    </tr>\n",
              "  </thead>\n",
              "  <tbody>\n",
              "    <tr>\n",
              "      <th>Amanda</th>\n",
              "      <td>NaN</td>\n",
              "      <td>NaN</td>\n",
              "      <td>NaN</td>\n",
              "      <td>NaN</td>\n",
              "      <td>NaN</td>\n",
              "      <td>NaN</td>\n",
              "    </tr>\n",
              "    <tr>\n",
              "      <th>Camila</th>\n",
              "      <td>NaN</td>\n",
              "      <td>NaN</td>\n",
              "      <td>NaN</td>\n",
              "      <td>NaN</td>\n",
              "      <td>NaN</td>\n",
              "      <td>NaN</td>\n",
              "    </tr>\n",
              "    <tr>\n",
              "      <th>Cinthia</th>\n",
              "      <td>NaN</td>\n",
              "      <td>NaN</td>\n",
              "      <td>NaN</td>\n",
              "      <td>NaN</td>\n",
              "      <td>NaN</td>\n",
              "      <td>NaN</td>\n",
              "    </tr>\n",
              "    <tr>\n",
              "      <th>Gisele</th>\n",
              "      <td>NaN</td>\n",
              "      <td>NaN</td>\n",
              "      <td>NaN</td>\n",
              "      <td>NaN</td>\n",
              "      <td>NaN</td>\n",
              "      <td>NaN</td>\n",
              "    </tr>\n",
              "    <tr>\n",
              "      <th>Helen</th>\n",
              "      <td>NaN</td>\n",
              "      <td>NaN</td>\n",
              "      <td>NaN</td>\n",
              "      <td>NaN</td>\n",
              "      <td>NaN</td>\n",
              "      <td>NaN</td>\n",
              "    </tr>\n",
              "    <tr>\n",
              "      <th>Carol</th>\n",
              "      <td>NaN</td>\n",
              "      <td>NaN</td>\n",
              "      <td>NaN</td>\n",
              "      <td>NaN</td>\n",
              "      <td>NaN</td>\n",
              "      <td>NaN</td>\n",
              "    </tr>\n",
              "    <tr>\n",
              "      <th>Clara</th>\n",
              "      <td>NaN</td>\n",
              "      <td>NaN</td>\n",
              "      <td>NaN</td>\n",
              "      <td>NaN</td>\n",
              "      <td>NaN</td>\n",
              "      <td>NaN</td>\n",
              "    </tr>\n",
              "    <tr>\n",
              "      <th>Paula</th>\n",
              "      <td>NaN</td>\n",
              "      <td>NaN</td>\n",
              "      <td>NaN</td>\n",
              "      <td>NaN</td>\n",
              "      <td>NaN</td>\n",
              "      <td>NaN</td>\n",
              "    </tr>\n",
              "  </tbody>\n",
              "</table>\n",
              "</div>\n",
              "      <button class=\"colab-df-convert\" onclick=\"convertToInteractive('df-927d3947-0433-4b33-94b7-0fafd4ae7ba7')\"\n",
              "              title=\"Convert this dataframe to an interactive table.\"\n",
              "              style=\"display:none;\">\n",
              "        \n",
              "  <svg xmlns=\"http://www.w3.org/2000/svg\" height=\"24px\"viewBox=\"0 0 24 24\"\n",
              "       width=\"24px\">\n",
              "    <path d=\"M0 0h24v24H0V0z\" fill=\"none\"/>\n",
              "    <path d=\"M18.56 5.44l.94 2.06.94-2.06 2.06-.94-2.06-.94-.94-2.06-.94 2.06-2.06.94zm-11 1L8.5 8.5l.94-2.06 2.06-.94-2.06-.94L8.5 2.5l-.94 2.06-2.06.94zm10 10l.94 2.06.94-2.06 2.06-.94-2.06-.94-.94-2.06-.94 2.06-2.06.94z\"/><path d=\"M17.41 7.96l-1.37-1.37c-.4-.4-.92-.59-1.43-.59-.52 0-1.04.2-1.43.59L10.3 9.45l-7.72 7.72c-.78.78-.78 2.05 0 2.83L4 21.41c.39.39.9.59 1.41.59.51 0 1.02-.2 1.41-.59l7.78-7.78 2.81-2.81c.8-.78.8-2.07 0-2.86zM5.41 20L4 18.59l7.72-7.72 1.47 1.35L5.41 20z\"/>\n",
              "  </svg>\n",
              "      </button>\n",
              "      \n",
              "  <style>\n",
              "    .colab-df-container {\n",
              "      display:flex;\n",
              "      flex-wrap:wrap;\n",
              "      gap: 12px;\n",
              "    }\n",
              "\n",
              "    .colab-df-convert {\n",
              "      background-color: #E8F0FE;\n",
              "      border: none;\n",
              "      border-radius: 50%;\n",
              "      cursor: pointer;\n",
              "      display: none;\n",
              "      fill: #1967D2;\n",
              "      height: 32px;\n",
              "      padding: 0 0 0 0;\n",
              "      width: 32px;\n",
              "    }\n",
              "\n",
              "    .colab-df-convert:hover {\n",
              "      background-color: #E2EBFA;\n",
              "      box-shadow: 0px 1px 2px rgba(60, 64, 67, 0.3), 0px 1px 3px 1px rgba(60, 64, 67, 0.15);\n",
              "      fill: #174EA6;\n",
              "    }\n",
              "\n",
              "    [theme=dark] .colab-df-convert {\n",
              "      background-color: #3B4455;\n",
              "      fill: #D2E3FC;\n",
              "    }\n",
              "\n",
              "    [theme=dark] .colab-df-convert:hover {\n",
              "      background-color: #434B5C;\n",
              "      box-shadow: 0px 1px 3px 1px rgba(0, 0, 0, 0.15);\n",
              "      filter: drop-shadow(0px 1px 2px rgba(0, 0, 0, 0.3));\n",
              "      fill: #FFFFFF;\n",
              "    }\n",
              "  </style>\n",
              "\n",
              "      <script>\n",
              "        const buttonEl =\n",
              "          document.querySelector('#df-927d3947-0433-4b33-94b7-0fafd4ae7ba7 button.colab-df-convert');\n",
              "        buttonEl.style.display =\n",
              "          google.colab.kernel.accessAllowed ? 'block' : 'none';\n",
              "\n",
              "        async function convertToInteractive(key) {\n",
              "          const element = document.querySelector('#df-927d3947-0433-4b33-94b7-0fafd4ae7ba7');\n",
              "          const dataTable =\n",
              "            await google.colab.kernel.invokeFunction('convertToInteractive',\n",
              "                                                     [key], {});\n",
              "          if (!dataTable) return;\n",
              "\n",
              "          const docLinkHtml = 'Like what you see? Visit the ' +\n",
              "            '<a target=\"_blank\" href=https://colab.research.google.com/notebooks/data_table.ipynb>data table notebook</a>'\n",
              "            + ' to learn more about interactive tables.';\n",
              "          element.innerHTML = '';\n",
              "          dataTable['output_type'] = 'display_data';\n",
              "          await google.colab.output.renderOutput(dataTable, element);\n",
              "          const docLink = document.createElement('div');\n",
              "          docLink.innerHTML = docLinkHtml;\n",
              "          element.appendChild(docLink);\n",
              "        }\n",
              "      </script>\n",
              "    </div>\n",
              "  </div>\n",
              "  "
            ]
          },
          "metadata": {},
          "execution_count": 3
        }
      ]
    },
    {
      "cell_type": "markdown",
      "source": [
        "Importaremos a biblioteca __numpy__ - _Numeric Python_ - para nos auxiliar a \"popular\" nosso _DataFrame_ com as notas dentro do intervalo de 5 à 10 ao longo das colunas"
      ],
      "metadata": {
        "id": "cs_Z0E26DiQC"
      }
    },
    {
      "cell_type": "code",
      "source": [
        "import numpy as np\n",
        "\n",
        "dfs = dfs.apply(lambda nota: np.random.uniform(low=5.0, high=10.0, size=8), axis='index')\n",
        "dfs"
      ],
      "metadata": {
        "id": "LQnuJsIiHBH6",
        "colab": {
          "base_uri": "https://localhost:8080/",
          "height": 300
        },
        "outputId": "39aab5a5-3923-4660-9a3c-b4f4b678b5cc"
      },
      "execution_count": null,
      "outputs": [
        {
          "output_type": "execute_result",
          "data": {
            "text/plain": [
              "         Lógica de Programação  Python  Data Science  HTML & CSS  JavaScript  \\\n",
              "Amanda                    6.91    7.54          5.17        7.58        7.79   \n",
              "Camila                    9.20    9.19          7.25        8.32        7.41   \n",
              "Cinthia                   6.59    7.80          8.18        8.09        9.66   \n",
              "Gisele                    8.85    6.85          6.47        8.19        7.19   \n",
              "Helen                     5.25    8.37          7.69        5.79        7.17   \n",
              "Carol                     9.28    8.17          5.45        6.97        6.20   \n",
              "Clara                     9.84    5.58          6.25        8.45        7.38   \n",
              "Paula                     8.48    9.54          9.48        8.96        9.77   \n",
              "\n",
              "         React Native  \n",
              "Amanda           6.44  \n",
              "Camila           9.16  \n",
              "Cinthia          6.84  \n",
              "Gisele           9.55  \n",
              "Helen            8.40  \n",
              "Carol            6.90  \n",
              "Clara            6.52  \n",
              "Paula            7.61  "
            ],
            "text/html": [
              "\n",
              "  <div id=\"df-3292c581-d8e3-43ee-9b7c-7999c8dd16d6\">\n",
              "    <div class=\"colab-df-container\">\n",
              "      <div>\n",
              "<style scoped>\n",
              "    .dataframe tbody tr th:only-of-type {\n",
              "        vertical-align: middle;\n",
              "    }\n",
              "\n",
              "    .dataframe tbody tr th {\n",
              "        vertical-align: top;\n",
              "    }\n",
              "\n",
              "    .dataframe thead th {\n",
              "        text-align: right;\n",
              "    }\n",
              "</style>\n",
              "<table border=\"1\" class=\"dataframe\">\n",
              "  <thead>\n",
              "    <tr style=\"text-align: right;\">\n",
              "      <th></th>\n",
              "      <th>Lógica de Programação</th>\n",
              "      <th>Python</th>\n",
              "      <th>Data Science</th>\n",
              "      <th>HTML &amp; CSS</th>\n",
              "      <th>JavaScript</th>\n",
              "      <th>React Native</th>\n",
              "    </tr>\n",
              "  </thead>\n",
              "  <tbody>\n",
              "    <tr>\n",
              "      <th>Amanda</th>\n",
              "      <td>6.91</td>\n",
              "      <td>7.54</td>\n",
              "      <td>5.17</td>\n",
              "      <td>7.58</td>\n",
              "      <td>7.79</td>\n",
              "      <td>6.44</td>\n",
              "    </tr>\n",
              "    <tr>\n",
              "      <th>Camila</th>\n",
              "      <td>9.20</td>\n",
              "      <td>9.19</td>\n",
              "      <td>7.25</td>\n",
              "      <td>8.32</td>\n",
              "      <td>7.41</td>\n",
              "      <td>9.16</td>\n",
              "    </tr>\n",
              "    <tr>\n",
              "      <th>Cinthia</th>\n",
              "      <td>6.59</td>\n",
              "      <td>7.80</td>\n",
              "      <td>8.18</td>\n",
              "      <td>8.09</td>\n",
              "      <td>9.66</td>\n",
              "      <td>6.84</td>\n",
              "    </tr>\n",
              "    <tr>\n",
              "      <th>Gisele</th>\n",
              "      <td>8.85</td>\n",
              "      <td>6.85</td>\n",
              "      <td>6.47</td>\n",
              "      <td>8.19</td>\n",
              "      <td>7.19</td>\n",
              "      <td>9.55</td>\n",
              "    </tr>\n",
              "    <tr>\n",
              "      <th>Helen</th>\n",
              "      <td>5.25</td>\n",
              "      <td>8.37</td>\n",
              "      <td>7.69</td>\n",
              "      <td>5.79</td>\n",
              "      <td>7.17</td>\n",
              "      <td>8.40</td>\n",
              "    </tr>\n",
              "    <tr>\n",
              "      <th>Carol</th>\n",
              "      <td>9.28</td>\n",
              "      <td>8.17</td>\n",
              "      <td>5.45</td>\n",
              "      <td>6.97</td>\n",
              "      <td>6.20</td>\n",
              "      <td>6.90</td>\n",
              "    </tr>\n",
              "    <tr>\n",
              "      <th>Clara</th>\n",
              "      <td>9.84</td>\n",
              "      <td>5.58</td>\n",
              "      <td>6.25</td>\n",
              "      <td>8.45</td>\n",
              "      <td>7.38</td>\n",
              "      <td>6.52</td>\n",
              "    </tr>\n",
              "    <tr>\n",
              "      <th>Paula</th>\n",
              "      <td>8.48</td>\n",
              "      <td>9.54</td>\n",
              "      <td>9.48</td>\n",
              "      <td>8.96</td>\n",
              "      <td>9.77</td>\n",
              "      <td>7.61</td>\n",
              "    </tr>\n",
              "  </tbody>\n",
              "</table>\n",
              "</div>\n",
              "      <button class=\"colab-df-convert\" onclick=\"convertToInteractive('df-3292c581-d8e3-43ee-9b7c-7999c8dd16d6')\"\n",
              "              title=\"Convert this dataframe to an interactive table.\"\n",
              "              style=\"display:none;\">\n",
              "        \n",
              "  <svg xmlns=\"http://www.w3.org/2000/svg\" height=\"24px\"viewBox=\"0 0 24 24\"\n",
              "       width=\"24px\">\n",
              "    <path d=\"M0 0h24v24H0V0z\" fill=\"none\"/>\n",
              "    <path d=\"M18.56 5.44l.94 2.06.94-2.06 2.06-.94-2.06-.94-.94-2.06-.94 2.06-2.06.94zm-11 1L8.5 8.5l.94-2.06 2.06-.94-2.06-.94L8.5 2.5l-.94 2.06-2.06.94zm10 10l.94 2.06.94-2.06 2.06-.94-2.06-.94-.94-2.06-.94 2.06-2.06.94z\"/><path d=\"M17.41 7.96l-1.37-1.37c-.4-.4-.92-.59-1.43-.59-.52 0-1.04.2-1.43.59L10.3 9.45l-7.72 7.72c-.78.78-.78 2.05 0 2.83L4 21.41c.39.39.9.59 1.41.59.51 0 1.02-.2 1.41-.59l7.78-7.78 2.81-2.81c.8-.78.8-2.07 0-2.86zM5.41 20L4 18.59l7.72-7.72 1.47 1.35L5.41 20z\"/>\n",
              "  </svg>\n",
              "      </button>\n",
              "      \n",
              "  <style>\n",
              "    .colab-df-container {\n",
              "      display:flex;\n",
              "      flex-wrap:wrap;\n",
              "      gap: 12px;\n",
              "    }\n",
              "\n",
              "    .colab-df-convert {\n",
              "      background-color: #E8F0FE;\n",
              "      border: none;\n",
              "      border-radius: 50%;\n",
              "      cursor: pointer;\n",
              "      display: none;\n",
              "      fill: #1967D2;\n",
              "      height: 32px;\n",
              "      padding: 0 0 0 0;\n",
              "      width: 32px;\n",
              "    }\n",
              "\n",
              "    .colab-df-convert:hover {\n",
              "      background-color: #E2EBFA;\n",
              "      box-shadow: 0px 1px 2px rgba(60, 64, 67, 0.3), 0px 1px 3px 1px rgba(60, 64, 67, 0.15);\n",
              "      fill: #174EA6;\n",
              "    }\n",
              "\n",
              "    [theme=dark] .colab-df-convert {\n",
              "      background-color: #3B4455;\n",
              "      fill: #D2E3FC;\n",
              "    }\n",
              "\n",
              "    [theme=dark] .colab-df-convert:hover {\n",
              "      background-color: #434B5C;\n",
              "      box-shadow: 0px 1px 3px 1px rgba(0, 0, 0, 0.15);\n",
              "      filter: drop-shadow(0px 1px 2px rgba(0, 0, 0, 0.3));\n",
              "      fill: #FFFFFF;\n",
              "    }\n",
              "  </style>\n",
              "\n",
              "      <script>\n",
              "        const buttonEl =\n",
              "          document.querySelector('#df-3292c581-d8e3-43ee-9b7c-7999c8dd16d6 button.colab-df-convert');\n",
              "        buttonEl.style.display =\n",
              "          google.colab.kernel.accessAllowed ? 'block' : 'none';\n",
              "\n",
              "        async function convertToInteractive(key) {\n",
              "          const element = document.querySelector('#df-3292c581-d8e3-43ee-9b7c-7999c8dd16d6');\n",
              "          const dataTable =\n",
              "            await google.colab.kernel.invokeFunction('convertToInteractive',\n",
              "                                                     [key], {});\n",
              "          if (!dataTable) return;\n",
              "\n",
              "          const docLinkHtml = 'Like what you see? Visit the ' +\n",
              "            '<a target=\"_blank\" href=https://colab.research.google.com/notebooks/data_table.ipynb>data table notebook</a>'\n",
              "            + ' to learn more about interactive tables.';\n",
              "          element.innerHTML = '';\n",
              "          dataTable['output_type'] = 'display_data';\n",
              "          await google.colab.output.renderOutput(dataTable, element);\n",
              "          const docLink = document.createElement('div');\n",
              "          docLink.innerHTML = docLinkHtml;\n",
              "          element.appendChild(docLink);\n",
              "        }\n",
              "      </script>\n",
              "    </div>\n",
              "  </div>\n",
              "  "
            ]
          },
          "metadata": {},
          "execution_count": 4
        }
      ]
    },
    {
      "cell_type": "markdown",
      "source": [
        "Na célula acima, usamos o método _apply_. Se precisar de ajuda, basta solicitar colocando o ponto de interrogação logo após o método"
      ],
      "metadata": {
        "id": "Zei587X4EBfq"
      }
    },
    {
      "cell_type": "code",
      "source": [
        "dfs.apply?"
      ],
      "metadata": {
        "id": "CVbQocueqsnH"
      },
      "execution_count": null,
      "outputs": []
    },
    {
      "cell_type": "markdown",
      "source": [
        "Este _DataFrame_ não possui a informação de média de cada aluna. Vamos criar esta coluna e calcular a média"
      ],
      "metadata": {
        "id": "2FiIcvmwPd7e"
      }
    },
    {
      "cell_type": "code",
      "source": [
        "dfs['Média'] = dfs.mean(axis='columns')\n",
        "dfs"
      ],
      "metadata": {
        "id": "SeAoJRfiLCE-",
        "colab": {
          "base_uri": "https://localhost:8080/",
          "height": 300
        },
        "outputId": "88e033be-b9d8-4533-bf88-c83423ae74d5"
      },
      "execution_count": null,
      "outputs": [
        {
          "output_type": "execute_result",
          "data": {
            "text/plain": [
              "         Lógica de Programação  Python  Data Science  HTML & CSS  JavaScript  \\\n",
              "Amanda                    6.91    7.54          5.17        7.58        7.79   \n",
              "Camila                    9.20    9.19          7.25        8.32        7.41   \n",
              "Cinthia                   6.59    7.80          8.18        8.09        9.66   \n",
              "Gisele                    8.85    6.85          6.47        8.19        7.19   \n",
              "Helen                     5.25    8.37          7.69        5.79        7.17   \n",
              "Carol                     9.28    8.17          5.45        6.97        6.20   \n",
              "Clara                     9.84    5.58          6.25        8.45        7.38   \n",
              "Paula                     8.48    9.54          9.48        8.96        9.77   \n",
              "\n",
              "         React Native  Média  \n",
              "Amanda           6.44   6.90  \n",
              "Camila           9.16   8.42  \n",
              "Cinthia          6.84   7.86  \n",
              "Gisele           9.55   7.85  \n",
              "Helen            8.40   7.11  \n",
              "Carol            6.90   7.16  \n",
              "Clara            6.52   7.34  \n",
              "Paula            7.61   8.97  "
            ],
            "text/html": [
              "\n",
              "  <div id=\"df-fff273f4-bf4c-4cb3-abe5-c8e636504662\">\n",
              "    <div class=\"colab-df-container\">\n",
              "      <div>\n",
              "<style scoped>\n",
              "    .dataframe tbody tr th:only-of-type {\n",
              "        vertical-align: middle;\n",
              "    }\n",
              "\n",
              "    .dataframe tbody tr th {\n",
              "        vertical-align: top;\n",
              "    }\n",
              "\n",
              "    .dataframe thead th {\n",
              "        text-align: right;\n",
              "    }\n",
              "</style>\n",
              "<table border=\"1\" class=\"dataframe\">\n",
              "  <thead>\n",
              "    <tr style=\"text-align: right;\">\n",
              "      <th></th>\n",
              "      <th>Lógica de Programação</th>\n",
              "      <th>Python</th>\n",
              "      <th>Data Science</th>\n",
              "      <th>HTML &amp; CSS</th>\n",
              "      <th>JavaScript</th>\n",
              "      <th>React Native</th>\n",
              "      <th>Média</th>\n",
              "    </tr>\n",
              "  </thead>\n",
              "  <tbody>\n",
              "    <tr>\n",
              "      <th>Amanda</th>\n",
              "      <td>6.91</td>\n",
              "      <td>7.54</td>\n",
              "      <td>5.17</td>\n",
              "      <td>7.58</td>\n",
              "      <td>7.79</td>\n",
              "      <td>6.44</td>\n",
              "      <td>6.90</td>\n",
              "    </tr>\n",
              "    <tr>\n",
              "      <th>Camila</th>\n",
              "      <td>9.20</td>\n",
              "      <td>9.19</td>\n",
              "      <td>7.25</td>\n",
              "      <td>8.32</td>\n",
              "      <td>7.41</td>\n",
              "      <td>9.16</td>\n",
              "      <td>8.42</td>\n",
              "    </tr>\n",
              "    <tr>\n",
              "      <th>Cinthia</th>\n",
              "      <td>6.59</td>\n",
              "      <td>7.80</td>\n",
              "      <td>8.18</td>\n",
              "      <td>8.09</td>\n",
              "      <td>9.66</td>\n",
              "      <td>6.84</td>\n",
              "      <td>7.86</td>\n",
              "    </tr>\n",
              "    <tr>\n",
              "      <th>Gisele</th>\n",
              "      <td>8.85</td>\n",
              "      <td>6.85</td>\n",
              "      <td>6.47</td>\n",
              "      <td>8.19</td>\n",
              "      <td>7.19</td>\n",
              "      <td>9.55</td>\n",
              "      <td>7.85</td>\n",
              "    </tr>\n",
              "    <tr>\n",
              "      <th>Helen</th>\n",
              "      <td>5.25</td>\n",
              "      <td>8.37</td>\n",
              "      <td>7.69</td>\n",
              "      <td>5.79</td>\n",
              "      <td>7.17</td>\n",
              "      <td>8.40</td>\n",
              "      <td>7.11</td>\n",
              "    </tr>\n",
              "    <tr>\n",
              "      <th>Carol</th>\n",
              "      <td>9.28</td>\n",
              "      <td>8.17</td>\n",
              "      <td>5.45</td>\n",
              "      <td>6.97</td>\n",
              "      <td>6.20</td>\n",
              "      <td>6.90</td>\n",
              "      <td>7.16</td>\n",
              "    </tr>\n",
              "    <tr>\n",
              "      <th>Clara</th>\n",
              "      <td>9.84</td>\n",
              "      <td>5.58</td>\n",
              "      <td>6.25</td>\n",
              "      <td>8.45</td>\n",
              "      <td>7.38</td>\n",
              "      <td>6.52</td>\n",
              "      <td>7.34</td>\n",
              "    </tr>\n",
              "    <tr>\n",
              "      <th>Paula</th>\n",
              "      <td>8.48</td>\n",
              "      <td>9.54</td>\n",
              "      <td>9.48</td>\n",
              "      <td>8.96</td>\n",
              "      <td>9.77</td>\n",
              "      <td>7.61</td>\n",
              "      <td>8.97</td>\n",
              "    </tr>\n",
              "  </tbody>\n",
              "</table>\n",
              "</div>\n",
              "      <button class=\"colab-df-convert\" onclick=\"convertToInteractive('df-fff273f4-bf4c-4cb3-abe5-c8e636504662')\"\n",
              "              title=\"Convert this dataframe to an interactive table.\"\n",
              "              style=\"display:none;\">\n",
              "        \n",
              "  <svg xmlns=\"http://www.w3.org/2000/svg\" height=\"24px\"viewBox=\"0 0 24 24\"\n",
              "       width=\"24px\">\n",
              "    <path d=\"M0 0h24v24H0V0z\" fill=\"none\"/>\n",
              "    <path d=\"M18.56 5.44l.94 2.06.94-2.06 2.06-.94-2.06-.94-.94-2.06-.94 2.06-2.06.94zm-11 1L8.5 8.5l.94-2.06 2.06-.94-2.06-.94L8.5 2.5l-.94 2.06-2.06.94zm10 10l.94 2.06.94-2.06 2.06-.94-2.06-.94-.94-2.06-.94 2.06-2.06.94z\"/><path d=\"M17.41 7.96l-1.37-1.37c-.4-.4-.92-.59-1.43-.59-.52 0-1.04.2-1.43.59L10.3 9.45l-7.72 7.72c-.78.78-.78 2.05 0 2.83L4 21.41c.39.39.9.59 1.41.59.51 0 1.02-.2 1.41-.59l7.78-7.78 2.81-2.81c.8-.78.8-2.07 0-2.86zM5.41 20L4 18.59l7.72-7.72 1.47 1.35L5.41 20z\"/>\n",
              "  </svg>\n",
              "      </button>\n",
              "      \n",
              "  <style>\n",
              "    .colab-df-container {\n",
              "      display:flex;\n",
              "      flex-wrap:wrap;\n",
              "      gap: 12px;\n",
              "    }\n",
              "\n",
              "    .colab-df-convert {\n",
              "      background-color: #E8F0FE;\n",
              "      border: none;\n",
              "      border-radius: 50%;\n",
              "      cursor: pointer;\n",
              "      display: none;\n",
              "      fill: #1967D2;\n",
              "      height: 32px;\n",
              "      padding: 0 0 0 0;\n",
              "      width: 32px;\n",
              "    }\n",
              "\n",
              "    .colab-df-convert:hover {\n",
              "      background-color: #E2EBFA;\n",
              "      box-shadow: 0px 1px 2px rgba(60, 64, 67, 0.3), 0px 1px 3px 1px rgba(60, 64, 67, 0.15);\n",
              "      fill: #174EA6;\n",
              "    }\n",
              "\n",
              "    [theme=dark] .colab-df-convert {\n",
              "      background-color: #3B4455;\n",
              "      fill: #D2E3FC;\n",
              "    }\n",
              "\n",
              "    [theme=dark] .colab-df-convert:hover {\n",
              "      background-color: #434B5C;\n",
              "      box-shadow: 0px 1px 3px 1px rgba(0, 0, 0, 0.15);\n",
              "      filter: drop-shadow(0px 1px 2px rgba(0, 0, 0, 0.3));\n",
              "      fill: #FFFFFF;\n",
              "    }\n",
              "  </style>\n",
              "\n",
              "      <script>\n",
              "        const buttonEl =\n",
              "          document.querySelector('#df-fff273f4-bf4c-4cb3-abe5-c8e636504662 button.colab-df-convert');\n",
              "        buttonEl.style.display =\n",
              "          google.colab.kernel.accessAllowed ? 'block' : 'none';\n",
              "\n",
              "        async function convertToInteractive(key) {\n",
              "          const element = document.querySelector('#df-fff273f4-bf4c-4cb3-abe5-c8e636504662');\n",
              "          const dataTable =\n",
              "            await google.colab.kernel.invokeFunction('convertToInteractive',\n",
              "                                                     [key], {});\n",
              "          if (!dataTable) return;\n",
              "\n",
              "          const docLinkHtml = 'Like what you see? Visit the ' +\n",
              "            '<a target=\"_blank\" href=https://colab.research.google.com/notebooks/data_table.ipynb>data table notebook</a>'\n",
              "            + ' to learn more about interactive tables.';\n",
              "          element.innerHTML = '';\n",
              "          dataTable['output_type'] = 'display_data';\n",
              "          await google.colab.output.renderOutput(dataTable, element);\n",
              "          const docLink = document.createElement('div');\n",
              "          docLink.innerHTML = docLinkHtml;\n",
              "          element.appendChild(docLink);\n",
              "        }\n",
              "      </script>\n",
              "    </div>\n",
              "  </div>\n",
              "  "
            ]
          },
          "metadata": {},
          "execution_count": 7
        }
      ]
    },
    {
      "cell_type": "markdown",
      "source": [
        "__LEMBRE-SE__ : se precisar de ajuda para ver a _assinatura_ da função _mean_, basta colocar o ponto de interrogação após o método"
      ],
      "metadata": {
        "id": "hYxyEbE9P79O"
      }
    },
    {
      "cell_type": "code",
      "source": [
        "dfs.mean?"
      ],
      "metadata": {
        "id": "XBp9Pe7-swRZ"
      },
      "execution_count": null,
      "outputs": []
    },
    {
      "cell_type": "markdown",
      "source": [
        "Com a coluna _média_ criada e devidamente calculada, desejamos criar uma nova coluna para termos a situação de cada aluna com base na média da mesma.\n",
        "\n",
        "Assim, criaremos uma coluna chamada _situação_ que receberá AP se a média for maior que 7 e RP se for menor que 7.\n",
        "\n",
        "Usaremos o método _map_ e a expressão _lambda_ que vimos na aula passada."
      ],
      "metadata": {
        "id": "IztiB5AsWbwk"
      }
    },
    {
      "cell_type": "code",
      "source": [
        "dfs['Situação'] = dfs['Média'].map(lambda media: 'AP' if media > 7 else 'RP')\n",
        "dfs"
      ],
      "metadata": {
        "id": "EQi2pIOeLkZp",
        "colab": {
          "base_uri": "https://localhost:8080/",
          "height": 300
        },
        "outputId": "e9759455-8793-4022-c4de-ca149d20a84f"
      },
      "execution_count": null,
      "outputs": [
        {
          "output_type": "execute_result",
          "data": {
            "text/plain": [
              "         Lógica de Programação  Python  Data Science  HTML & CSS  JavaScript  \\\n",
              "Amanda                    6.91    7.54          5.17        7.58        7.79   \n",
              "Camila                    9.20    9.19          7.25        8.32        7.41   \n",
              "Cinthia                   6.59    7.80          8.18        8.09        9.66   \n",
              "Gisele                    8.85    6.85          6.47        8.19        7.19   \n",
              "Helen                     5.25    8.37          7.69        5.79        7.17   \n",
              "Carol                     9.28    8.17          5.45        6.97        6.20   \n",
              "Clara                     9.84    5.58          6.25        8.45        7.38   \n",
              "Paula                     8.48    9.54          9.48        8.96        9.77   \n",
              "\n",
              "         React Native  Média Situação  \n",
              "Amanda           6.44   6.90       RP  \n",
              "Camila           9.16   8.42       AP  \n",
              "Cinthia          6.84   7.86       AP  \n",
              "Gisele           9.55   7.85       AP  \n",
              "Helen            8.40   7.11       AP  \n",
              "Carol            6.90   7.16       AP  \n",
              "Clara            6.52   7.34       AP  \n",
              "Paula            7.61   8.97       AP  "
            ],
            "text/html": [
              "\n",
              "  <div id=\"df-ffa184ad-839f-4495-9f90-0902f40657aa\">\n",
              "    <div class=\"colab-df-container\">\n",
              "      <div>\n",
              "<style scoped>\n",
              "    .dataframe tbody tr th:only-of-type {\n",
              "        vertical-align: middle;\n",
              "    }\n",
              "\n",
              "    .dataframe tbody tr th {\n",
              "        vertical-align: top;\n",
              "    }\n",
              "\n",
              "    .dataframe thead th {\n",
              "        text-align: right;\n",
              "    }\n",
              "</style>\n",
              "<table border=\"1\" class=\"dataframe\">\n",
              "  <thead>\n",
              "    <tr style=\"text-align: right;\">\n",
              "      <th></th>\n",
              "      <th>Lógica de Programação</th>\n",
              "      <th>Python</th>\n",
              "      <th>Data Science</th>\n",
              "      <th>HTML &amp; CSS</th>\n",
              "      <th>JavaScript</th>\n",
              "      <th>React Native</th>\n",
              "      <th>Média</th>\n",
              "      <th>Situação</th>\n",
              "    </tr>\n",
              "  </thead>\n",
              "  <tbody>\n",
              "    <tr>\n",
              "      <th>Amanda</th>\n",
              "      <td>6.91</td>\n",
              "      <td>7.54</td>\n",
              "      <td>5.17</td>\n",
              "      <td>7.58</td>\n",
              "      <td>7.79</td>\n",
              "      <td>6.44</td>\n",
              "      <td>6.90</td>\n",
              "      <td>RP</td>\n",
              "    </tr>\n",
              "    <tr>\n",
              "      <th>Camila</th>\n",
              "      <td>9.20</td>\n",
              "      <td>9.19</td>\n",
              "      <td>7.25</td>\n",
              "      <td>8.32</td>\n",
              "      <td>7.41</td>\n",
              "      <td>9.16</td>\n",
              "      <td>8.42</td>\n",
              "      <td>AP</td>\n",
              "    </tr>\n",
              "    <tr>\n",
              "      <th>Cinthia</th>\n",
              "      <td>6.59</td>\n",
              "      <td>7.80</td>\n",
              "      <td>8.18</td>\n",
              "      <td>8.09</td>\n",
              "      <td>9.66</td>\n",
              "      <td>6.84</td>\n",
              "      <td>7.86</td>\n",
              "      <td>AP</td>\n",
              "    </tr>\n",
              "    <tr>\n",
              "      <th>Gisele</th>\n",
              "      <td>8.85</td>\n",
              "      <td>6.85</td>\n",
              "      <td>6.47</td>\n",
              "      <td>8.19</td>\n",
              "      <td>7.19</td>\n",
              "      <td>9.55</td>\n",
              "      <td>7.85</td>\n",
              "      <td>AP</td>\n",
              "    </tr>\n",
              "    <tr>\n",
              "      <th>Helen</th>\n",
              "      <td>5.25</td>\n",
              "      <td>8.37</td>\n",
              "      <td>7.69</td>\n",
              "      <td>5.79</td>\n",
              "      <td>7.17</td>\n",
              "      <td>8.40</td>\n",
              "      <td>7.11</td>\n",
              "      <td>AP</td>\n",
              "    </tr>\n",
              "    <tr>\n",
              "      <th>Carol</th>\n",
              "      <td>9.28</td>\n",
              "      <td>8.17</td>\n",
              "      <td>5.45</td>\n",
              "      <td>6.97</td>\n",
              "      <td>6.20</td>\n",
              "      <td>6.90</td>\n",
              "      <td>7.16</td>\n",
              "      <td>AP</td>\n",
              "    </tr>\n",
              "    <tr>\n",
              "      <th>Clara</th>\n",
              "      <td>9.84</td>\n",
              "      <td>5.58</td>\n",
              "      <td>6.25</td>\n",
              "      <td>8.45</td>\n",
              "      <td>7.38</td>\n",
              "      <td>6.52</td>\n",
              "      <td>7.34</td>\n",
              "      <td>AP</td>\n",
              "    </tr>\n",
              "    <tr>\n",
              "      <th>Paula</th>\n",
              "      <td>8.48</td>\n",
              "      <td>9.54</td>\n",
              "      <td>9.48</td>\n",
              "      <td>8.96</td>\n",
              "      <td>9.77</td>\n",
              "      <td>7.61</td>\n",
              "      <td>8.97</td>\n",
              "      <td>AP</td>\n",
              "    </tr>\n",
              "  </tbody>\n",
              "</table>\n",
              "</div>\n",
              "      <button class=\"colab-df-convert\" onclick=\"convertToInteractive('df-ffa184ad-839f-4495-9f90-0902f40657aa')\"\n",
              "              title=\"Convert this dataframe to an interactive table.\"\n",
              "              style=\"display:none;\">\n",
              "        \n",
              "  <svg xmlns=\"http://www.w3.org/2000/svg\" height=\"24px\"viewBox=\"0 0 24 24\"\n",
              "       width=\"24px\">\n",
              "    <path d=\"M0 0h24v24H0V0z\" fill=\"none\"/>\n",
              "    <path d=\"M18.56 5.44l.94 2.06.94-2.06 2.06-.94-2.06-.94-.94-2.06-.94 2.06-2.06.94zm-11 1L8.5 8.5l.94-2.06 2.06-.94-2.06-.94L8.5 2.5l-.94 2.06-2.06.94zm10 10l.94 2.06.94-2.06 2.06-.94-2.06-.94-.94-2.06-.94 2.06-2.06.94z\"/><path d=\"M17.41 7.96l-1.37-1.37c-.4-.4-.92-.59-1.43-.59-.52 0-1.04.2-1.43.59L10.3 9.45l-7.72 7.72c-.78.78-.78 2.05 0 2.83L4 21.41c.39.39.9.59 1.41.59.51 0 1.02-.2 1.41-.59l7.78-7.78 2.81-2.81c.8-.78.8-2.07 0-2.86zM5.41 20L4 18.59l7.72-7.72 1.47 1.35L5.41 20z\"/>\n",
              "  </svg>\n",
              "      </button>\n",
              "      \n",
              "  <style>\n",
              "    .colab-df-container {\n",
              "      display:flex;\n",
              "      flex-wrap:wrap;\n",
              "      gap: 12px;\n",
              "    }\n",
              "\n",
              "    .colab-df-convert {\n",
              "      background-color: #E8F0FE;\n",
              "      border: none;\n",
              "      border-radius: 50%;\n",
              "      cursor: pointer;\n",
              "      display: none;\n",
              "      fill: #1967D2;\n",
              "      height: 32px;\n",
              "      padding: 0 0 0 0;\n",
              "      width: 32px;\n",
              "    }\n",
              "\n",
              "    .colab-df-convert:hover {\n",
              "      background-color: #E2EBFA;\n",
              "      box-shadow: 0px 1px 2px rgba(60, 64, 67, 0.3), 0px 1px 3px 1px rgba(60, 64, 67, 0.15);\n",
              "      fill: #174EA6;\n",
              "    }\n",
              "\n",
              "    [theme=dark] .colab-df-convert {\n",
              "      background-color: #3B4455;\n",
              "      fill: #D2E3FC;\n",
              "    }\n",
              "\n",
              "    [theme=dark] .colab-df-convert:hover {\n",
              "      background-color: #434B5C;\n",
              "      box-shadow: 0px 1px 3px 1px rgba(0, 0, 0, 0.15);\n",
              "      filter: drop-shadow(0px 1px 2px rgba(0, 0, 0, 0.3));\n",
              "      fill: #FFFFFF;\n",
              "    }\n",
              "  </style>\n",
              "\n",
              "      <script>\n",
              "        const buttonEl =\n",
              "          document.querySelector('#df-ffa184ad-839f-4495-9f90-0902f40657aa button.colab-df-convert');\n",
              "        buttonEl.style.display =\n",
              "          google.colab.kernel.accessAllowed ? 'block' : 'none';\n",
              "\n",
              "        async function convertToInteractive(key) {\n",
              "          const element = document.querySelector('#df-ffa184ad-839f-4495-9f90-0902f40657aa');\n",
              "          const dataTable =\n",
              "            await google.colab.kernel.invokeFunction('convertToInteractive',\n",
              "                                                     [key], {});\n",
              "          if (!dataTable) return;\n",
              "\n",
              "          const docLinkHtml = 'Like what you see? Visit the ' +\n",
              "            '<a target=\"_blank\" href=https://colab.research.google.com/notebooks/data_table.ipynb>data table notebook</a>'\n",
              "            + ' to learn more about interactive tables.';\n",
              "          element.innerHTML = '';\n",
              "          dataTable['output_type'] = 'display_data';\n",
              "          await google.colab.output.renderOutput(dataTable, element);\n",
              "          const docLink = document.createElement('div');\n",
              "          docLink.innerHTML = docLinkHtml;\n",
              "          element.appendChild(docLink);\n",
              "        }\n",
              "      </script>\n",
              "    </div>\n",
              "  </div>\n",
              "  "
            ]
          },
          "metadata": {},
          "execution_count": 9
        }
      ]
    },
    {
      "cell_type": "markdown",
      "source": [
        "Para ajuda sobre o método map"
      ],
      "metadata": {
        "id": "x_af3bOeXKUV"
      }
    },
    {
      "cell_type": "code",
      "source": [
        "dfs['Média'].map?"
      ],
      "metadata": {
        "id": "SC2_1gGIvRWv"
      },
      "execution_count": null,
      "outputs": []
    },
    {
      "cell_type": "markdown",
      "source": [
        "Repare que as 2 colunas recentemente criadas foram para o final do _DataFrame_. \n",
        "\n",
        "E se quisermos inserir uma coluna em outra posição?\n",
        "\n",
        "Devemos usar o método _insert_ passando o índice em que essa nova coluna deverá ser inserida.\n",
        "\n",
        "No caso abaixo, queremos a coluna status na primeira posição, assim, como python tem indexação iniciada por 0, devemos passar o valor 0 para o método _insert_"
      ],
      "metadata": {
        "id": "IEKAAPjqXRhe"
      }
    },
    {
      "cell_type": "code",
      "source": [
        "situacao = dfs['Média'].map(lambda media: 'AP' if media > 7 else 'RP')\n",
        "dfs.insert(0, 'Status', situacao)\n",
        "dfs"
      ],
      "metadata": {
        "id": "gjdErZRQMEv4",
        "colab": {
          "base_uri": "https://localhost:8080/",
          "height": 344
        },
        "outputId": "3e906124-551b-4c4c-c2ee-3a937275a597"
      },
      "execution_count": null,
      "outputs": [
        {
          "output_type": "execute_result",
          "data": {
            "text/plain": [
              "        Status  Lógica de Programação  Python  Data Science  HTML & CSS  \\\n",
              "Amanda      RP                   6.91    7.54          5.17        7.58   \n",
              "Camila      AP                   9.20    9.19          7.25        8.32   \n",
              "Cinthia     AP                   6.59    7.80          8.18        8.09   \n",
              "Gisele      AP                   8.85    6.85          6.47        8.19   \n",
              "Helen       AP                   5.25    8.37          7.69        5.79   \n",
              "Carol       AP                   9.28    8.17          5.45        6.97   \n",
              "Clara       AP                   9.84    5.58          6.25        8.45   \n",
              "Paula       AP                   8.48    9.54          9.48        8.96   \n",
              "\n",
              "         JavaScript  React Native  Média Situação  \n",
              "Amanda         7.79          6.44   6.90       RP  \n",
              "Camila         7.41          9.16   8.42       AP  \n",
              "Cinthia        9.66          6.84   7.86       AP  \n",
              "Gisele         7.19          9.55   7.85       AP  \n",
              "Helen          7.17          8.40   7.11       AP  \n",
              "Carol          6.20          6.90   7.16       AP  \n",
              "Clara          7.38          6.52   7.34       AP  \n",
              "Paula          9.77          7.61   8.97       AP  "
            ],
            "text/html": [
              "\n",
              "  <div id=\"df-2e99c910-35d5-4c89-a827-abdc402e8b6e\">\n",
              "    <div class=\"colab-df-container\">\n",
              "      <div>\n",
              "<style scoped>\n",
              "    .dataframe tbody tr th:only-of-type {\n",
              "        vertical-align: middle;\n",
              "    }\n",
              "\n",
              "    .dataframe tbody tr th {\n",
              "        vertical-align: top;\n",
              "    }\n",
              "\n",
              "    .dataframe thead th {\n",
              "        text-align: right;\n",
              "    }\n",
              "</style>\n",
              "<table border=\"1\" class=\"dataframe\">\n",
              "  <thead>\n",
              "    <tr style=\"text-align: right;\">\n",
              "      <th></th>\n",
              "      <th>Status</th>\n",
              "      <th>Lógica de Programação</th>\n",
              "      <th>Python</th>\n",
              "      <th>Data Science</th>\n",
              "      <th>HTML &amp; CSS</th>\n",
              "      <th>JavaScript</th>\n",
              "      <th>React Native</th>\n",
              "      <th>Média</th>\n",
              "      <th>Situação</th>\n",
              "    </tr>\n",
              "  </thead>\n",
              "  <tbody>\n",
              "    <tr>\n",
              "      <th>Amanda</th>\n",
              "      <td>RP</td>\n",
              "      <td>6.91</td>\n",
              "      <td>7.54</td>\n",
              "      <td>5.17</td>\n",
              "      <td>7.58</td>\n",
              "      <td>7.79</td>\n",
              "      <td>6.44</td>\n",
              "      <td>6.90</td>\n",
              "      <td>RP</td>\n",
              "    </tr>\n",
              "    <tr>\n",
              "      <th>Camila</th>\n",
              "      <td>AP</td>\n",
              "      <td>9.20</td>\n",
              "      <td>9.19</td>\n",
              "      <td>7.25</td>\n",
              "      <td>8.32</td>\n",
              "      <td>7.41</td>\n",
              "      <td>9.16</td>\n",
              "      <td>8.42</td>\n",
              "      <td>AP</td>\n",
              "    </tr>\n",
              "    <tr>\n",
              "      <th>Cinthia</th>\n",
              "      <td>AP</td>\n",
              "      <td>6.59</td>\n",
              "      <td>7.80</td>\n",
              "      <td>8.18</td>\n",
              "      <td>8.09</td>\n",
              "      <td>9.66</td>\n",
              "      <td>6.84</td>\n",
              "      <td>7.86</td>\n",
              "      <td>AP</td>\n",
              "    </tr>\n",
              "    <tr>\n",
              "      <th>Gisele</th>\n",
              "      <td>AP</td>\n",
              "      <td>8.85</td>\n",
              "      <td>6.85</td>\n",
              "      <td>6.47</td>\n",
              "      <td>8.19</td>\n",
              "      <td>7.19</td>\n",
              "      <td>9.55</td>\n",
              "      <td>7.85</td>\n",
              "      <td>AP</td>\n",
              "    </tr>\n",
              "    <tr>\n",
              "      <th>Helen</th>\n",
              "      <td>AP</td>\n",
              "      <td>5.25</td>\n",
              "      <td>8.37</td>\n",
              "      <td>7.69</td>\n",
              "      <td>5.79</td>\n",
              "      <td>7.17</td>\n",
              "      <td>8.40</td>\n",
              "      <td>7.11</td>\n",
              "      <td>AP</td>\n",
              "    </tr>\n",
              "    <tr>\n",
              "      <th>Carol</th>\n",
              "      <td>AP</td>\n",
              "      <td>9.28</td>\n",
              "      <td>8.17</td>\n",
              "      <td>5.45</td>\n",
              "      <td>6.97</td>\n",
              "      <td>6.20</td>\n",
              "      <td>6.90</td>\n",
              "      <td>7.16</td>\n",
              "      <td>AP</td>\n",
              "    </tr>\n",
              "    <tr>\n",
              "      <th>Clara</th>\n",
              "      <td>AP</td>\n",
              "      <td>9.84</td>\n",
              "      <td>5.58</td>\n",
              "      <td>6.25</td>\n",
              "      <td>8.45</td>\n",
              "      <td>7.38</td>\n",
              "      <td>6.52</td>\n",
              "      <td>7.34</td>\n",
              "      <td>AP</td>\n",
              "    </tr>\n",
              "    <tr>\n",
              "      <th>Paula</th>\n",
              "      <td>AP</td>\n",
              "      <td>8.48</td>\n",
              "      <td>9.54</td>\n",
              "      <td>9.48</td>\n",
              "      <td>8.96</td>\n",
              "      <td>9.77</td>\n",
              "      <td>7.61</td>\n",
              "      <td>8.97</td>\n",
              "      <td>AP</td>\n",
              "    </tr>\n",
              "  </tbody>\n",
              "</table>\n",
              "</div>\n",
              "      <button class=\"colab-df-convert\" onclick=\"convertToInteractive('df-2e99c910-35d5-4c89-a827-abdc402e8b6e')\"\n",
              "              title=\"Convert this dataframe to an interactive table.\"\n",
              "              style=\"display:none;\">\n",
              "        \n",
              "  <svg xmlns=\"http://www.w3.org/2000/svg\" height=\"24px\"viewBox=\"0 0 24 24\"\n",
              "       width=\"24px\">\n",
              "    <path d=\"M0 0h24v24H0V0z\" fill=\"none\"/>\n",
              "    <path d=\"M18.56 5.44l.94 2.06.94-2.06 2.06-.94-2.06-.94-.94-2.06-.94 2.06-2.06.94zm-11 1L8.5 8.5l.94-2.06 2.06-.94-2.06-.94L8.5 2.5l-.94 2.06-2.06.94zm10 10l.94 2.06.94-2.06 2.06-.94-2.06-.94-.94-2.06-.94 2.06-2.06.94z\"/><path d=\"M17.41 7.96l-1.37-1.37c-.4-.4-.92-.59-1.43-.59-.52 0-1.04.2-1.43.59L10.3 9.45l-7.72 7.72c-.78.78-.78 2.05 0 2.83L4 21.41c.39.39.9.59 1.41.59.51 0 1.02-.2 1.41-.59l7.78-7.78 2.81-2.81c.8-.78.8-2.07 0-2.86zM5.41 20L4 18.59l7.72-7.72 1.47 1.35L5.41 20z\"/>\n",
              "  </svg>\n",
              "      </button>\n",
              "      \n",
              "  <style>\n",
              "    .colab-df-container {\n",
              "      display:flex;\n",
              "      flex-wrap:wrap;\n",
              "      gap: 12px;\n",
              "    }\n",
              "\n",
              "    .colab-df-convert {\n",
              "      background-color: #E8F0FE;\n",
              "      border: none;\n",
              "      border-radius: 50%;\n",
              "      cursor: pointer;\n",
              "      display: none;\n",
              "      fill: #1967D2;\n",
              "      height: 32px;\n",
              "      padding: 0 0 0 0;\n",
              "      width: 32px;\n",
              "    }\n",
              "\n",
              "    .colab-df-convert:hover {\n",
              "      background-color: #E2EBFA;\n",
              "      box-shadow: 0px 1px 2px rgba(60, 64, 67, 0.3), 0px 1px 3px 1px rgba(60, 64, 67, 0.15);\n",
              "      fill: #174EA6;\n",
              "    }\n",
              "\n",
              "    [theme=dark] .colab-df-convert {\n",
              "      background-color: #3B4455;\n",
              "      fill: #D2E3FC;\n",
              "    }\n",
              "\n",
              "    [theme=dark] .colab-df-convert:hover {\n",
              "      background-color: #434B5C;\n",
              "      box-shadow: 0px 1px 3px 1px rgba(0, 0, 0, 0.15);\n",
              "      filter: drop-shadow(0px 1px 2px rgba(0, 0, 0, 0.3));\n",
              "      fill: #FFFFFF;\n",
              "    }\n",
              "  </style>\n",
              "\n",
              "      <script>\n",
              "        const buttonEl =\n",
              "          document.querySelector('#df-2e99c910-35d5-4c89-a827-abdc402e8b6e button.colab-df-convert');\n",
              "        buttonEl.style.display =\n",
              "          google.colab.kernel.accessAllowed ? 'block' : 'none';\n",
              "\n",
              "        async function convertToInteractive(key) {\n",
              "          const element = document.querySelector('#df-2e99c910-35d5-4c89-a827-abdc402e8b6e');\n",
              "          const dataTable =\n",
              "            await google.colab.kernel.invokeFunction('convertToInteractive',\n",
              "                                                     [key], {});\n",
              "          if (!dataTable) return;\n",
              "\n",
              "          const docLinkHtml = 'Like what you see? Visit the ' +\n",
              "            '<a target=\"_blank\" href=https://colab.research.google.com/notebooks/data_table.ipynb>data table notebook</a>'\n",
              "            + ' to learn more about interactive tables.';\n",
              "          element.innerHTML = '';\n",
              "          dataTable['output_type'] = 'display_data';\n",
              "          await google.colab.output.renderOutput(dataTable, element);\n",
              "          const docLink = document.createElement('div');\n",
              "          docLink.innerHTML = docLinkHtml;\n",
              "          element.appendChild(docLink);\n",
              "        }\n",
              "      </script>\n",
              "    </div>\n",
              "  </div>\n",
              "  "
            ]
          },
          "metadata": {},
          "execution_count": 10
        }
      ]
    },
    {
      "cell_type": "markdown",
      "source": [
        "#### Rename"
      ],
      "metadata": {
        "id": "ub5BavBK1QiE"
      }
    },
    {
      "cell_type": "code",
      "source": [
        "df.rename?"
      ],
      "metadata": {
        "id": "uuVB0rhwix75"
      },
      "execution_count": null,
      "outputs": []
    },
    {
      "cell_type": "code",
      "source": [
        "df"
      ],
      "metadata": {
        "colab": {
          "base_uri": "https://localhost:8080/",
          "height": 269
        },
        "id": "QVwGWVRKwfIf",
        "outputId": "0ce3eadd-347b-4751-a14a-f4e476d946a5"
      },
      "execution_count": null,
      "outputs": [
        {
          "output_type": "execute_result",
          "data": {
            "text/plain": [
              "    Linguagem Popularidade  Versão  Desenvolvedores Data de Lançamento\n",
              "0      Python         Alta    3.10          7000000         1991-02-20\n",
              "1           R        Baixa    4.20           500000         1993-08-03\n",
              "2         SQL    Altíssima     NaN         20000000         1986-01-01\n",
              "3           C        Média     NaN          3500000         1972-01-01\n",
              "4        Java    Altíssima   11.00         16000000         1995-05-23\n",
              "5  Javascript    Altíssima   16.00         25000000         1995-12-04\n",
              "6      Elixir        Baixa    1.12           200000         2012-01-01"
            ],
            "text/html": [
              "\n",
              "  <div id=\"df-a5c591fa-ca98-4c2f-8a30-d65112abbe7c\">\n",
              "    <div class=\"colab-df-container\">\n",
              "      <div>\n",
              "<style scoped>\n",
              "    .dataframe tbody tr th:only-of-type {\n",
              "        vertical-align: middle;\n",
              "    }\n",
              "\n",
              "    .dataframe tbody tr th {\n",
              "        vertical-align: top;\n",
              "    }\n",
              "\n",
              "    .dataframe thead th {\n",
              "        text-align: right;\n",
              "    }\n",
              "</style>\n",
              "<table border=\"1\" class=\"dataframe\">\n",
              "  <thead>\n",
              "    <tr style=\"text-align: right;\">\n",
              "      <th></th>\n",
              "      <th>Linguagem</th>\n",
              "      <th>Popularidade</th>\n",
              "      <th>Versão</th>\n",
              "      <th>Desenvolvedores</th>\n",
              "      <th>Data de Lançamento</th>\n",
              "    </tr>\n",
              "  </thead>\n",
              "  <tbody>\n",
              "    <tr>\n",
              "      <th>0</th>\n",
              "      <td>Python</td>\n",
              "      <td>Alta</td>\n",
              "      <td>3.10</td>\n",
              "      <td>7000000</td>\n",
              "      <td>1991-02-20</td>\n",
              "    </tr>\n",
              "    <tr>\n",
              "      <th>1</th>\n",
              "      <td>R</td>\n",
              "      <td>Baixa</td>\n",
              "      <td>4.20</td>\n",
              "      <td>500000</td>\n",
              "      <td>1993-08-03</td>\n",
              "    </tr>\n",
              "    <tr>\n",
              "      <th>2</th>\n",
              "      <td>SQL</td>\n",
              "      <td>Altíssima</td>\n",
              "      <td>NaN</td>\n",
              "      <td>20000000</td>\n",
              "      <td>1986-01-01</td>\n",
              "    </tr>\n",
              "    <tr>\n",
              "      <th>3</th>\n",
              "      <td>C</td>\n",
              "      <td>Média</td>\n",
              "      <td>NaN</td>\n",
              "      <td>3500000</td>\n",
              "      <td>1972-01-01</td>\n",
              "    </tr>\n",
              "    <tr>\n",
              "      <th>4</th>\n",
              "      <td>Java</td>\n",
              "      <td>Altíssima</td>\n",
              "      <td>11.00</td>\n",
              "      <td>16000000</td>\n",
              "      <td>1995-05-23</td>\n",
              "    </tr>\n",
              "    <tr>\n",
              "      <th>5</th>\n",
              "      <td>Javascript</td>\n",
              "      <td>Altíssima</td>\n",
              "      <td>16.00</td>\n",
              "      <td>25000000</td>\n",
              "      <td>1995-12-04</td>\n",
              "    </tr>\n",
              "    <tr>\n",
              "      <th>6</th>\n",
              "      <td>Elixir</td>\n",
              "      <td>Baixa</td>\n",
              "      <td>1.12</td>\n",
              "      <td>200000</td>\n",
              "      <td>2012-01-01</td>\n",
              "    </tr>\n",
              "  </tbody>\n",
              "</table>\n",
              "</div>\n",
              "      <button class=\"colab-df-convert\" onclick=\"convertToInteractive('df-a5c591fa-ca98-4c2f-8a30-d65112abbe7c')\"\n",
              "              title=\"Convert this dataframe to an interactive table.\"\n",
              "              style=\"display:none;\">\n",
              "        \n",
              "  <svg xmlns=\"http://www.w3.org/2000/svg\" height=\"24px\"viewBox=\"0 0 24 24\"\n",
              "       width=\"24px\">\n",
              "    <path d=\"M0 0h24v24H0V0z\" fill=\"none\"/>\n",
              "    <path d=\"M18.56 5.44l.94 2.06.94-2.06 2.06-.94-2.06-.94-.94-2.06-.94 2.06-2.06.94zm-11 1L8.5 8.5l.94-2.06 2.06-.94-2.06-.94L8.5 2.5l-.94 2.06-2.06.94zm10 10l.94 2.06.94-2.06 2.06-.94-2.06-.94-.94-2.06-.94 2.06-2.06.94z\"/><path d=\"M17.41 7.96l-1.37-1.37c-.4-.4-.92-.59-1.43-.59-.52 0-1.04.2-1.43.59L10.3 9.45l-7.72 7.72c-.78.78-.78 2.05 0 2.83L4 21.41c.39.39.9.59 1.41.59.51 0 1.02-.2 1.41-.59l7.78-7.78 2.81-2.81c.8-.78.8-2.07 0-2.86zM5.41 20L4 18.59l7.72-7.72 1.47 1.35L5.41 20z\"/>\n",
              "  </svg>\n",
              "      </button>\n",
              "      \n",
              "  <style>\n",
              "    .colab-df-container {\n",
              "      display:flex;\n",
              "      flex-wrap:wrap;\n",
              "      gap: 12px;\n",
              "    }\n",
              "\n",
              "    .colab-df-convert {\n",
              "      background-color: #E8F0FE;\n",
              "      border: none;\n",
              "      border-radius: 50%;\n",
              "      cursor: pointer;\n",
              "      display: none;\n",
              "      fill: #1967D2;\n",
              "      height: 32px;\n",
              "      padding: 0 0 0 0;\n",
              "      width: 32px;\n",
              "    }\n",
              "\n",
              "    .colab-df-convert:hover {\n",
              "      background-color: #E2EBFA;\n",
              "      box-shadow: 0px 1px 2px rgba(60, 64, 67, 0.3), 0px 1px 3px 1px rgba(60, 64, 67, 0.15);\n",
              "      fill: #174EA6;\n",
              "    }\n",
              "\n",
              "    [theme=dark] .colab-df-convert {\n",
              "      background-color: #3B4455;\n",
              "      fill: #D2E3FC;\n",
              "    }\n",
              "\n",
              "    [theme=dark] .colab-df-convert:hover {\n",
              "      background-color: #434B5C;\n",
              "      box-shadow: 0px 1px 3px 1px rgba(0, 0, 0, 0.15);\n",
              "      filter: drop-shadow(0px 1px 2px rgba(0, 0, 0, 0.3));\n",
              "      fill: #FFFFFF;\n",
              "    }\n",
              "  </style>\n",
              "\n",
              "      <script>\n",
              "        const buttonEl =\n",
              "          document.querySelector('#df-a5c591fa-ca98-4c2f-8a30-d65112abbe7c button.colab-df-convert');\n",
              "        buttonEl.style.display =\n",
              "          google.colab.kernel.accessAllowed ? 'block' : 'none';\n",
              "\n",
              "        async function convertToInteractive(key) {\n",
              "          const element = document.querySelector('#df-a5c591fa-ca98-4c2f-8a30-d65112abbe7c');\n",
              "          const dataTable =\n",
              "            await google.colab.kernel.invokeFunction('convertToInteractive',\n",
              "                                                     [key], {});\n",
              "          if (!dataTable) return;\n",
              "\n",
              "          const docLinkHtml = 'Like what you see? Visit the ' +\n",
              "            '<a target=\"_blank\" href=https://colab.research.google.com/notebooks/data_table.ipynb>data table notebook</a>'\n",
              "            + ' to learn more about interactive tables.';\n",
              "          element.innerHTML = '';\n",
              "          dataTable['output_type'] = 'display_data';\n",
              "          await google.colab.output.renderOutput(dataTable, element);\n",
              "          const docLink = document.createElement('div');\n",
              "          docLink.innerHTML = docLinkHtml;\n",
              "          element.appendChild(docLink);\n",
              "        }\n",
              "      </script>\n",
              "    </div>\n",
              "  </div>\n",
              "  "
            ]
          },
          "metadata": {},
          "execution_count": 4
        }
      ]
    },
    {
      "cell_type": "markdown",
      "source": [
        "Renomearemos todas as colunas para letras maiúsculas fazendo a alteração em memória, `inplace=True` "
      ],
      "metadata": {
        "id": "6HQIQ7JyX7Av"
      }
    },
    {
      "cell_type": "code",
      "source": [
        "df.rename(str.upper, axis='columns', inplace=True)\n",
        "df"
      ],
      "metadata": {
        "id": "FSp9vtWf2B7-",
        "colab": {
          "base_uri": "https://localhost:8080/",
          "height": 269
        },
        "outputId": "c838fc6a-905e-43df-9bad-86d66e49fc9d"
      },
      "execution_count": null,
      "outputs": [
        {
          "output_type": "execute_result",
          "data": {
            "text/plain": [
              "    LINGUAGEM POPULARIDADE  VERSÃO  DESENVOLVEDORES DATA DE LANÇAMENTO\n",
              "0      Python         Alta    3.10          7000000         1991-02-20\n",
              "1           R        Baixa    4.20           500000         1993-08-03\n",
              "2         SQL    Altíssima     NaN         20000000         1986-01-01\n",
              "3           C        Média     NaN          3500000         1972-01-01\n",
              "4        Java    Altíssima   11.00         16000000         1995-05-23\n",
              "5  Javascript    Altíssima   16.00         25000000         1995-12-04\n",
              "6      Elixir        Baixa    1.12           200000         2012-01-01"
            ],
            "text/html": [
              "\n",
              "  <div id=\"df-1b93b217-eef2-4275-ba4a-734a5ae7a7aa\">\n",
              "    <div class=\"colab-df-container\">\n",
              "      <div>\n",
              "<style scoped>\n",
              "    .dataframe tbody tr th:only-of-type {\n",
              "        vertical-align: middle;\n",
              "    }\n",
              "\n",
              "    .dataframe tbody tr th {\n",
              "        vertical-align: top;\n",
              "    }\n",
              "\n",
              "    .dataframe thead th {\n",
              "        text-align: right;\n",
              "    }\n",
              "</style>\n",
              "<table border=\"1\" class=\"dataframe\">\n",
              "  <thead>\n",
              "    <tr style=\"text-align: right;\">\n",
              "      <th></th>\n",
              "      <th>LINGUAGEM</th>\n",
              "      <th>POPULARIDADE</th>\n",
              "      <th>VERSÃO</th>\n",
              "      <th>DESENVOLVEDORES</th>\n",
              "      <th>DATA DE LANÇAMENTO</th>\n",
              "    </tr>\n",
              "  </thead>\n",
              "  <tbody>\n",
              "    <tr>\n",
              "      <th>0</th>\n",
              "      <td>Python</td>\n",
              "      <td>Alta</td>\n",
              "      <td>3.10</td>\n",
              "      <td>7000000</td>\n",
              "      <td>1991-02-20</td>\n",
              "    </tr>\n",
              "    <tr>\n",
              "      <th>1</th>\n",
              "      <td>R</td>\n",
              "      <td>Baixa</td>\n",
              "      <td>4.20</td>\n",
              "      <td>500000</td>\n",
              "      <td>1993-08-03</td>\n",
              "    </tr>\n",
              "    <tr>\n",
              "      <th>2</th>\n",
              "      <td>SQL</td>\n",
              "      <td>Altíssima</td>\n",
              "      <td>NaN</td>\n",
              "      <td>20000000</td>\n",
              "      <td>1986-01-01</td>\n",
              "    </tr>\n",
              "    <tr>\n",
              "      <th>3</th>\n",
              "      <td>C</td>\n",
              "      <td>Média</td>\n",
              "      <td>NaN</td>\n",
              "      <td>3500000</td>\n",
              "      <td>1972-01-01</td>\n",
              "    </tr>\n",
              "    <tr>\n",
              "      <th>4</th>\n",
              "      <td>Java</td>\n",
              "      <td>Altíssima</td>\n",
              "      <td>11.00</td>\n",
              "      <td>16000000</td>\n",
              "      <td>1995-05-23</td>\n",
              "    </tr>\n",
              "    <tr>\n",
              "      <th>5</th>\n",
              "      <td>Javascript</td>\n",
              "      <td>Altíssima</td>\n",
              "      <td>16.00</td>\n",
              "      <td>25000000</td>\n",
              "      <td>1995-12-04</td>\n",
              "    </tr>\n",
              "    <tr>\n",
              "      <th>6</th>\n",
              "      <td>Elixir</td>\n",
              "      <td>Baixa</td>\n",
              "      <td>1.12</td>\n",
              "      <td>200000</td>\n",
              "      <td>2012-01-01</td>\n",
              "    </tr>\n",
              "  </tbody>\n",
              "</table>\n",
              "</div>\n",
              "      <button class=\"colab-df-convert\" onclick=\"convertToInteractive('df-1b93b217-eef2-4275-ba4a-734a5ae7a7aa')\"\n",
              "              title=\"Convert this dataframe to an interactive table.\"\n",
              "              style=\"display:none;\">\n",
              "        \n",
              "  <svg xmlns=\"http://www.w3.org/2000/svg\" height=\"24px\"viewBox=\"0 0 24 24\"\n",
              "       width=\"24px\">\n",
              "    <path d=\"M0 0h24v24H0V0z\" fill=\"none\"/>\n",
              "    <path d=\"M18.56 5.44l.94 2.06.94-2.06 2.06-.94-2.06-.94-.94-2.06-.94 2.06-2.06.94zm-11 1L8.5 8.5l.94-2.06 2.06-.94-2.06-.94L8.5 2.5l-.94 2.06-2.06.94zm10 10l.94 2.06.94-2.06 2.06-.94-2.06-.94-.94-2.06-.94 2.06-2.06.94z\"/><path d=\"M17.41 7.96l-1.37-1.37c-.4-.4-.92-.59-1.43-.59-.52 0-1.04.2-1.43.59L10.3 9.45l-7.72 7.72c-.78.78-.78 2.05 0 2.83L4 21.41c.39.39.9.59 1.41.59.51 0 1.02-.2 1.41-.59l7.78-7.78 2.81-2.81c.8-.78.8-2.07 0-2.86zM5.41 20L4 18.59l7.72-7.72 1.47 1.35L5.41 20z\"/>\n",
              "  </svg>\n",
              "      </button>\n",
              "      \n",
              "  <style>\n",
              "    .colab-df-container {\n",
              "      display:flex;\n",
              "      flex-wrap:wrap;\n",
              "      gap: 12px;\n",
              "    }\n",
              "\n",
              "    .colab-df-convert {\n",
              "      background-color: #E8F0FE;\n",
              "      border: none;\n",
              "      border-radius: 50%;\n",
              "      cursor: pointer;\n",
              "      display: none;\n",
              "      fill: #1967D2;\n",
              "      height: 32px;\n",
              "      padding: 0 0 0 0;\n",
              "      width: 32px;\n",
              "    }\n",
              "\n",
              "    .colab-df-convert:hover {\n",
              "      background-color: #E2EBFA;\n",
              "      box-shadow: 0px 1px 2px rgba(60, 64, 67, 0.3), 0px 1px 3px 1px rgba(60, 64, 67, 0.15);\n",
              "      fill: #174EA6;\n",
              "    }\n",
              "\n",
              "    [theme=dark] .colab-df-convert {\n",
              "      background-color: #3B4455;\n",
              "      fill: #D2E3FC;\n",
              "    }\n",
              "\n",
              "    [theme=dark] .colab-df-convert:hover {\n",
              "      background-color: #434B5C;\n",
              "      box-shadow: 0px 1px 3px 1px rgba(0, 0, 0, 0.15);\n",
              "      filter: drop-shadow(0px 1px 2px rgba(0, 0, 0, 0.3));\n",
              "      fill: #FFFFFF;\n",
              "    }\n",
              "  </style>\n",
              "\n",
              "      <script>\n",
              "        const buttonEl =\n",
              "          document.querySelector('#df-1b93b217-eef2-4275-ba4a-734a5ae7a7aa button.colab-df-convert');\n",
              "        buttonEl.style.display =\n",
              "          google.colab.kernel.accessAllowed ? 'block' : 'none';\n",
              "\n",
              "        async function convertToInteractive(key) {\n",
              "          const element = document.querySelector('#df-1b93b217-eef2-4275-ba4a-734a5ae7a7aa');\n",
              "          const dataTable =\n",
              "            await google.colab.kernel.invokeFunction('convertToInteractive',\n",
              "                                                     [key], {});\n",
              "          if (!dataTable) return;\n",
              "\n",
              "          const docLinkHtml = 'Like what you see? Visit the ' +\n",
              "            '<a target=\"_blank\" href=https://colab.research.google.com/notebooks/data_table.ipynb>data table notebook</a>'\n",
              "            + ' to learn more about interactive tables.';\n",
              "          element.innerHTML = '';\n",
              "          dataTable['output_type'] = 'display_data';\n",
              "          await google.colab.output.renderOutput(dataTable, element);\n",
              "          const docLink = document.createElement('div');\n",
              "          docLink.innerHTML = docLinkHtml;\n",
              "          element.appendChild(docLink);\n",
              "        }\n",
              "      </script>\n",
              "    </div>\n",
              "  </div>\n",
              "  "
            ]
          },
          "metadata": {},
          "execution_count": 5
        }
      ]
    },
    {
      "cell_type": "markdown",
      "source": [
        "Com o atributo `columns` podemos ver que as colunas foram renomeadas com sucesso"
      ],
      "metadata": {
        "id": "cMljICf7YHRU"
      }
    },
    {
      "cell_type": "code",
      "source": [
        "df.columns"
      ],
      "metadata": {
        "colab": {
          "base_uri": "https://localhost:8080/"
        },
        "id": "fbIZwKKiw_qE",
        "outputId": "3f9c2ef1-bca4-4c50-e3f2-730bea8066f2"
      },
      "execution_count": null,
      "outputs": [
        {
          "output_type": "execute_result",
          "data": {
            "text/plain": [
              "Index(['LINGUAGEM', 'POPULARIDADE', 'VERSÃO', 'DESENVOLVEDORES',\n",
              "       'DATA DE LANÇAMENTO'],\n",
              "      dtype='object')"
            ]
          },
          "metadata": {},
          "execution_count": 6
        }
      ]
    },
    {
      "cell_type": "markdown",
      "source": [
        "Se quisermos renomear apenas uma coluna, devemos passar o parâmetro nomeado `columns=` com a notação de dicionário para mapear qual ou quais colunas se deseja renomear.\n",
        "\n",
        "`inplace=True` para alteração em memória"
      ],
      "metadata": {
        "id": "WAkX3VrSYRyo"
      }
    },
    {
      "cell_type": "code",
      "source": [
        "df.rename(columns={'LINGUAGEM': 'LINGUAGENS'}, inplace=True)\n",
        "df"
      ],
      "metadata": {
        "id": "qfPw3n7d2_Dx",
        "colab": {
          "base_uri": "https://localhost:8080/",
          "height": 269
        },
        "outputId": "6000040b-73b2-415a-b7c1-d04561d83fab"
      },
      "execution_count": null,
      "outputs": [
        {
          "output_type": "execute_result",
          "data": {
            "text/plain": [
              "   LINGUAGENS POPULARIDADE  VERSÃO  DESENVOLVEDORES DATA DE LANÇAMENTO\n",
              "0      Python         Alta    3.10          7000000         1991-02-20\n",
              "1           R        Baixa    4.20           500000         1993-08-03\n",
              "2         SQL    Altíssima     NaN         20000000         1986-01-01\n",
              "3           C        Média     NaN          3500000         1972-01-01\n",
              "4        Java    Altíssima   11.00         16000000         1995-05-23\n",
              "5  Javascript    Altíssima   16.00         25000000         1995-12-04\n",
              "6      Elixir        Baixa    1.12           200000         2012-01-01"
            ],
            "text/html": [
              "\n",
              "  <div id=\"df-4f1429ff-218e-4211-8290-d316a643f985\">\n",
              "    <div class=\"colab-df-container\">\n",
              "      <div>\n",
              "<style scoped>\n",
              "    .dataframe tbody tr th:only-of-type {\n",
              "        vertical-align: middle;\n",
              "    }\n",
              "\n",
              "    .dataframe tbody tr th {\n",
              "        vertical-align: top;\n",
              "    }\n",
              "\n",
              "    .dataframe thead th {\n",
              "        text-align: right;\n",
              "    }\n",
              "</style>\n",
              "<table border=\"1\" class=\"dataframe\">\n",
              "  <thead>\n",
              "    <tr style=\"text-align: right;\">\n",
              "      <th></th>\n",
              "      <th>LINGUAGENS</th>\n",
              "      <th>POPULARIDADE</th>\n",
              "      <th>VERSÃO</th>\n",
              "      <th>DESENVOLVEDORES</th>\n",
              "      <th>DATA DE LANÇAMENTO</th>\n",
              "    </tr>\n",
              "  </thead>\n",
              "  <tbody>\n",
              "    <tr>\n",
              "      <th>0</th>\n",
              "      <td>Python</td>\n",
              "      <td>Alta</td>\n",
              "      <td>3.10</td>\n",
              "      <td>7000000</td>\n",
              "      <td>1991-02-20</td>\n",
              "    </tr>\n",
              "    <tr>\n",
              "      <th>1</th>\n",
              "      <td>R</td>\n",
              "      <td>Baixa</td>\n",
              "      <td>4.20</td>\n",
              "      <td>500000</td>\n",
              "      <td>1993-08-03</td>\n",
              "    </tr>\n",
              "    <tr>\n",
              "      <th>2</th>\n",
              "      <td>SQL</td>\n",
              "      <td>Altíssima</td>\n",
              "      <td>NaN</td>\n",
              "      <td>20000000</td>\n",
              "      <td>1986-01-01</td>\n",
              "    </tr>\n",
              "    <tr>\n",
              "      <th>3</th>\n",
              "      <td>C</td>\n",
              "      <td>Média</td>\n",
              "      <td>NaN</td>\n",
              "      <td>3500000</td>\n",
              "      <td>1972-01-01</td>\n",
              "    </tr>\n",
              "    <tr>\n",
              "      <th>4</th>\n",
              "      <td>Java</td>\n",
              "      <td>Altíssima</td>\n",
              "      <td>11.00</td>\n",
              "      <td>16000000</td>\n",
              "      <td>1995-05-23</td>\n",
              "    </tr>\n",
              "    <tr>\n",
              "      <th>5</th>\n",
              "      <td>Javascript</td>\n",
              "      <td>Altíssima</td>\n",
              "      <td>16.00</td>\n",
              "      <td>25000000</td>\n",
              "      <td>1995-12-04</td>\n",
              "    </tr>\n",
              "    <tr>\n",
              "      <th>6</th>\n",
              "      <td>Elixir</td>\n",
              "      <td>Baixa</td>\n",
              "      <td>1.12</td>\n",
              "      <td>200000</td>\n",
              "      <td>2012-01-01</td>\n",
              "    </tr>\n",
              "  </tbody>\n",
              "</table>\n",
              "</div>\n",
              "      <button class=\"colab-df-convert\" onclick=\"convertToInteractive('df-4f1429ff-218e-4211-8290-d316a643f985')\"\n",
              "              title=\"Convert this dataframe to an interactive table.\"\n",
              "              style=\"display:none;\">\n",
              "        \n",
              "  <svg xmlns=\"http://www.w3.org/2000/svg\" height=\"24px\"viewBox=\"0 0 24 24\"\n",
              "       width=\"24px\">\n",
              "    <path d=\"M0 0h24v24H0V0z\" fill=\"none\"/>\n",
              "    <path d=\"M18.56 5.44l.94 2.06.94-2.06 2.06-.94-2.06-.94-.94-2.06-.94 2.06-2.06.94zm-11 1L8.5 8.5l.94-2.06 2.06-.94-2.06-.94L8.5 2.5l-.94 2.06-2.06.94zm10 10l.94 2.06.94-2.06 2.06-.94-2.06-.94-.94-2.06-.94 2.06-2.06.94z\"/><path d=\"M17.41 7.96l-1.37-1.37c-.4-.4-.92-.59-1.43-.59-.52 0-1.04.2-1.43.59L10.3 9.45l-7.72 7.72c-.78.78-.78 2.05 0 2.83L4 21.41c.39.39.9.59 1.41.59.51 0 1.02-.2 1.41-.59l7.78-7.78 2.81-2.81c.8-.78.8-2.07 0-2.86zM5.41 20L4 18.59l7.72-7.72 1.47 1.35L5.41 20z\"/>\n",
              "  </svg>\n",
              "      </button>\n",
              "      \n",
              "  <style>\n",
              "    .colab-df-container {\n",
              "      display:flex;\n",
              "      flex-wrap:wrap;\n",
              "      gap: 12px;\n",
              "    }\n",
              "\n",
              "    .colab-df-convert {\n",
              "      background-color: #E8F0FE;\n",
              "      border: none;\n",
              "      border-radius: 50%;\n",
              "      cursor: pointer;\n",
              "      display: none;\n",
              "      fill: #1967D2;\n",
              "      height: 32px;\n",
              "      padding: 0 0 0 0;\n",
              "      width: 32px;\n",
              "    }\n",
              "\n",
              "    .colab-df-convert:hover {\n",
              "      background-color: #E2EBFA;\n",
              "      box-shadow: 0px 1px 2px rgba(60, 64, 67, 0.3), 0px 1px 3px 1px rgba(60, 64, 67, 0.15);\n",
              "      fill: #174EA6;\n",
              "    }\n",
              "\n",
              "    [theme=dark] .colab-df-convert {\n",
              "      background-color: #3B4455;\n",
              "      fill: #D2E3FC;\n",
              "    }\n",
              "\n",
              "    [theme=dark] .colab-df-convert:hover {\n",
              "      background-color: #434B5C;\n",
              "      box-shadow: 0px 1px 3px 1px rgba(0, 0, 0, 0.15);\n",
              "      filter: drop-shadow(0px 1px 2px rgba(0, 0, 0, 0.3));\n",
              "      fill: #FFFFFF;\n",
              "    }\n",
              "  </style>\n",
              "\n",
              "      <script>\n",
              "        const buttonEl =\n",
              "          document.querySelector('#df-4f1429ff-218e-4211-8290-d316a643f985 button.colab-df-convert');\n",
              "        buttonEl.style.display =\n",
              "          google.colab.kernel.accessAllowed ? 'block' : 'none';\n",
              "\n",
              "        async function convertToInteractive(key) {\n",
              "          const element = document.querySelector('#df-4f1429ff-218e-4211-8290-d316a643f985');\n",
              "          const dataTable =\n",
              "            await google.colab.kernel.invokeFunction('convertToInteractive',\n",
              "                                                     [key], {});\n",
              "          if (!dataTable) return;\n",
              "\n",
              "          const docLinkHtml = 'Like what you see? Visit the ' +\n",
              "            '<a target=\"_blank\" href=https://colab.research.google.com/notebooks/data_table.ipynb>data table notebook</a>'\n",
              "            + ' to learn more about interactive tables.';\n",
              "          element.innerHTML = '';\n",
              "          dataTable['output_type'] = 'display_data';\n",
              "          await google.colab.output.renderOutput(dataTable, element);\n",
              "          const docLink = document.createElement('div');\n",
              "          docLink.innerHTML = docLinkHtml;\n",
              "          element.appendChild(docLink);\n",
              "        }\n",
              "      </script>\n",
              "    </div>\n",
              "  </div>\n",
              "  "
            ]
          },
          "metadata": {},
          "execution_count": 7
        }
      ]
    },
    {
      "cell_type": "markdown",
      "source": [
        "Se for necessário ou se desejarmos, podemos renomear o índice do nosso _DataFrame_. Para isso, passamos para o parâmetro nomeado `index=` um dicionário mapeando os valores antigos e novos"
      ],
      "metadata": {
        "id": "GEAJAPEaYs8T"
      }
    },
    {
      "cell_type": "code",
      "source": [
        "df.rename(\n",
        "    index={0: 'A', 1: 'B', 2: 'C', 3: 'D', 4: 'E', 5: 'F', 6: 'G'}, \n",
        "    inplace=True\n",
        "    )\n",
        "df"
      ],
      "metadata": {
        "id": "yhFuVvLI2UDS",
        "colab": {
          "base_uri": "https://localhost:8080/",
          "height": 269
        },
        "outputId": "f690275a-8b86-4134-8cd8-684ce5ccd721"
      },
      "execution_count": null,
      "outputs": [
        {
          "output_type": "execute_result",
          "data": {
            "text/plain": [
              "   LINGUAGENS POPULARIDADE  VERSÃO  DESENVOLVEDORES DATA DE LANÇAMENTO\n",
              "A      Python         Alta    3.10          7000000         1991-02-20\n",
              "B           R        Baixa    4.20           500000         1993-08-03\n",
              "C         SQL    Altíssima     NaN         20000000         1986-01-01\n",
              "D           C        Média     NaN          3500000         1972-01-01\n",
              "E        Java    Altíssima   11.00         16000000         1995-05-23\n",
              "F  Javascript    Altíssima   16.00         25000000         1995-12-04\n",
              "G      Elixir        Baixa    1.12           200000         2012-01-01"
            ],
            "text/html": [
              "\n",
              "  <div id=\"df-4dc1618a-d88b-4591-a15d-994badfb0c14\">\n",
              "    <div class=\"colab-df-container\">\n",
              "      <div>\n",
              "<style scoped>\n",
              "    .dataframe tbody tr th:only-of-type {\n",
              "        vertical-align: middle;\n",
              "    }\n",
              "\n",
              "    .dataframe tbody tr th {\n",
              "        vertical-align: top;\n",
              "    }\n",
              "\n",
              "    .dataframe thead th {\n",
              "        text-align: right;\n",
              "    }\n",
              "</style>\n",
              "<table border=\"1\" class=\"dataframe\">\n",
              "  <thead>\n",
              "    <tr style=\"text-align: right;\">\n",
              "      <th></th>\n",
              "      <th>LINGUAGENS</th>\n",
              "      <th>POPULARIDADE</th>\n",
              "      <th>VERSÃO</th>\n",
              "      <th>DESENVOLVEDORES</th>\n",
              "      <th>DATA DE LANÇAMENTO</th>\n",
              "    </tr>\n",
              "  </thead>\n",
              "  <tbody>\n",
              "    <tr>\n",
              "      <th>A</th>\n",
              "      <td>Python</td>\n",
              "      <td>Alta</td>\n",
              "      <td>3.10</td>\n",
              "      <td>7000000</td>\n",
              "      <td>1991-02-20</td>\n",
              "    </tr>\n",
              "    <tr>\n",
              "      <th>B</th>\n",
              "      <td>R</td>\n",
              "      <td>Baixa</td>\n",
              "      <td>4.20</td>\n",
              "      <td>500000</td>\n",
              "      <td>1993-08-03</td>\n",
              "    </tr>\n",
              "    <tr>\n",
              "      <th>C</th>\n",
              "      <td>SQL</td>\n",
              "      <td>Altíssima</td>\n",
              "      <td>NaN</td>\n",
              "      <td>20000000</td>\n",
              "      <td>1986-01-01</td>\n",
              "    </tr>\n",
              "    <tr>\n",
              "      <th>D</th>\n",
              "      <td>C</td>\n",
              "      <td>Média</td>\n",
              "      <td>NaN</td>\n",
              "      <td>3500000</td>\n",
              "      <td>1972-01-01</td>\n",
              "    </tr>\n",
              "    <tr>\n",
              "      <th>E</th>\n",
              "      <td>Java</td>\n",
              "      <td>Altíssima</td>\n",
              "      <td>11.00</td>\n",
              "      <td>16000000</td>\n",
              "      <td>1995-05-23</td>\n",
              "    </tr>\n",
              "    <tr>\n",
              "      <th>F</th>\n",
              "      <td>Javascript</td>\n",
              "      <td>Altíssima</td>\n",
              "      <td>16.00</td>\n",
              "      <td>25000000</td>\n",
              "      <td>1995-12-04</td>\n",
              "    </tr>\n",
              "    <tr>\n",
              "      <th>G</th>\n",
              "      <td>Elixir</td>\n",
              "      <td>Baixa</td>\n",
              "      <td>1.12</td>\n",
              "      <td>200000</td>\n",
              "      <td>2012-01-01</td>\n",
              "    </tr>\n",
              "  </tbody>\n",
              "</table>\n",
              "</div>\n",
              "      <button class=\"colab-df-convert\" onclick=\"convertToInteractive('df-4dc1618a-d88b-4591-a15d-994badfb0c14')\"\n",
              "              title=\"Convert this dataframe to an interactive table.\"\n",
              "              style=\"display:none;\">\n",
              "        \n",
              "  <svg xmlns=\"http://www.w3.org/2000/svg\" height=\"24px\"viewBox=\"0 0 24 24\"\n",
              "       width=\"24px\">\n",
              "    <path d=\"M0 0h24v24H0V0z\" fill=\"none\"/>\n",
              "    <path d=\"M18.56 5.44l.94 2.06.94-2.06 2.06-.94-2.06-.94-.94-2.06-.94 2.06-2.06.94zm-11 1L8.5 8.5l.94-2.06 2.06-.94-2.06-.94L8.5 2.5l-.94 2.06-2.06.94zm10 10l.94 2.06.94-2.06 2.06-.94-2.06-.94-.94-2.06-.94 2.06-2.06.94z\"/><path d=\"M17.41 7.96l-1.37-1.37c-.4-.4-.92-.59-1.43-.59-.52 0-1.04.2-1.43.59L10.3 9.45l-7.72 7.72c-.78.78-.78 2.05 0 2.83L4 21.41c.39.39.9.59 1.41.59.51 0 1.02-.2 1.41-.59l7.78-7.78 2.81-2.81c.8-.78.8-2.07 0-2.86zM5.41 20L4 18.59l7.72-7.72 1.47 1.35L5.41 20z\"/>\n",
              "  </svg>\n",
              "      </button>\n",
              "      \n",
              "  <style>\n",
              "    .colab-df-container {\n",
              "      display:flex;\n",
              "      flex-wrap:wrap;\n",
              "      gap: 12px;\n",
              "    }\n",
              "\n",
              "    .colab-df-convert {\n",
              "      background-color: #E8F0FE;\n",
              "      border: none;\n",
              "      border-radius: 50%;\n",
              "      cursor: pointer;\n",
              "      display: none;\n",
              "      fill: #1967D2;\n",
              "      height: 32px;\n",
              "      padding: 0 0 0 0;\n",
              "      width: 32px;\n",
              "    }\n",
              "\n",
              "    .colab-df-convert:hover {\n",
              "      background-color: #E2EBFA;\n",
              "      box-shadow: 0px 1px 2px rgba(60, 64, 67, 0.3), 0px 1px 3px 1px rgba(60, 64, 67, 0.15);\n",
              "      fill: #174EA6;\n",
              "    }\n",
              "\n",
              "    [theme=dark] .colab-df-convert {\n",
              "      background-color: #3B4455;\n",
              "      fill: #D2E3FC;\n",
              "    }\n",
              "\n",
              "    [theme=dark] .colab-df-convert:hover {\n",
              "      background-color: #434B5C;\n",
              "      box-shadow: 0px 1px 3px 1px rgba(0, 0, 0, 0.15);\n",
              "      filter: drop-shadow(0px 1px 2px rgba(0, 0, 0, 0.3));\n",
              "      fill: #FFFFFF;\n",
              "    }\n",
              "  </style>\n",
              "\n",
              "      <script>\n",
              "        const buttonEl =\n",
              "          document.querySelector('#df-4dc1618a-d88b-4591-a15d-994badfb0c14 button.colab-df-convert');\n",
              "        buttonEl.style.display =\n",
              "          google.colab.kernel.accessAllowed ? 'block' : 'none';\n",
              "\n",
              "        async function convertToInteractive(key) {\n",
              "          const element = document.querySelector('#df-4dc1618a-d88b-4591-a15d-994badfb0c14');\n",
              "          const dataTable =\n",
              "            await google.colab.kernel.invokeFunction('convertToInteractive',\n",
              "                                                     [key], {});\n",
              "          if (!dataTable) return;\n",
              "\n",
              "          const docLinkHtml = 'Like what you see? Visit the ' +\n",
              "            '<a target=\"_blank\" href=https://colab.research.google.com/notebooks/data_table.ipynb>data table notebook</a>'\n",
              "            + ' to learn more about interactive tables.';\n",
              "          element.innerHTML = '';\n",
              "          dataTable['output_type'] = 'display_data';\n",
              "          await google.colab.output.renderOutput(dataTable, element);\n",
              "          const docLink = document.createElement('div');\n",
              "          docLink.innerHTML = docLinkHtml;\n",
              "          element.appendChild(docLink);\n",
              "        }\n",
              "      </script>\n",
              "    </div>\n",
              "  </div>\n",
              "  "
            ]
          },
          "metadata": {},
          "execution_count": 9
        }
      ]
    },
    {
      "cell_type": "markdown",
      "source": [
        "#### Apply"
      ],
      "metadata": {
        "id": "zop0AGEbDGCz"
      }
    },
    {
      "cell_type": "code",
      "source": [
        "df.apply?"
      ],
      "metadata": {
        "id": "G909rb0Ki6Rf"
      },
      "execution_count": null,
      "outputs": []
    },
    {
      "cell_type": "markdown",
      "source": [
        "Retorna os valores da _Series_ LINGUAGENS"
      ],
      "metadata": {
        "id": "knxDEmUhaSHK"
      }
    },
    {
      "cell_type": "code",
      "source": [
        "df['LINGUAGENS']"
      ],
      "metadata": {
        "colab": {
          "base_uri": "https://localhost:8080/"
        },
        "id": "7ZJtR1isxkZR",
        "outputId": "de5cdbc3-1a2b-4b1e-8799-ebc1526b0593"
      },
      "execution_count": null,
      "outputs": [
        {
          "output_type": "execute_result",
          "data": {
            "text/plain": [
              "A        Python\n",
              "B             R\n",
              "C           SQL\n",
              "D             C\n",
              "E          Java\n",
              "F    Javascript\n",
              "G        Elixir\n",
              "Name: LINGUAGENS, dtype: object"
            ]
          },
          "metadata": {},
          "execution_count": 20
        }
      ]
    },
    {
      "cell_type": "markdown",
      "source": [
        "Usamos o método `apply` para aplicarmos na _Series_ LINGUAGENS a função _lambda_ que coloca todos os valores em caixa alta"
      ],
      "metadata": {
        "id": "N0TLtqUkahLh"
      }
    },
    {
      "cell_type": "code",
      "source": [
        "df['LINGUAGENS'].apply(lambda txt: txt.upper())"
      ],
      "metadata": {
        "id": "tgRoCjs3DL4k",
        "colab": {
          "base_uri": "https://localhost:8080/"
        },
        "outputId": "6564e018-039a-4c83-8c3b-ce2c3ee993d7"
      },
      "execution_count": null,
      "outputs": [
        {
          "output_type": "execute_result",
          "data": {
            "text/plain": [
              "A        PYTHON\n",
              "B             R\n",
              "C           SQL\n",
              "D             C\n",
              "E          JAVA\n",
              "F    JAVASCRIPT\n",
              "G        ELIXIR\n",
              "Name: LINGUAGENS, dtype: object"
            ]
          },
          "metadata": {},
          "execution_count": 21
        }
      ]
    },
    {
      "cell_type": "markdown",
      "source": [
        "Retorna os valores da _Series_ POPULARIDADE"
      ],
      "metadata": {
        "id": "qVI8Wf_PawZ2"
      }
    },
    {
      "cell_type": "code",
      "source": [
        "df['POPULARIDADE']"
      ],
      "metadata": {
        "colab": {
          "base_uri": "https://localhost:8080/"
        },
        "id": "6gCjXKSjyOLp",
        "outputId": "c11d5313-055e-482d-f19f-e9cb72e035be"
      },
      "execution_count": null,
      "outputs": [
        {
          "output_type": "execute_result",
          "data": {
            "text/plain": [
              "A         Alta\n",
              "B        Baixa\n",
              "C    Altíssima\n",
              "D        Média\n",
              "E    Altíssima\n",
              "F    Altíssima\n",
              "G        Baixa\n",
              "Name: POPULARIDADE, dtype: object"
            ]
          },
          "metadata": {},
          "execution_count": 22
        }
      ]
    },
    {
      "cell_type": "markdown",
      "source": [
        "Usamos o método `apply` para aplicarmos na Series POPULARIDADE a função lambda que inverte maúsculas e minúsculas"
      ],
      "metadata": {
        "id": "nfd5JQ9ya4oi"
      }
    },
    {
      "cell_type": "code",
      "source": [
        "df['POPULARIDADE'].apply(lambda txt: txt.swapcase())"
      ],
      "metadata": {
        "id": "G-h6ajAEIm2Q",
        "colab": {
          "base_uri": "https://localhost:8080/"
        },
        "outputId": "df3a3c5a-6137-4a4f-990c-02b1daed020b"
      },
      "execution_count": null,
      "outputs": [
        {
          "output_type": "execute_result",
          "data": {
            "text/plain": [
              "A         aLTA\n",
              "B        bAIXA\n",
              "C    aLTÍSSIMA\n",
              "D        mÉDIA\n",
              "E    aLTÍSSIMA\n",
              "F    aLTÍSSIMA\n",
              "G        bAIXA\n",
              "Name: POPULARIDADE, dtype: object"
            ]
          },
          "metadata": {},
          "execution_count": 23
        }
      ]
    },
    {
      "cell_type": "markdown",
      "source": [
        "#### Map"
      ],
      "metadata": {
        "id": "KWCzHt5ULPPM"
      }
    },
    {
      "cell_type": "code",
      "source": [
        "df.index.map?"
      ],
      "metadata": {
        "id": "mYTajzHPjH_-"
      },
      "execution_count": null,
      "outputs": []
    },
    {
      "cell_type": "code",
      "source": [
        "df['Data de Lançamento'].map?"
      ],
      "metadata": {
        "id": "q6B_I5vkjRWE"
      },
      "execution_count": null,
      "outputs": []
    },
    {
      "cell_type": "markdown",
      "source": [
        "Pegamos o índice do _DataFrame_"
      ],
      "metadata": {
        "id": "mtF69kc0bLGq"
      }
    },
    {
      "cell_type": "code",
      "source": [
        "df.index"
      ],
      "metadata": {
        "colab": {
          "base_uri": "https://localhost:8080/"
        },
        "id": "WOZwpJYgye5U",
        "outputId": "495475f7-2a59-435c-e6db-ce3c01ed5f7f"
      },
      "execution_count": null,
      "outputs": [
        {
          "output_type": "execute_result",
          "data": {
            "text/plain": [
              "Index(['A', 'B', 'C', 'D', 'E', 'F', 'G'], dtype='object')"
            ]
          },
          "metadata": {},
          "execution_count": 24
        }
      ]
    },
    {
      "cell_type": "markdown",
      "source": [
        "Através do método `map` percorremos todos os elementos do índice, colocando-os em caixa baixa com a expressão _lambda_"
      ],
      "metadata": {
        "id": "uzujPAQ_bQ4X"
      }
    },
    {
      "cell_type": "code",
      "source": [
        "df.index.map(lambda item: item.lower())"
      ],
      "metadata": {
        "id": "BGsq-itxLSh5",
        "colab": {
          "base_uri": "https://localhost:8080/"
        },
        "outputId": "716517d5-88e3-4b14-8ffc-b6e1ef78dcda"
      },
      "execution_count": null,
      "outputs": [
        {
          "output_type": "execute_result",
          "data": {
            "text/plain": [
              "Index(['a', 'b', 'c', 'd', 'e', 'f', 'g'], dtype='object')"
            ]
          },
          "metadata": {},
          "execution_count": 25
        }
      ]
    },
    {
      "cell_type": "markdown",
      "source": [
        "#### Agg"
      ],
      "metadata": {
        "id": "70ZoeVx7Ovrq"
      }
    },
    {
      "cell_type": "code",
      "source": [
        "df.agg?"
      ],
      "metadata": {
        "id": "nTp4yNDUjczf"
      },
      "execution_count": null,
      "outputs": []
    },
    {
      "cell_type": "markdown",
      "source": [
        "Recuperamos os valores da _Series_ VERSÃO"
      ],
      "metadata": {
        "id": "juX1gqQobght"
      }
    },
    {
      "cell_type": "code",
      "source": [
        "df['VERSÃO']"
      ],
      "metadata": {
        "colab": {
          "base_uri": "https://localhost:8080/"
        },
        "id": "I6dgeGUtyzii",
        "outputId": "6b19b5fd-100b-44b3-b16a-6c16fa4544b1"
      },
      "execution_count": null,
      "outputs": [
        {
          "output_type": "execute_result",
          "data": {
            "text/plain": [
              "A    3.10\n",
              "B    4.20\n",
              "C     NaN\n",
              "D     NaN\n",
              "E   11.00\n",
              "F   16.00\n",
              "G    1.12\n",
              "Name: VERSÃO, dtype: float64"
            ]
          },
          "metadata": {},
          "execution_count": 27
        }
      ]
    },
    {
      "cell_type": "markdown",
      "source": [
        "Com o método `agg` podemos passar vários outros métodos através de uma lista e assim recuperarmos as informações de uma determinada _Series_.\n",
        "\n",
        "No caso abaixo, pegamos os valores mínimo, máximo, a média e a soma dos da _Series_ VERSÃO"
      ],
      "metadata": {
        "id": "9f4ZkGTYcKrp"
      }
    },
    {
      "cell_type": "code",
      "source": [
        "df['VERSÃO'].agg(['min', 'max', 'mean', 'sum']).to_frame().transpose()"
      ],
      "metadata": {
        "colab": {
          "base_uri": "https://localhost:8080/",
          "height": 80
        },
        "id": "_nDA_VL5zBNU",
        "outputId": "76b605b0-3c1c-49c2-c0b2-6848b815a59b"
      },
      "execution_count": null,
      "outputs": [
        {
          "output_type": "execute_result",
          "data": {
            "text/plain": [
              "        min   max  mean   sum\n",
              "VERSÃO 1.12 16.00  7.08 35.42"
            ],
            "text/html": [
              "\n",
              "  <div id=\"df-1550ea31-79a9-4637-8e65-230022d12783\">\n",
              "    <div class=\"colab-df-container\">\n",
              "      <div>\n",
              "<style scoped>\n",
              "    .dataframe tbody tr th:only-of-type {\n",
              "        vertical-align: middle;\n",
              "    }\n",
              "\n",
              "    .dataframe tbody tr th {\n",
              "        vertical-align: top;\n",
              "    }\n",
              "\n",
              "    .dataframe thead th {\n",
              "        text-align: right;\n",
              "    }\n",
              "</style>\n",
              "<table border=\"1\" class=\"dataframe\">\n",
              "  <thead>\n",
              "    <tr style=\"text-align: right;\">\n",
              "      <th></th>\n",
              "      <th>min</th>\n",
              "      <th>max</th>\n",
              "      <th>mean</th>\n",
              "      <th>sum</th>\n",
              "    </tr>\n",
              "  </thead>\n",
              "  <tbody>\n",
              "    <tr>\n",
              "      <th>VERSÃO</th>\n",
              "      <td>1.12</td>\n",
              "      <td>16.00</td>\n",
              "      <td>7.08</td>\n",
              "      <td>35.42</td>\n",
              "    </tr>\n",
              "  </tbody>\n",
              "</table>\n",
              "</div>\n",
              "      <button class=\"colab-df-convert\" onclick=\"convertToInteractive('df-1550ea31-79a9-4637-8e65-230022d12783')\"\n",
              "              title=\"Convert this dataframe to an interactive table.\"\n",
              "              style=\"display:none;\">\n",
              "        \n",
              "  <svg xmlns=\"http://www.w3.org/2000/svg\" height=\"24px\"viewBox=\"0 0 24 24\"\n",
              "       width=\"24px\">\n",
              "    <path d=\"M0 0h24v24H0V0z\" fill=\"none\"/>\n",
              "    <path d=\"M18.56 5.44l.94 2.06.94-2.06 2.06-.94-2.06-.94-.94-2.06-.94 2.06-2.06.94zm-11 1L8.5 8.5l.94-2.06 2.06-.94-2.06-.94L8.5 2.5l-.94 2.06-2.06.94zm10 10l.94 2.06.94-2.06 2.06-.94-2.06-.94-.94-2.06-.94 2.06-2.06.94z\"/><path d=\"M17.41 7.96l-1.37-1.37c-.4-.4-.92-.59-1.43-.59-.52 0-1.04.2-1.43.59L10.3 9.45l-7.72 7.72c-.78.78-.78 2.05 0 2.83L4 21.41c.39.39.9.59 1.41.59.51 0 1.02-.2 1.41-.59l7.78-7.78 2.81-2.81c.8-.78.8-2.07 0-2.86zM5.41 20L4 18.59l7.72-7.72 1.47 1.35L5.41 20z\"/>\n",
              "  </svg>\n",
              "      </button>\n",
              "      \n",
              "  <style>\n",
              "    .colab-df-container {\n",
              "      display:flex;\n",
              "      flex-wrap:wrap;\n",
              "      gap: 12px;\n",
              "    }\n",
              "\n",
              "    .colab-df-convert {\n",
              "      background-color: #E8F0FE;\n",
              "      border: none;\n",
              "      border-radius: 50%;\n",
              "      cursor: pointer;\n",
              "      display: none;\n",
              "      fill: #1967D2;\n",
              "      height: 32px;\n",
              "      padding: 0 0 0 0;\n",
              "      width: 32px;\n",
              "    }\n",
              "\n",
              "    .colab-df-convert:hover {\n",
              "      background-color: #E2EBFA;\n",
              "      box-shadow: 0px 1px 2px rgba(60, 64, 67, 0.3), 0px 1px 3px 1px rgba(60, 64, 67, 0.15);\n",
              "      fill: #174EA6;\n",
              "    }\n",
              "\n",
              "    [theme=dark] .colab-df-convert {\n",
              "      background-color: #3B4455;\n",
              "      fill: #D2E3FC;\n",
              "    }\n",
              "\n",
              "    [theme=dark] .colab-df-convert:hover {\n",
              "      background-color: #434B5C;\n",
              "      box-shadow: 0px 1px 3px 1px rgba(0, 0, 0, 0.15);\n",
              "      filter: drop-shadow(0px 1px 2px rgba(0, 0, 0, 0.3));\n",
              "      fill: #FFFFFF;\n",
              "    }\n",
              "  </style>\n",
              "\n",
              "      <script>\n",
              "        const buttonEl =\n",
              "          document.querySelector('#df-1550ea31-79a9-4637-8e65-230022d12783 button.colab-df-convert');\n",
              "        buttonEl.style.display =\n",
              "          google.colab.kernel.accessAllowed ? 'block' : 'none';\n",
              "\n",
              "        async function convertToInteractive(key) {\n",
              "          const element = document.querySelector('#df-1550ea31-79a9-4637-8e65-230022d12783');\n",
              "          const dataTable =\n",
              "            await google.colab.kernel.invokeFunction('convertToInteractive',\n",
              "                                                     [key], {});\n",
              "          if (!dataTable) return;\n",
              "\n",
              "          const docLinkHtml = 'Like what you see? Visit the ' +\n",
              "            '<a target=\"_blank\" href=https://colab.research.google.com/notebooks/data_table.ipynb>data table notebook</a>'\n",
              "            + ' to learn more about interactive tables.';\n",
              "          element.innerHTML = '';\n",
              "          dataTable['output_type'] = 'display_data';\n",
              "          await google.colab.output.renderOutput(dataTable, element);\n",
              "          const docLink = document.createElement('div');\n",
              "          docLink.innerHTML = docLinkHtml;\n",
              "          element.appendChild(docLink);\n",
              "        }\n",
              "      </script>\n",
              "    </div>\n",
              "  </div>\n",
              "  "
            ]
          },
          "metadata": {},
          "execution_count": 32
        }
      ]
    },
    {
      "cell_type": "code",
      "source": [
        "df['VERSÃO'].agg(['min', 'max']).to_frame().transpose()"
      ],
      "metadata": {
        "id": "IY5JanX_OyhD",
        "colab": {
          "base_uri": "https://localhost:8080/",
          "height": 80
        },
        "outputId": "7b4793bf-5aac-4366-c3e8-7215c79667ab"
      },
      "execution_count": null,
      "outputs": [
        {
          "output_type": "execute_result",
          "data": {
            "text/plain": [
              "        min   max\n",
              "VERSÃO 1.12 16.00"
            ],
            "text/html": [
              "\n",
              "  <div id=\"df-1c1fd769-c2eb-4246-92e5-d6ee8315e3d0\">\n",
              "    <div class=\"colab-df-container\">\n",
              "      <div>\n",
              "<style scoped>\n",
              "    .dataframe tbody tr th:only-of-type {\n",
              "        vertical-align: middle;\n",
              "    }\n",
              "\n",
              "    .dataframe tbody tr th {\n",
              "        vertical-align: top;\n",
              "    }\n",
              "\n",
              "    .dataframe thead th {\n",
              "        text-align: right;\n",
              "    }\n",
              "</style>\n",
              "<table border=\"1\" class=\"dataframe\">\n",
              "  <thead>\n",
              "    <tr style=\"text-align: right;\">\n",
              "      <th></th>\n",
              "      <th>min</th>\n",
              "      <th>max</th>\n",
              "    </tr>\n",
              "  </thead>\n",
              "  <tbody>\n",
              "    <tr>\n",
              "      <th>VERSÃO</th>\n",
              "      <td>1.12</td>\n",
              "      <td>16.00</td>\n",
              "    </tr>\n",
              "  </tbody>\n",
              "</table>\n",
              "</div>\n",
              "      <button class=\"colab-df-convert\" onclick=\"convertToInteractive('df-1c1fd769-c2eb-4246-92e5-d6ee8315e3d0')\"\n",
              "              title=\"Convert this dataframe to an interactive table.\"\n",
              "              style=\"display:none;\">\n",
              "        \n",
              "  <svg xmlns=\"http://www.w3.org/2000/svg\" height=\"24px\"viewBox=\"0 0 24 24\"\n",
              "       width=\"24px\">\n",
              "    <path d=\"M0 0h24v24H0V0z\" fill=\"none\"/>\n",
              "    <path d=\"M18.56 5.44l.94 2.06.94-2.06 2.06-.94-2.06-.94-.94-2.06-.94 2.06-2.06.94zm-11 1L8.5 8.5l.94-2.06 2.06-.94-2.06-.94L8.5 2.5l-.94 2.06-2.06.94zm10 10l.94 2.06.94-2.06 2.06-.94-2.06-.94-.94-2.06-.94 2.06-2.06.94z\"/><path d=\"M17.41 7.96l-1.37-1.37c-.4-.4-.92-.59-1.43-.59-.52 0-1.04.2-1.43.59L10.3 9.45l-7.72 7.72c-.78.78-.78 2.05 0 2.83L4 21.41c.39.39.9.59 1.41.59.51 0 1.02-.2 1.41-.59l7.78-7.78 2.81-2.81c.8-.78.8-2.07 0-2.86zM5.41 20L4 18.59l7.72-7.72 1.47 1.35L5.41 20z\"/>\n",
              "  </svg>\n",
              "      </button>\n",
              "      \n",
              "  <style>\n",
              "    .colab-df-container {\n",
              "      display:flex;\n",
              "      flex-wrap:wrap;\n",
              "      gap: 12px;\n",
              "    }\n",
              "\n",
              "    .colab-df-convert {\n",
              "      background-color: #E8F0FE;\n",
              "      border: none;\n",
              "      border-radius: 50%;\n",
              "      cursor: pointer;\n",
              "      display: none;\n",
              "      fill: #1967D2;\n",
              "      height: 32px;\n",
              "      padding: 0 0 0 0;\n",
              "      width: 32px;\n",
              "    }\n",
              "\n",
              "    .colab-df-convert:hover {\n",
              "      background-color: #E2EBFA;\n",
              "      box-shadow: 0px 1px 2px rgba(60, 64, 67, 0.3), 0px 1px 3px 1px rgba(60, 64, 67, 0.15);\n",
              "      fill: #174EA6;\n",
              "    }\n",
              "\n",
              "    [theme=dark] .colab-df-convert {\n",
              "      background-color: #3B4455;\n",
              "      fill: #D2E3FC;\n",
              "    }\n",
              "\n",
              "    [theme=dark] .colab-df-convert:hover {\n",
              "      background-color: #434B5C;\n",
              "      box-shadow: 0px 1px 3px 1px rgba(0, 0, 0, 0.15);\n",
              "      filter: drop-shadow(0px 1px 2px rgba(0, 0, 0, 0.3));\n",
              "      fill: #FFFFFF;\n",
              "    }\n",
              "  </style>\n",
              "\n",
              "      <script>\n",
              "        const buttonEl =\n",
              "          document.querySelector('#df-1c1fd769-c2eb-4246-92e5-d6ee8315e3d0 button.colab-df-convert');\n",
              "        buttonEl.style.display =\n",
              "          google.colab.kernel.accessAllowed ? 'block' : 'none';\n",
              "\n",
              "        async function convertToInteractive(key) {\n",
              "          const element = document.querySelector('#df-1c1fd769-c2eb-4246-92e5-d6ee8315e3d0');\n",
              "          const dataTable =\n",
              "            await google.colab.kernel.invokeFunction('convertToInteractive',\n",
              "                                                     [key], {});\n",
              "          if (!dataTable) return;\n",
              "\n",
              "          const docLinkHtml = 'Like what you see? Visit the ' +\n",
              "            '<a target=\"_blank\" href=https://colab.research.google.com/notebooks/data_table.ipynb>data table notebook</a>'\n",
              "            + ' to learn more about interactive tables.';\n",
              "          element.innerHTML = '';\n",
              "          dataTable['output_type'] = 'display_data';\n",
              "          await google.colab.output.renderOutput(dataTable, element);\n",
              "          const docLink = document.createElement('div');\n",
              "          docLink.innerHTML = docLinkHtml;\n",
              "          element.appendChild(docLink);\n",
              "        }\n",
              "      </script>\n",
              "    </div>\n",
              "  </div>\n",
              "  "
            ]
          },
          "metadata": {},
          "execution_count": 10
        }
      ]
    },
    {
      "cell_type": "markdown",
      "source": [
        "#### Min"
      ],
      "metadata": {
        "id": "nsv_dqbqPnoB"
      }
    },
    {
      "cell_type": "code",
      "source": [
        "df['VERSÃO'].min?"
      ],
      "metadata": {
        "id": "YrfXI85Tjo8-"
      },
      "execution_count": null,
      "outputs": []
    },
    {
      "cell_type": "markdown",
      "source": [
        "Retorna o valor mínimo da _Series_ em questão"
      ],
      "metadata": {
        "id": "Ntwz-6mjcoMv"
      }
    },
    {
      "cell_type": "code",
      "source": [
        "df['VERSÃO'].min()"
      ],
      "metadata": {
        "id": "2VrlNjRiPqAh",
        "colab": {
          "base_uri": "https://localhost:8080/"
        },
        "outputId": "c1e22f9d-d8d0-49d6-c779-1da465bfde83"
      },
      "execution_count": null,
      "outputs": [
        {
          "output_type": "execute_result",
          "data": {
            "text/plain": [
              "1.12"
            ]
          },
          "metadata": {},
          "execution_count": 33
        }
      ]
    },
    {
      "cell_type": "markdown",
      "source": [
        "#### Max"
      ],
      "metadata": {
        "id": "Qt8gnt5TPqwr"
      }
    },
    {
      "cell_type": "code",
      "source": [
        "df['VERSÃO'].max?"
      ],
      "metadata": {
        "id": "QAAroHT0jzMn"
      },
      "execution_count": null,
      "outputs": []
    },
    {
      "cell_type": "markdown",
      "source": [
        "Retorna o valor máximo da _Series_ em questão"
      ],
      "metadata": {
        "id": "gPOWsI2bcvgk"
      }
    },
    {
      "cell_type": "code",
      "source": [
        "df['VERSÃO'].max()"
      ],
      "metadata": {
        "id": "X1_mf1CdPtN9",
        "colab": {
          "base_uri": "https://localhost:8080/"
        },
        "outputId": "86546c4e-62c4-4593-851e-c06c29a935e5"
      },
      "execution_count": null,
      "outputs": [
        {
          "output_type": "execute_result",
          "data": {
            "text/plain": [
              "16.0"
            ]
          },
          "metadata": {},
          "execution_count": 34
        }
      ]
    },
    {
      "cell_type": "markdown",
      "source": [
        "#### Sum"
      ],
      "metadata": {
        "id": "73Bl5kUzPtmF"
      }
    },
    {
      "cell_type": "code",
      "source": [
        "df['DESENVOLVEDORES'].sum?"
      ],
      "metadata": {
        "id": "ekS_Nsl_kLDQ"
      },
      "execution_count": null,
      "outputs": []
    },
    {
      "cell_type": "markdown",
      "source": [
        "Recuperamos os valores da _Series_ DESENVOLVEDORES"
      ],
      "metadata": {
        "id": "hbsSzcbwc2Pl"
      }
    },
    {
      "cell_type": "code",
      "source": [
        "df['DESENVOLVEDORES']"
      ],
      "metadata": {
        "colab": {
          "base_uri": "https://localhost:8080/"
        },
        "id": "28ohBlXnzxn2",
        "outputId": "aaa8e3b7-dfd3-4527-b4b1-79c8395d7068"
      },
      "execution_count": null,
      "outputs": [
        {
          "output_type": "execute_result",
          "data": {
            "text/plain": [
              "A     7000000\n",
              "B      500000\n",
              "C    20000000\n",
              "D     3500000\n",
              "E    16000000\n",
              "F    25000000\n",
              "G      200000\n",
              "Name: DESENVOLVEDORES, dtype: int64"
            ]
          },
          "metadata": {},
          "execution_count": 35
        }
      ]
    },
    {
      "cell_type": "markdown",
      "source": [
        "Somamos todos os seus valores com o método `sum`"
      ],
      "metadata": {
        "id": "Cv-ZXrpDc65_"
      }
    },
    {
      "cell_type": "code",
      "source": [
        "df['DESENVOLVEDORES'].sum()"
      ],
      "metadata": {
        "id": "4BpMTzVEPy-V",
        "colab": {
          "base_uri": "https://localhost:8080/"
        },
        "outputId": "09814613-e255-46cd-deee-1c48e147ac48"
      },
      "execution_count": null,
      "outputs": [
        {
          "output_type": "execute_result",
          "data": {
            "text/plain": [
              "72200000"
            ]
          },
          "metadata": {},
          "execution_count": 36
        }
      ]
    },
    {
      "cell_type": "markdown",
      "source": [
        "#### Count"
      ],
      "metadata": {
        "id": "ZyGoWx0WT-Fi"
      }
    },
    {
      "cell_type": "code",
      "source": [
        "df.count?"
      ],
      "metadata": {
        "id": "fFEPX4vKUuVi"
      },
      "execution_count": null,
      "outputs": []
    },
    {
      "cell_type": "code",
      "source": [
        "df"
      ],
      "metadata": {
        "colab": {
          "base_uri": "https://localhost:8080/",
          "height": 269
        },
        "id": "c6VmwyKv0RLb",
        "outputId": "272b0213-5ece-44bb-ed44-7c611a6b9451"
      },
      "execution_count": null,
      "outputs": [
        {
          "output_type": "execute_result",
          "data": {
            "text/plain": [
              "   LINGUAGENS POPULARIDADE  VERSÃO  DESENVOLVEDORES DATA DE LANÇAMENTO\n",
              "A      Python         Alta    3.10          7000000         1991-02-20\n",
              "B           R        Baixa    4.20           500000         1993-08-03\n",
              "C         SQL    Altíssima     NaN         20000000         1986-01-01\n",
              "D           C        Média     NaN          3500000         1972-01-01\n",
              "E        Java    Altíssima   11.00         16000000         1995-05-23\n",
              "F  Javascript    Altíssima   16.00         25000000         1995-12-04\n",
              "G      Elixir        Baixa    1.12           200000         2012-01-01"
            ],
            "text/html": [
              "\n",
              "  <div id=\"df-5321dc64-82be-4570-8d44-1d96781ed5c1\">\n",
              "    <div class=\"colab-df-container\">\n",
              "      <div>\n",
              "<style scoped>\n",
              "    .dataframe tbody tr th:only-of-type {\n",
              "        vertical-align: middle;\n",
              "    }\n",
              "\n",
              "    .dataframe tbody tr th {\n",
              "        vertical-align: top;\n",
              "    }\n",
              "\n",
              "    .dataframe thead th {\n",
              "        text-align: right;\n",
              "    }\n",
              "</style>\n",
              "<table border=\"1\" class=\"dataframe\">\n",
              "  <thead>\n",
              "    <tr style=\"text-align: right;\">\n",
              "      <th></th>\n",
              "      <th>LINGUAGENS</th>\n",
              "      <th>POPULARIDADE</th>\n",
              "      <th>VERSÃO</th>\n",
              "      <th>DESENVOLVEDORES</th>\n",
              "      <th>DATA DE LANÇAMENTO</th>\n",
              "    </tr>\n",
              "  </thead>\n",
              "  <tbody>\n",
              "    <tr>\n",
              "      <th>A</th>\n",
              "      <td>Python</td>\n",
              "      <td>Alta</td>\n",
              "      <td>3.10</td>\n",
              "      <td>7000000</td>\n",
              "      <td>1991-02-20</td>\n",
              "    </tr>\n",
              "    <tr>\n",
              "      <th>B</th>\n",
              "      <td>R</td>\n",
              "      <td>Baixa</td>\n",
              "      <td>4.20</td>\n",
              "      <td>500000</td>\n",
              "      <td>1993-08-03</td>\n",
              "    </tr>\n",
              "    <tr>\n",
              "      <th>C</th>\n",
              "      <td>SQL</td>\n",
              "      <td>Altíssima</td>\n",
              "      <td>NaN</td>\n",
              "      <td>20000000</td>\n",
              "      <td>1986-01-01</td>\n",
              "    </tr>\n",
              "    <tr>\n",
              "      <th>D</th>\n",
              "      <td>C</td>\n",
              "      <td>Média</td>\n",
              "      <td>NaN</td>\n",
              "      <td>3500000</td>\n",
              "      <td>1972-01-01</td>\n",
              "    </tr>\n",
              "    <tr>\n",
              "      <th>E</th>\n",
              "      <td>Java</td>\n",
              "      <td>Altíssima</td>\n",
              "      <td>11.00</td>\n",
              "      <td>16000000</td>\n",
              "      <td>1995-05-23</td>\n",
              "    </tr>\n",
              "    <tr>\n",
              "      <th>F</th>\n",
              "      <td>Javascript</td>\n",
              "      <td>Altíssima</td>\n",
              "      <td>16.00</td>\n",
              "      <td>25000000</td>\n",
              "      <td>1995-12-04</td>\n",
              "    </tr>\n",
              "    <tr>\n",
              "      <th>G</th>\n",
              "      <td>Elixir</td>\n",
              "      <td>Baixa</td>\n",
              "      <td>1.12</td>\n",
              "      <td>200000</td>\n",
              "      <td>2012-01-01</td>\n",
              "    </tr>\n",
              "  </tbody>\n",
              "</table>\n",
              "</div>\n",
              "      <button class=\"colab-df-convert\" onclick=\"convertToInteractive('df-5321dc64-82be-4570-8d44-1d96781ed5c1')\"\n",
              "              title=\"Convert this dataframe to an interactive table.\"\n",
              "              style=\"display:none;\">\n",
              "        \n",
              "  <svg xmlns=\"http://www.w3.org/2000/svg\" height=\"24px\"viewBox=\"0 0 24 24\"\n",
              "       width=\"24px\">\n",
              "    <path d=\"M0 0h24v24H0V0z\" fill=\"none\"/>\n",
              "    <path d=\"M18.56 5.44l.94 2.06.94-2.06 2.06-.94-2.06-.94-.94-2.06-.94 2.06-2.06.94zm-11 1L8.5 8.5l.94-2.06 2.06-.94-2.06-.94L8.5 2.5l-.94 2.06-2.06.94zm10 10l.94 2.06.94-2.06 2.06-.94-2.06-.94-.94-2.06-.94 2.06-2.06.94z\"/><path d=\"M17.41 7.96l-1.37-1.37c-.4-.4-.92-.59-1.43-.59-.52 0-1.04.2-1.43.59L10.3 9.45l-7.72 7.72c-.78.78-.78 2.05 0 2.83L4 21.41c.39.39.9.59 1.41.59.51 0 1.02-.2 1.41-.59l7.78-7.78 2.81-2.81c.8-.78.8-2.07 0-2.86zM5.41 20L4 18.59l7.72-7.72 1.47 1.35L5.41 20z\"/>\n",
              "  </svg>\n",
              "      </button>\n",
              "      \n",
              "  <style>\n",
              "    .colab-df-container {\n",
              "      display:flex;\n",
              "      flex-wrap:wrap;\n",
              "      gap: 12px;\n",
              "    }\n",
              "\n",
              "    .colab-df-convert {\n",
              "      background-color: #E8F0FE;\n",
              "      border: none;\n",
              "      border-radius: 50%;\n",
              "      cursor: pointer;\n",
              "      display: none;\n",
              "      fill: #1967D2;\n",
              "      height: 32px;\n",
              "      padding: 0 0 0 0;\n",
              "      width: 32px;\n",
              "    }\n",
              "\n",
              "    .colab-df-convert:hover {\n",
              "      background-color: #E2EBFA;\n",
              "      box-shadow: 0px 1px 2px rgba(60, 64, 67, 0.3), 0px 1px 3px 1px rgba(60, 64, 67, 0.15);\n",
              "      fill: #174EA6;\n",
              "    }\n",
              "\n",
              "    [theme=dark] .colab-df-convert {\n",
              "      background-color: #3B4455;\n",
              "      fill: #D2E3FC;\n",
              "    }\n",
              "\n",
              "    [theme=dark] .colab-df-convert:hover {\n",
              "      background-color: #434B5C;\n",
              "      box-shadow: 0px 1px 3px 1px rgba(0, 0, 0, 0.15);\n",
              "      filter: drop-shadow(0px 1px 2px rgba(0, 0, 0, 0.3));\n",
              "      fill: #FFFFFF;\n",
              "    }\n",
              "  </style>\n",
              "\n",
              "      <script>\n",
              "        const buttonEl =\n",
              "          document.querySelector('#df-5321dc64-82be-4570-8d44-1d96781ed5c1 button.colab-df-convert');\n",
              "        buttonEl.style.display =\n",
              "          google.colab.kernel.accessAllowed ? 'block' : 'none';\n",
              "\n",
              "        async function convertToInteractive(key) {\n",
              "          const element = document.querySelector('#df-5321dc64-82be-4570-8d44-1d96781ed5c1');\n",
              "          const dataTable =\n",
              "            await google.colab.kernel.invokeFunction('convertToInteractive',\n",
              "                                                     [key], {});\n",
              "          if (!dataTable) return;\n",
              "\n",
              "          const docLinkHtml = 'Like what you see? Visit the ' +\n",
              "            '<a target=\"_blank\" href=https://colab.research.google.com/notebooks/data_table.ipynb>data table notebook</a>'\n",
              "            + ' to learn more about interactive tables.';\n",
              "          element.innerHTML = '';\n",
              "          dataTable['output_type'] = 'display_data';\n",
              "          await google.colab.output.renderOutput(dataTable, element);\n",
              "          const docLink = document.createElement('div');\n",
              "          docLink.innerHTML = docLinkHtml;\n",
              "          element.appendChild(docLink);\n",
              "        }\n",
              "      </script>\n",
              "    </div>\n",
              "  </div>\n",
              "  "
            ]
          },
          "metadata": {},
          "execution_count": 39
        }
      ]
    },
    {
      "cell_type": "markdown",
      "source": [
        "Contamos quantas células estão preenchidas em cada linha, percorrendo todas as colunas do _DataFrame_"
      ],
      "metadata": {
        "id": "4_YFWjcHdGPY"
      }
    },
    {
      "cell_type": "code",
      "source": [
        "df.count(axis='columns')"
      ],
      "metadata": {
        "id": "uIiUY0DmUBK0",
        "colab": {
          "base_uri": "https://localhost:8080/"
        },
        "outputId": "b12f6fa9-e380-4d80-9730-a620a83c53a9"
      },
      "execution_count": null,
      "outputs": [
        {
          "output_type": "execute_result",
          "data": {
            "text/plain": [
              "A    5\n",
              "B    5\n",
              "C    4\n",
              "D    4\n",
              "E    5\n",
              "F    5\n",
              "G    5\n",
              "dtype: int64"
            ]
          },
          "metadata": {},
          "execution_count": 38
        }
      ]
    },
    {
      "cell_type": "markdown",
      "source": [
        "Contamos quantas células estão preenchidas em cada coluna, percorrendo todas as linhas do _DataFrame_"
      ],
      "metadata": {
        "id": "hGcHxMjhdPUL"
      }
    },
    {
      "cell_type": "code",
      "source": [
        "df.count(axis='index').to_frame().transpose()"
      ],
      "metadata": {
        "id": "-jkjGO5hUjHV",
        "colab": {
          "base_uri": "https://localhost:8080/",
          "height": 80
        },
        "outputId": "ec814ba5-f6cf-48e7-edc6-7cb8bbdb6629"
      },
      "execution_count": null,
      "outputs": [
        {
          "output_type": "execute_result",
          "data": {
            "text/plain": [
              "   LINGUAGENS  POPULARIDADE  VERSÃO  DESENVOLVEDORES  DATA DE LANÇAMENTO\n",
              "0           7             7       5                7                   7"
            ],
            "text/html": [
              "\n",
              "  <div id=\"df-ebf22c6e-b78a-44c6-aa78-6ede1dd3cc41\">\n",
              "    <div class=\"colab-df-container\">\n",
              "      <div>\n",
              "<style scoped>\n",
              "    .dataframe tbody tr th:only-of-type {\n",
              "        vertical-align: middle;\n",
              "    }\n",
              "\n",
              "    .dataframe tbody tr th {\n",
              "        vertical-align: top;\n",
              "    }\n",
              "\n",
              "    .dataframe thead th {\n",
              "        text-align: right;\n",
              "    }\n",
              "</style>\n",
              "<table border=\"1\" class=\"dataframe\">\n",
              "  <thead>\n",
              "    <tr style=\"text-align: right;\">\n",
              "      <th></th>\n",
              "      <th>LINGUAGENS</th>\n",
              "      <th>POPULARIDADE</th>\n",
              "      <th>VERSÃO</th>\n",
              "      <th>DESENVOLVEDORES</th>\n",
              "      <th>DATA DE LANÇAMENTO</th>\n",
              "    </tr>\n",
              "  </thead>\n",
              "  <tbody>\n",
              "    <tr>\n",
              "      <th>0</th>\n",
              "      <td>7</td>\n",
              "      <td>7</td>\n",
              "      <td>5</td>\n",
              "      <td>7</td>\n",
              "      <td>7</td>\n",
              "    </tr>\n",
              "  </tbody>\n",
              "</table>\n",
              "</div>\n",
              "      <button class=\"colab-df-convert\" onclick=\"convertToInteractive('df-ebf22c6e-b78a-44c6-aa78-6ede1dd3cc41')\"\n",
              "              title=\"Convert this dataframe to an interactive table.\"\n",
              "              style=\"display:none;\">\n",
              "        \n",
              "  <svg xmlns=\"http://www.w3.org/2000/svg\" height=\"24px\"viewBox=\"0 0 24 24\"\n",
              "       width=\"24px\">\n",
              "    <path d=\"M0 0h24v24H0V0z\" fill=\"none\"/>\n",
              "    <path d=\"M18.56 5.44l.94 2.06.94-2.06 2.06-.94-2.06-.94-.94-2.06-.94 2.06-2.06.94zm-11 1L8.5 8.5l.94-2.06 2.06-.94-2.06-.94L8.5 2.5l-.94 2.06-2.06.94zm10 10l.94 2.06.94-2.06 2.06-.94-2.06-.94-.94-2.06-.94 2.06-2.06.94z\"/><path d=\"M17.41 7.96l-1.37-1.37c-.4-.4-.92-.59-1.43-.59-.52 0-1.04.2-1.43.59L10.3 9.45l-7.72 7.72c-.78.78-.78 2.05 0 2.83L4 21.41c.39.39.9.59 1.41.59.51 0 1.02-.2 1.41-.59l7.78-7.78 2.81-2.81c.8-.78.8-2.07 0-2.86zM5.41 20L4 18.59l7.72-7.72 1.47 1.35L5.41 20z\"/>\n",
              "  </svg>\n",
              "      </button>\n",
              "      \n",
              "  <style>\n",
              "    .colab-df-container {\n",
              "      display:flex;\n",
              "      flex-wrap:wrap;\n",
              "      gap: 12px;\n",
              "    }\n",
              "\n",
              "    .colab-df-convert {\n",
              "      background-color: #E8F0FE;\n",
              "      border: none;\n",
              "      border-radius: 50%;\n",
              "      cursor: pointer;\n",
              "      display: none;\n",
              "      fill: #1967D2;\n",
              "      height: 32px;\n",
              "      padding: 0 0 0 0;\n",
              "      width: 32px;\n",
              "    }\n",
              "\n",
              "    .colab-df-convert:hover {\n",
              "      background-color: #E2EBFA;\n",
              "      box-shadow: 0px 1px 2px rgba(60, 64, 67, 0.3), 0px 1px 3px 1px rgba(60, 64, 67, 0.15);\n",
              "      fill: #174EA6;\n",
              "    }\n",
              "\n",
              "    [theme=dark] .colab-df-convert {\n",
              "      background-color: #3B4455;\n",
              "      fill: #D2E3FC;\n",
              "    }\n",
              "\n",
              "    [theme=dark] .colab-df-convert:hover {\n",
              "      background-color: #434B5C;\n",
              "      box-shadow: 0px 1px 3px 1px rgba(0, 0, 0, 0.15);\n",
              "      filter: drop-shadow(0px 1px 2px rgba(0, 0, 0, 0.3));\n",
              "      fill: #FFFFFF;\n",
              "    }\n",
              "  </style>\n",
              "\n",
              "      <script>\n",
              "        const buttonEl =\n",
              "          document.querySelector('#df-ebf22c6e-b78a-44c6-aa78-6ede1dd3cc41 button.colab-df-convert');\n",
              "        buttonEl.style.display =\n",
              "          google.colab.kernel.accessAllowed ? 'block' : 'none';\n",
              "\n",
              "        async function convertToInteractive(key) {\n",
              "          const element = document.querySelector('#df-ebf22c6e-b78a-44c6-aa78-6ede1dd3cc41');\n",
              "          const dataTable =\n",
              "            await google.colab.kernel.invokeFunction('convertToInteractive',\n",
              "                                                     [key], {});\n",
              "          if (!dataTable) return;\n",
              "\n",
              "          const docLinkHtml = 'Like what you see? Visit the ' +\n",
              "            '<a target=\"_blank\" href=https://colab.research.google.com/notebooks/data_table.ipynb>data table notebook</a>'\n",
              "            + ' to learn more about interactive tables.';\n",
              "          element.innerHTML = '';\n",
              "          dataTable['output_type'] = 'display_data';\n",
              "          await google.colab.output.renderOutput(dataTable, element);\n",
              "          const docLink = document.createElement('div');\n",
              "          docLink.innerHTML = docLinkHtml;\n",
              "          element.appendChild(docLink);\n",
              "        }\n",
              "      </script>\n",
              "    </div>\n",
              "  </div>\n",
              "  "
            ]
          },
          "metadata": {},
          "execution_count": 40
        }
      ]
    },
    {
      "cell_type": "markdown",
      "source": [
        "Recuperamos os valores da _Series_ POPULARIDADE"
      ],
      "metadata": {
        "id": "BHDqiomxdZko"
      }
    },
    {
      "cell_type": "code",
      "source": [
        "df['POPULARIDADE']"
      ],
      "metadata": {
        "colab": {
          "base_uri": "https://localhost:8080/"
        },
        "id": "BRyJcmb70rkh",
        "outputId": "b38eb344-b6d2-4109-a748-60cad68e8a87"
      },
      "execution_count": null,
      "outputs": [
        {
          "output_type": "execute_result",
          "data": {
            "text/plain": [
              "A         Alta\n",
              "B        Baixa\n",
              "C    Altíssima\n",
              "D        Média\n",
              "E    Altíssima\n",
              "F    Altíssima\n",
              "G        Baixa\n",
              "Name: POPULARIDADE, dtype: object"
            ]
          },
          "metadata": {},
          "execution_count": 41
        }
      ]
    },
    {
      "cell_type": "markdown",
      "source": [
        "Contamos os números de células preenchidas nesta _Series_"
      ],
      "metadata": {
        "id": "bIYHX13Vdgis"
      }
    },
    {
      "cell_type": "code",
      "source": [
        "df['POPULARIDADE'].count()"
      ],
      "metadata": {
        "id": "pkZcar-VUdVO",
        "colab": {
          "base_uri": "https://localhost:8080/"
        },
        "outputId": "04b915a0-6115-456e-addf-e0a11e625ca8"
      },
      "execution_count": null,
      "outputs": [
        {
          "output_type": "execute_result",
          "data": {
            "text/plain": [
              "7"
            ]
          },
          "metadata": {},
          "execution_count": 42
        }
      ]
    },
    {
      "cell_type": "markdown",
      "source": [
        "#### Value_Counts"
      ],
      "metadata": {
        "id": "S_IWP20rV5Zh"
      }
    },
    {
      "cell_type": "code",
      "source": [
        "df.value_counts?"
      ],
      "metadata": {
        "id": "ExE9BvZtkZRf"
      },
      "execution_count": null,
      "outputs": []
    },
    {
      "cell_type": "code",
      "source": [
        "df['POPULARIDADE']"
      ],
      "metadata": {
        "colab": {
          "base_uri": "https://localhost:8080/"
        },
        "id": "16NyustC1Ahc",
        "outputId": "25d3d89f-96bf-49d7-b8d6-58f211ba3e44"
      },
      "execution_count": null,
      "outputs": [
        {
          "output_type": "execute_result",
          "data": {
            "text/plain": [
              "A         Alta\n",
              "B        Baixa\n",
              "C    Altíssima\n",
              "D        Média\n",
              "E    Altíssima\n",
              "F    Altíssima\n",
              "G        Baixa\n",
              "Name: POPULARIDADE, dtype: object"
            ]
          },
          "metadata": {},
          "execution_count": 43
        }
      ]
    },
    {
      "cell_type": "markdown",
      "source": [
        "Quando aplicamos o `value_counts` diretamente no _DataFrame_, devemos espeficar o subconjunto ao qual desejar observar. \n",
        "\n",
        "Para isso, usamos o parâmetro nomeado `subset=`"
      ],
      "metadata": {
        "id": "ovAHlcDTegO-"
      }
    },
    {
      "cell_type": "code",
      "source": [
        "df.value_counts(subset='POPULARIDADE')"
      ],
      "metadata": {
        "id": "NtaJl_HyV-5A",
        "colab": {
          "base_uri": "https://localhost:8080/"
        },
        "outputId": "8513c2d4-4de7-4812-9bcb-7f86d2274dd1"
      },
      "execution_count": null,
      "outputs": [
        {
          "output_type": "execute_result",
          "data": {
            "text/plain": [
              "POPULARIDADE\n",
              "Altíssima    3\n",
              "Baixa        2\n",
              "Alta         1\n",
              "Média        1\n",
              "dtype: int64"
            ]
          },
          "metadata": {},
          "execution_count": 44
        }
      ]
    },
    {
      "cell_type": "markdown",
      "source": [
        "#### Sort_Values"
      ],
      "metadata": {
        "id": "ioU3HX5mfYlu"
      }
    },
    {
      "cell_type": "code",
      "source": [
        "df.sort_values?"
      ],
      "metadata": {
        "id": "3AZiVkhBf4Wd"
      },
      "execution_count": null,
      "outputs": []
    },
    {
      "cell_type": "markdown",
      "source": [
        "Ordenação que por padrão é realizada de forma _ascendente_\n",
        "\n",
        "O parâmetro nomeado `by=` informa por qual _Series_, podendo ser uma ou uma lista, ocorrerá a ordenação"
      ],
      "metadata": {
        "id": "7GS0T96Pe6zp"
      }
    },
    {
      "cell_type": "code",
      "source": [
        "df.sort_values(by='VERSÃO')"
      ],
      "metadata": {
        "id": "jMj5qaUCfdmr",
        "colab": {
          "base_uri": "https://localhost:8080/",
          "height": 269
        },
        "outputId": "00a1d2f4-fce5-4bd4-c4df-68d0f6bfe6f8"
      },
      "execution_count": null,
      "outputs": [
        {
          "output_type": "execute_result",
          "data": {
            "text/plain": [
              "   LINGUAGENS POPULARIDADE  VERSÃO  DESENVOLVEDORES DATA DE LANÇAMENTO\n",
              "G      Elixir        Baixa    1.12           200000         2012-01-01\n",
              "A      Python         Alta    3.10          7000000         1991-02-20\n",
              "B           R        Baixa    4.20           500000         1993-08-03\n",
              "E        Java    Altíssima   11.00         16000000         1995-05-23\n",
              "F  Javascript    Altíssima   16.00         25000000         1995-12-04\n",
              "C         SQL    Altíssima     NaN         20000000         1986-01-01\n",
              "D           C        Média     NaN          3500000         1972-01-01"
            ],
            "text/html": [
              "\n",
              "  <div id=\"df-726df629-d36b-4f12-b25a-c392e43a3f23\">\n",
              "    <div class=\"colab-df-container\">\n",
              "      <div>\n",
              "<style scoped>\n",
              "    .dataframe tbody tr th:only-of-type {\n",
              "        vertical-align: middle;\n",
              "    }\n",
              "\n",
              "    .dataframe tbody tr th {\n",
              "        vertical-align: top;\n",
              "    }\n",
              "\n",
              "    .dataframe thead th {\n",
              "        text-align: right;\n",
              "    }\n",
              "</style>\n",
              "<table border=\"1\" class=\"dataframe\">\n",
              "  <thead>\n",
              "    <tr style=\"text-align: right;\">\n",
              "      <th></th>\n",
              "      <th>LINGUAGENS</th>\n",
              "      <th>POPULARIDADE</th>\n",
              "      <th>VERSÃO</th>\n",
              "      <th>DESENVOLVEDORES</th>\n",
              "      <th>DATA DE LANÇAMENTO</th>\n",
              "    </tr>\n",
              "  </thead>\n",
              "  <tbody>\n",
              "    <tr>\n",
              "      <th>G</th>\n",
              "      <td>Elixir</td>\n",
              "      <td>Baixa</td>\n",
              "      <td>1.12</td>\n",
              "      <td>200000</td>\n",
              "      <td>2012-01-01</td>\n",
              "    </tr>\n",
              "    <tr>\n",
              "      <th>A</th>\n",
              "      <td>Python</td>\n",
              "      <td>Alta</td>\n",
              "      <td>3.10</td>\n",
              "      <td>7000000</td>\n",
              "      <td>1991-02-20</td>\n",
              "    </tr>\n",
              "    <tr>\n",
              "      <th>B</th>\n",
              "      <td>R</td>\n",
              "      <td>Baixa</td>\n",
              "      <td>4.20</td>\n",
              "      <td>500000</td>\n",
              "      <td>1993-08-03</td>\n",
              "    </tr>\n",
              "    <tr>\n",
              "      <th>E</th>\n",
              "      <td>Java</td>\n",
              "      <td>Altíssima</td>\n",
              "      <td>11.00</td>\n",
              "      <td>16000000</td>\n",
              "      <td>1995-05-23</td>\n",
              "    </tr>\n",
              "    <tr>\n",
              "      <th>F</th>\n",
              "      <td>Javascript</td>\n",
              "      <td>Altíssima</td>\n",
              "      <td>16.00</td>\n",
              "      <td>25000000</td>\n",
              "      <td>1995-12-04</td>\n",
              "    </tr>\n",
              "    <tr>\n",
              "      <th>C</th>\n",
              "      <td>SQL</td>\n",
              "      <td>Altíssima</td>\n",
              "      <td>NaN</td>\n",
              "      <td>20000000</td>\n",
              "      <td>1986-01-01</td>\n",
              "    </tr>\n",
              "    <tr>\n",
              "      <th>D</th>\n",
              "      <td>C</td>\n",
              "      <td>Média</td>\n",
              "      <td>NaN</td>\n",
              "      <td>3500000</td>\n",
              "      <td>1972-01-01</td>\n",
              "    </tr>\n",
              "  </tbody>\n",
              "</table>\n",
              "</div>\n",
              "      <button class=\"colab-df-convert\" onclick=\"convertToInteractive('df-726df629-d36b-4f12-b25a-c392e43a3f23')\"\n",
              "              title=\"Convert this dataframe to an interactive table.\"\n",
              "              style=\"display:none;\">\n",
              "        \n",
              "  <svg xmlns=\"http://www.w3.org/2000/svg\" height=\"24px\"viewBox=\"0 0 24 24\"\n",
              "       width=\"24px\">\n",
              "    <path d=\"M0 0h24v24H0V0z\" fill=\"none\"/>\n",
              "    <path d=\"M18.56 5.44l.94 2.06.94-2.06 2.06-.94-2.06-.94-.94-2.06-.94 2.06-2.06.94zm-11 1L8.5 8.5l.94-2.06 2.06-.94-2.06-.94L8.5 2.5l-.94 2.06-2.06.94zm10 10l.94 2.06.94-2.06 2.06-.94-2.06-.94-.94-2.06-.94 2.06-2.06.94z\"/><path d=\"M17.41 7.96l-1.37-1.37c-.4-.4-.92-.59-1.43-.59-.52 0-1.04.2-1.43.59L10.3 9.45l-7.72 7.72c-.78.78-.78 2.05 0 2.83L4 21.41c.39.39.9.59 1.41.59.51 0 1.02-.2 1.41-.59l7.78-7.78 2.81-2.81c.8-.78.8-2.07 0-2.86zM5.41 20L4 18.59l7.72-7.72 1.47 1.35L5.41 20z\"/>\n",
              "  </svg>\n",
              "      </button>\n",
              "      \n",
              "  <style>\n",
              "    .colab-df-container {\n",
              "      display:flex;\n",
              "      flex-wrap:wrap;\n",
              "      gap: 12px;\n",
              "    }\n",
              "\n",
              "    .colab-df-convert {\n",
              "      background-color: #E8F0FE;\n",
              "      border: none;\n",
              "      border-radius: 50%;\n",
              "      cursor: pointer;\n",
              "      display: none;\n",
              "      fill: #1967D2;\n",
              "      height: 32px;\n",
              "      padding: 0 0 0 0;\n",
              "      width: 32px;\n",
              "    }\n",
              "\n",
              "    .colab-df-convert:hover {\n",
              "      background-color: #E2EBFA;\n",
              "      box-shadow: 0px 1px 2px rgba(60, 64, 67, 0.3), 0px 1px 3px 1px rgba(60, 64, 67, 0.15);\n",
              "      fill: #174EA6;\n",
              "    }\n",
              "\n",
              "    [theme=dark] .colab-df-convert {\n",
              "      background-color: #3B4455;\n",
              "      fill: #D2E3FC;\n",
              "    }\n",
              "\n",
              "    [theme=dark] .colab-df-convert:hover {\n",
              "      background-color: #434B5C;\n",
              "      box-shadow: 0px 1px 3px 1px rgba(0, 0, 0, 0.15);\n",
              "      filter: drop-shadow(0px 1px 2px rgba(0, 0, 0, 0.3));\n",
              "      fill: #FFFFFF;\n",
              "    }\n",
              "  </style>\n",
              "\n",
              "      <script>\n",
              "        const buttonEl =\n",
              "          document.querySelector('#df-726df629-d36b-4f12-b25a-c392e43a3f23 button.colab-df-convert');\n",
              "        buttonEl.style.display =\n",
              "          google.colab.kernel.accessAllowed ? 'block' : 'none';\n",
              "\n",
              "        async function convertToInteractive(key) {\n",
              "          const element = document.querySelector('#df-726df629-d36b-4f12-b25a-c392e43a3f23');\n",
              "          const dataTable =\n",
              "            await google.colab.kernel.invokeFunction('convertToInteractive',\n",
              "                                                     [key], {});\n",
              "          if (!dataTable) return;\n",
              "\n",
              "          const docLinkHtml = 'Like what you see? Visit the ' +\n",
              "            '<a target=\"_blank\" href=https://colab.research.google.com/notebooks/data_table.ipynb>data table notebook</a>'\n",
              "            + ' to learn more about interactive tables.';\n",
              "          element.innerHTML = '';\n",
              "          dataTable['output_type'] = 'display_data';\n",
              "          await google.colab.output.renderOutput(dataTable, element);\n",
              "          const docLink = document.createElement('div');\n",
              "          docLink.innerHTML = docLinkHtml;\n",
              "          element.appendChild(docLink);\n",
              "        }\n",
              "      </script>\n",
              "    </div>\n",
              "  </div>\n",
              "  "
            ]
          },
          "metadata": {},
          "execution_count": 46
        }
      ]
    },
    {
      "cell_type": "markdown",
      "source": [
        "Podemos, também, utilizar outro parâmetro nomeado `ascending=False` para que a ordenação ocorra de forma decrescente"
      ],
      "metadata": {
        "id": "uk2og8dYf3iG"
      }
    },
    {
      "cell_type": "code",
      "source": [
        "df.sort_values(by='DESENVOLVEDORES', ascending=False)"
      ],
      "metadata": {
        "id": "Q9outouRfpIz",
        "colab": {
          "base_uri": "https://localhost:8080/",
          "height": 269
        },
        "outputId": "76cedfa0-b075-497e-ca62-a2abf5ae6cd2"
      },
      "execution_count": null,
      "outputs": [
        {
          "output_type": "execute_result",
          "data": {
            "text/plain": [
              "   LINGUAGENS POPULARIDADE  VERSÃO  DESENVOLVEDORES DATA DE LANÇAMENTO\n",
              "F  Javascript    Altíssima   16.00         25000000         1995-12-04\n",
              "C         SQL    Altíssima     NaN         20000000         1986-01-01\n",
              "E        Java    Altíssima   11.00         16000000         1995-05-23\n",
              "A      Python         Alta    3.10          7000000         1991-02-20\n",
              "D           C        Média     NaN          3500000         1972-01-01\n",
              "B           R        Baixa    4.20           500000         1993-08-03\n",
              "G      Elixir        Baixa    1.12           200000         2012-01-01"
            ],
            "text/html": [
              "\n",
              "  <div id=\"df-b895879e-7ffd-489b-9b02-3f9dd5b0f621\">\n",
              "    <div class=\"colab-df-container\">\n",
              "      <div>\n",
              "<style scoped>\n",
              "    .dataframe tbody tr th:only-of-type {\n",
              "        vertical-align: middle;\n",
              "    }\n",
              "\n",
              "    .dataframe tbody tr th {\n",
              "        vertical-align: top;\n",
              "    }\n",
              "\n",
              "    .dataframe thead th {\n",
              "        text-align: right;\n",
              "    }\n",
              "</style>\n",
              "<table border=\"1\" class=\"dataframe\">\n",
              "  <thead>\n",
              "    <tr style=\"text-align: right;\">\n",
              "      <th></th>\n",
              "      <th>LINGUAGENS</th>\n",
              "      <th>POPULARIDADE</th>\n",
              "      <th>VERSÃO</th>\n",
              "      <th>DESENVOLVEDORES</th>\n",
              "      <th>DATA DE LANÇAMENTO</th>\n",
              "    </tr>\n",
              "  </thead>\n",
              "  <tbody>\n",
              "    <tr>\n",
              "      <th>F</th>\n",
              "      <td>Javascript</td>\n",
              "      <td>Altíssima</td>\n",
              "      <td>16.00</td>\n",
              "      <td>25000000</td>\n",
              "      <td>1995-12-04</td>\n",
              "    </tr>\n",
              "    <tr>\n",
              "      <th>C</th>\n",
              "      <td>SQL</td>\n",
              "      <td>Altíssima</td>\n",
              "      <td>NaN</td>\n",
              "      <td>20000000</td>\n",
              "      <td>1986-01-01</td>\n",
              "    </tr>\n",
              "    <tr>\n",
              "      <th>E</th>\n",
              "      <td>Java</td>\n",
              "      <td>Altíssima</td>\n",
              "      <td>11.00</td>\n",
              "      <td>16000000</td>\n",
              "      <td>1995-05-23</td>\n",
              "    </tr>\n",
              "    <tr>\n",
              "      <th>A</th>\n",
              "      <td>Python</td>\n",
              "      <td>Alta</td>\n",
              "      <td>3.10</td>\n",
              "      <td>7000000</td>\n",
              "      <td>1991-02-20</td>\n",
              "    </tr>\n",
              "    <tr>\n",
              "      <th>D</th>\n",
              "      <td>C</td>\n",
              "      <td>Média</td>\n",
              "      <td>NaN</td>\n",
              "      <td>3500000</td>\n",
              "      <td>1972-01-01</td>\n",
              "    </tr>\n",
              "    <tr>\n",
              "      <th>B</th>\n",
              "      <td>R</td>\n",
              "      <td>Baixa</td>\n",
              "      <td>4.20</td>\n",
              "      <td>500000</td>\n",
              "      <td>1993-08-03</td>\n",
              "    </tr>\n",
              "    <tr>\n",
              "      <th>G</th>\n",
              "      <td>Elixir</td>\n",
              "      <td>Baixa</td>\n",
              "      <td>1.12</td>\n",
              "      <td>200000</td>\n",
              "      <td>2012-01-01</td>\n",
              "    </tr>\n",
              "  </tbody>\n",
              "</table>\n",
              "</div>\n",
              "      <button class=\"colab-df-convert\" onclick=\"convertToInteractive('df-b895879e-7ffd-489b-9b02-3f9dd5b0f621')\"\n",
              "              title=\"Convert this dataframe to an interactive table.\"\n",
              "              style=\"display:none;\">\n",
              "        \n",
              "  <svg xmlns=\"http://www.w3.org/2000/svg\" height=\"24px\"viewBox=\"0 0 24 24\"\n",
              "       width=\"24px\">\n",
              "    <path d=\"M0 0h24v24H0V0z\" fill=\"none\"/>\n",
              "    <path d=\"M18.56 5.44l.94 2.06.94-2.06 2.06-.94-2.06-.94-.94-2.06-.94 2.06-2.06.94zm-11 1L8.5 8.5l.94-2.06 2.06-.94-2.06-.94L8.5 2.5l-.94 2.06-2.06.94zm10 10l.94 2.06.94-2.06 2.06-.94-2.06-.94-.94-2.06-.94 2.06-2.06.94z\"/><path d=\"M17.41 7.96l-1.37-1.37c-.4-.4-.92-.59-1.43-.59-.52 0-1.04.2-1.43.59L10.3 9.45l-7.72 7.72c-.78.78-.78 2.05 0 2.83L4 21.41c.39.39.9.59 1.41.59.51 0 1.02-.2 1.41-.59l7.78-7.78 2.81-2.81c.8-.78.8-2.07 0-2.86zM5.41 20L4 18.59l7.72-7.72 1.47 1.35L5.41 20z\"/>\n",
              "  </svg>\n",
              "      </button>\n",
              "      \n",
              "  <style>\n",
              "    .colab-df-container {\n",
              "      display:flex;\n",
              "      flex-wrap:wrap;\n",
              "      gap: 12px;\n",
              "    }\n",
              "\n",
              "    .colab-df-convert {\n",
              "      background-color: #E8F0FE;\n",
              "      border: none;\n",
              "      border-radius: 50%;\n",
              "      cursor: pointer;\n",
              "      display: none;\n",
              "      fill: #1967D2;\n",
              "      height: 32px;\n",
              "      padding: 0 0 0 0;\n",
              "      width: 32px;\n",
              "    }\n",
              "\n",
              "    .colab-df-convert:hover {\n",
              "      background-color: #E2EBFA;\n",
              "      box-shadow: 0px 1px 2px rgba(60, 64, 67, 0.3), 0px 1px 3px 1px rgba(60, 64, 67, 0.15);\n",
              "      fill: #174EA6;\n",
              "    }\n",
              "\n",
              "    [theme=dark] .colab-df-convert {\n",
              "      background-color: #3B4455;\n",
              "      fill: #D2E3FC;\n",
              "    }\n",
              "\n",
              "    [theme=dark] .colab-df-convert:hover {\n",
              "      background-color: #434B5C;\n",
              "      box-shadow: 0px 1px 3px 1px rgba(0, 0, 0, 0.15);\n",
              "      filter: drop-shadow(0px 1px 2px rgba(0, 0, 0, 0.3));\n",
              "      fill: #FFFFFF;\n",
              "    }\n",
              "  </style>\n",
              "\n",
              "      <script>\n",
              "        const buttonEl =\n",
              "          document.querySelector('#df-b895879e-7ffd-489b-9b02-3f9dd5b0f621 button.colab-df-convert');\n",
              "        buttonEl.style.display =\n",
              "          google.colab.kernel.accessAllowed ? 'block' : 'none';\n",
              "\n",
              "        async function convertToInteractive(key) {\n",
              "          const element = document.querySelector('#df-b895879e-7ffd-489b-9b02-3f9dd5b0f621');\n",
              "          const dataTable =\n",
              "            await google.colab.kernel.invokeFunction('convertToInteractive',\n",
              "                                                     [key], {});\n",
              "          if (!dataTable) return;\n",
              "\n",
              "          const docLinkHtml = 'Like what you see? Visit the ' +\n",
              "            '<a target=\"_blank\" href=https://colab.research.google.com/notebooks/data_table.ipynb>data table notebook</a>'\n",
              "            + ' to learn more about interactive tables.';\n",
              "          element.innerHTML = '';\n",
              "          dataTable['output_type'] = 'display_data';\n",
              "          await google.colab.output.renderOutput(dataTable, element);\n",
              "          const docLink = document.createElement('div');\n",
              "          docLink.innerHTML = docLinkHtml;\n",
              "          element.appendChild(docLink);\n",
              "        }\n",
              "      </script>\n",
              "    </div>\n",
              "  </div>\n",
              "  "
            ]
          },
          "metadata": {},
          "execution_count": 47
        }
      ]
    },
    {
      "cell_type": "markdown",
      "source": [
        "## Inserir novas colunas no DataFrame"
      ],
      "metadata": {
        "id": "B9qJYwolpVRk"
      }
    },
    {
      "cell_type": "markdown",
      "source": [
        "Podemos inserir novas colunas em nosso _DataFrame_ de algumas maneiras, mas nesta aula veremos as 2 mais comuns. \n",
        "\n",
        "Normalmente, quando queremos inserir uma nova coluna, basta chamarmos nosso _DataFrame_ com o nome da nova coluna. Veja a _sintaxe_ abaxio:\n",
        "\n",
        "`nome_do_dataframe['nome_da_nova_coluna']`\n",
        "\n",
        "O __Pandas__ buscará pela coluna em questão. Se não encontrar, ele a criará no final do _DataFrame_.\n",
        "\n",
        "_**Mas e se quisermos inserir uma coluna numa posição específica?**_\n",
        "\n",
        "Nestes casos, devemos usar o método `insert`.\n",
        "\n",
        "__SINTAXE__ \n",
        "\n",
        "`DataFrame.insert(loc, column, value, allow_duplicates=False)`\n",
        "\n",
        "* __loc__ : valor inteiro para a posição da coluna, lembrando que a indexação do python inicia-se __SEMPRE__ por zero. Este valor deve ser maior ou igual a zero e não pode ser menor ou igual à quantidade de colunas\n",
        "\n",
        "* __column__ : nome da coluna\n",
        "\n",
        "* __value__ : valor da coluna. Este valor pode ser uma outra _Series_, um array ou o resultado de algum cálculo entre as _Series_ do DataFrame em questão\n",
        "\n",
        "* __allow_duplicates__ : tem por padrão o valor de _False_, para evitar duplicações, porém, pode ser alterado para _True_ e, assim, teremos colunas duplicadas\n",
        "\n",
        "__OBS__ : se `allow_duplicates` estiver como False e se a coluna já estiver contida no _DataFrame_, uma exceção do tipo __ValueError__ será gerada \n"
      ],
      "metadata": {
        "id": "9XPqg3I0ptLe"
      }
    },
    {
      "cell_type": "markdown",
      "source": [
        "## Remover colunas no DataFrame"
      ],
      "metadata": {
        "id": "c99JcMU0TxJC"
      }
    },
    {
      "cell_type": "markdown",
      "source": [
        "Assim como podemos inserir novas colunas, podemos remover colunas de nosso _DataFrame_. \n",
        "\n",
        "__SINTAXE__\n",
        "\n",
        "`DataFrame.drop('label', axis='columns')`\n",
        "\n",
        "* __labels__ : nome da coluna ou lista com os nomes das colunas\n",
        "\n",
        "* __axis__ : \n",
        "\n",
        "  * 0 ou 'index' : para remover do índice\n",
        "  * 1 ou 'columns' : para remover das colunas\n",
        "\n",
        "* __inplace__ : valor booleano. Tem como padrão _False_ e retorna uma cópia do seu _DataFrame_. Se for passado _True_, altera em memória e retorna None"
      ],
      "metadata": {
        "id": "ENsYn1DqT0Y8"
      }
    },
    {
      "cell_type": "code",
      "source": [
        "dfs.head(3)"
      ],
      "metadata": {
        "colab": {
          "base_uri": "https://localhost:8080/",
          "height": 187
        },
        "id": "5Ik2ir_i2rK6",
        "outputId": "1eeb5e29-a377-4711-e0ab-287fa2973e93"
      },
      "execution_count": null,
      "outputs": [
        {
          "output_type": "execute_result",
          "data": {
            "text/plain": [
              "        Status  Lógica de Programação  Python  Data Science  HTML & CSS  \\\n",
              "Amanda      RP                   6.91    7.54          5.17        7.58   \n",
              "Camila      AP                   9.20    9.19          7.25        8.32   \n",
              "Cinthia     AP                   6.59    7.80          8.18        8.09   \n",
              "\n",
              "         JavaScript  React Native  Média Situação  \n",
              "Amanda         7.79          6.44   6.90       RP  \n",
              "Camila         7.41          9.16   8.42       AP  \n",
              "Cinthia        9.66          6.84   7.86       AP  "
            ],
            "text/html": [
              "\n",
              "  <div id=\"df-dd4ef3f1-bb7f-4387-bad2-610686e1388b\">\n",
              "    <div class=\"colab-df-container\">\n",
              "      <div>\n",
              "<style scoped>\n",
              "    .dataframe tbody tr th:only-of-type {\n",
              "        vertical-align: middle;\n",
              "    }\n",
              "\n",
              "    .dataframe tbody tr th {\n",
              "        vertical-align: top;\n",
              "    }\n",
              "\n",
              "    .dataframe thead th {\n",
              "        text-align: right;\n",
              "    }\n",
              "</style>\n",
              "<table border=\"1\" class=\"dataframe\">\n",
              "  <thead>\n",
              "    <tr style=\"text-align: right;\">\n",
              "      <th></th>\n",
              "      <th>Status</th>\n",
              "      <th>Lógica de Programação</th>\n",
              "      <th>Python</th>\n",
              "      <th>Data Science</th>\n",
              "      <th>HTML &amp; CSS</th>\n",
              "      <th>JavaScript</th>\n",
              "      <th>React Native</th>\n",
              "      <th>Média</th>\n",
              "      <th>Situação</th>\n",
              "    </tr>\n",
              "  </thead>\n",
              "  <tbody>\n",
              "    <tr>\n",
              "      <th>Amanda</th>\n",
              "      <td>RP</td>\n",
              "      <td>6.91</td>\n",
              "      <td>7.54</td>\n",
              "      <td>5.17</td>\n",
              "      <td>7.58</td>\n",
              "      <td>7.79</td>\n",
              "      <td>6.44</td>\n",
              "      <td>6.90</td>\n",
              "      <td>RP</td>\n",
              "    </tr>\n",
              "    <tr>\n",
              "      <th>Camila</th>\n",
              "      <td>AP</td>\n",
              "      <td>9.20</td>\n",
              "      <td>9.19</td>\n",
              "      <td>7.25</td>\n",
              "      <td>8.32</td>\n",
              "      <td>7.41</td>\n",
              "      <td>9.16</td>\n",
              "      <td>8.42</td>\n",
              "      <td>AP</td>\n",
              "    </tr>\n",
              "    <tr>\n",
              "      <th>Cinthia</th>\n",
              "      <td>AP</td>\n",
              "      <td>6.59</td>\n",
              "      <td>7.80</td>\n",
              "      <td>8.18</td>\n",
              "      <td>8.09</td>\n",
              "      <td>9.66</td>\n",
              "      <td>6.84</td>\n",
              "      <td>7.86</td>\n",
              "      <td>AP</td>\n",
              "    </tr>\n",
              "  </tbody>\n",
              "</table>\n",
              "</div>\n",
              "      <button class=\"colab-df-convert\" onclick=\"convertToInteractive('df-dd4ef3f1-bb7f-4387-bad2-610686e1388b')\"\n",
              "              title=\"Convert this dataframe to an interactive table.\"\n",
              "              style=\"display:none;\">\n",
              "        \n",
              "  <svg xmlns=\"http://www.w3.org/2000/svg\" height=\"24px\"viewBox=\"0 0 24 24\"\n",
              "       width=\"24px\">\n",
              "    <path d=\"M0 0h24v24H0V0z\" fill=\"none\"/>\n",
              "    <path d=\"M18.56 5.44l.94 2.06.94-2.06 2.06-.94-2.06-.94-.94-2.06-.94 2.06-2.06.94zm-11 1L8.5 8.5l.94-2.06 2.06-.94-2.06-.94L8.5 2.5l-.94 2.06-2.06.94zm10 10l.94 2.06.94-2.06 2.06-.94-2.06-.94-.94-2.06-.94 2.06-2.06.94z\"/><path d=\"M17.41 7.96l-1.37-1.37c-.4-.4-.92-.59-1.43-.59-.52 0-1.04.2-1.43.59L10.3 9.45l-7.72 7.72c-.78.78-.78 2.05 0 2.83L4 21.41c.39.39.9.59 1.41.59.51 0 1.02-.2 1.41-.59l7.78-7.78 2.81-2.81c.8-.78.8-2.07 0-2.86zM5.41 20L4 18.59l7.72-7.72 1.47 1.35L5.41 20z\"/>\n",
              "  </svg>\n",
              "      </button>\n",
              "      \n",
              "  <style>\n",
              "    .colab-df-container {\n",
              "      display:flex;\n",
              "      flex-wrap:wrap;\n",
              "      gap: 12px;\n",
              "    }\n",
              "\n",
              "    .colab-df-convert {\n",
              "      background-color: #E8F0FE;\n",
              "      border: none;\n",
              "      border-radius: 50%;\n",
              "      cursor: pointer;\n",
              "      display: none;\n",
              "      fill: #1967D2;\n",
              "      height: 32px;\n",
              "      padding: 0 0 0 0;\n",
              "      width: 32px;\n",
              "    }\n",
              "\n",
              "    .colab-df-convert:hover {\n",
              "      background-color: #E2EBFA;\n",
              "      box-shadow: 0px 1px 2px rgba(60, 64, 67, 0.3), 0px 1px 3px 1px rgba(60, 64, 67, 0.15);\n",
              "      fill: #174EA6;\n",
              "    }\n",
              "\n",
              "    [theme=dark] .colab-df-convert {\n",
              "      background-color: #3B4455;\n",
              "      fill: #D2E3FC;\n",
              "    }\n",
              "\n",
              "    [theme=dark] .colab-df-convert:hover {\n",
              "      background-color: #434B5C;\n",
              "      box-shadow: 0px 1px 3px 1px rgba(0, 0, 0, 0.15);\n",
              "      filter: drop-shadow(0px 1px 2px rgba(0, 0, 0, 0.3));\n",
              "      fill: #FFFFFF;\n",
              "    }\n",
              "  </style>\n",
              "\n",
              "      <script>\n",
              "        const buttonEl =\n",
              "          document.querySelector('#df-dd4ef3f1-bb7f-4387-bad2-610686e1388b button.colab-df-convert');\n",
              "        buttonEl.style.display =\n",
              "          google.colab.kernel.accessAllowed ? 'block' : 'none';\n",
              "\n",
              "        async function convertToInteractive(key) {\n",
              "          const element = document.querySelector('#df-dd4ef3f1-bb7f-4387-bad2-610686e1388b');\n",
              "          const dataTable =\n",
              "            await google.colab.kernel.invokeFunction('convertToInteractive',\n",
              "                                                     [key], {});\n",
              "          if (!dataTable) return;\n",
              "\n",
              "          const docLinkHtml = 'Like what you see? Visit the ' +\n",
              "            '<a target=\"_blank\" href=https://colab.research.google.com/notebooks/data_table.ipynb>data table notebook</a>'\n",
              "            + ' to learn more about interactive tables.';\n",
              "          element.innerHTML = '';\n",
              "          dataTable['output_type'] = 'display_data';\n",
              "          await google.colab.output.renderOutput(dataTable, element);\n",
              "          const docLink = document.createElement('div');\n",
              "          docLink.innerHTML = docLinkHtml;\n",
              "          element.appendChild(docLink);\n",
              "        }\n",
              "      </script>\n",
              "    </div>\n",
              "  </div>\n",
              "  "
            ]
          },
          "metadata": {},
          "execution_count": 48
        }
      ]
    },
    {
      "cell_type": "code",
      "source": [
        "dfs.drop(['Média', 'Situação'], axis='columns', inplace=True)\n",
        "dfs"
      ],
      "metadata": {
        "id": "cjDFIgU2PlP_",
        "colab": {
          "base_uri": "https://localhost:8080/",
          "height": 300
        },
        "outputId": "ffa4d1da-9741-4c7f-d415-e89d921b4859"
      },
      "execution_count": null,
      "outputs": [
        {
          "output_type": "execute_result",
          "data": {
            "text/plain": [
              "        Status  Lógica de Programação  Python  Data Science  HTML & CSS  \\\n",
              "Amanda      RP                   6.91    7.54          5.17        7.58   \n",
              "Camila      AP                   9.20    9.19          7.25        8.32   \n",
              "Cinthia     AP                   6.59    7.80          8.18        8.09   \n",
              "Gisele      AP                   8.85    6.85          6.47        8.19   \n",
              "Helen       AP                   5.25    8.37          7.69        5.79   \n",
              "Carol       AP                   9.28    8.17          5.45        6.97   \n",
              "Clara       AP                   9.84    5.58          6.25        8.45   \n",
              "Paula       AP                   8.48    9.54          9.48        8.96   \n",
              "\n",
              "         JavaScript  React Native  \n",
              "Amanda         7.79          6.44  \n",
              "Camila         7.41          9.16  \n",
              "Cinthia        9.66          6.84  \n",
              "Gisele         7.19          9.55  \n",
              "Helen          7.17          8.40  \n",
              "Carol          6.20          6.90  \n",
              "Clara          7.38          6.52  \n",
              "Paula          9.77          7.61  "
            ],
            "text/html": [
              "\n",
              "  <div id=\"df-ba62ba93-6439-4575-bf11-f1dd817f1ec4\">\n",
              "    <div class=\"colab-df-container\">\n",
              "      <div>\n",
              "<style scoped>\n",
              "    .dataframe tbody tr th:only-of-type {\n",
              "        vertical-align: middle;\n",
              "    }\n",
              "\n",
              "    .dataframe tbody tr th {\n",
              "        vertical-align: top;\n",
              "    }\n",
              "\n",
              "    .dataframe thead th {\n",
              "        text-align: right;\n",
              "    }\n",
              "</style>\n",
              "<table border=\"1\" class=\"dataframe\">\n",
              "  <thead>\n",
              "    <tr style=\"text-align: right;\">\n",
              "      <th></th>\n",
              "      <th>Status</th>\n",
              "      <th>Lógica de Programação</th>\n",
              "      <th>Python</th>\n",
              "      <th>Data Science</th>\n",
              "      <th>HTML &amp; CSS</th>\n",
              "      <th>JavaScript</th>\n",
              "      <th>React Native</th>\n",
              "    </tr>\n",
              "  </thead>\n",
              "  <tbody>\n",
              "    <tr>\n",
              "      <th>Amanda</th>\n",
              "      <td>RP</td>\n",
              "      <td>6.91</td>\n",
              "      <td>7.54</td>\n",
              "      <td>5.17</td>\n",
              "      <td>7.58</td>\n",
              "      <td>7.79</td>\n",
              "      <td>6.44</td>\n",
              "    </tr>\n",
              "    <tr>\n",
              "      <th>Camila</th>\n",
              "      <td>AP</td>\n",
              "      <td>9.20</td>\n",
              "      <td>9.19</td>\n",
              "      <td>7.25</td>\n",
              "      <td>8.32</td>\n",
              "      <td>7.41</td>\n",
              "      <td>9.16</td>\n",
              "    </tr>\n",
              "    <tr>\n",
              "      <th>Cinthia</th>\n",
              "      <td>AP</td>\n",
              "      <td>6.59</td>\n",
              "      <td>7.80</td>\n",
              "      <td>8.18</td>\n",
              "      <td>8.09</td>\n",
              "      <td>9.66</td>\n",
              "      <td>6.84</td>\n",
              "    </tr>\n",
              "    <tr>\n",
              "      <th>Gisele</th>\n",
              "      <td>AP</td>\n",
              "      <td>8.85</td>\n",
              "      <td>6.85</td>\n",
              "      <td>6.47</td>\n",
              "      <td>8.19</td>\n",
              "      <td>7.19</td>\n",
              "      <td>9.55</td>\n",
              "    </tr>\n",
              "    <tr>\n",
              "      <th>Helen</th>\n",
              "      <td>AP</td>\n",
              "      <td>5.25</td>\n",
              "      <td>8.37</td>\n",
              "      <td>7.69</td>\n",
              "      <td>5.79</td>\n",
              "      <td>7.17</td>\n",
              "      <td>8.40</td>\n",
              "    </tr>\n",
              "    <tr>\n",
              "      <th>Carol</th>\n",
              "      <td>AP</td>\n",
              "      <td>9.28</td>\n",
              "      <td>8.17</td>\n",
              "      <td>5.45</td>\n",
              "      <td>6.97</td>\n",
              "      <td>6.20</td>\n",
              "      <td>6.90</td>\n",
              "    </tr>\n",
              "    <tr>\n",
              "      <th>Clara</th>\n",
              "      <td>AP</td>\n",
              "      <td>9.84</td>\n",
              "      <td>5.58</td>\n",
              "      <td>6.25</td>\n",
              "      <td>8.45</td>\n",
              "      <td>7.38</td>\n",
              "      <td>6.52</td>\n",
              "    </tr>\n",
              "    <tr>\n",
              "      <th>Paula</th>\n",
              "      <td>AP</td>\n",
              "      <td>8.48</td>\n",
              "      <td>9.54</td>\n",
              "      <td>9.48</td>\n",
              "      <td>8.96</td>\n",
              "      <td>9.77</td>\n",
              "      <td>7.61</td>\n",
              "    </tr>\n",
              "  </tbody>\n",
              "</table>\n",
              "</div>\n",
              "      <button class=\"colab-df-convert\" onclick=\"convertToInteractive('df-ba62ba93-6439-4575-bf11-f1dd817f1ec4')\"\n",
              "              title=\"Convert this dataframe to an interactive table.\"\n",
              "              style=\"display:none;\">\n",
              "        \n",
              "  <svg xmlns=\"http://www.w3.org/2000/svg\" height=\"24px\"viewBox=\"0 0 24 24\"\n",
              "       width=\"24px\">\n",
              "    <path d=\"M0 0h24v24H0V0z\" fill=\"none\"/>\n",
              "    <path d=\"M18.56 5.44l.94 2.06.94-2.06 2.06-.94-2.06-.94-.94-2.06-.94 2.06-2.06.94zm-11 1L8.5 8.5l.94-2.06 2.06-.94-2.06-.94L8.5 2.5l-.94 2.06-2.06.94zm10 10l.94 2.06.94-2.06 2.06-.94-2.06-.94-.94-2.06-.94 2.06-2.06.94z\"/><path d=\"M17.41 7.96l-1.37-1.37c-.4-.4-.92-.59-1.43-.59-.52 0-1.04.2-1.43.59L10.3 9.45l-7.72 7.72c-.78.78-.78 2.05 0 2.83L4 21.41c.39.39.9.59 1.41.59.51 0 1.02-.2 1.41-.59l7.78-7.78 2.81-2.81c.8-.78.8-2.07 0-2.86zM5.41 20L4 18.59l7.72-7.72 1.47 1.35L5.41 20z\"/>\n",
              "  </svg>\n",
              "      </button>\n",
              "      \n",
              "  <style>\n",
              "    .colab-df-container {\n",
              "      display:flex;\n",
              "      flex-wrap:wrap;\n",
              "      gap: 12px;\n",
              "    }\n",
              "\n",
              "    .colab-df-convert {\n",
              "      background-color: #E8F0FE;\n",
              "      border: none;\n",
              "      border-radius: 50%;\n",
              "      cursor: pointer;\n",
              "      display: none;\n",
              "      fill: #1967D2;\n",
              "      height: 32px;\n",
              "      padding: 0 0 0 0;\n",
              "      width: 32px;\n",
              "    }\n",
              "\n",
              "    .colab-df-convert:hover {\n",
              "      background-color: #E2EBFA;\n",
              "      box-shadow: 0px 1px 2px rgba(60, 64, 67, 0.3), 0px 1px 3px 1px rgba(60, 64, 67, 0.15);\n",
              "      fill: #174EA6;\n",
              "    }\n",
              "\n",
              "    [theme=dark] .colab-df-convert {\n",
              "      background-color: #3B4455;\n",
              "      fill: #D2E3FC;\n",
              "    }\n",
              "\n",
              "    [theme=dark] .colab-df-convert:hover {\n",
              "      background-color: #434B5C;\n",
              "      box-shadow: 0px 1px 3px 1px rgba(0, 0, 0, 0.15);\n",
              "      filter: drop-shadow(0px 1px 2px rgba(0, 0, 0, 0.3));\n",
              "      fill: #FFFFFF;\n",
              "    }\n",
              "  </style>\n",
              "\n",
              "      <script>\n",
              "        const buttonEl =\n",
              "          document.querySelector('#df-ba62ba93-6439-4575-bf11-f1dd817f1ec4 button.colab-df-convert');\n",
              "        buttonEl.style.display =\n",
              "          google.colab.kernel.accessAllowed ? 'block' : 'none';\n",
              "\n",
              "        async function convertToInteractive(key) {\n",
              "          const element = document.querySelector('#df-ba62ba93-6439-4575-bf11-f1dd817f1ec4');\n",
              "          const dataTable =\n",
              "            await google.colab.kernel.invokeFunction('convertToInteractive',\n",
              "                                                     [key], {});\n",
              "          if (!dataTable) return;\n",
              "\n",
              "          const docLinkHtml = 'Like what you see? Visit the ' +\n",
              "            '<a target=\"_blank\" href=https://colab.research.google.com/notebooks/data_table.ipynb>data table notebook</a>'\n",
              "            + ' to learn more about interactive tables.';\n",
              "          element.innerHTML = '';\n",
              "          dataTable['output_type'] = 'display_data';\n",
              "          await google.colab.output.renderOutput(dataTable, element);\n",
              "          const docLink = document.createElement('div');\n",
              "          docLink.innerHTML = docLinkHtml;\n",
              "          element.appendChild(docLink);\n",
              "        }\n",
              "      </script>\n",
              "    </div>\n",
              "  </div>\n",
              "  "
            ]
          },
          "metadata": {},
          "execution_count": 49
        }
      ]
    },
    {
      "cell_type": "markdown",
      "source": [
        "## Formatando valores"
      ],
      "metadata": {
        "id": "mqBoCg-5xZpB"
      }
    },
    {
      "cell_type": "code",
      "source": [
        "df.dtypes"
      ],
      "metadata": {
        "colab": {
          "base_uri": "https://localhost:8080/"
        },
        "id": "7f3rWHGww8-M",
        "outputId": "68834178-dba3-4479-c5c6-7192c8b67523"
      },
      "execution_count": null,
      "outputs": [
        {
          "output_type": "execute_result",
          "data": {
            "text/plain": [
              "Linguagem              object\n",
              "Popularidade           object\n",
              "Versão                float64\n",
              "Desenvolvedores         int64\n",
              "Data de Lançamento     object\n",
              "dtype: object"
            ]
          },
          "metadata": {},
          "execution_count": 54
        }
      ]
    },
    {
      "cell_type": "code",
      "source": [
        "df"
      ],
      "metadata": {
        "colab": {
          "base_uri": "https://localhost:8080/",
          "height": 269
        },
        "id": "-U6aqwAb3YHJ",
        "outputId": "9e3c3237-7891-4269-da84-9c4e1890d8ba"
      },
      "execution_count": null,
      "outputs": [
        {
          "output_type": "execute_result",
          "data": {
            "text/plain": [
              "   LINGUAGENS POPULARIDADE  VERSÃO  DESENVOLVEDORES DATA DE LANÇAMENTO\n",
              "A      Python         Alta    3.10          7000000         1991-02-20\n",
              "B           R        Baixa    4.20           500000         1993-08-03\n",
              "C         SQL    Altíssima     NaN         20000000         1986-01-01\n",
              "D           C        Média     NaN          3500000         1972-01-01\n",
              "E        Java    Altíssima   11.00         16000000         1995-05-23\n",
              "F  Javascript    Altíssima   16.00         25000000         1995-12-04\n",
              "G      Elixir        Baixa    1.12           200000         2012-01-01"
            ],
            "text/html": [
              "\n",
              "  <div id=\"df-d8447315-90fc-4e13-8c61-bec7bc4f5fbe\">\n",
              "    <div class=\"colab-df-container\">\n",
              "      <div>\n",
              "<style scoped>\n",
              "    .dataframe tbody tr th:only-of-type {\n",
              "        vertical-align: middle;\n",
              "    }\n",
              "\n",
              "    .dataframe tbody tr th {\n",
              "        vertical-align: top;\n",
              "    }\n",
              "\n",
              "    .dataframe thead th {\n",
              "        text-align: right;\n",
              "    }\n",
              "</style>\n",
              "<table border=\"1\" class=\"dataframe\">\n",
              "  <thead>\n",
              "    <tr style=\"text-align: right;\">\n",
              "      <th></th>\n",
              "      <th>LINGUAGENS</th>\n",
              "      <th>POPULARIDADE</th>\n",
              "      <th>VERSÃO</th>\n",
              "      <th>DESENVOLVEDORES</th>\n",
              "      <th>DATA DE LANÇAMENTO</th>\n",
              "    </tr>\n",
              "  </thead>\n",
              "  <tbody>\n",
              "    <tr>\n",
              "      <th>A</th>\n",
              "      <td>Python</td>\n",
              "      <td>Alta</td>\n",
              "      <td>3.10</td>\n",
              "      <td>7000000</td>\n",
              "      <td>1991-02-20</td>\n",
              "    </tr>\n",
              "    <tr>\n",
              "      <th>B</th>\n",
              "      <td>R</td>\n",
              "      <td>Baixa</td>\n",
              "      <td>4.20</td>\n",
              "      <td>500000</td>\n",
              "      <td>1993-08-03</td>\n",
              "    </tr>\n",
              "    <tr>\n",
              "      <th>C</th>\n",
              "      <td>SQL</td>\n",
              "      <td>Altíssima</td>\n",
              "      <td>NaN</td>\n",
              "      <td>20000000</td>\n",
              "      <td>1986-01-01</td>\n",
              "    </tr>\n",
              "    <tr>\n",
              "      <th>D</th>\n",
              "      <td>C</td>\n",
              "      <td>Média</td>\n",
              "      <td>NaN</td>\n",
              "      <td>3500000</td>\n",
              "      <td>1972-01-01</td>\n",
              "    </tr>\n",
              "    <tr>\n",
              "      <th>E</th>\n",
              "      <td>Java</td>\n",
              "      <td>Altíssima</td>\n",
              "      <td>11.00</td>\n",
              "      <td>16000000</td>\n",
              "      <td>1995-05-23</td>\n",
              "    </tr>\n",
              "    <tr>\n",
              "      <th>F</th>\n",
              "      <td>Javascript</td>\n",
              "      <td>Altíssima</td>\n",
              "      <td>16.00</td>\n",
              "      <td>25000000</td>\n",
              "      <td>1995-12-04</td>\n",
              "    </tr>\n",
              "    <tr>\n",
              "      <th>G</th>\n",
              "      <td>Elixir</td>\n",
              "      <td>Baixa</td>\n",
              "      <td>1.12</td>\n",
              "      <td>200000</td>\n",
              "      <td>2012-01-01</td>\n",
              "    </tr>\n",
              "  </tbody>\n",
              "</table>\n",
              "</div>\n",
              "      <button class=\"colab-df-convert\" onclick=\"convertToInteractive('df-d8447315-90fc-4e13-8c61-bec7bc4f5fbe')\"\n",
              "              title=\"Convert this dataframe to an interactive table.\"\n",
              "              style=\"display:none;\">\n",
              "        \n",
              "  <svg xmlns=\"http://www.w3.org/2000/svg\" height=\"24px\"viewBox=\"0 0 24 24\"\n",
              "       width=\"24px\">\n",
              "    <path d=\"M0 0h24v24H0V0z\" fill=\"none\"/>\n",
              "    <path d=\"M18.56 5.44l.94 2.06.94-2.06 2.06-.94-2.06-.94-.94-2.06-.94 2.06-2.06.94zm-11 1L8.5 8.5l.94-2.06 2.06-.94-2.06-.94L8.5 2.5l-.94 2.06-2.06.94zm10 10l.94 2.06.94-2.06 2.06-.94-2.06-.94-.94-2.06-.94 2.06-2.06.94z\"/><path d=\"M17.41 7.96l-1.37-1.37c-.4-.4-.92-.59-1.43-.59-.52 0-1.04.2-1.43.59L10.3 9.45l-7.72 7.72c-.78.78-.78 2.05 0 2.83L4 21.41c.39.39.9.59 1.41.59.51 0 1.02-.2 1.41-.59l7.78-7.78 2.81-2.81c.8-.78.8-2.07 0-2.86zM5.41 20L4 18.59l7.72-7.72 1.47 1.35L5.41 20z\"/>\n",
              "  </svg>\n",
              "      </button>\n",
              "      \n",
              "  <style>\n",
              "    .colab-df-container {\n",
              "      display:flex;\n",
              "      flex-wrap:wrap;\n",
              "      gap: 12px;\n",
              "    }\n",
              "\n",
              "    .colab-df-convert {\n",
              "      background-color: #E8F0FE;\n",
              "      border: none;\n",
              "      border-radius: 50%;\n",
              "      cursor: pointer;\n",
              "      display: none;\n",
              "      fill: #1967D2;\n",
              "      height: 32px;\n",
              "      padding: 0 0 0 0;\n",
              "      width: 32px;\n",
              "    }\n",
              "\n",
              "    .colab-df-convert:hover {\n",
              "      background-color: #E2EBFA;\n",
              "      box-shadow: 0px 1px 2px rgba(60, 64, 67, 0.3), 0px 1px 3px 1px rgba(60, 64, 67, 0.15);\n",
              "      fill: #174EA6;\n",
              "    }\n",
              "\n",
              "    [theme=dark] .colab-df-convert {\n",
              "      background-color: #3B4455;\n",
              "      fill: #D2E3FC;\n",
              "    }\n",
              "\n",
              "    [theme=dark] .colab-df-convert:hover {\n",
              "      background-color: #434B5C;\n",
              "      box-shadow: 0px 1px 3px 1px rgba(0, 0, 0, 0.15);\n",
              "      filter: drop-shadow(0px 1px 2px rgba(0, 0, 0, 0.3));\n",
              "      fill: #FFFFFF;\n",
              "    }\n",
              "  </style>\n",
              "\n",
              "      <script>\n",
              "        const buttonEl =\n",
              "          document.querySelector('#df-d8447315-90fc-4e13-8c61-bec7bc4f5fbe button.colab-df-convert');\n",
              "        buttonEl.style.display =\n",
              "          google.colab.kernel.accessAllowed ? 'block' : 'none';\n",
              "\n",
              "        async function convertToInteractive(key) {\n",
              "          const element = document.querySelector('#df-d8447315-90fc-4e13-8c61-bec7bc4f5fbe');\n",
              "          const dataTable =\n",
              "            await google.colab.kernel.invokeFunction('convertToInteractive',\n",
              "                                                     [key], {});\n",
              "          if (!dataTable) return;\n",
              "\n",
              "          const docLinkHtml = 'Like what you see? Visit the ' +\n",
              "            '<a target=\"_blank\" href=https://colab.research.google.com/notebooks/data_table.ipynb>data table notebook</a>'\n",
              "            + ' to learn more about interactive tables.';\n",
              "          element.innerHTML = '';\n",
              "          dataTable['output_type'] = 'display_data';\n",
              "          await google.colab.output.renderOutput(dataTable, element);\n",
              "          const docLink = document.createElement('div');\n",
              "          docLink.innerHTML = docLinkHtml;\n",
              "          element.appendChild(docLink);\n",
              "        }\n",
              "      </script>\n",
              "    </div>\n",
              "  </div>\n",
              "  "
            ]
          },
          "metadata": {},
          "execution_count": 50
        }
      ]
    },
    {
      "cell_type": "markdown",
      "source": [
        "Para converter a _Series_ DATA DE LANÇAMENTO para o tipo _datetime_"
      ],
      "metadata": {
        "id": "S_oEfqcrgMMo"
      }
    },
    {
      "cell_type": "code",
      "source": [
        "df['DATA DE LANÇAMENTO'] = pd.to_datetime(df['DATA DE LANÇAMENTO'])"
      ],
      "metadata": {
        "id": "UA8lcM_MxJ2s"
      },
      "execution_count": null,
      "outputs": []
    },
    {
      "cell_type": "code",
      "source": [
        "df.head(2)"
      ],
      "metadata": {
        "colab": {
          "base_uri": "https://localhost:8080/",
          "height": 112
        },
        "id": "dXO4j6po3w7b",
        "outputId": "434b971f-0a97-45c5-9b8c-bf6d42c04426"
      },
      "execution_count": null,
      "outputs": [
        {
          "output_type": "execute_result",
          "data": {
            "text/plain": [
              "  LINGUAGENS POPULARIDADE  VERSÃO  DESENVOLVEDORES DATA DE LANÇAMENTO\n",
              "A     Python         Alta    3.10          7000000         1991-02-20\n",
              "B          R        Baixa    4.20           500000         1993-08-03"
            ],
            "text/html": [
              "\n",
              "  <div id=\"df-6935619e-9903-4d1e-8f2d-64864b06b15e\">\n",
              "    <div class=\"colab-df-container\">\n",
              "      <div>\n",
              "<style scoped>\n",
              "    .dataframe tbody tr th:only-of-type {\n",
              "        vertical-align: middle;\n",
              "    }\n",
              "\n",
              "    .dataframe tbody tr th {\n",
              "        vertical-align: top;\n",
              "    }\n",
              "\n",
              "    .dataframe thead th {\n",
              "        text-align: right;\n",
              "    }\n",
              "</style>\n",
              "<table border=\"1\" class=\"dataframe\">\n",
              "  <thead>\n",
              "    <tr style=\"text-align: right;\">\n",
              "      <th></th>\n",
              "      <th>LINGUAGENS</th>\n",
              "      <th>POPULARIDADE</th>\n",
              "      <th>VERSÃO</th>\n",
              "      <th>DESENVOLVEDORES</th>\n",
              "      <th>DATA DE LANÇAMENTO</th>\n",
              "    </tr>\n",
              "  </thead>\n",
              "  <tbody>\n",
              "    <tr>\n",
              "      <th>A</th>\n",
              "      <td>Python</td>\n",
              "      <td>Alta</td>\n",
              "      <td>3.10</td>\n",
              "      <td>7000000</td>\n",
              "      <td>1991-02-20</td>\n",
              "    </tr>\n",
              "    <tr>\n",
              "      <th>B</th>\n",
              "      <td>R</td>\n",
              "      <td>Baixa</td>\n",
              "      <td>4.20</td>\n",
              "      <td>500000</td>\n",
              "      <td>1993-08-03</td>\n",
              "    </tr>\n",
              "  </tbody>\n",
              "</table>\n",
              "</div>\n",
              "      <button class=\"colab-df-convert\" onclick=\"convertToInteractive('df-6935619e-9903-4d1e-8f2d-64864b06b15e')\"\n",
              "              title=\"Convert this dataframe to an interactive table.\"\n",
              "              style=\"display:none;\">\n",
              "        \n",
              "  <svg xmlns=\"http://www.w3.org/2000/svg\" height=\"24px\"viewBox=\"0 0 24 24\"\n",
              "       width=\"24px\">\n",
              "    <path d=\"M0 0h24v24H0V0z\" fill=\"none\"/>\n",
              "    <path d=\"M18.56 5.44l.94 2.06.94-2.06 2.06-.94-2.06-.94-.94-2.06-.94 2.06-2.06.94zm-11 1L8.5 8.5l.94-2.06 2.06-.94-2.06-.94L8.5 2.5l-.94 2.06-2.06.94zm10 10l.94 2.06.94-2.06 2.06-.94-2.06-.94-.94-2.06-.94 2.06-2.06.94z\"/><path d=\"M17.41 7.96l-1.37-1.37c-.4-.4-.92-.59-1.43-.59-.52 0-1.04.2-1.43.59L10.3 9.45l-7.72 7.72c-.78.78-.78 2.05 0 2.83L4 21.41c.39.39.9.59 1.41.59.51 0 1.02-.2 1.41-.59l7.78-7.78 2.81-2.81c.8-.78.8-2.07 0-2.86zM5.41 20L4 18.59l7.72-7.72 1.47 1.35L5.41 20z\"/>\n",
              "  </svg>\n",
              "      </button>\n",
              "      \n",
              "  <style>\n",
              "    .colab-df-container {\n",
              "      display:flex;\n",
              "      flex-wrap:wrap;\n",
              "      gap: 12px;\n",
              "    }\n",
              "\n",
              "    .colab-df-convert {\n",
              "      background-color: #E8F0FE;\n",
              "      border: none;\n",
              "      border-radius: 50%;\n",
              "      cursor: pointer;\n",
              "      display: none;\n",
              "      fill: #1967D2;\n",
              "      height: 32px;\n",
              "      padding: 0 0 0 0;\n",
              "      width: 32px;\n",
              "    }\n",
              "\n",
              "    .colab-df-convert:hover {\n",
              "      background-color: #E2EBFA;\n",
              "      box-shadow: 0px 1px 2px rgba(60, 64, 67, 0.3), 0px 1px 3px 1px rgba(60, 64, 67, 0.15);\n",
              "      fill: #174EA6;\n",
              "    }\n",
              "\n",
              "    [theme=dark] .colab-df-convert {\n",
              "      background-color: #3B4455;\n",
              "      fill: #D2E3FC;\n",
              "    }\n",
              "\n",
              "    [theme=dark] .colab-df-convert:hover {\n",
              "      background-color: #434B5C;\n",
              "      box-shadow: 0px 1px 3px 1px rgba(0, 0, 0, 0.15);\n",
              "      filter: drop-shadow(0px 1px 2px rgba(0, 0, 0, 0.3));\n",
              "      fill: #FFFFFF;\n",
              "    }\n",
              "  </style>\n",
              "\n",
              "      <script>\n",
              "        const buttonEl =\n",
              "          document.querySelector('#df-6935619e-9903-4d1e-8f2d-64864b06b15e button.colab-df-convert');\n",
              "        buttonEl.style.display =\n",
              "          google.colab.kernel.accessAllowed ? 'block' : 'none';\n",
              "\n",
              "        async function convertToInteractive(key) {\n",
              "          const element = document.querySelector('#df-6935619e-9903-4d1e-8f2d-64864b06b15e');\n",
              "          const dataTable =\n",
              "            await google.colab.kernel.invokeFunction('convertToInteractive',\n",
              "                                                     [key], {});\n",
              "          if (!dataTable) return;\n",
              "\n",
              "          const docLinkHtml = 'Like what you see? Visit the ' +\n",
              "            '<a target=\"_blank\" href=https://colab.research.google.com/notebooks/data_table.ipynb>data table notebook</a>'\n",
              "            + ' to learn more about interactive tables.';\n",
              "          element.innerHTML = '';\n",
              "          dataTable['output_type'] = 'display_data';\n",
              "          await google.colab.output.renderOutput(dataTable, element);\n",
              "          const docLink = document.createElement('div');\n",
              "          docLink.innerHTML = docLinkHtml;\n",
              "          element.appendChild(docLink);\n",
              "        }\n",
              "      </script>\n",
              "    </div>\n",
              "  </div>\n",
              "  "
            ]
          },
          "metadata": {},
          "execution_count": 53
        }
      ]
    },
    {
      "cell_type": "code",
      "source": [
        "df.dtypes"
      ],
      "metadata": {
        "colab": {
          "base_uri": "https://localhost:8080/"
        },
        "id": "sknitqnu31Fn",
        "outputId": "9afb52de-68f6-4738-8c7b-8d6a118f4ac2"
      },
      "execution_count": null,
      "outputs": [
        {
          "output_type": "execute_result",
          "data": {
            "text/plain": [
              "LINGUAGENS                    object\n",
              "POPULARIDADE                  object\n",
              "VERSÃO                       float64\n",
              "DESENVOLVEDORES                int64\n",
              "DATA DE LANÇAMENTO    datetime64[ns]\n",
              "dtype: object"
            ]
          },
          "metadata": {},
          "execution_count": 54
        }
      ]
    },
    {
      "cell_type": "markdown",
      "source": [
        "Usamos o método `map` para percorrer todos os valores da _Series_ DATA DE LANÇAMENTO, formatando sua saída com o método `strftime` do objeto _datetime_ através da expressão _lambda_"
      ],
      "metadata": {
        "id": "que47CMMgY1v"
      }
    },
    {
      "cell_type": "code",
      "source": [
        "df['DATA DE LANÇAMENTO'] = df['DATA DE LANÇAMENTO'].map(lambda dt: dt.strftime('%d/%m/%Y'))"
      ],
      "metadata": {
        "id": "BqxyqjhazUSW"
      },
      "execution_count": null,
      "outputs": []
    },
    {
      "cell_type": "code",
      "source": [
        "df"
      ],
      "metadata": {
        "colab": {
          "base_uri": "https://localhost:8080/",
          "height": 269
        },
        "id": "YV3FmXiT4UqZ",
        "outputId": "0a4fe9e3-841f-4d58-e20f-0f6ddff9949c"
      },
      "execution_count": null,
      "outputs": [
        {
          "output_type": "execute_result",
          "data": {
            "text/plain": [
              "   LINGUAGENS POPULARIDADE  VERSÃO  DESENVOLVEDORES DATA DE LANÇAMENTO\n",
              "A      Python         Alta    3.10          7000000         20/02/1991\n",
              "B           R        Baixa    4.20           500000         03/08/1993\n",
              "C         SQL    Altíssima     NaN         20000000         01/01/1986\n",
              "D           C        Média     NaN          3500000         01/01/1972\n",
              "E        Java    Altíssima   11.00         16000000         23/05/1995\n",
              "F  Javascript    Altíssima   16.00         25000000         04/12/1995\n",
              "G      Elixir        Baixa    1.12           200000         01/01/2012"
            ],
            "text/html": [
              "\n",
              "  <div id=\"df-5ac5fbe6-73ef-4875-b22e-40f982fb1a96\">\n",
              "    <div class=\"colab-df-container\">\n",
              "      <div>\n",
              "<style scoped>\n",
              "    .dataframe tbody tr th:only-of-type {\n",
              "        vertical-align: middle;\n",
              "    }\n",
              "\n",
              "    .dataframe tbody tr th {\n",
              "        vertical-align: top;\n",
              "    }\n",
              "\n",
              "    .dataframe thead th {\n",
              "        text-align: right;\n",
              "    }\n",
              "</style>\n",
              "<table border=\"1\" class=\"dataframe\">\n",
              "  <thead>\n",
              "    <tr style=\"text-align: right;\">\n",
              "      <th></th>\n",
              "      <th>LINGUAGENS</th>\n",
              "      <th>POPULARIDADE</th>\n",
              "      <th>VERSÃO</th>\n",
              "      <th>DESENVOLVEDORES</th>\n",
              "      <th>DATA DE LANÇAMENTO</th>\n",
              "    </tr>\n",
              "  </thead>\n",
              "  <tbody>\n",
              "    <tr>\n",
              "      <th>A</th>\n",
              "      <td>Python</td>\n",
              "      <td>Alta</td>\n",
              "      <td>3.10</td>\n",
              "      <td>7000000</td>\n",
              "      <td>20/02/1991</td>\n",
              "    </tr>\n",
              "    <tr>\n",
              "      <th>B</th>\n",
              "      <td>R</td>\n",
              "      <td>Baixa</td>\n",
              "      <td>4.20</td>\n",
              "      <td>500000</td>\n",
              "      <td>03/08/1993</td>\n",
              "    </tr>\n",
              "    <tr>\n",
              "      <th>C</th>\n",
              "      <td>SQL</td>\n",
              "      <td>Altíssima</td>\n",
              "      <td>NaN</td>\n",
              "      <td>20000000</td>\n",
              "      <td>01/01/1986</td>\n",
              "    </tr>\n",
              "    <tr>\n",
              "      <th>D</th>\n",
              "      <td>C</td>\n",
              "      <td>Média</td>\n",
              "      <td>NaN</td>\n",
              "      <td>3500000</td>\n",
              "      <td>01/01/1972</td>\n",
              "    </tr>\n",
              "    <tr>\n",
              "      <th>E</th>\n",
              "      <td>Java</td>\n",
              "      <td>Altíssima</td>\n",
              "      <td>11.00</td>\n",
              "      <td>16000000</td>\n",
              "      <td>23/05/1995</td>\n",
              "    </tr>\n",
              "    <tr>\n",
              "      <th>F</th>\n",
              "      <td>Javascript</td>\n",
              "      <td>Altíssima</td>\n",
              "      <td>16.00</td>\n",
              "      <td>25000000</td>\n",
              "      <td>04/12/1995</td>\n",
              "    </tr>\n",
              "    <tr>\n",
              "      <th>G</th>\n",
              "      <td>Elixir</td>\n",
              "      <td>Baixa</td>\n",
              "      <td>1.12</td>\n",
              "      <td>200000</td>\n",
              "      <td>01/01/2012</td>\n",
              "    </tr>\n",
              "  </tbody>\n",
              "</table>\n",
              "</div>\n",
              "      <button class=\"colab-df-convert\" onclick=\"convertToInteractive('df-5ac5fbe6-73ef-4875-b22e-40f982fb1a96')\"\n",
              "              title=\"Convert this dataframe to an interactive table.\"\n",
              "              style=\"display:none;\">\n",
              "        \n",
              "  <svg xmlns=\"http://www.w3.org/2000/svg\" height=\"24px\"viewBox=\"0 0 24 24\"\n",
              "       width=\"24px\">\n",
              "    <path d=\"M0 0h24v24H0V0z\" fill=\"none\"/>\n",
              "    <path d=\"M18.56 5.44l.94 2.06.94-2.06 2.06-.94-2.06-.94-.94-2.06-.94 2.06-2.06.94zm-11 1L8.5 8.5l.94-2.06 2.06-.94-2.06-.94L8.5 2.5l-.94 2.06-2.06.94zm10 10l.94 2.06.94-2.06 2.06-.94-2.06-.94-.94-2.06-.94 2.06-2.06.94z\"/><path d=\"M17.41 7.96l-1.37-1.37c-.4-.4-.92-.59-1.43-.59-.52 0-1.04.2-1.43.59L10.3 9.45l-7.72 7.72c-.78.78-.78 2.05 0 2.83L4 21.41c.39.39.9.59 1.41.59.51 0 1.02-.2 1.41-.59l7.78-7.78 2.81-2.81c.8-.78.8-2.07 0-2.86zM5.41 20L4 18.59l7.72-7.72 1.47 1.35L5.41 20z\"/>\n",
              "  </svg>\n",
              "      </button>\n",
              "      \n",
              "  <style>\n",
              "    .colab-df-container {\n",
              "      display:flex;\n",
              "      flex-wrap:wrap;\n",
              "      gap: 12px;\n",
              "    }\n",
              "\n",
              "    .colab-df-convert {\n",
              "      background-color: #E8F0FE;\n",
              "      border: none;\n",
              "      border-radius: 50%;\n",
              "      cursor: pointer;\n",
              "      display: none;\n",
              "      fill: #1967D2;\n",
              "      height: 32px;\n",
              "      padding: 0 0 0 0;\n",
              "      width: 32px;\n",
              "    }\n",
              "\n",
              "    .colab-df-convert:hover {\n",
              "      background-color: #E2EBFA;\n",
              "      box-shadow: 0px 1px 2px rgba(60, 64, 67, 0.3), 0px 1px 3px 1px rgba(60, 64, 67, 0.15);\n",
              "      fill: #174EA6;\n",
              "    }\n",
              "\n",
              "    [theme=dark] .colab-df-convert {\n",
              "      background-color: #3B4455;\n",
              "      fill: #D2E3FC;\n",
              "    }\n",
              "\n",
              "    [theme=dark] .colab-df-convert:hover {\n",
              "      background-color: #434B5C;\n",
              "      box-shadow: 0px 1px 3px 1px rgba(0, 0, 0, 0.15);\n",
              "      filter: drop-shadow(0px 1px 2px rgba(0, 0, 0, 0.3));\n",
              "      fill: #FFFFFF;\n",
              "    }\n",
              "  </style>\n",
              "\n",
              "      <script>\n",
              "        const buttonEl =\n",
              "          document.querySelector('#df-5ac5fbe6-73ef-4875-b22e-40f982fb1a96 button.colab-df-convert');\n",
              "        buttonEl.style.display =\n",
              "          google.colab.kernel.accessAllowed ? 'block' : 'none';\n",
              "\n",
              "        async function convertToInteractive(key) {\n",
              "          const element = document.querySelector('#df-5ac5fbe6-73ef-4875-b22e-40f982fb1a96');\n",
              "          const dataTable =\n",
              "            await google.colab.kernel.invokeFunction('convertToInteractive',\n",
              "                                                     [key], {});\n",
              "          if (!dataTable) return;\n",
              "\n",
              "          const docLinkHtml = 'Like what you see? Visit the ' +\n",
              "            '<a target=\"_blank\" href=https://colab.research.google.com/notebooks/data_table.ipynb>data table notebook</a>'\n",
              "            + ' to learn more about interactive tables.';\n",
              "          element.innerHTML = '';\n",
              "          dataTable['output_type'] = 'display_data';\n",
              "          await google.colab.output.renderOutput(dataTable, element);\n",
              "          const docLink = document.createElement('div');\n",
              "          docLink.innerHTML = docLinkHtml;\n",
              "          element.appendChild(docLink);\n",
              "        }\n",
              "      </script>\n",
              "    </div>\n",
              "  </div>\n",
              "  "
            ]
          },
          "metadata": {},
          "execution_count": 56
        }
      ]
    },
    {
      "cell_type": "code",
      "source": [
        "df.dtypes"
      ],
      "metadata": {
        "colab": {
          "base_uri": "https://localhost:8080/"
        },
        "id": "zTOynGAr1WnX",
        "outputId": "fd2849f5-829b-4b02-bdc8-b515b1fb6298"
      },
      "execution_count": null,
      "outputs": [
        {
          "output_type": "execute_result",
          "data": {
            "text/plain": [
              "Linguagem              object\n",
              "Popularidade           object\n",
              "Versão                float64\n",
              "Desenvolvedores         int64\n",
              "Data de Lançamento     object\n",
              "dtype: object"
            ]
          },
          "metadata": {},
          "execution_count": 71
        }
      ]
    },
    {
      "cell_type": "markdown",
      "source": [
        "## Hora de Praticar!"
      ],
      "metadata": {
        "id": "WKAuJJQayQNR"
      }
    },
    {
      "cell_type": "markdown",
      "source": [
        "### Atividade de Sala de Aula"
      ],
      "metadata": {
        "id": "8WLgrPK-2z3F"
      }
    },
    {
      "cell_type": "markdown",
      "source": [
        "Vamos trabalhar no dataset de faturamento de vinhos que utilizamos na primeria aula:\n",
        "\n",
        "`https://raw.githubusercontent.com/rafaelpuyau/infinity_school/main/ds/datasets/faturamento_quinzena_nov2021.csv`"
      ],
      "metadata": {
        "id": "HjeuRiM3ySfu"
      }
    },
    {
      "cell_type": "code",
      "source": [
        "import pandas as pd"
      ],
      "metadata": {
        "id": "fXfoxRpW5TON"
      },
      "execution_count": null,
      "outputs": []
    },
    {
      "cell_type": "code",
      "source": [
        "dataset = r'https://raw.githubusercontent.com/rafaelpuyau/infinity_school/main/ds/datasets/faturamento_quinzena_nov2021.csv'\n",
        "df = pd.read_csv(dataset, sep=';')"
      ],
      "metadata": {
        "id": "SwKc8VN75VAT"
      },
      "execution_count": null,
      "outputs": []
    },
    {
      "cell_type": "code",
      "source": [
        "df.head()"
      ],
      "metadata": {
        "colab": {
          "base_uri": "https://localhost:8080/",
          "height": 206
        },
        "id": "1zlRwWry5jJy",
        "outputId": "fb67bff8-fc11-458f-dcce-e6b647282be8"
      },
      "execution_count": null,
      "outputs": [
        {
          "output_type": "execute_result",
          "data": {
            "text/plain": [
              "         data     estilo  quantidade de garrafas  preço da garrafa    total\n",
              "0  2021-11-01      tinto                       7            150.00 1,050.00\n",
              "1  2021-11-01     branco                       4             75.00   300.00\n",
              "2  2021-11-01  espumante                       5             75.89   379.45\n",
              "3  2021-11-02      tinto                       3            150.00   450.00\n",
              "4  2021-11-02     branco                       2             75.00   150.00"
            ],
            "text/html": [
              "\n",
              "  <div id=\"df-ff377e55-c368-467c-90e9-1792027b9c03\">\n",
              "    <div class=\"colab-df-container\">\n",
              "      <div>\n",
              "<style scoped>\n",
              "    .dataframe tbody tr th:only-of-type {\n",
              "        vertical-align: middle;\n",
              "    }\n",
              "\n",
              "    .dataframe tbody tr th {\n",
              "        vertical-align: top;\n",
              "    }\n",
              "\n",
              "    .dataframe thead th {\n",
              "        text-align: right;\n",
              "    }\n",
              "</style>\n",
              "<table border=\"1\" class=\"dataframe\">\n",
              "  <thead>\n",
              "    <tr style=\"text-align: right;\">\n",
              "      <th></th>\n",
              "      <th>data</th>\n",
              "      <th>estilo</th>\n",
              "      <th>quantidade de garrafas</th>\n",
              "      <th>preço da garrafa</th>\n",
              "      <th>total</th>\n",
              "    </tr>\n",
              "  </thead>\n",
              "  <tbody>\n",
              "    <tr>\n",
              "      <th>0</th>\n",
              "      <td>2021-11-01</td>\n",
              "      <td>tinto</td>\n",
              "      <td>7</td>\n",
              "      <td>150.00</td>\n",
              "      <td>1,050.00</td>\n",
              "    </tr>\n",
              "    <tr>\n",
              "      <th>1</th>\n",
              "      <td>2021-11-01</td>\n",
              "      <td>branco</td>\n",
              "      <td>4</td>\n",
              "      <td>75.00</td>\n",
              "      <td>300.00</td>\n",
              "    </tr>\n",
              "    <tr>\n",
              "      <th>2</th>\n",
              "      <td>2021-11-01</td>\n",
              "      <td>espumante</td>\n",
              "      <td>5</td>\n",
              "      <td>75.89</td>\n",
              "      <td>379.45</td>\n",
              "    </tr>\n",
              "    <tr>\n",
              "      <th>3</th>\n",
              "      <td>2021-11-02</td>\n",
              "      <td>tinto</td>\n",
              "      <td>3</td>\n",
              "      <td>150.00</td>\n",
              "      <td>450.00</td>\n",
              "    </tr>\n",
              "    <tr>\n",
              "      <th>4</th>\n",
              "      <td>2021-11-02</td>\n",
              "      <td>branco</td>\n",
              "      <td>2</td>\n",
              "      <td>75.00</td>\n",
              "      <td>150.00</td>\n",
              "    </tr>\n",
              "  </tbody>\n",
              "</table>\n",
              "</div>\n",
              "      <button class=\"colab-df-convert\" onclick=\"convertToInteractive('df-ff377e55-c368-467c-90e9-1792027b9c03')\"\n",
              "              title=\"Convert this dataframe to an interactive table.\"\n",
              "              style=\"display:none;\">\n",
              "        \n",
              "  <svg xmlns=\"http://www.w3.org/2000/svg\" height=\"24px\"viewBox=\"0 0 24 24\"\n",
              "       width=\"24px\">\n",
              "    <path d=\"M0 0h24v24H0V0z\" fill=\"none\"/>\n",
              "    <path d=\"M18.56 5.44l.94 2.06.94-2.06 2.06-.94-2.06-.94-.94-2.06-.94 2.06-2.06.94zm-11 1L8.5 8.5l.94-2.06 2.06-.94-2.06-.94L8.5 2.5l-.94 2.06-2.06.94zm10 10l.94 2.06.94-2.06 2.06-.94-2.06-.94-.94-2.06-.94 2.06-2.06.94z\"/><path d=\"M17.41 7.96l-1.37-1.37c-.4-.4-.92-.59-1.43-.59-.52 0-1.04.2-1.43.59L10.3 9.45l-7.72 7.72c-.78.78-.78 2.05 0 2.83L4 21.41c.39.39.9.59 1.41.59.51 0 1.02-.2 1.41-.59l7.78-7.78 2.81-2.81c.8-.78.8-2.07 0-2.86zM5.41 20L4 18.59l7.72-7.72 1.47 1.35L5.41 20z\"/>\n",
              "  </svg>\n",
              "      </button>\n",
              "      \n",
              "  <style>\n",
              "    .colab-df-container {\n",
              "      display:flex;\n",
              "      flex-wrap:wrap;\n",
              "      gap: 12px;\n",
              "    }\n",
              "\n",
              "    .colab-df-convert {\n",
              "      background-color: #E8F0FE;\n",
              "      border: none;\n",
              "      border-radius: 50%;\n",
              "      cursor: pointer;\n",
              "      display: none;\n",
              "      fill: #1967D2;\n",
              "      height: 32px;\n",
              "      padding: 0 0 0 0;\n",
              "      width: 32px;\n",
              "    }\n",
              "\n",
              "    .colab-df-convert:hover {\n",
              "      background-color: #E2EBFA;\n",
              "      box-shadow: 0px 1px 2px rgba(60, 64, 67, 0.3), 0px 1px 3px 1px rgba(60, 64, 67, 0.15);\n",
              "      fill: #174EA6;\n",
              "    }\n",
              "\n",
              "    [theme=dark] .colab-df-convert {\n",
              "      background-color: #3B4455;\n",
              "      fill: #D2E3FC;\n",
              "    }\n",
              "\n",
              "    [theme=dark] .colab-df-convert:hover {\n",
              "      background-color: #434B5C;\n",
              "      box-shadow: 0px 1px 3px 1px rgba(0, 0, 0, 0.15);\n",
              "      filter: drop-shadow(0px 1px 2px rgba(0, 0, 0, 0.3));\n",
              "      fill: #FFFFFF;\n",
              "    }\n",
              "  </style>\n",
              "\n",
              "      <script>\n",
              "        const buttonEl =\n",
              "          document.querySelector('#df-ff377e55-c368-467c-90e9-1792027b9c03 button.colab-df-convert');\n",
              "        buttonEl.style.display =\n",
              "          google.colab.kernel.accessAllowed ? 'block' : 'none';\n",
              "\n",
              "        async function convertToInteractive(key) {\n",
              "          const element = document.querySelector('#df-ff377e55-c368-467c-90e9-1792027b9c03');\n",
              "          const dataTable =\n",
              "            await google.colab.kernel.invokeFunction('convertToInteractive',\n",
              "                                                     [key], {});\n",
              "          if (!dataTable) return;\n",
              "\n",
              "          const docLinkHtml = 'Like what you see? Visit the ' +\n",
              "            '<a target=\"_blank\" href=https://colab.research.google.com/notebooks/data_table.ipynb>data table notebook</a>'\n",
              "            + ' to learn more about interactive tables.';\n",
              "          element.innerHTML = '';\n",
              "          dataTable['output_type'] = 'display_data';\n",
              "          await google.colab.output.renderOutput(dataTable, element);\n",
              "          const docLink = document.createElement('div');\n",
              "          docLink.innerHTML = docLinkHtml;\n",
              "          element.appendChild(docLink);\n",
              "        }\n",
              "      </script>\n",
              "    </div>\n",
              "  </div>\n",
              "  "
            ]
          },
          "metadata": {},
          "execution_count": 14
        }
      ]
    },
    {
      "cell_type": "markdown",
      "source": [
        "Qual foi o valor total, em R$, vendido no período?"
      ],
      "metadata": {
        "id": "6qCS4lUIhOj5"
      }
    },
    {
      "cell_type": "code",
      "source": [
        "df['total'].sum()"
      ],
      "metadata": {
        "colab": {
          "base_uri": "https://localhost:8080/"
        },
        "id": "GX_0mZYC6UIb",
        "outputId": "27e8b34d-139c-464e-9f3c-4ba58fa5e46a"
      },
      "execution_count": null,
      "outputs": [
        {
          "output_type": "execute_result",
          "data": {
            "text/plain": [
              "38879.13"
            ]
          },
          "metadata": {},
          "execution_count": 60
        }
      ]
    },
    {
      "cell_type": "markdown",
      "source": [
        "Qual o valor mais caro de garrafa?"
      ],
      "metadata": {
        "id": "vXFr9pMPhVdS"
      }
    },
    {
      "cell_type": "code",
      "source": [
        "df['preço da garrafa'].max()"
      ],
      "metadata": {
        "colab": {
          "base_uri": "https://localhost:8080/"
        },
        "id": "MTzNiqyq7KKT",
        "outputId": "8d9313d8-0bc9-485e-e0e4-65dac06516d1"
      },
      "execution_count": null,
      "outputs": [
        {
          "output_type": "execute_result",
          "data": {
            "text/plain": [
              "150.0"
            ]
          },
          "metadata": {},
          "execution_count": 61
        }
      ]
    },
    {
      "cell_type": "markdown",
      "source": [
        "E o mais barato?"
      ],
      "metadata": {
        "id": "y1pNDLJDhbne"
      }
    },
    {
      "cell_type": "code",
      "source": [
        "df['preço da garrafa'].min()"
      ],
      "metadata": {
        "colab": {
          "base_uri": "https://localhost:8080/"
        },
        "id": "Abb4xeJS7aET",
        "outputId": "c747f4c0-1887-41fb-b0be-b095a3842487"
      },
      "execution_count": null,
      "outputs": [
        {
          "output_type": "execute_result",
          "data": {
            "text/plain": [
              "75.0"
            ]
          },
          "metadata": {},
          "execution_count": 62
        }
      ]
    },
    {
      "cell_type": "markdown",
      "source": [
        "Qual a média de preço das garrafas?"
      ],
      "metadata": {
        "id": "xVEWq7LlhfLL"
      }
    },
    {
      "cell_type": "code",
      "source": [
        "round(df['preço da garrafa'].mean(), 2)"
      ],
      "metadata": {
        "colab": {
          "base_uri": "https://localhost:8080/"
        },
        "id": "wo1HoV8a7iRj",
        "outputId": "9f444b04-7450-4db1-a6dd-0160d7bd5b45"
      },
      "execution_count": null,
      "outputs": [
        {
          "output_type": "execute_result",
          "data": {
            "text/plain": [
              "100.3"
            ]
          },
          "metadata": {},
          "execution_count": 15
        }
      ]
    },
    {
      "cell_type": "markdown",
      "source": [
        "Podemos pegar as três informações anteriores de uma única vez através do método `agg`"
      ],
      "metadata": {
        "id": "5cCcEi30h4Y9"
      }
    },
    {
      "cell_type": "code",
      "source": [
        "df['preço da garrafa'].agg(['min', 'max', 'mean'])"
      ],
      "metadata": {
        "colab": {
          "base_uri": "https://localhost:8080/"
        },
        "id": "dl7sDjx67lWa",
        "outputId": "782f8062-be4d-41d7-e3ef-628b0d9ff65f"
      },
      "execution_count": null,
      "outputs": [
        {
          "output_type": "execute_result",
          "data": {
            "text/plain": [
              "min     75.00\n",
              "max    150.00\n",
              "mean   100.30\n",
              "Name: preço da garrafa, dtype: float64"
            ]
          },
          "metadata": {},
          "execution_count": 65
        }
      ]
    },
    {
      "cell_type": "markdown",
      "source": [
        "Quantas garrafas foram vendidas no total no período?"
      ],
      "metadata": {
        "id": "5WUmcr-0iFe4"
      }
    },
    {
      "cell_type": "code",
      "source": [
        "df['quantidade de garrafas'].sum()"
      ],
      "metadata": {
        "colab": {
          "base_uri": "https://localhost:8080/"
        },
        "id": "no-oORPo9AU_",
        "outputId": "2a55eafd-8e17-4c94-ad05-1aa1c5fcfa52"
      },
      "execution_count": null,
      "outputs": [
        {
          "output_type": "execute_result",
          "data": {
            "text/plain": [
              "371"
            ]
          },
          "metadata": {},
          "execution_count": 66
        }
      ]
    },
    {
      "cell_type": "code",
      "source": [
        "df.dtypes"
      ],
      "metadata": {
        "colab": {
          "base_uri": "https://localhost:8080/"
        },
        "id": "iIrm1gmf9IKw",
        "outputId": "797ab8a8-bb98-444f-ab69-686d34db45e7"
      },
      "execution_count": null,
      "outputs": [
        {
          "output_type": "execute_result",
          "data": {
            "text/plain": [
              "data                       object\n",
              "estilo                     object\n",
              "quantidade de garrafas      int64\n",
              "preço da garrafa          float64\n",
              "total                     float64\n",
              "dtype: object"
            ]
          },
          "metadata": {},
          "execution_count": 67
        }
      ]
    },
    {
      "cell_type": "markdown",
      "source": [
        "Remova a coluna total do _DataFrame_"
      ],
      "metadata": {
        "id": "ihFR9vhziQRA"
      }
    },
    {
      "cell_type": "code",
      "source": [
        "df.drop('total', axis='columns', inplace=True)"
      ],
      "metadata": {
        "id": "7TGuoqP1iPeq"
      },
      "execution_count": null,
      "outputs": []
    },
    {
      "cell_type": "markdown",
      "source": [
        "Crie uma nova coluna chamada _sub-total_ com o valor de total de cada venda"
      ],
      "metadata": {
        "id": "Jsh3VLCIilXX"
      }
    },
    {
      "cell_type": "code",
      "source": [
        "df['sub-total'] = df['quantidade de garrafas'] * df['preço da garrafa']"
      ],
      "metadata": {
        "id": "fqlKSzreC5iB"
      },
      "execution_count": null,
      "outputs": []
    },
    {
      "cell_type": "markdown",
      "source": [
        "Renomeie a coluna _sub-total_ para _SUB-TOTAL_"
      ],
      "metadata": {
        "id": "JxyUT7Ssi6OP"
      }
    },
    {
      "cell_type": "code",
      "source": [
        "df.rename(columns={\n",
        "    'sub-total': 'SUB-TOTAL'\n",
        "}, inplace=True)"
      ],
      "metadata": {
        "id": "Y3lKPkiNDRi0"
      },
      "execution_count": null,
      "outputs": []
    },
    {
      "cell_type": "markdown",
      "source": [
        "Inserir o símbolo R$ antes dos sub-totais e formatar para apenas 2 casas decimais"
      ],
      "metadata": {
        "id": "ROIBsQIvjWex"
      }
    },
    {
      "cell_type": "code",
      "source": [
        "df['SUB-TOTAL'] = df['SUB-TOTAL'].map(lambda st: f'R${st:,.2f}')\n",
        "df.head()"
      ],
      "metadata": {
        "colab": {
          "base_uri": "https://localhost:8080/",
          "height": 206
        },
        "id": "SlJwMGNBD0rg",
        "outputId": "111ef4ac-2ee9-4123-cdd7-aa152a6807ed"
      },
      "execution_count": null,
      "outputs": [
        {
          "output_type": "execute_result",
          "data": {
            "text/plain": [
              "         data     estilo  quantidade de garrafas  preço da garrafa    total  \\\n",
              "0  2021-11-01      tinto                       7            150.00 1,050.00   \n",
              "1  2021-11-01     branco                       4             75.00   300.00   \n",
              "2  2021-11-01  espumante                       5             75.89   379.45   \n",
              "3  2021-11-02      tinto                       3            150.00   450.00   \n",
              "4  2021-11-02     branco                       2             75.00   150.00   \n",
              "\n",
              "    SUB-TOTAL  \n",
              "0  R$1,050.00  \n",
              "1    R$300.00  \n",
              "2    R$379.45  \n",
              "3    R$450.00  \n",
              "4    R$150.00  "
            ],
            "text/html": [
              "\n",
              "  <div id=\"df-85ffbf2f-c5c6-4c73-a518-cc589d7fa326\">\n",
              "    <div class=\"colab-df-container\">\n",
              "      <div>\n",
              "<style scoped>\n",
              "    .dataframe tbody tr th:only-of-type {\n",
              "        vertical-align: middle;\n",
              "    }\n",
              "\n",
              "    .dataframe tbody tr th {\n",
              "        vertical-align: top;\n",
              "    }\n",
              "\n",
              "    .dataframe thead th {\n",
              "        text-align: right;\n",
              "    }\n",
              "</style>\n",
              "<table border=\"1\" class=\"dataframe\">\n",
              "  <thead>\n",
              "    <tr style=\"text-align: right;\">\n",
              "      <th></th>\n",
              "      <th>data</th>\n",
              "      <th>estilo</th>\n",
              "      <th>quantidade de garrafas</th>\n",
              "      <th>preço da garrafa</th>\n",
              "      <th>total</th>\n",
              "      <th>SUB-TOTAL</th>\n",
              "    </tr>\n",
              "  </thead>\n",
              "  <tbody>\n",
              "    <tr>\n",
              "      <th>0</th>\n",
              "      <td>2021-11-01</td>\n",
              "      <td>tinto</td>\n",
              "      <td>7</td>\n",
              "      <td>150.00</td>\n",
              "      <td>1,050.00</td>\n",
              "      <td>R$1,050.00</td>\n",
              "    </tr>\n",
              "    <tr>\n",
              "      <th>1</th>\n",
              "      <td>2021-11-01</td>\n",
              "      <td>branco</td>\n",
              "      <td>4</td>\n",
              "      <td>75.00</td>\n",
              "      <td>300.00</td>\n",
              "      <td>R$300.00</td>\n",
              "    </tr>\n",
              "    <tr>\n",
              "      <th>2</th>\n",
              "      <td>2021-11-01</td>\n",
              "      <td>espumante</td>\n",
              "      <td>5</td>\n",
              "      <td>75.89</td>\n",
              "      <td>379.45</td>\n",
              "      <td>R$379.45</td>\n",
              "    </tr>\n",
              "    <tr>\n",
              "      <th>3</th>\n",
              "      <td>2021-11-02</td>\n",
              "      <td>tinto</td>\n",
              "      <td>3</td>\n",
              "      <td>150.00</td>\n",
              "      <td>450.00</td>\n",
              "      <td>R$450.00</td>\n",
              "    </tr>\n",
              "    <tr>\n",
              "      <th>4</th>\n",
              "      <td>2021-11-02</td>\n",
              "      <td>branco</td>\n",
              "      <td>2</td>\n",
              "      <td>75.00</td>\n",
              "      <td>150.00</td>\n",
              "      <td>R$150.00</td>\n",
              "    </tr>\n",
              "  </tbody>\n",
              "</table>\n",
              "</div>\n",
              "      <button class=\"colab-df-convert\" onclick=\"convertToInteractive('df-85ffbf2f-c5c6-4c73-a518-cc589d7fa326')\"\n",
              "              title=\"Convert this dataframe to an interactive table.\"\n",
              "              style=\"display:none;\">\n",
              "        \n",
              "  <svg xmlns=\"http://www.w3.org/2000/svg\" height=\"24px\"viewBox=\"0 0 24 24\"\n",
              "       width=\"24px\">\n",
              "    <path d=\"M0 0h24v24H0V0z\" fill=\"none\"/>\n",
              "    <path d=\"M18.56 5.44l.94 2.06.94-2.06 2.06-.94-2.06-.94-.94-2.06-.94 2.06-2.06.94zm-11 1L8.5 8.5l.94-2.06 2.06-.94-2.06-.94L8.5 2.5l-.94 2.06-2.06.94zm10 10l.94 2.06.94-2.06 2.06-.94-2.06-.94-.94-2.06-.94 2.06-2.06.94z\"/><path d=\"M17.41 7.96l-1.37-1.37c-.4-.4-.92-.59-1.43-.59-.52 0-1.04.2-1.43.59L10.3 9.45l-7.72 7.72c-.78.78-.78 2.05 0 2.83L4 21.41c.39.39.9.59 1.41.59.51 0 1.02-.2 1.41-.59l7.78-7.78 2.81-2.81c.8-.78.8-2.07 0-2.86zM5.41 20L4 18.59l7.72-7.72 1.47 1.35L5.41 20z\"/>\n",
              "  </svg>\n",
              "      </button>\n",
              "      \n",
              "  <style>\n",
              "    .colab-df-container {\n",
              "      display:flex;\n",
              "      flex-wrap:wrap;\n",
              "      gap: 12px;\n",
              "    }\n",
              "\n",
              "    .colab-df-convert {\n",
              "      background-color: #E8F0FE;\n",
              "      border: none;\n",
              "      border-radius: 50%;\n",
              "      cursor: pointer;\n",
              "      display: none;\n",
              "      fill: #1967D2;\n",
              "      height: 32px;\n",
              "      padding: 0 0 0 0;\n",
              "      width: 32px;\n",
              "    }\n",
              "\n",
              "    .colab-df-convert:hover {\n",
              "      background-color: #E2EBFA;\n",
              "      box-shadow: 0px 1px 2px rgba(60, 64, 67, 0.3), 0px 1px 3px 1px rgba(60, 64, 67, 0.15);\n",
              "      fill: #174EA6;\n",
              "    }\n",
              "\n",
              "    [theme=dark] .colab-df-convert {\n",
              "      background-color: #3B4455;\n",
              "      fill: #D2E3FC;\n",
              "    }\n",
              "\n",
              "    [theme=dark] .colab-df-convert:hover {\n",
              "      background-color: #434B5C;\n",
              "      box-shadow: 0px 1px 3px 1px rgba(0, 0, 0, 0.15);\n",
              "      filter: drop-shadow(0px 1px 2px rgba(0, 0, 0, 0.3));\n",
              "      fill: #FFFFFF;\n",
              "    }\n",
              "  </style>\n",
              "\n",
              "      <script>\n",
              "        const buttonEl =\n",
              "          document.querySelector('#df-85ffbf2f-c5c6-4c73-a518-cc589d7fa326 button.colab-df-convert');\n",
              "        buttonEl.style.display =\n",
              "          google.colab.kernel.accessAllowed ? 'block' : 'none';\n",
              "\n",
              "        async function convertToInteractive(key) {\n",
              "          const element = document.querySelector('#df-85ffbf2f-c5c6-4c73-a518-cc589d7fa326');\n",
              "          const dataTable =\n",
              "            await google.colab.kernel.invokeFunction('convertToInteractive',\n",
              "                                                     [key], {});\n",
              "          if (!dataTable) return;\n",
              "\n",
              "          const docLinkHtml = 'Like what you see? Visit the ' +\n",
              "            '<a target=\"_blank\" href=https://colab.research.google.com/notebooks/data_table.ipynb>data table notebook</a>'\n",
              "            + ' to learn more about interactive tables.';\n",
              "          element.innerHTML = '';\n",
              "          dataTable['output_type'] = 'display_data';\n",
              "          await google.colab.output.renderOutput(dataTable, element);\n",
              "          const docLink = document.createElement('div');\n",
              "          docLink.innerHTML = docLinkHtml;\n",
              "          element.appendChild(docLink);\n",
              "        }\n",
              "      </script>\n",
              "    </div>\n",
              "  </div>\n",
              "  "
            ]
          },
          "metadata": {},
          "execution_count": 73
        }
      ]
    },
    {
      "cell_type": "markdown",
      "source": [
        "Colocar todos os estilos com a primeira letra em maúscula"
      ],
      "metadata": {
        "id": "btGTSfPfjxz5"
      }
    },
    {
      "cell_type": "code",
      "source": [
        "df['estilo'] = df['estilo'].apply(lambda e: e.title())\n",
        "df.head()"
      ],
      "metadata": {
        "colab": {
          "base_uri": "https://localhost:8080/",
          "height": 206
        },
        "id": "j9MIvr1IGMUX",
        "outputId": "1b15c9aa-8755-4645-c810-699f2882e40f"
      },
      "execution_count": null,
      "outputs": [
        {
          "output_type": "execute_result",
          "data": {
            "text/plain": [
              "         data     estilo  quantidade de garrafas  preço da garrafa    total  \\\n",
              "0  2021-11-01      Tinto                       7            150.00 1,050.00   \n",
              "1  2021-11-01     Branco                       4             75.00   300.00   \n",
              "2  2021-11-01  Espumante                       5             75.89   379.45   \n",
              "3  2021-11-02      Tinto                       3            150.00   450.00   \n",
              "4  2021-11-02     Branco                       2             75.00   150.00   \n",
              "\n",
              "    SUB-TOTAL  \n",
              "0  R$1,050.00  \n",
              "1    R$300.00  \n",
              "2    R$379.45  \n",
              "3    R$450.00  \n",
              "4    R$150.00  "
            ],
            "text/html": [
              "\n",
              "  <div id=\"df-e10ab122-6250-4072-a4ed-903a25b1a980\">\n",
              "    <div class=\"colab-df-container\">\n",
              "      <div>\n",
              "<style scoped>\n",
              "    .dataframe tbody tr th:only-of-type {\n",
              "        vertical-align: middle;\n",
              "    }\n",
              "\n",
              "    .dataframe tbody tr th {\n",
              "        vertical-align: top;\n",
              "    }\n",
              "\n",
              "    .dataframe thead th {\n",
              "        text-align: right;\n",
              "    }\n",
              "</style>\n",
              "<table border=\"1\" class=\"dataframe\">\n",
              "  <thead>\n",
              "    <tr style=\"text-align: right;\">\n",
              "      <th></th>\n",
              "      <th>data</th>\n",
              "      <th>estilo</th>\n",
              "      <th>quantidade de garrafas</th>\n",
              "      <th>preço da garrafa</th>\n",
              "      <th>total</th>\n",
              "      <th>SUB-TOTAL</th>\n",
              "    </tr>\n",
              "  </thead>\n",
              "  <tbody>\n",
              "    <tr>\n",
              "      <th>0</th>\n",
              "      <td>2021-11-01</td>\n",
              "      <td>Tinto</td>\n",
              "      <td>7</td>\n",
              "      <td>150.00</td>\n",
              "      <td>1,050.00</td>\n",
              "      <td>R$1,050.00</td>\n",
              "    </tr>\n",
              "    <tr>\n",
              "      <th>1</th>\n",
              "      <td>2021-11-01</td>\n",
              "      <td>Branco</td>\n",
              "      <td>4</td>\n",
              "      <td>75.00</td>\n",
              "      <td>300.00</td>\n",
              "      <td>R$300.00</td>\n",
              "    </tr>\n",
              "    <tr>\n",
              "      <th>2</th>\n",
              "      <td>2021-11-01</td>\n",
              "      <td>Espumante</td>\n",
              "      <td>5</td>\n",
              "      <td>75.89</td>\n",
              "      <td>379.45</td>\n",
              "      <td>R$379.45</td>\n",
              "    </tr>\n",
              "    <tr>\n",
              "      <th>3</th>\n",
              "      <td>2021-11-02</td>\n",
              "      <td>Tinto</td>\n",
              "      <td>3</td>\n",
              "      <td>150.00</td>\n",
              "      <td>450.00</td>\n",
              "      <td>R$450.00</td>\n",
              "    </tr>\n",
              "    <tr>\n",
              "      <th>4</th>\n",
              "      <td>2021-11-02</td>\n",
              "      <td>Branco</td>\n",
              "      <td>2</td>\n",
              "      <td>75.00</td>\n",
              "      <td>150.00</td>\n",
              "      <td>R$150.00</td>\n",
              "    </tr>\n",
              "  </tbody>\n",
              "</table>\n",
              "</div>\n",
              "      <button class=\"colab-df-convert\" onclick=\"convertToInteractive('df-e10ab122-6250-4072-a4ed-903a25b1a980')\"\n",
              "              title=\"Convert this dataframe to an interactive table.\"\n",
              "              style=\"display:none;\">\n",
              "        \n",
              "  <svg xmlns=\"http://www.w3.org/2000/svg\" height=\"24px\"viewBox=\"0 0 24 24\"\n",
              "       width=\"24px\">\n",
              "    <path d=\"M0 0h24v24H0V0z\" fill=\"none\"/>\n",
              "    <path d=\"M18.56 5.44l.94 2.06.94-2.06 2.06-.94-2.06-.94-.94-2.06-.94 2.06-2.06.94zm-11 1L8.5 8.5l.94-2.06 2.06-.94-2.06-.94L8.5 2.5l-.94 2.06-2.06.94zm10 10l.94 2.06.94-2.06 2.06-.94-2.06-.94-.94-2.06-.94 2.06-2.06.94z\"/><path d=\"M17.41 7.96l-1.37-1.37c-.4-.4-.92-.59-1.43-.59-.52 0-1.04.2-1.43.59L10.3 9.45l-7.72 7.72c-.78.78-.78 2.05 0 2.83L4 21.41c.39.39.9.59 1.41.59.51 0 1.02-.2 1.41-.59l7.78-7.78 2.81-2.81c.8-.78.8-2.07 0-2.86zM5.41 20L4 18.59l7.72-7.72 1.47 1.35L5.41 20z\"/>\n",
              "  </svg>\n",
              "      </button>\n",
              "      \n",
              "  <style>\n",
              "    .colab-df-container {\n",
              "      display:flex;\n",
              "      flex-wrap:wrap;\n",
              "      gap: 12px;\n",
              "    }\n",
              "\n",
              "    .colab-df-convert {\n",
              "      background-color: #E8F0FE;\n",
              "      border: none;\n",
              "      border-radius: 50%;\n",
              "      cursor: pointer;\n",
              "      display: none;\n",
              "      fill: #1967D2;\n",
              "      height: 32px;\n",
              "      padding: 0 0 0 0;\n",
              "      width: 32px;\n",
              "    }\n",
              "\n",
              "    .colab-df-convert:hover {\n",
              "      background-color: #E2EBFA;\n",
              "      box-shadow: 0px 1px 2px rgba(60, 64, 67, 0.3), 0px 1px 3px 1px rgba(60, 64, 67, 0.15);\n",
              "      fill: #174EA6;\n",
              "    }\n",
              "\n",
              "    [theme=dark] .colab-df-convert {\n",
              "      background-color: #3B4455;\n",
              "      fill: #D2E3FC;\n",
              "    }\n",
              "\n",
              "    [theme=dark] .colab-df-convert:hover {\n",
              "      background-color: #434B5C;\n",
              "      box-shadow: 0px 1px 3px 1px rgba(0, 0, 0, 0.15);\n",
              "      filter: drop-shadow(0px 1px 2px rgba(0, 0, 0, 0.3));\n",
              "      fill: #FFFFFF;\n",
              "    }\n",
              "  </style>\n",
              "\n",
              "      <script>\n",
              "        const buttonEl =\n",
              "          document.querySelector('#df-e10ab122-6250-4072-a4ed-903a25b1a980 button.colab-df-convert');\n",
              "        buttonEl.style.display =\n",
              "          google.colab.kernel.accessAllowed ? 'block' : 'none';\n",
              "\n",
              "        async function convertToInteractive(key) {\n",
              "          const element = document.querySelector('#df-e10ab122-6250-4072-a4ed-903a25b1a980');\n",
              "          const dataTable =\n",
              "            await google.colab.kernel.invokeFunction('convertToInteractive',\n",
              "                                                     [key], {});\n",
              "          if (!dataTable) return;\n",
              "\n",
              "          const docLinkHtml = 'Like what you see? Visit the ' +\n",
              "            '<a target=\"_blank\" href=https://colab.research.google.com/notebooks/data_table.ipynb>data table notebook</a>'\n",
              "            + ' to learn more about interactive tables.';\n",
              "          element.innerHTML = '';\n",
              "          dataTable['output_type'] = 'display_data';\n",
              "          await google.colab.output.renderOutput(dataTable, element);\n",
              "          const docLink = document.createElement('div');\n",
              "          docLink.innerHTML = docLinkHtml;\n",
              "          element.appendChild(docLink);\n",
              "        }\n",
              "      </script>\n",
              "    </div>\n",
              "  </div>\n",
              "  "
            ]
          },
          "metadata": {},
          "execution_count": 74
        }
      ]
    },
    {
      "cell_type": "markdown",
      "source": [
        "Salve seu _DataFrame_ em um novo arquivo CSV"
      ],
      "metadata": {
        "id": "OVzYOaNTj_je"
      }
    },
    {
      "cell_type": "code",
      "source": [
        "df.to_csv('/content/drive/MyDrive/2022/Data Science/atividade01.csv', index=False)"
      ],
      "metadata": {
        "id": "7D6mcX33HcXY"
      },
      "execution_count": null,
      "outputs": []
    }
  ]
}