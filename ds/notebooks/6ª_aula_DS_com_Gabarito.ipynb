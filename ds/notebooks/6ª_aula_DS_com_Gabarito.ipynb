{
  "nbformat": 4,
  "nbformat_minor": 0,
  "metadata": {
    "colab": {
      "name": "6ª aula com Gabarito - DS.ipynb",
      "provenance": []
    },
    "kernelspec": {
      "name": "python3",
      "display_name": "Python 3"
    },
    "language_info": {
      "name": "python"
    }
  },
  "cells": [
    {
      "cell_type": "markdown",
      "source": [
        "# Respondendo as questões do CEO"
      ],
      "metadata": {
        "id": "eVlKGTQBmpJh"
      }
    },
    {
      "cell_type": "markdown",
      "source": [
        "Nosso CEO deseja saber algumas informações sobre o faturamento de vinhos. A equipe de vendas nos forneceu um dataset com alguns dados e precisamos extrair algumas informações para respondermos as questões"
      ],
      "metadata": {
        "id": "URfOfwkgncX6"
      }
    },
    {
      "cell_type": "markdown",
      "source": [
        "## Carregando o dataset"
      ],
      "metadata": {
        "id": "OP-nai8noJqC"
      }
    },
    {
      "cell_type": "code",
      "source": [
        "import pandas as pd"
      ],
      "metadata": {
        "id": "VbB_AUrRoRSL"
      },
      "execution_count": 2,
      "outputs": []
    },
    {
      "cell_type": "code",
      "source": [
        "dataset = r'https://raw.githubusercontent.com/rafaelpuyau/infinity_school/main/ds/datasets/wines.csv'\n",
        "df = pd.read_csv(dataset, parse_dates=['date'])"
      ],
      "metadata": {
        "id": "qLGKqTm5oUBg"
      },
      "execution_count": 3,
      "outputs": []
    },
    {
      "cell_type": "code",
      "source": [
        "df.dtypes"
      ],
      "metadata": {
        "id": "YbWWh5DsBZA5",
        "colab": {
          "base_uri": "https://localhost:8080/"
        },
        "outputId": "46e460db-f93a-4136-8600-6211aaffd854"
      },
      "execution_count": 4,
      "outputs": [
        {
          "output_type": "execute_result",
          "data": {
            "text/plain": [
              "date        datetime64[ns]\n",
              "label               object\n",
              "vintage              int64\n",
              "style               object\n",
              "country             object\n",
              "price              float64\n",
              "quantity             int64\n",
              "rate                 int64\n",
              "dtype: object"
            ]
          },
          "metadata": {},
          "execution_count": 4
        }
      ]
    },
    {
      "cell_type": "code",
      "source": [
        "df['date'] = df['date'].map(lambda dt: dt.strftime('%d/%m/%Y'))"
      ],
      "metadata": {
        "id": "zoXvH1tsBeB4"
      },
      "execution_count": 5,
      "outputs": []
    },
    {
      "cell_type": "code",
      "source": [
        "df.sample(5)"
      ],
      "metadata": {
        "colab": {
          "base_uri": "https://localhost:8080/",
          "height": 206
        },
        "id": "0mhRzJYwopT2",
        "outputId": "d2dd5d6c-5f5e-44d1-f2e4-77d244bfe695"
      },
      "execution_count": 6,
      "outputs": [
        {
          "output_type": "execute_result",
          "data": {
            "text/plain": [
              "            date   label  vintage   style   country   price  quantity  rate\n",
              "3131  04/06/2021  Wine X     1994   Sweet    Brazil  208.98         9    95\n",
              "4667  10/12/2021  Wine Z     1987  Orange  Portugal  221.79         8    93\n",
              "9506  22/04/2021  Wine L     2021   White     Spain  329.57         4    89\n",
              "2203  11/03/2021  Wine N     1999   White   Uruguay  377.20         1    82\n",
              "3439  21/06/2021  Wine F     2010     Red     Italy  170.56        11    80"
            ],
            "text/html": [
              "\n",
              "  <div id=\"df-9ee3dafa-ddb8-427a-a080-ed7a44d09597\">\n",
              "    <div class=\"colab-df-container\">\n",
              "      <div>\n",
              "<style scoped>\n",
              "    .dataframe tbody tr th:only-of-type {\n",
              "        vertical-align: middle;\n",
              "    }\n",
              "\n",
              "    .dataframe tbody tr th {\n",
              "        vertical-align: top;\n",
              "    }\n",
              "\n",
              "    .dataframe thead th {\n",
              "        text-align: right;\n",
              "    }\n",
              "</style>\n",
              "<table border=\"1\" class=\"dataframe\">\n",
              "  <thead>\n",
              "    <tr style=\"text-align: right;\">\n",
              "      <th></th>\n",
              "      <th>date</th>\n",
              "      <th>label</th>\n",
              "      <th>vintage</th>\n",
              "      <th>style</th>\n",
              "      <th>country</th>\n",
              "      <th>price</th>\n",
              "      <th>quantity</th>\n",
              "      <th>rate</th>\n",
              "    </tr>\n",
              "  </thead>\n",
              "  <tbody>\n",
              "    <tr>\n",
              "      <th>3131</th>\n",
              "      <td>04/06/2021</td>\n",
              "      <td>Wine X</td>\n",
              "      <td>1994</td>\n",
              "      <td>Sweet</td>\n",
              "      <td>Brazil</td>\n",
              "      <td>208.98</td>\n",
              "      <td>9</td>\n",
              "      <td>95</td>\n",
              "    </tr>\n",
              "    <tr>\n",
              "      <th>4667</th>\n",
              "      <td>10/12/2021</td>\n",
              "      <td>Wine Z</td>\n",
              "      <td>1987</td>\n",
              "      <td>Orange</td>\n",
              "      <td>Portugal</td>\n",
              "      <td>221.79</td>\n",
              "      <td>8</td>\n",
              "      <td>93</td>\n",
              "    </tr>\n",
              "    <tr>\n",
              "      <th>9506</th>\n",
              "      <td>22/04/2021</td>\n",
              "      <td>Wine L</td>\n",
              "      <td>2021</td>\n",
              "      <td>White</td>\n",
              "      <td>Spain</td>\n",
              "      <td>329.57</td>\n",
              "      <td>4</td>\n",
              "      <td>89</td>\n",
              "    </tr>\n",
              "    <tr>\n",
              "      <th>2203</th>\n",
              "      <td>11/03/2021</td>\n",
              "      <td>Wine N</td>\n",
              "      <td>1999</td>\n",
              "      <td>White</td>\n",
              "      <td>Uruguay</td>\n",
              "      <td>377.20</td>\n",
              "      <td>1</td>\n",
              "      <td>82</td>\n",
              "    </tr>\n",
              "    <tr>\n",
              "      <th>3439</th>\n",
              "      <td>21/06/2021</td>\n",
              "      <td>Wine F</td>\n",
              "      <td>2010</td>\n",
              "      <td>Red</td>\n",
              "      <td>Italy</td>\n",
              "      <td>170.56</td>\n",
              "      <td>11</td>\n",
              "      <td>80</td>\n",
              "    </tr>\n",
              "  </tbody>\n",
              "</table>\n",
              "</div>\n",
              "      <button class=\"colab-df-convert\" onclick=\"convertToInteractive('df-9ee3dafa-ddb8-427a-a080-ed7a44d09597')\"\n",
              "              title=\"Convert this dataframe to an interactive table.\"\n",
              "              style=\"display:none;\">\n",
              "        \n",
              "  <svg xmlns=\"http://www.w3.org/2000/svg\" height=\"24px\"viewBox=\"0 0 24 24\"\n",
              "       width=\"24px\">\n",
              "    <path d=\"M0 0h24v24H0V0z\" fill=\"none\"/>\n",
              "    <path d=\"M18.56 5.44l.94 2.06.94-2.06 2.06-.94-2.06-.94-.94-2.06-.94 2.06-2.06.94zm-11 1L8.5 8.5l.94-2.06 2.06-.94-2.06-.94L8.5 2.5l-.94 2.06-2.06.94zm10 10l.94 2.06.94-2.06 2.06-.94-2.06-.94-.94-2.06-.94 2.06-2.06.94z\"/><path d=\"M17.41 7.96l-1.37-1.37c-.4-.4-.92-.59-1.43-.59-.52 0-1.04.2-1.43.59L10.3 9.45l-7.72 7.72c-.78.78-.78 2.05 0 2.83L4 21.41c.39.39.9.59 1.41.59.51 0 1.02-.2 1.41-.59l7.78-7.78 2.81-2.81c.8-.78.8-2.07 0-2.86zM5.41 20L4 18.59l7.72-7.72 1.47 1.35L5.41 20z\"/>\n",
              "  </svg>\n",
              "      </button>\n",
              "      \n",
              "  <style>\n",
              "    .colab-df-container {\n",
              "      display:flex;\n",
              "      flex-wrap:wrap;\n",
              "      gap: 12px;\n",
              "    }\n",
              "\n",
              "    .colab-df-convert {\n",
              "      background-color: #E8F0FE;\n",
              "      border: none;\n",
              "      border-radius: 50%;\n",
              "      cursor: pointer;\n",
              "      display: none;\n",
              "      fill: #1967D2;\n",
              "      height: 32px;\n",
              "      padding: 0 0 0 0;\n",
              "      width: 32px;\n",
              "    }\n",
              "\n",
              "    .colab-df-convert:hover {\n",
              "      background-color: #E2EBFA;\n",
              "      box-shadow: 0px 1px 2px rgba(60, 64, 67, 0.3), 0px 1px 3px 1px rgba(60, 64, 67, 0.15);\n",
              "      fill: #174EA6;\n",
              "    }\n",
              "\n",
              "    [theme=dark] .colab-df-convert {\n",
              "      background-color: #3B4455;\n",
              "      fill: #D2E3FC;\n",
              "    }\n",
              "\n",
              "    [theme=dark] .colab-df-convert:hover {\n",
              "      background-color: #434B5C;\n",
              "      box-shadow: 0px 1px 3px 1px rgba(0, 0, 0, 0.15);\n",
              "      filter: drop-shadow(0px 1px 2px rgba(0, 0, 0, 0.3));\n",
              "      fill: #FFFFFF;\n",
              "    }\n",
              "  </style>\n",
              "\n",
              "      <script>\n",
              "        const buttonEl =\n",
              "          document.querySelector('#df-9ee3dafa-ddb8-427a-a080-ed7a44d09597 button.colab-df-convert');\n",
              "        buttonEl.style.display =\n",
              "          google.colab.kernel.accessAllowed ? 'block' : 'none';\n",
              "\n",
              "        async function convertToInteractive(key) {\n",
              "          const element = document.querySelector('#df-9ee3dafa-ddb8-427a-a080-ed7a44d09597');\n",
              "          const dataTable =\n",
              "            await google.colab.kernel.invokeFunction('convertToInteractive',\n",
              "                                                     [key], {});\n",
              "          if (!dataTable) return;\n",
              "\n",
              "          const docLinkHtml = 'Like what you see? Visit the ' +\n",
              "            '<a target=\"_blank\" href=https://colab.research.google.com/notebooks/data_table.ipynb>data table notebook</a>'\n",
              "            + ' to learn more about interactive tables.';\n",
              "          element.innerHTML = '';\n",
              "          dataTable['output_type'] = 'display_data';\n",
              "          await google.colab.output.renderOutput(dataTable, element);\n",
              "          const docLink = document.createElement('div');\n",
              "          docLink.innerHTML = docLinkHtml;\n",
              "          element.appendChild(docLink);\n",
              "        }\n",
              "      </script>\n",
              "    </div>\n",
              "  </div>\n",
              "  "
            ]
          },
          "metadata": {},
          "execution_count": 6
        }
      ]
    },
    {
      "cell_type": "markdown",
      "source": [
        "## Perguntas do CEO"
      ],
      "metadata": {
        "id": "w19DhxV2oxHd"
      }
    },
    {
      "cell_type": "markdown",
      "source": [
        "### 1. Quanto custa o vinho mais caro?"
      ],
      "metadata": {
        "id": "uhAP6z1doze0"
      }
    },
    {
      "cell_type": "markdown",
      "source": [
        "#### Gabarito"
      ],
      "metadata": {
        "id": "iMFgRbLjEUxA"
      }
    },
    {
      "cell_type": "code",
      "source": [
        "df['price'].max()"
      ],
      "metadata": {
        "colab": {
          "base_uri": "https://localhost:8080/"
        },
        "id": "Tj0WmzO-EZIv",
        "outputId": "3d7fe667-dcc0-4510-fdf0-2ce3838a9b7b"
      },
      "execution_count": 7,
      "outputs": [
        {
          "output_type": "execute_result",
          "data": {
            "text/plain": [
              "1107.89"
            ]
          },
          "metadata": {},
          "execution_count": 7
        }
      ]
    },
    {
      "cell_type": "markdown",
      "source": [
        "### 2. Quanto custa o vinho mais barato?"
      ],
      "metadata": {
        "id": "77LGdGxGpjb_"
      }
    },
    {
      "cell_type": "markdown",
      "source": [
        "#### Gabarito"
      ],
      "metadata": {
        "id": "STaQ7I7FEeqL"
      }
    },
    {
      "cell_type": "code",
      "source": [
        "df['price'].min()"
      ],
      "metadata": {
        "colab": {
          "base_uri": "https://localhost:8080/"
        },
        "id": "VsgR4oceEhMv",
        "outputId": "65357ab3-043b-4b6c-d291-290cc5280358"
      },
      "execution_count": 8,
      "outputs": [
        {
          "output_type": "execute_result",
          "data": {
            "text/plain": [
              "50.01"
            ]
          },
          "metadata": {},
          "execution_count": 8
        }
      ]
    },
    {
      "cell_type": "markdown",
      "source": [
        "### 3. Qual o vinho mais caro?"
      ],
      "metadata": {
        "id": "H0Q1_sdspnLW"
      }
    },
    {
      "cell_type": "markdown",
      "source": [
        "#### Gabarito\n",
        "\n"
      ],
      "metadata": {
        "id": "2Nb0j5smEm6d"
      }
    },
    {
      "cell_type": "code",
      "source": [
        "df.loc[df['price'] == df['price'].max()]"
      ],
      "metadata": {
        "colab": {
          "base_uri": "https://localhost:8080/",
          "height": 81
        },
        "id": "aNVSiLfFEqRi",
        "outputId": "3a3e8539-4f68-4e2a-ef96-5d7490bffe8a"
      },
      "execution_count": 9,
      "outputs": [
        {
          "output_type": "execute_result",
          "data": {
            "text/plain": [
              "            date   label  vintage      style country    price  quantity  rate\n",
              "1249  29/09/2021  Wine Q     2002  Sparkling   Italy  1107.89        13    92"
            ],
            "text/html": [
              "\n",
              "  <div id=\"df-6b6a2b96-072e-4352-9ccb-9ba2620167bc\">\n",
              "    <div class=\"colab-df-container\">\n",
              "      <div>\n",
              "<style scoped>\n",
              "    .dataframe tbody tr th:only-of-type {\n",
              "        vertical-align: middle;\n",
              "    }\n",
              "\n",
              "    .dataframe tbody tr th {\n",
              "        vertical-align: top;\n",
              "    }\n",
              "\n",
              "    .dataframe thead th {\n",
              "        text-align: right;\n",
              "    }\n",
              "</style>\n",
              "<table border=\"1\" class=\"dataframe\">\n",
              "  <thead>\n",
              "    <tr style=\"text-align: right;\">\n",
              "      <th></th>\n",
              "      <th>date</th>\n",
              "      <th>label</th>\n",
              "      <th>vintage</th>\n",
              "      <th>style</th>\n",
              "      <th>country</th>\n",
              "      <th>price</th>\n",
              "      <th>quantity</th>\n",
              "      <th>rate</th>\n",
              "    </tr>\n",
              "  </thead>\n",
              "  <tbody>\n",
              "    <tr>\n",
              "      <th>1249</th>\n",
              "      <td>29/09/2021</td>\n",
              "      <td>Wine Q</td>\n",
              "      <td>2002</td>\n",
              "      <td>Sparkling</td>\n",
              "      <td>Italy</td>\n",
              "      <td>1107.89</td>\n",
              "      <td>13</td>\n",
              "      <td>92</td>\n",
              "    </tr>\n",
              "  </tbody>\n",
              "</table>\n",
              "</div>\n",
              "      <button class=\"colab-df-convert\" onclick=\"convertToInteractive('df-6b6a2b96-072e-4352-9ccb-9ba2620167bc')\"\n",
              "              title=\"Convert this dataframe to an interactive table.\"\n",
              "              style=\"display:none;\">\n",
              "        \n",
              "  <svg xmlns=\"http://www.w3.org/2000/svg\" height=\"24px\"viewBox=\"0 0 24 24\"\n",
              "       width=\"24px\">\n",
              "    <path d=\"M0 0h24v24H0V0z\" fill=\"none\"/>\n",
              "    <path d=\"M18.56 5.44l.94 2.06.94-2.06 2.06-.94-2.06-.94-.94-2.06-.94 2.06-2.06.94zm-11 1L8.5 8.5l.94-2.06 2.06-.94-2.06-.94L8.5 2.5l-.94 2.06-2.06.94zm10 10l.94 2.06.94-2.06 2.06-.94-2.06-.94-.94-2.06-.94 2.06-2.06.94z\"/><path d=\"M17.41 7.96l-1.37-1.37c-.4-.4-.92-.59-1.43-.59-.52 0-1.04.2-1.43.59L10.3 9.45l-7.72 7.72c-.78.78-.78 2.05 0 2.83L4 21.41c.39.39.9.59 1.41.59.51 0 1.02-.2 1.41-.59l7.78-7.78 2.81-2.81c.8-.78.8-2.07 0-2.86zM5.41 20L4 18.59l7.72-7.72 1.47 1.35L5.41 20z\"/>\n",
              "  </svg>\n",
              "      </button>\n",
              "      \n",
              "  <style>\n",
              "    .colab-df-container {\n",
              "      display:flex;\n",
              "      flex-wrap:wrap;\n",
              "      gap: 12px;\n",
              "    }\n",
              "\n",
              "    .colab-df-convert {\n",
              "      background-color: #E8F0FE;\n",
              "      border: none;\n",
              "      border-radius: 50%;\n",
              "      cursor: pointer;\n",
              "      display: none;\n",
              "      fill: #1967D2;\n",
              "      height: 32px;\n",
              "      padding: 0 0 0 0;\n",
              "      width: 32px;\n",
              "    }\n",
              "\n",
              "    .colab-df-convert:hover {\n",
              "      background-color: #E2EBFA;\n",
              "      box-shadow: 0px 1px 2px rgba(60, 64, 67, 0.3), 0px 1px 3px 1px rgba(60, 64, 67, 0.15);\n",
              "      fill: #174EA6;\n",
              "    }\n",
              "\n",
              "    [theme=dark] .colab-df-convert {\n",
              "      background-color: #3B4455;\n",
              "      fill: #D2E3FC;\n",
              "    }\n",
              "\n",
              "    [theme=dark] .colab-df-convert:hover {\n",
              "      background-color: #434B5C;\n",
              "      box-shadow: 0px 1px 3px 1px rgba(0, 0, 0, 0.15);\n",
              "      filter: drop-shadow(0px 1px 2px rgba(0, 0, 0, 0.3));\n",
              "      fill: #FFFFFF;\n",
              "    }\n",
              "  </style>\n",
              "\n",
              "      <script>\n",
              "        const buttonEl =\n",
              "          document.querySelector('#df-6b6a2b96-072e-4352-9ccb-9ba2620167bc button.colab-df-convert');\n",
              "        buttonEl.style.display =\n",
              "          google.colab.kernel.accessAllowed ? 'block' : 'none';\n",
              "\n",
              "        async function convertToInteractive(key) {\n",
              "          const element = document.querySelector('#df-6b6a2b96-072e-4352-9ccb-9ba2620167bc');\n",
              "          const dataTable =\n",
              "            await google.colab.kernel.invokeFunction('convertToInteractive',\n",
              "                                                     [key], {});\n",
              "          if (!dataTable) return;\n",
              "\n",
              "          const docLinkHtml = 'Like what you see? Visit the ' +\n",
              "            '<a target=\"_blank\" href=https://colab.research.google.com/notebooks/data_table.ipynb>data table notebook</a>'\n",
              "            + ' to learn more about interactive tables.';\n",
              "          element.innerHTML = '';\n",
              "          dataTable['output_type'] = 'display_data';\n",
              "          await google.colab.output.renderOutput(dataTable, element);\n",
              "          const docLink = document.createElement('div');\n",
              "          docLink.innerHTML = docLinkHtml;\n",
              "          element.appendChild(docLink);\n",
              "        }\n",
              "      </script>\n",
              "    </div>\n",
              "  </div>\n",
              "  "
            ]
          },
          "metadata": {},
          "execution_count": 9
        }
      ]
    },
    {
      "cell_type": "markdown",
      "source": [
        "### 4. Qual o vinho mais barato?"
      ],
      "metadata": {
        "id": "oEyZJS0gpv93"
      }
    },
    {
      "cell_type": "markdown",
      "source": [
        "#### Gabarito"
      ],
      "metadata": {
        "id": "IaCq0fatFBG3"
      }
    },
    {
      "cell_type": "code",
      "source": [
        "df.loc[df['price'] == df['price'].min()]"
      ],
      "metadata": {
        "colab": {
          "base_uri": "https://localhost:8080/",
          "height": 112
        },
        "id": "kUEOSjaCFC9b",
        "outputId": "7cdbca42-9d38-4865-c8ff-fee84f877364"
      },
      "execution_count": 10,
      "outputs": [
        {
          "output_type": "execute_result",
          "data": {
            "text/plain": [
              "            date   label  vintage   style country  price  quantity  rate\n",
              "4910  15/08/2021  Wine Z     2009  Orange  Brazil  50.01         5    90\n",
              "9256  01/11/2021  Wine W     1995   Sweet  Brazil  50.01        12    94"
            ],
            "text/html": [
              "\n",
              "  <div id=\"df-8a963412-a82a-49bb-8fbb-cbb80370e0da\">\n",
              "    <div class=\"colab-df-container\">\n",
              "      <div>\n",
              "<style scoped>\n",
              "    .dataframe tbody tr th:only-of-type {\n",
              "        vertical-align: middle;\n",
              "    }\n",
              "\n",
              "    .dataframe tbody tr th {\n",
              "        vertical-align: top;\n",
              "    }\n",
              "\n",
              "    .dataframe thead th {\n",
              "        text-align: right;\n",
              "    }\n",
              "</style>\n",
              "<table border=\"1\" class=\"dataframe\">\n",
              "  <thead>\n",
              "    <tr style=\"text-align: right;\">\n",
              "      <th></th>\n",
              "      <th>date</th>\n",
              "      <th>label</th>\n",
              "      <th>vintage</th>\n",
              "      <th>style</th>\n",
              "      <th>country</th>\n",
              "      <th>price</th>\n",
              "      <th>quantity</th>\n",
              "      <th>rate</th>\n",
              "    </tr>\n",
              "  </thead>\n",
              "  <tbody>\n",
              "    <tr>\n",
              "      <th>4910</th>\n",
              "      <td>15/08/2021</td>\n",
              "      <td>Wine Z</td>\n",
              "      <td>2009</td>\n",
              "      <td>Orange</td>\n",
              "      <td>Brazil</td>\n",
              "      <td>50.01</td>\n",
              "      <td>5</td>\n",
              "      <td>90</td>\n",
              "    </tr>\n",
              "    <tr>\n",
              "      <th>9256</th>\n",
              "      <td>01/11/2021</td>\n",
              "      <td>Wine W</td>\n",
              "      <td>1995</td>\n",
              "      <td>Sweet</td>\n",
              "      <td>Brazil</td>\n",
              "      <td>50.01</td>\n",
              "      <td>12</td>\n",
              "      <td>94</td>\n",
              "    </tr>\n",
              "  </tbody>\n",
              "</table>\n",
              "</div>\n",
              "      <button class=\"colab-df-convert\" onclick=\"convertToInteractive('df-8a963412-a82a-49bb-8fbb-cbb80370e0da')\"\n",
              "              title=\"Convert this dataframe to an interactive table.\"\n",
              "              style=\"display:none;\">\n",
              "        \n",
              "  <svg xmlns=\"http://www.w3.org/2000/svg\" height=\"24px\"viewBox=\"0 0 24 24\"\n",
              "       width=\"24px\">\n",
              "    <path d=\"M0 0h24v24H0V0z\" fill=\"none\"/>\n",
              "    <path d=\"M18.56 5.44l.94 2.06.94-2.06 2.06-.94-2.06-.94-.94-2.06-.94 2.06-2.06.94zm-11 1L8.5 8.5l.94-2.06 2.06-.94-2.06-.94L8.5 2.5l-.94 2.06-2.06.94zm10 10l.94 2.06.94-2.06 2.06-.94-2.06-.94-.94-2.06-.94 2.06-2.06.94z\"/><path d=\"M17.41 7.96l-1.37-1.37c-.4-.4-.92-.59-1.43-.59-.52 0-1.04.2-1.43.59L10.3 9.45l-7.72 7.72c-.78.78-.78 2.05 0 2.83L4 21.41c.39.39.9.59 1.41.59.51 0 1.02-.2 1.41-.59l7.78-7.78 2.81-2.81c.8-.78.8-2.07 0-2.86zM5.41 20L4 18.59l7.72-7.72 1.47 1.35L5.41 20z\"/>\n",
              "  </svg>\n",
              "      </button>\n",
              "      \n",
              "  <style>\n",
              "    .colab-df-container {\n",
              "      display:flex;\n",
              "      flex-wrap:wrap;\n",
              "      gap: 12px;\n",
              "    }\n",
              "\n",
              "    .colab-df-convert {\n",
              "      background-color: #E8F0FE;\n",
              "      border: none;\n",
              "      border-radius: 50%;\n",
              "      cursor: pointer;\n",
              "      display: none;\n",
              "      fill: #1967D2;\n",
              "      height: 32px;\n",
              "      padding: 0 0 0 0;\n",
              "      width: 32px;\n",
              "    }\n",
              "\n",
              "    .colab-df-convert:hover {\n",
              "      background-color: #E2EBFA;\n",
              "      box-shadow: 0px 1px 2px rgba(60, 64, 67, 0.3), 0px 1px 3px 1px rgba(60, 64, 67, 0.15);\n",
              "      fill: #174EA6;\n",
              "    }\n",
              "\n",
              "    [theme=dark] .colab-df-convert {\n",
              "      background-color: #3B4455;\n",
              "      fill: #D2E3FC;\n",
              "    }\n",
              "\n",
              "    [theme=dark] .colab-df-convert:hover {\n",
              "      background-color: #434B5C;\n",
              "      box-shadow: 0px 1px 3px 1px rgba(0, 0, 0, 0.15);\n",
              "      filter: drop-shadow(0px 1px 2px rgba(0, 0, 0, 0.3));\n",
              "      fill: #FFFFFF;\n",
              "    }\n",
              "  </style>\n",
              "\n",
              "      <script>\n",
              "        const buttonEl =\n",
              "          document.querySelector('#df-8a963412-a82a-49bb-8fbb-cbb80370e0da button.colab-df-convert');\n",
              "        buttonEl.style.display =\n",
              "          google.colab.kernel.accessAllowed ? 'block' : 'none';\n",
              "\n",
              "        async function convertToInteractive(key) {\n",
              "          const element = document.querySelector('#df-8a963412-a82a-49bb-8fbb-cbb80370e0da');\n",
              "          const dataTable =\n",
              "            await google.colab.kernel.invokeFunction('convertToInteractive',\n",
              "                                                     [key], {});\n",
              "          if (!dataTable) return;\n",
              "\n",
              "          const docLinkHtml = 'Like what you see? Visit the ' +\n",
              "            '<a target=\"_blank\" href=https://colab.research.google.com/notebooks/data_table.ipynb>data table notebook</a>'\n",
              "            + ' to learn more about interactive tables.';\n",
              "          element.innerHTML = '';\n",
              "          dataTable['output_type'] = 'display_data';\n",
              "          await google.colab.output.renderOutput(dataTable, element);\n",
              "          const docLink = document.createElement('div');\n",
              "          docLink.innerHTML = docLinkHtml;\n",
              "          element.appendChild(docLink);\n",
              "        }\n",
              "      </script>\n",
              "    </div>\n",
              "  </div>\n",
              "  "
            ]
          },
          "metadata": {},
          "execution_count": 10
        }
      ]
    },
    {
      "cell_type": "markdown",
      "source": [
        "### 5. Quanto foi vendido em 2021?"
      ],
      "metadata": {
        "id": "oWOTgL9Xp_dV"
      }
    },
    {
      "cell_type": "markdown",
      "source": [
        "#### Gabarito"
      ],
      "metadata": {
        "id": "ZLE3v_oTFLt5"
      }
    },
    {
      "cell_type": "code",
      "source": [
        "df['sub-total'] = df['price'] * df['quantity']\n",
        "fat = f'R${df[\"sub-total\"].sum():_.2f}'\n",
        "print(fat.translate(fat.maketrans({'_': '.', '.': ','})))"
      ],
      "metadata": {
        "colab": {
          "base_uri": "https://localhost:8080/"
        },
        "id": "nFPXyPsMFOQC",
        "outputId": "03820e70-0b4d-490a-925a-fa4311f0a3a4"
      },
      "execution_count": 11,
      "outputs": [
        {
          "output_type": "stream",
          "name": "stdout",
          "text": [
            "R$16.991.676,32\n"
          ]
        }
      ]
    },
    {
      "cell_type": "markdown",
      "source": [
        "### 6. Quantas garrafas no total?"
      ],
      "metadata": {
        "id": "e-4EIEA7qC-h"
      }
    },
    {
      "cell_type": "markdown",
      "source": [
        "#### Gabarito"
      ],
      "metadata": {
        "id": "QUxltTMiF8Zb"
      }
    },
    {
      "cell_type": "code",
      "source": [
        "qtde_gfas = f'{df[\"quantity\"].sum():_}'\n",
        "print(qtde_gfas.translate(qtde_gfas.maketrans({'_': '.'})))"
      ],
      "metadata": {
        "colab": {
          "base_uri": "https://localhost:8080/"
        },
        "id": "g_nRPt_vF9_1",
        "outputId": "61056c21-a538-48b9-90e6-d89e5e5a0917"
      },
      "execution_count": 14,
      "outputs": [
        {
          "output_type": "stream",
          "name": "stdout",
          "text": [
            "80.155\n"
          ]
        }
      ]
    },
    {
      "cell_type": "markdown",
      "source": [
        "### 7. Qual vinho teve a maior nota?"
      ],
      "metadata": {
        "id": "2K8q9KnMqKUa"
      }
    },
    {
      "cell_type": "markdown",
      "source": [
        "#### Gabarito"
      ],
      "metadata": {
        "id": "OJpZCErDGL_G"
      }
    },
    {
      "cell_type": "code",
      "source": [
        "df.loc[df['rate'] == df['rate'].max()]"
      ],
      "metadata": {
        "colab": {
          "base_uri": "https://localhost:8080/",
          "height": 424
        },
        "id": "6doCnUZwGFOx",
        "outputId": "a005ac62-254b-4454-c2f9-10c8ec1d6436"
      },
      "execution_count": 15,
      "outputs": [
        {
          "output_type": "execute_result",
          "data": {
            "text/plain": [
              "            date   label  vintage      style    country   price  quantity  \\\n",
              "23    06/05/2021  Wine L     2006      White   Portugal  451.14        12   \n",
              "39    19/05/2021  Wine X     2000      Sweet      Italy   86.54         2   \n",
              "76    09/06/2021  Wine G     2000        Red      Chile  146.67         9   \n",
              "91    13/06/2021  Wine Y     1994     Orange  Argentina  479.30        10   \n",
              "218   11/05/2021  Wine Y     2005     Orange      Italy  196.25         5   \n",
              "...          ...     ...      ...        ...        ...     ...       ...   \n",
              "9968  15/01/2021  Wine X     2007      Sweet        USA   67.97         7   \n",
              "9971  07/06/2021  Wine P     2005  Sparkling    Germany  147.44        15   \n",
              "9979  29/11/2021  Wine Z     1993     Orange      Spain   96.17        13   \n",
              "9996  03/03/2021  Wine S     1994       Rose      Spain   55.84         4   \n",
              "9999  18/09/2021  Wine V     1982      Sweet   Portugal   63.85        13   \n",
              "\n",
              "      rate  sub-total  \n",
              "23     100    5413.68  \n",
              "39     100     173.08  \n",
              "76     100    1320.03  \n",
              "91     100    4793.00  \n",
              "218    100     981.25  \n",
              "...    ...        ...  \n",
              "9968   100     475.79  \n",
              "9971   100    2211.60  \n",
              "9979   100    1250.21  \n",
              "9996   100     223.36  \n",
              "9999   100     830.05  \n",
              "\n",
              "[383 rows x 9 columns]"
            ],
            "text/html": [
              "\n",
              "  <div id=\"df-d5da61f2-4d1c-4103-9990-2c43ab15cffe\">\n",
              "    <div class=\"colab-df-container\">\n",
              "      <div>\n",
              "<style scoped>\n",
              "    .dataframe tbody tr th:only-of-type {\n",
              "        vertical-align: middle;\n",
              "    }\n",
              "\n",
              "    .dataframe tbody tr th {\n",
              "        vertical-align: top;\n",
              "    }\n",
              "\n",
              "    .dataframe thead th {\n",
              "        text-align: right;\n",
              "    }\n",
              "</style>\n",
              "<table border=\"1\" class=\"dataframe\">\n",
              "  <thead>\n",
              "    <tr style=\"text-align: right;\">\n",
              "      <th></th>\n",
              "      <th>date</th>\n",
              "      <th>label</th>\n",
              "      <th>vintage</th>\n",
              "      <th>style</th>\n",
              "      <th>country</th>\n",
              "      <th>price</th>\n",
              "      <th>quantity</th>\n",
              "      <th>rate</th>\n",
              "      <th>sub-total</th>\n",
              "    </tr>\n",
              "  </thead>\n",
              "  <tbody>\n",
              "    <tr>\n",
              "      <th>23</th>\n",
              "      <td>06/05/2021</td>\n",
              "      <td>Wine L</td>\n",
              "      <td>2006</td>\n",
              "      <td>White</td>\n",
              "      <td>Portugal</td>\n",
              "      <td>451.14</td>\n",
              "      <td>12</td>\n",
              "      <td>100</td>\n",
              "      <td>5413.68</td>\n",
              "    </tr>\n",
              "    <tr>\n",
              "      <th>39</th>\n",
              "      <td>19/05/2021</td>\n",
              "      <td>Wine X</td>\n",
              "      <td>2000</td>\n",
              "      <td>Sweet</td>\n",
              "      <td>Italy</td>\n",
              "      <td>86.54</td>\n",
              "      <td>2</td>\n",
              "      <td>100</td>\n",
              "      <td>173.08</td>\n",
              "    </tr>\n",
              "    <tr>\n",
              "      <th>76</th>\n",
              "      <td>09/06/2021</td>\n",
              "      <td>Wine G</td>\n",
              "      <td>2000</td>\n",
              "      <td>Red</td>\n",
              "      <td>Chile</td>\n",
              "      <td>146.67</td>\n",
              "      <td>9</td>\n",
              "      <td>100</td>\n",
              "      <td>1320.03</td>\n",
              "    </tr>\n",
              "    <tr>\n",
              "      <th>91</th>\n",
              "      <td>13/06/2021</td>\n",
              "      <td>Wine Y</td>\n",
              "      <td>1994</td>\n",
              "      <td>Orange</td>\n",
              "      <td>Argentina</td>\n",
              "      <td>479.30</td>\n",
              "      <td>10</td>\n",
              "      <td>100</td>\n",
              "      <td>4793.00</td>\n",
              "    </tr>\n",
              "    <tr>\n",
              "      <th>218</th>\n",
              "      <td>11/05/2021</td>\n",
              "      <td>Wine Y</td>\n",
              "      <td>2005</td>\n",
              "      <td>Orange</td>\n",
              "      <td>Italy</td>\n",
              "      <td>196.25</td>\n",
              "      <td>5</td>\n",
              "      <td>100</td>\n",
              "      <td>981.25</td>\n",
              "    </tr>\n",
              "    <tr>\n",
              "      <th>...</th>\n",
              "      <td>...</td>\n",
              "      <td>...</td>\n",
              "      <td>...</td>\n",
              "      <td>...</td>\n",
              "      <td>...</td>\n",
              "      <td>...</td>\n",
              "      <td>...</td>\n",
              "      <td>...</td>\n",
              "      <td>...</td>\n",
              "    </tr>\n",
              "    <tr>\n",
              "      <th>9968</th>\n",
              "      <td>15/01/2021</td>\n",
              "      <td>Wine X</td>\n",
              "      <td>2007</td>\n",
              "      <td>Sweet</td>\n",
              "      <td>USA</td>\n",
              "      <td>67.97</td>\n",
              "      <td>7</td>\n",
              "      <td>100</td>\n",
              "      <td>475.79</td>\n",
              "    </tr>\n",
              "    <tr>\n",
              "      <th>9971</th>\n",
              "      <td>07/06/2021</td>\n",
              "      <td>Wine P</td>\n",
              "      <td>2005</td>\n",
              "      <td>Sparkling</td>\n",
              "      <td>Germany</td>\n",
              "      <td>147.44</td>\n",
              "      <td>15</td>\n",
              "      <td>100</td>\n",
              "      <td>2211.60</td>\n",
              "    </tr>\n",
              "    <tr>\n",
              "      <th>9979</th>\n",
              "      <td>29/11/2021</td>\n",
              "      <td>Wine Z</td>\n",
              "      <td>1993</td>\n",
              "      <td>Orange</td>\n",
              "      <td>Spain</td>\n",
              "      <td>96.17</td>\n",
              "      <td>13</td>\n",
              "      <td>100</td>\n",
              "      <td>1250.21</td>\n",
              "    </tr>\n",
              "    <tr>\n",
              "      <th>9996</th>\n",
              "      <td>03/03/2021</td>\n",
              "      <td>Wine S</td>\n",
              "      <td>1994</td>\n",
              "      <td>Rose</td>\n",
              "      <td>Spain</td>\n",
              "      <td>55.84</td>\n",
              "      <td>4</td>\n",
              "      <td>100</td>\n",
              "      <td>223.36</td>\n",
              "    </tr>\n",
              "    <tr>\n",
              "      <th>9999</th>\n",
              "      <td>18/09/2021</td>\n",
              "      <td>Wine V</td>\n",
              "      <td>1982</td>\n",
              "      <td>Sweet</td>\n",
              "      <td>Portugal</td>\n",
              "      <td>63.85</td>\n",
              "      <td>13</td>\n",
              "      <td>100</td>\n",
              "      <td>830.05</td>\n",
              "    </tr>\n",
              "  </tbody>\n",
              "</table>\n",
              "<p>383 rows × 9 columns</p>\n",
              "</div>\n",
              "      <button class=\"colab-df-convert\" onclick=\"convertToInteractive('df-d5da61f2-4d1c-4103-9990-2c43ab15cffe')\"\n",
              "              title=\"Convert this dataframe to an interactive table.\"\n",
              "              style=\"display:none;\">\n",
              "        \n",
              "  <svg xmlns=\"http://www.w3.org/2000/svg\" height=\"24px\"viewBox=\"0 0 24 24\"\n",
              "       width=\"24px\">\n",
              "    <path d=\"M0 0h24v24H0V0z\" fill=\"none\"/>\n",
              "    <path d=\"M18.56 5.44l.94 2.06.94-2.06 2.06-.94-2.06-.94-.94-2.06-.94 2.06-2.06.94zm-11 1L8.5 8.5l.94-2.06 2.06-.94-2.06-.94L8.5 2.5l-.94 2.06-2.06.94zm10 10l.94 2.06.94-2.06 2.06-.94-2.06-.94-.94-2.06-.94 2.06-2.06.94z\"/><path d=\"M17.41 7.96l-1.37-1.37c-.4-.4-.92-.59-1.43-.59-.52 0-1.04.2-1.43.59L10.3 9.45l-7.72 7.72c-.78.78-.78 2.05 0 2.83L4 21.41c.39.39.9.59 1.41.59.51 0 1.02-.2 1.41-.59l7.78-7.78 2.81-2.81c.8-.78.8-2.07 0-2.86zM5.41 20L4 18.59l7.72-7.72 1.47 1.35L5.41 20z\"/>\n",
              "  </svg>\n",
              "      </button>\n",
              "      \n",
              "  <style>\n",
              "    .colab-df-container {\n",
              "      display:flex;\n",
              "      flex-wrap:wrap;\n",
              "      gap: 12px;\n",
              "    }\n",
              "\n",
              "    .colab-df-convert {\n",
              "      background-color: #E8F0FE;\n",
              "      border: none;\n",
              "      border-radius: 50%;\n",
              "      cursor: pointer;\n",
              "      display: none;\n",
              "      fill: #1967D2;\n",
              "      height: 32px;\n",
              "      padding: 0 0 0 0;\n",
              "      width: 32px;\n",
              "    }\n",
              "\n",
              "    .colab-df-convert:hover {\n",
              "      background-color: #E2EBFA;\n",
              "      box-shadow: 0px 1px 2px rgba(60, 64, 67, 0.3), 0px 1px 3px 1px rgba(60, 64, 67, 0.15);\n",
              "      fill: #174EA6;\n",
              "    }\n",
              "\n",
              "    [theme=dark] .colab-df-convert {\n",
              "      background-color: #3B4455;\n",
              "      fill: #D2E3FC;\n",
              "    }\n",
              "\n",
              "    [theme=dark] .colab-df-convert:hover {\n",
              "      background-color: #434B5C;\n",
              "      box-shadow: 0px 1px 3px 1px rgba(0, 0, 0, 0.15);\n",
              "      filter: drop-shadow(0px 1px 2px rgba(0, 0, 0, 0.3));\n",
              "      fill: #FFFFFF;\n",
              "    }\n",
              "  </style>\n",
              "\n",
              "      <script>\n",
              "        const buttonEl =\n",
              "          document.querySelector('#df-d5da61f2-4d1c-4103-9990-2c43ab15cffe button.colab-df-convert');\n",
              "        buttonEl.style.display =\n",
              "          google.colab.kernel.accessAllowed ? 'block' : 'none';\n",
              "\n",
              "        async function convertToInteractive(key) {\n",
              "          const element = document.querySelector('#df-d5da61f2-4d1c-4103-9990-2c43ab15cffe');\n",
              "          const dataTable =\n",
              "            await google.colab.kernel.invokeFunction('convertToInteractive',\n",
              "                                                     [key], {});\n",
              "          if (!dataTable) return;\n",
              "\n",
              "          const docLinkHtml = 'Like what you see? Visit the ' +\n",
              "            '<a target=\"_blank\" href=https://colab.research.google.com/notebooks/data_table.ipynb>data table notebook</a>'\n",
              "            + ' to learn more about interactive tables.';\n",
              "          element.innerHTML = '';\n",
              "          dataTable['output_type'] = 'display_data';\n",
              "          await google.colab.output.renderOutput(dataTable, element);\n",
              "          const docLink = document.createElement('div');\n",
              "          docLink.innerHTML = docLinkHtml;\n",
              "          element.appendChild(docLink);\n",
              "        }\n",
              "      </script>\n",
              "    </div>\n",
              "  </div>\n",
              "  "
            ]
          },
          "metadata": {},
          "execution_count": 15
        }
      ]
    },
    {
      "cell_type": "markdown",
      "source": [
        "### 8. Qual vinho teve a menor nota?"
      ],
      "metadata": {
        "id": "cFH7nJvaqOOI"
      }
    },
    {
      "cell_type": "markdown",
      "source": [
        "#### Gabarito"
      ],
      "metadata": {
        "id": "MVn0uMQ0IDp8"
      }
    },
    {
      "cell_type": "code",
      "source": [
        "df.loc[df['rate'] == df['rate'].min()]"
      ],
      "metadata": {
        "colab": {
          "base_uri": "https://localhost:8080/",
          "height": 424
        },
        "id": "rtI3GAEfIFHp",
        "outputId": "1a622261-46f8-4d7b-b064-47acb11d0e5c"
      },
      "execution_count": 16,
      "outputs": [
        {
          "output_type": "execute_result",
          "data": {
            "text/plain": [
              "            date   label  vintage   style    country   price  quantity  rate  \\\n",
              "13    22/04/2021  Wine N     2019   White    Uruguay  229.17         8    75   \n",
              "20    04/03/2021  Wine T     1984    Rose      Italy  188.16         3    75   \n",
              "52    28/11/2021  Wine W     2021   Sweet   Portugal  377.73        13    75   \n",
              "61    05/12/2021  Wine V     2020   Sweet        USA  274.18         5    75   \n",
              "95    11/07/2021  Wine C     1988     Red     France  409.73         7    75   \n",
              "...          ...     ...      ...     ...        ...     ...       ...   ...   \n",
              "9953  21/06/2021  Wine Z     1995  Orange      Chile  413.03         8    75   \n",
              "9961  21/04/2021  Wine N     1997   White   Portugal  167.44         2    75   \n",
              "9967  25/07/2021  Wine X     2019   Sweet  Argentina  262.55         1    75   \n",
              "9976  13/02/2021  Wine I     1996     Red   Portugal  179.73        12    75   \n",
              "9990  16/11/2021  Wine B     1993     Red  Argentina  133.29         8    75   \n",
              "\n",
              "      sub-total  \n",
              "13      1833.36  \n",
              "20       564.48  \n",
              "52      4910.49  \n",
              "61      1370.90  \n",
              "95      2868.11  \n",
              "...         ...  \n",
              "9953    3304.24  \n",
              "9961     334.88  \n",
              "9967     262.55  \n",
              "9976    2156.76  \n",
              "9990    1066.32  \n",
              "\n",
              "[365 rows x 9 columns]"
            ],
            "text/html": [
              "\n",
              "  <div id=\"df-03429d7e-3e73-40fc-81d1-d3bbbb670bba\">\n",
              "    <div class=\"colab-df-container\">\n",
              "      <div>\n",
              "<style scoped>\n",
              "    .dataframe tbody tr th:only-of-type {\n",
              "        vertical-align: middle;\n",
              "    }\n",
              "\n",
              "    .dataframe tbody tr th {\n",
              "        vertical-align: top;\n",
              "    }\n",
              "\n",
              "    .dataframe thead th {\n",
              "        text-align: right;\n",
              "    }\n",
              "</style>\n",
              "<table border=\"1\" class=\"dataframe\">\n",
              "  <thead>\n",
              "    <tr style=\"text-align: right;\">\n",
              "      <th></th>\n",
              "      <th>date</th>\n",
              "      <th>label</th>\n",
              "      <th>vintage</th>\n",
              "      <th>style</th>\n",
              "      <th>country</th>\n",
              "      <th>price</th>\n",
              "      <th>quantity</th>\n",
              "      <th>rate</th>\n",
              "      <th>sub-total</th>\n",
              "    </tr>\n",
              "  </thead>\n",
              "  <tbody>\n",
              "    <tr>\n",
              "      <th>13</th>\n",
              "      <td>22/04/2021</td>\n",
              "      <td>Wine N</td>\n",
              "      <td>2019</td>\n",
              "      <td>White</td>\n",
              "      <td>Uruguay</td>\n",
              "      <td>229.17</td>\n",
              "      <td>8</td>\n",
              "      <td>75</td>\n",
              "      <td>1833.36</td>\n",
              "    </tr>\n",
              "    <tr>\n",
              "      <th>20</th>\n",
              "      <td>04/03/2021</td>\n",
              "      <td>Wine T</td>\n",
              "      <td>1984</td>\n",
              "      <td>Rose</td>\n",
              "      <td>Italy</td>\n",
              "      <td>188.16</td>\n",
              "      <td>3</td>\n",
              "      <td>75</td>\n",
              "      <td>564.48</td>\n",
              "    </tr>\n",
              "    <tr>\n",
              "      <th>52</th>\n",
              "      <td>28/11/2021</td>\n",
              "      <td>Wine W</td>\n",
              "      <td>2021</td>\n",
              "      <td>Sweet</td>\n",
              "      <td>Portugal</td>\n",
              "      <td>377.73</td>\n",
              "      <td>13</td>\n",
              "      <td>75</td>\n",
              "      <td>4910.49</td>\n",
              "    </tr>\n",
              "    <tr>\n",
              "      <th>61</th>\n",
              "      <td>05/12/2021</td>\n",
              "      <td>Wine V</td>\n",
              "      <td>2020</td>\n",
              "      <td>Sweet</td>\n",
              "      <td>USA</td>\n",
              "      <td>274.18</td>\n",
              "      <td>5</td>\n",
              "      <td>75</td>\n",
              "      <td>1370.90</td>\n",
              "    </tr>\n",
              "    <tr>\n",
              "      <th>95</th>\n",
              "      <td>11/07/2021</td>\n",
              "      <td>Wine C</td>\n",
              "      <td>1988</td>\n",
              "      <td>Red</td>\n",
              "      <td>France</td>\n",
              "      <td>409.73</td>\n",
              "      <td>7</td>\n",
              "      <td>75</td>\n",
              "      <td>2868.11</td>\n",
              "    </tr>\n",
              "    <tr>\n",
              "      <th>...</th>\n",
              "      <td>...</td>\n",
              "      <td>...</td>\n",
              "      <td>...</td>\n",
              "      <td>...</td>\n",
              "      <td>...</td>\n",
              "      <td>...</td>\n",
              "      <td>...</td>\n",
              "      <td>...</td>\n",
              "      <td>...</td>\n",
              "    </tr>\n",
              "    <tr>\n",
              "      <th>9953</th>\n",
              "      <td>21/06/2021</td>\n",
              "      <td>Wine Z</td>\n",
              "      <td>1995</td>\n",
              "      <td>Orange</td>\n",
              "      <td>Chile</td>\n",
              "      <td>413.03</td>\n",
              "      <td>8</td>\n",
              "      <td>75</td>\n",
              "      <td>3304.24</td>\n",
              "    </tr>\n",
              "    <tr>\n",
              "      <th>9961</th>\n",
              "      <td>21/04/2021</td>\n",
              "      <td>Wine N</td>\n",
              "      <td>1997</td>\n",
              "      <td>White</td>\n",
              "      <td>Portugal</td>\n",
              "      <td>167.44</td>\n",
              "      <td>2</td>\n",
              "      <td>75</td>\n",
              "      <td>334.88</td>\n",
              "    </tr>\n",
              "    <tr>\n",
              "      <th>9967</th>\n",
              "      <td>25/07/2021</td>\n",
              "      <td>Wine X</td>\n",
              "      <td>2019</td>\n",
              "      <td>Sweet</td>\n",
              "      <td>Argentina</td>\n",
              "      <td>262.55</td>\n",
              "      <td>1</td>\n",
              "      <td>75</td>\n",
              "      <td>262.55</td>\n",
              "    </tr>\n",
              "    <tr>\n",
              "      <th>9976</th>\n",
              "      <td>13/02/2021</td>\n",
              "      <td>Wine I</td>\n",
              "      <td>1996</td>\n",
              "      <td>Red</td>\n",
              "      <td>Portugal</td>\n",
              "      <td>179.73</td>\n",
              "      <td>12</td>\n",
              "      <td>75</td>\n",
              "      <td>2156.76</td>\n",
              "    </tr>\n",
              "    <tr>\n",
              "      <th>9990</th>\n",
              "      <td>16/11/2021</td>\n",
              "      <td>Wine B</td>\n",
              "      <td>1993</td>\n",
              "      <td>Red</td>\n",
              "      <td>Argentina</td>\n",
              "      <td>133.29</td>\n",
              "      <td>8</td>\n",
              "      <td>75</td>\n",
              "      <td>1066.32</td>\n",
              "    </tr>\n",
              "  </tbody>\n",
              "</table>\n",
              "<p>365 rows × 9 columns</p>\n",
              "</div>\n",
              "      <button class=\"colab-df-convert\" onclick=\"convertToInteractive('df-03429d7e-3e73-40fc-81d1-d3bbbb670bba')\"\n",
              "              title=\"Convert this dataframe to an interactive table.\"\n",
              "              style=\"display:none;\">\n",
              "        \n",
              "  <svg xmlns=\"http://www.w3.org/2000/svg\" height=\"24px\"viewBox=\"0 0 24 24\"\n",
              "       width=\"24px\">\n",
              "    <path d=\"M0 0h24v24H0V0z\" fill=\"none\"/>\n",
              "    <path d=\"M18.56 5.44l.94 2.06.94-2.06 2.06-.94-2.06-.94-.94-2.06-.94 2.06-2.06.94zm-11 1L8.5 8.5l.94-2.06 2.06-.94-2.06-.94L8.5 2.5l-.94 2.06-2.06.94zm10 10l.94 2.06.94-2.06 2.06-.94-2.06-.94-.94-2.06-.94 2.06-2.06.94z\"/><path d=\"M17.41 7.96l-1.37-1.37c-.4-.4-.92-.59-1.43-.59-.52 0-1.04.2-1.43.59L10.3 9.45l-7.72 7.72c-.78.78-.78 2.05 0 2.83L4 21.41c.39.39.9.59 1.41.59.51 0 1.02-.2 1.41-.59l7.78-7.78 2.81-2.81c.8-.78.8-2.07 0-2.86zM5.41 20L4 18.59l7.72-7.72 1.47 1.35L5.41 20z\"/>\n",
              "  </svg>\n",
              "      </button>\n",
              "      \n",
              "  <style>\n",
              "    .colab-df-container {\n",
              "      display:flex;\n",
              "      flex-wrap:wrap;\n",
              "      gap: 12px;\n",
              "    }\n",
              "\n",
              "    .colab-df-convert {\n",
              "      background-color: #E8F0FE;\n",
              "      border: none;\n",
              "      border-radius: 50%;\n",
              "      cursor: pointer;\n",
              "      display: none;\n",
              "      fill: #1967D2;\n",
              "      height: 32px;\n",
              "      padding: 0 0 0 0;\n",
              "      width: 32px;\n",
              "    }\n",
              "\n",
              "    .colab-df-convert:hover {\n",
              "      background-color: #E2EBFA;\n",
              "      box-shadow: 0px 1px 2px rgba(60, 64, 67, 0.3), 0px 1px 3px 1px rgba(60, 64, 67, 0.15);\n",
              "      fill: #174EA6;\n",
              "    }\n",
              "\n",
              "    [theme=dark] .colab-df-convert {\n",
              "      background-color: #3B4455;\n",
              "      fill: #D2E3FC;\n",
              "    }\n",
              "\n",
              "    [theme=dark] .colab-df-convert:hover {\n",
              "      background-color: #434B5C;\n",
              "      box-shadow: 0px 1px 3px 1px rgba(0, 0, 0, 0.15);\n",
              "      filter: drop-shadow(0px 1px 2px rgba(0, 0, 0, 0.3));\n",
              "      fill: #FFFFFF;\n",
              "    }\n",
              "  </style>\n",
              "\n",
              "      <script>\n",
              "        const buttonEl =\n",
              "          document.querySelector('#df-03429d7e-3e73-40fc-81d1-d3bbbb670bba button.colab-df-convert');\n",
              "        buttonEl.style.display =\n",
              "          google.colab.kernel.accessAllowed ? 'block' : 'none';\n",
              "\n",
              "        async function convertToInteractive(key) {\n",
              "          const element = document.querySelector('#df-03429d7e-3e73-40fc-81d1-d3bbbb670bba');\n",
              "          const dataTable =\n",
              "            await google.colab.kernel.invokeFunction('convertToInteractive',\n",
              "                                                     [key], {});\n",
              "          if (!dataTable) return;\n",
              "\n",
              "          const docLinkHtml = 'Like what you see? Visit the ' +\n",
              "            '<a target=\"_blank\" href=https://colab.research.google.com/notebooks/data_table.ipynb>data table notebook</a>'\n",
              "            + ' to learn more about interactive tables.';\n",
              "          element.innerHTML = '';\n",
              "          dataTable['output_type'] = 'display_data';\n",
              "          await google.colab.output.renderOutput(dataTable, element);\n",
              "          const docLink = document.createElement('div');\n",
              "          docLink.innerHTML = docLinkHtml;\n",
              "          element.appendChild(docLink);\n",
              "        }\n",
              "      </script>\n",
              "    </div>\n",
              "  </div>\n",
              "  "
            ]
          },
          "metadata": {},
          "execution_count": 16
        }
      ]
    },
    {
      "cell_type": "markdown",
      "source": [
        "### 9. Qual a safra mais antiga?"
      ],
      "metadata": {
        "id": "fKLHjpfwqRRS"
      }
    },
    {
      "cell_type": "markdown",
      "source": [
        "#### Gabarito"
      ],
      "metadata": {
        "id": "tWau6zFnJ49U"
      }
    },
    {
      "cell_type": "code",
      "source": [
        "df['vintage'].min()"
      ],
      "metadata": {
        "colab": {
          "base_uri": "https://localhost:8080/"
        },
        "id": "V0uHKr_uJ6ZB",
        "outputId": "a901282c-0d99-4c2e-cb24-1d8f0c2e50dc"
      },
      "execution_count": 17,
      "outputs": [
        {
          "output_type": "execute_result",
          "data": {
            "text/plain": [
              "1982"
            ]
          },
          "metadata": {},
          "execution_count": 17
        }
      ]
    },
    {
      "cell_type": "markdown",
      "source": [
        "### 10. Qual a safra mais recente?"
      ],
      "metadata": {
        "id": "Y837UBv8qVR7"
      }
    },
    {
      "cell_type": "markdown",
      "source": [
        "#### Gabarito"
      ],
      "metadata": {
        "id": "4mMLd4OXJ_T6"
      }
    },
    {
      "cell_type": "code",
      "source": [
        "df['vintage'].max()"
      ],
      "metadata": {
        "colab": {
          "base_uri": "https://localhost:8080/"
        },
        "id": "kYNOQieaKBbX",
        "outputId": "0cf8dad9-deab-4528-daaf-17141bd898cb"
      },
      "execution_count": 18,
      "outputs": [
        {
          "output_type": "execute_result",
          "data": {
            "text/plain": [
              "2021"
            ]
          },
          "metadata": {},
          "execution_count": 18
        }
      ]
    },
    {
      "cell_type": "markdown",
      "source": [
        "### 11. Qual país teve mais garrafa vendida?"
      ],
      "metadata": {
        "id": "5XicB-MuqY66"
      }
    },
    {
      "cell_type": "markdown",
      "source": [
        "#### Gabarito"
      ],
      "metadata": {
        "id": "c5DfLs6TKIxv"
      }
    },
    {
      "cell_type": "code",
      "source": [
        "df.groupby('country')['quantity'].sum()\\\n",
        ".sort_values(ascending=False).reset_index()[:1]"
      ],
      "metadata": {
        "colab": {
          "base_uri": "https://localhost:8080/",
          "height": 81
        },
        "id": "EseR8AJPKKzi",
        "outputId": "ffb6fccf-63be-4e36-fee6-3a90c3baa4d2"
      },
      "execution_count": 19,
      "outputs": [
        {
          "output_type": "execute_result",
          "data": {
            "text/plain": [
              "  country  quantity\n",
              "0   Italy      8335"
            ],
            "text/html": [
              "\n",
              "  <div id=\"df-ba300da1-02ea-486a-bfef-926ef9df2d37\">\n",
              "    <div class=\"colab-df-container\">\n",
              "      <div>\n",
              "<style scoped>\n",
              "    .dataframe tbody tr th:only-of-type {\n",
              "        vertical-align: middle;\n",
              "    }\n",
              "\n",
              "    .dataframe tbody tr th {\n",
              "        vertical-align: top;\n",
              "    }\n",
              "\n",
              "    .dataframe thead th {\n",
              "        text-align: right;\n",
              "    }\n",
              "</style>\n",
              "<table border=\"1\" class=\"dataframe\">\n",
              "  <thead>\n",
              "    <tr style=\"text-align: right;\">\n",
              "      <th></th>\n",
              "      <th>country</th>\n",
              "      <th>quantity</th>\n",
              "    </tr>\n",
              "  </thead>\n",
              "  <tbody>\n",
              "    <tr>\n",
              "      <th>0</th>\n",
              "      <td>Italy</td>\n",
              "      <td>8335</td>\n",
              "    </tr>\n",
              "  </tbody>\n",
              "</table>\n",
              "</div>\n",
              "      <button class=\"colab-df-convert\" onclick=\"convertToInteractive('df-ba300da1-02ea-486a-bfef-926ef9df2d37')\"\n",
              "              title=\"Convert this dataframe to an interactive table.\"\n",
              "              style=\"display:none;\">\n",
              "        \n",
              "  <svg xmlns=\"http://www.w3.org/2000/svg\" height=\"24px\"viewBox=\"0 0 24 24\"\n",
              "       width=\"24px\">\n",
              "    <path d=\"M0 0h24v24H0V0z\" fill=\"none\"/>\n",
              "    <path d=\"M18.56 5.44l.94 2.06.94-2.06 2.06-.94-2.06-.94-.94-2.06-.94 2.06-2.06.94zm-11 1L8.5 8.5l.94-2.06 2.06-.94-2.06-.94L8.5 2.5l-.94 2.06-2.06.94zm10 10l.94 2.06.94-2.06 2.06-.94-2.06-.94-.94-2.06-.94 2.06-2.06.94z\"/><path d=\"M17.41 7.96l-1.37-1.37c-.4-.4-.92-.59-1.43-.59-.52 0-1.04.2-1.43.59L10.3 9.45l-7.72 7.72c-.78.78-.78 2.05 0 2.83L4 21.41c.39.39.9.59 1.41.59.51 0 1.02-.2 1.41-.59l7.78-7.78 2.81-2.81c.8-.78.8-2.07 0-2.86zM5.41 20L4 18.59l7.72-7.72 1.47 1.35L5.41 20z\"/>\n",
              "  </svg>\n",
              "      </button>\n",
              "      \n",
              "  <style>\n",
              "    .colab-df-container {\n",
              "      display:flex;\n",
              "      flex-wrap:wrap;\n",
              "      gap: 12px;\n",
              "    }\n",
              "\n",
              "    .colab-df-convert {\n",
              "      background-color: #E8F0FE;\n",
              "      border: none;\n",
              "      border-radius: 50%;\n",
              "      cursor: pointer;\n",
              "      display: none;\n",
              "      fill: #1967D2;\n",
              "      height: 32px;\n",
              "      padding: 0 0 0 0;\n",
              "      width: 32px;\n",
              "    }\n",
              "\n",
              "    .colab-df-convert:hover {\n",
              "      background-color: #E2EBFA;\n",
              "      box-shadow: 0px 1px 2px rgba(60, 64, 67, 0.3), 0px 1px 3px 1px rgba(60, 64, 67, 0.15);\n",
              "      fill: #174EA6;\n",
              "    }\n",
              "\n",
              "    [theme=dark] .colab-df-convert {\n",
              "      background-color: #3B4455;\n",
              "      fill: #D2E3FC;\n",
              "    }\n",
              "\n",
              "    [theme=dark] .colab-df-convert:hover {\n",
              "      background-color: #434B5C;\n",
              "      box-shadow: 0px 1px 3px 1px rgba(0, 0, 0, 0.15);\n",
              "      filter: drop-shadow(0px 1px 2px rgba(0, 0, 0, 0.3));\n",
              "      fill: #FFFFFF;\n",
              "    }\n",
              "  </style>\n",
              "\n",
              "      <script>\n",
              "        const buttonEl =\n",
              "          document.querySelector('#df-ba300da1-02ea-486a-bfef-926ef9df2d37 button.colab-df-convert');\n",
              "        buttonEl.style.display =\n",
              "          google.colab.kernel.accessAllowed ? 'block' : 'none';\n",
              "\n",
              "        async function convertToInteractive(key) {\n",
              "          const element = document.querySelector('#df-ba300da1-02ea-486a-bfef-926ef9df2d37');\n",
              "          const dataTable =\n",
              "            await google.colab.kernel.invokeFunction('convertToInteractive',\n",
              "                                                     [key], {});\n",
              "          if (!dataTable) return;\n",
              "\n",
              "          const docLinkHtml = 'Like what you see? Visit the ' +\n",
              "            '<a target=\"_blank\" href=https://colab.research.google.com/notebooks/data_table.ipynb>data table notebook</a>'\n",
              "            + ' to learn more about interactive tables.';\n",
              "          element.innerHTML = '';\n",
              "          dataTable['output_type'] = 'display_data';\n",
              "          await google.colab.output.renderOutput(dataTable, element);\n",
              "          const docLink = document.createElement('div');\n",
              "          docLink.innerHTML = docLinkHtml;\n",
              "          element.appendChild(docLink);\n",
              "        }\n",
              "      </script>\n",
              "    </div>\n",
              "  </div>\n",
              "  "
            ]
          },
          "metadata": {},
          "execution_count": 19
        }
      ]
    },
    {
      "cell_type": "markdown",
      "source": [
        "### 12. Qual país teve menos menos garrafa vendida?"
      ],
      "metadata": {
        "id": "RUq7osguqgxm"
      }
    },
    {
      "cell_type": "markdown",
      "source": [
        "#### Gabarito"
      ],
      "metadata": {
        "id": "wcGFc2NkilP0"
      }
    },
    {
      "cell_type": "code",
      "source": [
        "df.groupby('country')['quantity'].sum()\\\n",
        ".sort_values(ascending=False).reset_index().tail(1)"
      ],
      "metadata": {
        "colab": {
          "base_uri": "https://localhost:8080/",
          "height": 81
        },
        "id": "IBUv9eOUinCq",
        "outputId": "b2132fc1-96cd-4fef-bbb6-426e6309936a"
      },
      "execution_count": 22,
      "outputs": [
        {
          "output_type": "execute_result",
          "data": {
            "text/plain": [
              "  country  quantity\n",
              "9     USA      7402"
            ],
            "text/html": [
              "\n",
              "  <div id=\"df-dd2e6c2b-e0ce-4379-a0f4-2c72a325c6fb\">\n",
              "    <div class=\"colab-df-container\">\n",
              "      <div>\n",
              "<style scoped>\n",
              "    .dataframe tbody tr th:only-of-type {\n",
              "        vertical-align: middle;\n",
              "    }\n",
              "\n",
              "    .dataframe tbody tr th {\n",
              "        vertical-align: top;\n",
              "    }\n",
              "\n",
              "    .dataframe thead th {\n",
              "        text-align: right;\n",
              "    }\n",
              "</style>\n",
              "<table border=\"1\" class=\"dataframe\">\n",
              "  <thead>\n",
              "    <tr style=\"text-align: right;\">\n",
              "      <th></th>\n",
              "      <th>country</th>\n",
              "      <th>quantity</th>\n",
              "    </tr>\n",
              "  </thead>\n",
              "  <tbody>\n",
              "    <tr>\n",
              "      <th>9</th>\n",
              "      <td>USA</td>\n",
              "      <td>7402</td>\n",
              "    </tr>\n",
              "  </tbody>\n",
              "</table>\n",
              "</div>\n",
              "      <button class=\"colab-df-convert\" onclick=\"convertToInteractive('df-dd2e6c2b-e0ce-4379-a0f4-2c72a325c6fb')\"\n",
              "              title=\"Convert this dataframe to an interactive table.\"\n",
              "              style=\"display:none;\">\n",
              "        \n",
              "  <svg xmlns=\"http://www.w3.org/2000/svg\" height=\"24px\"viewBox=\"0 0 24 24\"\n",
              "       width=\"24px\">\n",
              "    <path d=\"M0 0h24v24H0V0z\" fill=\"none\"/>\n",
              "    <path d=\"M18.56 5.44l.94 2.06.94-2.06 2.06-.94-2.06-.94-.94-2.06-.94 2.06-2.06.94zm-11 1L8.5 8.5l.94-2.06 2.06-.94-2.06-.94L8.5 2.5l-.94 2.06-2.06.94zm10 10l.94 2.06.94-2.06 2.06-.94-2.06-.94-.94-2.06-.94 2.06-2.06.94z\"/><path d=\"M17.41 7.96l-1.37-1.37c-.4-.4-.92-.59-1.43-.59-.52 0-1.04.2-1.43.59L10.3 9.45l-7.72 7.72c-.78.78-.78 2.05 0 2.83L4 21.41c.39.39.9.59 1.41.59.51 0 1.02-.2 1.41-.59l7.78-7.78 2.81-2.81c.8-.78.8-2.07 0-2.86zM5.41 20L4 18.59l7.72-7.72 1.47 1.35L5.41 20z\"/>\n",
              "  </svg>\n",
              "      </button>\n",
              "      \n",
              "  <style>\n",
              "    .colab-df-container {\n",
              "      display:flex;\n",
              "      flex-wrap:wrap;\n",
              "      gap: 12px;\n",
              "    }\n",
              "\n",
              "    .colab-df-convert {\n",
              "      background-color: #E8F0FE;\n",
              "      border: none;\n",
              "      border-radius: 50%;\n",
              "      cursor: pointer;\n",
              "      display: none;\n",
              "      fill: #1967D2;\n",
              "      height: 32px;\n",
              "      padding: 0 0 0 0;\n",
              "      width: 32px;\n",
              "    }\n",
              "\n",
              "    .colab-df-convert:hover {\n",
              "      background-color: #E2EBFA;\n",
              "      box-shadow: 0px 1px 2px rgba(60, 64, 67, 0.3), 0px 1px 3px 1px rgba(60, 64, 67, 0.15);\n",
              "      fill: #174EA6;\n",
              "    }\n",
              "\n",
              "    [theme=dark] .colab-df-convert {\n",
              "      background-color: #3B4455;\n",
              "      fill: #D2E3FC;\n",
              "    }\n",
              "\n",
              "    [theme=dark] .colab-df-convert:hover {\n",
              "      background-color: #434B5C;\n",
              "      box-shadow: 0px 1px 3px 1px rgba(0, 0, 0, 0.15);\n",
              "      filter: drop-shadow(0px 1px 2px rgba(0, 0, 0, 0.3));\n",
              "      fill: #FFFFFF;\n",
              "    }\n",
              "  </style>\n",
              "\n",
              "      <script>\n",
              "        const buttonEl =\n",
              "          document.querySelector('#df-dd2e6c2b-e0ce-4379-a0f4-2c72a325c6fb button.colab-df-convert');\n",
              "        buttonEl.style.display =\n",
              "          google.colab.kernel.accessAllowed ? 'block' : 'none';\n",
              "\n",
              "        async function convertToInteractive(key) {\n",
              "          const element = document.querySelector('#df-dd2e6c2b-e0ce-4379-a0f4-2c72a325c6fb');\n",
              "          const dataTable =\n",
              "            await google.colab.kernel.invokeFunction('convertToInteractive',\n",
              "                                                     [key], {});\n",
              "          if (!dataTable) return;\n",
              "\n",
              "          const docLinkHtml = 'Like what you see? Visit the ' +\n",
              "            '<a target=\"_blank\" href=https://colab.research.google.com/notebooks/data_table.ipynb>data table notebook</a>'\n",
              "            + ' to learn more about interactive tables.';\n",
              "          element.innerHTML = '';\n",
              "          dataTable['output_type'] = 'display_data';\n",
              "          await google.colab.output.renderOutput(dataTable, element);\n",
              "          const docLink = document.createElement('div');\n",
              "          docLink.innerHTML = docLinkHtml;\n",
              "          element.appendChild(docLink);\n",
              "        }\n",
              "      </script>\n",
              "    </div>\n",
              "  </div>\n",
              "  "
            ]
          },
          "metadata": {},
          "execution_count": 22
        }
      ]
    },
    {
      "cell_type": "markdown",
      "source": [
        "### 13. Quantos vinhos abaixo de R$100,00 foram vendidos?"
      ],
      "metadata": {
        "id": "_J2VHz1BqmjW"
      }
    },
    {
      "cell_type": "markdown",
      "source": [
        "#### Gabarito"
      ],
      "metadata": {
        "id": "hgf4lo6ki2BM"
      }
    },
    {
      "cell_type": "code",
      "source": [
        "abaixo_100 = f'{df.loc[df[\"price\"] < 100][\"quantity\"].sum():_}'\n",
        "print(abaixo_100.translate(abaixo_100.maketrans({'_': '.'})))"
      ],
      "metadata": {
        "colab": {
          "base_uri": "https://localhost:8080/"
        },
        "id": "kFSyPoSii3yl",
        "outputId": "497b68da-0e78-4990-f3ca-fe0095c6fde9"
      },
      "execution_count": 25,
      "outputs": [
        {
          "output_type": "stream",
          "name": "stdout",
          "text": [
            "18.195\n"
          ]
        }
      ]
    },
    {
      "cell_type": "markdown",
      "source": [
        "### 14. Quantos vinhos acima de R$100,00 foram vendidos?"
      ],
      "metadata": {
        "id": "n9798Bocq5A7"
      }
    },
    {
      "cell_type": "markdown",
      "source": [
        "#### Gabarito"
      ],
      "metadata": {
        "id": "B2912mFyjIf1"
      }
    },
    {
      "cell_type": "code",
      "source": [
        "acima_100 = f'{df.loc[df[\"price\"] > 100][\"quantity\"].sum():_}'\n",
        "print(acima_100.translate(acima_100.maketrans({'_': '.'})))"
      ],
      "metadata": {
        "colab": {
          "base_uri": "https://localhost:8080/"
        },
        "id": "Wsi-5vXtjKqp",
        "outputId": "ccdeee78-5cc8-413a-809f-da56cf4b745d"
      },
      "execution_count": 27,
      "outputs": [
        {
          "output_type": "stream",
          "name": "stdout",
          "text": [
            "61.949\n"
          ]
        }
      ]
    },
    {
      "cell_type": "markdown",
      "source": [
        "### 15. Quantas garrafas de espumantes foram vendidadas no mês de Dezembro?"
      ],
      "metadata": {
        "id": "bN-YBMyAq_7n"
      }
    },
    {
      "cell_type": "code",
      "source": [
        "df['date'] = pd.to_datetime(df['date'])\n",
        "esp_dez = f'{df.loc[(df[\"style\"] == \"Sparkling\") & (df[\"date\"].dt.month == 12)][\"quantity\"].sum():_}'\n",
        "print(esp_dez.translate(esp_dez.maketrans({'_': '.'})))"
      ],
      "metadata": {
        "colab": {
          "base_uri": "https://localhost:8080/"
        },
        "id": "wHUi7X3ozRfG",
        "outputId": "0a9e9f01-a0dc-4339-c8b9-f492c2572207"
      },
      "execution_count": 32,
      "outputs": [
        {
          "output_type": "stream",
          "name": "stdout",
          "text": [
            "902\n"
          ]
        }
      ]
    },
    {
      "cell_type": "markdown",
      "source": [
        "#### Gabarito"
      ],
      "metadata": {
        "id": "H90AOWZKjVTO"
      }
    },
    {
      "cell_type": "code",
      "source": [
        "df.loc[(df['style'] == 'Sparkling') & (df['date'].dt.month == 12)]['quantity'].sum()"
      ],
      "metadata": {
        "colab": {
          "base_uri": "https://localhost:8080/"
        },
        "id": "fwFUOu_ojyzg",
        "outputId": "05627904-aef8-43ef-e88d-2061d42fd336"
      },
      "execution_count": null,
      "outputs": [
        {
          "output_type": "execute_result",
          "data": {
            "text/plain": [
              "902"
            ]
          },
          "metadata": {},
          "execution_count": 37
        }
      ]
    },
    {
      "cell_type": "markdown",
      "source": [
        "### 16. Quantos vinhos brancos e rosés foram vendidos nos meses de Janeiro à Março?"
      ],
      "metadata": {
        "id": "vjnN6bTFrKNE"
      }
    },
    {
      "cell_type": "markdown",
      "source": [
        "#### Gabarito"
      ],
      "metadata": {
        "id": "kkV_Y_GKkq9H"
      }
    },
    {
      "cell_type": "code",
      "source": [
        "qtde_wr = f'{df.loc[((df[\"style\"] == \"White\") | (df[\"style\"] == \"Rose\")) & (df[\"date\"].dt.month.isin([1, 2, 3]))][\"quantity\"].sum():_}'\n",
        "\n",
        "print(qtde_wr.translate(qtde_wr.maketrans({'_':'.'})))"
      ],
      "metadata": {
        "colab": {
          "base_uri": "https://localhost:8080/"
        },
        "id": "A5Z8CwN_ksiW",
        "outputId": "6f0aaba2-7d6a-4078-a528-3cdf2a232db5"
      },
      "execution_count": 35,
      "outputs": [
        {
          "output_type": "stream",
          "name": "stdout",
          "text": [
            "6.743\n"
          ]
        }
      ]
    },
    {
      "cell_type": "markdown",
      "source": [
        "### 17. Qual foi o faturamento do 1º trimestre de 2021?"
      ],
      "metadata": {
        "id": "A7-r2CXXrU-u"
      }
    },
    {
      "cell_type": "markdown",
      "source": [
        "#### Gabarito"
      ],
      "metadata": {
        "id": "oxlYJhwlloCz"
      }
    },
    {
      "cell_type": "code",
      "source": [
        "df['sub-total'] = df['price'] * df['quantity']"
      ],
      "metadata": {
        "id": "kWlpJTjLmL8J"
      },
      "execution_count": 36,
      "outputs": []
    },
    {
      "cell_type": "code",
      "source": [
        "fat = f'R${df.loc[df[\"date\"].dt.month < 4][\"sub-total\"].sum():_.2f}'\n",
        "print(f'{fat.translate(fat.maketrans({\"_\": \".\", \".\": \",\"}))}')"
      ],
      "metadata": {
        "colab": {
          "base_uri": "https://localhost:8080/"
        },
        "id": "yd7ycpyElpds",
        "outputId": "f83612d0-2a52-4d41-b97e-103d8576c543"
      },
      "execution_count": 37,
      "outputs": [
        {
          "output_type": "stream",
          "name": "stdout",
          "text": [
            "R$4.193.529,08\n"
          ]
        }
      ]
    },
    {
      "cell_type": "markdown",
      "source": [
        "### 18. Quantas garrafas de tinto foram vendidas no inverno de 2021?"
      ],
      "metadata": {
        "id": "l-bS3UO_riNE"
      }
    },
    {
      "cell_type": "markdown",
      "source": [
        "__VALE LEMBRAR__ : Inverno de 21 de junho à 20 setembro"
      ],
      "metadata": {
        "id": "3iN2aL9crsrT"
      }
    },
    {
      "cell_type": "markdown",
      "source": [
        "#### Gabarito"
      ],
      "metadata": {
        "id": "6rkkP3Gpm84Z"
      }
    },
    {
      "cell_type": "code",
      "source": [
        "df['date'] = df['date'].astype(str)\n",
        "tn_inv = f'{df.loc[((df[\"date\"] >= \"2021-06-21\") & (df[\"date\"] <= \"2021-09-20\")) & (df[\"style\"] == \"Red\")][\"quantity\"].sum():_}'\n",
        "print(tn_inv.translate(tn_inv.maketrans({'_':'.'})))"
      ],
      "metadata": {
        "colab": {
          "base_uri": "https://localhost:8080/"
        },
        "id": "u386vBfzm_H3",
        "outputId": "dbddb970-e327-48a4-a949-f602d10dc805"
      },
      "execution_count": 40,
      "outputs": [
        {
          "output_type": "stream",
          "name": "stdout",
          "text": [
            "3.371\n"
          ]
        }
      ]
    },
    {
      "cell_type": "markdown",
      "source": [
        "### 19. Quais os 3 meses de maior faturamento?"
      ],
      "metadata": {
        "id": "b3YaG71Lrywm"
      }
    },
    {
      "cell_type": "markdown",
      "source": [
        "#### Gabarito"
      ],
      "metadata": {
        "id": "a6WO2I5dpEhU"
      }
    },
    {
      "cell_type": "code",
      "source": [
        "df['date'] = pd.to_datetime(df['date'])\n",
        "fat_mes = df.groupby(df['date'].dt.month)['sub-total'].sum().sort_values(ascending=False)[:3]\n",
        "fat_mes = fat_mes.map(lambda valor: f'R${valor:_.2f}')\n",
        "fat_mes = fat_mes.map(lambda montante: montante.translate(montante.maketrans({'_':'.', '.': ','})))\n",
        "fat_mes"
      ],
      "metadata": {
        "colab": {
          "base_uri": "https://localhost:8080/"
        },
        "id": "S8tVIPMcpF7Q",
        "outputId": "d39f1118-4c44-4a83-dac2-2f6767e71599"
      },
      "execution_count": 51,
      "outputs": [
        {
          "output_type": "execute_result",
          "data": {
            "text/plain": [
              "date\n",
              "1     R$1.497.801,76\n",
              "10    R$1.491.124,46\n",
              "4     R$1.472.231,33\n",
              "Name: sub-total, dtype: object"
            ]
          },
          "metadata": {},
          "execution_count": 51
        }
      ]
    },
    {
      "cell_type": "markdown",
      "source": [
        "### 20. Qual o ticket médio por mês?"
      ],
      "metadata": {
        "id": "mg113G20r4gV"
      }
    },
    {
      "cell_type": "markdown",
      "source": [
        "##### Média do faturamento por mês"
      ],
      "metadata": {
        "id": "i3L86YfQ_UB4"
      }
    },
    {
      "cell_type": "markdown",
      "source": [
        "#### Gabarito"
      ],
      "metadata": {
        "id": "KQLN-t8xqM71"
      }
    },
    {
      "cell_type": "markdown",
      "source": [
        "##### Ticket médio por garrafa"
      ],
      "metadata": {
        "id": "pfhq9ckI_KCM"
      }
    },
    {
      "cell_type": "code",
      "source": [
        "ticket_medio = df.groupby(df['date'].dt.month)['sub-total'].mean().sort_values(ascending=False)\n",
        "\n",
        "ticket_medio = ticket_medio.sort_values(ascending=False)\n",
        "ticket_medio.index.name = 'Mês'\n",
        "\n",
        "ticket_medio = ticket_medio.map(lambda tm: f'R${tm:_.2f}')\n",
        "ticket_medio.map(lambda tm: tm.translate(tm.maketrans({'_':'.', '.': ','}))).to_frame(name='Ticket Médio')"
      ],
      "metadata": {
        "colab": {
          "base_uri": "https://localhost:8080/",
          "height": 457
        },
        "id": "rwSR6pmjqOfi",
        "outputId": "f533ee3e-fc80-45fd-f6a1-8e92a2903727"
      },
      "execution_count": 59,
      "outputs": [
        {
          "output_type": "execute_result",
          "data": {
            "text/plain": [
              "    Ticket Médio\n",
              "Mês             \n",
              "4     R$1.828,86\n",
              "1     R$1.757,98\n",
              "8     R$1.750,87\n",
              "9     R$1.726,22\n",
              "10    R$1.715,91\n",
              "11    R$1.715,08\n",
              "6     R$1.680,82\n",
              "12    R$1.662,06\n",
              "3     R$1.648,53\n",
              "5     R$1.643,97\n",
              "7     R$1.635,53\n",
              "2     R$1.629,98"
            ],
            "text/html": [
              "\n",
              "  <div id=\"df-bf98204f-d49f-4523-bafe-b2ebd3cf68d2\">\n",
              "    <div class=\"colab-df-container\">\n",
              "      <div>\n",
              "<style scoped>\n",
              "    .dataframe tbody tr th:only-of-type {\n",
              "        vertical-align: middle;\n",
              "    }\n",
              "\n",
              "    .dataframe tbody tr th {\n",
              "        vertical-align: top;\n",
              "    }\n",
              "\n",
              "    .dataframe thead th {\n",
              "        text-align: right;\n",
              "    }\n",
              "</style>\n",
              "<table border=\"1\" class=\"dataframe\">\n",
              "  <thead>\n",
              "    <tr style=\"text-align: right;\">\n",
              "      <th></th>\n",
              "      <th>Ticket Médio</th>\n",
              "    </tr>\n",
              "    <tr>\n",
              "      <th>Mês</th>\n",
              "      <th></th>\n",
              "    </tr>\n",
              "  </thead>\n",
              "  <tbody>\n",
              "    <tr>\n",
              "      <th>4</th>\n",
              "      <td>R$1.828,86</td>\n",
              "    </tr>\n",
              "    <tr>\n",
              "      <th>1</th>\n",
              "      <td>R$1.757,98</td>\n",
              "    </tr>\n",
              "    <tr>\n",
              "      <th>8</th>\n",
              "      <td>R$1.750,87</td>\n",
              "    </tr>\n",
              "    <tr>\n",
              "      <th>9</th>\n",
              "      <td>R$1.726,22</td>\n",
              "    </tr>\n",
              "    <tr>\n",
              "      <th>10</th>\n",
              "      <td>R$1.715,91</td>\n",
              "    </tr>\n",
              "    <tr>\n",
              "      <th>11</th>\n",
              "      <td>R$1.715,08</td>\n",
              "    </tr>\n",
              "    <tr>\n",
              "      <th>6</th>\n",
              "      <td>R$1.680,82</td>\n",
              "    </tr>\n",
              "    <tr>\n",
              "      <th>12</th>\n",
              "      <td>R$1.662,06</td>\n",
              "    </tr>\n",
              "    <tr>\n",
              "      <th>3</th>\n",
              "      <td>R$1.648,53</td>\n",
              "    </tr>\n",
              "    <tr>\n",
              "      <th>5</th>\n",
              "      <td>R$1.643,97</td>\n",
              "    </tr>\n",
              "    <tr>\n",
              "      <th>7</th>\n",
              "      <td>R$1.635,53</td>\n",
              "    </tr>\n",
              "    <tr>\n",
              "      <th>2</th>\n",
              "      <td>R$1.629,98</td>\n",
              "    </tr>\n",
              "  </tbody>\n",
              "</table>\n",
              "</div>\n",
              "      <button class=\"colab-df-convert\" onclick=\"convertToInteractive('df-bf98204f-d49f-4523-bafe-b2ebd3cf68d2')\"\n",
              "              title=\"Convert this dataframe to an interactive table.\"\n",
              "              style=\"display:none;\">\n",
              "        \n",
              "  <svg xmlns=\"http://www.w3.org/2000/svg\" height=\"24px\"viewBox=\"0 0 24 24\"\n",
              "       width=\"24px\">\n",
              "    <path d=\"M0 0h24v24H0V0z\" fill=\"none\"/>\n",
              "    <path d=\"M18.56 5.44l.94 2.06.94-2.06 2.06-.94-2.06-.94-.94-2.06-.94 2.06-2.06.94zm-11 1L8.5 8.5l.94-2.06 2.06-.94-2.06-.94L8.5 2.5l-.94 2.06-2.06.94zm10 10l.94 2.06.94-2.06 2.06-.94-2.06-.94-.94-2.06-.94 2.06-2.06.94z\"/><path d=\"M17.41 7.96l-1.37-1.37c-.4-.4-.92-.59-1.43-.59-.52 0-1.04.2-1.43.59L10.3 9.45l-7.72 7.72c-.78.78-.78 2.05 0 2.83L4 21.41c.39.39.9.59 1.41.59.51 0 1.02-.2 1.41-.59l7.78-7.78 2.81-2.81c.8-.78.8-2.07 0-2.86zM5.41 20L4 18.59l7.72-7.72 1.47 1.35L5.41 20z\"/>\n",
              "  </svg>\n",
              "      </button>\n",
              "      \n",
              "  <style>\n",
              "    .colab-df-container {\n",
              "      display:flex;\n",
              "      flex-wrap:wrap;\n",
              "      gap: 12px;\n",
              "    }\n",
              "\n",
              "    .colab-df-convert {\n",
              "      background-color: #E8F0FE;\n",
              "      border: none;\n",
              "      border-radius: 50%;\n",
              "      cursor: pointer;\n",
              "      display: none;\n",
              "      fill: #1967D2;\n",
              "      height: 32px;\n",
              "      padding: 0 0 0 0;\n",
              "      width: 32px;\n",
              "    }\n",
              "\n",
              "    .colab-df-convert:hover {\n",
              "      background-color: #E2EBFA;\n",
              "      box-shadow: 0px 1px 2px rgba(60, 64, 67, 0.3), 0px 1px 3px 1px rgba(60, 64, 67, 0.15);\n",
              "      fill: #174EA6;\n",
              "    }\n",
              "\n",
              "    [theme=dark] .colab-df-convert {\n",
              "      background-color: #3B4455;\n",
              "      fill: #D2E3FC;\n",
              "    }\n",
              "\n",
              "    [theme=dark] .colab-df-convert:hover {\n",
              "      background-color: #434B5C;\n",
              "      box-shadow: 0px 1px 3px 1px rgba(0, 0, 0, 0.15);\n",
              "      filter: drop-shadow(0px 1px 2px rgba(0, 0, 0, 0.3));\n",
              "      fill: #FFFFFF;\n",
              "    }\n",
              "  </style>\n",
              "\n",
              "      <script>\n",
              "        const buttonEl =\n",
              "          document.querySelector('#df-bf98204f-d49f-4523-bafe-b2ebd3cf68d2 button.colab-df-convert');\n",
              "        buttonEl.style.display =\n",
              "          google.colab.kernel.accessAllowed ? 'block' : 'none';\n",
              "\n",
              "        async function convertToInteractive(key) {\n",
              "          const element = document.querySelector('#df-bf98204f-d49f-4523-bafe-b2ebd3cf68d2');\n",
              "          const dataTable =\n",
              "            await google.colab.kernel.invokeFunction('convertToInteractive',\n",
              "                                                     [key], {});\n",
              "          if (!dataTable) return;\n",
              "\n",
              "          const docLinkHtml = 'Like what you see? Visit the ' +\n",
              "            '<a target=\"_blank\" href=https://colab.research.google.com/notebooks/data_table.ipynb>data table notebook</a>'\n",
              "            + ' to learn more about interactive tables.';\n",
              "          element.innerHTML = '';\n",
              "          dataTable['output_type'] = 'display_data';\n",
              "          await google.colab.output.renderOutput(dataTable, element);\n",
              "          const docLink = document.createElement('div');\n",
              "          docLink.innerHTML = docLinkHtml;\n",
              "          element.appendChild(docLink);\n",
              "        }\n",
              "      </script>\n",
              "    </div>\n",
              "  </div>\n",
              "  "
            ]
          },
          "metadata": {},
          "execution_count": 59
        }
      ]
    }
  ]
}