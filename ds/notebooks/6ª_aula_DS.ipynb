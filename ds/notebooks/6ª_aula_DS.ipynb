{
  "nbformat": 4,
  "nbformat_minor": 0,
  "metadata": {
    "colab": {
      "name": "6ª aula - DS.ipynb",
      "provenance": []
    },
    "kernelspec": {
      "name": "python3",
      "display_name": "Python 3"
    },
    "language_info": {
      "name": "python"
    }
  },
  "cells": [
    {
      "cell_type": "markdown",
      "source": [
        "# Respondendo as questões do CEO"
      ],
      "metadata": {
        "id": "eVlKGTQBmpJh"
      }
    },
    {
      "cell_type": "markdown",
      "source": [
        "Nosso CEO deseja saber algumas informações sobre o faturamento de vinhos. A equipe de vendas nos forneceu um dataset com alguns dados e precisamos extrair algumas informações para respondermos as questões"
      ],
      "metadata": {
        "id": "URfOfwkgncX6"
      }
    },
    {
      "cell_type": "markdown",
      "source": [
        "## Carregando o dataset"
      ],
      "metadata": {
        "id": "OP-nai8noJqC"
      }
    },
    {
      "cell_type": "code",
      "source": [
        "import pandas as pd"
      ],
      "metadata": {
        "id": "VbB_AUrRoRSL"
      },
      "execution_count": null,
      "outputs": []
    },
    {
      "cell_type": "code",
      "source": [
        "dataset = r'https://raw.githubusercontent.com/rafaelpuyau/infinity_school/main/ds/datasets/wines.csv'\n",
        "df = pd.read_csv(dataset)"
      ],
      "metadata": {
        "id": "qLGKqTm5oUBg"
      },
      "execution_count": null,
      "outputs": []
    },
    {
      "cell_type": "code",
      "source": [
        "df.sample(5)"
      ],
      "metadata": {
        "colab": {
          "base_uri": "https://localhost:8080/",
          "height": 337
        },
        "id": "0mhRzJYwopT2",
        "outputId": "e7edcb9f-9952-4839-a48a-ec0ab5a42ada"
      },
      "execution_count": null,
      "outputs": [
        {
          "output_type": "execute_result",
          "data": {
            "text/plain": [
              "            date   label  vintage      style   country   price  quantity  rate\n",
              "4463  2021-04-01  Wine H     1982        Red  Portugal  131.80        14    89\n",
              "8943  2021-11-03  Wine R     1990  Sparkling     Spain  471.44         1    87\n",
              "2655  2021-07-24  Wine Z     2015     Orange     Spain  295.39        11    92\n",
              "7293  2021-05-09  Wine T     1984       Rose    Brazil  497.86         9    89\n",
              "6838  2021-04-28  Wine P     2018  Sparkling   Germany  335.20         2    80"
            ],
            "text/html": [
              "\n",
              "  <div id=\"df-a968bb95-58e4-4dfa-ad3d-c2e2875e1196\">\n",
              "    <div class=\"colab-df-container\">\n",
              "      <div>\n",
              "<style scoped>\n",
              "    .dataframe tbody tr th:only-of-type {\n",
              "        vertical-align: middle;\n",
              "    }\n",
              "\n",
              "    .dataframe tbody tr th {\n",
              "        vertical-align: top;\n",
              "    }\n",
              "\n",
              "    .dataframe thead th {\n",
              "        text-align: right;\n",
              "    }\n",
              "</style>\n",
              "<table border=\"1\" class=\"dataframe\">\n",
              "  <thead>\n",
              "    <tr style=\"text-align: right;\">\n",
              "      <th></th>\n",
              "      <th>date</th>\n",
              "      <th>label</th>\n",
              "      <th>vintage</th>\n",
              "      <th>style</th>\n",
              "      <th>country</th>\n",
              "      <th>price</th>\n",
              "      <th>quantity</th>\n",
              "      <th>rate</th>\n",
              "    </tr>\n",
              "  </thead>\n",
              "  <tbody>\n",
              "    <tr>\n",
              "      <th>4463</th>\n",
              "      <td>2021-04-01</td>\n",
              "      <td>Wine H</td>\n",
              "      <td>1982</td>\n",
              "      <td>Red</td>\n",
              "      <td>Portugal</td>\n",
              "      <td>131.80</td>\n",
              "      <td>14</td>\n",
              "      <td>89</td>\n",
              "    </tr>\n",
              "    <tr>\n",
              "      <th>8943</th>\n",
              "      <td>2021-11-03</td>\n",
              "      <td>Wine R</td>\n",
              "      <td>1990</td>\n",
              "      <td>Sparkling</td>\n",
              "      <td>Spain</td>\n",
              "      <td>471.44</td>\n",
              "      <td>1</td>\n",
              "      <td>87</td>\n",
              "    </tr>\n",
              "    <tr>\n",
              "      <th>2655</th>\n",
              "      <td>2021-07-24</td>\n",
              "      <td>Wine Z</td>\n",
              "      <td>2015</td>\n",
              "      <td>Orange</td>\n",
              "      <td>Spain</td>\n",
              "      <td>295.39</td>\n",
              "      <td>11</td>\n",
              "      <td>92</td>\n",
              "    </tr>\n",
              "    <tr>\n",
              "      <th>7293</th>\n",
              "      <td>2021-05-09</td>\n",
              "      <td>Wine T</td>\n",
              "      <td>1984</td>\n",
              "      <td>Rose</td>\n",
              "      <td>Brazil</td>\n",
              "      <td>497.86</td>\n",
              "      <td>9</td>\n",
              "      <td>89</td>\n",
              "    </tr>\n",
              "    <tr>\n",
              "      <th>6838</th>\n",
              "      <td>2021-04-28</td>\n",
              "      <td>Wine P</td>\n",
              "      <td>2018</td>\n",
              "      <td>Sparkling</td>\n",
              "      <td>Germany</td>\n",
              "      <td>335.20</td>\n",
              "      <td>2</td>\n",
              "      <td>80</td>\n",
              "    </tr>\n",
              "  </tbody>\n",
              "</table>\n",
              "</div>\n",
              "      <button class=\"colab-df-convert\" onclick=\"convertToInteractive('df-a968bb95-58e4-4dfa-ad3d-c2e2875e1196')\"\n",
              "              title=\"Convert this dataframe to an interactive table.\"\n",
              "              style=\"display:none;\">\n",
              "        \n",
              "  <svg xmlns=\"http://www.w3.org/2000/svg\" height=\"24px\"viewBox=\"0 0 24 24\"\n",
              "       width=\"24px\">\n",
              "    <path d=\"M0 0h24v24H0V0z\" fill=\"none\"/>\n",
              "    <path d=\"M18.56 5.44l.94 2.06.94-2.06 2.06-.94-2.06-.94-.94-2.06-.94 2.06-2.06.94zm-11 1L8.5 8.5l.94-2.06 2.06-.94-2.06-.94L8.5 2.5l-.94 2.06-2.06.94zm10 10l.94 2.06.94-2.06 2.06-.94-2.06-.94-.94-2.06-.94 2.06-2.06.94z\"/><path d=\"M17.41 7.96l-1.37-1.37c-.4-.4-.92-.59-1.43-.59-.52 0-1.04.2-1.43.59L10.3 9.45l-7.72 7.72c-.78.78-.78 2.05 0 2.83L4 21.41c.39.39.9.59 1.41.59.51 0 1.02-.2 1.41-.59l7.78-7.78 2.81-2.81c.8-.78.8-2.07 0-2.86zM5.41 20L4 18.59l7.72-7.72 1.47 1.35L5.41 20z\"/>\n",
              "  </svg>\n",
              "      </button>\n",
              "      \n",
              "  <style>\n",
              "    .colab-df-container {\n",
              "      display:flex;\n",
              "      flex-wrap:wrap;\n",
              "      gap: 12px;\n",
              "    }\n",
              "\n",
              "    .colab-df-convert {\n",
              "      background-color: #E8F0FE;\n",
              "      border: none;\n",
              "      border-radius: 50%;\n",
              "      cursor: pointer;\n",
              "      display: none;\n",
              "      fill: #1967D2;\n",
              "      height: 32px;\n",
              "      padding: 0 0 0 0;\n",
              "      width: 32px;\n",
              "    }\n",
              "\n",
              "    .colab-df-convert:hover {\n",
              "      background-color: #E2EBFA;\n",
              "      box-shadow: 0px 1px 2px rgba(60, 64, 67, 0.3), 0px 1px 3px 1px rgba(60, 64, 67, 0.15);\n",
              "      fill: #174EA6;\n",
              "    }\n",
              "\n",
              "    [theme=dark] .colab-df-convert {\n",
              "      background-color: #3B4455;\n",
              "      fill: #D2E3FC;\n",
              "    }\n",
              "\n",
              "    [theme=dark] .colab-df-convert:hover {\n",
              "      background-color: #434B5C;\n",
              "      box-shadow: 0px 1px 3px 1px rgba(0, 0, 0, 0.15);\n",
              "      filter: drop-shadow(0px 1px 2px rgba(0, 0, 0, 0.3));\n",
              "      fill: #FFFFFF;\n",
              "    }\n",
              "  </style>\n",
              "\n",
              "      <script>\n",
              "        const buttonEl =\n",
              "          document.querySelector('#df-a968bb95-58e4-4dfa-ad3d-c2e2875e1196 button.colab-df-convert');\n",
              "        buttonEl.style.display =\n",
              "          google.colab.kernel.accessAllowed ? 'block' : 'none';\n",
              "\n",
              "        async function convertToInteractive(key) {\n",
              "          const element = document.querySelector('#df-a968bb95-58e4-4dfa-ad3d-c2e2875e1196');\n",
              "          const dataTable =\n",
              "            await google.colab.kernel.invokeFunction('convertToInteractive',\n",
              "                                                     [key], {});\n",
              "          if (!dataTable) return;\n",
              "\n",
              "          const docLinkHtml = 'Like what you see? Visit the ' +\n",
              "            '<a target=\"_blank\" href=https://colab.research.google.com/notebooks/data_table.ipynb>data table notebook</a>'\n",
              "            + ' to learn more about interactive tables.';\n",
              "          element.innerHTML = '';\n",
              "          dataTable['output_type'] = 'display_data';\n",
              "          await google.colab.output.renderOutput(dataTable, element);\n",
              "          const docLink = document.createElement('div');\n",
              "          docLink.innerHTML = docLinkHtml;\n",
              "          element.appendChild(docLink);\n",
              "        }\n",
              "      </script>\n",
              "    </div>\n",
              "  </div>\n",
              "  "
            ]
          },
          "metadata": {},
          "execution_count": 4
        }
      ]
    },
    {
      "cell_type": "markdown",
      "source": [
        "## Perguntas do CEO"
      ],
      "metadata": {
        "id": "w19DhxV2oxHd"
      }
    },
    {
      "cell_type": "markdown",
      "source": [
        "### 1. Quanto custa o vinho mais caro?"
      ],
      "metadata": {
        "id": "uhAP6z1doze0"
      }
    },
    {
      "cell_type": "markdown",
      "source": [
        "### 2. Quanto custa o vinho mais barato?"
      ],
      "metadata": {
        "id": "77LGdGxGpjb_"
      }
    },
    {
      "cell_type": "markdown",
      "source": [
        "### 3. Qual o vinho mais caro?"
      ],
      "metadata": {
        "id": "H0Q1_sdspnLW"
      }
    },
    {
      "cell_type": "markdown",
      "source": [
        "### 4. Qual o vinho mais barato?"
      ],
      "metadata": {
        "id": "oEyZJS0gpv93"
      }
    },
    {
      "cell_type": "markdown",
      "source": [
        "### 5. Quanto foi vendido em 2021?"
      ],
      "metadata": {
        "id": "oWOTgL9Xp_dV"
      }
    },
    {
      "cell_type": "markdown",
      "source": [
        "### 6. Quantas garrafas no total?"
      ],
      "metadata": {
        "id": "e-4EIEA7qC-h"
      }
    },
    {
      "cell_type": "markdown",
      "source": [
        "### 7. Qual vinho teve a maior nota?"
      ],
      "metadata": {
        "id": "2K8q9KnMqKUa"
      }
    },
    {
      "cell_type": "markdown",
      "source": [
        "### 8. Qual vinho teve a menor nota?"
      ],
      "metadata": {
        "id": "cFH7nJvaqOOI"
      }
    },
    {
      "cell_type": "markdown",
      "source": [
        "### 9. Qual a safra mais antiga?"
      ],
      "metadata": {
        "id": "fKLHjpfwqRRS"
      }
    },
    {
      "cell_type": "markdown",
      "source": [
        "### 10. Qual a safra mais recente?"
      ],
      "metadata": {
        "id": "Y837UBv8qVR7"
      }
    },
    {
      "cell_type": "markdown",
      "source": [
        "### 11. Qual país teve mais garrafa vendida?"
      ],
      "metadata": {
        "id": "5XicB-MuqY66"
      }
    },
    {
      "cell_type": "markdown",
      "source": [
        "### 12. Qual país teve menos menos garrafa vendida?"
      ],
      "metadata": {
        "id": "RUq7osguqgxm"
      }
    },
    {
      "cell_type": "markdown",
      "source": [
        "### 13. Quantos vinhos abaixo de R$100,00 foram vendidos?"
      ],
      "metadata": {
        "id": "_J2VHz1BqmjW"
      }
    },
    {
      "cell_type": "markdown",
      "source": [
        "### 14. Quantos vinhos acima de R$100,00 foram vendidos?"
      ],
      "metadata": {
        "id": "n9798Bocq5A7"
      }
    },
    {
      "cell_type": "markdown",
      "source": [
        "### 15. Quantas garrafas de espumantes foram vendidadas no mês de Dezembro?"
      ],
      "metadata": {
        "id": "bN-YBMyAq_7n"
      }
    },
    {
      "cell_type": "markdown",
      "source": [
        "### 16. Quantos vinhos brancos e rosés foram vendidos nos meses de Janeiro à Março?"
      ],
      "metadata": {
        "id": "vjnN6bTFrKNE"
      }
    },
    {
      "cell_type": "markdown",
      "source": [
        "### 17. Qual foi o faturamento do 1º trimestre de 2021?"
      ],
      "metadata": {
        "id": "A7-r2CXXrU-u"
      }
    },
    {
      "cell_type": "markdown",
      "source": [
        "### 18. Quantas garrafas de tinto foram vendidas no inverno de 2021?"
      ],
      "metadata": {
        "id": "l-bS3UO_riNE"
      }
    },
    {
      "cell_type": "markdown",
      "source": [
        "__VALE LEMBRAR__ : Inverno de 21 de junho à 20 setembro"
      ],
      "metadata": {
        "id": "3iN2aL9crsrT"
      }
    },
    {
      "cell_type": "markdown",
      "source": [
        "### 19. Quais os 3 meses de maior faturamento?"
      ],
      "metadata": {
        "id": "b3YaG71Lrywm"
      }
    },
    {
      "cell_type": "markdown",
      "source": [
        "### 20. Qual o ticket médio por mês?"
      ],
      "metadata": {
        "id": "mg113G20r4gV"
      }
    }
  ]
}