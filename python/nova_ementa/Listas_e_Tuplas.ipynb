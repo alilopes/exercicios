{
  "nbformat": 4,
  "nbformat_minor": 0,
  "metadata": {
    "colab": {
      "name": "Listas e Tuplas.ipynb",
      "provenance": []
    },
    "kernelspec": {
      "name": "python3",
      "display_name": "Python 3"
    },
    "language_info": {
      "name": "python"
    }
  },
  "cells": [
    {
      "cell_type": "markdown",
      "source": [
        "# Sequências em Python"
      ],
      "metadata": {
        "id": "tratEB8MdbrW"
      }
    },
    {
      "cell_type": "markdown",
      "source": [
        "Existem três tipos básicos de sequência na linguagem Python que são: `listas`, `tuplas` e `objetos range`.\n",
        "\n",
        "Já vimos como o `objeto range` funciona. Caso não se lembre, você sabe o que fazer.\n",
        "\n",
        "1. Acesse o _python shell_\n",
        "2. Digite o comando `help(range)`\n",
        "3. A descrição da função será exibida no terminal\n"
      ],
      "metadata": {
        "id": "_UfkQUkieLDv"
      }
    },
    {
      "cell_type": "markdown",
      "source": [
        "## Operações comuns de sequências"
      ],
      "metadata": {
        "id": "DywOKQy7dPkA"
      }
    },
    {
      "cell_type": "markdown",
      "source": [
        "\n",
        "\n",
        "*   __in__ ( `elemento in sequencia` ) : _True_ caso o elemento esteja na sequência, caso contrário receberá _False_\n",
        "\n",
        "* __not in__ ( `elemento not in sequencia` ) : _False_ caso o elemento não esteja na sequência, caso contrário _True_\n",
        "\n",
        "* __+__ ( `seq1 + seq2` ): concatenação de seq1 e seq2\n",
        "\n",
        "* __*__ ( `seq1 * n` ) : equivale a adicionar seq1 a si mesmo n vezes\n",
        "\n",
        "* __[ ]__ ( `seq1[n]` ) : representa o _enésimo_ elemento de seq1\n",
        "\n",
        "__OBS__ : Sequências e iteráveis em Python tem a indexação iniciada por 0\n",
        "\n",
        "* __[ : ]__ ( `seq1[n:m]` ) : _slicing_ ou _fatiamento_. Fatia a sequência de n até m, mas sem incluir o valor de m\n",
        "\n",
        "* __[ : : ]__ ( `seq1[n:m:p]` ) : fatia a sequência de n até m sem incluir m, mas com passo p\n",
        "\n",
        "* __len__ ( `len(seq1)` ) : retorna o tamanho da sequência\n",
        "\n",
        "* __min__ ( `min(seq1)` ) : retorna o menor valor da sequência\n",
        "\n",
        "* __max__ ( `max(seq1)` ) : retorna o maior valor da sequência\n",
        "\n",
        "* __sum__ ( `sum(seq1)` ) : retorna a soma dos elementos da sequência quando o tipo de dado for inteiro ou ponto flutuante\n",
        "\n",
        "* __index__ ( `seq1.index(elemento)` ) : retorna o índice da primeira ocorrência de elemento na sequência\n",
        "\n",
        "* __count__ ( `seq1.count(elemento)` ) : retorna o número total de ocorrências de elemento na sequência"
      ],
      "metadata": {
        "id": "sfL9JUjntdaY"
      }
    },
    {
      "cell_type": "markdown",
      "source": [
        "Sequências do mesmo tipo também suportam comparações.\n",
        "\n",
        "Tuplas e Listas são comparadas lexicograficamente pela comparação de elementos correspondentes.\n",
        "\n",
        "Isto significa que para que a comparação ocorra com sucesso, cada elemento é comparado entre si, e as duas sequências devem ser do mesmo tipo e, também, possuírem o mesmo tamanho"
      ],
      "metadata": {
        "id": "ddy53joAy5iX"
      }
    },
    {
      "cell_type": "markdown",
      "source": [
        "__VALE LEMBRAR #1__ : concatenar sequências imutáveis sempre resultará em um novo objeto. Veremos isso quando falarmos de sequências imutáveis _tuplas_\n",
        "\n",
        "__VALE LEMBRAR #2__ : sequências do tipo _range_ suportam __apenas__ sequências de itens que seguem padrões específicos e, portanto, não suportam concatenação ou repetição de sequência"
      ],
      "metadata": {
        "id": "XyYSZ80F08R5"
      }
    },
    {
      "cell_type": "markdown",
      "source": [
        "## Operações em sequências mutáveis"
      ],
      "metadata": {
        "id": "694Pmsfj2QpW"
      }
    },
    {
      "cell_type": "markdown",
      "source": [
        "* `seq1[n] = valor` : o elemento n da sequência é substituído por valor\n",
        "\n",
        "* `seq1[n:m] = seq2` : esta fatia da sequência será substituída pelo conteúdo da sequência 2 ou do iterável\n",
        "\n",
        "* `del seq1[n:m]` ou `seq1[n:m] = []` : remove da sequência os valores contidos neste fatiamento ou _slicing_\n",
        "\n",
        "* `seq1[n:m:p] = seq2` : os elementos desta fatia serão substituídos pelos elementos pelos elementos da sequência 2 ou do iterável 2\n",
        "\n",
        "* `del seq1[n:m:p]` : remove da sequência os elementos dos índices especificados ao passo p\n",
        "\n",
        "__OBS__ : seq2 deve ter o mesmo tamanho que a fatia ou _slice_ a qual ele substituirá"
      ],
      "metadata": {
        "id": "hOR1apBC2WYn"
      }
    },
    {
      "cell_type": "markdown",
      "source": [
        "## Listas"
      ],
      "metadata": {
        "id": "cwRnT5fYB10L"
      }
    },
    {
      "cell_type": "markdown",
      "source": [
        "São sequências mutáveis, normalmente usadas para armazenar coleções de itens homogêneos.\n",
        "\n",
        "As listas podem ser declaradas e inicializadas de várias maneiras como:\n",
        "\n",
        "* usando apenas um par de colchetes para criarmos uma lista vazia : `minha_lista = [ ]`\n",
        "\n",
        "* usando colchetes e separando os elementos por vírgulas : `minha_lista = [1, 2, 3]`\n",
        "\n",
        "* usando _list comprehension_ : `[num for num in iterável]`\n",
        "\n",
        "* usando o construtor : `list()` ou `list(iterável)`"
      ],
      "metadata": {
        "id": "cl_mNi6eB311"
      }
    },
    {
      "cell_type": "markdown",
      "source": [
        "Usando apenas um par de colchetes"
      ],
      "metadata": {
        "id": "ARDmJfZPGc3b"
      }
    },
    {
      "cell_type": "code",
      "source": [
        "minha_lista = []\n",
        "minha_lista"
      ],
      "metadata": {
        "colab": {
          "base_uri": "https://localhost:8080/"
        },
        "id": "gvt2oa2wGovR",
        "outputId": "9e52e4ef-8287-4e3a-cb29-3514c8003b9c"
      },
      "execution_count": null,
      "outputs": [
        {
          "output_type": "execute_result",
          "data": {
            "text/plain": [
              "[]"
            ]
          },
          "metadata": {},
          "execution_count": 1
        }
      ]
    },
    {
      "cell_type": "markdown",
      "source": [
        "Usando colchetes e separando os elementos por vírgula"
      ],
      "metadata": {
        "id": "tg6A7M4gGt4T"
      }
    },
    {
      "cell_type": "code",
      "source": [
        "minha_lista = [1, 2, 3]\n",
        "minha_lista"
      ],
      "metadata": {
        "colab": {
          "base_uri": "https://localhost:8080/"
        },
        "id": "dSV-kYGtGzX7",
        "outputId": "4eacc37a-310e-40f2-d59b-7535ed4a35b7"
      },
      "execution_count": null,
      "outputs": [
        {
          "output_type": "execute_result",
          "data": {
            "text/plain": [
              "[1, 2, 3]"
            ]
          },
          "metadata": {},
          "execution_count": 2
        }
      ]
    },
    {
      "cell_type": "markdown",
      "source": [
        "Usando _list comprehension_"
      ],
      "metadata": {
        "id": "4uf85jLsG5VQ"
      }
    },
    {
      "cell_type": "code",
      "source": [
        "minha_lista = [ num for num in range(1, 4)]\n",
        "minha_lista"
      ],
      "metadata": {
        "colab": {
          "base_uri": "https://localhost:8080/"
        },
        "id": "RLhDgwPOG8a2",
        "outputId": "f1f83ef9-3152-4976-8cb8-2c43ad0be728"
      },
      "execution_count": null,
      "outputs": [
        {
          "output_type": "execute_result",
          "data": {
            "text/plain": [
              "[1, 2, 3]"
            ]
          },
          "metadata": {},
          "execution_count": 3
        }
      ]
    },
    {
      "cell_type": "markdown",
      "source": [
        "Entendendo um pouco mais sobre _list comprehension_. \n",
        "O código acima é equivalente se tivéssemos utilizado um __FOR__ em conjunto com o método _append_"
      ],
      "metadata": {
        "id": "HiP11SJLHMoj"
      }
    },
    {
      "cell_type": "code",
      "source": [
        "minha_lista = []\n",
        "\n",
        "for num in range(1, 4):\n",
        "  minha_lista.append(num)\n",
        "\n",
        "minha_lista"
      ],
      "metadata": {
        "colab": {
          "base_uri": "https://localhost:8080/"
        },
        "id": "ZYY4ICIqHQkD",
        "outputId": "daf90116-0f83-4f75-8708-f6ba7587330d"
      },
      "execution_count": null,
      "outputs": [
        {
          "output_type": "execute_result",
          "data": {
            "text/plain": [
              "[1, 2, 3]"
            ]
          },
          "metadata": {},
          "execution_count": 3
        }
      ]
    },
    {
      "cell_type": "markdown",
      "source": [
        "### Métodos de Listas"
      ],
      "metadata": {
        "id": "xzIcXhNO7jC6"
      }
    },
    {
      "cell_type": "markdown",
      "source": [
        "#### Append"
      ],
      "metadata": {
        "id": "ZJLJ5jK47pUD"
      }
    },
    {
      "cell_type": "markdown",
      "source": [
        "Adiciona um valor ao final da sequência\n",
        "\n",
        "__SINTAXE__\n",
        "\n",
        "`seq1.append(valor)`"
      ],
      "metadata": {
        "id": "ZoLoNoSD7uM-"
      }
    },
    {
      "cell_type": "code",
      "source": [
        "seq1 = [1, 2, 3]\n",
        "seq1.append([4, 5, 6])\n",
        "seq1"
      ],
      "metadata": {
        "colab": {
          "base_uri": "https://localhost:8080/"
        },
        "id": "zhWxZssB7x3Q",
        "outputId": "5cd428b8-9ab1-4824-c816-3c1e3aaf12e8"
      },
      "execution_count": null,
      "outputs": [
        {
          "output_type": "execute_result",
          "data": {
            "text/plain": [
              "[1, 2, 3, [4, 5, 6]]"
            ]
          },
          "metadata": {},
          "execution_count": 5
        }
      ]
    },
    {
      "cell_type": "markdown",
      "source": [
        "#### Clear"
      ],
      "metadata": {
        "id": "46QF9jHw8Zxo"
      }
    },
    {
      "cell_type": "markdown",
      "source": [
        "Remove todos os elementos da sequência\n",
        "\n",
        "__SINTAXE__\n",
        "\n",
        "`seq1.clear()`\n",
        "\n",
        "__OBS__ : comando equivalente a este `del seq1[:]`"
      ],
      "metadata": {
        "id": "i8fEfl_Q8cjZ"
      }
    },
    {
      "cell_type": "code",
      "source": [
        "seq1.clear()\n",
        "seq1"
      ],
      "metadata": {
        "colab": {
          "base_uri": "https://localhost:8080/"
        },
        "id": "KopWXoQK9EHp",
        "outputId": "767219de-4034-41a4-df5c-5af5aa7367d7"
      },
      "execution_count": null,
      "outputs": [
        {
          "output_type": "execute_result",
          "data": {
            "text/plain": [
              "[]"
            ]
          },
          "metadata": {},
          "execution_count": 6
        }
      ]
    },
    {
      "cell_type": "markdown",
      "source": [
        "#### Copy"
      ],
      "metadata": {
        "id": "ZCW1wnPK9MNg"
      }
    },
    {
      "cell_type": "markdown",
      "source": [
        "Cria uma cópia rasa - shallow copy - da sequência\n",
        "\n",
        "__SINTAXE__\n",
        "\n",
        "`seq1.copy()`\n",
        "\n",
        "__OBS__: comando equivalente a este `seq1[:]`"
      ],
      "metadata": {
        "id": "qvyD9f6h9O-S"
      }
    },
    {
      "cell_type": "code",
      "source": [
        "seq1 = ['a', 'b', 'c']\n",
        "seq2 = seq1.copy()\n",
        "print('seq1', seq1)\n",
        "print('seq2', seq2)"
      ],
      "metadata": {
        "colab": {
          "base_uri": "https://localhost:8080/"
        },
        "id": "g45s4rDk9wHy",
        "outputId": "438eb0c3-1a9b-4ea7-90b4-d3a4c200aae7"
      },
      "execution_count": null,
      "outputs": [
        {
          "output_type": "stream",
          "name": "stdout",
          "text": [
            "seq1 ['a', 'b', 'c']\n",
            "seq2 ['a', 'b', 'c']\n"
          ]
        }
      ]
    },
    {
      "cell_type": "markdown",
      "source": [
        "#### Extend"
      ],
      "metadata": {
        "id": "q1R3_qZi-BHW"
      }
    },
    {
      "cell_type": "markdown",
      "source": [
        "Estende a sequência com o conteúdo de uma nova sequência ou iterável\n",
        "\n",
        "__SINTAXE__\n",
        "\n",
        "`seq1.extend(iterável)`"
      ],
      "metadata": {
        "id": "Fv3nNLQC-Dl5"
      }
    },
    {
      "cell_type": "code",
      "source": [
        "seq1.extend(['d', 'e', 'f'])\n",
        "seq1"
      ],
      "metadata": {
        "colab": {
          "base_uri": "https://localhost:8080/"
        },
        "id": "QcBT7nPf-ZM3",
        "outputId": "d4c466c7-41c5-49cc-99b5-9eed65a995cf"
      },
      "execution_count": null,
      "outputs": [
        {
          "output_type": "execute_result",
          "data": {
            "text/plain": [
              "['a', 'b', 'c', 'd', 'e', 'f']"
            ]
          },
          "metadata": {},
          "execution_count": 8
        }
      ]
    },
    {
      "cell_type": "markdown",
      "source": [
        "#### Insert"
      ],
      "metadata": {
        "id": "FxqBP5YO-sDA"
      }
    },
    {
      "cell_type": "markdown",
      "source": [
        "Insere um elemento na sequência no índice especificado\n",
        "\n",
        "__SINTAXE__\n",
        "\n",
        "`seq1.insert(indice, valor)`"
      ],
      "metadata": {
        "id": "j9WeK2Wc-vlJ"
      }
    },
    {
      "cell_type": "code",
      "source": [
        "seq1.insert(0, 'w')\n",
        "seq1"
      ],
      "metadata": {
        "colab": {
          "base_uri": "https://localhost:8080/"
        },
        "id": "RCVKyKfU-_yN",
        "outputId": "0578b387-ca69-46d0-9913-e3b9b0db0e63"
      },
      "execution_count": null,
      "outputs": [
        {
          "output_type": "execute_result",
          "data": {
            "text/plain": [
              "['w', 'a', 'b', 'c', 'd', 'e', 'f']"
            ]
          },
          "metadata": {},
          "execution_count": 9
        }
      ]
    },
    {
      "cell_type": "markdown",
      "source": [
        "#### Pop"
      ],
      "metadata": {
        "id": "Cd0q142R_OYu"
      }
    },
    {
      "cell_type": "markdown",
      "source": [
        "Retorna e remove o item da sequência\n",
        "\n",
        "__SINTAXE__\n",
        "\n",
        "`seq1.pop()` ou `seq1.pop(indice)`\n",
        "\n",
        "__OBS__ : o argumento opcional _indice_ tem como padrão -1, logo, o último elemento da sequência será removido e retornado"
      ],
      "metadata": {
        "id": "f5ue_VBq_Qx2"
      }
    },
    {
      "cell_type": "code",
      "source": [
        "seq1.pop()"
      ],
      "metadata": {
        "colab": {
          "base_uri": "https://localhost:8080/",
          "height": 35
        },
        "id": "-3uk9kS8_mvT",
        "outputId": "9c71c168-9f8b-4e48-f157-8d7ab7bcbe36"
      },
      "execution_count": null,
      "outputs": [
        {
          "output_type": "execute_result",
          "data": {
            "text/plain": [
              "'f'"
            ],
            "application/vnd.google.colaboratory.intrinsic+json": {
              "type": "string"
            }
          },
          "metadata": {},
          "execution_count": 10
        }
      ]
    },
    {
      "cell_type": "code",
      "source": [
        "seq1"
      ],
      "metadata": {
        "colab": {
          "base_uri": "https://localhost:8080/"
        },
        "id": "dWlpcRJu_s4G",
        "outputId": "5d870bff-dabd-4064-aec2-972283a248a3"
      },
      "execution_count": null,
      "outputs": [
        {
          "output_type": "execute_result",
          "data": {
            "text/plain": [
              "['w', 'a', 'b', 'c', 'd', 'e']"
            ]
          },
          "metadata": {},
          "execution_count": 11
        }
      ]
    },
    {
      "cell_type": "code",
      "source": [
        "seq1.pop(0)"
      ],
      "metadata": {
        "colab": {
          "base_uri": "https://localhost:8080/",
          "height": 35
        },
        "id": "65Jrx3A8_uUm",
        "outputId": "578f3ec2-1bf7-4353-d223-3189869d3c75"
      },
      "execution_count": null,
      "outputs": [
        {
          "output_type": "execute_result",
          "data": {
            "text/plain": [
              "'w'"
            ],
            "application/vnd.google.colaboratory.intrinsic+json": {
              "type": "string"
            }
          },
          "metadata": {},
          "execution_count": 12
        }
      ]
    },
    {
      "cell_type": "code",
      "source": [
        "seq1"
      ],
      "metadata": {
        "colab": {
          "base_uri": "https://localhost:8080/"
        },
        "id": "qofDYfNh_yRd",
        "outputId": "d67ad38b-3ab5-4262-fdd5-b5bf1b7d0eeb"
      },
      "execution_count": null,
      "outputs": [
        {
          "output_type": "execute_result",
          "data": {
            "text/plain": [
              "['a', 'b', 'c', 'd', 'e']"
            ]
          },
          "metadata": {},
          "execution_count": 13
        }
      ]
    },
    {
      "cell_type": "code",
      "source": [
        "letra_removida = seq1.pop(1)"
      ],
      "metadata": {
        "id": "UqQowSxI_Wxt"
      },
      "execution_count": null,
      "outputs": []
    },
    {
      "cell_type": "code",
      "source": [
        "print(f'{letra_removida} foi removida da nossa lista')"
      ],
      "metadata": {
        "colab": {
          "base_uri": "https://localhost:8080/"
        },
        "id": "wZV256BH_h8r",
        "outputId": "69c31a7e-68ee-4d65-fdd9-c675da259227"
      },
      "execution_count": null,
      "outputs": [
        {
          "output_type": "stream",
          "name": "stdout",
          "text": [
            "b foi removida da nossa lista\n"
          ]
        }
      ]
    },
    {
      "cell_type": "markdown",
      "source": [
        "#### Remove"
      ],
      "metadata": {
        "id": "H_nhRKehAEGp"
      }
    },
    {
      "cell_type": "markdown",
      "source": [
        "Remove a primeira ocorrência do elemento na sequência\n",
        "\n",
        "__SINTAXE__\n",
        "\n",
        "`seq1.remove(elemento)`\n",
        "\n",
        "__OBS__ : este método \"levanta\" uma exceção _ValueError_ quando o elemento não é encontrado na sequência"
      ],
      "metadata": {
        "id": "B0kCGTcoAFtq"
      }
    },
    {
      "cell_type": "code",
      "source": [
        "seq1"
      ],
      "metadata": {
        "colab": {
          "base_uri": "https://localhost:8080/"
        },
        "id": "XtR7zKgIAozZ",
        "outputId": "8a35c8e5-58dd-415f-cb10-e3cf3d97ee7b"
      },
      "execution_count": null,
      "outputs": [
        {
          "output_type": "execute_result",
          "data": {
            "text/plain": [
              "['a', 'c', 'd', 'e']"
            ]
          },
          "metadata": {},
          "execution_count": 17
        }
      ]
    },
    {
      "cell_type": "code",
      "source": [
        "seq1.remove('d')"
      ],
      "metadata": {
        "id": "zpiphkXdAroN"
      },
      "execution_count": null,
      "outputs": []
    },
    {
      "cell_type": "code",
      "source": [
        "seq1"
      ],
      "metadata": {
        "colab": {
          "base_uri": "https://localhost:8080/"
        },
        "id": "Eaiv5XxZAupU",
        "outputId": "2a953cda-55e5-417b-dd6d-d27571b1f39c"
      },
      "execution_count": null,
      "outputs": [
        {
          "output_type": "execute_result",
          "data": {
            "text/plain": [
              "['a', 'c', 'e']"
            ]
          },
          "metadata": {},
          "execution_count": 19
        }
      ]
    },
    {
      "cell_type": "code",
      "source": [
        "'f' in seq1"
      ],
      "metadata": {
        "colab": {
          "base_uri": "https://localhost:8080/"
        },
        "id": "vJVHR5bmAcL8",
        "outputId": "7f8924d0-e4f0-4eb4-a4dc-2597d91881be"
      },
      "execution_count": null,
      "outputs": [
        {
          "output_type": "execute_result",
          "data": {
            "text/plain": [
              "False"
            ]
          },
          "metadata": {},
          "execution_count": 21
        }
      ]
    },
    {
      "cell_type": "code",
      "source": [
        "if 'f' in seq1:\n",
        "  seq1.remove('f')\n",
        "else:\n",
        "  print(f'não tá na lista')"
      ],
      "metadata": {
        "colab": {
          "base_uri": "https://localhost:8080/"
        },
        "id": "F_6w3A_bAwjJ",
        "outputId": "e4c35a5c-9894-4359-9120-b7aa6b9a2af9"
      },
      "execution_count": null,
      "outputs": [
        {
          "output_type": "stream",
          "name": "stdout",
          "text": [
            "não tá na lista\n"
          ]
        }
      ]
    },
    {
      "cell_type": "markdown",
      "source": [
        "#### Reverse"
      ],
      "metadata": {
        "id": "xPmh2zl7BNUc"
      }
    },
    {
      "cell_type": "markdown",
      "source": [
        "Inverte os elementos da sequência _in-place_, ou seja, não há a necessidade de reatribuição"
      ],
      "metadata": {
        "id": "4K28HegcBPS2"
      }
    },
    {
      "cell_type": "code",
      "source": [
        "seq1"
      ],
      "metadata": {
        "colab": {
          "base_uri": "https://localhost:8080/"
        },
        "id": "4k7yKTrUBX2c",
        "outputId": "1d959b67-ba28-4c5f-ec49-ee6401e56abc"
      },
      "execution_count": null,
      "outputs": [
        {
          "output_type": "execute_result",
          "data": {
            "text/plain": [
              "['a', 'c', 'e']"
            ]
          },
          "metadata": {},
          "execution_count": 23
        }
      ]
    },
    {
      "cell_type": "code",
      "source": [
        "seq1.reverse()"
      ],
      "metadata": {
        "id": "sOCd8lMvBaZF"
      },
      "execution_count": null,
      "outputs": []
    },
    {
      "cell_type": "code",
      "source": [
        "seq1"
      ],
      "metadata": {
        "colab": {
          "base_uri": "https://localhost:8080/"
        },
        "id": "1IBfGm1qBdri",
        "outputId": "d6906414-23e5-46da-d61d-e1b04184f2c7"
      },
      "execution_count": null,
      "outputs": [
        {
          "output_type": "execute_result",
          "data": {
            "text/plain": [
              "['e', 'c', 'a']"
            ]
          },
          "metadata": {},
          "execution_count": 25
        }
      ]
    },
    {
      "cell_type": "markdown",
      "source": [
        "#### Sort"
      ],
      "metadata": {
        "id": "TTJ7xWQbIXv8"
      }
    },
    {
      "cell_type": "markdown",
      "source": [
        "Este método classifica a lista _in-place_. \n",
        "\n",
        "Suporta 2 argumentos que __só__ podem ser passados como _argumentos nomeados_\n",
        "\n",
        "* __key__ : especifica uma função de um argumento que é usado para extrair uma chave de comparação de cada elemento da lista\n",
        "\n",
        "A chave correspondente a cada item na lista é calculada uma vez e depois usada para todo o processo de classificação.\n",
        "\n",
        "O valor padrão `None` significa que os itens da lista são classificados diretamente sem calcular um valor de chave separado\n",
        "\n",
        "* __reverse__ : é um valor _booleano_. Se definido como __True__, então os elementos da lista são classificados como se cada comparação estivesse invertida\n",
        "\n",
        "Este método modifica a sequência _in-place_ para economizar espaço ao classificar uma sequência grande."
      ],
      "metadata": {
        "id": "r1oPVSlfIZl-"
      }
    },
    {
      "cell_type": "code",
      "source": [
        "seq1"
      ],
      "metadata": {
        "colab": {
          "base_uri": "https://localhost:8080/"
        },
        "id": "5WIigPJaLltX",
        "outputId": "3cd6fb36-384a-4781-f16b-a7a546d8f306"
      },
      "execution_count": null,
      "outputs": [
        {
          "output_type": "execute_result",
          "data": {
            "text/plain": [
              "['e', 'c', 'a']"
            ]
          },
          "metadata": {},
          "execution_count": 26
        }
      ]
    },
    {
      "cell_type": "code",
      "source": [
        "seq1.sort()"
      ],
      "metadata": {
        "id": "8S2h-Tc-LmpS"
      },
      "execution_count": null,
      "outputs": []
    },
    {
      "cell_type": "code",
      "source": [
        "seq1"
      ],
      "metadata": {
        "colab": {
          "base_uri": "https://localhost:8080/"
        },
        "id": "1wUlW07jLrHV",
        "outputId": "201170fd-7204-4917-ea1d-09e9462c0861"
      },
      "execution_count": null,
      "outputs": [
        {
          "output_type": "execute_result",
          "data": {
            "text/plain": [
              "['a', 'c', 'e']"
            ]
          },
          "metadata": {},
          "execution_count": 28
        }
      ]
    },
    {
      "cell_type": "code",
      "source": [
        "seq1.sort(reverse=True)"
      ],
      "metadata": {
        "id": "Xp2Gs9iHLsj8"
      },
      "execution_count": null,
      "outputs": []
    },
    {
      "cell_type": "code",
      "source": [
        "seq1"
      ],
      "metadata": {
        "colab": {
          "base_uri": "https://localhost:8080/"
        },
        "id": "F3oTFUUQM315",
        "outputId": "e43a73a2-8c6e-4716-a9df-460e42be2082"
      },
      "execution_count": null,
      "outputs": [
        {
          "output_type": "execute_result",
          "data": {
            "text/plain": [
              "['e', 'c', 'a']"
            ]
          },
          "metadata": {},
          "execution_count": 30
        }
      ]
    },
    {
      "cell_type": "code",
      "source": [
        "nomes = ['Cinthia', 'Camila', 'Amanda', 'Gisele']\n",
        "nomes.sort()\n",
        "nomes"
      ],
      "metadata": {
        "colab": {
          "base_uri": "https://localhost:8080/"
        },
        "id": "I6karGqmM7Zx",
        "outputId": "5e574bb6-c0e2-4567-b068-dfa3072a10e4"
      },
      "execution_count": null,
      "outputs": [
        {
          "output_type": "execute_result",
          "data": {
            "text/plain": [
              "['Amanda', 'Camila', 'Cinthia', 'Gisele']"
            ]
          },
          "metadata": {},
          "execution_count": 31
        }
      ]
    },
    {
      "cell_type": "code",
      "source": [
        "nomes = ['Cinthia', 'Camila', 'amanda', 'Gisele']\n",
        "nomes.sort()\n",
        "nomes"
      ],
      "metadata": {
        "colab": {
          "base_uri": "https://localhost:8080/"
        },
        "id": "g2ruaLxaNG4C",
        "outputId": "8788e8fb-ca97-460c-8e78-0a42f47ca952"
      },
      "execution_count": null,
      "outputs": [
        {
          "output_type": "execute_result",
          "data": {
            "text/plain": [
              "['Camila', 'Cinthia', 'Gisele', 'amanda']"
            ]
          },
          "metadata": {},
          "execution_count": 32
        }
      ]
    },
    {
      "cell_type": "code",
      "source": [
        "nomes = ['Cinthia', 'Camila', 'amanda', 'Gisele']\n",
        "nomes.sort(key=str.lower)\n",
        "nomes"
      ],
      "metadata": {
        "colab": {
          "base_uri": "https://localhost:8080/"
        },
        "id": "lDVpz0N2NQ_P",
        "outputId": "a375ec73-cf32-4e9c-ac9a-e4fb630ce0d5"
      },
      "execution_count": null,
      "outputs": [
        {
          "output_type": "execute_result",
          "data": {
            "text/plain": [
              "['amanda', 'Camila', 'Cinthia', 'Gisele']"
            ]
          },
          "metadata": {},
          "execution_count": 33
        }
      ]
    },
    {
      "cell_type": "markdown",
      "source": [
        "## Tuplas"
      ],
      "metadata": {
        "id": "PWrdWlw8Osvc"
      }
    },
    {
      "cell_type": "markdown",
      "source": [
        "São sequências imutáveis, tipicamente usadas para armazenar coleções de dados heterogêneos.\n",
        "\n",
        "Também são utilizadas para casos em que seja necessária uma sequência imutável de dados homogêneos.\n",
        "\n",
        "As tuplas podem ser declaradas e inicializadas de várias maneiras como:\n",
        "\n",
        "* usando um par de parêntesis para criarmos uma tupla vazia : `minha_tupla = ()`\n",
        "\n",
        "* usando uma vírgula à direita para uma tupla _singleton_, ou seja, de apenas um único elemento : `minha_tupla = ('a',)` ou `minha_tupla = 'a',`\n",
        "\n",
        "* separando os elementos com vírgulas : `minha_tupla = a, b, c` ou `minha_tupla = (a, b, c)`\n",
        "\n",
        "* usando o construtor : `tuple()` ou `tuple(iterável)`\n",
        "\n",
        "__OBS__ : O iterável pode ser uma sequência, um contâiner que suporte iteração ou um objeto iterador.\n",
        "\n",
        "  * Exemplo\n",
        "\n",
        "    * `tuple('rafael')` retornará `('r', 'a', 'f', 'a', 'e', 'l')`\n",
        "\n",
        "    * `tuple([1, 2, 3])` retornará `(1, 2, 3)`\n",
        "\n",
        "    * `tuple()` retornará `()`\n",
        "\n",
        "    __ATENÇÃO__ : Se você reparou bem, é a vírgula quem faz uma tupla e não os parêntesis. Estes são opcionais, __exceto__ nos casos em que desejamos criar uma tupla vazia, ou quando são necessários para evitar ambiguidades sintáticas.\n",
        "\n",
        "    Veja este exemplo:\n",
        "\n",
        "      * `func(a, b, c)` : é uma chamada da função `func` com três argumentos\n",
        "\n",
        "      * `func((a, b, c))` : é uma chamada da função `func` com uma tupla de 3 elementos com um único argumento\n",
        "\n",
        "__DICA__ : as tuplas implementam todas as operações comuns de sequência. Retorna para a seção _<u>Operações comuns de sequências</u>_ e relembre!"
      ],
      "metadata": {
        "id": "TClSIt73OuvL"
      }
    },
    {
      "cell_type": "markdown",
      "source": [
        "### Desempacotamento"
      ],
      "metadata": {
        "id": "uXPZyq1VV9Ow"
      }
    },
    {
      "cell_type": "markdown",
      "source": [
        "Vimos que uma tupla pode armazenar tipos variados de dados. O acesso a eles se dá pelo índice e como sabemos, python indexa suas estruturas compostas a partir do zero.\n",
        "\n",
        "Mas, também, podemos desembrulhar ou desempacotar uma tupla. Esta é uma operação beeemm poderosa que temos a mão quando trabalhamos com a linguagem __Python__."
      ],
      "metadata": {
        "id": "fyXhrAh7Xywf"
      }
    },
    {
      "cell_type": "code",
      "source": [
        "dados_de_contato = ('Rafael', 'Puyau', 46, 'puyau@protonmail.com')"
      ],
      "metadata": {
        "id": "JHzl-mrOYqvq"
      },
      "execution_count": null,
      "outputs": []
    },
    {
      "cell_type": "code",
      "source": [
        "type(dados_de_contato)"
      ],
      "metadata": {
        "colab": {
          "base_uri": "https://localhost:8080/"
        },
        "id": "nzWQEoLQiY9C",
        "outputId": "fe34d907-9ab2-405d-843f-239ca1932a2a"
      },
      "execution_count": null,
      "outputs": [
        {
          "output_type": "execute_result",
          "data": {
            "text/plain": [
              "tuple"
            ]
          },
          "metadata": {},
          "execution_count": 35
        }
      ]
    },
    {
      "cell_type": "code",
      "source": [
        "nome, sobrenome, idade, email = dados_de_contato"
      ],
      "metadata": {
        "id": "-vg6XySUYz_T"
      },
      "execution_count": null,
      "outputs": []
    },
    {
      "cell_type": "code",
      "source": [
        "print(nome, sobrenome)\n",
        "print(idade, email)"
      ],
      "metadata": {
        "colab": {
          "base_uri": "https://localhost:8080/"
        },
        "id": "IhPB91OLY9bf",
        "outputId": "1e5b3ee6-2709-4444-c657-172e6b82d002"
      },
      "execution_count": null,
      "outputs": [
        {
          "output_type": "stream",
          "name": "stdout",
          "text": [
            "Rafael Puyau\n",
            "46 puyau@protonmail.com\n"
          ]
        }
      ]
    },
    {
      "cell_type": "markdown",
      "source": [
        "__ATENÇÃO__ : se podemos _<u>desempacotar</u>_, logo, podemos _<u>empacotar</u>_ diferentes variáveis em uma tupla"
      ],
      "metadata": {
        "id": "tGI1eJqZZXSN"
      }
    },
    {
      "cell_type": "code",
      "source": [
        "turma = 315\n",
        "modulo = 'Python'\n",
        "instituicao = 'Infinity School'\n",
        "\n",
        "info = turma, modulo, instituicao"
      ],
      "metadata": {
        "id": "vvNuFqrLZEzu"
      },
      "execution_count": null,
      "outputs": []
    },
    {
      "cell_type": "code",
      "source": [
        "type(info)"
      ],
      "metadata": {
        "colab": {
          "base_uri": "https://localhost:8080/"
        },
        "id": "ETVaSLKWZRSn",
        "outputId": "b9a5c437-7a92-4178-85ee-95ba29abeaaf"
      },
      "execution_count": null,
      "outputs": [
        {
          "output_type": "execute_result",
          "data": {
            "text/plain": [
              "tuple"
            ]
          },
          "metadata": {},
          "execution_count": 39
        }
      ]
    },
    {
      "cell_type": "code",
      "source": [
        "info"
      ],
      "metadata": {
        "colab": {
          "base_uri": "https://localhost:8080/"
        },
        "id": "UgAHStITZTuw",
        "outputId": "99da579b-edae-40b5-827d-31724904e395"
      },
      "execution_count": null,
      "outputs": [
        {
          "output_type": "execute_result",
          "data": {
            "text/plain": [
              "(315, 'Python', 'Infinity School')"
            ]
          },
          "metadata": {},
          "execution_count": 40
        }
      ]
    },
    {
      "cell_type": "markdown",
      "source": [
        "#### Operador _"
      ],
      "metadata": {
        "id": "w5k-bASOXmS3"
      }
    },
    {
      "cell_type": "markdown",
      "source": [
        "E se quisermos pegar apenas alguns elementos da tupla e ignorar os demais?\n",
        "\n",
        "Podemos fazer isso com o operador `_`"
      ],
      "metadata": {
        "id": "0xGudySkZ0R5"
      }
    },
    {
      "cell_type": "code",
      "source": [
        "nome, sobrenome, _, _ = dados_de_contato"
      ],
      "metadata": {
        "id": "ma-bI5r0aHkL"
      },
      "execution_count": null,
      "outputs": []
    },
    {
      "cell_type": "code",
      "source": [
        "nome, sobrenome = dados_de_contato"
      ],
      "metadata": {
        "colab": {
          "base_uri": "https://localhost:8080/",
          "height": 167
        },
        "id": "5P0qTid1FTX6",
        "outputId": "22eb0c8f-13e8-49e0-ceb8-f6d5113dc9d6"
      },
      "execution_count": null,
      "outputs": [
        {
          "output_type": "error",
          "ename": "ValueError",
          "evalue": "ignored",
          "traceback": [
            "\u001b[0;31m---------------------------------------------------------------------------\u001b[0m",
            "\u001b[0;31mValueError\u001b[0m                                Traceback (most recent call last)",
            "\u001b[0;32m<ipython-input-42-858f8baa79e1>\u001b[0m in \u001b[0;36m<module>\u001b[0;34m()\u001b[0m\n\u001b[0;32m----> 1\u001b[0;31m \u001b[0mnome\u001b[0m\u001b[0;34m,\u001b[0m \u001b[0msobrenome\u001b[0m \u001b[0;34m=\u001b[0m \u001b[0mdados_de_contato\u001b[0m\u001b[0;34m\u001b[0m\u001b[0;34m\u001b[0m\u001b[0m\n\u001b[0m",
            "\u001b[0;31mValueError\u001b[0m: too many values to unpack (expected 2)"
          ]
        }
      ]
    },
    {
      "cell_type": "code",
      "source": [
        "print(nome, sobrenome)"
      ],
      "metadata": {
        "colab": {
          "base_uri": "https://localhost:8080/"
        },
        "id": "8UH6-VYDaQJ0",
        "outputId": "c5099e8c-cffe-4a99-e3df-943beef68024"
      },
      "execution_count": null,
      "outputs": [
        {
          "output_type": "stream",
          "name": "stdout",
          "text": [
            "Rafael Puyau\n"
          ]
        }
      ]
    },
    {
      "cell_type": "code",
      "source": [
        "nome, _, idade, _ = dados_de_contato"
      ],
      "metadata": {
        "id": "pjtcF1CvaZDZ"
      },
      "execution_count": null,
      "outputs": []
    },
    {
      "cell_type": "code",
      "source": [
        "nome"
      ],
      "metadata": {
        "colab": {
          "base_uri": "https://localhost:8080/",
          "height": 35
        },
        "id": "LQuF9_ftTzXF",
        "outputId": "ccfdda33-72d5-4210-f8ef-f6190007f43a"
      },
      "execution_count": null,
      "outputs": [
        {
          "output_type": "execute_result",
          "data": {
            "text/plain": [
              "'Rafael'"
            ],
            "application/vnd.google.colaboratory.intrinsic+json": {
              "type": "string"
            }
          },
          "metadata": {},
          "execution_count": 45
        }
      ]
    },
    {
      "cell_type": "code",
      "source": [
        "idade"
      ],
      "metadata": {
        "colab": {
          "base_uri": "https://localhost:8080/"
        },
        "id": "VO2dQ1ekacoT",
        "outputId": "d518becb-5918-43f6-e46b-bdb4f711c8b9"
      },
      "execution_count": null,
      "outputs": [
        {
          "output_type": "execute_result",
          "data": {
            "text/plain": [
              "46"
            ]
          },
          "metadata": {},
          "execution_count": 46
        }
      ]
    },
    {
      "cell_type": "markdown",
      "source": [
        "#### Expressão estrelada"
      ],
      "metadata": {
        "id": "lbvQQliKXrBt"
      }
    },
    {
      "cell_type": "markdown",
      "source": [
        "Mas, e se quisermos pegar somente o nome e sobrenome, deixando as demais informações \"empactadas\"?\n",
        "\n",
        "Nestes casos, devemos usar a expressão estrela"
      ],
      "metadata": {
        "id": "gKaQl4dsa_WM"
      }
    },
    {
      "cell_type": "code",
      "source": [
        "nome, sobrenome, *demais_info = dados_de_contato"
      ],
      "metadata": {
        "id": "YQm4JqV-bRgC"
      },
      "execution_count": null,
      "outputs": []
    },
    {
      "cell_type": "code",
      "source": [
        "print(nome, sobrenome)\n",
        "print(type(demais_info))\n",
        "print(demais_info)"
      ],
      "metadata": {
        "colab": {
          "base_uri": "https://localhost:8080/"
        },
        "id": "WY2PXbOwbobM",
        "outputId": "46c56f7c-5bba-4ec3-9694-45c1034c8974"
      },
      "execution_count": null,
      "outputs": [
        {
          "output_type": "stream",
          "name": "stdout",
          "text": [
            "Rafael Puyau\n",
            "<class 'list'>\n",
            "[46, 'puyau@protonmail.com']\n"
          ]
        }
      ]
    },
    {
      "cell_type": "markdown",
      "source": [
        "## Aprofundando o conhecimento"
      ],
      "metadata": {
        "id": "7vQcActHV20h"
      }
    },
    {
      "cell_type": "markdown",
      "source": [
        "Agora você já possui conhecimento suficiente para trabalhar __confortavelmente__ com estruturas compostas mutáveis (_listas_) e imutáveis (_tuplas_) em python. \n",
        "\n",
        "Desta forma, podemos avançar um pouco em nossos estudos!"
      ],
      "metadata": {
        "id": "uPiqMeRhb2TZ"
      }
    },
    {
      "cell_type": "markdown",
      "source": [
        "### Enumerate( )"
      ],
      "metadata": {
        "id": "wTXDuPIvWFml"
      }
    },
    {
      "cell_type": "markdown",
      "source": [
        "É uma função _built-in_ do python que basicamente devolve um objeto enumerado.\n",
        "\n",
        "__SINTAXE__\n",
        "\n",
        "`enumerate(iterável)`\n",
        "\n",
        "__OBS__ : O _iterável_ deve ser uma sequência, um iterador ou algum outro objeto que suporte iteração.\n",
        "\n",
        "O retorno será uma tupla contendo a contagem e os valores obtidos na iteração sobre o iterável."
      ],
      "metadata": {
        "id": "-2XYLrOZcNHM"
      }
    },
    {
      "cell_type": "code",
      "source": [
        "nomes = ['Cinthia', 'Amanda', 'Camila', 'Gisele']\n",
        "enumerate(nomes)"
      ],
      "metadata": {
        "colab": {
          "base_uri": "https://localhost:8080/"
        },
        "id": "K69yR9B6dygH",
        "outputId": "a06e4afa-2c0d-437a-f7b7-884a4746ded8"
      },
      "execution_count": null,
      "outputs": [
        {
          "output_type": "execute_result",
          "data": {
            "text/plain": [
              "<enumerate at 0x7fa3cec925f0>"
            ]
          },
          "metadata": {},
          "execution_count": 49
        }
      ]
    },
    {
      "cell_type": "code",
      "source": [
        "list(enumerate(nomes))"
      ],
      "metadata": {
        "colab": {
          "base_uri": "https://localhost:8080/"
        },
        "id": "rB9Ff_IueEI2",
        "outputId": "fa52316b-e8ec-4a19-9ac1-23d1261726ac"
      },
      "execution_count": null,
      "outputs": [
        {
          "output_type": "execute_result",
          "data": {
            "text/plain": [
              "[(0, 'Cinthia'), (1, 'Amanda'), (2, 'Camila'), (3, 'Gisele')]"
            ]
          },
          "metadata": {},
          "execution_count": 50
        }
      ]
    },
    {
      "cell_type": "code",
      "source": [
        "for indice, nome in list(enumerate(nomes)):\n",
        "  print(indice, nome)"
      ],
      "metadata": {
        "colab": {
          "base_uri": "https://localhost:8080/"
        },
        "id": "9CRkMFQdlQ32",
        "outputId": "b6c0b859-339a-402f-db26-181d26590b52"
      },
      "execution_count": null,
      "outputs": [
        {
          "output_type": "stream",
          "name": "stdout",
          "text": [
            "0 Cinthia\n",
            "1 Amanda\n",
            "2 Camila\n",
            "3 Gisele\n"
          ]
        }
      ]
    },
    {
      "cell_type": "markdown",
      "source": [
        "Quando usar então?\n",
        "\n",
        "Quando queremos pegar o índice de um elemento e seu valor ao mesmo tempo"
      ],
      "metadata": {
        "id": "XMSn6b1PeLT_"
      }
    },
    {
      "cell_type": "markdown",
      "source": [
        "### Zip( )"
      ],
      "metadata": {
        "id": "Xy3uejprWI2o"
      }
    },
    {
      "cell_type": "markdown",
      "source": [
        "É uma função _built-in_ do python que retorna um iterador de tuplas, onde a enésima tupla contém o enésimo elemento e cada um dos iteráveis do argumento.\n",
        "\n",
        "Esta função é preguiçosa, ou seja, os elementos não serão processados até que o iterável seja iterado por um _loop for_ ou por uma _lista_.\n",
        "\n",
        "__ATENÇÃO__ : Vale considerar que os iteráveis passados para zip() podem ter comprimentos diferentes; às vezes por design e às vezes por causa de um bug no código que preparou esses iteráveis.\n",
        "\n",
        "A linguagem __Python__ nos oferece três abordagens diferentes para lidar com este problema:"
      ],
      "metadata": {
        "id": "U_EbwJ9jf6IQ"
      }
    },
    {
      "cell_type": "markdown",
      "source": [
        "#### Quando o iterável mais curto ou menor se esgota"
      ],
      "metadata": {
        "id": "v-59Tn6rhVmD"
      }
    },
    {
      "cell_type": "markdown",
      "source": [
        "Por padrão, `zip()` para quando o iterável mais curto se esgota. Ele irá ignorar os itens restantes nos iteráveis mais longos, cortando o resultado para o comprimento do iterável mais curto."
      ],
      "metadata": {
        "id": "6mktvN8Whg1b"
      }
    },
    {
      "cell_type": "code",
      "source": [
        "list(zip(range(3), ['Python', 'R']))"
      ],
      "metadata": {
        "colab": {
          "base_uri": "https://localhost:8080/"
        },
        "id": "bglttim9h4hI",
        "outputId": "7bb32b8a-f320-47b0-9689-a710df0906f3"
      },
      "execution_count": null,
      "outputs": [
        {
          "output_type": "execute_result",
          "data": {
            "text/plain": [
              "[(0, 'Python'), (1, 'R')]"
            ]
          },
          "metadata": {},
          "execution_count": 52
        }
      ]
    },
    {
      "cell_type": "markdown",
      "source": [
        "#### Quando os iteráveis possuem o mesmo tamanho [opção __strict__]"
      ],
      "metadata": {
        "id": "Cyc51dYliPup"
      }
    },
    {
      "cell_type": "markdown",
      "source": [
        "`zip()` é frequentemente usado em casos onde os iteráveis são considerados de tamanho igual. \n",
        "\n",
        "Nestes casos, é recomendado usar a opção `strict=True`."
      ],
      "metadata": {
        "id": "SQekzGc2iiNF"
      }
    },
    {
      "cell_type": "code",
      "source": [
        "# Este código roda na versão 3.10 onde o argumento strict foi adicionado\n",
        "#list(zip(range(3), ['Python', 'R', 'SQL'], strict=True))"
      ],
      "metadata": {
        "id": "wmOIVOEZi8eq"
      },
      "execution_count": null,
      "outputs": []
    },
    {
      "cell_type": "markdown",
      "source": [
        "Ao contrário do comportamento padrão, ele verifica se os comprimentos dos iteráveis são idênticos, levantando uma exceção `ValueError` se não forem."
      ],
      "metadata": {
        "id": "t1iS5PIljc7W"
      }
    },
    {
      "cell_type": "markdown",
      "source": [
        "Sem o argumento `strict=True`, qualquer bug que resulte em iteráveis de diferentes comprimentos será silenciado, possivelmente se manifestando como um bug difícil de encontrar em outra parte do programa"
      ],
      "metadata": {
        "id": "Q8qIp0psj1CD"
      }
    },
    {
      "cell_type": "code",
      "source": [
        "nomes = ['Cinthia', 'Amanda', 'Camila', 'Gisele']\n",
        "emails = ['cinthia@email.com', 'amanda@email.com', 'camila@email.com', 'gisele@email.com']"
      ],
      "metadata": {
        "id": "maClzeOPeKXW"
      },
      "execution_count": null,
      "outputs": []
    },
    {
      "cell_type": "code",
      "source": [
        "list(zip(nomes, emails))"
      ],
      "metadata": {
        "colab": {
          "base_uri": "https://localhost:8080/"
        },
        "id": "44WnmQz_kxXj",
        "outputId": "0b103c25-3836-4317-f493-bd6d2416f4f1"
      },
      "execution_count": null,
      "outputs": [
        {
          "output_type": "execute_result",
          "data": {
            "text/plain": [
              "[('Cinthia', 'cinthia@email.com'),\n",
              " ('Amanda', 'amanda@email.com'),\n",
              " ('Camila', 'camila@email.com'),\n",
              " ('Gisele', 'gisele@email.com')]"
            ]
          },
          "metadata": {},
          "execution_count": 54
        }
      ]
    },
    {
      "cell_type": "code",
      "source": [
        "for nome, email in list(zip(nomes, emails)):\n",
        "  print(f'{nome} tem este email: {email}')"
      ],
      "metadata": {
        "colab": {
          "base_uri": "https://localhost:8080/"
        },
        "id": "0Set9BCnm_Ue",
        "outputId": "0e44fc9d-110f-4401-e057-22535fcb8c9a"
      },
      "execution_count": null,
      "outputs": [
        {
          "output_type": "stream",
          "name": "stdout",
          "text": [
            "Cinthia tem este email: cinthia@email.com\n",
            "Amanda tem este email: amanda@email.com\n",
            "Camila tem este email: camila@email.com\n",
            "Gisele tem este email: gisele@email.com\n"
          ]
        }
      ]
    },
    {
      "cell_type": "markdown",
      "source": [
        "## Hora de Praticar!"
      ],
      "metadata": {
        "id": "I6yE9vgaV0Wr"
      }
    },
    {
      "cell_type": "markdown",
      "source": [
        "### Atividade 01"
      ],
      "metadata": {
        "id": "GHV4dfx4or_O"
      }
    },
    {
      "cell_type": "markdown",
      "source": [
        "1. Faça um programa que leia o nome de uma pessoa e imprima o mesmo invertido"
      ],
      "metadata": {
        "id": "-_hMFDDUozZI"
      }
    },
    {
      "cell_type": "markdown",
      "source": [
        "#### Gabarito"
      ],
      "metadata": {
        "id": "jR0qDbc-GV2V"
      }
    },
    {
      "cell_type": "code",
      "source": [
        "nome = input('Nome: ')\n",
        "nome[::-1].strip().title()"
      ],
      "metadata": {
        "colab": {
          "base_uri": "https://localhost:8080/",
          "height": 52
        },
        "id": "eYHM51wi3IB_",
        "outputId": "f7e6b910-44f1-4414-be63-321c8ebc99ad"
      },
      "execution_count": null,
      "outputs": [
        {
          "name": "stdout",
          "output_type": "stream",
          "text": [
            "Nome: Rafael\n"
          ]
        },
        {
          "output_type": "execute_result",
          "data": {
            "text/plain": [
              "'Leafar'"
            ],
            "application/vnd.google.colaboratory.intrinsic+json": {
              "type": "string"
            }
          },
          "metadata": {},
          "execution_count": 6
        }
      ]
    },
    {
      "cell_type": "markdown",
      "source": [
        "### Atividade 02"
      ],
      "metadata": {
        "id": "wzYKJn9-Ba1S"
      }
    },
    {
      "cell_type": "markdown",
      "source": [
        "2. Faça um programa que leia 4 notas de um aluno e imprima sua média. Após a média ser calculada, informe se o aluno foi ou não aprovado.\n",
        "\n",
        "  * Aprovado --- média maior ou igual a 7\n",
        "\n",
        "  * Reprovado --- média menor que 5\n",
        "\n",
        "  * Em recuperação --- média entre 5 e 7"
      ],
      "metadata": {
        "id": "-PFeDxolo-uC"
      }
    },
    {
      "cell_type": "markdown",
      "source": [
        "#### Gabarito"
      ],
      "metadata": {
        "id": "8r0nA1S2G4bZ"
      }
    },
    {
      "cell_type": "code",
      "source": [
        "notas = []\n",
        "\n",
        "for _ in range(4):\n",
        "  nota = float(input('Nota: '))\n",
        "  notas.append(nota)\n",
        "\n",
        "media = sum(notas) / len(notas)\n",
        "\n",
        "print(f'Média: {media:.2f}')\n",
        "\n",
        "if media >= 7:\n",
        "  print('Aprovado')\n",
        "elif media < 5:\n",
        "  print('Reprovado')\n",
        "else:\n",
        "  print('Em recuperação')\n"
      ],
      "metadata": {
        "id": "nps4InhYG3_C"
      },
      "execution_count": null,
      "outputs": []
    },
    {
      "cell_type": "markdown",
      "source": [
        "### Atividade 03"
      ],
      "metadata": {
        "id": "T7YZMIypBeb5"
      }
    },
    {
      "cell_type": "markdown",
      "source": [
        "3. Faça um programa que leia 10 números e depois mostre o maior e o menor números lidos "
      ],
      "metadata": {
        "id": "2vi37HL6p5vJ"
      }
    },
    {
      "cell_type": "markdown",
      "source": [
        "#### Gabarito"
      ],
      "metadata": {
        "id": "az3UWgIbIKIe"
      }
    },
    {
      "cell_type": "code",
      "source": [
        "numeros = []\n",
        "\n",
        "for _ in range(10):\n",
        "  num = int(input('Número: '))\n",
        "  numeros.append(num)\n",
        "\n",
        "print(f'Maior número lido: {max(numeros)}')\n",
        "print(f'Menor número lido: {min(numeros)}')\n"
      ],
      "metadata": {
        "id": "sKvSjJXvIJkH"
      },
      "execution_count": null,
      "outputs": []
    },
    {
      "cell_type": "markdown",
      "source": [
        "### Atividade 04"
      ],
      "metadata": {
        "id": "m1cli3NhBhY7"
      }
    },
    {
      "cell_type": "markdown",
      "source": [
        "4. Faça um programa que leia 10 números inteiros e separe os mesmos em pares e ímpares. Mostre quantos pares foram lidos, bem como o maior e o menor número par. Faça o mesmo para os ímpares"
      ],
      "metadata": {
        "id": "WQfBAVjSs7uO"
      }
    },
    {
      "cell_type": "markdown",
      "source": [
        "#### Gabarito"
      ],
      "metadata": {
        "id": "vbH7yCtEI-R-"
      }
    },
    {
      "cell_type": "code",
      "source": [
        "pares = []\n",
        "impares = []\n",
        "\n",
        "for _ in range(10):\n",
        "  num = int(input('Número: '))\n",
        "  if num % 2 == 0:\n",
        "    pares.append(num)\n",
        "  else:\n",
        "    impares.append(num)\n",
        "\n",
        "print('-' * 20)\n",
        "\n",
        "print(f'Pares lidos: {len(pares)}')\n",
        "print(f'Maior par lido: {max(pares)}')\n",
        "print(f'Menor par lido: {min(pares)}')\n",
        "\n",
        "print('-' * 20)\n",
        "\n",
        "print(f'Ímpares lidos: {len(impares)}')\n",
        "print(f'Maior ímpar lido: {max(impares)}')\n",
        "print(f'Menor ímpar lido: {min(impares)}')\n"
      ],
      "metadata": {
        "id": "vlurYB7UI93V"
      },
      "execution_count": null,
      "outputs": []
    },
    {
      "cell_type": "markdown",
      "source": [
        "### Atividade 05"
      ],
      "metadata": {
        "id": "5C-IkC6LBlrY"
      }
    },
    {
      "cell_type": "markdown",
      "source": [
        "5. Faça um programa que leia 10 números inteiros e imprima a lista ordenada em ordem crescente e decrescente"
      ],
      "metadata": {
        "id": "jcid5XqsqFLk"
      }
    },
    {
      "cell_type": "markdown",
      "source": [
        "#### Gabarito"
      ],
      "metadata": {
        "id": "DVlyN-YOKmpT"
      }
    },
    {
      "cell_type": "code",
      "source": [
        "numeros = []\n",
        "\n",
        "for _ in range(10):\n",
        "  num = int(input('Número: '))\n",
        "  numeros.append(num)\n",
        "\n",
        "numeros.sort()\n",
        "print(numeros)\n",
        "\n",
        "numeros.sort(reverse=True)\n",
        "print(numeros)\n"
      ],
      "metadata": {
        "id": "OLpkbAz2KmZ9"
      },
      "execution_count": null,
      "outputs": []
    },
    {
      "cell_type": "markdown",
      "source": [
        "### Atividade 06"
      ],
      "metadata": {
        "id": "J0iq9ywsBo46"
      }
    },
    {
      "cell_type": "markdown",
      "source": [
        "6. Faça um programa que leia o nome de 4 vendedores e o valor total de venda que cada um realizou. Imprima na tela os 2 vendedores que mais venderam, ordem decrescente"
      ],
      "metadata": {
        "id": "f8mrGJkUuX-V"
      }
    },
    {
      "cell_type": "markdown",
      "source": [
        "#### Gabarito"
      ],
      "metadata": {
        "id": "eSrOmGpfLROD"
      }
    },
    {
      "cell_type": "code",
      "source": [
        "vendedores = []\n",
        "vendas = []\n",
        "tops = []\n",
        "\n",
        "for _ in range(4):\n",
        "  vendedor = input('Vendedor: ').title()\n",
        "  venda = float(input('Valor da venda [R$]: '))\n",
        "  vendedores.append(vendedor)\n",
        "  vendas.append(venda)\n",
        "\n",
        "tops = list(zip(vendas, vendedores))\n",
        "tops.sort(reverse=True)\n",
        "\n",
        "print('-' * 20)\n",
        "\n",
        "for venda, vendedor in tops[:2]:\n",
        "  print(f'{vendedor} vendeu R${venda:.2f}')"
      ],
      "metadata": {
        "id": "JUqAm10gLQ-P"
      },
      "execution_count": null,
      "outputs": []
    },
    {
      "cell_type": "markdown",
      "source": [
        "### Atividade 07"
      ],
      "metadata": {
        "id": "SP4RLNOSBsMd"
      }
    },
    {
      "cell_type": "markdown",
      "source": [
        "7. Faça um programa que leia os nomes dos 3 nadadores que subirão ao pódio na ordem do primeiro colocado para o terceiro. Imprima a na tela a posição do nadador e seu nome"
      ],
      "metadata": {
        "id": "-XKJG5R9zU5Q"
      }
    },
    {
      "cell_type": "markdown",
      "source": [
        "#### Gabarito"
      ],
      "metadata": {
        "id": "AHUhSnewQLVi"
      }
    },
    {
      "cell_type": "code",
      "source": [
        "nadadores = []\n",
        "\n",
        "for _ in range(3):\n",
        "  nadadores.append(input('Nadador: ').title())\n",
        "\n",
        "print('-' * 20)\n",
        "\n",
        "for colocacao, nadador in enumerate(nadadores, start=1):\n",
        "  print(f'{colocacao}º lugar - {nadador}')"
      ],
      "metadata": {
        "id": "DmC7hWumQLBv"
      },
      "execution_count": null,
      "outputs": []
    }
  ]
}