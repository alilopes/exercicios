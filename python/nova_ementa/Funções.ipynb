{
  "nbformat": 4,
  "nbformat_minor": 0,
  "metadata": {
    "colab": {
      "provenance": []
    },
    "kernelspec": {
      "name": "python3",
      "display_name": "Python 3"
    },
    "language_info": {
      "name": "python"
    }
  },
  "cells": [
    {
      "cell_type": "markdown",
      "source": [
        "# Introdução"
      ],
      "metadata": {
        "id": "Bu-AL2gSJCru"
      }
    },
    {
      "cell_type": "markdown",
      "source": [
        "### Definição"
      ],
      "metadata": {
        "id": "19qAKKH_VO99"
      }
    },
    {
      "cell_type": "markdown",
      "source": [
        "Funções são blocos de código que servem a um __único propósito__, ou seja, realizam _uma ação específica_."
      ],
      "metadata": {
        "id": "dGaS1UmSc8_z"
      }
    },
    {
      "cell_type": "markdown",
      "source": [
        "Quando iniciamos nossos estudos na linguagem __Python__ utilizamos algumas funções _builtin_ como: `print()`, `input()` e `type()`"
      ],
      "metadata": {
        "id": "7Dx6965dz0me"
      }
    },
    {
      "cell_type": "markdown",
      "source": [
        "* `print()` : exibe uma mensagem na saída padrão\n",
        "* `input()` : pega informações da entrada padrão\n",
        "* `type()` : retorna o tipo de dados de determinada variável"
      ],
      "metadata": {
        "id": "jlze9FWyeTHK"
      }
    },
    {
      "cell_type": "markdown",
      "source": [
        "__EXEMPLOS__\n",
        "\n",
        "* `print('Módulo Python')`\n",
        "* `nome = input('Nome do aluno: ')`\n",
        "* `type(nome)`"
      ],
      "metadata": {
        "id": "2tu9grJS0uZ-"
      }
    },
    {
      "cell_type": "markdown",
      "source": [
        "__LEMBRE-SE__ : tudo em Python é um objeto, assim:\n",
        "\n",
        "> Uma definição de função define <u>_um objeto de função_</u> criado pelo usuário\n",
        "\n",
        "__ATENÇÃO__ : a definição da função __não__ executa o corpo da função, isto é executado somente quando a função é chamada"
      ],
      "metadata": {
        "id": "_peHMft0JL_L"
      }
    },
    {
      "cell_type": "markdown",
      "source": [
        "__SINTAXE PARA DEFINIÇÃO DA FUNÇÃO__\n",
        "\n",
        "```\n",
        "def minha_funcao(parametros):\n",
        "    corpo da função\n",
        "    return alguma coisa\n",
        "```\n",
        "\n",
        "__SINTAXE PARA CHAMADA DA FUNÇÃO__\n",
        "\n",
        "```\n",
        "minha_funcao(argumentos)\n",
        "```\n",
        "\n",
        "__ATENÇÃO__\n",
        "\n",
        "* Argumentos são valores passados para uma função quando esta é chamada\n",
        "* Parâmetros são variáveis que receberão os argumentos passados para a função\n",
        "\n",
        "Vejamos no exemplo abaixo:"
      ],
      "metadata": {
        "id": "pFquu5n31731"
      }
    },
    {
      "cell_type": "code",
      "source": [
        "def saudacao(nome):\n",
        "  return f'Olá {nome.title()}'\n",
        "  \n",
        "print(saudacao('Rafael'))"
      ],
      "metadata": {
        "colab": {
          "base_uri": "https://localhost:8080/"
        },
        "id": "bzOE2qln6k1C",
        "outputId": "666c5f25-0acc-4690-a8ba-41fe1a5f194c"
      },
      "execution_count": null,
      "outputs": [
        {
          "output_type": "stream",
          "name": "stdout",
          "text": [
            "Olá Rafael\n"
          ]
        }
      ]
    },
    {
      "cell_type": "markdown",
      "source": [
        "No código acima, temos a declaração da função, ou como comumente chamamos de assinatura da função, onde esta possui um <u>parâmetro</u> chamado `nome`. \n",
        "\n",
        "Ao chamar esta função, passamos um <u>argumento</u> que neste caso é a string `'Rafael'`"
      ],
      "metadata": {
        "id": "3J7Adx3x64K-"
      }
    },
    {
      "cell_type": "markdown",
      "source": [
        "Acabamos de ver que as funções, em geral e por padrão, tem parâmetros, porém, podemos criar funções que não possuam parâmetros. Então como seria sua sintaxe?"
      ],
      "metadata": {
        "id": "9Q7xAyIa72Cm"
      }
    },
    {
      "cell_type": "code",
      "source": [
        "def saudacao():\n",
        "  print('Boa tarde!')\n",
        "  return True\n",
        "\n",
        "print(saudacao())"
      ],
      "metadata": {
        "colab": {
          "base_uri": "https://localhost:8080/"
        },
        "id": "mH0XMl9F8LB2",
        "outputId": "97c28a87-91d1-41d5-9ce9-9e51682a1353"
      },
      "execution_count": null,
      "outputs": [
        {
          "output_type": "stream",
          "name": "stdout",
          "text": [
            "Boa tarde!\n",
            "True\n"
          ]
        }
      ]
    },
    {
      "cell_type": "markdown",
      "source": [
        "__ATENÇÃO__ : toda função em __Python__ retorna alguma coisa mesmo que você não especifique nada. \n",
        "\n",
        "No exemplo acima, quando a função _saudacao_ é executada, ela imprime a mensagem `'Boa tarde!'` na saída padrão. Não estamos retornando nada de forma explícita, porém o __Python__ faz isso por nós e neste caso retornará `None`.\n",
        "\n",
        "Para vermos isso, basta chamarmos a função acima dentro da função `print`"
      ],
      "metadata": {
        "id": "T9YNAeyZ8hV5"
      }
    },
    {
      "cell_type": "code",
      "source": [
        "print(saudacao())"
      ],
      "metadata": {
        "colab": {
          "base_uri": "https://localhost:8080/"
        },
        "id": "A3cY4bhJ9R_X",
        "outputId": "bc398f1c-9557-4a27-88e2-ad35b210a17b"
      },
      "execution_count": null,
      "outputs": [
        {
          "output_type": "stream",
          "name": "stdout",
          "text": [
            "Boa tarde!\n",
            "True\n"
          ]
        }
      ]
    },
    {
      "cell_type": "markdown",
      "source": [
        "### Docstring (PEP 257)"
      ],
      "metadata": {
        "id": "XbAfQpGq9ctX"
      }
    },
    {
      "cell_type": "markdown",
      "source": [
        "Uma _docstring_ é uma string literal que ocorre como a primeira instrução em um módulo, função, classe ou definição de método. Tal docstring se torna o atributo especial __doc__ daquele objeto.\n",
        "\n",
        "Não se preocupe agora com `__doc__`, falaremos dele em breve nas aulas de Orientação à Objetos.\n",
        "\n",
        "Para mais informações sobre a __PEP 257__, clique [aqui](https://peps.python.org/pep-0257/)\n",
        "\n",
        "As _docstrings_ devem vir entre aspas triplas, podendo ser simples ou duplas.\n",
        "\n",
        "Exemplo:\n",
        "\n",
        "`'''aqui está a mensagem'''` ou `\"\"\"aqui está a mensagem\"\"\"`\n",
        "\n",
        "__OBS__ : Python recomenda o uso das aspas simples."
      ],
      "metadata": {
        "id": "PreyIFVE9iEO"
      }
    },
    {
      "cell_type": "code",
      "source": [
        "def saudacao(nome):\n",
        "  '''Retorna uma saudação personalizada'''\n",
        "  return f'Olá {nome}'"
      ],
      "metadata": {
        "id": "027cQvD9Dn-8"
      },
      "execution_count": null,
      "outputs": []
    },
    {
      "cell_type": "code",
      "source": [
        "print(saudacao('Rafael'))"
      ],
      "metadata": {
        "colab": {
          "base_uri": "https://localhost:8080/"
        },
        "id": "Sk3O-4bZEZp5",
        "outputId": "b7d8d2e3-32fc-49ba-90cb-952458e01854"
      },
      "execution_count": null,
      "outputs": [
        {
          "output_type": "stream",
          "name": "stdout",
          "text": [
            "Olá Rafael\n"
          ]
        }
      ]
    },
    {
      "cell_type": "code",
      "source": [
        "print(saudacao.__doc__)"
      ],
      "metadata": {
        "colab": {
          "base_uri": "https://localhost:8080/"
        },
        "id": "IY_zfKAvEe3G",
        "outputId": "a0b8be06-a214-42b4-f055-82987a4d8f71"
      },
      "execution_count": null,
      "outputs": [
        {
          "output_type": "stream",
          "name": "stdout",
          "text": [
            "Retorna uma saudação personalizada\n"
          ]
        }
      ]
    },
    {
      "cell_type": "markdown",
      "source": [
        "### Type Hint (Functions Annotations)"
      ],
      "metadata": {
        "id": "IEkpNbqr9i9S"
      }
    },
    {
      "cell_type": "markdown",
      "source": [
        "O _Python Moderno_ introduziu as _typing hints_ ou _annotations_ que indica __APENAS__ qual é o tipo de dados esperado ou retornado por variáveis ou função.\n",
        "\n",
        "Como estamos falando de _Funções_ nesta aula, vamos focar nas anotações para este bloco de código.\n",
        "\n",
        "Vamos refatorar as duas versões da função `saudacao()`"
      ],
      "metadata": {
        "id": "D6sXYrPJEybz"
      }
    },
    {
      "cell_type": "markdown",
      "source": [
        "#### Sem parâmetro"
      ],
      "metadata": {
        "id": "shSIxFSUFjhK"
      }
    },
    {
      "cell_type": "code",
      "source": [
        "def saudacao() -> None:\n",
        "  '''Imprime a mensagem de Boa tarde'''\n",
        "  print('Boa tarde')"
      ],
      "metadata": {
        "id": "Kuz10-Ol9qgF"
      },
      "execution_count": null,
      "outputs": []
    },
    {
      "cell_type": "markdown",
      "source": [
        "Repare que a função não retorna nada, logo especificamos que o retorno da mesma será do tipo `None`"
      ],
      "metadata": {
        "id": "4GZgfPNZF15v"
      }
    },
    {
      "cell_type": "markdown",
      "source": [
        "#### Com parâmetro"
      ],
      "metadata": {
        "id": "w9NLnhd4GEPH"
      }
    },
    {
      "cell_type": "code",
      "source": [
        "def saudacao(nome: str) -> str:\n",
        "  '''Retorna uma string formatada e personalizada'''\n",
        "  return f'Olá {nome}'"
      ],
      "metadata": {
        "id": "6kgxRMe8GIRk"
      },
      "execution_count": null,
      "outputs": []
    },
    {
      "cell_type": "markdown",
      "source": [
        "Agora, a função possui um parâmetro chamado `nome` que espera receber uma `string` e esta função retornará uma `string` formatada."
      ],
      "metadata": {
        "id": "l1hs7fwKGoh8"
      }
    },
    {
      "cell_type": "markdown",
      "source": [
        "### Parâmetros"
      ],
      "metadata": {
        "id": "L9JARvScm2oS"
      }
    },
    {
      "cell_type": "markdown",
      "source": [
        "Vamos falar um pouco mais sobre parâmetros..."
      ],
      "metadata": {
        "id": "-l4CDrrKHAbL"
      }
    },
    {
      "cell_type": "markdown",
      "source": [
        "#### Posicionais"
      ],
      "metadata": {
        "id": "sMydOUaiHIHL"
      }
    },
    {
      "cell_type": "markdown",
      "source": [
        "Simplesmente seguem a ordem em que são declarados, logo, na chamada da função os argumentos devem ser passados na mesma ordem em que os parâmetros aparecem.\n",
        "\n",
        "__OBS__: Devemos fornecer / informar os argumentos na mesma quantidade de parâmetros que função possuir."
      ],
      "metadata": {
        "id": "tL-7kfNWHKww"
      }
    },
    {
      "cell_type": "code",
      "source": [
        "def imprime_nome(nome: str, idade: int) -> str:\n",
        "  '''Imprime o nome e a idade de uma pessoa\n",
        "\n",
        "  params:\n",
        "    nome - uma string literal\n",
        "    idade - um inteiro positivo\n",
        "\n",
        "  return:\n",
        "    Uma string formatada com o nome e a idade da pessoa\n",
        "  '''\n",
        "  return f'{nome.title()} tem {idade} anos'"
      ],
      "metadata": {
        "id": "bUJhfiQPm4Wk"
      },
      "execution_count": null,
      "outputs": []
    },
    {
      "cell_type": "markdown",
      "source": [
        "##### Mais exemplos"
      ],
      "metadata": {
        "id": "Nn9XIt2wI1MU"
      }
    },
    {
      "cell_type": "markdown",
      "source": [
        "Descomente as linhas para poder testar"
      ],
      "metadata": {
        "id": "02dD2odwI9Mc"
      }
    },
    {
      "cell_type": "code",
      "source": [
        "# Veja o que é impresso\n",
        "# imprime_nome('rafael', 46)\n",
        "\n",
        "# Veja o que acontece\n",
        "# imprime_nome('rafael')\n",
        "\n",
        "# Veja o que acontece quando atribuímos o retorno\n",
        "# de uma função à uma variável\n",
        "# print(imprime_nome('Aluno', 18))\n",
        "# aluno = imprime_nome('Rute', 56)\n",
        "# print(type(aluno))\n",
        "# print(aluno)"
      ],
      "metadata": {
        "id": "QB1Xlj7dnDg8",
        "colab": {
          "base_uri": "https://localhost:8080/"
        },
        "outputId": "c30df734-4f83-4198-8dc3-770ce10c7d2f"
      },
      "execution_count": null,
      "outputs": [
        {
          "output_type": "stream",
          "name": "stdout",
          "text": [
            "<class 'str'>\n",
            "Rute tem 56 anos\n"
          ]
        }
      ]
    },
    {
      "cell_type": "markdown",
      "source": [
        "Realizando 3 chamadas à função `imprime_nome`, mas passando argumentos diferentes"
      ],
      "metadata": {
        "id": "rwT2SKIWJf1v"
      }
    },
    {
      "cell_type": "code",
      "source": [
        "print(imprime_nome('Rafael', 46))\n",
        "print(imprime_nome('Allan', 31))\n",
        "print(imprime_nome('Beatriz', 11))"
      ],
      "metadata": {
        "id": "NtrcPLGOnSFv",
        "colab": {
          "base_uri": "https://localhost:8080/"
        },
        "outputId": "f519f696-fef8-4d52-ff3b-14d0639e45bc"
      },
      "execution_count": null,
      "outputs": [
        {
          "output_type": "stream",
          "name": "stdout",
          "text": [
            "Rafael tem 46 anos\n",
            "Allan tem 31 anos\n",
            "Beatriz tem 11 anos\n"
          ]
        }
      ]
    },
    {
      "cell_type": "code",
      "source": [
        "def soma(parcela1: int, parcela2: int) -> int:\n",
        "  '''Retorna a soma de 2 números\n",
        "\n",
        "  params: \n",
        "    parcela1: número inteiro\n",
        "    parcela2: número inteiro\n",
        "\n",
        "  return:\n",
        "    número inteiro\n",
        "  '''\n",
        "  return parcela1 + parcela2"
      ],
      "metadata": {
        "id": "XxcqqSriLMGp"
      },
      "execution_count": null,
      "outputs": []
    },
    {
      "cell_type": "code",
      "source": [
        "print(soma.__doc__)"
      ],
      "metadata": {
        "colab": {
          "base_uri": "https://localhost:8080/"
        },
        "id": "NaB2xcLmIgI0",
        "outputId": "83111419-4f83-4046-9941-f32f4888237a"
      },
      "execution_count": null,
      "outputs": [
        {
          "output_type": "stream",
          "name": "stdout",
          "text": [
            "Retorna a soma de 2 números\n",
            "\n",
            "  params: \n",
            "    parcela1: número inteiro\n",
            "    parcela2: número inteiro\n",
            "\n",
            "  return:\n",
            "    número inteiro\n",
            "  \n"
          ]
        }
      ]
    },
    {
      "cell_type": "code",
      "source": [
        "resultado = soma(3, 4)\n",
        "print(f'O resultado da soma foi {resultado}')\n",
        "# print(f'O resultado da soma foi {soma(3, 4)}')"
      ],
      "metadata": {
        "id": "UctiUa7ALjpy",
        "colab": {
          "base_uri": "https://localhost:8080/"
        },
        "outputId": "50906bca-998c-499d-8193-e2524cce854b"
      },
      "execution_count": null,
      "outputs": [
        {
          "output_type": "stream",
          "name": "stdout",
          "text": [
            "O resultado da soma foi 7\n"
          ]
        }
      ]
    },
    {
      "cell_type": "markdown",
      "source": [
        "#### Parâmetros com valores padrão"
      ],
      "metadata": {
        "id": "U4ZjfSOfn3QZ"
      }
    },
    {
      "cell_type": "markdown",
      "source": [
        "São também conhecidos como parâmetros nomeados.\n",
        "\n",
        "A assinatura da função `produzir_roupa` possui seus parâmetros com valores padrão, repare:\n",
        "\n",
        "* `peca = 'Camiseta'`\n",
        "* `tamanho = 'M'`\n",
        "* `cor = 'Branca'`\n",
        "\n",
        "Então, já podemos concluir que se esta função for chamada sem nenhum argumento, estes valores padrão serão impressos."
      ],
      "metadata": {
        "id": "6f3a_4mEKmhs"
      }
    },
    {
      "cell_type": "code",
      "source": [
        "def produzir_roupa(peca: str = 'Camiseta', tamanho: str = 'M', \n",
        "                   cor: str = 'Branca') -> str:\n",
        "  print(f'{peca} {cor} - Tamanho: {tamanho}')"
      ],
      "metadata": {
        "id": "KNJ6_1arn56y"
      },
      "execution_count": null,
      "outputs": []
    },
    {
      "cell_type": "code",
      "source": [
        "# produzir_roupa('Short', 'G', 'Azul')\n",
        "# produzir_roupa()\n",
        "\n",
        "# Se quisermos omitir um argumento, devemos passar os demais nomeados\n",
        "# produzir_roupa(tamanho='P', cor='Preta')\n",
        "# produzir_roupa('Saia', 'PP')"
      ],
      "metadata": {
        "id": "YFUrWfexps1T",
        "colab": {
          "base_uri": "https://localhost:8080/"
        },
        "outputId": "07e4bacb-43a2-446e-9438-68d1c9634e76"
      },
      "execution_count": null,
      "outputs": [
        {
          "output_type": "stream",
          "name": "stdout",
          "text": [
            "Saia Branca - Tamanho: PP\n"
          ]
        }
      ]
    },
    {
      "cell_type": "markdown",
      "source": [
        "##### Mais exemplos"
      ],
      "metadata": {
        "id": "goSe-AODM477"
      }
    },
    {
      "cell_type": "markdown",
      "source": [
        "Vamos refatorar a função `saudacao()` e colocar um valor padrão para seu parâmetro `nome`"
      ],
      "metadata": {
        "id": "KKIDqzHWNLb4"
      }
    },
    {
      "cell_type": "code",
      "source": [
        "def saudacao(nome: str = 'usuario') -> str:\n",
        "  '''Retorna uma saudação pesonalizada quando um nome é informado\n",
        "\n",
        "  param:\n",
        "    nome : string literal\n",
        "  \n",
        "  return:\n",
        "    uma mensagem de saudação personalizada'''\n",
        "  return f'Olá {nome}'"
      ],
      "metadata": {
        "id": "_1trq6VqR21V"
      },
      "execution_count": null,
      "outputs": []
    },
    {
      "cell_type": "code",
      "source": [
        "print(saudacao('Rafael'))"
      ],
      "metadata": {
        "id": "H6SIXom4Sf8h",
        "colab": {
          "base_uri": "https://localhost:8080/"
        },
        "outputId": "0a5bd123-ef88-4a12-8d36-f315d3df52d3"
      },
      "execution_count": null,
      "outputs": [
        {
          "output_type": "stream",
          "name": "stdout",
          "text": [
            "Olá Rafael\n"
          ]
        }
      ]
    },
    {
      "cell_type": "code",
      "source": [
        "print(saudacao())"
      ],
      "metadata": {
        "id": "DWjPVDl7SigT",
        "colab": {
          "base_uri": "https://localhost:8080/"
        },
        "outputId": "c147a261-20b6-4087-cff1-a1e733609d89"
      },
      "execution_count": null,
      "outputs": [
        {
          "output_type": "stream",
          "name": "stdout",
          "text": [
            "Olá usuario\n"
          ]
        }
      ]
    },
    {
      "cell_type": "markdown",
      "source": [
        "__ATENÇÃO__ : Parâmetros nomeados devem vir __SEMPRE__ após os parâmetros posicionais. Esta é uma restrição sintática!\n",
        "\n",
        "__OBS__ : Quando se tem um parâmetro nomeado, todos os parâmetros subsequentes devem ser nomeados também."
      ],
      "metadata": {
        "id": "eCW0yXCZS1OI"
      }
    },
    {
      "cell_type": "markdown",
      "source": [
        "Repare que nesta definição da função soma, o _Python_ já reclamou pois há um parâmetro nomeado antes de um parâmetro posicional.\n",
        "\n",
        "Os valores de parâmetro padrão são avaliados da esquerda para a direita quando a definição da função é executada. Isso significa dizer que a expressão é avaliada uma vez, quando a função é definida, e que o mesmo valor \"pré-calculado\" é usado para cada chamada.\n",
        "\n"
      ],
      "metadata": {
        "id": "PhuuzoTiTRVf"
      }
    },
    {
      "cell_type": "code",
      "source": [
        "def soma(parcela1: int = 0, parcela2: int) -> int:\n",
        "  return parcela1 + parcela2"
      ],
      "metadata": {
        "id": "zkAhps6ETBiy"
      },
      "execution_count": null,
      "outputs": []
    },
    {
      "cell_type": "code",
      "source": [
        "def soma(parcela1: int, parcela2: int = 0) -> int:\n",
        "  return parcela1 + parcela2"
      ],
      "metadata": {
        "id": "NofnV8hdRbM6"
      },
      "execution_count": null,
      "outputs": []
    },
    {
      "cell_type": "code",
      "source": [
        "print(soma(3, 4))"
      ],
      "metadata": {
        "id": "a-GCyQx8RgGj",
        "colab": {
          "base_uri": "https://localhost:8080/"
        },
        "outputId": "a08ec5c5-8f7a-4b17-e48f-dfc1b5391f0d"
      },
      "execution_count": null,
      "outputs": [
        {
          "output_type": "stream",
          "name": "stdout",
          "text": [
            "7\n"
          ]
        }
      ]
    },
    {
      "cell_type": "code",
      "source": [
        "print('Rafael', 'Puyau', sep='\\n')"
      ],
      "metadata": {
        "id": "yEHlXZFhRrno",
        "colab": {
          "base_uri": "https://localhost:8080/"
        },
        "outputId": "ad0348c5-0223-4467-fc3f-e3c74821866f"
      },
      "execution_count": null,
      "outputs": [
        {
          "output_type": "stream",
          "name": "stdout",
          "text": [
            "Rafael\n",
            "Puyau\n"
          ]
        }
      ]
    },
    {
      "cell_type": "markdown",
      "source": [
        "### Funções com retornos múltiplos"
      ],
      "metadata": {
        "id": "Txh1tWFUj0Kj"
      }
    },
    {
      "cell_type": "markdown",
      "source": [
        "Uma função pode retornar mais de um valor que neste caso será uma __tupla__. \n",
        "\n",
        "Já vimos em aula anterior como trabalhar com tuplas e aprendemos a desempacotar seus valores. \n",
        "\n",
        "Veja o exemplo abaixo:"
      ],
      "metadata": {
        "id": "Oo7vl1MQj2wv"
      }
    },
    {
      "cell_type": "code",
      "source": [
        "def situacao_do_aluno(nota1: float, nota2: float) -> tuple:\n",
        "  media = (nota1 + nota2) / 2\n",
        "  situacao = 'Aprovado' if media > 6.99 else 'Reprovado'\n",
        "  \n",
        "  return media, situacao"
      ],
      "metadata": {
        "id": "-k3jONUEkSQu"
      },
      "execution_count": null,
      "outputs": []
    },
    {
      "cell_type": "markdown",
      "source": [
        "Descomente as linhas para ver o detalhamento do que está acontecendo"
      ],
      "metadata": {
        "id": "LFvQ4LtxSwSp"
      }
    },
    {
      "cell_type": "code",
      "source": [
        "print(situacao_do_aluno(7, 8))\n",
        "print(type(situacao_do_aluno(7, 8)))\n",
        "media_aluno, situacao_academica = situacao_do_aluno(7, 8)\n",
        "print(f'O aluno A obteve média {media_aluno:.1f} e está {situacao_academica.lower()}')"
      ],
      "metadata": {
        "id": "8fq9orFrkyA2",
        "colab": {
          "base_uri": "https://localhost:8080/"
        },
        "outputId": "2e1da524-f7a2-488d-daa1-7993bd409e99"
      },
      "execution_count": null,
      "outputs": [
        {
          "output_type": "stream",
          "name": "stdout",
          "text": [
            "(7.5, 'Aprovado')\n",
            "<class 'tuple'>\n",
            "O aluno A obteve média 7.5 e está aprovado\n"
          ]
        }
      ]
    },
    {
      "cell_type": "code",
      "source": [
        "for media, situacao in [situacao_do_aluno(7, 8), situacao_do_aluno(3, 6)]:\n",
        "  print(media, situacao, sep=' --- ')"
      ],
      "metadata": {
        "id": "ZfFM7VURY-qH",
        "colab": {
          "base_uri": "https://localhost:8080/"
        },
        "outputId": "ac7df890-e507-4793-a8de-8d1ee62ce4d2"
      },
      "execution_count": null,
      "outputs": [
        {
          "output_type": "stream",
          "name": "stdout",
          "text": [
            "7.5 --- Aprovado\n",
            "4.5 --- Reprovado\n"
          ]
        }
      ]
    },
    {
      "cell_type": "code",
      "source": [
        "media_aluno, situacao_academica = situacao_do_aluno(5, 8)\n",
        "print(f'O aluno B obteve média {media_aluno:.1f} e está {situacao_academica.lower()}')"
      ],
      "metadata": {
        "id": "6ZlPyymmlmOn",
        "colab": {
          "base_uri": "https://localhost:8080/"
        },
        "outputId": "dad2f16b-89bc-4287-a099-67729800c817"
      },
      "execution_count": null,
      "outputs": [
        {
          "output_type": "stream",
          "name": "stdout",
          "text": [
            "O aluno B obteve média 6.5 e está reprovado\n"
          ]
        }
      ]
    },
    {
      "cell_type": "markdown",
      "source": [
        "### Palavras reservadas"
      ],
      "metadata": {
        "id": "hNoOsG8Nhk2Z"
      }
    },
    {
      "cell_type": "markdown",
      "source": [
        "#### def"
      ],
      "metadata": {
        "id": "E_LODnIlQd3Q"
      }
    },
    {
      "cell_type": "markdown",
      "source": [
        "É a palavra reservada da linguagem __Python__ que define uma função"
      ],
      "metadata": {
        "id": "oz4n1gM1QgHW"
      }
    },
    {
      "cell_type": "markdown",
      "source": [
        "#### __pass__ ou ..."
      ],
      "metadata": {
        "id": "uMiO-8iXQUa9"
      }
    },
    {
      "cell_type": "markdown",
      "source": [
        "Caso precise definir a assinatura de uma função, ou seja, seu cabeçalho, e definir o corpo da função mais tarde, você deverá usar a palavra reservada __pass__ ou os __...__"
      ],
      "metadata": {
        "id": "OiQh3VjOh8j3"
      }
    },
    {
      "cell_type": "code",
      "source": [
        "def soma(parcela1: int, parcela2: int) -> int:\n",
        "  pass"
      ],
      "metadata": {
        "id": "hhJys-mhiryQ"
      },
      "execution_count": null,
      "outputs": []
    },
    {
      "cell_type": "code",
      "source": [
        "def calcula_imposto(valor: float, percentual: float) -> float:\n",
        "  ..."
      ],
      "metadata": {
        "id": "1lkR6I41izoh"
      },
      "execution_count": null,
      "outputs": []
    },
    {
      "cell_type": "markdown",
      "source": [
        "#### return"
      ],
      "metadata": {
        "id": "G_8g2VN5QmaS"
      }
    },
    {
      "cell_type": "markdown",
      "source": [
        "Quando encontrada, encerra a função naquele momento retornando o valor ou valores para o mesmo ponto em que foi chamada.\n",
        "\n",
        "__ATENÇÃO__ : se houver código após o __return__ este não será executado. Se estiver dentro de um bloco condicional, poderá fazer sentido, mas se não estiver você terá um erro - `Unreacheable code`"
      ],
      "metadata": {
        "id": "389fLsN0Qn0d"
      }
    },
    {
      "cell_type": "code",
      "source": [
        "def saudacao(nome: str) -> str:\n",
        "  return f'Olá {nome}'\n",
        "  print('Seja bem-vindo(a)') # unreacheable code"
      ],
      "metadata": {
        "id": "Y-e2NpOfRTh2"
      },
      "execution_count": null,
      "outputs": []
    },
    {
      "cell_type": "code",
      "source": [
        "def par_ou_impar(numero: int) -> str:\n",
        "  if numero % 2 == 0:\n",
        "    return 'PAR'\n",
        "  else:\n",
        "    return 'ÍMPAR'"
      ],
      "metadata": {
        "id": "bn3-UxlrRiZi"
      },
      "execution_count": null,
      "outputs": []
    },
    {
      "cell_type": "markdown",
      "source": [
        "Código acima refatorado para a __forma pythônica__"
      ],
      "metadata": {
        "id": "pTxh6BhXRv3N"
      }
    },
    {
      "cell_type": "code",
      "source": [
        "def par_ou_impar(numero: int) -> str:\n",
        "  if numero % 2 == 0:\n",
        "    return 'PAR'\n",
        "  return 'ÍMPAR'"
      ],
      "metadata": {
        "id": "daWb44_6Ru7T"
      },
      "execution_count": null,
      "outputs": []
    },
    {
      "cell_type": "code",
      "source": [
        "print(f'O número 8 é {par_ou_impar(8)}')\n",
        "print(f'O número 7 é {par_ou_impar(7)}')"
      ],
      "metadata": {
        "id": "Hb8KA_Z0SFyA",
        "colab": {
          "base_uri": "https://localhost:8080/"
        },
        "outputId": "cf22f1e2-904d-4c41-ca19-4d16ef7b3276"
      },
      "execution_count": null,
      "outputs": [
        {
          "output_type": "stream",
          "name": "stdout",
          "text": [
            "O número 8 é PAR\n",
            "O número 7 é ÍMPAR\n"
          ]
        }
      ]
    },
    {
      "cell_type": "markdown",
      "source": [
        "# Hora de praticar!"
      ],
      "metadata": {
        "id": "AcifJHjbNLdd"
      }
    },
    {
      "cell_type": "markdown",
      "source": [
        "## Atividade 1"
      ],
      "metadata": {
        "id": "rZ8j4aRQNeaC"
      }
    },
    {
      "cell_type": "markdown",
      "source": [
        "IMC = peso / altura ** 2"
      ],
      "metadata": {
        "id": "A_tSFNw-ZcGk"
      }
    },
    {
      "cell_type": "markdown",
      "source": [
        "Crie uma função para calular o IMC de 4 pessoas.\n",
        "\n",
        "__ATENÇÃO__ : Use as seguintes estruturas:\n",
        "\n",
        "* laço de repetição\n",
        "* listas\n",
        "* zip"
      ],
      "metadata": {
        "id": "ev6xD3BmweMf"
      }
    },
    {
      "cell_type": "markdown",
      "source": [
        "### Gabarito"
      ],
      "metadata": {
        "id": "Hqo304ISjHGA"
      }
    },
    {
      "cell_type": "code",
      "source": [
        "def calular_imc(infos: list) -> None:\n",
        "  '''Calcula o IMC de uma lista de pessoas\n",
        "\n",
        "  param:\n",
        "    infos: uma lista com pesos e alturas de pessoas\n",
        "  \n",
        "  return:\n",
        "    impressão na saída padrão com o nome e o IMC de cada pessoa da lista\n",
        "  '''\n",
        "  for nome, altura, peso in infos:\n",
        "    imc: float = peso / altura ** 2\n",
        "    print(f'{nome} _____ {imc:.2f}')"
      ],
      "metadata": {
        "id": "Y0cIO2kxxkls"
      },
      "execution_count": null,
      "outputs": []
    },
    {
      "cell_type": "code",
      "source": [
        "pessoas: list = []\n",
        "alturas: list = []\n",
        "pesos: list = []\n",
        "\n",
        "for _ in range(4):\n",
        "  nome: str = input('Digite o nome: ').title()\n",
        "  altura: float = float(input('Digite a altura: '))\n",
        "  peso: float  = float(input('Digite o peso: '))\n",
        "  pessoas.append(nome)\n",
        "  alturas.append(altura)\n",
        "  pesos.append(peso)\n",
        "\n",
        "dados: list = list(zip(pessoas, alturas, pesos))\n",
        "print('-' * 30)\n",
        "\n",
        "calular_imc(dados)"
      ],
      "metadata": {
        "id": "PqZhw-bbOVLm"
      },
      "execution_count": null,
      "outputs": []
    },
    {
      "cell_type": "markdown",
      "source": [
        "Refatore o código acima para deixar a função calculando apenas o IMC e retornando este valor"
      ],
      "metadata": {
        "id": "BP3eJhTMgYT-"
      }
    },
    {
      "cell_type": "markdown",
      "source": [
        "### Gabarito"
      ],
      "metadata": {
        "id": "F91PF9lcgxxl"
      }
    },
    {
      "cell_type": "code",
      "source": [
        "def calular_imc(peso: float, altura: float) -> float:\n",
        "  '''Calcula o IMC de uma lista de pessoas\n",
        "\n",
        "  param:\n",
        "    peso: número real \n",
        "    altura: número real\n",
        "  \n",
        "  return:\n",
        "    retorna o IMC calculado\n",
        "  '''\n",
        "  return peso / altura ** 2\n",
        "\n",
        "\n",
        "pessoas: list = []\n",
        "alturas: list = []\n",
        "pesos: list = []\n",
        "\n",
        "for _ in range(4):\n",
        "  nome: str = input('Digite o nome: ').title()\n",
        "  altura: float = float(input('Digite a altura: '))\n",
        "  peso: float  = float(input('Digite o peso: '))\n",
        "  pessoas.append(nome)\n",
        "  alturas.append(altura)\n",
        "  pesos.append(peso)\n",
        "\n",
        "dados: list = list(zip(pessoas, alturas, pesos))\n",
        "print('-' * 30)\n",
        "\n",
        "for dado in dados:\n",
        "    nome, altura, peso = dado\n",
        "    imc_calculado = calular_imc(peso, altura)\n",
        "    print(f'{nome.title()} _____ IMC : {imc_calculado:.2f}')\n"
      ],
      "metadata": {
        "id": "We5rNLufgf1U"
      },
      "execution_count": null,
      "outputs": []
    },
    {
      "cell_type": "markdown",
      "source": [
        "## Atividade 2"
      ],
      "metadata": {
        "id": "-uIY-8WsNhqA"
      }
    },
    {
      "cell_type": "markdown",
      "source": [
        "Faça uma função para calcular o valor/hora de um funcionário"
      ],
      "metadata": {
        "id": "Z-HKZQXx3Z6h"
      }
    },
    {
      "cell_type": "markdown",
      "source": [
        "### Gabarito"
      ],
      "metadata": {
        "id": "7H0Vq7AgjcJ0"
      }
    },
    {
      "cell_type": "code",
      "source": [
        "def calcular_valor_hora(salario: float, dias: int, horas: int = 8) -> float:\n",
        "  '''Calcula o valor/hora de um funcionário\n",
        "  \n",
        "  params:\n",
        "    salario: número real\n",
        "    dias: número inteiro positivo\n",
        "    horas: número inteiro positivo\n",
        "  return:\n",
        "    retorna um número real correspondente ao valor/hora de um funcionário\n",
        "  '''\n",
        "  return salario / (dias * horas)"
      ],
      "metadata": {
        "id": "mvdPL0wG4eS2"
      },
      "execution_count": null,
      "outputs": []
    },
    {
      "cell_type": "code",
      "source": [
        "nome: str = input('Nome do funcionário: ').title()\n",
        "salario: float = float(input('Salário R$: '))\n",
        "dias: int = int(input('Dias por mês: '))\n",
        "horas: str = input('Horas trabalhadas: ')\n",
        "\n",
        "if horas == '' or not horas.isdigit():\n",
        "  print(f'O valor/hora do funcionário {nome} é de R${calcular_valor_hora(salario, dias):.2f}')\n",
        "else:\n",
        "  print(f'O valor/hora do funcionário {nome} é de R${calcular_valor_hora(salario, dias, int(horas)):.2f}')"
      ],
      "metadata": {
        "id": "Zc4ybgi4OUIy",
        "colab": {
          "base_uri": "https://localhost:8080/"
        },
        "outputId": "6fe3303c-abea-44a7-b074-c1acbdce219d"
      },
      "execution_count": null,
      "outputs": [
        {
          "output_type": "stream",
          "name": "stdout",
          "text": [
            "Nome do funcionário: rafael\n",
            "Salário R$: 1000\n",
            "Dias por mês: 22\n",
            "Horas trabalhadas: a\n",
            "O valor/hora do funcionário Rafael é de R$5.68\n"
          ]
        }
      ]
    },
    {
      "cell_type": "markdown",
      "source": [
        "## Atividade 3"
      ],
      "metadata": {
        "id": "JsyVc4IkNq-w"
      }
    },
    {
      "cell_type": "markdown",
      "source": [
        "Faça uma função que retorne quantas letras possui uma palavra. \n",
        "\n",
        "Se for passado uma frase, a função deverá retornar o número de letras, espaços vazios e quantos sinais de pontuação"
      ],
      "metadata": {
        "id": "tCFr6R1f5lbI"
      }
    },
    {
      "cell_type": "markdown",
      "source": [
        "### Gabarito"
      ],
      "metadata": {
        "id": "psQ5II2hjgaW"
      }
    },
    {
      "cell_type": "code",
      "source": [
        "def conta_tudo(txt: str) -> tuple:\n",
        "  '''Conta letras, espaços e pontuações numa palavra ou frase\n",
        "  \n",
        "  param:\n",
        "    txt: uma string literal\n",
        "    \n",
        "  return:\n",
        "    a contagem de quantas letras, espaços vazios e pontuações foram encontrados\n",
        "  '''\n",
        "  conta_letra = 0\n",
        "  conta_espaco = 0\n",
        "  conta_pontuacao = 0\n",
        "  for ch in txt:\n",
        "    if ch == ' ':\n",
        "      conta_espaco += 1\n",
        "    elif ch in ',.!?:':\n",
        "      conta_pontuacao += 1\n",
        "    else:\n",
        "      conta_letra += 1\n",
        "  \n",
        "  return conta_letra, conta_espaco, conta_pontuacao\n",
        "\n",
        "palavra_ou_frase = input('Escreve uma palavra ou frase: ')\n",
        "letras, espacos, pontuacao = conta_tudo(palavra_ou_frase)\n",
        "print(f'A string passada tem:')\n",
        "print(f'\\t- {letras} letra(s)\\n\\t- {espacos} espaço(s) em branco\\n\\t- {pontuacao} pontuação(ões)')"
      ],
      "metadata": {
        "id": "IWlwN0Nh6gOA",
        "colab": {
          "base_uri": "https://localhost:8080/"
        },
        "outputId": "c46a237c-37cc-423d-ee02-0121463992e9"
      },
      "execution_count": null,
      "outputs": [
        {
          "output_type": "stream",
          "name": "stdout",
          "text": [
            "Escreve uma palavra ou frase: Rafael !\n",
            "A string passada tem:\n",
            "\t- 6 letra(s)\n",
            "\t- 1 espaço(s) em branco\n",
            "\t- 1 pontuação(ões)\n"
          ]
        }
      ]
    },
    {
      "cell_type": "markdown",
      "source": [
        "## Atividade 4"
      ],
      "metadata": {
        "id": "umK_102uNkOh"
      }
    },
    {
      "cell_type": "markdown",
      "source": [
        "Faça um programa que onde o usuário deverá informar qual operação ele deseja realizar através dos sinais dessas operações, ou seja:\n",
        "\n",
        "* `+` para soma\n",
        "* `-` para subtração\n",
        "* `*` para multiplicação\n",
        "* `/` para divisão\n",
        "\n",
        "E depois informe 2 números inteiros.\n",
        "\n",
        "__Atenção__:\n",
        "\n",
        "* use bloco condicional para chamar a função apropriada\n",
        "* crie 4 funções das operações matemáticas básicas que retornem seus resultados\n",
        "* crie docstring para cada função\n",
        "* utilize as _annotations_ também\n",
        "* a função de divisão deverá informar ao usuário uma mensagem de erro se o _divisor_ for igual a zero\n"
      ],
      "metadata": {
        "id": "j5eC1oguTjj6"
      }
    },
    {
      "cell_type": "markdown",
      "source": [
        "### Gabarito"
      ],
      "metadata": {
        "id": "Iuw4vRHIVD5j"
      }
    },
    {
      "cell_type": "code",
      "source": [
        "# Definição das funções\n",
        "def soma(numero1: int, numero2: int) -> int:\n",
        "  '''Soma 2 números inteiros\n",
        "  \n",
        "  params:\n",
        "    numero1: número inteiro positivo\n",
        "    numero2: número inteiro positivo\n",
        "    \n",
        "  return:\n",
        "    retorna a soma dos números informados\n",
        "  '''\n",
        "  return numero1 + numero2\n",
        "\n",
        "def subtracao(numero1: int, numero2: int) -> int:\n",
        "  '''Subtrai 2 números inteiros\n",
        "  \n",
        "  params:\n",
        "    numero1: número inteiro positivo\n",
        "    numero2: número inteiro positivo\n",
        "\n",
        "  return:\n",
        "    retorna a subtração dos números informados\n",
        "  '''\n",
        "  return numero1 - numero2\n",
        "\n",
        "def multiplicacao(numero1: int, numero2: int) -> int:\n",
        "  '''Multiplica 2 números inteiros\n",
        "\n",
        "  params:\n",
        "    numero1: número inteiro positivo\n",
        "    numero2: número inteiro positivo\n",
        "  \n",
        "  return:\n",
        "    retorna a multiplicação dos números informados\n",
        "  '''\n",
        "  return numero1 * numero2\n",
        "\n",
        "def divisao(numero1: int, numero2: int) -> tuple:\n",
        "  '''Divide 2 números inteiros\n",
        "\n",
        "  params:\n",
        "    numero1: número inteiro positivo\n",
        "    numero2: número inteiro positivo\n",
        "  '''\n",
        "  if numero2 == 0:\n",
        "    return f'Não é possível divisão por {numero2}', False\n",
        "  return numero1 / numero2, True\n",
        "\n",
        "# Programa principal\n",
        "op: str = input('Qual operação deseja realizar? [-+/*] ')\n",
        "num1: int = int(input('Número 1: '))\n",
        "num2: int = int(input('Número 2: '))\n",
        "\n",
        "if op == '+':\n",
        "  print(f'A soma de {num1} e {num2} foi {soma(num1, num2)}')\n",
        "elif op == '-':\n",
        "  print(f'A subtração de {num1} e {num2} foi {subtracao(num1, num2)}')\n",
        "elif op == '*':\n",
        "  print(f'A multiplicação de {num1} e {num2} foi {multiplicacao(num1, num2)}')\n",
        "elif op == '/':\n",
        "  result, tudo_certo = divisao(num1, num2)\n",
        "  if tudo_certo:\n",
        "    print(f'A divisão de {num1} e {num2} foi {result}')\n",
        "  else:\n",
        "    print(result)\n"
      ],
      "metadata": {
        "id": "zWN9G-rcOQ1U"
      },
      "execution_count": null,
      "outputs": []
    }
  ]
}