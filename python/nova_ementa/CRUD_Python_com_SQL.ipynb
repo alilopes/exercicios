{
  "nbformat": 4,
  "nbformat_minor": 0,
  "metadata": {
    "colab": {
      "provenance": []
    },
    "kernelspec": {
      "name": "python3",
      "display_name": "Python 3"
    },
    "language_info": {
      "name": "python"
    }
  },
  "cells": [
    {
      "cell_type": "markdown",
      "source": [
        "# __C__reate __R__ead __U__pdate __D__elete com Python e MariaDB"
      ],
      "metadata": {
        "id": "6o_hdYzEcraN"
      }
    },
    {
      "cell_type": "markdown",
      "source": [
        "Agora que já temos um certo conhecimento na linguagem Python e na linguagem SQL ANSI, vamos unir estas duas linguagens e construir um mini sistema para realizarmos um CRUD com o nosso banco de dados - __INFINITY__.\n",
        "\n",
        "> _CRUD é um acrônimo para __C__reate, __R__ead, __U__pdate e __D__elete_\n",
        "\n",
        "Antes de colocarmos as mãos no código, precisamos preparar no nosso ambiente de desenvolvimento."
      ],
      "metadata": {
        "id": "mCkz4gn1cahb"
      }
    },
    {
      "cell_type": "markdown",
      "source": [
        "## Checklist"
      ],
      "metadata": {
        "id": "mYYuU4hWtcPY"
      }
    },
    {
      "cell_type": "markdown",
      "source": [
        "1.   Verifique se você tem, em sua máquina, um servidor de Banco de Dados instalado (pode ser o MySQL ou o MariaDB - este é um _fork_ do MySQL)\n",
        "\n",
        "2.   Confirme se o MySQL Workbench está instalado e configurado com a conexão ao servidor\n",
        "\n",
        "3.   Vá para sua pasta de trabalho (onde você está escrevendo seus códigos em Python)\n",
        "\n",
        "4.   Verifique se seu ambiente virtual do python está ativo. Caso não apareça, chame-o através do comando abaixo de acordo com seu sistema operacional:\n",
        "\n",
        "      a. __Windows__ : `<nome do ambiente virtual>\\Scripts\\activate`\n",
        "\n",
        "      b. __Distros Linux e Mac__ : source `<nome do ambiente virtual>/bin/activate`\n",
        "\n",
        "5.   Agora abra o seu editor de código preferido. Caso seja o VS Code, digite o seguinte comando no CMD (prompt de comando) do Windows: `code .`\n",
        "\n",
        "6.   Na próxima seção vamos ver as bibliotecas necessárias para este projeto"
      ],
      "metadata": {
        "id": "sYc1B5Wetemt"
      }
    },
    {
      "cell_type": "markdown",
      "source": [
        "## Instalação das bibliotecas python"
      ],
      "metadata": {
        "id": "uenABLfEzkjR"
      }
    },
    {
      "cell_type": "markdown",
      "source": [
        "### MySQL Connector Python"
      ],
      "metadata": {
        "id": "SfBt2azTPH8G"
      }
    },
    {
      "cell_type": "markdown",
      "source": [
        "Aprendemos as principais instruções SQL de 4 categorias: __DDL__, __DML__, __TCL__ e __DQL__. E as utilizamos diretamente num cliente SQL como o _MySQL Workbench_ e _Beekeeper Studio_.\n",
        "\n",
        "Agora chegou a hora de executarmos estas instruções SQL diretamente em nosso código __python__.\n",
        "\n",
        "Para isso, precisamos instalar via _pip_ a biblioteca que fará conexão com o banco de dados __MySQL__. \n",
        "\n",
        "```\n",
        "pip install mysql-connector-python\n",
        "```\n",
        "\n",
        "Agora podemos abrir o nosso editor de código e realizar a conexão com o banco de dados:\n",
        "\n",
        "```\n",
        "import mysql.connector\n",
        "\n",
        "try:\n",
        "  conn = mysql.connector.connect(\n",
        "    host='127.0.0.1',\n",
        "    port=3306,\n",
        "    user='root',\n",
        "    passwd='aluno99',\n",
        "    db='INFINITY'\n",
        "  )\n",
        "except Exception as err:\n",
        "  raise err('Algo deu errado')\n",
        "else:\n",
        "  print(conn.is_connected())\n",
        "finally:\n",
        "  print('Nossa 1ª conexão ao Banco de Dados')\n",
        "```\n",
        "\n",
        "Repare que com o código acima conseguimos nos conectar ao Banco de Dados, porém, passamos a senha em _\"texto plano\"_ o que __definitivamente__ não é uma boa prática!\n",
        "\n",
        "Então como podemos resolver esta questão?\n",
        "\n",
        "__R__: Podemos solicitar que o usuário digite sua senha para conexão. Vamos usar a função `input()`.\n",
        "\n",
        "```\n",
        "import mysql.connector\n",
        "\n",
        "try:\n",
        "  conn = mysql.connector.connect(\n",
        "    host='127.0.0.1',\n",
        "    port=3306,\n",
        "    user='root',\n",
        "    passwd=input('Senha: '),\n",
        "    db='INFINITY'\n",
        "  )\n",
        "except Exception as err:\n",
        "  raise err('Algo deu errado')\n",
        "else:\n",
        "  print(conn.is_connected())\n",
        "finally:\n",
        "  print('Nossa 1ª conexão ao Banco de Dados')\n",
        "```\n",
        "\n",
        "A função `input()` gera _eco_ na saída padrão, ou seja, tudo que é digitado aparece.\n",
        "\n",
        "Não podemos utilizar a função `input()`. E agora?\n",
        "\n",
        "Para nossa sorte, o __Python__ disponibiliza o módulo __getpass__ que possui uma função de mesmo nome. \n",
        "\n",
        "Vamos ver na próxima seção como isso funciona."
      ],
      "metadata": {
        "id": "UhiIZpEkaYO7"
      }
    },
    {
      "cell_type": "markdown",
      "source": [
        "### Get Pass"
      ],
      "metadata": {
        "id": "fhqNCf0pKDCt"
      }
    },
    {
      "cell_type": "markdown",
      "source": [
        "O _getpass_ é um módulo que já vem disponível no Python 3.x.\n",
        "\n",
        "Caso seja necessário podemos solicitar que o usuário digite sua senha para que possamos conectar ao banco de dados. Desta forma, o nosso script irá solicitar através de um prompt a senha ao usuário.\n",
        "\n",
        "> __ATENÇÃO__ : Não use a função `input` porque ela deixa visível os caracteres digitados!\n",
        "\n",
        "Neste caso, é extremamente apropriado o uso do módulo `getpass` que ao contrário da função `input`, não deixa visível - não gera _eco_ - os caracteres digitados pelo usuário.\n",
        "\n",
        "__Exemplo__\n",
        "\n",
        "```\n",
        "from getpass import getpass\n",
        "\n",
        "passwd = getpass('Enter your password: ')\n",
        "\n",
        "print(f'Typed password: {passwd}')\n",
        "```\n",
        "\n",
        "![Screenshot from 2022-09-26 16-16-40.png](data:image/png;base64,iVBORw0KGgoAAAANSUhEUgAAAd0AAACACAYAAABOWrPzAAAABHNCSVQICAgIfAhkiAAAABl0RVh0U29mdHdhcmUAZ25vbWUtc2NyZWVuc2hvdO8Dvz4AAAAtdEVYdENyZWF0aW9uIFRpbWUATW9uIDI2IFNlcCAyMDIyIDA0OjE2OjQwIFBNIC0wM+xnFd0AACAASURBVHic7J13XJRH+sC/W1hYmkgTDVZiVxAr2EVjYm+xJJpYEvNLchfvLsXcpZtibLFFc5pLT5TYk9iisWtsoAJKUxAsiFIEqcuy5ffHysK6u5SlJpnv5+NHdmaed56Zed95po+kma+fHoFAIBAIBLWOtL4VEAgEAoHgr4IwugKBQCAQ1BHC6AoEAoFAUEcIoysQCAQCQR0hjK5AIBAIBHWEMLoCgUAgENQRwugKBAKBQFBHCKMrEAgEAkEdIYyuQCAQCAR1hDC6AoFAIBDUEcLoCgQCgUBQRwijKxAIBAJBHSGMrkAgEAgEdYQwugKBQCAQ1BHy8jwlEglPzXiS/v2DKSxUceDgIXbv/hWdTldX+gkEAoFA8KehXKP7ztv/4bm5c4y/mzX1wa9NG1auWmNbbBIJ+V36UtSyA3q5otRdq0GRmoTzhSNItBrbni0QNDCK2vdDnnoFWU5afasiEAgaCJLyLrE/F/Y7Pj5NTNy0Wi2DhjxKUlJylSPLCR5JXvcQq/7KhEga7/u+ys+tC/R2Cu48/RZ6qRSfbz9EolZVKJPxr02o2/QAwOO/c7CPOVbbalaayqTn3pQF5A+YDkCjze/idHxDrelT2GM0+YNmovHxQ+fgDBLDzIfP/O5IC3PqTTdb4insPoq84c9T/FBHvBaPwe5mbK3o9iC2vKO1hdbRlYKufbFLT8Hh6sVyw6Y+vwh0Opp+/kYdaVd9GlJe1wT1XVelfnIRvUJp5l6X309dYXVO187OjvT0DJavWE1xcTFznnmeN996D5lMRs+e3W2KrKBj73L9Cx/2R6dwsOnZtU1+pyB0Do44XTr1h//AoHLpMRmNKPt3DaNuHUjWzBWoWweiU7oaDW551JVutsSTO+YVih/qWEsaWachvaMFXfuS23MYOgfHetWjtmhIeS34Y2F1eFmj0aDRaGjZsiW/7NzDhPFjiYwytFg7dexgU2Q6pXMFISRkjZyFpFhtQViHXXoKzpFHLfvXInqpjPxuA5FoNThHNpzeqq00tPQUdegPEgkAdimxOB35Fom2GACJuqA+VfvD0NDK9M+MyOuax23Dv0FmMEf3JvwHnYtnPWtUe1g1unq9nszMTN597wOysrJxc3Nj+pNTAWjZskWtKVT00MNW/VRtulDUoh2eOz4DvdVR8RqnsH13tM5uOEafQlqQW2fx1haVTY9DzFEkxUUA2CVH1po+OqVraZwR+3A8vbVCmbrSra7iqS5/tne0ISPyuuZRnt9t/Dt35D/QudSjMrVMuQupPL086d+/L0WqIoqKisjKyuLu3Sw8PTzqSj8z1E1bU+zRFLuMW3UUo4S8wMGg1+F84YjFEDpHN3LGv46q6zD0dvbYx5+k0ZZ3K3yy2q8n+QOfQt0qAJ2LF9KCeygSw3Devw67lNJ5DL29I7cXhRuGOnVafP7dy2SeU90qgIxXtgEgv5OI94eP2pwenXNjbn8cZuYuz7iGIum8xScWt+hK+ms7AHA6sRGno99x7/G3UbfujkStQhn2E41+WgQ6rVGmoO8Usp9YaPas3FH/JHfUP42/y87p1pVutsST9vZ+NN5tzNzTX99p8tt74UjkqZfRNvLmzvvHQSoDvY4m7wxAln3HGE7v4Mztj88ah7e9PxiOPO2qxbgrfEelUm69sATF7WQa//o9OQPGUeTbFr1UiuLOdVxO70Vx57qJSObY5yhq3g733V/hkBxj9shi7+akT/4HdukpeG1eAUDWI09S2M506il7yGSyh0w2/lbcSsRzx38tpkIvk5Pb+1EK2wWiUzoju5eBS9hvKBMsN3Y07j7k9nqEoof80NsrkRbkYX89Dpez+5Hl3zMLn/r8IuRZaXhuXV0mHhdk99JxPbOvwrlnAxXXByVpKQiaTGGvcWiatUMvVyDLSkVxNRzH339E8UADLvfRv5E7+l8ANP56HnYp8eSMeQV1297oFY7Ism/j+vMSHCJ+BaCw22NkPWNY0GofexyPz2Ybn3Xr0wTj301f9UdSVDpaZGtdZQtVzQNbKGrbB5X/I6gf7o22kTd6RzckhTnIbyfgGPYTjqe2WOygFXYfRUHfKRT7dkandEFamGvQLTEM58NfIcu8WSMylrBqdF1dXYmIiGJA/37cvn2HiMgotm77iWfmzKRHj0CCg3pz6vTZKmRPzaFzrLtmkKpNZzSNm6BMiER+L9PMXy+zI/Pv31LcvHOpjP8wNM3ambzsD5L3yP+RM+ZV47AqgLaRN4XdR6HqOozG3/wTh6jfAJAUFWAffxJV58EglaFuF4xD5D6jXFH7fsa/HaIOVCs91aXYtzOZf/sGrZsPAHqFkvwhs5EUF+G6c1mNx/dH1U12Lw2H6COoug4FiZTC7qNxPvSl0b/Q/xGjwVUkR5RjcCtfphpXDzLHP4/OwRH7G5fRKZ0o8n0Y9YQX8fh5HYrUZGNYx+jTFDVvR0HH3haNbkHHXoZwMWeMbsqESORZhpXaRc3bom7mh8PVS9ill1ZG8twsq/plDZ+Oupkfdmk30Dqr0Lj7kDV8BrL8eya6AaibtiJz7HPo5Qrs0m4gv5lAsddDFHTqQ1GrjnhuW4Ms565ZHFpHF7KGT6fIty2KtJvoigop9mjK3ceexnP7WhS3k81kylKZvNYrlGS+8CXqh03XsGi8W6Pxbo26TQ+8PxhuNY6i9v25N+0jdMrSek7j2QKNV6tydasIW+sqm+KqZh5UlntPfozG03TkVe/sjvrh3qgf7k3xQ51otOU9E/+cMa+QN/wFEzedkxs6JzeKfTuiSDiL8gEDaouMNawa3Zf/9RJffPkNubmG4ZOMDMMLtvrT//LZ2pWs+XQFT818lpiYmllZJtFqkObnINFXvAdYoqm7Od2S1dbO5w9Z9C/oO8XkJbaPPY60MJfCbo8aejEWKGrbx2hwJdpiHE9uRp56GU3TduT3m4bezp7sGUvw+vBR43YTh4sHDEYXKGrf18Toqssa3YvlG92K0iMpzKPxN4aeZkG/aRS1DSr3eQ+ibhWANDcT50NfUdS2N8XNuxie1XeqiWGzv3yqNJ7eEyjqNAgA5fk9OETtL9WnzJxuXelmSzyu2xeidzCsWbg36S3jnJTrL0uR3U0xhpNmpxr/djy5yWB0gcJe40yMrqr7KOPfytPbyo27ojItQefoglSVj/cPi5AWFRribd+DrGFPkD34cbxDS/PAISkaaWEeRa06olM6Iy3MM/rpZXIKH+6GRFOM8soFExmHpGjDD5ncYHSvxZoYZmvo7RRond1o8v1C48KkewPGk+/fn/zOwaZGVyIhe+g09HIFrqd243z+cKn7kMkUdOzNvQHjcd/9lcU80DbypMmGxcahYWM8XftVaHQrk9c54/9tYmwU1yINUxMyuUkD2RoFfacAIE+9gt3NGPRKF9QtAyqUq8xzq1pX2Up186DS6PUorkVif/EQ8rSrSLTFFDdtR37IHHSObuQPmI7T4a+QZxhGcnRKV/KGPQeARF2Iy67lKG5Eo5crULcMoLD3eLMobJEpD4tGd9DA/kwYP5b3Fnxk5nfo0BHS0tOxs7Pjm6/WM3TYSHLz8iw8pXLY30zA+fxB7G8m1Pg8bf7gWeQNnYvOwRllxB4abXkfidpQ2RT0m0b2tA8BaPJmX4t7KYseehh1kxbY37iMXXqKmT9AYY8xxr8dfw/F7ce3AVAMepp7j79jWa+hzxp7uI02v4fjyU1GP2luhmFOQ+lCYdBEnPevA8Dh4kGY+gFIJIaFR/fRK5So23Q3ypY3ZFOZ9Ei0xSjP7TKEb98PqmjYANw//z8UyRHoXDy5/dFJkEjROTdG6+ptzGdZxg2UGTcAULfqZjS68lvxxvjrSzdb4nGIPmL8O3f0y8Y5KfvYY1a3PDjEHEWWfQetWxOKfTuh8fFDfjsRnWMjYxlLiotM5rsepDJlWhaX8ANGgwugjD9HXuBgij2aUuzdHLs0Q5lIdFocY8PI6z6EgvY9cI44apRRte6MzsERZfw5k2dVF9fTe0xWAjtHHiPfvz/F3s1NwhU1a4OmkSeyvHsmeqHX43pqD4XteqBqad5YMMZzarfJXGxpPL7l6leZvNY5uRmNJoDL3tW47FldGkAiRdVlSLnxADTa+j5OR78rTZq9IxqP5uVIVIwtdZUt1FQeVAaPlU+Y1d0OUQfAzp7cR/8GEgnqdsGlRtetibGBYXfrMs6HvzbK2cedwOW3dejsnUzTY4NMeZgZXYVCwb///So7fvrFokBuXh5r165n9KgRBAYG8Oyzs1mx8tNKR1gW19N7cD53yLCnr2Nvir180UurdjKlpFiNS/hvSFWmwyOFvcZxb9Jbxt8FQZPRuvvisXYW6LSGvaD3kaosL4bI63G/VXvOequ2bMvR+WjpHmPHk5vIGfMqevsHtkxIpCYtPUlRAaoupXuXyx4OUtQ2yGh0pTnpKK5Fom7VDY1XS7TuDyG7m4L64V7oZXYAOFw8BOWMFFQmPdVFmpuJIjni/t8ZSPPuGnt9egcnMN9yW2c0ON10WhxPbyH3sb8DUNhzHC67lqPyH47+/kpOh6jfLO5TLqGqZepwLc7MTXHrKsUeTVGXMboAjrFnyOs+mIKOvUyMW2GHngA4xdTs9NKDhkyWlw3o0SlNK7TiJobhRPvrcfDA6XjSwjzs0m6gbtqKYm9f7C2lNzXZcjwO5VeclclrtV9P4/coy76Ny69rTQPodYYGdDnY3Yw1MbhgqCfsbsWXK1cRVa6rbKQm8qCy6B2cuDfifYr8eqJz9Ubn2Mhkyg5A26j0rAlZ5k0k2mL0MjvDWph//ojy/C7sr5xBnnoFdFqz780WmfIwM7pjRo+gc6eOzJw516rQ0aPHefON+URERDF58kSbjK7z+UM4nztE4cMB3Bsy2fb9uXodTpdOmhndvJBnAZBlpWJ3MwZV16EUtQsmZ/S/cP1lGZqmbQGQ5mcbe79lKfZsRlHzdijuXMc+JcHMH0Bv52CyoVuWcc34t6S4CHnmDYqbtTeR0Tm7m+z9zJq1wmrSyr4sYGjBqVt1AwxDzI6ntpjO55YztFyZ9NQE0nzTObuSlb+GH/V71HdD1M3x1BZyH30RJFIKeo7FZddyCruPLPU/Y31ouaplKilWW9xTKi0w9AZ1jqZb+uTZGdinJBp7eIo719E6uqJq0R75vQwUt6zPM1cViabY7BtGpzOMfj0w9Fmy9VCWb7miK1lEpbWwRVGiKTbPA2M81t+ByuZ1yXoBALuUOJMFepXF7lrNr5K3pa6ylZrIg8qg9utJ5otfWzxUoyx6+1J/iboQl1+WkjPhDeMz1H6GRqQ84zpOh7/G6ZjpAU22yJSH2VsWEjKY8HPnSUtPtyp0+04aCoWCnJwcWrZoTru21rf5WEKZGIXrqb2o/PzJenRGtQ7EaHTiF+TZprrqlC4UP2TYS+x09Dvc//e8cfgv75HnyZr5CYX358wUCZZb63k9DHNtxvkiSzzQooIHflvodeplVZg7sbM3+elw8Tfj3yXDjyVGV6IuxD7+d6uPqlR6aoI63MpVZRqgbrK7KdjHnwRA6+GLqksIRe37Gvyy72AfVwdlWvLaWsgex2jDfGzJwqnCDj1AIsUx5qxlAVuxqWwqknnw+7Q1Hlvz2ra4JMXVOGzDrE6y5l5xXVUz1N43lzNuvtHgSnPSabRlAR5rZ+H5yeOm2w61pkbf+dBXeKyZiUPkfpMFZBrPFtyb/K5xFXl1Zaxh0tP179qFdm0fJjq6/MVRubm5nD5zliK1YUFT23YPc/lK5XpPijvXcTsQSrG3L1nDnsDih1FJnC7+jlPUCTN3rWcL40smT08CvR63Da+TPv8XtG5NKOw5zhBQrzdZvFKCppEHhX5dkWen45B0yWr8EnUhEnWhseA13q2NW330Mjlad/M5ImleFhKtxjB8qNfT9LWASq8clN9ORJ6WhMa7NUXtgtG5ehlbp/axx017bjakxyx9ZRas6R9oANQ3daWbTfFUsWJ3/P1HYyMq+4mPjD07ZdgOq5WhLWWqt1OgVziY9fRKeo7SQvNpFoerF5GqClC1DUR/4hcK2vcEnQ5lXHil01fTlMzTap0aWfQvcbc0n2sLVcnrstu+ipu1N5RlLfT0ytaaZd9LnVNjy+FtqKtspdp5oCudYtOXcwpcsW/pcHmjHR+jDC+dEs0fMMP4t0RvHrd9/O+GTopESnHzzhT0mUj+wKcAyBsyB5fdK82+Y1tkLGHS0+0T1As/vzYcOFR+a87Z2QmdVoe3lxcAaWnWe8VlkeVm4b7na3QOTmSOmoNeblcpOUvYX4+n0fGfLfqVffGkeYYhRWluJh6fzkCRcNYwnJJxncbfvYri6jkz+bzAISCRGlq1FWSi3c3S7RQlZ/QCFPaaYLLkvwSJRo1d8v0VnxIJBcFTzMIAFPt2pNi3k5l7yRCyztmdvJBnjI2L8oaWq5KeskjzSrdc1NTQU01RV7rZEk/ZnoreoeLtbQ4XDyDNNewO0Ll6Gd0dT2+3KmNrmapamp8mp25m2F/84F5dMKwxcIwPR6dwICd4FBr3Jjhci0VWUMEc1v3ehd6u5o/otLtjmHcuatnBbFpAp3S+v/BKjyK9cls4KqIqea24Gm5cl6Ft3Iy8IXNMA0gkqDpXfxGRRFXaoND4PGxsqKn8h1mVqWpdZSvVzQNpmT3WGp+21iMqMx0gKco3/q2XyVG37VMarqzBl0hMGxh6HXbXL9JoywLD/CyGxak6J7fqyZSDSU83NHQzv/12iK++XEdRURG//WZ5wUBAgD8FBQX07RvE+x98TEJCYqUi89j1JZJiNZkT/1atvbbyu7dx3/e91V6AfdwJmr1kPuQtT0vCc9WT5T5b5+hCYYeeyPLvobxsbpAfRHl+t/Gg8IJ+09C5eCLNz6Kw1zirMs4Hv+Cun2G47t6kt1B1HIAiOQJJUT7axs1QP9yHYt+OuP3wusmHAoZ53byhhvn2klYWOi0O0ZYbSlVNT1nsrkUZ/y4MHInsXjrylFgkeh3S3Ezs48xHGeqKutLNlnhkd1OMBvrexDdx+j3UuG7A/tIhsx6lRKvB8ex2Y7kCKJIuWN2bW50yze05DPvr8aVbhtp1Nxw2k5lqdUWuY/Rp8gIGku/f3/i7ImT39+MWNW2NU+TxKulYEfa3EpHlZKJ19SAvcHDp9h2JhJzgkehlMhyuxdbIaVFVzWtpXhbK01sp6DcN4P5BFCEorkWhlysMUwcSidXvtbLIb102NAAkEnTO7mT+/VvktxMpCHrcqowtdZUtVDcP7G5cQt060CA75hXDASY5ho6d3a3LyFMvG/6+Xhoud8RLSPPuItGoyR3+AtrGTcs8scy4gERK2jsHsI8+gn3MUeTpyaDXofbrhaaJofEpLcxFWrZRaYtMOcgBOnbswEMPNSMuLp7k5Gu8/Mq/2bEtlKXLVvLZfz83E2rk6sqsOf9H48Zu3L2bxcQJ49i+w3Kv0ySyu7e5O2ImxZ7NKqWcxWfcy8Bj11e1dsh4XsBA9DI5ThHHkGgrHhJx/P1HCoInGw+4L2lpyu6mIM+4TlG7YDMZh4sHcdm7mtwR8wAo6jTIuGWmIhRJF5DmZqJz8TAOKymunjP26KubnrLYxx1HfjsRjY8fSGXkhZS2WBUJZ+vV6NaVbrbEowzfaVyRXty8s3FrGhhOpLI0jOt4crOJ0S1vAZWtZSotKgSZnLTpr2OfkojOwYkiXz8kWg2NDls/elOelYYiNQl109ZIC3JxuF7xKlqHazFI1CpUfv5kTHgRu4xbSHRaZPcycbp0stI6W0Svp/HBTWSOmUtO8EjD0O+9DIq9fNG4eSEtzMP1+E/Vi+M+tuR1o+0foWnSxrhPVe3XC/X9RjZQ7kEnlUWWk4ZD9GHje1bUNoiitkEoEs6iadbesIr3AWypq2ylOnngdCKUgn7T0Mvs0Ll6kTPxTaOfy97VuNw3ui57VpH54lf3h3u7kPHyltLn304wjACAWQ9UL5Oj8h9mdVTA+bd1ZsPhtshYQwrg7t6YAwcOcfOmoaUbERHJ2s/W88ycmWYCPj5NkMqk6PV67t41VPRnw8KZMnkSdnblDxfrZXLjcv+qIs9Kw/nCEbw2rUCWa37STE2gUziQ3yUYaVEhTpVozYNhuNhjzdM4ntmGtMCwEto+5iien84w6SU9iMue1XiumIoy/Gdkd28i0aiRFBUgT0/G4eJB3ELftDxkrNfhcMl0BMLa8ntb0mOSNq0Gj7VPowz/2TDM2oAWItWVbrbEozy3E7eN/0GRHGHYSlCJRSqyzBtGYywpVuFgZW9utcpUqzGePKVq0f7+ntMEw0lMd66VK1qyYtfx8vlKpUeqKsDjl8+xv3EZjWcz8v37kddtEIVtq3/IAxi2OXluXY0yIRKtS2NUfv7o7exxjD2L15aVNXLamq15LVEX4rHmaRr9+DaKxDCkhTlINGrD3vRzu3Db+GbFD6kEbt+/hvLcTiSqfCSqPBwi9+H+1UvI05Is62VjXWUL1ckDeeplPNbMxP7KmXLXu9jHnSgNd3/OWnEtksbfv2o83AYwMfbodbiFvoHy7E/IbycgLcg2bPnJz8Y+/iSNv/4Hzr+tN43IFpny8qaZr59+0sRxbNtu2lO1s7Nj1qwZXI6/wtFjJ1AqlQwdOpiX/vYCX371LZu3lLbE5XIZgwYN5PTpM+Tn/3FvhcnrEUJO0Ehcwg/gcubX+lan2vzZ0vNnpqD3BLKfWgqAMvwXGn/7ssVwNpXp/bOXpQW5+Hy9wAbtJKRNn4/GzQvv0GXI79624Rl/PMT3I6gN5ABKpfk+p+LiYhR2Cl566UW++/YLpFIpUqmUyKiLeHsbFnsoFArmv/YvPDzceW/Bwj+0wQWQFKlwCduPU5T1bRp/JP5s6fmzUezbEY13a7SeLY3HzAEmJ948SH2UaUH7HmjcvLBPSfzLGFwQ3w+YLuwrP6DG6hSXwBQ5wLFjJxg54lEkUgn2CnvCw89xJy2dVq1acv36dY4dO06hSoUECS1aNGfO7KdxcnJkaMgQvv3uBz78aHF9p6NGqPZcUwPjz5aePxsFwVPJHzjDxE15fg92163fdlNXZaq3s+de/3HolE6oWnUEvQ6XU3vqJO6Gwl/++5HKuP3RqUoFladdrZELDP4KyAGu37jJ9RuG5fV2dnYEBfVm1KgR/Hfd/7h61Xx+4Pjx3+nevRvz//0WEREN945RgeCPgrQwB4fzu2m03fy6w/pAL5NT0Kk36HTIs9JwPb23wnlfgUBQMZJmvn4NZ3WMQCAQCAR/Yur3MFyBQCAQCP5CCKMrEAgEAkEdIYyuQCAQCAR1hDC6AoFAIBDUEcLoCgQCgUBQR/wljK63tzevz3+ZkSMerTBsUmIMV+Kt75MUlE9V8lpQSkPOt4asm0DwR+MvYXRnz5rBvJdexM3N8v2bgppD5LVtNOR8a8i6CQR/NEyu9ms1NZs2M+5fyZUp4/QLvmgL/xJ2WSAQCASCWsfEol7f1ojC23JkDjocHyqm7Zzauc1HIBAIBIK/IiZGV6eREL3M23hzl++4ezTqWLP31srlMlJuJPDzjs34+DTh83VriI0+z+W4KDaFfkdgoPnVX6EbvyHlRgLDhoVYfGa3AH9SbiTw657Sm5I+Xf0JKTcSSLmRwLyXXgRg6ZKFRreUGwls3bLRqp4KhYI3/vMaYWeOczUhmkMH9zJ69Air4du3a8u6z1YTeeEM15LiCD97giWLP8LHp4nF8EmJMez/dScKhYI335hP2JnjJF+N5dDBvTU+d9a6dSv+9/laoi+GcyX+IqEbv6Fd24dZtXIZKTcSaNWqpZmMl6cnb735OseP/sbVhGguRYXz9VfrCfDvahbWlry25T0ACAwM4L133mDP7h1ERZwl+Wosp04eYcnij2jZ0vq1kX5+bVi5fAknTxziakI0URFn2bVzG6+8PA9HR/MLP2yVqQrVeUerUj62pKe6309lqav6QCBoKFg8BrLdc5m0nJwNQF6ygjMv+KLTSGokQrlcxrWkeNLS08nLzcPNzY2TJ0/j7t6Y4OA+FBcXM2XaU4SFnTPKjBr1GJ+vW8PeX/fz7NwXzZ658KMFzHx6Om+8+S7ffrcBgEeHD6NDh/YADBjQj+Cg3vy67zeioi4Z5VJSUti6zfSy66TEGDQaLUeOHiM4qA+RURfx8WlCh/bt0Ol0THz8CRPdAHr16kHohm9QKpVERl0kOfkaXTp3ws+vDWlpaYwbP8V4tnXZeLLv3SM8/DwDBvQjKvIiHh7udOjQHp1Ox4RJ0wgPP1+tvAZo1aole3Ztp1GjRsTExJKQeJWuXTrj4uLCnTtpdO7ckX4DhpKcXHqubps2rdkU+h3NmjXl2rXrREVdopGbK32Dg9Hrdcx55nkOHT5qDG9LXtvyHgBsCv2O/v37kpCQyJWERIqLi2n7sB8dO3YgP7+ACZOmEh0dayLTsWMHdv68BaVSyYULkVxNSsbdvTHt27WlWbOmZum3Vaaq2PqOVrV8bEmPrbpVlbqqDwSChoLckmPCt+549c3H8aFinFupaTUtm6s/NK7RiL29vLh7N4v+A4dx7949ACZNHMfqVZ+weNGHhAwt7VXu23eAjIxMHhkWgoeHO5mZpcPeCoWCcWNHoVKp2PHTzlKZ/QfYt99wCbyDgz3BQb05ePAwG0M3V6ibo6OSZs2aEtx3MLl5eQC8v+Btnpkzk6dmPGlSAUilUlYuX4JSqWThx0tZ+9l6o/vSJR8xbepk3l/wDrPmPGcWj7eXF61btWTAgGGkZ2SYxDNr5owaMbrvvfMmjRo14vP/fcWC9w2H6ctkMtav+5QRj5nfCiKRSFi9chnNmjVl5ao1LPtkFfr7F7d36dKJHds2sXz5YvoEDaKoqAioXl5X5T0A+PmXXbz3/kJiY+NM3GfPeooPP3iXN/4zn+kzZpv4zZn9NEqlkkWLl/HpmnUm/ZuM+gAAIABJREFUaR00sD/Z2ffM9LJFpqrYkm+2lI8t6alOmdpCbdcHAkFDweIqKV2RhJhPvOF+H7j19CycWqhrPPLVqz8zfmAA27b/TFxcPO3btaVbgL/RXaPRsHnLNuRyOZMmjjd5xvDhQ3Fzc2P3nn3k5OTUmG6LFn9iNLgAX3xhuOM0wL+LSbg+fXrRqlVLUlNvs/7zL4zuOp2Ojxcto7i4mKFDB+Pp6WExnoUfLzUaXNN4rA8TVhZ398YMHTqY3NxcFi3+xOiu1WpZsmS5RZng4D4EBgZwISKSpctWGit0gEuXYti0eStenp6EDBlUbf1KqOx7ALAxdLOZwQX45tsfUKlU9Ond08zPy9MTwKSXBqDX6zly9DjZ2dk1IlMX2Fo+DTU9ZWnI9YFAUFNYXZqcddGBGzsNWwSkcj2dXk6HmhlhNnLo0BEzt9NnwgDwf8DobAzdjF6vZ9q0ySbuUydPAiA0dFON6nbpUrTJ71upqej1etzd3U3cA7sZ5pwOHzmGRqM18cvIyCQiIgqpVIp/V1NjXcKDw6cl8TRuXP2RhY4dOyCVSgkLP2/S6wG4fCXBxNiXMHjQAAB27/7V4jMjIqMA6Nq1c7X1K6Eq7wEYrp8cMKAfc5+dzauv/IPX57/M/Nf+hVqtRqlU4uDgYBL+UrShLP/5z7/Tq1cPZDJZhTrZIlMX2Fo+DTU9ZWnI9YFAUFNYHF4u4coX7nj3y8feQ4NbZxW+o3K4ucu1RiIuKCg06UmWkJ5uMAReXqY9w6SkZE6dOkPfvkF06xZAREQk3t7eDBo0gOTka8aPsyZQqVRkZZm2/DUaLTqdDjs70yzz8jL0IO7cuWPxWbdvG9w9LPR0VSqVWR6UxCOXV79SbNrU575uaZZ1S71j7AGV4Ov7EABvvfk6b735utVnu7m5VVs/qPp78OjwYSxa9AHeXl5Wn2lnZ4dKVboAcN36LwgK6kNwUG9+2r6JgoJCYmJiOXb8BN9/H0paerrZM2yRqQtsLZ+Gmp4SGnJ9IBDUJOUaXQcvDXauht6bXg95SYpaV0gikRjje5ANGzfRt28Q06Y+TkREJI9PGo9MJiP0xy0mw2zVRaer+rOsxV+SHomFYQJb4rEFBwd7i+5andbMTS43vBI7d+7hSkKC1WdGPjBMWdNYeg/atGnN5+vXolareevtBRw8eJjU23coLi4G4PSpIzT39TXKlpCXl8/kKdPp1bMHQ4YMok+fnvToHkjPnt2ZNfMpRo6awI2bN6stUxfYWj4NNT0V0RDqA4GgJrFqdCUS6PxKOlI7w8t785dGZEc7WAteZRwdlbg4O5u1bkvmPi0Nfe7Zu4+srGzGjxvNews+YvLkiWg0WjZv2V5jelWVjIxMAHx8fCz6N2nibQiXmVlnOpWQmnobAJ8mlrctNfH2NnMr6ZmHnzvPF19+U2u6lVCV92DkiEeRy2WsWLmer7/53iS8XC4367WXRa/XczYsnLNh4YBh4c7KlUsZNLA/zz47i3ff+7BGZGqb6pRPQ0xPCX+W+kAgqAirc7otJmbTqJNhiE6VJufKl+7WgtpMSMhgM7eShTAREZFmfmq1mq1bt+Pi4sKbb8ynXduHOXjoMGlplodPSygqMiwCc3R0rK7KZly4r2fIkEFm82Senh506+aPXq/n0sVoS+K1SlxcPDqdju7du9GokekRfi1bNDcOP5flxImTADxmYWVzZbAlr0NCBpu5WXoPPDwM72BJY6IsgwcPNM7lPjina4m09HQ+++/nADRv7lspPW2RqSyVzbfqlk9ZKpseW7+f3r16Mu+lF2jZonmlwoeEDDZzq436QCCoTywaXWWzYvxmly7Dj13lVSvHQc6b9yKurqVzxBMnjKNjxw7ExsZx0YqR+mGjYYHEnNlPG35v+LHCeG6mpADQ28LK1upy+vRZrl2/gY9PE154fq7RXSqV8p9/v4qdnR2HDx+tlzmzzMy7HDx4BHt7e17+10sP6PaaRZmDh44QF3+Z4KDevPT355FKTcvd29ubf8z7G94WeslgW15X9j24mpQMwNixo0zmvH19H+L9BW8bfzs7O5k8f8b0abRu3crETSKRMHrkYwBcuWI+TGuLTHWobL7ZWj7VSY8tZdrc15ctm3/g9fmvsHnTD5WSqav6QCCoT8wPx5BAz6W3aBxQCMDtQ85c/Njy8KQtlGyGz8nJ4e7dLFxcXIyb4fv2DUKtVvP4lOmcPx9h9Rk7tv9I7149Sc/IoEfPfmi15nOTZWnc2I1TJ4/g4uzM6TNniY6ORaPRkJx8ne++N908X3I4Rtv25qtmryfHU1BQQIdOgSbuQX16seGHr3FwcCAy6iJJScl07dIZP782ZGRkMnb8ZK5du17teGyhVauW7N29A1dXVyKjLhIXF09AgD9ujRqRnZ1Nhw7t6ds/xEQ/P782/LjxW5o1a8rNmylERl5Eq9PSokVzunTujFwus3o4RGXz2pb3wMXZmQO/7cbX9yGu37jJ+fMXcHVxoX//vsTHXyHx6lXGjxvDtCdncvz470a5Xb9sIzAwgCsJicTGxqHX6wnw70qrVi25dSuVkaMmmA1f2iJTHaryjtpSPtVJT1V0K6FP715s3xYKGLbP+bXtglptvu2wPuoDgaA+Meu++o7KMRrc4hwZ8Z9ZnyerDkVqNVOmPcXZsHAGDxlIYGA3Tpw4ycRJT5T7gQGcPHkagB07fqnUB5aVlc0TT87k2PETdO7UkTmzn+b/nnuGsWNH1UhaTp8JY/TYx9m1ay++Dz3E6FEjcHZ25sdNWxg5eoKZwa1LkpOvMXrs4+zbf4DWrVoyetRIbt1K5fEp0yksNEwf5Ofnm8gkJl5l+GNjWP3pZ+Tl5xMSMoihIUNwdnJi567dzH3ub9y0suimqnldlfcgNy+P0WMmsWHjJmRSKSMeG06LFs1Z+9l6JkyaZhx6DerTy0Ru+YrVbNi4Ca1Wy5DBAxk2NIQitZpP16xj+GNjLBobW2SqQ1XyzZbyqU56bPl+zp0/z/7fDpKfX8CKlWssGtyy1GV9IBDUJyY9XQcvDcFf3EDuaDh8+dIib1IPutRohCUt2/SMDLoFBlVZXiKRcPTwPvz82jB02Eji4i/XqH5/FSQSCZEXziCXy+jUpUedx1/d90Dw50DUB4K/Giarl90DC0k7YZgPK8qU17jBrQkmTRqPn18bTp06Iz6wSuDg4ICnpwc3b6aYuE+d8jgeHu5s2CgOEagJnJwqt8hIp9NTWFhYy9r8dRD1geCPhonRvbXfhVv7G56hdXJyZMF7b+Ph4c7QkMFotVoWLlpa32r9IfDy9OT0qSPExMRyJSGRu3ezaN26FQMH9OPOnTSWfbKqvlX8wyOXy7gcF1WpsImJVxk4uPorj//KiPpA8Eem3MMxGgr29vY8MW0yGo2WKwmJLF78SYXzPAID2dnZfPvdBnr17M6QwQNxdHTkzp00NoZuZuWqNWJ7RQ2g0WgZM+7xSoVVqYoqDiQoF1EfCP7IWLzaTyAQCAQCQc1T85tvBQKBQCAQWEQYXYFAIBAI6ghhdAUCgUAgqCOE0RUIBAKBoI4QRlcgEAgEgjrCZMvQlfiLODoqyxWY8dQcDh85ViORe3t7M3vWDC5ejGbP3n018kyB4K+Kq6srsdHnxV5ggaABY3GfbkxMrPE6rwe5l5NTY5HPnjWDeS+9yGvz36ixZwoEAoFA0FCxaHRf+Ns/SUhIrGtdBAKBQCD4UyPmdAUCgUAgqCOqbXSTEmPY/+tOFAoFb74xn7Azx0m+Gsuhg3sZOeJRs/Cfrv6ElBsJpNxIYN5LLwKwdMlCo1vKjQS2btloMS4vT0/eevN1jh/9jasJ0VyKCufrr9YT4G9+J20JJ08c4lJUOAB9+waxdfMG4mIjiIu5wM87NhMYGFCt9Idu/IaUGwkMGxZi0b9bgD8pNxL4dc/PZn7t27Vl3WeribxwhmtJcYSfPcGSxR/h42P5/uKkxBiuxF+06Hc9OZ64mAsW/Wo7D+RyGSk3Evh5x2Z8fJrw+bo1xEaf53JcFJtCv7P6/MDAAN575w327N5BVMRZkq/GcurkEZYs/oiWLVtYjc/Prw0rly/h5IlDXE2IJiriLLt2buOVl+dZXZNQWZnwsydISoxBLi//hNT27dqSciOB0I3fmLlXpUzBtvJ5dPgwdv2yjcQrl4iKOMuihe/j4uJcrs5guJVn1cplXI6L4t13xLSOQFDX1EhP18vbk7VrVvDUU0+SlJRMYuJV2rdry/p1n9KzZ3eTsLt27WXJ0hUsWbqCU6fPAvDrvt+MbkuWruDHHzebxdGmTWv27N7BC8/PRSaTsX//QS5eukTIkMH8/NNmQoYMsqpfo0auDBsWQuiGb+nSpRNXryaRl5dPz57d6dKlc7XS/sOGHwGYNtXy2btTpkwCIPSBNPXq1YPdu7YzZsxIUm7dYveeXykoKGD6k1PZu3sHLZr7VkuvB6nNPCihRcvmbNn0A8HBfTh27HciI6Po1y+Y7VtD6dXL/PrAf89/hblz5+Dk6MjZsHD2/rqf/Lw8pj85ld/27aJz545mMh07dmDf3p+ZPHkid+9msWv3r0RdvEQTb29e/tc8vL29qyUTHn4ehUJB507mcZclIMDfGL6E6pRpVcpn2tTJfPXlOrp27cLpM2GcORvG+AljWb/u03J1Bmjfvh2PTxqPk5Mjz82dg4eHe4UyAoGg5qiRCw+8vbxo3aolAwYMM16G/f6Ct3lmzkxmzZxhUjHt23+AffsPAODgYE9wUG8OHjzMxlBzQ1uCRCJh9cplNGvWlJWr1rDsk1Xo9YYjo7t06cSObZtYvnwxfYIGUVRkfqC8VCpl6eIPWbHyU9asXYdGowGgc+eOODpW7ko2a+zbd4CMjEweGRaCh4c7mZl3jX4KhYJxY0ehUqnY8dNOE31WLl+CUqlk4cdLWfvZ+lI9l3zEtKmTeX/BO8ya81y1dCtLbeZBCd5eXty9m0X/gcO4d+8eAJMmjmP1qk9YvOhDQoaOMAn/8y+7eO/9hcTGxpm4z571FB9+8C5v/Gc+02fMNvGbM/tplEolixYv49M164zuEomEQQP7k519z0yvqsiEnzvPmDEjCQjwJzLK8qgCQLduBqMbFmZ4t6tbppUtHzc3Nxa89xZarZbJU6ZzNszQQ/bxacLundut6ltCeno6KpUKBwcHsrKyyc3Nq1BGIBDUHBZ7ukcP7zMZ7i35l5QYY/VBCz9eajS4AF988TVAuUO/lSU4uA+BgQFciIhk6bKVRoMLcOlSDJs2b8XL07Pc3u6l6FhWrlpjrMwAoqNjCQs7Vy3dNBoNm7dsQy6XM2nieBO/4cOH4ubmxu49+8gps+q7T59etGrVktTU26z//Auju06n4+NFyyguLmbo0MF4enpUS7cHqa08KMvq1Z8ZDS7Atu0/ExcXT/t2bel2v3dYwsbQzWYGF+Cbb39ApVLRp3dPMz8vT08AoqIumbjr9XqOHD1OdnZ2tWRK8iIwsFTX3r168srL82jTprXRLSCgKzqdjgsXDLfb1ESZVqZ8Ro96DGdnJw4dOmo0uAC3b9/hy6++tfrsEjIz7zJp8nSWLF3B45OfRK22vEtBIBDUDlXaMlSktn4t2YMV963UVPR6PY0bN66mijB40AAAdu/+1aJ/RKThLtOuXTuz99f9FsN89/2GauthjY2hm3nh+blMmzaZz//3ldF96uT7Q8uhphfFB3YzzNEdPnIMjUZr4peRkUlERBS9evXAv2sXDh0+WmN61mYelHDo0BEzt9NnwujQoT3+/l2NZVWCnZ0dQUG96dC+HY0auSKTyQBQq9W4urri4OCASqUyhr8UHc0jj4Twz3/+nYLCQs6fj0CrNc3DB6mKTHRMDIWFhcbhY4C5c2czcsSjSCQSln2yCjs7Ozp36kh8/GVy8ww9xZoo08qUT7f78fx+8pSZ3++/m7tZIiIikoiIyEqFFQgENUuNbBlSqVTGyqcEjUaLTqdDLpdVT0PA1/chAN5683XeevN1q+Hc3Nys+iUnXau2HtZISkrm1Kkz9O0bRLduAUREROLt7c2gQQNITr7G6TNhJuG9vAw9rzt37lh83u3bBnePGu7p1mYeABQUFJq9BwDp6YYREC8v0/Q8OnwYixZ9gLeXl9Vn2tnZmRjddeu/ICioD8FBvflp+yYKCgqJiYnl2PETfP99KGnp6WbPqIqMRqMlIvIifXr3xMnJEZWqiP79gknPyGDQwAEs+2QVnTt1xM7OjrDw0oZmTZRpZcqnZA429fZt8zisxC0QCBoONTKnq9PV7pW8JStJd+7cw5WEBKvhIh8YPixL5t27Vv1qgg0bN9G3bxDTpj5OREQkj08aj0wmI/THLSbD4WWx5i6RSAz/I6l0/CUy5VHbeWCNEt3KJrdNm9Z8vn4tarWat95ewMGDh0m9fYfi4mIATp86QnNfX7N05eXlM3nKdHr17MGQIYPo06cnPboH0rNnd2bNfIqRoyZw4+bNasmEhZ0jOKg3/v5dUalUuLq68tr8N1j08Qe4uroSEGCYMim7VqGE6pRpZcqnSGV9tEkgEDR8asTo1jYlvYTwc+f54stv6lcZK+zZu4+srGzGjxvNews+YvLkiWg0WjZvMV/ckpGRCYCPj4/FZzVpYlhNm5GZaeKu0WhRKOzMwnt5eiKV1v+Wa0dHJS7Ozma93ZJ5zLJz/iNHPIpcLmPFyvV8/c33JuHlcrlxHtYSer2es2HhxjlNby8vVq5cyqCB/Xn22Vm8+96H1ZIJP2cwpt0C/FEoFFy+ksDWbT/x/oK36d8v2LiIqqzRtbVMq8qdtDQAmlqIx6eJ9W1JZQkMDGDI4EHs2buPuLj4aukjEAiqRr3W1CXzxhWtnj1x4iQAjz3WcM+TVavVbN26HRcXF958Yz7t2j7MwUOHSbtfSZblwv35tJAhg4xzmCV4enrQrZs/er2eSxejTfyys7ORy+Vmez4tbcepL0JCBpu5lSyIKjuPaBwmTTUfJh08eCAODg4Axv/LIy09nc/++zkAzSu51ao8mfDw8+j1egK7BTBwYD+OHDmGWq3m1OmzDBzYn4AAf9LS07l2/YZRxtYyrSrR0bEA9OsbbObXt29QhfIeHu5s3byBV16ex9bNG1AoFNXSRyAQVI16Nbo3U1IA6G1hlWpZDh46Qlz8ZYKDevPS358369V5e3vzj3l/s7hHsy75YaNhwdSc2U8bft/fw/sgp0+f5dr1G/j4NOGF5+ca3aVSKf/596vY2dlx+PBRs/nJqIuG4fMXXyjdduLt7c1rr/2rRtNRHebNexFXV1fj74kTxtGxYwdiY+O4WMbgXE1KBmDs2FEm8/6+vg/x/oK3jb+dnZ1Mnj9j+jRat25l4iaRSBg98jEArlwxn36oqsy9e/dISLxKr9496Nmju3Hh0+HDR3lkWAhtH/YzG1q2tUyryq/7fiMvL5+QkEH06d3L6O7t7c0zc2ZWKO/l5WVsyDRu7FapAzUEAkHNIWnm62echCq5Zai8Cw+++fZ7tm77yfg7KTEGjUZL2/bmW4OuJ8dTUFBAh06BFp/VuLEbp04ewcXZmdNnzhIdHYtGoyE5+brZSk4/vzb8uPFbmjVrys2bKURGXkSr09KiRXO6dO6MXC6j34ChJCebLkY5eeIQLVu2oGtAL+7ezap0xtjKju0/0rtXT9IzMujRs5/VVbJBfXqx4YevcXBwIDLqIklJyXTt0hk/vzZkZGQydvxkrl27biLTv39fftz4LRKJhLj4y2SkZxDQzZ99+w4w/JEQJBKJxbyu7TyQy2VcS4onJyeHu3ezcHFx4eTJ07i7N6Zv3yDUajWPT5nO+fMRRhkXZ2cO/LYbX9+HuH7jJufPX8DVxYX+/fsSH3+FxKtXGT9uDNOenMnx478b5Xb9so3AwACuJCQSGxuHXq8nwL8rrVq15NatVEaOmmAyjG2rzLKlH/PEtMkUFhbSqUsP1Go1rVu34sQxwx7z9z/4mPWff2kiY0uZQtXLZ+bT01n40QI0Gi3HT/xOQUEBAwf049KlGIKD+5R7y5BEImH1qmU89uhwNoZusjgULxAIag+LPd1OnToSGBhg8Z+1OStbyMrK5oknZ3Ls+Ak6d+rInNlP83/PPcPYsaPMwiYmXmX4Y2NY/eln5OUbWvpDQ4bg7OTEzl27mfvc37j5wAKa+uDkydMA7NjxS7lbWU6fCWP02MfZtWsvvg89xOhRI3B2dubHTVsYOXqCxcr5xImTzPvHqyQmXuVhvza0bt2Kr7/+jlde/bdxhXB9UqRWM2XaU5wNC2fwkIEEBnbjxImTTJz0hInBBcjNy2P0mEls2LgJmVTKiMeG06JFc9Z+tp4Jk6YZpxSC+vQykVu+YjUbNm5Cq9UyZPBAhg0NoUit5tM16xj+2Bgz42mrTMkWuJMnTxv3siYlJRvLpWTetyy2lKktfPvdBl6a9wrx8ZfpG9yHPr17sX3HL8ycPddkj7Ql9Ho9L817hbbtuwqDKxDUAyY9XUH1kEgkHD28Dz+/NgwdNpK4+Mv1rVKdUNLTTc/IoFtgxfOKAoFA8Fel/pe8/omYNGk8fn5tOHXqzF/G4AoEAoGg8vwhtgw1ZJycHFnw3tt4eLgzNGQwWq2WhYuW1rdaAoFAIGiACKNbTezt7Xli2mQ0Gi1XEhJZvPgTs/lLgUAgEAhAzOkKBAKBQFBniDldgUAgEAjqCGF0BQKBQCCoI4TRFQgEAoGgjhBGVyAQCASCOkIYXYFAIBAI6ggpwOvzXyblRkKl/40bO7q+9a4Wrq6upNxI4NiR/fWtiqCGaGhlevjQr6TcSDC5lKA28PT0YOmShZw5dZTryfGk3Ehg1y/bGoRuVY3H29ub1+e/zMgRj9aqXrVNUmIMV+Iv1rcaZjT39TWry0+eOFTfav3lkAOk3ErlwoVIE4+WLVvg7t6Y1NTbxvtsS7ibVfsXBwgEf2Ts71+Zp7Cv3avzVixfQsiQQcTExHLq1Bk0Wi3Xrl0rV6audKtqPLNnzWDeSy/y2vw3alOtvyz3cnJY/elngOHO6rK3lQnqDjnADz+E8sMPoSYeK5cvYfLkiXz/QyirVq+tF+UEgj8qy1esxsPDg/i42jsO1N7ensGDBnDrViqPjRxf7gUbda1bXcYjqBw5OTksXrIcMJykJ4xu/SBOpBIIaoGy11/WFj5NvJFKpaSk3Kq0wYW60a0u4xEI/khUayFV6MZvSLmRwLBhIRb9uwX4k3IjgV/3/Gx0k8tlpNxI4Ocdm/HxacLn69YQG32ey3FRbAr9jsDAAKvxeXl68tabr3P86G9cTYjmUlQ4X3+1ngB/87t8S3h0+DB2/bKNxCuXiIo4y6KF79foxd22picwMID33nmDPbt3EBVxluSrsZw6eYQliz+iZcsWVuPz82vDyuVLOHniEFcToomKOMuundt45eV5ODoqqyUTfvYESYkxyOXlt8Xat2tLyo0EQjd+Y+a+7rPVRF44w7WkOMLPnmDJ4o/w8Wli9VknTxziUlQ4AH37BrF18wbiYiOIi7nAzzs2W8w/W8tUIpGwauUyLsdF8e47NT+EGeDf1WzObMCAfuXKJCXGsP/XnSgUCt58Yz5hZ46TfDWWQwf3WpzbHDCgX+l83O+HAejVq4dJnJbmdOtCN1vi+XT1J8Zw8156EYClSxaayG/dstFExpZ6pwRbvh+AkSMeZeOGb7hw7iRXE6I5eeIQK5YvpnPnjlZlFAoFb/znNcLOHOdqQjSHDu5l9OgRVsPb8v3YIiOoX6rV0/1hw48MHNCfaVMf58AB8wn5KVMmARD642YzvxYtm7Nl0w+4ublx7NjvuLs3pl+/YLZvDWXKtKeM95mW0KZNazaFfkezZk25du06+/cfpJGbKyFDBjNk8EDmPPM8hw4fNZGZNnUynyz7GI1Gy4nfT1JQUMD4CWPp0rVzdZJtkaqm59/zX6F//74kJCRyNiyc4uJi2j7sx/QnpzJ+3BgmTJpKdHSsiUzHjh3Y+fMWlEolFy5EEn7uAu7ujWnfri0v/2se27b/THLyNZtlwsPPM2bMSDp36khklPWFIAEB/sbwJfTq1YPQDd+gVCqJjLrI7ydP0aVzJ6Y/OZVHhg1h3PgpXL9h+b7jRo1cGTYshC//918KCwu4ejUJby8vevbsTpcunU3WG1SnTNu3b8fjk8YD8NzcOaxZu47MzLsVylWW23fusHzFagBGjRpB+3ZtKyXn5e3J2jUrGDCgH1GRF8nJyaFDh/asX/cpEyZNM8nn5KRrLFm6AoDGbo2YO3cOKSm32LBxkzFMaurtetHNlnh27dpLQsJVwNCgCA7qza/7fiMq6pIxTEpKiomMrfWOLd+PRCJh6ZKFPDFtMjqdjvBz50lNvY2nhwcTxo/F29ub6TNmW0zb2jUrCA7qQ2TURXxym9ChfTv+u3YVd+6kmdUHtnw/1fnmBPVHtYzuvn0HyMjI5JFhIXh4uJtUYAqFgnFjR6FSqdjx004zWW8vL+7ezaL/wGHGi7cnTRzH6lWfsHjRh4QMLW0RSiQSVq9cRrNmTVm5ag3LPlmFXm84MrpLl07s2LaJ5csX0ydoEEVFRQC4ubmx4L230Gq1TJ4ynbNhht6Uj08Tdu/cXp1kW6Qq6QH4+ZddvPf+QmJj40zcZ896ig8/eJc3/jPf7GOeM/tplEolixYv49M164zuEomEQQP7k51tfoF5VWTCzxmMbkCAf7lGt1s3g9ENCzNUuFKplJXLl6BUKln48VLWfrbe6L50yUdMmzqZ9xe8w6w5lueQpFIpSxd/yIqVn7Jm7To0Gg0AnTt3xNHR0RiuumWanp6OSqXCwcGBrKxscnPzKpSpCnfupPHJcoPBefhhv0obNm8vL1q3asmAAcNIz8gA4P0Fb/PMnJnMmjnDxLDduHnTuMaiVauWzJ07h1u3Uitcd1EXutkSz779B9i3/wALQhykAAAMmklEQVQADg72BAf15uDBw2wMNW+oG2VsrHds+X6mT5/GE9Mmc+PmTWY89QwJCYlGPx+fJoweZbnn6uiopFmzpgT3HUxunuE9K8m3p2Y8aWJ0bfl+qvvNCeqPag0vazQaNm/ZhlwuZ9LE8SZ+w4cPxc3Njd179pGTk2NRfvXqz4wGCmDb9p+Ji4unfbu2dLvfmwIIDu5DYGAAFyIiWbpspdHgAly6FMOmzVvx8vQkZMggo/voUY/h7OzEoUNHjZUzwO3bd/jyq2+rk2yrVDY9ABtDN5sZXIBvvv0BlUpFn949zfy8PD0BTHoBAHq9niNHj5OdnV0tmZKKIDCwVNfevXryysvzaNOmtdEtIKArOp2OCxcMtyn16dOLVq1akpp6m/Wff2EMp9Pp+HjRMoqLixk6dDCenh5m+pVwKTqWlavWGA0uQHR0rEnlVN0yzcy8y6TJ01mydAWPT34StVpdoUxdsfDjpUajBvDFF18DlDt1Ulc0NN1srXds+X5efH4uAK+8+h8TgwuG9+6LL7+xqueixZ8YDS6UzbcuJuFs+X5q4psT1A/VPhxjY+hm9Ho906ZNNnGfOvn+EE/oJktiABw6dMTM7fSZMAD8y3zQgwcNAGD37l8tPiciMgqArmWGGLt1M8wF/n7ylFn43383d6sJKpueEuzs7BgwoB9zn53Nq6/8g9fnv8z81/6FWq1GqVTi4OBgEv5SdDQA//zn3+nVqwcymaxCnaoiEx0TQ2FhoXH4GGDu3Nm8/K95TJww1qhz504diY+/bKxQAu/n9eEjx9BoTBf0ZGRkEhERhVQqxb+raWVTlu++31BhWmqiTCMiIlm1ei1x8Q1rRe2Dw423UlPR6/U0bty4njQqpSHqZku9U9Xvp1WrlrRs2YKMjEyb6oxLl6JNfpfkm7u7u4m7Ld9PTXxzgvqh2quXk5KSOXXqDH37BtGtWwAREZF4e3szaNAAkpOvGY3OgxQUFJq0AktITze0qL28Sltovr4PAfDWm6/z1puvW9XFzc3N+LeHh+HFTr1teX6rpqlKesCwGGjRog/w9vKy+kw7OztUKpXx97r1XxAU1IfgoN78tH0TBQWFxMTEcuz4Cb7/PpS09HSzZ1RFRqPREhF5kT69e+Lk5IhKVUT/fsGkZ2QwaOAAln2yis6dOmJnZ0dYeGlF7OVl6EHcsZKvJfu8PcppdScnlb+3FOq+TOsKlUpl9u5oNFp0Oh1yecUNq9qkoepmS71T1e+naVMfALN53sqgUqnIyjLtOZfkm52dabVry/dTE9+coH6okS1DGzZuom/fIKZNfZyIiEgenzQemUxG6I9bTIaCK4NEIgGgrFjJatqdO/dwJSHBqmxkmWGjIlVRleKtLSylp02b1ny+fi1qtZq33l7AwYOHSb19h+LiYgBOnzpCc19fo2wJeXn5TJ4ynV49ezBkyCD69OlJj+6B9OzZnVkzn2LkqAncuHmzWjJhYecIDuqNv39XVCoVrq6uvDb/DRZ9/AGurq4EBBh67A/O5RnSaLmsS9IhQWLRHyDzbsULmhpKmdY0Ol3DvdK6IetW1XrHlu/HVmzJN1u+n+p8c4L6oUaM7p69+8jKymb8uNG8t+AjJk+eiEajZfMW64tbHB2VuDg7m7WiS+Ygys4hlbTaws+dL3cOpSx30tIAaOrjY+bn06Tml9NXJT0jRzyKXC5jxcr1fP3N9ybh5XK5ce7JEnq9nrNh4cY5TW8vL1auXMqggf159tlZvPveh9WSCT9nMKbdAvxRKBRcvpLA1m0/8f6Ct+nfL9i4iKqs0c3IyATAx0JeAzRp4m0Il5lpNV2VoSbKNDAwgCGDB7Fn7z7i4uKrpU956HQ6oGFWenWlW23HY0u9U5Vv4db/t3f3QVEedwDHv+cLOuVlBJSm8s5JjK9AkXe94GEJIhABSUGrVDNJ21hJW9tOm0ymNZ1o1TQvpjUxM51OOoGotTpV0jaTKAh4nGiJRhNE5FVqZoBqtciN17te/zi4et4B98ZFO7/Pf3c3e7t7D7vLs7u/fa59DkB0dBQKhcLpGwhHudJ+3G1zE1UXMT6PPPBAr9dz6NBh/P39ef65H/Nw7ByOn6ihb7iTHI1anWnz3sgGonPn/hcm0tCgASAnJ9vhMo2E22Skp9l8lp6e6vD3OEOtzrR5z159LNOkdkI7MjNVlrXce9d07enr72fvm28DEB4e5lA5x0pz9mwzJpOJhPg4VKoMamvr0Ov1NGqbUKmWEhe3mL7+frp7rlrSfDxcN/XyR23WyWbODCY+fjEmk4mLF6zXuJzl7jUNDg7i0MFKtv6ggkMHK/HxmbhjEPv6zFOVQUFf/JrsvbxVNmfzuXPHvLHt7h3rY3G137Eq4xhtobu7h+7uHoKDg1CNE9PsDlfaj7ttbmhIh06nIzBwht3PxcTx2FOG3h2OE9y0cYP5deX+cdNUVDxDQECA5XVR4ePMm/cILS2XuHDXH8vxE7Vcar1MWmoyW777bSZNsi52SEgIz1ZsJiQkxPLeXz/4kMHB26jVj1oduB4SEsKTm8pdq6SH6tPR2QVAQcEqq3WxsLBQXtz2guW1n5+v1fd/Y10p0dFRVu8pFArycnMAaGuznXp3Ns3Nmze50t5BUnIiSxK/aol9rqk5yddWqImdo7SZWtZqm+juucpDD32Z7wzv9gRz+MJPf/JDpk6dSk3NSbtrzs5w95rOmjXL8o9MYOAMjx6Scq+WFvNddH5+7oTl4Spvlc3ZfHqH43GT7ezcH40z/Y4r7efNfeadwbt2vsScOUqrz2bODGb9+rUOl3U0rrQfT7S5tivtBAQEoFq21O06CMcpZocp7c4zjJy9vGv3qw6fvXzk8H6Sk5bQPzBA4pIMu0fTTZkyme7OVm7dusX16zfw9/dHo9ESFBRIenoqer2eNU+so7n5nFU6pTKG/VXvMHv2V+jt/Tvnz1/A+B8jERHhLFywgClTJpOxLMtq00P5hnVsf2kbBoOR+oZTDA0NoVqWwcWLn5GWlkJ7eweqTMfvnu1xpT7+fn589OH7hIWF0nO1l+bmjwnw92fp0nRaW9to7+hg9eP5lK4tp77+lCVd9dE/kpAQR9uVdlpaLmEymYhbvIioqEiuXfuc3FWFVtPYrqZ5efcOykpL0Ol0zF+YiF6vJzo6ioY6czzli7/Ywb63f2uVJjUlicp3f8f06dM5/8kFOju7WLRwAUplDAMD/6BgdQnd3T02v5+m4QSRkREsikvi+vXxH6ThzjVVKBTsef1lch7Lpuq9A3an4j3Fx8eHhrqPCA2dzbnzn9B22dyhV7130CrcqbP9MwwGI7FzbXe393S1MjQ0xCPzE+zmERUVyan645w58zdWF339viqbM/mMCAycQaOmFn8/P7Snm/j00xYMBgNdXT1j7m53pN8B19qCQqHgtVd2sWZNIUaj0epwjKSkRBq1TTbx9K78bq60H1fb3Ij8/Fze2rsHnU5HTW0dtwdv82+DQR44McE8+jxdjUYLwJEjR8c9C/aOXs8TpetpOnOWzOUqEhLiaWjQUFRcZjPgArS3d5Cdk8+eN/YyeNt8t5OlXo6fry/Hqt/nqac303vPJoh3fl/JloqttLZeJj0thZTkJA4fOUr5xqes4mk9wZn6/GtwkLz8YiqrDjB50iRW5mQTERHOb/buo7C41DKdnppi/Ui0V17dQ2XVAYxGI8szVazIUnNHr+eNX79Fdk6+TYfhapqREBGNRmuJZe3s7LI04JF137tpT58hr2AN1dV/ISw0lLxVK/Hz82P/gT+Qm1c4ZuN3hjvX1GQysaViK7FzF03ogAvmqc+ydd+kpraOuQ/HUlJSRElJEVFRkROa7/1UNmfzuXHjn5StLaeuvoEF8+exaeMGvvX0kxQUrBozH0f7HVfagslk4tnv/4hnNn8PrbYJZUwMK3OyCQ8P409Hq9m+Y5cTv8joXGk/7ra5Y8f+zHPP/4y+vn4ey15BSUmR5cQ2MXFGvdN1+osUCk7WfIBSGUPWitxR4yBH7gz7BwaIT5iYtVVv+n+rjxAPEkf7HSHuFx670y0uXo1SGUNj42n5wxdCeIX0O+JB41bIkK/vl9j28xcIDg4iS52J0Whk+y93e6hoQghhS/od8SBza9CdNm0aZaUlGAxG2q60s3Pnr+yuxwohhKdIvyMeZB5b0xVCCCHE2Dy6e1kIIYQQo5NBVwghhPASGXSFEEIIL5FBVwghhPASGXSFEEIIL5FBVwghhPASGXSFEEIIL5FBVwghhPASGXSFEEIIL5FBVwghhPASGXSFEEIIL5FBVwghhPCS/wKpmy6eMbL8UgAAAABJRU5ErkJggg==)\n",
        "\n",
        "```\n",
        "import mysql.connector\n",
        "from getpass import getpass\n",
        "\n",
        "try:\n",
        "  conn = mysql.connector.connect(\n",
        "    host='127.0.0.1',\n",
        "    port=3306,\n",
        "    user='root',\n",
        "    passwd=getpass('Senha: '),\n",
        "    db='INFINITY'\n",
        "  )\n",
        "except Exception as err:\n",
        "  raise err('Algo deu errado')\n",
        "else:\n",
        "  print(conn.is_connected())\n",
        "finally:\n",
        "  print('Nossa 1ª conexão ao Banco de Dados')\n",
        "```\n",
        "\n",
        "Desta forma, conseguimos resolver nosso problema de segurança, mas temos uma questão que vale refletirmos sobre ela. \n",
        "\n",
        "Da forma que está implementado, nosso código não ficará automático, pois sempre aguardará que alguém digite a senha. \n",
        "\n",
        "Será que podemos deixar o script automatizado?\n",
        "\n",
        "__R__: Sim! Vamos conhecer na próxima seção mais uma biblioteca."
      ],
      "metadata": {
        "id": "yyQ3zi4EKID_"
      }
    },
    {
      "cell_type": "markdown",
      "source": [
        "### Python Dot Env"
      ],
      "metadata": {
        "id": "hNCwpS_0zpNx"
      }
    },
    {
      "cell_type": "markdown",
      "source": [
        "O _python-dotenv_ é um módulo python que deve ser instalado em seu ambiente virtual para que possamos pegar os dados sensíveis que utilizaremos em nossa aplicação.\n",
        "\n",
        "Rode o comando a seguir para instalar este módulo: `pip install python-dotenv`\n",
        "\n",
        "Com este pacote instalado, podemos criar nosso arquivo que conterá as variáveis de ambiente úteis para conexão ao banco de dados.\n",
        "\n",
        "Por padrão criamos este arquivo sendo oculto e com o nome de __env__. \n",
        "\n",
        "* Para criar no Windows (no comand prompt)\n",
        "\n",
        "  `type nul > .env`\n",
        "\n",
        "  * Tornando o arquivo oculto\n",
        "\n",
        "    `attrib +s +h .env`\n",
        "\n",
        "* Para criar nas Distros Linux e no Mac\n",
        "\n",
        "  `touch .env`\n",
        "\n",
        "  > O comando acima já torna o arquivo oculto!\n",
        "\n",
        "Agora com o arquivo criado, abra o arquivo no seu editor de preferência e coloque todas as informações necessárias para a conexão.\n",
        "\n",
        "```\n",
        "HOST=127.0.0.1\n",
        "PORT=3306\n",
        "USER=root\n",
        "PASSWD=aluno99\n",
        "DB=INFINITY\n",
        "```\n",
        "\n",
        "__OBS__: Considere criar este arquivo `.env` no mesmo diretório de nosso script de conexão para efeitos didáticos, mas saiba que você pode colocar estes arquivos em diretórios / pastas diferentes.\n",
        "\n",
        "> _Recomenda-se não colocar extensão neste arquivo como `txt, cfg ou ini`. Deixe-o sem extensão_\n",
        "\n",
        "Agora que colocamos todas as informações necessárias para a conexão com o nosso Banco de Dados, vamos criar nosso script de conexão conforme abaixo:\n",
        "\n",
        "```\n",
        "import mysql.connector\n",
        "import os\n",
        "from dotenv import load_dotenv\n",
        "\n",
        "load_dotenv('./.env')\n",
        "\n",
        "try:\n",
        "  conn = mysql.connector.connect(\n",
        "    host=os.getenv('HOST'),\n",
        "    port=os.getenv('PORT'),\n",
        "    user=os.getenv('USER'),\n",
        "    passwd=os.getenv('PASSWD'),\n",
        "    db=os.getenv('DB')\n",
        "  )\n",
        "except Exception as err:\n",
        "  raise err('Algo deu errado')\n",
        "else:\n",
        "  print(conn.is_connected())\n",
        "finally:\n",
        "  print('Nosso 1º acesso ao Banco de Dados')\n",
        "```\n",
        "\n",
        "__Agora sim!__\n",
        "\n",
        "> _Esta é uma boa prática e vamos seguir com ela_"
      ],
      "metadata": {
        "id": "4d_HgObRzsve"
      }
    },
    {
      "cell_type": "markdown",
      "source": [
        "## Ingestão de Dados"
      ],
      "metadata": {
        "id": "XuB3Lxr9l33o"
      }
    },
    {
      "cell_type": "markdown",
      "source": [
        "Antes de seguirmos com nosso script de conexão ao Banco de Dados MySQL ou MariaDB, devemos fazer a ingestão de dados na tabela USERS. \n",
        "\n",
        "Siga os passos a seguir para ter o ambiente minimamente preparado para seguirmos na aula:\n",
        "\n",
        "1. Abra o MySQL Workbench na sua máquina e verifique se o Banco de Dados `INFINITY` está criado. Você pode rodar este comando: `CREATE DATABASE IF NOT EXISTS INFINITY;` e depois `USE INFINITY;`\n",
        "\n",
        "2. Certifique-se que a tabela USERS esteja criada, mas caso não esteja, vamos criá-la com o comado abaixo:\n",
        "\n",
        "```\n",
        "CREATE TABLE IF NOT EXISTS USERS(\n",
        "  LOGIN VARCHAR(10) NOT NULL PRIMARY KEY,\n",
        "  FULL_NAME VARCHAR(30) NOT NULL\n",
        ");\n",
        "```\n",
        "\n",
        "3. Faça o [download](https://github.com/rafaelpuyau/infinity_school/blob/main/SQL/users.csv) do arquivo `users.csv` para a pasta:\n",
        "\n",
        "  * `c:\\temp` no Windows \n",
        "  * `~/temp` no Linux e Mac\n",
        "\n",
        "4. Volte para o MySQL Workbench e proceda com a ingestão de dados. [Clique aqui](https://colab.research.google.com/drive/10HGZ1EbZjYTyXl0oazC0I9PTM9vkYmXk?authuser=1#scrollTo=QbwtWhgSH7ys) para ver como configurar o Workbench para permitir esta ação.\n",
        "\n",
        "  * __Windows__\n",
        "  ```\n",
        "  LOAD DATA LOCAL INFILE 'c:\\\\temp\\\\users.csv' INTO TABLE USERS\n",
        "  FIELDS TERMINATED BY ';' LINES TERMINATED BY '\\n' IGNORE 1 ROWS;\n",
        "  ```\n",
        "\n",
        "  * __Linux ou Mac__\n",
        "  ```\n",
        "  LOAD DATA LOCAL INFILE '/home/usuario/users.csv' INTO TABLE USERS\n",
        "  FIELDS TERMINATED BY ';' LINES TERMINATED BY '\\n' IGNORE 1 ROWS;\n",
        "  ```\n",
        "\n",
        "5. Certifique-se que a ingestão de dados rodou com sucesso\n",
        "\n",
        "  `SELECT * FROM USERS;`\n",
        "\n",
        "  Este comando deve retornar uma tabela temporária com 3 registros\n",
        "\n",
        "\n",
        "6. Agora podemos voltar ao nosso editor de código para construirmos o 1º script\n"
      ],
      "metadata": {
        "id": "A-L6RAyRl6Ed"
      }
    },
    {
      "cell_type": "markdown",
      "source": [
        "## Construção do CRUD"
      ],
      "metadata": {
        "id": "eIyteC4oa24w"
      }
    },
    {
      "cell_type": "markdown",
      "source": [
        "Vamos começar importando as bibliotecas"
      ],
      "metadata": {
        "id": "zML9fbo_a71w"
      }
    },
    {
      "cell_type": "markdown",
      "source": [
        "```\n",
        "import mysql.connector\n",
        "import os\n",
        "from dotenv import load_dotenv\n",
        "```\n",
        "\n",
        "* __mysql.connector__ : responsável pela conexão com o Banco de Dados\n",
        "\n",
        "* __os__ : responsável por recuperar os valores das variáveis de ambiente do arquivo `.env`\n",
        "\n",
        "* __load_dotenv__ : função que faz o _apontamento_ para o arquivo que contém os dados sensíveis da aplicação / script"
      ],
      "metadata": {
        "id": "iJTZ3VfPbDIt"
      }
    },
    {
      "cell_type": "markdown",
      "source": [
        "Agora vamos informar ao nosso script o caminho do arquivo `.env` através da função `load_dotenv` do módulo _**dotenv**_.\n",
        "\n",
        "`load_dotenv('./.env')`\n",
        "\n",
        "Para este script utilizaremos a estrutura `try / except` do python. Vamos entender sua estrutura:\n",
        "\n",
        "```\n",
        "try:\n",
        "  pass\n",
        "except:\n",
        "  pass\n",
        "else:\n",
        "  pass\n",
        "finally:\n",
        "  pass\n",
        "```\n",
        "\n",
        "* __try__ : é neste bloco que tentaremos realizar a conexão ao Banco de Dados\n",
        "\n",
        "* __except__ : caso o bloco `try` retorne um erro, este bloco captura e o exibe na saída padrão\n",
        "\n",
        "* __else__ : caso o bloco `try` retorne sucesso, ou seja, sem erro, este bloco entra em ação\n",
        "\n",
        "* __finally__ : independente do que aconteça, este bloco sempre será executado\n",
        "\n",
        "Agora que entendemos cada uma das partes, vamos implementar:\n",
        "\n",
        "```\n",
        "try:\n",
        "  conn = mysql.connector.connect(\n",
        "    host=os.getenv('HOST'),\n",
        "    port=os.getenv('PORT'),\n",
        "    user=os.getenv('USER'),\n",
        "    passwd=os.getenv('PASSWD'),\n",
        "    db=os.getenv('DB')\n",
        "  )\n",
        "except Exception as err:\n",
        "  raise err('Não foi possível conectar')\n",
        "else:\n",
        "  print(f'Conectamos? {conn.is_connected()}')\n",
        "finally:\n",
        "  print('Nossa 1ª conexão à um Banco de Dados')\n",
        "```"
      ],
      "metadata": {
        "id": "aj3eOpRMchjY"
      }
    },
    {
      "cell_type": "markdown",
      "source": [
        "### Instrução DQL"
      ],
      "metadata": {
        "id": "V5Vcme47n5pN"
      }
    },
    {
      "cell_type": "markdown",
      "source": [
        "Agora que já nos conectamos ao Banco de Dados, precisamos criar um `cursor` para executarmos as instruções SQL através do __Python__.\n",
        "\n",
        "Vamos refatorar o código do bloco acima:\n",
        "\n",
        "```\n",
        "try:\n",
        "  conn = mysql.connector.connect(\n",
        "    host=os.getenv('HOST'),\n",
        "    port=os.getenv('PORT'),\n",
        "    user=os.getenv('USER'),\n",
        "    passwd=os.getenv('PASSWD'),\n",
        "    db=os.getenv('DB')\n",
        "  )\n",
        "except Exception as err:\n",
        "  raise err('Não foi possível conectar')\n",
        "else:\n",
        "  cursor = conn.cursor()\n",
        "finally:\n",
        "  print('Nossa 1ª conexão à um Banco de Dados')\n",
        "```\n",
        "\n",
        "Com isso, vamos executar nossa 1ª instrução SQL:\n",
        "\n",
        "```\n",
        "cursor.execute('SELECT * FROM USERS')\n",
        "```\n",
        "\n",
        "_Outra forma de executar_\n",
        "\n",
        "```\n",
        "query = 'SELECT * FROM USERS'\n",
        "cursor.execute(query)\n",
        "```\n",
        "\n",
        "Depois de executar a _query_, precisamos recuperar esses dados através do comando `cursor.fetchall()` e apresentá-los na saída padrão\n",
        "\n",
        "__OBS__ : o comando `cursor.fetchall()` retorna uma lista de tuplas, assim basta _desempacotarmos_ as tuplas\n",
        "\n",
        "```\n",
        "for login, nome in cursor.fetchall():\n",
        "  print(login, nome, sep=' ----> ')\n",
        "```"
      ],
      "metadata": {
        "id": "uVkd6MpphheB"
      }
    },
    {
      "cell_type": "markdown",
      "source": [
        "### Instruções DML"
      ],
      "metadata": {
        "id": "Mzau6dd0nvUY"
      }
    },
    {
      "cell_type": "markdown",
      "source": [
        "#### Insert"
      ],
      "metadata": {
        "id": "PDNtBpbXnyiU"
      }
    },
    {
      "cell_type": "markdown",
      "source": [
        "Vamos inserir 3 novos registros na tabela USERS, são eles:\n",
        "\n",
        "* login: yoda,  nome: Mestre Yoda\n",
        "\n",
        "* login: kenobi, nome: Obi-Wan Kenobi\n",
        "\n",
        "* login: imperador, nome: Imperador Palpatine"
      ],
      "metadata": {
        "id": "OTxcfavxoWRE"
      }
    },
    {
      "cell_type": "code",
      "source": [
        "logins = []\n",
        "nomes = []\n",
        "\n",
        "for _ in range(3):\n",
        "  login = input('Login: ').lower()\n",
        "  nome = input('Nome: ').title()\n",
        "  logins.append(login)\n",
        "  nomes.append(nome)\n",
        "\n",
        "for registro in zip(logins, nomes):\n",
        "  novo_login, novo_nome = registro\n",
        "  query = f'INSERT INTO USERS VALUES (\"{novo_login}\", \"{novo_nome}\")'\n",
        "  cursor.execute(query)\n",
        "\n",
        "if conn.commit():\n",
        "  print('Novos regitros salvos com sucesso!')\n",
        "else:\n",
        "  print('Ocorreu um erro ao salvar os novos registros')\n"
      ],
      "metadata": {
        "id": "5xMUUKQXo3Ur"
      },
      "execution_count": null,
      "outputs": []
    },
    {
      "cell_type": "markdown",
      "source": [
        "#### Update"
      ],
      "metadata": {
        "id": "qVafOHeatTmf"
      }
    },
    {
      "cell_type": "markdown",
      "source": [
        "Agora vamos atualizar o registro do _Mestre Kenobi_"
      ],
      "metadata": {
        "id": "Z89VMsoetVpe"
      }
    },
    {
      "cell_type": "code",
      "source": [
        "query = 'SELECT * FROM USERS'\n",
        "cursor.execute(query)\n",
        "\n",
        "registros = cursor.fetchall()\n",
        "\n",
        "logins_ativos = [ login for login, _ in registros]\n",
        "\n",
        "for pos, login in enumerate(logins_ativos, start=1):\n",
        "  print(pos, login, sep=') ')\n",
        "else:\n",
        "  opcao = int(input('Opção: '))\n",
        "\n",
        "print('Que dado deseja atualizar?')\n",
        "print('1. Login', '2. Nome', sep='\\n')\n",
        "op_campo = int(input('Escolha o campo: '))\n",
        "\n",
        "if op_campo == 1:\n",
        "  novo_login = input('Novo login: ').lower()\n",
        "  query = f'UPDATE USERS SET LOGIN=\"{novo_login}\" WHERE FULL_NAME=\"{registros[opcao - 1][1]}\"'\n",
        "  cursor.execute(query)\n",
        "  conn.commit()\n",
        "  print(f'Login de {registros[opcao - 1][1]} foi atualizado com sucesso')\n",
        "else:\n",
        "  novo_nome = input('Novo nome: ').title()\n",
        "  query = f'UPDATE USERS SET FULL_NAME=\"{novo_nome}\" WHERE LOGIN=\"{logins_ativos[opcao - 1]}\"'\n",
        "  cursor.execute(query)\n",
        "  conn.commit()\n",
        "  print(f'Nome do usuário de login {logins_ativos[opcao - 1]} foi atualizado')\n"
      ],
      "metadata": {
        "id": "cDQzSmTBthiy"
      },
      "execution_count": null,
      "outputs": []
    },
    {
      "cell_type": "markdown",
      "source": [
        "#### Delete"
      ],
      "metadata": {
        "id": "mU4bFTdGzEgR"
      }
    },
    {
      "cell_type": "markdown",
      "source": [
        "Agora vamos remover da nossa tabela o usuário _Imperador Palpatine_"
      ],
      "metadata": {
        "id": "fnqiPFtEzHbS"
      }
    },
    {
      "cell_type": "code",
      "source": [
        "query = 'SELECT * FROM USERS'\n",
        "cursor.execute(query)\n",
        "\n",
        "registros = cursor.fetchall()\n",
        "\n",
        "logins_ativos = [ login for login, _ in registros]\n",
        "\n",
        "print('Selecione um login para remover da tabela')\n",
        "for pos, login in enumerate(logins_ativos, start=1):\n",
        "  print(pos, login, sep=') ')\n",
        "else:\n",
        "  opcao = int(input('Opção: '))\n",
        "\n",
        "query = f'DELETE FROM USERS WHERE LOGIN=\"{logins_ativos[opcao - 1]}\"'\n",
        "cursor.execute(query)\n",
        "conn.commit()\n",
        "print(f'Login {logins_ativos[opcao - 1]} removido com sucesso!')"
      ],
      "metadata": {
        "id": "uij01e0pzGpi"
      },
      "execution_count": null,
      "outputs": []
    },
    {
      "cell_type": "markdown",
      "source": [
        "## Hora de praticar!"
      ],
      "metadata": {
        "id": "Jhbike4I0p_u"
      }
    },
    {
      "cell_type": "markdown",
      "source": [
        "### Atividade 1"
      ],
      "metadata": {
        "id": "iEdjABo30sGl"
      }
    },
    {
      "cell_type": "markdown",
      "source": [
        "Refatore o código para não permitir que seja cadastro um login já existente.\n",
        "O sistema deverá seguir perguntando por um novo login."
      ],
      "metadata": {
        "id": "v72fEe1U0z5i"
      }
    },
    {
      "cell_type": "markdown",
      "source": [
        "#### Gabarito"
      ],
      "metadata": {
        "id": "xG3qHE2k2F0o"
      }
    },
    {
      "cell_type": "code",
      "source": [
        "import mysql.connector\n",
        "import os\n",
        "from dotenv import load_dotenv\n",
        "\n",
        "load_dotenv('./.env')\n",
        "\n",
        "try:\n",
        "  conn = mysql.connector.connect(\n",
        "      host=os.getenv('HOST'),\n",
        "      port=os.getenv('PORT'),\n",
        "      user=os.getenv('USER'),\n",
        "      passwd=os.getenv('PASSWD'),\n",
        "      db=os.getenv('DB')\n",
        "  )\n",
        "except Exception as err:\n",
        "  raise err('Não foi possível conectar')\n",
        "else:\n",
        "  cursor = conn.cursor()\n",
        "\n",
        "query = 'SELECT * FROM USERS'\n",
        "cursor.execute(query)\n",
        "\n",
        "registros = cursor.fetchall()\n",
        "\n",
        "logins_ativos = [login for login, _ in registros]\n",
        "\n",
        "novo_login = input('Novo login: ').lower()\n",
        "\n",
        "while novo_login in logins_ativos:\n",
        "  novo_login = input('Novo login: ').lower()\n",
        "else:\n",
        "  novo_nome = input('Novo nome: ').title()\n",
        "\n",
        "query = f'INSERT INTO USERS VALUES (\"{novo_login}\", \"{novo_nome}\")'\n",
        "cursor.execute(query)\n",
        "conn.commit()\n",
        "print('Registro inserido com sucesso')"
      ],
      "metadata": {
        "id": "DW3eaiT62Rbm"
      },
      "execution_count": null,
      "outputs": []
    },
    {
      "cell_type": "markdown",
      "source": [
        "### Atividade 2"
      ],
      "metadata": {
        "id": "Kjv8WjbJ0t2_"
      }
    },
    {
      "cell_type": "markdown",
      "source": [
        "Refatore o código dividindo-o em partes como a seguir:\n",
        "\n",
        "* Diretório chamada __módulos__\n",
        "  * Criar arquivo dmql.py (conterá as funções / métodos de DML e DQL)\n",
        "\n",
        "* Diretório chamado __config__\n",
        "  * Criar arquivo .env\n",
        "  * Criar arquivo connection.py (conterá o bloco de conexão ao Banco de Dados)\n",
        "\n",
        "* main.py \n",
        "  Este é o programa principal. É aqui que teremos toda a interatividade com o usuário\n",
        "\n"
      ],
      "metadata": {
        "id": "ea9QKxVE1YBR"
      }
    },
    {
      "cell_type": "markdown",
      "source": [
        "#### Gabarito"
      ],
      "metadata": {
        "id": "L9NX7aTJ2Iv6"
      }
    },
    {
      "cell_type": "markdown",
      "source": [
        "##### main.py"
      ],
      "metadata": {
        "id": "iDMdmf8t_Osp"
      }
    },
    {
      "cell_type": "code",
      "source": [
        "import sys\n",
        "from config.connection import Connection\n",
        "from dotenv import load_dotenv\n",
        "from modulos.menu import Menu\n",
        "from modulos.dmql import (\n",
        "    DQL,\n",
        "    DML\n",
        ")\n",
        "\n",
        "path = load_dotenv('./config/.env')\n",
        "cnx = Connection()\n",
        "\n",
        "conn = cnx.connect(path)\n",
        "dql = DQL(conn)\n",
        "dml = DML(conn, dql)\n",
        "menu = Menu()\n",
        "\n",
        "\n",
        "while True:\n",
        "    print(menu.menu_principal())\n",
        "    escolha = int(input('Escolha: '))\n",
        "    match escolha:\n",
        "        case 1:\n",
        "            for login, nome in dql.busca_registros('USERS'):\n",
        "                print(f'{login:<10} : {nome}')\n",
        "        case 2:\n",
        "            novo_login = input('Novo login: ').lower()\n",
        "            while not dml.verifica_login('USERS', novo_login):\n",
        "                novo_login = input('Novo login: ').lower()\n",
        "            else:\n",
        "                novo_nome = input('Novo nome: ').title()\n",
        "                dml.insere_registros('USERS', novo_login, novo_nome)\n",
        "                print('Registro inserido com sucesso')\n",
        "        case 3:\n",
        "            for pos, reg in enumerate(dql.busca_registros('USERS'), start=1):\n",
        "                print(pos, reg[0], sep=') ')\n",
        "            op = int(input('Opção: '))\n",
        "            print('Que dado deseja atualizar?')\n",
        "            print('1. Login', '2. Nome', sep='\\n')\n",
        "            op_campo = int(input('Escolha o campo: '))\n",
        "            if op_campo == 1:\n",
        "                novo_login = input('Novo login: ').lower()\n",
        "                dml.atualizar_registro('USERS', 'LOGIN', op - 1 , op_campo - 1, novo_login)\n",
        "            else:\n",
        "                novo_nome = input('Novo nome: ').title()\n",
        "                dml.atualizar_registro('USERS', 'FULL_NAME', op -1, op_campo - 1, novo_nome)\n",
        "            print('Registro atualizado com sucesso')\n",
        "        case 4:\n",
        "            print('Deseja remover qual registro?')\n",
        "            for pos, reg in enumerate(dql.busca_registros('USERS'), start=1):\n",
        "                print(pos, reg[0], sep=') ')\n",
        "            op = int(input('Opção: '))\n",
        "            dml.remover_registro('USERS', op - 1)\n",
        "            print('Registro removido com sucesso')\n",
        "        case 5:\n",
        "            sys.exit('Encerrando o programa')\n",
        "        case _:\n",
        "            print('Opção inválida')\n"
      ],
      "metadata": {
        "id": "qPROUyIb_Np4"
      },
      "execution_count": null,
      "outputs": []
    },
    {
      "cell_type": "markdown",
      "source": [
        "##### menu.py"
      ],
      "metadata": {
        "id": "BnewMO4x_dWy"
      }
    },
    {
      "cell_type": "code",
      "source": [
        "class Menu:\n",
        "    def menu_principal(self):\n",
        "        menu = '''\n",
        "            Bem-vindo(a) ao CRUD\n",
        "\n",
        "            1. Consultar\n",
        "            2. Inserir\n",
        "            3. Atualizar\n",
        "            4. Remover\n",
        "            5. Sair\n",
        "        '''\n",
        "        return menu\n"
      ],
      "metadata": {
        "id": "XiDH4N-A_gTw"
      },
      "execution_count": null,
      "outputs": []
    },
    {
      "cell_type": "markdown",
      "source": [
        "##### dmql.py"
      ],
      "metadata": {
        "id": "CVGElaME_nZR"
      }
    },
    {
      "cell_type": "code",
      "source": [
        "class DML:\n",
        "    def __init__(self, conn, qry):\n",
        "        self.__conn = conn\n",
        "        self.__cursor = conn.cursor()\n",
        "        self.__query = qry\n",
        "\n",
        "    def insere_registros(self, tabela, login, nome):\n",
        "        if self.verifica_login(tabela, login):\n",
        "            query = f'INSERT INTO {tabela} VALUES (\"{login}\", \"{nome}\")'\n",
        "            self.__cursor.execute(query)\n",
        "            self.__conn.commit()\n",
        "            return True\n",
        "        return False\n",
        "\n",
        "    def verifica_login(self, tabela, login):\n",
        "        self.lista_logins = [ login_name[0] for login_name in self.__query.busca_registros(tabela)]\n",
        "        if login in self.lista_logins:\n",
        "            print(f'Login - {login} - já existe. Digite outro...')\n",
        "            return False\n",
        "        return True\n",
        "\n",
        "    def atualizar_registro(self, tabela, campo, pos1, pos2, valor):\n",
        "        registros = self.__query.busca_registros(tabela)\n",
        "        query = f'UPDATE {tabela} SET {campo}=\"{valor}\" WHERE {campo}=\"{registros[pos1][pos2]}\"'\n",
        "        self.__cursor.execute(query)\n",
        "        self.__conn.commit()\n",
        "        return True\n",
        "\n",
        "    def remover_registro(self, tabela, pos):\n",
        "        registros = self.__query.busca_registros(tabela)\n",
        "        query = f'DELETE FROM {tabela}  WHERE LOGIN=\"{registros[pos][0]}\"'\n",
        "        self.__cursor.execute(query)\n",
        "        self.__conn.commit()\n",
        "        return True\n",
        "\n",
        "\n",
        "class DQL:\n",
        "    def __init__(self, conn):\n",
        "        self.__conn = conn\n",
        "        self.__cursor = conn.cursor()\n",
        "\n",
        "    def busca_registros(self, tabela, colunas='*'):\n",
        "        self.__cursor.execute(f'SELECT {colunas} FROM {tabela}')\n",
        "        return self.__cursor.fetchall()\n",
        "\n"
      ],
      "metadata": {
        "id": "_TP8XWdK_qa4"
      },
      "execution_count": null,
      "outputs": []
    },
    {
      "cell_type": "markdown",
      "source": [
        "##### connection.py"
      ],
      "metadata": {
        "id": "_bVrqTqa_wM3"
      }
    },
    {
      "cell_type": "code",
      "source": [
        "import mysql.connector\n",
        "import os\n",
        "\n",
        "\n",
        "class Connection:\n",
        "\n",
        "    def connect(self, path_envfile):\n",
        "        try:\n",
        "            conn = mysql.connector.connect(\n",
        "                host=os.environ['HOST'],\n",
        "                port=os.environ['PORT'],\n",
        "                user=os.environ['USER'],\n",
        "                passwd=os.environ['PASSWD'],\n",
        "                db=os.environ['DB']\n",
        "            )\n",
        "        except Exception as err:\n",
        "            raise err('Something went wrong')\n",
        "        else:\n",
        "            return conn\n"
      ],
      "metadata": {
        "id": "IWt9u4-x_0JJ"
      },
      "execution_count": null,
      "outputs": []
    }
  ]
}