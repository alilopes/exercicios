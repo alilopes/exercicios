{
  "nbformat": 4,
  "nbformat_minor": 0,
  "metadata": {
    "colab": {
      "name": "POO - Parte II.ipynb",
      "provenance": []
    },
    "kernelspec": {
      "name": "python3",
      "display_name": "Python 3"
    },
    "language_info": {
      "name": "python"
    }
  },
  "cells": [
    {
      "cell_type": "markdown",
      "source": [
        "# Orientação à Objeto"
      ],
      "metadata": {
        "id": "sY1cmojfIWx9"
      }
    },
    {
      "cell_type": "markdown",
      "source": [
        "Na última aula iniciamos nossos estudos na _Programação Orientada à Objetos_ e conhecemos conceitos novos como: abstração, acoplamento e encapsulamento.\n",
        "\n",
        "Vamos, nesta aula, avançar um pouco mais neste universo e conhecer sobre _Herança_ e _Polimorfismo_."
      ],
      "metadata": {
        "id": "YIBY9bu4JLaM"
      }
    },
    {
      "cell_type": "markdown",
      "source": [
        "## Herança"
      ],
      "metadata": {
        "id": "_4fJHi0tI9mX"
      }
    },
    {
      "cell_type": "markdown",
      "source": [
        "Permite basear uma nova classe na definição de um outra classe previamente existente.\n",
        "\n",
        "> _A herança será aplicada tanto para as características quanto para os comportamentos_"
      ],
      "metadata": {
        "id": "X7QRG2PETzla"
      }
    },
    {
      "cell_type": "markdown",
      "source": [
        "### Exemplo 1"
      ],
      "metadata": {
        "id": "yp7oenYSason"
      }
    },
    {
      "cell_type": "code",
      "source": [
        "class Animal:\n",
        "  def __init__(self, peso: float, idade: int, membros: int) -> None:\n",
        "    self._peso = peso\n",
        "    self._idade = idade\n",
        "    self._membros = membros\n",
        "\n",
        "  @property\n",
        "  def peso(self) -> float:\n",
        "    return self._peso\n",
        "  \n",
        "  @peso.setter\n",
        "  def peso(self, novo_peso) -> None:\n",
        "    self._peso = novo_peso\n",
        "\n",
        "  @property\n",
        "  def idade(self) -> int:\n",
        "    return self._idade\n",
        "\n",
        "  @idade.setter\n",
        "  def idade(self, nova_idade) -> None:\n",
        "    self._idade = nova_idade\n",
        "\n",
        "  @property\n",
        "  def membros(self) -> int:\n",
        "    return self._membros\n",
        "\n",
        "  @membros.setter\n",
        "  def membros(self, quantidade) -> None:\n",
        "    self._membros = quantidade\n",
        "\n",
        "  def _locomover(self) -> str:\n",
        "    return 'Animal se locomovendo'\n",
        "  \n",
        "  def _alimentar(self) -> str:\n",
        "    return 'Animal se alimentando'\n",
        "\n",
        "  def _emitir_som(self) -> str:\n",
        "    return 'Animal emitindo som'"
      ],
      "metadata": {
        "id": "tkvwR9hAarj2"
      },
      "execution_count": 1,
      "outputs": []
    },
    {
      "cell_type": "code",
      "source": [
        "class Mamifero(Animal):\n",
        "  def __init__(self, tem_pelo: bool = True, cor: str = 'caramelo') -> None:\n",
        "    self._pelo = tem_pelo\n",
        "    self._cor = cor if tem_pelo else None\n",
        "\n",
        "  @property\n",
        "  def pelo(self) -> bool:\n",
        "    return self._pelo\n",
        "\n",
        "  @pelo.setter\n",
        "  def pelo(self, crescer_pelo: bool) -> None:\n",
        "    self._pelo = crescer_pelo\n",
        "\n",
        "  @property\n",
        "  def cor(self) -> str:\n",
        "    return self._cor\n",
        "\n",
        "  @cor.setter\n",
        "  def cor(self, nova_cor) -> None:\n",
        "    self._cor = nova_cor\n"
      ],
      "metadata": {
        "id": "6IfArw3NeArT"
      },
      "execution_count": 16,
      "outputs": []
    },
    {
      "cell_type": "markdown",
      "source": [
        "Repare que apesar de _Mamifero_ ser uma sub-classe de _Animal_, onde herdaria todos os atributos e métodos, o nosso objeto __m1__ não herdou os atributos da classe pai.\n",
        "\n",
        "Isso aconteceu, porque na classe _Mamifero_ implementamos o método construtor `__init__` que simplesmente sobrescreve o `__init__` do pai.\n",
        "\n",
        "Porém, vale ressaltar que os métodos - _alimentar_, _locomover_ e _emitir_som_ - foram herdados sem problemas.\n",
        "\n",
        "Mas como podemos fazer com que a sub-classe __Mamifero__ herde os atributos da super classe __Animal__ mesmo tendo seu prórpio construtor?\n",
        "\n",
        "A resposta é simples! Com a função `super()`, que veremos na próxima seção."
      ],
      "metadata": {
        "id": "4R4OyLfGmWYc"
      }
    },
    {
      "cell_type": "code",
      "source": [
        "m1 = Mamifero(True)\n",
        "print(m1.__dict__)\n",
        "print(\n",
        "    m1._alimentar(),\n",
        "    m1._locomover(),\n",
        "    m1._emitir_som(),\n",
        "    sep='\\n'\n",
        ")"
      ],
      "metadata": {
        "colab": {
          "base_uri": "https://localhost:8080/"
        },
        "id": "9rflxsJMiQax",
        "outputId": "f1bbb7dd-dfab-4e68-87b2-34eed1616a3b"
      },
      "execution_count": 18,
      "outputs": [
        {
          "output_type": "stream",
          "name": "stdout",
          "text": [
            "{'_pelo': True, '_cor': 'caramelo'}\n",
            "Animal se alimentando\n",
            "Animal se locomovendo\n",
            "Animal emitindo som\n"
          ]
        }
      ]
    },
    {
      "cell_type": "markdown",
      "source": [
        "## Função Super( )"
      ],
      "metadata": {
        "id": "Qju7mqvTk_KY"
      }
    },
    {
      "cell_type": "markdown",
      "source": [
        "É uma função que chama uma _funcionalidade_ da super classe (classe pai ou classe mãe).\n",
        "\n",
        "Vamos refatorar a classe _Mamifero_ e mudar seu construtor para que possamos acessar o método construtor da super classe."
      ],
      "metadata": {
        "id": "Ptr_4IFelCPg"
      }
    },
    {
      "cell_type": "code",
      "source": [
        "class Mamifero(Animal):\n",
        "  def __init__(self, peso: float, idade: int, membros: int, \n",
        "               tem_pelo: bool = True, cor: str = 'caramelo') -> None:\n",
        "    super().__init__(peso, idade, membros)\n",
        "    self._pelo = tem_pelo\n",
        "    self._cor = cor if tem_pelo else None\n",
        "\n",
        "  @property\n",
        "  def pelo(self) -> bool:\n",
        "    return self._pelo\n",
        "\n",
        "  @pelo.setter\n",
        "  def pelo(self, crescer_pelo: bool) -> None:\n",
        "    self._pelo = crescer_pelo\n",
        "\n",
        "  @property\n",
        "  def cor(self) -> str:\n",
        "    return self._cor\n",
        "\n",
        "  @cor.setter\n",
        "  def cor(self, nova_cor) -> None:\n",
        "    self._cor = nova_cor\n",
        "  "
      ],
      "metadata": {
        "id": "XJVwNhv29H4Z"
      },
      "execution_count": 20,
      "outputs": []
    },
    {
      "cell_type": "markdown",
      "source": [
        "Agora com a classe _Mamifero_ refatorada, vamos instanciar um objeto e ver o comportamento da função `super()`"
      ],
      "metadata": {
        "id": "039svDOL_CHz"
      }
    },
    {
      "cell_type": "code",
      "source": [
        "cachorro = Mamifero(tem_pelo=True, cor='Preto')"
      ],
      "metadata": {
        "colab": {
          "base_uri": "https://localhost:8080/",
          "height": 167
        },
        "id": "3eXKEgIV_YfU",
        "outputId": "c09aa11f-f838-408f-cbff-c35e103c3d02"
      },
      "execution_count": 21,
      "outputs": [
        {
          "output_type": "error",
          "ename": "TypeError",
          "evalue": "ignored",
          "traceback": [
            "\u001b[0;31m---------------------------------------------------------------------------\u001b[0m",
            "\u001b[0;31mTypeError\u001b[0m                                 Traceback (most recent call last)",
            "\u001b[0;32m<ipython-input-21-2c32c733a3dd>\u001b[0m in \u001b[0;36m<module>\u001b[0;34m\u001b[0m\n\u001b[0;32m----> 1\u001b[0;31m \u001b[0mcachorro\u001b[0m \u001b[0;34m=\u001b[0m \u001b[0mMamifero\u001b[0m\u001b[0;34m(\u001b[0m\u001b[0mtem_pelo\u001b[0m\u001b[0;34m=\u001b[0m\u001b[0;32mTrue\u001b[0m\u001b[0;34m,\u001b[0m \u001b[0mcor\u001b[0m\u001b[0;34m=\u001b[0m\u001b[0;34m'Preto'\u001b[0m\u001b[0;34m)\u001b[0m\u001b[0;34m\u001b[0m\u001b[0;34m\u001b[0m\u001b[0m\n\u001b[0m",
            "\u001b[0;31mTypeError\u001b[0m: __init__() missing 3 required positional arguments: 'peso', 'idade', and 'membros'"
          ]
        }
      ]
    },
    {
      "cell_type": "markdown",
      "source": [
        "Repare bem na mensagem de erro que recebemos acima.\n",
        "\n",
        "Não conseguimos instanciar o objeto `cachorro` porque o construtor da super classe, que foi invocado pelo construtor da classe _Mamifero_, aguarda receber 3 argumentos posicionais.\n",
        "\n",
        "Assim, vamos passar as informações solicitadas pelo construtor da classe __Animal__ - super classe."
      ],
      "metadata": {
        "id": "94ZLtWWo_3aJ"
      }
    },
    {
      "cell_type": "code",
      "source": [
        "cachorro = Mamifero(10, 3, 4, True, 'Preto')\n",
        "print(cachorro.__dict__)\n",
        "print(\n",
        "    cachorro._alimentar(),\n",
        "    cachorro._locomover(),\n",
        "    cachorro._emitir_som(),\n",
        "    sep='\\n'\n",
        ")"
      ],
      "metadata": {
        "colab": {
          "base_uri": "https://localhost:8080/"
        },
        "id": "ZbOU0Gi0Am_n",
        "outputId": "b6ecafa3-17db-4145-c7e1-f93b9961e7ca"
      },
      "execution_count": 24,
      "outputs": [
        {
          "output_type": "stream",
          "name": "stdout",
          "text": [
            "{'_peso': 10, '_idade': 3, '_membros': 4, '_pelo': True, '_cor': 'Preto'}\n",
            "Animal se alimentando\n",
            "Animal se locomovendo\n",
            "Animal emitindo som\n"
          ]
        }
      ]
    },
    {
      "cell_type": "markdown",
      "source": [
        "Agora nosso objeto _cachorro_ tem todos os atributos e métodos da super classe - __Animal__ - bem como os atributos da sua própria classe - __Mamifero__.\n",
        "\n",
        "Podemos melhorar a saída deste objeto, pois apesar de cachorro ser um animal, ele emitir um som específico além de outras características e comportamentos pertinentes a este mamífero. \n",
        "\n",
        "Veremos isso na próxima seção onde falaremos sobre __Polimorfismo__."
      ],
      "metadata": {
        "id": "6bVLK_NSBYX2"
      }
    },
    {
      "cell_type": "markdown",
      "source": [
        "## Polimorfismo"
      ],
      "metadata": {
        "id": "yW5IaNc6I_E3"
      }
    },
    {
      "cell_type": "markdown",
      "source": [
        "Permite que um mesmo nome represente vários comportamentos diferentes.\n",
        "\n",
        "_Poli = muitas_<br>\n",
        "_Morfo = formas_"
      ],
      "metadata": {
        "id": "FyJConGZUaCJ"
      }
    },
    {
      "cell_type": "markdown",
      "source": [
        "Para melhorar nosso código, vamos criar uma classe __Cachorro__ para trazermos mais especificidades para este tipo de animal."
      ],
      "metadata": {
        "id": "r1QNY5reCy4v"
      }
    },
    {
      "cell_type": "code",
      "source": [
        "class Cachorro(Mamifero):\n",
        "  pass"
      ],
      "metadata": {
        "id": "IFkbKO7xDGCk"
      },
      "execution_count": 26,
      "outputs": []
    },
    {
      "cell_type": "code",
      "source": [
        "rex = Cachorro(10, 3, 4, cor='Preto')\n",
        "print(rex.__dict__)\n",
        "print(\n",
        "    rex._alimentar(),\n",
        "    rex._locomover(),\n",
        "    rex._emitir_som(),\n",
        "    sep='\\n'\n",
        ")"
      ],
      "metadata": {
        "colab": {
          "base_uri": "https://localhost:8080/"
        },
        "id": "OF2Kj18UDMmM",
        "outputId": "32e90ffc-2ee2-4d31-cf8f-42f7e559d2d2"
      },
      "execution_count": 32,
      "outputs": [
        {
          "output_type": "stream",
          "name": "stdout",
          "text": [
            "{'_peso': 10, '_idade': 3, '_membros': 4, '_pelo': True, '_cor': 'Preto'}\n",
            "Animal se alimentando\n",
            "Animal se locomovendo\n",
            "Animal emitindo som\n"
          ]
        }
      ]
    },
    {
      "cell_type": "markdown",
      "source": [
        "Repare que apenas criamos a classe __Cachorro__, sem implementar nada nela, mas dissemos que ela herda de __Mamiferos__. \n",
        "\n",
        "Assim, ela tem todos os atributos - de __Animal__ e __Mamiferos__ - e todos os métodos de __Animal__.\n",
        "\n",
        "Agora vamos reescrever a classe __Cachorro__ reimplementando os métodos _alimentar_, _locomover_ e _emitir_som_, mas também vamos implementar novos métodos como _fazer_festa_ e _enterrar_osso_."
      ],
      "metadata": {
        "id": "x38jfnrREHJd"
      }
    },
    {
      "cell_type": "code",
      "source": [
        "class Cachorro(Mamifero):\n",
        "  def __init__(self, nome: str, raca: str,\n",
        "               peso: float, idade: int, membros: int, \n",
        "               tem_pelo: bool, cor: str) -> None:\n",
        "    super().__init__(peso, idade, membros, tem_pelo, cor)\n",
        "    self.__nome = nome\n",
        "    self.__raca = raca\n",
        "\n",
        "  @property\n",
        "  def nome(self) -> str:\n",
        "    return self.__nome\n",
        "\n",
        "  @nome.setter\n",
        "  def nome(self, novo_nome: str) -> None:\n",
        "    self.__nome = novo_nome\n",
        "\n",
        "  @property\n",
        "  def raca(self) -> str:\n",
        "    return self.__raca\n",
        "\n",
        "  @raca.setter\n",
        "  def raca(self, nova_raca: str) -> None:\n",
        "    self.__raca = nova_raca\n",
        "\n",
        "  def _alimentar(self) -> str:\n",
        "    return f'{self.nome.title()} está comendo ração'\n",
        "  \n",
        "  def _locomover(self) -> str:\n",
        "    return f'{self.nome.title()} está passeando'\n",
        "\n",
        "  def _emitir_som(self) -> str:\n",
        "    return f'{self.nome.title()} está latindo'\n",
        "\n",
        "  def _fazer_festa(self, pessoa: str = 'mim') -> str:\n",
        "    return f'{self.nome.title()} está fazendo muita festa pra {pessoa}!'\n",
        "\n",
        "  def _enterrar_osso(self) -> str:\n",
        "    return f'{self.nome.title()} enterrou o osso no quintal'"
      ],
      "metadata": {
        "id": "7PPF3p2EFonS"
      },
      "execution_count": 52,
      "outputs": []
    },
    {
      "cell_type": "code",
      "source": [
        "cachorro = Cachorro('rex', 'pastor', 10, 3, 4, True, 'preto')\n",
        "print(cachorro.__dict__)\n",
        "print(cachorro._alimentar())\n",
        "print(cachorro._locomover())\n",
        "print(cachorro._emitir_som())\n",
        "print(cachorro._fazer_festa())\n",
        "print(cachorro._fazer_festa('visita'))\n",
        "print(cachorro._enterrar_osso())"
      ],
      "metadata": {
        "colab": {
          "base_uri": "https://localhost:8080/"
        },
        "id": "gQS0qKOwG93Z",
        "outputId": "ee22abb5-71c4-4b30-843a-9ef11c75ac3f"
      },
      "execution_count": 51,
      "outputs": [
        {
          "output_type": "stream",
          "name": "stdout",
          "text": [
            "{'_peso': 10, '_idade': 3, '_membros': 4, '_pelo': True, '_cor': 'preto', '_Cachorro__nome': 'rex', '_Cachorro__raca': 'pastor'}\n",
            "Animal se alimentando\n",
            "Rex está comendo ração\n",
            "Rex está passeando\n",
            "Rex está latindo\n",
            "Rex está fazendo muita festa pra mim!\n",
            "Rex está fazendo muita festa pra visita!\n",
            "Rex enterrou o osso no quintal\n"
          ]
        }
      ]
    },
    {
      "cell_type": "markdown",
      "source": [
        "## Hora de praticar!"
      ],
      "metadata": {
        "id": "vb4wkybWJBxk"
      }
    },
    {
      "cell_type": "markdown",
      "source": [
        "### Atividade 1"
      ],
      "metadata": {
        "id": "XghXvWZ_M0Cj"
      }
    },
    {
      "cell_type": "markdown",
      "source": [
        "1. Crie uma super classe Conta\n",
        "2. Crie 3 sub-classes: ContaCorrente, ContaInvestimento, ContaSalario"
      ],
      "metadata": {
        "id": "mmLo1FhAM3P6"
      }
    },
    {
      "cell_type": "markdown",
      "source": [
        "### Atividade 2"
      ],
      "metadata": {
        "id": "6GvJ40OMNliI"
      }
    },
    {
      "cell_type": "markdown",
      "source": [
        "1. Crie atributos para super classe\n",
        "2. Crie atributos específicos para cada sub-classe\n",
        "3. Use a função super( ) nas sub-classes\n",
        "\n",
        "__OBS__: pense na visibilidade mais adequada para os atributos\n",
        "\n",
        "__OBS.2__: identifique atributos sensíveis para possível implementação de getters e setters"
      ],
      "metadata": {
        "id": "jQTbek6wNnos"
      }
    },
    {
      "cell_type": "markdown",
      "source": [
        "### Atividade 3"
      ],
      "metadata": {
        "id": "z0fYjAyqODmy"
      }
    },
    {
      "cell_type": "markdown",
      "source": [
        "1. Crie métodos para super classe\n",
        "2. Crie métodos específicos para cada sub-classe\n",
        "3. Reescreva os métodos da super classe nas sub-classes se for pertinente\n",
        "\n",
        "__OBS__: pense na visibilidade mais adequada para os métodos"
      ],
      "metadata": {
        "id": "cYD4YHDKOFSC"
      }
    }
  ]
}