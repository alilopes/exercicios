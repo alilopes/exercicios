{
  "nbformat": 4,
  "nbformat_minor": 0,
  "metadata": {
    "colab": {
      "provenance": []
    },
    "kernelspec": {
      "name": "python3",
      "display_name": "Python 3"
    },
    "language_info": {
      "name": "python"
    }
  },
  "cells": [
    {
      "cell_type": "markdown",
      "source": [
        "# Ambiente Gráfico com Python"
      ],
      "metadata": {
        "id": "G15PJSsH5yIp"
      }
    },
    {
      "cell_type": "markdown",
      "source": [
        "## O que é?"
      ],
      "metadata": {
        "id": "kZaymRKt573p"
      }
    },
    {
      "cell_type": "markdown",
      "source": [
        "É o único framework que está embutido na bilioteca padrão da linguagem __Python__. \n",
        "\n",
        "Este framework é <u>Multiplataforma</u> (Windows, macOS e distros Linux) e os elementos visuais são renderizados usando elementos nativos do sistema operacional.\n",
        "\n",
        "> _Isto é incrível, pois deixa os aplicativos construídos com esta biblioteca com a mesma identidade visual do sistema operacional, como se pertencessem à plataforma em que são executados_"
      ],
      "metadata": {
        "id": "tt75dejW-5-P"
      }
    },
    {
      "cell_type": "markdown",
      "source": [
        "## Primeira janela"
      ],
      "metadata": {
        "id": "o-Meshl2CWkn"
      }
    },
    {
      "cell_type": "markdown",
      "source": [
        "O elemento principal de uma __GUI__ (__G__raphical __U__ser __I__nterface) é a janela.\n",
        "\n",
        "Entenda a janela como um _contêiner_ onde os demais elementos - _widgets_ - da __GUI__ serão dispostos. "
      ],
      "metadata": {
        "id": "IR0jj7zkCa8z"
      }
    },
    {
      "cell_type": "code",
      "source": [
        "# Construindo nossa 1ª janela\n",
        "from tkinter import *\n",
        "\n",
        "window = Tk()\n",
        "\n",
        "window.mainloop()"
      ],
      "metadata": {
        "id": "rhaAhCnuDdKR"
      },
      "execution_count": null,
      "outputs": []
    },
    {
      "cell_type": "markdown",
      "source": [
        "### Widgets"
      ],
      "metadata": {
        "id": "nTtSjY8GEBHO"
      }
    },
    {
      "cell_type": "markdown",
      "source": [
        "> São os elementos mais importantes e básicos deste framework __Python__\n",
        "\n",
        "Alguns exemplos de _widgets_:\n",
        "\n",
        "* _labels_ (Label) : usado para exibir texto na tela\n",
        "* _caixas de texto_ (Entry) : widget de entrada de texto que permite apenas uma única linha de texto\n",
        "* _botões_ (Button) : um botão que pode conter texto e realizar uma ação quando clicado\n",
        "* _frames_ (Frame) : uma região usada para agrupar widgets relacionados ou fornecer preenchimento entre widgets\n",
        "* _checkbox_ (Checkbutton) : uma caixa de seleção para implementar ações do tipo liga/desliga \n",
        "* _radiobutton_ (Radiobutton) : uma caixa de seleção para implementar uma de muitas seleções\n",
        "* _combobox_ (Combobox) : usado para exibir uma lista de opções disponíveis"
      ],
      "metadata": {
        "id": "OcvtUsbIEE0s"
      }
    },
    {
      "cell_type": "markdown",
      "source": [
        "### Adicionando _widgets_"
      ],
      "metadata": {
        "id": "lkg9aLPQF2MQ"
      }
    },
    {
      "cell_type": "markdown",
      "source": [
        "#### Label"
      ],
      "metadata": {
        "id": "ZIpt_u68Ndxq"
      }
    },
    {
      "cell_type": "markdown",
      "source": [
        "Vamos colocar um _label_ em nossa janela. Este label terá o seguinte texto: _Infinity School_"
      ],
      "metadata": {
        "id": "mNk3SBFXGEjm"
      }
    },
    {
      "cell_type": "code",
      "source": [
        "from tkinter import *\n",
        "\n",
        "window = Tk()\n",
        "\n",
        "txt = Label(text='Infinity School')\n",
        "txt.pack()\n",
        "\n",
        "window.mainloop()"
      ],
      "metadata": {
        "id": "CG_zC5ZTGWSd"
      },
      "execution_count": null,
      "outputs": []
    },
    {
      "cell_type": "markdown",
      "source": [
        "Adicionamos o _widget_ Label a janela, mas para que ele aparece, precisamos informar ao Tkinter para renderizar este _widget_.\n",
        "\n",
        "Existem diversas maneiras de renderizar _widgets_ em uma janela Tkinter.\n",
        "\n",
        "No código acima, usamos o método `.pack()`.\n",
        "\n",
        "__OBS__: _falaremos sobre o `pack()`, `grid()` e `place()` nas próximas seções.\n",
        "\n",
        "__VALE LEMBRAR__\n",
        "\n",
        "Podemos informar cor para o <u>texto</u> e para o <u>fundo</u> do nosso label através dos seguintes argumentos:\n",
        "\n",
        "* _foreground_ ou _fg_ : cor do texto\n",
        "\n",
        "* _background_ ou _bg_ : cor do fundo\n",
        "\n",
        "__SINTAXE__\n",
        "\n",
        "```\n",
        "txt = Label(\n",
        "  text='Infinity School',\n",
        "  foreground='red',\n",
        "  background='white'\n",
        ")\n",
        "```\n",
        "\n",
        "__OBS__: podemos, também usar a notação de cores em _hexadecimal_\n",
        "\n",
        "```\n",
        "txt = Label(\n",
        "  text='Infinity School',\n",
        "  fg='#C64132',\n",
        "  bg='#FFFFFF'\n",
        ")\n",
        "```\n",
        "\n",
        "__ATENÇÃO__\n",
        "\n",
        "> _Podemos definir largura e altura para os labels, mas estes argumentos tem suas medidas em unidades de texto, ao invés de usar centímetros ou pixels_\n",
        "\n",
        ">> _Assim, uma unidade de texto horizontal é determinada pela largura do caractere \"0\", na fonte padrão do sistema_\n",
        "\n",
        ">> _De maneira igual, uma unidade de texto vertical é determinada pela altura do caractere \"0\"_"
      ],
      "metadata": {
        "id": "VM8WBAILGscp"
      }
    },
    {
      "cell_type": "markdown",
      "source": [
        "#### Button"
      ],
      "metadata": {
        "id": "GaOoQJMDNh1O"
      }
    },
    {
      "cell_type": "markdown",
      "source": [
        "Este _widget_ gera interatividade em sua janela, ou seja, quando clicado uma função é chamada e executada.\n",
        "\n",
        "Veremos nas próximas seções como definir e configurar estas funções associadas ao _widget_ Button.\n",
        "\n",
        "Por enquanto, vamos criar e estilizar este _widget_ na nossa janela.\n",
        "\n",
        "__SINTAXE__\n",
        "\n",
        "```\n",
        "btn = Button(\n",
        "  text='Clica aqui!',\n",
        "  width=25,\n",
        "  height=5,\n",
        "  fg='#FFFFFF',\n",
        "  bg='#0D0052'\n",
        ")\n",
        "btn.pack()\n",
        "```"
      ],
      "metadata": {
        "id": "p_5-4Vb7NjVR"
      }
    },
    {
      "cell_type": "code",
      "source": [
        "from tkinter import *\n",
        "\n",
        "window = Tk()\n",
        "\n",
        "btn = Button(\n",
        "  text='Clica aqui!',\n",
        "  width=25,\n",
        "  height=5,\n",
        "  fg='#FFFFFF',\n",
        "  bg='#0D0052'\n",
        ")\n",
        "btn.pack()\n",
        "\n",
        "window.mainloop()\n"
      ],
      "metadata": {
        "id": "WJmbW4pXPk2C"
      },
      "execution_count": null,
      "outputs": []
    },
    {
      "cell_type": "markdown",
      "source": [
        "#### Entry"
      ],
      "metadata": {
        "id": "Ap45k_XrP4qz"
      }
    },
    {
      "cell_type": "markdown",
      "source": [
        "Quando houver a necessidade de pegar algum texto digitado pelo usuário, como por exemplo _nome_, usamos este _widget_.\n",
        "\n",
        "Podemos usar, basicamente, os mesmos argumentos que vimos nos _widgets_ __Label__ e __Button__. \n",
        "\n",
        "__SINTAXE__\n",
        "\n",
        "```\n",
        "campo = Entry(\n",
        "  fg='#2A2A2A',\n",
        "  bg='#F3E8E8',\n",
        "  width=30\n",
        ")\n",
        "campo.pack()\n",
        "```\n",
        "\n",
        "Além das opções de estilização do _widget_ Entry, há três operações principais que podemos realizar:\n",
        "\n",
        "* `.get()` : obter o texto\n",
        "\n",
        "* `.delete()` : apagar o texto\n",
        "\n",
        "* `.insert()` : inserir o texto"
      ],
      "metadata": {
        "id": "frjnRV5qP6ag"
      }
    },
    {
      "cell_type": "code",
      "source": [
        "from tkinter import *\n",
        "\n",
        "window = Tk()\n",
        "\n",
        "txt = Label(text='Nome')\n",
        "campo = Entry()\n",
        "\n",
        "txt.pack()\n",
        "campo.pack()\n",
        "\n",
        "window.mainloop()"
      ],
      "metadata": {
        "id": "kxDAMMjxTYdw"
      },
      "execution_count": null,
      "outputs": []
    },
    {
      "cell_type": "markdown",
      "source": [
        "> Repare que o label ficou centralizado devido ao recurso do método `.pack()`\n",
        "\n",
        "Como vimos anteriormente:\n",
        "\n",
        "* Para recuperar o texto digitado no campo, basta usar `campo.get()` e atribuir à uma variável ou simplesmente formatar com uma _f-string_ e imprimir\n",
        "\n",
        "* Para remover o texto digitado no campo, basta usar `campo.delete()`, porém, devemos passar alguns argumentos\n",
        "\n",
        "  * Assim como os objetos da classe string em Python, o texto dentro deste _widget_ é indexado começando por 0.\n",
        "\n",
        "  * Para remover todo o texto dentro do campo, devemos passar o segundo argumento com o valor `'end'`\n",
        "\n",
        "    __Ex__: `campo.delete(0, 'end')` \n",
        "\n",
        "* Para inserir um texto, basta usar `campo.insert(<posição>, <texto>)`\n",
        "\n",
        "  __Ex__\n",
        "\n",
        "  * Para inserir a string _Python_ no começo do campo\n",
        "    \n",
        "    `campo.insert(0, 'Python')`\n",
        "\n",
        "  * Para inserir ao final, caso já exista algum texto\n",
        "    \n",
        "    `campo.insert(len(campo.get()), 'Python')`\n",
        "    ou\n",
        "    `campo.insert('end', 'Python')`"
      ],
      "metadata": {
        "id": "ard5fG9KUCMT"
      }
    },
    {
      "cell_type": "markdown",
      "source": [
        "## Layout Tkinter"
      ],
      "metadata": {
        "id": "j6ilUZS3HIaD"
      }
    },
    {
      "cell_type": "markdown",
      "source": [
        "### Gerenciadores geométricos"
      ],
      "metadata": {
        "id": "omGWCslUHU01"
      }
    },
    {
      "cell_type": "markdown",
      "source": [
        "O layout Tkinter é controlado por gerenciadores de geometria.\n",
        "\n",
        "O Tkinter trabalha com alguns gerenciadores:\n",
        "\n",
        "* `pack()`\n",
        "\n",
        "* `grid()`\n",
        "\n",
        "* `place()`\n",
        "\n",
        "> Cada janela e frame pode user __apenas__ um gerenciador de geometria"
      ],
      "metadata": {
        "id": "oUklEZnAHcq_"
      }
    },
    {
      "cell_type": "markdown",
      "source": [
        "### Método Pack( )"
      ],
      "metadata": {
        "id": "I8zlFGJrIRLq"
      }
    },
    {
      "cell_type": "markdown",
      "source": [
        "O método `.pack()` usa um algoritmo de empacotamento para colocar _widgets_ em um __Frame__ ou __Janela__ em uma ordem específica.\n",
        "\n",
        "Para cada _widget_, o algoritmo de empacotamento trabalha com 2 etapas principais:\n",
        "\n",
        "* Calcular uma área retangular chamada parcela que é alta (ou larga) o suficiente para conter o _widget_ e preenche a largura (ou altura) restante da janela com espaço em branco\n",
        "\n",
        "* Centralizar o _widget_ no lote, a menos que um local diferente seja especificado\n",
        "\n",
        "> `.pack()` é podereso"
      ],
      "metadata": {
        "id": "bnGzU-OqIT75"
      }
    },
    {
      "cell_type": "code",
      "source": [
        "# Entendendo o pack na prática\n",
        "\n",
        "from tkinter import *\n",
        "\n",
        "window = Tk()\n",
        "\n",
        "fr1 = Frame(\n",
        "    master=window,\n",
        "    width=100,\n",
        "    height=100,\n",
        "    bg='red'\n",
        ")\n",
        "fr1.pack()\n",
        "\n",
        "fr2 = Frame(\n",
        "    master=window,\n",
        "    width=50,\n",
        "    height=50,\n",
        "    bg='yellow'\n",
        ")\n",
        "fr2.pack()\n",
        "\n",
        "fr3 = Frame(\n",
        "    master=window,\n",
        "    width=25,\n",
        "    height=25,\n",
        "    bg='blue'\n",
        ")\n",
        "fr3.pack()\n",
        "\n",
        "window.mainloop()\n"
      ],
      "metadata": {
        "id": "bOObr2d3KLNL"
      },
      "execution_count": null,
      "outputs": []
    },
    {
      "cell_type": "markdown",
      "source": [
        "Repare que os elementos ficam centralizados e um embaixo do outro, por padrão.\n",
        "\n",
        "Porém, o `.pack()` aceita alguns argumentos para configurar com mais precisão o posicionamento do _widget_:\n",
        "\n",
        "* _fill_ : especifíca em qual direção os quadros devem ser preenchidos\n",
        "\n",
        "  * Opções\n",
        "\n",
        "    * X : preenchimento horizontal\n",
        "\n",
        "    * Y : preenchimento vertical\n",
        "\n",
        "    * BOTH : preenchimento em ambas as direções"
      ],
      "metadata": {
        "id": "kzwh1jqaK1PJ"
      }
    },
    {
      "cell_type": "code",
      "source": [
        "# Entendendo o pack na prática\n",
        "\n",
        "from tkinter import *\n",
        "\n",
        "window = Tk()\n",
        "\n",
        "fr1 = Frame(\n",
        "    master=window,\n",
        "    width=100,\n",
        "    height=100,\n",
        "    bg='red'\n",
        ")\n",
        "fr1.pack(fill=X)\n",
        "\n",
        "fr2 = Frame(\n",
        "    master=window,\n",
        "    width=50,\n",
        "    height=50,\n",
        "    bg='yellow'\n",
        ")\n",
        "fr2.pack(fill=X)\n",
        "\n",
        "fr3 = Frame(\n",
        "    master=window,\n",
        "    width=25,\n",
        "    height=25,\n",
        "    bg='blue'\n",
        ")\n",
        "fr3.pack(fill=X)\n",
        "\n",
        "window.mainloop()\n"
      ],
      "metadata": {
        "id": "pSeZR36rLyhH"
      },
      "execution_count": null,
      "outputs": []
    },
    {
      "cell_type": "markdown",
      "source": [
        "Repare que apesar da largura estar definida para cada frame, esta não é mais necessária, pois o método __pack__ define o preenchimento horizontal, substituindo assim qualquer largura previamente definida.\n",
        "\n",
        "> O preenchimento da janela com o método `.pack()` responde com sucesso ao redimensionamento da janela\n",
        "\n",
        "* _side_ : especifica em qual lado da janela o _widget_ deve ser colocado\n",
        "\n",
        "  * Opções\n",
        "\n",
        "    * TOP\n",
        "\n",
        "    * BOTTOM\n",
        "\n",
        "    * LEFT\n",
        "\n",
        "    * RIGHT\n",
        "\n",
        "> Se o argumento nomeado `side` não for passado para o método `pack()`, TOP será usado automaticamente\n",
        "\n",
        "> Para se ter um layout responsivo, defina um tamanho inicial para seus frames com os atributos `width` e `largura`. Depois use o argumento nomeado `fill` com o valor __BOTH__ e o argumento nomeado `expand=True`"
      ],
      "metadata": {
        "id": "IksQutwUMENg"
      }
    },
    {
      "cell_type": "markdown",
      "source": [
        "### Método Place( )"
      ],
      "metadata": {
        "id": "jAg3Sgc1ZvKd"
      }
    },
    {
      "cell_type": "markdown",
      "source": [
        "Podemos ter mais precisão no controle dos nossos _widgets_ através deste método.\n",
        "\n",
        "Ele espera 2 argumentos: `x` e `y`, que na verdade são as coordenadas x e y à partir do canto superior esquerdo do _widget_\n",
        "\n",
        "__OBS__: os valores são em pixels\n",
        "\n",
        "__ATENÇÃO__\n",
        "\n",
        "Apesar de termos precisão com o `.place()`, ele não é muito utilizado, pois apresenta 2 pontos negativos:\n",
        "\n",
        "* O layout pode ser difícil de gerenciar. Isto fica mais evidente quando se tem muitos _widgets_ na tela\n",
        "\n",
        "* Layouts criados com `.place()` __NÃO SÃO RESPONSIVOS__, ou seja, não mudam quando a janela é redimensionada\n",
        "\n",
        "> O `.place()` acaba sendo uma escolha ruim para criar layouts multiplataformas\n",
        "\n",
        "__Algumas observações__\n",
        "\n",
        "* `.pack()` é geralmente uma escolha melhor do que o `.place()`\n",
        "\n",
        "* `.pack()` tem algumas desvantagens como por exemplo, o posicionamento dos _widgets_ depende da ordem em que o `.pack()` é chamado\n",
        "\n",
        "> _O __gerenciador de geometria__ de `.grid()` resolve muitos desses problemas!_"
      ],
      "metadata": {
        "id": "HrOWrqeLZyqP"
      }
    },
    {
      "cell_type": "markdown",
      "source": [
        "### Método Grid( )"
      ],
      "metadata": {
        "id": "CeTTo3Xjg6bs"
      }
    },
    {
      "cell_type": "markdown",
      "source": [
        "Este é o gerenciador de geometria mais usado em projetos com __Tkinter__, fornecendo todo o poder do `.pack()` e de uma forma mais fácil e simples de entender e manter.\n",
        "\n",
        "> __DICA__: pense numa planilha ao usar `.grid()` na hora de posicionar seus _widgets_\n",
        "\n",
        "__LEMBRE-SE__\n",
        "\n",
        "* Os índices de linha e coluna começam em 0, assim, para posicionar um _widget_ na primeira linha e na segunda coluna, você deve:\n",
        "\n",
        "`elemento.grid(row=0, column=1)`\n",
        "\n",
        "Podemos informar ao grid para um elemento se esticar nas 4 direções,porém , a princípio as opções não são intuitivas na primeira vez pois fogem completamente do que aprendemos em __Python__. \n",
        "\n",
        "Devemos usar o argumento `sticky` e este aceita 4 opções que podem ser combinadas entre si, são elas:\n",
        "\n",
        "  * __N__ : north (norte)\n",
        "\n",
        "  * __S__ : south (sul)\n",
        "\n",
        "  * __E__ : east (leste)\n",
        "\n",
        "  * __W__ : west (oeste)\n",
        "\n",
        "  __Ex__\n",
        "\n",
        "  * Esticar na horizontal \n",
        "\n",
        "  `elemento.grid(row=0, column=0, sticky=EW)`\n",
        "\n",
        "  * Esticar na vertical\n",
        "\n",
        "  `elemento.grid(row=0, column=0, sticky=NS)`"
      ],
      "metadata": {
        "id": "ABF0btUSg9Cj"
      }
    },
    {
      "cell_type": "markdown",
      "source": [
        "A correspondência entre os parâmetros _sticky_ e _fill_ está resumida abaixo:\n",
        "\n",
        "\n",
        ".grid( )|.pack( )\n",
        "---|---\n",
        "sticky='NS'|fill=Y\n",
        "sticky='EW|fill=X\n",
        "sticky='NSEW'|fill=BOTH\n"
      ],
      "metadata": {
        "id": "uhqGuqJk_KVY"
      }
    },
    {
      "cell_type": "markdown",
      "source": [
        "## Tk vs Ttk"
      ],
      "metadata": {
        "id": "nkFz6hwY8grJ"
      }
    },
    {
      "cell_type": "markdown",
      "source": [
        "O módulo __Tk__ possui os widgets tradicionais e com o __Ttk__ - _themed tk_ - que basicamente disponibilizará os mesmos widgets só que um pouco turbinados, ou seja, oferece uma variedade de aparências e uma maneira para manipular os estilos dos widgets.\n",
        "\n",
        "> O __Ttk themes__  é uma extensão do Tkinter que nos permite usar os temas padrão das distros linux\n",
        "\n",
        "Para isso, temos que instalar este módulo `pip install ttkthemes`\n",
        "\n",
        "[Clique aqui](https://ttkthemes.readthedocs.io/en/latest/themes.html) para ver os temas disponíveis \n",
        "\n",
        "> O __Ttk Bootstrap__ é outra extensão do Tkinter baseada no bootstrap\n",
        "\n",
        "Para isso, temos que instalar este módulo `pip install ttkbootstrap`\n",
        "\n",
        "[Clique aqui](https://ttkbootstrap.readthedocs.io/en/latest/themes/) para ver a \n",
        "documentação e os temas"
      ],
      "metadata": {
        "id": "E-jcEbB78jj2"
      }
    },
    {
      "cell_type": "markdown",
      "source": [
        "## Atividade 1 de Sala de Aula"
      ],
      "metadata": {
        "id": "TbqV0XDUMmNm"
      }
    },
    {
      "cell_type": "markdown",
      "source": [
        "__OBS__: O professor deverá explicar o passo a passo da montagem desta tela"
      ],
      "metadata": {
        "id": "THiNQG_VRSev"
      }
    },
    {
      "cell_type": "code",
      "source": [
        "from tkinter import *\n",
        "\n",
        "\n",
        "def saudacao(event=None):\n",
        "    label2['text'] = f'Olá {field1.get().title()}'\n",
        "    field1.delete(0, 'end')\n",
        "\n",
        "window = Tk()\n",
        "window.title('Atividade de Aula')\n",
        "window.bind('<Return>', saudacao)\n",
        "\n",
        "label1 = Label(\n",
        "    master=window,\n",
        "    text='Digite seu nome: ',\n",
        "    font=('Quicksand Regular', 14),\n",
        ")\n",
        "label1.grid(row=0, column=0, padx=5, pady=5)\n",
        "\n",
        "field1 = Entry(\n",
        "    master=window,\n",
        "    font=('Quicksand Regular', 14),\n",
        ")\n",
        "field1.grid(row=0, column=1, padx=5, pady=5)\n",
        "field1.focus()\n",
        "\n",
        "btn1 = Button(\n",
        "    master=window,\n",
        "    text='Saudar',\n",
        "    font=('Quicksand Regular', 14),\n",
        "    command=saudacao\n",
        ")\n",
        "btn1.grid(row=0, column=2, padx=5, pady=5)\n",
        "\n",
        "btn2 = Button(\n",
        "    master=window,\n",
        "    text='Sair',\n",
        "    font=('Quicksand Regular', 14),\n",
        "    command=exit\n",
        ")\n",
        "btn2.grid(row=1, column=2, sticky=EW, padx=5, pady=5)\n",
        "\n",
        "label2 = Label(\n",
        "    master=window,\n",
        "    text='',\n",
        "    font=('Quicksand Regular', 14)\n",
        ")\n",
        "label2.grid(row=1, column=0, columnspan=2, padx=5, pady=5)\n",
        "\n",
        "\n",
        "if __name__ == '__main__':\n",
        "    window.mainloop()\n"
      ],
      "metadata": {
        "id": "E6mu2onAMoK0"
      },
      "execution_count": null,
      "outputs": []
    },
    {
      "cell_type": "markdown",
      "source": [
        "## Projeto 01 - Tela de Login"
      ],
      "metadata": {
        "id": "idcJrMV1HH2t"
      }
    },
    {
      "cell_type": "markdown",
      "source": [
        "Para este projeto, é necessario ter instalado no seu ambiente virtual as bibliotecas `mysql-connector-python` e `python-dotenv`\n",
        "\n",
        "Crie o arquivo `env` na mesma pasta do seu arquivo `projeto01.py`\n",
        "\n",
        "__OBS__: Nunca crie __NENHUM__ arquivo dentro da pasta física do seu ambiente virtual"
      ],
      "metadata": {
        "id": "fv7IrKC2C5tU"
      }
    },
    {
      "cell_type": "markdown",
      "source": [
        "### Arquivo ENV"
      ],
      "metadata": {
        "id": "1xO9otjuEMVM"
      }
    },
    {
      "cell_type": "markdown",
      "source": [
        "```\n",
        "HOST=127.0.0.1\n",
        "PORT=3306\n",
        "DB=INFINITY\n",
        "```"
      ],
      "metadata": {
        "id": "SpAuK5eFEPka"
      }
    },
    {
      "cell_type": "markdown",
      "source": [
        "### Módulo cores"
      ],
      "metadata": {
        "id": "9kdEhU13DoqV"
      }
    },
    {
      "cell_type": "markdown",
      "source": [
        "Crie um arquivo python chamado `cores.py`"
      ],
      "metadata": {
        "id": "T56rDL3yDua3"
      }
    },
    {
      "cell_type": "code",
      "source": [
        "'''Este é o módulo de cores'''\n",
        "\n",
        "COR_FUNDO='#FEFFFF'\n",
        "COR_LETRA='#403D3D'\n",
        "COR_IN='#C64132'\n",
        "\n",
        "\n",
        "if __name__ == '__main__':\n",
        "  print(__doc__)"
      ],
      "metadata": {
        "id": "PUTtxwSu--je"
      },
      "execution_count": null,
      "outputs": []
    },
    {
      "cell_type": "markdown",
      "source": [
        "### Programa principal (projeto01.py)"
      ],
      "metadata": {
        "id": "j3XqoBnCEg7w"
      }
    },
    {
      "cell_type": "markdown",
      "source": [
        "__OBS__: Devido a configuração de tela, as propriedades de width, height e place (com os valores de x e y) podem sofrer alterações.\n",
        "\n",
        "Faça ajustes se necessário!"
      ],
      "metadata": {
        "id": "XSMKsOQZMUzi"
      }
    },
    {
      "cell_type": "code",
      "source": [
        "import mysql.connector\n",
        "import os\n",
        "from dotenv import load_dotenv\n",
        "from cores import *\n",
        "from tkinter import *\n",
        "from tkinter import messagebox\n",
        "\n",
        "load_dotenv('./env')\n",
        "\n",
        "def entrar(event=None):\n",
        "  try:\n",
        "    conn = mysql.connector.connect(\n",
        "        host=os.environ['HOST'],\n",
        "        port=os.environ['PORT'],\n",
        "        user=campo_nome.get(),\n",
        "        passwd=campo_passwd.get(),\n",
        "        db=os.environ['DB']\n",
        "    )\n",
        "  except:\n",
        "    messagebox.showerror('Erro', 'Erro ao conectar')\n",
        "  else:\n",
        "    messagebox.showinfo('Sucesso', 'Conexão realizada com sucesso!')\n",
        "  finally:\n",
        "    campo_nome.delete(0, 'END')\n",
        "    campo_passwd.delete(0, 'END')\n",
        "    campo_nome.focus()\n",
        "\n",
        "def mostrar_senha():\n",
        "  if mostrar.get() == 1:\n",
        "    campo_passwd['show'] = ''\n",
        "  else:\n",
        "    campo_passwd['show'] = '*'\n",
        "\n",
        "\n",
        "# Criando a janela\n",
        "janela = Tk()\n",
        "janela.title('Tkinter - Projeto 01')\n",
        "janela.geometry('310x300')\n",
        "janela.configure(background=COR_FUNDO)\n",
        "janela.resizable(width=False, height=False)\n",
        "janela.bind('<Return>', entrar)\n",
        "\n",
        "# Dividindo a janela\n",
        "frame_cima = Frame(\n",
        "    master=janela,\n",
        "    width=310,\n",
        "    height=50,\n",
        "    bg=COR_FUNDO\n",
        ")\n",
        "frame_cima.grid(\n",
        "    row=0,\n",
        "    column=0,\n",
        "    padx=0,\n",
        "    pady=1,\n",
        "    sticky=NSEW\n",
        ")\n",
        "\n",
        "frame_baixo = Frame(\n",
        "    master=janela,\n",
        "    width=310,\n",
        "    height=250,\n",
        "    bg=COR_FUNDO\n",
        "\n",
        ")\n",
        "frame_baixo.grid(\n",
        "    row=1,\n",
        "    column=0,\n",
        "    padx=0,\n",
        "    pady=1,\n",
        "    sticky=NSEW\n",
        ")\n",
        "\n",
        "# Configurando o Frame de cima\n",
        "label = Label(\n",
        "    master=frame_cima,\n",
        "    text='Login',\n",
        "    font=('Arial', 25),\n",
        "    fg=COR_LETRA,\n",
        "    bg=COR_FUNDO,\n",
        ")\n",
        "label.place(x=5, y=3)\n",
        "\n",
        "linha = Label(\n",
        "    master=frame_cima,\n",
        "    width=275,\n",
        "    bg=COR_IN\n",
        ")\n",
        "linha.place(x=20, y=47)\n",
        "\n",
        "# Configurando o Frame de baixo\n",
        "nome = Label(\n",
        "    master=frame_baixo,\n",
        "    text='Nome',\n",
        "    font=('Arial', 12),\n",
        "    fg=COR_LETRA,\n",
        "    bg=COR_FUNDO\n",
        ")\n",
        "nome.place(x=10, y=20)\n",
        "\n",
        "campo_nome = Entry(\n",
        "    master=frame_baixo,\n",
        "    width=22,\n",
        "    justify='left',\n",
        "    font=('Arial', 12),\n",
        "    highlightthickness=1,\n",
        "    relief='solid'\n",
        ")\n",
        "campo_nome.place(x=10, y=50)\n",
        "\n",
        "passwd = Label(\n",
        "    master=frame_baixo,\n",
        "    text='Senha',\n",
        "    font=('Arial', 12),\n",
        "    fg=COR_LETRA,\n",
        "    bg=COR_FUNDO\n",
        ")\n",
        "passwd.place(x=10, y=95)\n",
        "\n",
        "campo_passwd = Entry(\n",
        "    master=frame_baixo,\n",
        "    width=22,\n",
        "    justify='left',\n",
        "    show='*',\n",
        "    font=('Arial', 12),\n",
        "    highlightthickness=1,\n",
        "    relief='solid'\n",
        ")\n",
        "campo_passwd.place(x=10, y=130)\n",
        "\n",
        "mostrar = IntVar()\n",
        "check = Checkbutton(\n",
        "    master=frame_baixo,\n",
        "    text='Mostrar senha',\n",
        "    variable=mostrar,\n",
        "    fg=COR_LETRA,\n",
        "    bg=COR_FUNDO,\n",
        "    activebackground=COR_FUNDO,\n",
        "    command=mostrar_senha\n",
        ")\n",
        "check.place(x=180, y=160)\n",
        "\n",
        "btn_confirmar = Button(\n",
        "    master=frame_baixo,\n",
        "    text='ENTRAR',\n",
        "    font=('Arial', 10),\n",
        "    width=28,\n",
        "    hight=2,\n",
        "    fg=COR_FUNDO,\n",
        "    bg=COR_IN,\n",
        "    activebackground=COR_IN,\n",
        "    activeforeground=COR_FUNDO,\n",
        "    command=entrar\n",
        ")\n",
        "btn_confirmar.place(x=30, y=190)\n",
        "\n",
        "# Dando foco ao campo Nome\n",
        "campo_nome.focus()\n",
        "\n",
        "\n",
        "if __name__ == '__main__':\n",
        "  janela.mainloop()"
      ],
      "metadata": {
        "id": "TRQWMeG9ErWU"
      },
      "execution_count": null,
      "outputs": []
    }
  ]
}