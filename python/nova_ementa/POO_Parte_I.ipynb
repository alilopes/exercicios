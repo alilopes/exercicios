{
  "nbformat": 4,
  "nbformat_minor": 0,
  "metadata": {
    "colab": {
      "name": "POO - Parte I.ipynb",
      "provenance": []
    },
    "kernelspec": {
      "name": "python3",
      "display_name": "Python 3"
    },
    "language_info": {
      "name": "python"
    }
  },
  "cells": [
    {
      "cell_type": "markdown",
      "source": [
        "# Orientação à Objetos"
      ],
      "metadata": {
        "id": "LXLph7eh3xRz"
      }
    },
    {
      "cell_type": "markdown",
      "source": [
        "A programação Orientada à Objetos está entre os paradigmas de programação mais populares do mundo.\n",
        "\n",
        "São inúmeros benefícios como _modularidade do código_ e a _capacidade de associar diretamente problemas do mundo real_ em termos de código."
      ],
      "metadata": {
        "id": "4rBYAj9dDKkP"
      }
    },
    {
      "cell_type": "markdown",
      "source": [
        "> _**Objetivo** - aproximar o mundo digital do mundo real_"
      ],
      "metadata": {
        "id": "NrpGveSigqwP"
      }
    },
    {
      "cell_type": "markdown",
      "source": [
        "__Vantagens__:\n",
        "\n",
        "* Reaproveitamento de código\n",
        "\n",
        "* Encapsulamento : proteção à mudanças indesejadas\n",
        "\n",
        "* Herança : diferentes objetos / instâncias compartilham as mesmas características e podem possuir valores diferentes\n",
        "\n",
        "* Polimorfismo : um mesmo método podem ter várias __formas__ entre a super classe e as sub classes"
      ],
      "metadata": {
        "id": "8V_yo6Vgi7-H"
      }
    },
    {
      "cell_type": "markdown",
      "source": [
        "## Conceitos iniciais"
      ],
      "metadata": {
        "id": "UBDmH9Rh4oeT"
      }
    },
    {
      "cell_type": "markdown",
      "source": [
        "* __Confiável__ : o isolamento entre as partes gera software seguro. Ao alterar uma parte, nenhuma outra é afetada\n",
        "\n",
        "* __Oportuno__ : ao dividir tudo em partes, várias delas podem ser desenvolvidas em parelelo\n",
        "\n",
        "* __Manutenível__ : atualizar um software é mais fácil. Uma pequena modificação vai beneficiar todas as partes que usarem o objeto\n",
        "\n",
        "* __Extensível__ : o software não é estático. Ele deve crescer para permanecer útil\n",
        "\n",
        "* __Reutilizável__ : podemos usar objetos de um sistema que criamos em outro sistema futuro\n",
        "\n",
        "* __Natural__ : mais fácil de entender. Você se preocupa mais na funcionalidade do que nos detalhes de implementação"
      ],
      "metadata": {
        "id": "NQoq8yBmLMVb"
      }
    },
    {
      "cell_type": "markdown",
      "source": [
        "Assim, fica claro que este paradigma traz consigo:\n",
        "\n",
        "  * Reuso e Coesão\n",
        "  * Acoplamento\n",
        "  * Encapsulamento \n",
        "  * Herança\n",
        "  * Polimorfismo"
      ],
      "metadata": {
        "id": "jH4TrVZYZVcZ"
      }
    },
    {
      "cell_type": "markdown",
      "source": [
        "## Abstração"
      ],
      "metadata": {
        "id": "lFfOEok65BDC"
      }
    },
    {
      "cell_type": "markdown",
      "source": [
        "É a capacidade de abstrair coisas. É o ponto de partida para a criação de programas utilizando __POO__ (_programação orientada à objetos_)"
      ],
      "metadata": {
        "id": "KqifjYa1aJaY"
      }
    },
    {
      "cell_type": "markdown",
      "source": [
        "## Acoplamento"
      ],
      "metadata": {
        "id": "KHpXKfn95YxS"
      }
    },
    {
      "cell_type": "markdown",
      "source": [
        "É uma forma de quantificar a relação entre as unidades/trecho de código, ou seja, entre atributos e métodos ou entre atributos e métodos com a classe em si ou ainda entre classes."
      ],
      "metadata": {
        "id": "6PujJYHtRa4z"
      }
    },
    {
      "cell_type": "markdown",
      "source": [
        "## Encapsulamento"
      ],
      "metadata": {
        "id": "lduwFEad5erJ"
      }
    },
    {
      "cell_type": "markdown",
      "source": [
        "* <u>Encapsular</u> : ocultar partes independentes da implementação, permitindo construir partes invisíveis ao mundo exterior\n",
        "\n",
        "> _Encapsular não é obrigatório, mas é uma boa prática para produzir classes mais eficientes_\n",
        "\n",
        "E quais as vantagens?\n",
        "\n",
        "* Tornar mudanças invisíveis\n",
        "* Facilitar a reutilização do código\n",
        "* Reduzir os efeitos colaterais"
      ],
      "metadata": {
        "id": "n_bRcRAwR4mS"
      }
    },
    {
      "cell_type": "markdown",
      "source": [
        "## Classe"
      ],
      "metadata": {
        "id": "Fh5Up8lC41Yu"
      }
    },
    {
      "cell_type": "markdown",
      "source": [
        "Simulação de Eventos Discretos >>> Paradigma Orientado à Objetos"
      ],
      "metadata": {
        "id": "FJdgZh7qcS2q"
      }
    },
    {
      "cell_type": "markdown",
      "source": [
        "Classe é uma estrutura que abstrai um conjunto de objetos com características similares. Definindo as características e os comportamentos dos seus objetos através das estuturas:\n",
        "\n",
        "  * Atributos (características)\n",
        "  * Métodos (comportamentos)\n",
        "\n",
        "A classe define um tipo de dado abstrato, definindo assim os atributos e métodos comuns que serão compartilhados por um objeto.\n",
        "\n",
        "> _Podemos entender a classe como um molde / template_\n",
        "\n",
        "A classe tem que responder __sempre__ a 3 coisas:\n",
        "\n",
        "* coisas que eu tenho (atributos)\n",
        "* coisas que eu faço (métodos)\n",
        "* como eu estou agora? (estado)"
      ],
      "metadata": {
        "id": "QCtdPkZqbwxP"
      }
    },
    {
      "cell_type": "markdown",
      "source": [
        "Para construirmos uma classe, devemos utilizar a palavra reservada _class_.\n",
        "\n",
        "No exemplo abaixo temos apenas a definição da classe Aluno, porém sem nenhum atributo e nem métodos.\n",
        "\n",
        "Como já sabemos, o __Python__ não aceita a definição de um bloco (for, while, if, def, class...) sem que haja um \"_corpo_\", ou seja, instruções. Mas em alguns momentos precisaremos definir um \"_bloco vazio_\" e para resolvermos isso, utilizamos a palavra reservada _pass_."
      ],
      "metadata": {
        "id": "Z_9iPQdjk4pl"
      }
    },
    {
      "cell_type": "code",
      "source": [
        "class Aluno:\n",
        "  pass"
      ],
      "metadata": {
        "id": "LN1cfAMCPg53"
      },
      "execution_count": null,
      "outputs": []
    },
    {
      "cell_type": "markdown",
      "source": [
        "Se estiver no shell do python e chamar a classe, teremos o resultado como mostrado abaixo.\n",
        "\n",
        "Vamos aproveitar esta saída e revisitar alguns conceitos importantes sobre os __dunder objects__.\n",
        "\n",
        "Em aulas anteriores conhecemos o __name__ que retorna o nome do arquivo, porém há algumas particularidades que devemos prestar a atenção. \n",
        "\n",
        "* Quando arquivo está sendo executado __DIRETAMENTE__ pelo __Python__\n",
        "  * Neste caso, ao chamarmos o `__name__`, teremos como retorno o valor __main__\n",
        "\n",
        "* Quando o arquivo está sendo utilizado como um módulo\n",
        "  * Neste caso, ao chamarmos o `__name__`, teremos como retorno o nome do arquivo importado"
      ],
      "metadata": {
        "id": "ajE1eai0mAjy"
      }
    },
    {
      "cell_type": "code",
      "source": [
        "# <nome do arquivo.Classe at endereço de memória>\n",
        "Aluno()"
      ],
      "metadata": {
        "colab": {
          "base_uri": "https://localhost:8080/"
        },
        "id": "T4KWJgP0QVMg",
        "outputId": "26dbd28e-69fe-4887-d006-e3b13335141c"
      },
      "execution_count": null,
      "outputs": [
        {
          "output_type": "execute_result",
          "data": {
            "text/plain": [
              "<__main__.Aluno at 0x7f31e45dced0>"
            ]
          },
          "metadata": {},
          "execution_count": 11
        }
      ]
    },
    {
      "cell_type": "markdown",
      "source": [
        "No código acima, o construtor apesar de não aparecer, foi criado implicitamente pelo __Python__."
      ],
      "metadata": {
        "id": "993_7rNxTY7q"
      }
    },
    {
      "cell_type": "markdown",
      "source": [
        "## Objetos"
      ],
      "metadata": {
        "id": "_zJzOEfb42sC"
      }
    },
    {
      "cell_type": "markdown",
      "source": [
        "Um objeto é a representação de um conceito/entidade do mundo real, que pode ser física ou conceitual e possui um significado bem definido para um determinado software.\n",
        "\n",
        "<u>Uma segunda definição</u>: coisa material ou abstrata que pode ser percebida pelos sentidos e descrita por meio das suas características, comportamentos e estado atual.\n",
        "\n",
        "Resumindo: _o objeto é a instância de uma classe_"
      ],
      "metadata": {
        "id": "f-fM627bggpp"
      }
    },
    {
      "cell_type": "markdown",
      "source": [
        "<u>Bola de Basquete</u>\n",
        "  * Características | Atributos\n",
        "    * tamanho\n",
        "    * peso\n",
        "    * cor\n",
        "  * Comportamento | Métodos\n",
        "    * quicar\n",
        "    * lançar\n",
        "    * passar\n",
        "    * rolar\n",
        "  * Estado atual\n",
        "    * lançada\n",
        "    * parada\n",
        "    * quicando\n",
        "\n",
        "<u>Cachorro</u>\n",
        "  * Características | Atributos\n",
        "    * tamanho\n",
        "    * peso\n",
        "    * cor\n",
        "    * nome\n",
        "    * raça\n",
        "  * Comportamento | Métodos\n",
        "    * latir\n",
        "    * rosnar\n",
        "    * dormir\n",
        "    * pegar osso\n",
        "    * abanar o rabo\n",
        "  * Estado atual\n",
        "    * correndo\n",
        "    * pulando\n",
        "    * fazer festa\n",
        "\n",
        "<u>Compromisso</u>\n",
        "  * Características | Atributos\n",
        "    * dia\n",
        "    * horário\n",
        "    * local\n",
        "  * Comportamento | Métodos\n",
        "    * agendar\n",
        "    * cancelar\n",
        "    * reagendar\n",
        "    * adiar\n",
        "  * Estado atual\n",
        "    * agendado\n",
        "    * cancelado\n",
        "    * reagendado\n",
        "    * adiado\n",
        "\n",
        "<u>Carro</u>\n",
        "  * Características | Atributos\n",
        "    * fabricante\n",
        "    * modelo\n",
        "    * cor\n",
        "    * quantidade de bancos\n",
        "  * Comportamento | Métodos\n",
        "    * ligar\n",
        "    * desligar\n",
        "    * acelerar\n",
        "    * frear\n",
        "    * virar à esquerda\n",
        "    * virar à direita\n",
        "    * estacionar\n",
        "  * Estado atual\n",
        "    * ligado\n",
        "    * desligado\n",
        "    * estacionado\n",
        "    * andando\n",
        "    * dando ré\n"
      ],
      "metadata": {
        "id": "cjQEB4rPSk5R"
      }
    },
    {
      "cell_type": "markdown",
      "source": [
        "## Construtor"
      ],
      "metadata": {
        "id": "OXpybbQV44Xw"
      }
    },
    {
      "cell_type": "markdown",
      "source": [
        "É o primeiro método executado quando um objeto é instanciado, ou seja, sempre que instanciar um novo objeto, todo o código dentro do construtor será executado\n",
        "\n",
        "> Acessado no ato da construção do objeto\n",
        "\n",
        "No __Python__ o método construtor é definido como `__init__`. Veja o exemplo abaixo:"
      ],
      "metadata": {
        "id": "V6MK-e4ZZYbc"
      }
    },
    {
      "cell_type": "code",
      "source": [
        "class Aluno:\n",
        "\n",
        "  def __init__(self, nome, cpf, email):\n",
        "    self.nome = nome\n",
        "    self.cpf = cpf\n",
        "    self.email = email\n"
      ],
      "metadata": {
        "id": "xDwg5oIvTyo3"
      },
      "execution_count": null,
      "outputs": []
    },
    {
      "cell_type": "markdown",
      "source": [
        "Repare que _aluno_1_ é um objeto da classe _Aluno_\n",
        "\n",
        "Podemos ver todos os atributos de um objeto com o __dunder object__ `__dict__`. \n",
        "\n",
        "Este objeto especial retorna um dicionário com os atributos definidos na classe como chaves e os dados passados durante a instância do objeto como seus valores:\n",
        "\n",
        "* <u>Chaves</u> : nome, cpf, email\n",
        "* <u>Valores</u> : Rafael, 000.000.000-00, rafael@email.com\n"
      ],
      "metadata": {
        "id": "XqQMagkspguH"
      }
    },
    {
      "cell_type": "code",
      "source": [
        "aluno_1 = Aluno('Rafael', '000.000.000-00', 'rafael@email.com')\n",
        "aluno_1.__dict__"
      ],
      "metadata": {
        "colab": {
          "base_uri": "https://localhost:8080/"
        },
        "id": "EuEmLRYaUGT6",
        "outputId": "7c189920-3086-4b9a-9afb-e8752d901af1"
      },
      "execution_count": null,
      "outputs": [
        {
          "output_type": "execute_result",
          "data": {
            "text/plain": [
              "{'nome': 'Rafael', 'cpf': '000.000.000-00', 'email': 'rafael@email.com'}"
            ]
          },
          "metadata": {},
          "execution_count": 26
        }
      ]
    },
    {
      "cell_type": "markdown",
      "source": [
        "Perceba que o primeiro parâmetro do construtor `__init__` é _self_. Mas afinal, quem é __self__?!\n",
        "\n",
        "__Self__ é um parâmetro que se refere a própria instância da classe. Serve para acessar os atributos e métodos da classe referentes àquele objeto em específico.\n",
        "\n",
        "Veja alguns exemplos:"
      ],
      "metadata": {
        "id": "m3CVByu2qlWc"
      }
    },
    {
      "cell_type": "markdown",
      "source": [
        "### Exemplo 1"
      ],
      "metadata": {
        "id": "-BGncicmzmOB"
      }
    },
    {
      "cell_type": "code",
      "source": [
        "class Conta:\n",
        "  def __init__(self):\n",
        "    self.nome_banco = 'Meu Banco'\n",
        "    self.agencia = 1"
      ],
      "metadata": {
        "id": "8IuW0fZErwvF"
      },
      "execution_count": 1,
      "outputs": []
    },
    {
      "cell_type": "code",
      "source": [
        "c1 = Conta()\n",
        "print(c1)\n",
        "print(f'Banco: {c1.nome_banco}, Agência: {c1.agencia}')"
      ],
      "metadata": {
        "colab": {
          "base_uri": "https://localhost:8080/"
        },
        "id": "ER5YIp_2P1ch",
        "outputId": "287cd246-92b4-4dad-f5bc-11b18c645a30"
      },
      "execution_count": 3,
      "outputs": [
        {
          "output_type": "stream",
          "name": "stdout",
          "text": [
            "<__main__.Conta object at 0x7f1810703750>\n",
            "Banco: Meu Banco, Agência: 1\n"
          ]
        }
      ]
    },
    {
      "cell_type": "markdown",
      "source": [
        "### Exemplo 2"
      ],
      "metadata": {
        "id": "St_NuMJFzpex"
      }
    },
    {
      "cell_type": "code",
      "source": [
        "# Função que gera um número aleatório de acordo \n",
        "# com o tamanho especificado\n",
        "\n",
        "from random import randint\n",
        "\n",
        "def gera_matricula(tamanho: int) -> int:\n",
        "  return int(''.join([ str(randint(1, 9)) for _ in range(tamanho)]))"
      ],
      "metadata": {
        "id": "LlHJoxCSNIYJ"
      },
      "execution_count": 15,
      "outputs": []
    },
    {
      "cell_type": "code",
      "source": [
        "# Aqui temos as annotations no método construtor\n",
        "\n",
        "class Aluno:\n",
        "  def __init__(self, nome: str, cpf: str, email: str) -> None:\n",
        "    self.matricula =  gera_matricula(4)\n",
        "    self.nome = nome\n",
        "    self.cpf = cpf\n",
        "    self.email = email"
      ],
      "metadata": {
        "id": "XIjWEWZ5LQZ7"
      },
      "execution_count": 19,
      "outputs": []
    },
    {
      "cell_type": "code",
      "source": [
        "aluno1 = Aluno('Rafael', '000.000.000-00', 'rafael@emil.com')\n",
        "aluno2 = Aluno('Puyau', '111.111.111-11', 'puyau@emil.com')\n",
        "\n",
        "print(aluno1.__dict__)\n",
        "print(aluno2.__dict__)"
      ],
      "metadata": {
        "colab": {
          "base_uri": "https://localhost:8080/"
        },
        "id": "pupFDPrhN49g",
        "outputId": "ce15dbda-53c8-46b8-bfea-37ac9fa63e65"
      },
      "execution_count": 17,
      "outputs": [
        {
          "output_type": "stream",
          "name": "stdout",
          "text": [
            "{'matricula': 4258, 'nome': 'Rafael', 'cpf': '000.000.000-00', 'email': 'rafael@emil.com'}\n",
            "{'matricula': 2283, 'nome': 'Puyau', 'cpf': '111.111.111-11', 'email': 'puyau@emil.com'}\n"
          ]
        }
      ]
    },
    {
      "cell_type": "code",
      "source": [
        "# Função que gera um número aleatório de acordo \n",
        "# com o tamanho especificado\n",
        "\n",
        "from random import randint\n",
        "\n",
        "def gera_numero_conta(tamanho: int) -> int:\n",
        "  return int(''.join([ str(randint(0, 9)) for _ in range(tamanho)]))"
      ],
      "metadata": {
        "id": "lRBpC0Brjhf4"
      },
      "execution_count": 18,
      "outputs": []
    },
    {
      "cell_type": "markdown",
      "source": [
        "### Exemplo 3"
      ],
      "metadata": {
        "id": "q3vEVvdB2xH8"
      }
    },
    {
      "cell_type": "code",
      "source": [
        "class ContaCorrente:\n",
        "\n",
        "  def __init__(self, titular: str) -> None:\n",
        "    self.numero: int = gera_numero_conta(7)\n",
        "    self.titular: str = titular\n",
        "    self.saldo: int = 0\n",
        "\n",
        "  def consultar_saldo(self) -> str:\n",
        "    return f'Saldo atual: R${self.saldo:_.2f}'\n",
        "\n",
        "  def depositar(self, valor: float) -> None:\n",
        "    self.saldo += valor\n",
        "\n",
        "  def sacar(self, valor: float) -> str:\n",
        "    if self.saldo - valor >= 0:\n",
        "      self.saldo -= valor\n",
        "      return f'Saque de R${valor:_.2f} realizado com sucesso'\n",
        "    else:\n",
        "      return f'Saldo insuficiente: R${self.saldo:_.2f}'"
      ],
      "metadata": {
        "id": "ZMgZGx5DjUNq"
      },
      "execution_count": 27,
      "outputs": []
    },
    {
      "cell_type": "code",
      "source": [
        "c1 = ContaCorrente('Rafael Puyau')\n",
        "c1.depositar(10_000)\n",
        "print(c1.consultar_saldo())\n",
        "print(c1.sacar(9_000))\n",
        "print(c1.consultar_saldo())"
      ],
      "metadata": {
        "colab": {
          "base_uri": "https://localhost:8080/"
        },
        "id": "zMpKKv2PjxvG",
        "outputId": "8624cb5b-f183-49d4-cd76-629246b5efcd"
      },
      "execution_count": 28,
      "outputs": [
        {
          "output_type": "stream",
          "name": "stdout",
          "text": [
            "Saldo atual: R$10_000.00\n",
            "Saque de R$9_000.00 realizado com sucesso\n",
            "Saldo atual: R$1_000.00\n"
          ]
        }
      ]
    },
    {
      "cell_type": "code",
      "source": [
        "print(c1.sacar(950))\n",
        "print(c1.consultar_saldo())"
      ],
      "metadata": {
        "colab": {
          "base_uri": "https://localhost:8080/"
        },
        "id": "i823XoWThN1y",
        "outputId": "4e14adbe-5f88-424a-9975-2954ab76e6ae"
      },
      "execution_count": 29,
      "outputs": [
        {
          "output_type": "stream",
          "name": "stdout",
          "text": [
            "Saque de R$950.00 realizado com sucesso\n",
            "Saldo atual: R$50.00\n"
          ]
        }
      ]
    },
    {
      "cell_type": "markdown",
      "source": [
        "## Visibilidade"
      ],
      "metadata": {
        "id": "bLKT6VBc5blL"
      }
    },
    {
      "cell_type": "markdown",
      "source": [
        "Os _modificadores de visibilidade_ indicam o nível de acesso aos componentes internos (atributos e métodos) de uma classe."
      ],
      "metadata": {
        "id": "d-91y46xXFnm"
      }
    },
    {
      "cell_type": "markdown",
      "source": [
        "<u>Visibilidade - Modificador de Acesso</u>\n",
        "\n",
        "* __privada__ (private) - restritiva : define que os atributos e métodos __SÓ__ podem ser manipulados dentro da classe (_somente a classe atual_)\n",
        "\n",
        "  > atributos e métodos definidos como privados só poderão ser invocados, acessados e modificados somente por seu próprio objeto\n",
        "\n",
        "* __protegida__ (protected) - intermediária : define que os atributos e métodos só podem ser manipulados dentro da classe e nas classes que herdam da classe onde foram definidos (_a classe atual e todas as suas sub-classes_)\n",
        "\n",
        "  > atributos e métodos definidos como protegidos só poderão ser invocados, acessados e modificados por classes que herdam de outras através do conceito de __herança__. Sendo assim, apenas as classes \"_filhas_\" e a \"_própria classe_\" poderão acessar métodos e atributos protegidos\n",
        "\n",
        "* __pública__ (public) - menos restritiva : define que os atributos e métodos podem ou são acessíveis em qualquer lugar ou em qualquer parte do código (_classe atual e todas as outras classes_)\n",
        "\n",
        "  > atributos e métodos definidos como públicos poderão ser invocados, acessados e modificados através de qualquer lugar do projeto\n",
        "\n",
        "No __Python__, diferente das linguagens completamente voltadas ao paradigma da _orientação à objetos_ como _Java_ e _C#_, estes atributos existem, mas não da forma \"_convencional_\".\n",
        "\n",
        "E como definimos isso no __Python__?\n",
        "\n",
        "Para definir um atributo público, não há necessidade de realizar nenhuma alteração, por padrão, todos os atributos e métodos criados no __Python__ são definidos com este nível de visibilidade.\n",
        "\n",
        "* __público__ : `self.atributo`\n",
        "\n",
        "Já se precisarmos definir um atributo como privado ou protegido devemos colocar `__` e `_` antes do atributo, respectivamente:\n",
        "\n",
        "* __privado__ : `self.__atributo`\n",
        "\n",
        "* __protegido__ : `self._atributo`\n"
      ],
      "metadata": {
        "id": "aNkyr0RcKo9Q"
      }
    },
    {
      "cell_type": "markdown",
      "source": [
        "### Name Mangling"
      ],
      "metadata": {
        "id": "3XKFEBC25kSh"
      }
    },
    {
      "cell_type": "markdown",
      "source": [
        "Mesmo que nossos atributos estejam marcado como privados, podemos acessá-los diretamente. \n",
        "\n",
        "> _O __Python__ não é uma linguagem orientada à objetos, porém suporta este paradigma_\n",
        "\n",
        "A este \"_acesso_\" direto aos nossos atributos privados, damos o nome de __Name Mangling__.\n",
        "\n",
        "E para acessar o atributo em questão, basta fornecermos o nome da classe seguido pelo nome do atributo. \n",
        "\n",
        "Veja o exemplo abaixo:"
      ],
      "metadata": {
        "id": "R3houeIT-UFt"
      }
    },
    {
      "cell_type": "code",
      "source": [
        "class ContaCorrente:\n",
        "  def __init__(self, titular: str) -> None:\n",
        "    self.titular = titular\n",
        "    self.__saldo = 0"
      ],
      "metadata": {
        "id": "ImqHTtHn-5mZ"
      },
      "execution_count": 43,
      "outputs": []
    },
    {
      "cell_type": "code",
      "source": [
        "c1 = ContaCorrente('Rafael')\n",
        "c1.__dict__"
      ],
      "metadata": {
        "colab": {
          "base_uri": "https://localhost:8080/"
        },
        "id": "JtcQ5x3-_L0i",
        "outputId": "ed500d0e-746b-44b8-9899-ce161eca685c"
      },
      "execution_count": 44,
      "outputs": [
        {
          "output_type": "execute_result",
          "data": {
            "text/plain": [
              "{'titular': 'Rafael', '_ContaCorrente__saldo': 0}"
            ]
          },
          "metadata": {},
          "execution_count": 44
        }
      ]
    },
    {
      "cell_type": "code",
      "source": [
        "c1._ContaCorrente__saldo"
      ],
      "metadata": {
        "colab": {
          "base_uri": "https://localhost:8080/"
        },
        "id": "e69kHBFK_Wpd",
        "outputId": "4bb8320c-4b54-4b85-d054-67d5a9d3cb45"
      },
      "execution_count": 45,
      "outputs": [
        {
          "output_type": "execute_result",
          "data": {
            "text/plain": [
              "0"
            ]
          },
          "metadata": {},
          "execution_count": 45
        }
      ]
    },
    {
      "cell_type": "markdown",
      "source": [
        "__ATENÇÃO__ : apesar de conseguirmos acessar o atributo privado diretamente, __NÃO FAZ SENTIDO__ utilizarmos esta técnica. \n",
        "\n",
        "Se desejamos acessar um atributo privado, devemos implementar os _getters_ e _setters_ que veremos a seguir."
      ],
      "metadata": {
        "id": "F5JXDHn4_Z51"
      }
    },
    {
      "cell_type": "markdown",
      "source": [
        "## Getters e Setters"
      ],
      "metadata": {
        "id": "Yia8ocs05hCs"
      }
    },
    {
      "cell_type": "markdown",
      "source": [
        "São basicamente métodos que recuperam (__getters__) e modificam (__setters__) valores de atributos de uma classe.\n",
        "\n",
        "* __getters__ : recupera os dados de uma classe\n",
        "* __setters__ : modifica dados de uma classe\n",
        "\n",
        "> utiliza-se os _famosos_ decorators do __Python__ \n",
        "\n",
        "__OBS__ : _decorators_ são conhecidos como funções __wrapper__ que mudam o comportamento de outras funções.\n",
        "\n",
        "Quando há dados sensíveis, ou seja, que não devem ser modificados de forma aleatória ou arbitrária, devemos nos preocupar em protegê-los. "
      ],
      "metadata": {
        "id": "2fyOU7zyYKUT"
      }
    },
    {
      "cell_type": "markdown",
      "source": [
        "### Exemplo 1"
      ],
      "metadata": {
        "id": "lAn1CKJ06FZM"
      }
    },
    {
      "cell_type": "code",
      "source": [
        "class User:\n",
        "  def __init__(self, login: str, passwd: str) -> None:\n",
        "    self.__login = login\n",
        "    self.__password = passwd\n",
        "\n",
        "  @property\n",
        "  def login(self) -> str:\n",
        "    return self.__login\n",
        "\n",
        "  @login.setter\n",
        "  def login(self, new_login: str) -> None:\n",
        "    self.__login = new_login\n",
        "\n",
        "  @property\n",
        "  def password(self) -> str:\n",
        "    return self.__password\n",
        "\n",
        "  @password.setter\n",
        "  def password(self, new_pass: str) -> bool:\n",
        "    if len(new_pass) < 4:\n",
        "      print('your password must be at least 4 digits long')\n",
        "      return False\n",
        "    self.__password = new_pass\n",
        "    print('your password has been changed successfully')\n",
        "    return True\n"
      ],
      "metadata": {
        "id": "-xo8wKMs6Hh_"
      },
      "execution_count": 40,
      "outputs": []
    },
    {
      "cell_type": "code",
      "source": [
        "user1 = User('ischool', '1234')\n",
        "print(user1.login, user1.password, sep=': ')\n",
        "user1.password = '12'\n",
        "print(user1.login, user1.password, sep=': ')"
      ],
      "metadata": {
        "colab": {
          "base_uri": "https://localhost:8080/"
        },
        "id": "9BCMBAtQ9NTu",
        "outputId": "14f6a997-f96a-4037-eab5-e3c636e70cfa"
      },
      "execution_count": 41,
      "outputs": [
        {
          "output_type": "stream",
          "name": "stdout",
          "text": [
            "ischool: 1234\n",
            "your password must be at least 4 digits long\n",
            "ischool: 1234\n"
          ]
        }
      ]
    },
    {
      "cell_type": "code",
      "source": [
        "user1.password = '4321'\n",
        "print(user1.login, user1.password, sep=': ')"
      ],
      "metadata": {
        "colab": {
          "base_uri": "https://localhost:8080/"
        },
        "id": "zGuCcw6i-E5T",
        "outputId": "5532ccb7-0979-42d2-908e-876cc4b57202"
      },
      "execution_count": 42,
      "outputs": [
        {
          "output_type": "stream",
          "name": "stdout",
          "text": [
            "your password has been changed successfully\n",
            "ischool: 4321\n"
          ]
        }
      ]
    },
    {
      "cell_type": "markdown",
      "source": [
        "## Hora de praticar!"
      ],
      "metadata": {
        "id": "rQCatXYx5wHl"
      }
    },
    {
      "cell_type": "markdown",
      "source": [
        "### Atividade 1"
      ],
      "metadata": {
        "id": "Q_X5xeS_54LG"
      }
    },
    {
      "cell_type": "markdown",
      "source": [
        "Crie uma classe chamada conta corrente com as seguintes características:\n",
        "\n",
        "__nome do arquivo__ : meu_banco.py\n",
        "\n",
        "* Atributos\n",
        "  * titular\n",
        "  * saldo (deve ser privado)\n",
        "  \n",
        "  __OBS__ : o parâmetro com o valor do saldo deve ser nomeado\n",
        "\n",
        "* Métodos\n",
        "  * consultar_saldo\n",
        "  * depositar\n",
        "  * sacar\n",
        "  * transferir\n",
        "  * imprimir_extrato"
      ],
      "metadata": {
        "id": "duM_FNpMsF_O"
      }
    },
    {
      "cell_type": "markdown",
      "source": [
        "#### Gabarito"
      ],
      "metadata": {
        "id": "0r3mFh006Eo7"
      }
    },
    {
      "cell_type": "code",
      "source": [
        "class ContaCorrente:\n",
        "  '''Minha primeira classe'''\n",
        "\n",
        "  def __init__(self, titular: str, saldo: int = 0) -> None:\n",
        "    self.titular: str = titular\n",
        "    self.__saldo: int = saldo\n",
        "    self.__extrato: list = []\n",
        "\n",
        "  def consultar_saldo(self) -> int:\n",
        "    '''Retorna o saldo do cliente'''\n",
        "    return self.__saldo\n",
        "\n",
        "  def depositar(self, valor: float) -> None:\n",
        "    '''Método que atualiza o saldo positivamente'''\n",
        "    self.__saldo += valor\n",
        "    self.__extrado.append(f'(+){valor:.2f}')\n",
        "\n",
        "  def sacar(self, valor: float) -> str:\n",
        "    '''Método que atualiza o saldo negativamente'''\n",
        "    if valor > self.__saldo:\n",
        "      return 'Saldo insuficiente'\n",
        "    self.__saldo -= valor\n",
        "    self.__extrato.append(f'(-){valor:.2f}')\n",
        "    return 'Saque realizado com sucesso'\n",
        "\n",
        "  def transferir(self, destino: ContaCorrente, valor: float) -> str:\n",
        "    '''Realiza transferência entre duas contas'''\n",
        "    if self.sacar(valor) == 'Saldo insuficiente':\n",
        "      return 'Não foi possível transferir'\n",
        "    destino.depositar(valor)\n",
        "    return 'Transferência realizada com sucesso'\n",
        "\n",
        "  def imprimir_extrato(self) -> None:\n",
        "    print('----- EXTRATO -----')\n",
        "    print(self.titular)\n",
        "    for movimentacao in self.__extrato:\n",
        "      print(movimentacao)\n",
        "    print(f'Saldo: {self.consultar_saldo()}')\n",
        "\n",
        "if __name__ == '__main__':\n",
        "  print('Este arquivo só define a classe conta corrente')"
      ],
      "metadata": {
        "id": "YLvpAybupiAf",
        "colab": {
          "base_uri": "https://localhost:8080/"
        },
        "outputId": "7879a96f-bba9-4245-8827-aa8c3e47192a"
      },
      "execution_count": 46,
      "outputs": [
        {
          "output_type": "stream",
          "name": "stdout",
          "text": [
            "Este arquivo só define a classe conta corrente\n"
          ]
        }
      ]
    },
    {
      "cell_type": "markdown",
      "source": [
        "### Atividade 2"
      ],
      "metadata": {
        "id": "MF2GDQar578Z"
      }
    },
    {
      "cell_type": "markdown",
      "source": [
        "Crie 2 classes com as seguintes características:\n",
        "\n",
        "__nome do arquivo__ : mamiferos.py\n",
        "\n",
        "* Classe Cachorro:\n",
        "  * Atributos\n",
        "    * nome\n",
        "    * raça (deve ser privado)\n",
        "    * cor (deve ser privado)\n",
        "  * Métodos\n",
        "    * latir\n",
        "    * andar\n",
        "    * fazer festa\n",
        "\n",
        "* Classe Gato:\n",
        "  * Atributos\n",
        "    * nome\n",
        "    * raça (deve ser privado)\n",
        "    * cor (deve ser privado)\n",
        "  * Métodos\n",
        "    * miar\n",
        "    * andar\n",
        "    * brincar\n",
        "\n",
        "    __OBS__ : este último método deve ter um parâmetro nomeado com valor 'novelo'"
      ],
      "metadata": {
        "id": "kl6Bx1mgtwQU"
      }
    },
    {
      "cell_type": "markdown",
      "source": [
        "#### Gabarito"
      ],
      "metadata": {
        "id": "F5ETQpxb6Kzq"
      }
    },
    {
      "cell_type": "code",
      "source": [
        "class Cachorro:\n",
        "  '''Aqui nascem nossos cachorrinhos'''\n",
        "\n",
        "  def __init__(self, nome: str, raca: str, cor: str) -> None:\n",
        "    self.nome: str = nome\n",
        "    self.__raca: str = raca\n",
        "    self.__cor: str = cor\n",
        "\n",
        "  def latir(self) -> str:\n",
        "    '''Define o som do cachorro'''\n",
        "    return f'{self.nome} está latindo...'\n",
        "\n",
        "  def andar(self) -> str:\n",
        "    '''Define como o cachorro se locomove'''\n",
        "    return f'{self.nome} está andando...'\n",
        "\n",
        "  def fazer_festa(self) -> str:\n",
        "    '''Define o comportamento do cachorro'''\n",
        "    return f'{self.nome} enlouqueceu!'\n",
        "  \n",
        "class Gato:\n",
        "  '''Aqui nascem nossos gatinhos'''\n",
        "\n",
        "  def __init__(self, nome: str, raca: str, cor: str) -> None:\n",
        "    self.nome: str = nome\n",
        "    self.__raca: str = raca\n",
        "    self.__cor: str = cor\n",
        "\n",
        "  def miar(self) -> str:\n",
        "    '''Define o som do gato'''\n",
        "    return 'meow meow'\n",
        "\n",
        "  def andar(self) -> str:\n",
        "    '''Define como o gato se locomove'''\n",
        "    return f'{self.nome} está desfilando...'\n",
        "\n",
        "  def brincar(self, brinquedo: str = 'novelo') -> str:\n",
        "    '''Define como o gato brincará'''\n",
        "    return f'{self.nome} está brincando com {brinquedo}'\n",
        "\n",
        "if __name__ == '__main__':\n",
        "  print('Este arquivo define as classes cachorro e gato')"
      ],
      "metadata": {
        "id": "xFDZ6ivpvglA",
        "colab": {
          "base_uri": "https://localhost:8080/"
        },
        "outputId": "514cfdb4-080f-4132-d1ae-a39b0fdc9610"
      },
      "execution_count": 47,
      "outputs": [
        {
          "output_type": "stream",
          "name": "stdout",
          "text": [
            "Este arquivo define as classes cachorro e gato\n"
          ]
        }
      ]
    },
    {
      "cell_type": "markdown",
      "source": [
        "### Atividade 3"
      ],
      "metadata": {
        "id": "b-L1C5oz5-2a"
      }
    },
    {
      "cell_type": "markdown",
      "source": [
        "Crie uma classe chamada produto com as seguintes características:\n",
        "\n",
        "__nome do arquivo__ : produto.py\n",
        "\n",
        "* Atributos\n",
        "  * nome\n",
        "  * preço (deve ser privado)\n",
        "  * categoria (deve ser privado)\n",
        "  * descrição\n",
        "* Método\n",
        "  * reajustar preço"
      ],
      "metadata": {
        "id": "rpYGhdH93fxm"
      }
    },
    {
      "cell_type": "markdown",
      "source": [
        "#### Gabarito"
      ],
      "metadata": {
        "id": "IzoCr43F6My-"
      }
    },
    {
      "cell_type": "code",
      "source": [
        "class Produto:\n",
        "  '''Modelo para cadastrar produtos'''\n",
        "\n",
        "  def __init__(self, nome: str, valor: float, categoria: str, descricao: str) -> None:\n",
        "    self.nome: str = nome\n",
        "    self.__preco: float = valor\n",
        "    self.__categoria: str = categoria\n",
        "    self.descricao: str = descricao\n",
        "\n",
        "  @property\n",
        "  def preco(self) -> float:\n",
        "    '''Retorna o preço atual'''\n",
        "    return self.__preco\n",
        "\n",
        "  @preco.setter\n",
        "  def preco(self, novopreco: float) -> float:\n",
        "    '''Altera o preço'''\n",
        "    if novopreco > 0:\n",
        "      self.__preco = novopreco\n",
        "    return self.preco\n",
        "\n",
        "  @property\n",
        "  def categoria(self) -> str:\n",
        "    '''Retorna a categoria'''\n",
        "    return self.__categoria\n",
        "\n",
        "  @categoria.setter\n",
        "  def categoria(self, novacategoria: str) -> str:\n",
        "    self.__categoria = novacategoria\n",
        "    return f'{self.nome} teve sua categoria alterada com sucesso'\n",
        "\n",
        "  def reajustar_preco(self, percentual: int) -> str:\n",
        "    '''Reajusta o preço do produto de acordo com o percentual informado'''\n",
        "    self.preco = self.preco + self.preco * (percentual / 100)\n",
        "    return f'{self.nome} teve seu preço reajustado em {percentual:.2f}%'\n",
        "\n",
        "if __name__ == '__main__':\n",
        "  print('Classe de Produto. Rode o script cadastrar produtos')"
      ],
      "metadata": {
        "colab": {
          "base_uri": "https://localhost:8080/"
        },
        "id": "EI5eTgBb4y17",
        "outputId": "ff7b52ed-38ad-4a45-8f59-072983fe96e0"
      },
      "execution_count": 48,
      "outputs": [
        {
          "output_type": "stream",
          "name": "stdout",
          "text": [
            "Classe de Produto. Rode o script cadastrar produtos\n"
          ]
        }
      ]
    },
    {
      "cell_type": "markdown",
      "source": [
        "### Atividade 4"
      ],
      "metadata": {
        "id": "1gypXhUqAvBE"
      }
    },
    {
      "cell_type": "markdown",
      "source": [
        "Escreva um programa para cadastrar N produtos. \n",
        "\n",
        "Faça uma impressão \"__bonita__\" para listar todos os produtos cadastrados, cada um com seus detalhes"
      ],
      "metadata": {
        "id": "szHFcC9bA27V"
      }
    },
    {
      "cell_type": "markdown",
      "source": [
        "#### Gabarito 1"
      ],
      "metadata": {
        "id": "BKqzt2b1D4YQ"
      }
    },
    {
      "cell_type": "code",
      "source": [
        "from produto import Produto\n",
        "\n",
        "num_produtos = int(input('Deseja cadastrar quantos produtos? '))\n",
        "\n",
        "produtos = {}\n",
        "dados_produto = {}\n",
        "\n",
        "for _ in range(num_produtos):\n",
        "  prod = Produto(\n",
        "      input('Nome do produto: ').title(),\n",
        "      float(input('Preço: ')),\n",
        "      input('Categoria: ').title(),\n",
        "      input('Descrição: ')\n",
        "  )\n",
        "\n",
        "  dados_produto['Preço'] = prod.preco\n",
        "  dados_produto['Categoria'] = prod.categoria\n",
        "  dados_produto['Descrição'] = prod.descricao\n",
        "\n",
        "  produtos[prod.nome] = dados_produto.copy()\n",
        "  dados_produto.clear()\n",
        "\n",
        "print(produtos)"
      ],
      "metadata": {
        "id": "s30Tv639D6IP"
      },
      "execution_count": null,
      "outputs": []
    },
    {
      "cell_type": "markdown",
      "source": [
        "#### Gabarito 2"
      ],
      "metadata": {
        "id": "SNgIqEatBph_"
      }
    },
    {
      "cell_type": "code",
      "source": [
        "from produto import Produto\n",
        "\n",
        "lista_produtos = []\n",
        "\n",
        "while True:\n",
        "    produto_1 = Produto(\n",
        "        input('Produto: '),\n",
        "        float(input('Preço: ')),\n",
        "        input('Categoria: '),\n",
        "        input('Descrição: ')\n",
        "    )\n",
        "\n",
        "    lista_produtos.append(produto_1)\n",
        "\n",
        "    if input('Deseja continuar? ') in 'nN':\n",
        "        break\n",
        "\n",
        "for prod in lista_produtos:\n",
        "    print('-' * 20)\n",
        "    print(\n",
        "        prod.nome,\n",
        "        prod.preco,\n",
        "        prod.categoria,\n",
        "        prod.descricao,\n",
        "        sep='\\n'\n",
        "    )"
      ],
      "metadata": {
        "id": "uQzuCfbMBrsx"
      },
      "execution_count": null,
      "outputs": []
    }
  ]
}