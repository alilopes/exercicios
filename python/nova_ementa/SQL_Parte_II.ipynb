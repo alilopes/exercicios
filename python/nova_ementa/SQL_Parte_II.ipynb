{
  "nbformat": 4,
  "nbformat_minor": 0,
  "metadata": {
    "colab": {
      "provenance": [],
      "toc_visible": true
    },
    "kernelspec": {
      "name": "python3",
      "display_name": "Python 3"
    },
    "language_info": {
      "name": "python"
    }
  },
  "cells": [
    {
      "cell_type": "markdown",
      "source": [
        "# SQL - Structured Query Language"
      ],
      "metadata": {
        "id": "emd52pO03UIT"
      }
    },
    {
      "cell_type": "markdown",
      "source": [
        "Antes de conhecermos mais instruções e cláusulas SQL, vamos criar um novo __Banco de Dados__ e suas respectivas tabelas.\n",
        "\n",
        "Siga os passos abaixo:\n",
        "\n",
        "* __Passo 1__: \n",
        "`CREATE DATABASE IF NOT EXISTS INFINITY;`\n",
        "\n",
        "* __Passo 2__:\n",
        "`USE INFINITY;`\n",
        "\n",
        "* __Passo 3__:\n",
        "```\n",
        "CREATE TABLE IF NOT EXISTS STUDENTS_DETAILS(\n",
        "    REGISTRATION INT(5) NOT NULL,\n",
        "    NAME VARCHAR(30) NOT NULL,\n",
        "    GENDER VARCHAR(1),\n",
        "    AGE INT(3),\n",
        "    EMAIL VARCHAR(50),\n",
        "    PHONE VARCHAR(11),\n",
        "    FEE DECIMAL(6,2)\n",
        ");\n",
        "```\n",
        "\n",
        "* __Passo 4__:\n",
        "```\n",
        "CREATE TABLE IF NOT EXISTS STATES(\n",
        "    STATE_ID INT(2) NOT NULL AUTO_INCREMENT,\n",
        "    STATE VARCHAR(2) NOT NULL\n",
        ");\n",
        "```\n",
        "\n",
        "* __Passo 5__:\n",
        "```\n",
        "CREATE TABLE IF NOT EXITS COURSES(\n",
        "    COURSE_ID VARCHAR(3) NOT NULL,\n",
        "    NAME VARCHAR(30) NOT NULL,\n",
        "    TIME INT(2) NOT NULL\n",
        ");\n",
        "```"
      ],
      "metadata": {
        "id": "KoksXCoM_dKU"
      }
    },
    {
      "cell_type": "markdown",
      "source": [
        "## TCL - Transaction Control Language"
      ],
      "metadata": {
        "id": "ZTsBvuAQEbrS"
      }
    },
    {
      "cell_type": "markdown",
      "source": [
        "As instruções __COMMIT__ e __ROLLBACK__ foram apresentadas na aula anterior, porém, não as executamos no shell do MySQL e nem nos clientes SQL como o _Workbench_ e o _Beekeeper Studio_.\n",
        "\n",
        "__VALE LEMBRAR__ : As instruções __DDL__ já possuem o _auto commit_ por padrão, ou seja, uma vez executado o comando, não conseguimos desfazer. \n",
        "\n",
        "Já para as instruções __DML__, podemos <u>_desligar_</u> o _auto commit_ com a seguinte configuração: `SET AUTOCOMMIT=0;`\n",
        "\n",
        "Agora podemos criar mais uma tabela para testarmos estes comandos.\n",
        "\n",
        "```\n",
        "CREATE TABLE IF NOT EXISTS COUNTRIES(\n",
        "    ID INT(2) NOT NULL PRIMARY KEY AUTO_INCREMENT, \n",
        "    INITIALS VARCHAR(2) NOT NULL\n",
        ");\n",
        "\n",
        "SELECT * FROM COUNTRIES;\n",
        "\n",
        "INSERT INTO COUNTRIES (INITIALS) VALUES ('BR');\n",
        "\n",
        "COMMIT;\n",
        "\n",
        "INSERT INTO COUNTRIES (INITIALS) VALUES ('FR');\n",
        "\n",
        "ROLLBACK;\n",
        "```"
      ],
      "metadata": {
        "id": "bQDcUUvDEmP_"
      }
    },
    {
      "cell_type": "markdown",
      "source": [
        "## Ingestão de dados"
      ],
      "metadata": {
        "id": "QbwtWhgSH7ys"
      }
    },
    {
      "cell_type": "markdown",
      "source": [
        "Vimos, também, na aula passada que podemos inserir dados nas tabelas através da instrução __DML__ `INSERT INTO`, porém, na \"_<u>vida real</u>_\" é comum termos esses dados em arquivos CSV.\n",
        "\n",
        "É possível inserir estes dados em nossas tabelas de forma automática sem precisarmos digitar TUDO? __Sim!!!__\n",
        "\n",
        "Para isto, usaremos o comando `LOAD DATA`.\n",
        "\n",
        "__SINTAXE__\n",
        "\n",
        "```\n",
        "LOAD DATA LOCAL INFILE 'path + filename' INTO TABLE TABLE_NAME\n",
        "FIELDS TERMINATED BY ';' ENCLOSED BY '\"' IGNORE 1 ROWS;\n",
        "```\n",
        "\n",
        "__ATENÇÃO__ : No Windows, devemos utilizar `\\\\` para separar os diretórios e o arquivo de modo que o sistema operacional entenda corretamente.\n",
        "\n",
        "Já no Linux ou Mac, não há essa necessidade. Pode continuar utilizando a `/` normalmenete.\n",
        "\n",
        "__OBS__ : No Workbench precisamos adicionar a seguinte configuração para que a ingestão de dados por arquivo funcione: `OPT_LOCAL_INFILE=1`\n",
        "\n",
        "> Na página inicial do Workbench, clique com o botão direito do mouse sobre a conexão e clique em _edit connection_. Na tela que irá aparecer, clique na aba _advanced_ e insira a linha `OPT_LOCAL_INFILE=1` no campo Others.\n",
        "\n",
        "No Linux, podemos adicionar uma entrada no arquivo _my.cnf_ que se localiza em `/etc/mysql/my.cnf`\n",
        "\n",
        "```\n",
        "[mysql]\n",
        "local-infile=1\n",
        "```"
      ],
      "metadata": {
        "id": "Ypnju9z7H-Lr"
      }
    },
    {
      "cell_type": "markdown",
      "source": [
        "## DISTINTCT"
      ],
      "metadata": {
        "id": "P661KIVfRyTp"
      }
    },
    {
      "cell_type": "markdown",
      "source": [
        "A palavra-chave __distinct__ é usada em conjunto com a palavra-chave __select__. \n",
        "\n",
        "É útil quando há necessidade de evitar valores duplicados presentes em qualquer coluna/tabela específica. \n",
        "\n",
        "> Retorna apenas os valores exclusivos"
      ],
      "metadata": {
        "id": "S854i3wCc-5J"
      }
    },
    {
      "cell_type": "markdown",
      "source": [
        "### Vamos praticar!"
      ],
      "metadata": {
        "id": "Yh4ZkXGTlFBc"
      }
    },
    {
      "cell_type": "markdown",
      "source": [
        "__Prática__ Nº1\n",
        "\n",
        "```\n",
        "SELECT DISTINCT AGE FROM STUDENTS_DETAILS;\n",
        "\n",
        "SELECT DISTINTC AGE FROM STUDENTS_DETAILS ORDER BY AGE;\n",
        "\n",
        "SELECT DISTINC AGE FROM STUDENTS_DETAILS ORDER BY AGE DESC;\n",
        "```\n",
        "\n",
        "__Prática__ Nº2\n",
        "\n",
        "```\n",
        "SELECT COUNT(AGE) AS 'QUANTITY OF AGES' FROM STUDENTS_DETAILS;\n",
        "\n",
        "SELECT COUNT(DISTINCT AGE) AS 'QUANTITY OF AGES' FROM STUDENTS_DETAILS;\n",
        "\n",
        "SELECT COUNT(AGE) AS 'QUANTITY OF AGES', \n",
        "COUNT(DISTINCT AGE) AS 'QUANTITY OF UNIQUE AGES' \n",
        "FROM STUDENTS_DETAILS;\n",
        "```"
      ],
      "metadata": {
        "id": "CocypK7gR5Se"
      }
    },
    {
      "cell_type": "markdown",
      "source": [
        "## GROUP BY"
      ],
      "metadata": {
        "id": "f9jrrPEvR2dQ"
      }
    },
    {
      "cell_type": "markdown",
      "source": [
        "A instrução GROUP BY em SQL é usada para organizar dados idênticos em grupos com a ajuda de algumas funções. ou seja, se uma determinada coluna tiver os mesmos valores em linhas diferentes, ela organizará essas linhas em um grupo.\n",
        "\n",
        "__VALE LEMBRAR__:\n",
        "\n",
        "* A cláusula `GROUP BY` é usada com a instrução `SELECT`\n",
        "\n",
        "* Na consulta, a cláusula `GROUP BY` é colocada após a cláusula `WHERE`\n",
        "\n",
        "* Na consulta, a cláusula `GROUP BY` é colocada antes da cláusula `ORDER BY`, se usada\n",
        "\n",
        "__Cláusula HAVING__\n",
        "\n",
        "Sabemos que a cláusula `WHERE` é usada para colocar condições em colunas, ou seja, realiza o papel de filtro, mas e se quisermos colocar condições em grupos?\n",
        "\n",
        "É aqui que a cláusula HAVING entra em uso!\n",
        "\n",
        "Podemos usar a cláusula `HAVING` para colocar condições para decidir qual grupo fará parte do conjunto de resultados final. \n",
        "\n",
        "Também não podemos usar as funções de agregação como `SUM()`, `COUNT()` etc com a cláusula `WHERE`. \n",
        "\n",
        "> Portanto, temos que usar a cláusula `HAVING` se quisermos usar qualquer uma dessas funções nas condições"
      ],
      "metadata": {
        "id": "o1sQwH9fgrU9"
      }
    },
    {
      "cell_type": "markdown",
      "source": [
        "### Vamos praticar!"
      ],
      "metadata": {
        "id": "G2BlcjEHlAN1"
      }
    },
    {
      "cell_type": "markdown",
      "source": [
        "__Prática__ Nº1\n",
        "\n",
        "```\n",
        "SELECT GENDER, COUNT(GENDER) AS 'QUANTITY' FROM STUDENTS_DETAILS\n",
        "GROUP BY GENDER;\n",
        "\n",
        "SELECT GENDER, COUNT(GENDER) AS 'QUANTITY' FROM STUDENTS_DETAILS\n",
        "GROUP BY GENDER ORDER BY QUANTITY DESC;\n",
        "```\n",
        "\n",
        "__Prática__ Nº2\n",
        "\n",
        "```\n",
        "SELECT FEE, COUNT(NAME) FROM STUDENTS_DETAILS GROUP BY FEE;\n",
        "\n",
        "SELECT FEE, COUNT(NAME) FROM STUDENTS_DETAILS \n",
        "GROUP BY FEE \n",
        "HAVING FEE <> 0;\n",
        "\n",
        "SELECT FEE, COUNT(NAME) FROM STUDENTS_DETAILS\n",
        "GROUP BY FEE\n",
        "HAVING FEE > 0 AND FEE < 1000;\n",
        "\n",
        "SELECT FEE, COUNT(NAME) FROM STUDENTS_DETAILS\n",
        "GROUP BY FLOOR(FEE)\n",
        "HAVING FLOOR(FEE) = 250;\n",
        "```"
      ],
      "metadata": {
        "id": "WV-Lr3Q9XRDw"
      }
    },
    {
      "cell_type": "markdown",
      "source": [
        "## INNER JOIN e LEFT JOIN"
      ],
      "metadata": {
        "id": "tsxxoq3b97HN"
      }
    },
    {
      "cell_type": "markdown",
      "source": [
        "Conforme ganhamos mais conhecimento em SQL, conseguimos responder mais perguntas e assim gerar mais valor para as empresas. \n",
        "\n",
        "Porém, será muito comum em nossa jornada no mundo SQL nos depararmos com perguntas onde a resposta não está em uma única tabela. Precisaremos juntar duas ou mais tabelas para responder a estas questões.\n",
        "\n",
        "Então como podemos fazer? \n",
        "\n",
        "É aí que lançaremos maõs do `INNER JOIN` e do `LEFT JOIN`.\n",
        "\n",
        "Apesar de se falar que são instruções complexas e complicadas, o uso deles é bem simples e devemos nos basear na _teoria dos conjuntos_.\n",
        "\n",
        "* __INNER JOIN__ : também podemos usar apenas a palavra chave `JOIN` para termos o mesmo efeito. Aqui o que vale é a interseção entre as duas ou mais tabelas\n",
        "\n",
        "![sql-inner-join-scaled.png](data:image/png;base64,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)\n",
        "\n",
        "__SINTAXE__:\n",
        "\n",
        "```\n",
        "SELECT ALIAS1.COLUNA, ALIAS2.COLUNA FROM TABELA1 ALIAS1 \n",
        "INNER JOIN TABELA2 ALIAS2 \n",
        "ON ALIAS1.COLUNA = ALIAS2.COLUNA\n",
        "```\n",
        "\n",
        "* __LEFT JOIN__ : já aqui, dizemos ao SQL que desejamos todos os registros da tabela à esquerda - _mesmo os que não possuam correspondentes_ - além dos registros da interseção entre as tabelas\n",
        "\n",
        "![sql-left-join-scaled.png](data:image/png;base64,iVBORw0KGgoAAAANSUhEUgAAASwAAADLCAYAAADUS677AAAduXpUWHRSYXcgcHJvZmlsZSB0eXBlIGV4aWYAAHjapZtpkly3coX/YxVeAsYEsByMEd6Bl+/voIqSSFEvQjZbYreqq+7FzeEMCcid//nv6/6LP9a7uVxqs27m+ZN77nHwQ/OfP+P9HXx+f78/cX1/Cj+/7tb8fijyUuJ7+vxns8/38OP17wd+fA+Dn8pfLtTW9xfz51/0/L1+++VC3xslrSjyw/5eqH8vlOLnF+F7gfF5LG+91b8+wjyf79/Pf8LAv05/pfqu/cdFfv3vXIneLryYYjwpJM/fKcXPApL+jS4Nfuj8HVPmjVzkvRL5O3HBz0oIyO/i9Mefzoqulpp/+6afsvLHT79ka/yI0a/ZyvH7lvRLkO2P77993YXy+6y80P/lzrl9f4o/v+5LGJ8V/RJ9/Xvvbvc9M08xshFq+z7Uj0d8P/E+qjDr1s2xNPOVfwuXqO+r89Wo6kXWtl9+8rVCD5F03ZDDDiPccN73FRZLzPG4WPkhxhXTe7GlGntc5C2krK9wYyWrOzUyuV7ac4p/rCW823a/3Ltb48478NYYuFhQXfzbL/dvP3CvWiEExZLUh09+Y1SwWYYyp795GxkJ9xvU8gL84+vXP8prIoNFUVaLdAI7P5eYJfyJBOklOvHGwvdPu4S6vxcgRNy6sJiQyABZC6kEC77GWEMgkI0EDZaunplkIJQSN4uMOSUjNy3q1nykhvfWWCIvO14HzMhESUafNfUdycq5UD81N2polFRyKcVKLa30MixZtmJm1QSKo6aaXS3Vaq2t9jpaarmVZq221nobPfYEaJZuvfbWex+Dew6uPPj04A1jzDjTzLO4abPONvsci/JZeZVlq662+ho77rTBj2277rb7HiccSunkU46detrpZ1xK7SZ38y3Xbr3t9jv+yNo3rX/7+hdZC9+sxZcpvbH+kTVerfXHJYLgpChnJCy6HMh4VQoo6Kic+RZyjsqccuZ7pCtKZJFFOdtBGSOD+YRYbviROxc/GVXm/l95czX/lLf4f82cU+r+Zeb+nrffZW0L79bL2KcLFVSf6D5+f9qIbYjs/vw+B9Axl4thdJsjrZWJepn1rlt6JsyXD/PgdawzNqGJ7aa8N4EtCmjkWXjuMWdiBdul6a+/NjbX83uUlneM/bSVbZfTWTgkN7fdxfv9HWvm46eQ0Hi2NNdN/vh6HYsZ/u5807bJTeqmHdvOtY9VZrgrTmRDOf6AlFy/7NGW3WMUXmMB3TKQOKY7NL3V3flF7SeSnOvXLLGXVvcgjnsEHqPfvdtj1dNy9WlXrTLXy+oWBdcc2TqWNvVWdfddY5rWAJkbcx4EWSFcY/S+ThwsJc46ApECv3mmsUbfd5fujimqY+nqd/i6l4K877LRDnkOJDhf34vKZFBhV4UXcyMpkRtnMnkqF+pGxc3LP3PtAn0cCsJKuLPdQDpvo8wulEGp8VrrNy0EWvIrhZuDrjKLv83VOUhps9roIKLt80lr2Ep0NEx10qV7qUUaK6eKgLrbxlzTgu1492mNsPGCo3tKXOdC3ZWauKO3dX1pafQJ0XEFPWrvN6qWO+saddqec9I1Ab47Ncc4huNmCUQHsQhJDNYIbL6Bm7dTuHgqRGDoYitRHBZY9d7bOkGY4bW0nbmTS6tx2T3mbuSh0unccdLpNARItOvqo1B79CDNyCNZ7VZKo+Q8y7o9WRllZjehhkquCXk5rbOalTbtDExS7mYnGA/S0iFfxLjw7JTA2afftsvYOS2kWTTXqEvKOVkguyY1Snx8B62WJRZC0Zzlbz4AQKAjbz9ldcog9XnujPdMQhKD63RgDacCHTuHansrHoUyB0IolrS2HQoqxIzuINNZKyuVh6S8Ael7cm407aXfG4BnPVA7xSQd56kthdGAaYj12OyHaDQyefaOM47cPY8b6dXR88n1xOzozTT7NuHCTDH0c88JK3fWlFer9N5KAAdFygOV2wBG+o06uUvRNAI9qX/Ho95U7T1q2kTxnlc5jdu0adRm6X2mSwcXMGojCEa5t2UClqremRb/fdwrt3sDfQ6Nd5I8QyRQlJwublQrBbp6mWccraOHQ2CkVzbyu3OxXuqG+33nXYGY+3rAjktLeUDSt0JR9n3IAFK3x8KCQPG0mz8DkEN0zLZb5Ppx5+4SeB3Au0LwYCMhzxqU3aL/+wB1e9mzrk0XEGrQp712XdTRhtYE+YSuRHdLzvRhjRdq2fAM0CFJK9RT51CUFS6EYWgrSvr0id+hhPs4GaIrlY/0cl2Ig+dquYxZhm8g+VqkPA/qd1Twq84+dgBPAJhWqTdK5FbAAYFb00QKr9PqdIEIpgilpnUr7V2vqfRJX6PrrNCfLFX9FQYM1vLoFWTWqofKFXgr4iRH7Od6nASCDUDlJkIRlu9U804gTqCjRXl6AsUDViIPEBXdyU3B48gDuDbW+vAd2nzFXxmwr9YuN0T/w29n0RSDT+Y+Qgin9GApC8+Wy6QDOcGvaMsz6/HtIjMn1wCbcwvnbuh7TJ6DX12pJ2ginblqW8sKKl5pALPvDrBCg1UAtJImykUVafQc74EUwecOnPLymjRvGGnWkii+e24dFDtdXxwwR71gXSRHyAw1vc+KkPQofdFqmA4UTLvFLpkN1E4iHOQdsUENUHDQcxzImgjgnEZT8xDlGXWoFbFV+Adj4j8/+Z++UwMoD/DfEmAlDAVGxsyRTwygG9LNYMW5sGTOC8U2wXJIXaoIouQBvZqAhomJokXuRZQO1Yes2cPUnN3TtVnwGlBOwAMIjEybuRFE8Tx8XGjfvQIsYiTkUr7gAzRX0i4uqzUufM1VQOaDsYIPMzITEiC5Dc7nGvQNAMMq6KdAB3I3ajIUMDsaAqwAtcjPi5wku+NgfYw7J6+IgRftkJZsXSoNaQFuUIhIkbqWImjh0PSo0x0dVbmlrCDmZTnS/8A6GoSSiVR2KHAkoLY9zcY1d+FZRQESUEB9Q0aeTnchj18yuMqfaSGCcyMECuB8hKUXaRkrRcN9Rr1cni+qm+v2BgP1vWla1C4dnKmOkwneNlkn03QjDRgDxoUeAG+1GzUTa+vSXmEtUACdFpvwzRFeWFSQd9Fb6TxcW/QpSoeWaHPfDC1TntjZhTxEyg6LFALIv4lThxA96R8BgkCMKRfSPnerkwKN52kxJG1AhQBH43RQVaANKqG8AXO0oTIl4YoXQeUBcrMCiOuxSfRSFSXvJHVA3G9drEATEBQXqDVZWjklr0FxlQCOTEDCcUXzLRXxO2yrUcxUUe5dKSLWgr2A/+l/QFlPv/L4yOt1KBjBDzHox0F1gLvwlwsc20dYRkUcZM6+qAqp7Ny2qgKapqbASCQL8i4hhBYcDBHW5gofzDbhHFC6QtZnqTybLDlVfeAxQOCIqoA1mZhJO7VCG3bUYt1SyLzm6MVLLNB3RYuid4r8Q8kVuIVCgOm4TETA6hCM5Av1lFrxcDfcJ2GNaInuYerJ0cff+Ax9b1L4AMbQgKLaac/j4L9p3U7rwf6rxuX2goAzBoysAxwFmUFzrBiBBJBsPUuKiqD2G7QD6oDhpAKl8Roho7/1k1NPGJ+i4pBedEIKjXAkeDpPgtV9rls2AkarhNW2T4iSuGsnWAgtKD8cb66iojKsvRTOm6kt3/hNswkQBfSd7aSiOgX0QtrScR1BDODMJyUSYswmMEJ9BOFVQTZz0SkQA3XigqcBUrxVrNSY5A6wrl6lxBP1W2qjZvCBTQVeaZGQ90C34QqnvQqLGsT8/D0N6AS7OkEx/BU8QtcYVBOQrYVHuo73QmoiVJQqJmZhNq8qzFbeHil3BKVIbsBnDJ86+kFYuWU6ngoPz9Y5OSZkZR7IsYx6RF5YO3LukIkQkEASIZi2ki1uQXMV7joi1o3GB4AmCuM4GHTBLPJ2iZLjJ+TVeYpsnueU6PeIWIBNtNb8viM9KuhHQZ4MkAOmjtVgH3GaXuoUgkbUlyOlBMB3r4aS4qB04NbYZ8NHwELvHtA2isPqKNmcWfYRbAf1NnKnepxcC1jhivsmsatf8Bw1jc+AqyIZzg3/qXEz4rPX0XHsy8vUwOaBZbYTacdHsxmnILSHEQkBdQVGbzTFlQ0AGzIMmUDn00eEy22+yWh+01C8NF0MzhwoPed/6jy0CzobqwD4SrUh726USnQFAUa4YIBJt1xqC1a6V9ANfJBfqDyfUisqBTc6qM67JYEyRoEyBS0LfN4clLJX6/QevfNDaPU/C3LIyPLZEaUwAjKRVchqNOAAcRJ6wnLt4PD74qIdOmSCspunlQriw2edcK2InxsgFqQAgo+TJAzmiZCZQce8mUe0vBzFQ/khRMgD7+3rW3hYgYlBqoEkG7r34iORSgezHxTomnLVtUC1hyd42iFP+DcRVHgnvGXq5RJAAvMJDslb6ssCogTRi3zsgqTUlgPnNHBiVSUC5iizfimjnoMYrGhISUtNilk2JoNLyPzUkQUJgkNXoG0rNO4WsSIdMJDhl0+v1B4CMYYwe1CPt1Uzz5tux1HQBkVzAaCuQNfoHjDnID6GG28xNDah4kmQ3T3x6DUPBCfof7HMoFT4+EoCiigDQo3nQlVJUkZMWClO2fA8LJ1Dgok0v8h06BIvwelj+nW8xCxadXkt5G79Fh8OGJ8tUw3gO4/+QIRoXtH3QlD0GGmuioWinmhNFlroTJKMHodD3gioSh8DBUDQjAmpD/in/ubDG76lweZHzHZv46lXGUnMUzMugnjEuKwW1Cc4ggDc7xWf37zuIHUz96DC0Wtzbk9KIzistqcjp4lgNq6YzIHQIyBuy4qGG4Fu4e4Fos8O1LJyybpJRkkcnQ60VwFfyqgNrgWSbQ+fejXTG25U4kV6EFpoPRYRenZYTbhL8x2ER2l8ogNhVGNBWt6UgTVkKtW1MYjYST4N1n4ECcjTPEvCMVfXKTe+PP5uC/uvUPtUE6cjyjX5o3SvrChohTZYWR5EmxQbVUqhDuKerssCMV0fBdLK6xDtvvz0He5Ff01IoTYkhcJMbVOmZ1TtWIEsHYRcm8LyWVWYAPQ1NL4AgoLquUVPbKqehsqkjjX5A/3wwIDmxD1e/CXN6Fgu4Y2PN3DAB9CxdBVIah7WgVH0HZjVICCsExdibG0ENpy6xK3Ecnu37BM4TQX6+Wem5c4od5TAXAVpnCS2ifbW7tDGObq3vZdrlWTROAzI2nLXB4szG6qNUB9Uq5o5WnhTDewAFron1RXVhc2+0YFFDRoOQLfU5USEsGS6aVfIOfDjRl7DtUeMuBJ4hqJo53U3D0xJETR8/1qEQ0O6XKlAiRacOc13AfvE899hBcNfMEjwoPzRh4cvHhIIDk/MtDIcBN8B6dVWe4qXAgZr0J1UY6HI7kT+wsXAnuQalZ4/gZsoNRCbZazse3My1rFRARhhxAcaC1TMmgfX+oZbqCj58hKRsvLn+NcIBVqs8wmGMAg28rgj06fkfkbbhUdOAVIAAjM9X0GVgC2nJn3FhsKIhBe3bV47Adins4beeh39jvJSs290UB4y9Z3mle1eKUcULCAZasUfyGURyoGSJHAZ2KAmwuCyAxjxCNyQ4CYQEksTRNkFcfB0hF8Fftu+arAXsKogDc1PsCQR6TYYIOK463IIcEzmeFP2KmmOvadwMzYe9AONgfQkEaWJ9C5AINp5oR74AmQvmZFjGA6/mQ3eh5EiFAaxUIwUwhcoKSY0Yl8AtPxJQGWjfNvUdAMUqJhNrDEayaUncu39HUer4FmfeHEjGgcTioTU1NLTUfF80AA7+3ex4j4/AAesZdUmi6NeuV2zsfkun/CMwqCHzkAZD4OM5AMB9kKlo6T6dumf3/5RkvdNaHCiQteHnfcCLw/yJ1aeiz0LUTAcQNI/YZp/2mDldzlCBq3AhGYCUpQxVvpGGGijRmzjGix3TUfzQsosNAEl+5kVPbAF17d9uHb3qbkj1QG9QB45YMEnoOwA3iDhiWdIn0cBB7X7MMkRxhm/hBIG99ul7qnJsFFl/s1Ec+SGeJJptznKDNqko7ChCNaCT+J242hKFUME3+NhZatFhDIYCe9RhKVuFFTJGp2KBcEjjXWfftUsdoLydpAkVDZIp9jKcQLoqC89CzmdXzJucoTGNzQMDOTKxDhQORPghPI7sgqtaclT2JhFifEkA8lCsPMDl4+s5YZoR6JMRLkcdbydQSKa8BhWN4FWG58PEYKK4W2gjSDybjMBsglIkT6fA6IsJ2o8UTrgiX9xWZbCcsDB0VONtaPMu1ZvE9+h0Tw8iy6JieKB1HIQkyL26FRtKUPaVjzABjSk2DWMR/RpoHdOpAsuPluDhDXnJ0MVjWCtadfJIwGwkucH2aK+vOu0lNn4D130+c4HeHr0IfkYm/x0DXeBjYnZB0xdRVfhzqhCqquiEVGLNGlvQNxGlp5RgHiKAT8bxJ4TQ9q7HoOmSgAn6F/AI1niIsLLM6M4aMePGPRW4aIi5uCJZeG/mH+6v7/xKO77w6Za+tbmC5yOsgmTmHkYUYPlMVrcCJI5wNa+K3bq2pJgEfqRBayuoyczrhEbmrXXdxYWvbzNnCRZAOlmeg2spyAuAjVO5LZtKUJJLjQQ2N2StqBRM7kpKxuCoLcHJNv9psuW9gysYWPK1WYmjCHGiyi2LT2ywhtaIVDzcBo+9ziCxmPe0Ert0ApNT6o5L5oUfcUleRCMARVfuR5vhggAvyYElAxPiNGhERBM1IcmDrTCnAhM26v2Z45DbHdNqnHsDEjLltBWoA6gvTAb9BGE6DRJUH+cuv2tsOgIartQ0xsGcTdwXgcdSDHuXbtraaav3Al/4p/78YNRlTQ0itaAkKFnVfZkp3K0JuPJLYmGrgORIlkAEEMCrowfnw7D2fBj2E2CvOloY4V7vL0jFcTNWOvP5HIMnog3fJfzl5ETRIPxA/VMAyY6UVdrG7tYLDZ4fOpI2V56bK8xOsStxWAhOmxFfUO2gHCPaziKCcijNZJcsi43UTS8NMLbNkYkBfwEknKpp5IG/ZlU7om3rF4nO7w0pyPAMHPU7p2XURyKLuJG4qsAtwR2aSsnBW20GVIdM/8dv1tf+YfldD8N4LFllB852jiQCUiCVjCOPBo2HNSiKDU951mxREGLpKyJoR2Mn4aLE/hY4AIG9YQ5tXXnR5AhwrPhJSlGClKt4bV5mzWsLWVhGDYFVugF12WJcC/aPUHAYGN669R61a494lF12BB4YOFAgWs0jxmWROmf7RK4l3cNJ8kIzQ8Uh/YEoM9JGUCk1CdFBNBr/I1k72Iiu2ppJM2OZxiWd8Jc3CBOBzHS8PnyCu5OM/RXNB2DZdSe9hvj9YhEnCVcBI7YeUtBLU5NyTXnQ9Q5UqcZlk4JRQRwpc1QqzcEbVEevFXugAROpIP86LkKhOPnphCUBKudcM/bXNThMrgGRAcgtOtK80caY/k8MYWYF4j1M/TbZjh4UKrnqWo0lRxu4X4GmkBX+kcPkmbRkZeCPtVJH8zfRBJpNApcxQ2hzwjES0QgjBfCD5mDKkbZofQhMyRKNE9CUuTZ4S/q5ZBCbeJARlXnQuhV7BfMgQg3BwNB35QU6eCjGwr/DErWsxIAMixXtUKPdh4xaLdMOsDT6VMmQulb1bGsKEQfKRs59WI8aBTDg3YxbaWHt6FepG91EmAgjbAdOqVTkf6D32PyIsFO0s2rUnZPSmn2TxRwTdqBxWNV0BmqplzRSOpMdApyZ2qfXUNQStX2cabTgRqXNx0aCeRgBH8pcN6oDWkVxdcZajvtt1mBZJNbOt6CD6C/yOz47jCm/c7CdqQ3OdcMS2PMrdM4OlRQEO7aiph5dINOITRHCwB6uc+J8QFcDQWIZbioOqozFc2NTuCCAxWBc69oMtpXozVPgWMoN7x+snt7A7NU2Q14gSp8VmkBX15JW7jrfhpPVjdN3noJU9VT50ci+8OjnIM7QohCFYQR9C7acUIE5o+K1lbuQde8JBzMHD9PVJa2GwjiANJxCnCvWXLtjVfkPUgB0aFS06JfgdXv4A1shJd5Phacs+bVE9KSjDZtUWqjM20qmwf7bv9Tx8ivSqAybwxcDnDpb9tGh2Opb4/RD5eS0Ggi8HgLKINXe8vo7E2/oqC1B2aAbGBNE0iR9yR5IuWKkEU23JnD1CGxtcFK5MhtW/usQyeInHauMGxpE1ltqozoJxAM2OS2gUr0KJiWNFEni1VnbXBqXJFWLy/c5T2R6x0sa0ACakvGxa9LBCs/gRsjIXlhSPikxaqTy1dCCezE20L28GwP2uxA1Q5QBTLUvnz8wS35T4sD3A2pYdPewOFh83w7KfS0R4ZaBiwAPgoy0GdTw2MapoqRojj+vrk716JPYIYEMAA0Q5s36+5DRU2dZUWSLPS6R+K4FFLTCFrNph1bulEjhs9BDqQzqp1GQ/AsPq4TThLiqt4FECDDeqSTdpukH5WtyYt2O4X02sECyHDarBnRhFACDuriAbQ6ZHYXm3m5TfRkE+CObI6ypIUiRruvxB/IFCaG3SBUTEM9CiZPAHWjH+areQ3JuTE1Fw+2Qho0O82Z0mfvFJpVYOAgRP6FgtdEfmvTUO4xQqJ01orjqfuKbTN02fsb4+JurDpfqJPCdN+Proh/dQBQI7rlALSmHTFQDL+p4wZZI2lpHpmaqVEf64OnY55jSDr6BhtQqYZJZ4nUC5BfNKAI0H7ToTPkLiFFKl0N4EF9ZwioqeJDhZsmQJOK3zpshkQcVGaqIcApJPedh9Hw2jTHRRcez1o3ZryE7nAUUxiD2Ysa2V+enTKS3UrQ/K4157cN5Kc2/yk46rGB9qgIRA7QHjF7FVlj2qKhcgCLi2jVABy4N9YAphEFSEZB6G1DgwmTr1Miz1rr8I/OOEUk8wLYJDGIpKYWmgXqgPU7RTA13KZdJpJt8CpSR6dTWUMSlel0AwVchk55QdmNRsPygWZFWa86wQnCAGs/zqVkHPbfzqUUyCm8Gh3avgreVSx6fHPUTUKuZpXaioShB0aLDKIrAoS2FgT+DusATF3bHhGHsMX7gEaNzjyJxVKCURiFODQDzfIYfEYDOXSB/v+NoSE4XhXL3FXxRSdDyxoivkNhJBm/qXkjXhxw4SMa0+uEkek/sja3VPtvoWhU7Y7wRlwU+YGMp04rkBPcURk6QIMaO/Ie2B8orSK1kPGSPNpurmLdd5IBGoZruOENEQ7ZmLs8vE7YObowfIZRze8YtFGgsRgm+o2FNOhN72Qw6cxvnniwdKS/wI86vkH9Z+LrtG3aUJD6hGY66FTRfq/vkAhiBzdOiwAH2jc+VuWWSCU1cHIGxGUtWh2OSOAZDa2hcxGY0NK4/vF4KmClKTpN265xaERyBRAI2qjBr4KWeToKVKfGqFb8G+XVyy55av9iIpjSlRigWTqq9uhs1ERHaopt4zNZIjZjJclcPtWJEezKqrUlChqRRBHjRwCQmbdbEKFrTDqdlokgsV5H5YWcwdtiZFTg7gIEuIWGZKXL69SMN81ADdLEgf7H+1d5maTzUUT9INeBpyDNrn1Gbx60Di4qhQtvhVfDHU+djXzTcSpUE2CdrtRx7MhDx8Z9IFsKS0eFFxxPNSUpseVgmagBFf2wdaKVCvIy1JHQjRy1nIr42mXpVASNTR/r6N3SYVZwxEedCuzZrd0kuDqR1GY87giSDmRStgXxegGrpY3dOvS/Ir0ZpVggGXVB3mg6rE6BjmbDLKN9cJ9dG32JC/KIXTMoXE+9S75sb4DnbsSW9n0Nl6MJaBjgrnYn63U61AmA0rHYSJjEcycKjuAsnRvK+v97iAjlTiUn/I4gMgqQUfAUpZw/Qh5T48VzlnWEWRUfdQIZe3EpeYnszy/m+4UEap+fs8kfhtOZD50ssumqZDZd5ROwWUByTN87UVm1536RsZ7i1NYociBIs2tEe9S1UCNKh8oOdYNHCdeTzYoyAMxoF6rpgCrKNWjccrI8CzkCwVJctEDZ7w0oERr34IgiRUmvUcHYH/wkDLHP696WpE9l6yBWGh/D/xEVG7n6XIShEhvcN2wJJVInaxrWArfUUX7SjOrHYTw9Fpb4lTKCeDU395FCj2Gp6sV9OEfM2zhmzWkRoCLdiBaCZxFsEKk2rIxsDLyF6YwUskHzk7iWzHPMzz/PHZ8M4Pmr+9te2iVh+p+2/he5u9734d8n0gAAAYVpQ0NQSUNDIHByb2ZpbGUAAHicfZE9SMNQFIVPU6UqFYd2KOKQoTpZEBURXLQKRagQaoVWHUxe+gdNGpIWF0fBteDgz2LVwcVZVwdXQRD8AXF0clJ0kRLvSwotYnxweR/nvXO47z5AaJSZZnWNAZpeNVOJuJjJroqBV/QiQjWDkMwsY06SkvBcX/fw8f0uxrO87/25+tWcxQCfSDzLDLNKvEE8tVk1OO8Th1lRVonPiUdNapD4keuKy2+cCw4LPDNsplPzxGFisdDBSgezoqkRTxJHVU2nfCHjssp5i7NWrrFWn/yFwZy+ssx1qiEksIglSBChoIYSyqgiRrtOioUUncc9/IOOXyKXQq4SGDkWUIEG2fGD/8Hv2Vr5iXE3KRgHul9s+2MYCOwCzbptfx/bdvME8D8DV3rbX2kA05+k19ta9AgY2AYurtuasgdc7gCRJ0M2ZUfyUwn5PPB+Rt+UBUK3QN+aO7fWOU4fgDTNKnkDHBwCIwXKXvd4d0/n3P6905rfD5s3creB1VGOAAAOW2lUWHRYTUw6Y29tLmFkb2JlLnhtcAAAAAAAPD94cGFja2V0IGJlZ2luPSLvu78iIGlkPSJXNU0wTXBDZWhpSHpyZVN6TlRjemtjOWQiPz4KPHg6eG1wbWV0YSB4bWxuczp4PSJhZG9iZTpuczptZXRhLyIgeDp4bXB0az0iWE1QIENvcmUgNC40LjAtRXhpdjIiPgogPHJkZjpSREYgeG1sbnM6cmRmPSJodHRwOi8vd3d3LnczLm9yZy8xOTk5LzAyLzIyLXJkZi1zeW50YXgtbnMjIj4KICA8cmRmOkRlc2NyaXB0aW9uIHJkZjphYm91dD0iIgogICAgeG1sbnM6eG1wTU09Imh0dHA6Ly9ucy5hZG9iZS5jb20veGFwLzEuMC9tbS8iCiAgICB4bWxuczpzdEV2dD0iaHR0cDovL25zLmFkb2JlLmNvbS94YXAvMS4wL3NUeXBlL1Jlc291cmNlRXZlbnQjIgogICAgeG1sbnM6ZGM9Imh0dHA6Ly9wdXJsLm9yZy9kYy9lbGVtZW50cy8xLjEvIgogICAgeG1sbnM6R0lNUD0iaHR0cDovL3d3dy5naW1wLm9yZy94bXAvIgogICAgeG1sbnM6dGlmZj0iaHR0cDovL25zLmFkb2JlLmNvbS90aWZmLzEuMC8iCiAgICB4bWxuczp4bXA9Imh0dHA6Ly9ucy5hZG9iZS5jb20veGFwLzEuMC8iCiAgIHhtcE1NOkRvY3VtZW50SUQ9ImdpbXA6ZG9jaWQ6Z2ltcDo5N2MyZjUzYy0wZjJjLTRjNWMtOWJkNi03M2Q4ZDVhNjViNzAiCiAgIHhtcE1NOkluc3RhbmNlSUQ9InhtcC5paWQ6MzM1NTU3MzctODlmOS00MGFjLWIxNDQtYTM1N2UxMTg5NzRkIgogICB4bXBNTTpPcmlnaW5hbERvY3VtZW50SUQ9InhtcC5kaWQ6M2ZmM2E0MTEtMDhhMy00OTU3LTk0ODUtYTk5NWRkYmM5YzU4IgogICBkYzpGb3JtYXQ9ImltYWdlL3BuZyIKICAgR0lNUDpBUEk9IjIuMCIKICAgR0lNUDpQbGF0Zm9ybT0iTGludXgiCiAgIEdJTVA6VGltZVN0YW1wPSIxNjY0MDEzNzYzNTI5NDM3IgogICBHSU1QOlZlcnNpb249IjIuMTAuMzIiCiAgIHRpZmY6T3JpZW50YXRpb249IjEiCiAgIHhtcDpDcmVhdG9yVG9vbD0iR0lNUCAyLjEwIgogICB4bXA6TWV0YWRhdGFEYXRlPSIyMDIyOjA5OjI0VDA3OjAyOjM3LTAzOjAwIgogICB4bXA6TW9kaWZ5RGF0ZT0iMjAyMjowOToyNFQwNzowMjozNy0wMzowMCI+CiAgIDx4bXBNTTpIaXN0b3J5PgogICAgPHJkZjpTZXE+CiAgICAgPHJkZjpsaQogICAgICBzdEV2dDphY3Rpb249InNhdmVkIgogICAgICBzdEV2dDpjaGFuZ2VkPSIvIgogICAgICBzdEV2dDppbnN0YW5jZUlEPSJ4bXAuaWlkOjliNjkwY2YyLTZkZWItNGRmNi1hZTQxLThlOTNmMTU1NDI5YiIKICAgICAgc3RFdnQ6c29mdHdhcmVBZ2VudD0iR2ltcCAyLjEwIChMaW51eCkiCiAgICAgIHN0RXZ0OndoZW49IjIwMjItMDktMjRUMDY6NTc6MDMtMDM6MDAiLz4KICAgICA8cmRmOmxpCiAgICAgIHN0RXZ0OmFjdGlvbj0ic2F2ZWQiCiAgICAgIHN0RXZ0OmNoYW5nZWQ9Ii8iCiAgICAgIHN0RXZ0Omluc3RhbmNlSUQ9InhtcC5paWQ6YjM5MDU4MmUtYTdjNi00NjcxLTg2YWMtMjhiOWJiZTkwYTJhIgogICAgICBzdEV2dDpzb2Z0d2FyZUFnZW50PSJHaW1wIDIuMTAgKExpbnV4KSIKICAgICAgc3RFdnQ6d2hlbj0iMjAyMi0wOS0yNFQwNzowMjo0My0wMzowMCIvPgogICAgPC9yZGY6U2VxPgogICA8L3htcE1NOkhpc3Rvcnk+CiAgPC9yZGY6RGVzY3JpcHRpb24+CiA8L3JkZjpSREY+CjwveDp4bXBtZXRhPgogICAgICAgICAgICAgICAgICAgICAgICAgICAgICAgICAgICAgICAgICAgICAgICAgICAgICAgICAgICAgICAgICAgICAgICAgICAgICAgICAgICAgICAgICAgICAgICAgICAgCiAgICAgICAgICAgICAgICAgICAgICAgICAgICAgICAgICAgICAgICAgICAgICAgICAgICAgICAgICAgICAgICAgICAgICAgICAgICAgICAgICAgICAgICAgICAgICAgICAgICAKICAgICAgICAgICAgICAgICAgICAgICAgICAgICAgICAgICAgICAgICAgICAgICAgICAgICAgICAgICAgICAgICAgICAgICAgICAgICAgICAgICAgICAgICAgICAgICAgICAgIAogICAgICAgICAgICAgICAgICAgICAgICAgICAgICAgICAgICAgICAgICAgICAgICAgICAgICAgICAgICAgICAgICAgICAgICAgICAgICAgICAgICAgICAgICAgICAgICAgICAgCiAgICAgICAgICAgICAgICAgICAgICAgICAgICAgICAgICAgICAgICAgICAgICAgICAgICAgICAgICAgICAgICAgICAgICAgICAgICAgICAgICAgICAgICAgICAgICAgICAgICAKICAgICAgICAgICAgICAgICAgICAgICAgICAgICAgICAgICAgICAgICAgICAgICAgICAgICAgICAgICAgICAgICAgICAgICAgICAgICAgICAgICAgICAgICAgICAgICAgICAgIAogICAgICAgICAgICAgICAgICAgICAgICAgICAgICAgICAgICAgICAgICAgICAgICAgICAgICAgICAgICAgICAgICAgICAgICAgICAgICAgICAgICAgICAgICAgICAgICAgICAgCiAgICAgICAgICAgICAgICAgICAgICAgICAgICAgICAgICAgICAgICAgICAgICAgICAgICAgICAgICAgICAgICAgICAgICAgICAgICAgICAgICAgICAgICAgICAgICAgICAgICAKICAgICAgICAgICAgICAgICAgICAgICAgICAgICAgICAgICAgICAgICAgICAgICAgICAgICAgICAgICAgICAgICAgICAgICAgICAgICAgICAgICAgICAgICAgICAgICAgICAgIAogICAgICAgICAgICAgICAgICAgICAgICAgICAgICAgICAgICAgICAgICAgICAgICAgICAgICAgICAgICAgICAgICAgICAgICAgICAgICAgICAgICAgICAgICAgICAgICAgICAgCiAgICAgICAgICAgICAgICAgICAgICAgICAgICAgICAgICAgICAgICAgICAgICAgICAgICAgICAgICAgICAgICAgICAgICAgICAgICAgICAgICAgICAgICAgICAgICAgICAgICAKICAgICAgICAgICAgICAgICAgICAgICAgICAgICAgICAgICAgICAgICAgICAgICAgICAgICAgICAgICAgICAgICAgICAgICAgICAgICAgICAgICAgICAgICAgICAgICAgICAgIAogICAgICAgICAgICAgICAgICAgICAgICAgICAgICAgICAgICAgICAgICAgICAgICAgICAgICAgICAgICAgICAgICAgICAgICAgICAgICAgICAgICAgICAgICAgICAgICAgICAgCiAgICAgICAgICAgICAgICAgICAgICAgICAgICAgICAgICAgICAgICAgICAgICAgICAgICAgICAgICAgICAgICAgICAgICAgICAgICAgICAgICAgICAgICAgICAgICAgICAgICAKICAgICAgICAgICAgICAgICAgICAgICAgICAgICAgICAgICAgICAgICAgICAgICAgICAgICAgICAgICAgICAgICAgICAgICAgICAgICAgICAgICAgICAgICAgICAgICAgICAgIAogICAgICAgICAgICAgICAgICAgICAgICAgICAgICAgICAgICAgICAgICAgICAgICAgICAgICAgICAgICAgICAgICAgICAgICAgICAgICAgICAgICAgICAgICAgICAgICAgICAgCiAgICAgICAgICAgICAgICAgICAgICAgICAgICAgICAgICAgICAgICAgICAgICAgICAgICAgICAgICAgICAgICAgICAgICAgICAgICAgICAgICAgICAgICAgICAgICAgICAgICAKICAgICAgICAgICAgICAgICAgICAgICAgICAgICAgICAgICAgICAgICAgICAgICAgICAgICAgICAgICAgICAgICAgICAgICAgICAgICAgICAgICAgICAgICAgICAgICAgICAgIAogICAgICAgICAgICAgICAgICAgICAgICAgICAgICAgICAgICAgICAgICAgICAgICAgICAgICAgICAgICAgICAgICAgICAgICAgICAgICAgICAgICAgICAgICAgICAgICAgICAgCiAgICAgICAgICAgICAgICAgICAgICAgICAgICAgICAgICAgICAgICAgICAgICAgICAgICAgICAgICAgICAgICAgICAgICAgICAgICAgICAgICAgICAgICAgICAgICAgICAgICAKICAgICAgICAgICAgICAgICAgICAgICAgICAgCjw/eHBhY2tldCBlbmQ9InciPz7J5uQwAAAABmJLR0QA5wDsAE8lLNV1AAAACXBIWXMAAAsTAAALEwEAmpwYAAAAB3RJTUUH5gkYCgIrB2lRKgAAIABJREFUeNrtnXeYHMW19n/Vk3dmZ6OyBBJCAklIIhoMOBvjAA7gdOE6fUYrG+OMM07X5trG4WKufQ0D2MZgHLFNMLYJJpkgwCCCSEooS6tNk3PX90e30HTP7O7s7kzvzG69zzOP1NWzu911qt4659Spc0BBQUFBQUFBQUFBQUFhmkKoLphcyLUIJF7Ai8CDRDPlIgEdKAI5ICciFFWP1UEGH0bgMmUAHhhGBpKcuFLJQBHWVJwEPQigFTjc/MwDFgCzgNnmvx1AGHCbnwMT5cBkKZ0wRSAJDAL9wF5gD7Ab2AlsBTYCvYrYTBmsQSBoBZYAi0tkcKD/JyKDPmCfkoEirGYkJy+wAlgFHGf+/0hgziT08RCwGdgAPAY8AawXEYamuAx8wHJgtSmD5ZMsg03AMy/JQLJeXDm1ZaAIq3EnRwfwcuDVwInmBAk28CMXgeeAh4B/AXcj2CauQDa5DE62yaClwWXwbIkM7ml2GSjCatzJ4QJeBrwROB041vR1TPhXA7phgIgCkC4xPTTABfgAP7rUzTatRn/3ReAfwG3A7SJCoglkcJLZ/28wCcpdMxkYn4z5KZTIwG3KIFDS/7WSwRaz/28D7mh0GSjCauwJ4gdeC7wTeLPp7xgrorR6BCGvpMUNfncOv0vi01pwawncohOXiOMSbqBthN+TQZdRirKVosySlx5yxQw53Uu6KEnldZJ5jXhOUpBt45BrGrgHuAG4SUTobRAZBGwymDkuGRjkvBnYDmzD8Dftw/BDDQFxICUi6FU8TyuGz6vLfJ45wCHAQmARcBiGj2ysSJXI4OZGkYEirMZfxV8FnAu8A8MhWw10/K4EnQGddq8k5BG0uMDvCtdoNabq5yjIIZIFjWQBYjmdgYyLeK4FWbVGWADuBH4D/ElEiDssA7cpg3OAs4D2qt/dIKZHgceBp4BnTLNLd/D5hTlujjI/q4ETMHxqvjHI4I4SGSjNSxGWZZAdCnwI+IC5Uo4+Odq8MWa0uOnwZgl7/Hg0v2nCNR50mSRRKDCYk/RnNPanXMiqfG4J4A/A1cADIlI/f4vsYWGJDA6t0if0GHCv+VknIuxr4DEWBI4xyfgVwClAqIofjb8kA8mD4srp7fOatoQl16AheD1wAfCmUf0hHi3F7GCWWQEXbR4dj9betC+vyyzxQoK+jGBP0kUiH65iLDwB/Az4da1WfHkeGhqnAR83fVOj+aT2YvjdbgHuFhH6mtzlcJI59t6CsbNMFTL4P1MGSUVY00Ob8gHvAz416iDxumLMDxkkFfaEETVx8jZcl5ApDrA/62FXAoayoVHM2H7gSuAyEWHPBCbr+4FPmqbSSNgO/BH4M/DgVIxvMoOHF5sm8DsxNhRGkkFfiQz2KsKamkQVBD4CfBojgLAyXCLL/NY0c1sg7AlNUZIaHuliH/vSbrbFNdKF8AjfzADXAN8TEbZWKYMQ8FFzsZg7wlejwO+AXyO4X1wxvYIwZQ9LMPyo/4kR8DqstIBfAt+vVgaKsBrf9GtBcD5wIcPv9Ek6fFEWhiXdPi8uEUShQDQfY1tCZ0+ibQSnfQ74FfBtEWHbMBOwxTS9P8vwO30SI0bpZwj+JK6YniaPrd80DJ/XWuDtDO+0z5mLx7dFhO2KsJpTzXYj+RDwNWD+MG+fZ0FrgkNCkpC7A7UJURl5PcqudIEtQ35yenAEjety4OIDviW5BjeCDwNfHUGrzWDshl0mIqxXnT0sec0GekwNdfYIffkzUwb9irCaR7hvBL6Psa1cDrfIcFh7lvkt4NXa1HSoErrM0JtN88KgIFUYbtNhELgY40zddxjeRzVoTq7LGnl3rwHHtt80Fy/EOHpUCQOmDH4iIuQUYTWuMBcDPwLeWvELLpFkSXuaBcGAMvsm0tHk6MsO8vygj0R+rLulfcD/AD8VEaKqM8ft6nAheCdw0bALs3Ec61Miwj8UYTUWUXmBzwFfwThCYSeqPIe3Jzkk6MYlQmq41wwFejP9PDcYIDWigx6MeKIfAT8SEWKq62o29l3Ae4BvYmQFKV9ejDiuT4sIuxVhTb7ATgSuGmaVKbAwHGNxqxePpoiqXojm97BuXwe69I/wrYsQfMfJqPNpRlxeDOf8V4EZFb4yZC7qV9czAFgR1si2/DeBz1Ap4LA7MMDyDo0WV7saznWCLjNsjg+xOTqD6qL87wDOG243UaEm86ID+DpwPpUP6N8GrGnW3UTRpEJZjbGVvqrspleLs7I7zwxfO86e45teSBairO/TiOdby+65NfBpkCwwzEr/CRHhWtWJdZ0jKzGi4k+tcHsQuEBEuF4RVj2FYEQEfwy4hHJflc7C8H6WhNtxCZ8asnVDnp2pKBv6w2ZqZyvmBOHINvBosC0JG4dAr2iBXGdOGuV4rx9pacCHzflSydK4FviY0wfcpwVhyR7agZ9jZFGwIuhOsao7R5tHmX/1REGmeXowy95keT/7XLCiE2b67ZoYPD0Ag9lKv3Ej8G4Vf1X3uTMfI0buLRVuP2/K4ElFWLU1Af+AkZvbcotDw/0sDbfgEi1qaNbVBIzx6H5ButBaUata1g7eYSxwXcL2JDw/SAV3bxo4X0T4perkOs4hI7/9eRg7tfYNqJQpg2sUYU2crN6Dkd7EGjflFgmOmZGjy9ephmOd0ZsZYH1fCF1aTUCXgBVdMDdQ3e+J5eHJfkjkK939CYLPiiumVqBjA86nJRgnC44rW/zhMuBzIkJeEdZYO3YtGpJvYATGWZ+zwzfAMd1+vJrSquqLPJvjA2wcmlkmg7AXVndBcIxnwwsSnhuCnRUz1PwTeJeIMKC6vq6k5QO+B3yiAgfcDrxHRBhUhFW9+upH8AvgvWWrwOK2Pg4PtyNqklNdYTjoMsHTQwV2J8r9VQtaDce6awLDZ1cKNgxUcsg/D5whImxSQqg7cb0LI4bRHvT7LHCmiLBZEdbondiBkfvoVdYnFVmO6U4y069MwHqjILM81pdmINNeNlpWdMH8Gim20Tw8vh8yZdljes0J87ASRt3n2wpzvtn9w3tNGTyqCGv4zpsL/B1Yabnh1WK8bBaE3GE1xOqMnJ5k3b4cyUKHTQZwzAzo8Nb272WLsL6/0i5iAjhbRLhNCaXu864T+D3wOtutOHCWiHCHIqzyTluMkf7WmrCszZvguBkCr6YOK9cbmWKch3s9pArW2ISQB46dAS11SllflLBhEHaXpcDKAv8pIvxRCafu888L/BQ4zz4qgHNEhD8rwjrYWUswKrUssNzoDvRxTFcYl/CqIVVnpIu9PLDXR163ptvp9MHR3cOHLNRsEAAbY7ClLI40D3ywGaOym460zkOg8VXgGzZuyAPvExF+N+0JS/awFLgLe8rceaEBjupoQzRoJZqphFRxPw/u9ZPXrTFWs1pgVefEnOtjxYsJeK5sg6poktZ1SliOzMm1prZVOvcKwPtFhN9MW8IyzcC7yjSrQ1p3sqx9ltoJnETNal4IVrSDNglDZFcKnipLmFkwV/nfKqE5Mjffi5F22WvTtM6ZTBNdTGKHzAPuw6iWexCL29MsaQ2oIeMAsnqWdfsEqYLV5F7QCsvbJ3c525OGJ/vskfF5DEf8zUp4jszRd2AEmZaezc0B7xARbp02hCV76Abuxl5m6/D2JIe3Kue6E8jrUR7qFSTzYZt2axyzaQTv5t40PFFGWmngTSLCPUqIjszVt2HsIJYuakngjSLCv5x+Hm0SOiAA/KWMrBaG+xVZOQRdZni831NGVvNDjUNWALMDsLLb3hoA/mzGDynUW6OJcCNwjqndHkAQuFH2jFpTsrkJS67FhZHS4hSbv6SXI9pURlBHhECBJwdTDGSs0Z9zgpNvBlbC3IARrGpFB3CrGbenUH/SugGjYk9ptthO4K9mNZ8pqmFJLgbOtrTNahniqI5OBCqHlRMS2BQbZG/Selqg2w9HdUyOg70aLGiBpR321kOAv5g1DxXqT1q/xEixbLGLnJaBY4Qle/gA8HnrOulLsqrTO+2qK08W9qT72By12lgHDjG7Gjxxx2EhOLTsoMMJwC/kGlVP0iHS+hFGeppSnAhcKdc6IwNHCEv2cAJGDbqDLxVwZzi2W6o8Vg4hnh/kyb42iwx8Lji228gO2gw4Igwzy4bLuxF8UQnYMR39c8CfbK3nILnQEdJ0gKy6gX+bKrwBt8jz8tlxgm51kNkJ5PUM/9qrky0enO2agJNmQdjTbO8CD/dC3JKyqQi8WZ07dMxaCgL3YM2pVcDYObyzaTUss2batRayAp2jZwwpsnJsRSzw5EDGQlYAq7qaj6zA0AaPmWHXCl3AtWYqYIX6m4ZJ4CywVOx2A9fVeyOk3rbA54A3WlqWdvTT7ZuhxO4QtiUG2Z+2pok5rM0IGWhWtLiM841W+2Am8Gu5VvlDHSKt7RgFXEtV3dnAtWY0QHMRluzhJOC/LI3dgX4WhZRm5RRi+UGeH7TGBHT54fDW5n+3Lh8sKds5fCWSryjBO0Za9wBftjW/Flk/n2JdCEv2EMKoG3jQ5vC50qzu9KvDzA6hKFM83udFlsjYq8HKzsYNXxgrFoVgRpmm+BVzsVRwhLX4IXCTrfXr5kZb02hY38eawVDn6O4EHpXTyjG8EMuRLlj7e1U3+F1TabLAUZ3gtbyTB7jGdAwr1FsEVyAxah/urCCDmkcA1JywZA+vB9ZaGg9vH6TDq/xWTmEwF2VbzJp9YWEYuqdgbK5PMzYQrFgKfFsNBMdMwz7gg1gj4ZcB32xowjJNwQil7tCQZ4jDQurYjXOmYIYn+zw2GcCSKZxdutsHh5b55T4uezhZDQjHSOtO4H9tzZ+SPZzYyBrW1ylNFyMocEy3C02VjncMm+MJ0iUhDAJY2QSR7BPFkjYIWDYIXcDlskflVHMQXwZeKLl2A5fLtbWTQc0IS/ZwNPBJmynYR9DdquToEBKFQbZGrVtni9qgbRrMWbcw/FlWrAQ+owaGY1pWClhjMw2PRtp4YbIJS34EgVE19uDMCHqSLAp1KDE6hgIbBgSyZBe2xQ2HTaP1ostnpMix4iLZY8toq1BP0roXo9ZhKb5qJuxsEA1L5xzgFaUcxsrOjDIFHcTeTJTBrDVAdHmnoXlMJyxts0fBh4BL1ABxFF/EGgUfBr7bEIRlbl1+x9I4LzREu7dLyc0hFGWG5wasW8izW6bmruBo8GpwRJli/x7lgHdUyxo0SasU59TCAV8LDetTlBaR0ESOpW2aEpuD2JHKkikGSmQAS9unb3/MazHS5pTMIeD7TqVAUQAEvwIesnHNJRNNBTQhYpE9dGHPcXV4exSf1qYk5hDyepSNg9Zw70Vt9St62hyTBY4s07JORvI2NWAcEsEV6MBnsTrgX4ngLZOpYX0BOEhOHi3OoUEVc+UkXkzoFKXXYhItVEHedHqNuopWfEsdjnbUNHwAuMHW/G25dvy8M+4fNHM5n29pXNYJLqFKdDmFnJ5kSzRo03CbJyFfvbGkzZ7R4Sgk71Qd4yi+ijWjw2okZ02GhvVZKDmv5XfFmBNQJeWdxLZEDllSfsnvMvw3CgZCbqMgrBUXyR4UozunZT2PUZDVQmJyzfhkMK4fMn1X1vOCR3SkVSEJB5HXY2yNtZRpVy7lV7ZgUatdy1oBvF11jKP4b4wCrAewCsEZTmpY5wOtJSt7nNmBdiUXB7ErJdClz6JdzVHWeBmCFbWsz6vCFY5qWVsxMg+X4guOEJZZCPUCS+PSDl1pVw5Clxk2Ra3bgIe1Ke1qOCwsi/Y/EWEJdFaoPy7ByL1/AC8fT2zceDSs92KkozXg1pLM9qudFyexL5OioB80Bz2aUXBUoTJC7ko7hp9UHeOolvUC8OfSJowYzroTllW7WtyWQxNqH905FNkSs55mPjQMbuVHHqOW9VbZw6GqYxzFpbbrt4/1nOeYRrmZevbYkqYs81qUduUkYvk48VyrZZ1SO4Ojo91rj353Y5RfV3AKGg8Aj5S0eID/V08Ny7ozODeUwKup9DFOYntSWq5nByGg0uSPbpNQKcnfB+UalS/LMRFcjgR+ams+T/ZUH8xbNWHJHlqBs62mSEjNFEeNQZlmV9xvaZuvrPGqMStgz14xF2ErQ6dQb/wB6C8dwcAb6qFhvYvSUIaAe5A2T1j1v4PozaSRHPSut7ihU23OVg23gHllWtaHVMc4qGUZSf5+a2v+QD0I61zL1cKwBBUx7CAkOxNW82VBWVCkwmiYW+bve5PsQSWadBY/B0pdG2fKHqqK46yKcMxsga8qadKZHVBLu5PI6kP0Z6yzbZZf9ctYEfZA0ML7fuyuDoV6a1mPARtKmgJQXSaNajWks6Ek9W6HbxCfqjHosDmITQaGSagwxtlCpTTK71Id4zh+Y7t+dy0J6x2Wq/khXfW3w9iVsPb5XJXFZ9yYWaaZvsY8H6vgHH5nMwtfV41pPiphyR5mAqeWNBWYoSLbHUVOTzCUtQqzW1nk40bQDa0Ws9ADvFl1jKNm4WbgiZImH4y+Y1uNhnU6lMRJtPsSeDV10NlJDOTyFlm1e1Xs1UQxp0xDPVN1iuO4YawyqIawrGkg5gQlam/KWexLWft7tnIfThjlGuppquiq47i1ggzc4yYs2YMLeI1N0CqUwUlI8vSmrLOrS5mDE0arB3wWLbUdaltWXWE0u5DHgZ2l7AIcNxEN62hgxktXXi1O0K28vU4ink9QlAeDRX0uCClFoAaTBWaWxWS9TnWMgyK4AgncadeyJkJYVu1qZrBA6da6Qv0xlLPKaEZAGeS1QpdfEdbk4zbb9asmQljWJGfdKlDRcfSm86NMMoXxoq1MUz1O9qA62Fnci7UU2Mtlz/DJQIclLLkGF3BKaRPtqhyLo5DoDGWth9/CyhysGQIue/BtC3CC6hgHzcIIO4GtJU1BYNXYNSzBYigJpvNoCfwuldbSSaSLQxT0g6uNV1PR7TU3C8uGtHK8O4/7bNcnj8ckfJnVHAxIQJXxchKxnLdscin/VW3RXjaklYblPB6udtEYabk+3mrv+/KqXx1GvGDd4GhT60XNUW5iNwphjWdpkk0qhXW269XjIazVowi2KbA/WowuO393m24T5Y/XhPve95q27oZ++IF0BkryX4UVYdUcLW7QBBwcIIfIHjpEhMFJfKrjsKYSroaoikAc2A28ADwE3Gj+v9HxDJCBlzY8lsoeQiJCoiqTUPYgMApOHkSruylnyz0bUvn+NAxmrJ//vSUeLBRlroEfPUcsZw0UCqqIkprDJexxbS7gyAbRsKr9aBjnITuBo4CzMMpqPYsRNnBsI4tARMgAG22K1PJK3x3OhzWb0oBRt5bEozVdpQNdJ3f532IVn/uRrTLw9PZsvGEfPqvnKcqDi4RHA68irLqgrWwXfeUUeTMNIxDzIeATDf6sT9uujxyLSXiE1Rz0FmnCgNHndmWTd27Qh01ZcdO6hOvoRf7GPBuZLhQsz9XmVQ73eqH85MCyBnzKjGnyDaeNeTBSmFdSQjwYJbZSwFVNQljLxqJhLbYJtNiM4/CvjyTsebtSpRdf/306FE3piYZ8+JSty0PKf1U3lIeKLG7Ap/wVRgHjSp8ZGCFIXRjR+lcBuQqkdilG0YdGhN3XtnQihNV0YzCZ0ZM//EvKkgbnzm90Dq6YKzKlGuYDz6Ya04+VLIhRJpVCrVCequewJnyLIjAE/BNYA7wSGLB9Jwh8pEGff0s1i8ZwhLXIKlB3022XPvR8OrUvcdCMXdgpcicva2n/9FtD6dLvXX17zCMljadBZgreUSaVQq3gL+vbRebGUzNjHZVLwTdm3i/JVqxhGfNkTzk/DUdY1vLRzZdRRl5/T9ziSf3s24Mxv0cEX7vamkvqhoeL4Rd787HG07Dy1rg3nyKsusEljFMEJfosRqqTZsfvgGgFzaXxTCbJEFA6DztNOVRFWHNtk6Wp7JEdffn+n9+dt9RMPO2YoBtg4UxP+K3HuiwEdfv6ZOOtpsl8QRGWQxBAedbvOVPgzXJYwwUOmIUNN5/FVUhgh42b5o5KWGbGv04L93lEoZmkdPdTKYtATl/pSi2Z6/UDCIHrvDeELdrL538Z92bzMt1Ar6CT18OWCeVRW4R1RWBKEtYB0ipFHmt2hEbCPtv17Go0LB9Qqp0MoYnOZpFOvijT/3OjtZz7mtNbM5o4mDbklGUBd6nQolla1m/JNA5h5fUhSsNIvC4QirDqinINdipU0RHAPFvb/gok1ijYb7ueVQ1htVMa8RNwN5UD66kXs+nHt0sLYZ2yLGDZNOhsdYUvPNNnMQt/e1/c0CYbAUVpLfLh1VQMVr3hnZKEtRo4xNa2jsY9c2jf1eyohrA6bStPUxHWXx6KW573/Dd4Y7M73HYNUZx9cqtFaJfemu3YHysONYiG1W+59ij/Vd1RnuqttcnfyA9cRvlSd00DP/NQBeVpVMIK25TKWLNIaDBRHPjBjRnL87/rlNZCBaFx9CK/N+imNCZL/OuZVGO8SFG2jTKZFGoNd9kQadZdQoGRZvhe7BmD4Q7gpiYirLJFo9JugXUr0e9uGv/VA8+lXenCQRJu81E4fom/4hau3yuC3/1AaOjjVydeMh8vvTHmftvLWguaNsm7KNK27exWhFV3uEQlDaWRcDLw4xHuBzA2Co6h3G8FcD/wHho7BU2qwjuNkbBczeE8kZLc5X+LWR72i2e3xEJ+bVjCPe3oYJGSDBb3Pq+3vrA713/kfO/k+i8KspdSh6OmHFh1R3kfN9rW/1HmZyzQMc7oXQ5cCTT6bn9qtEWj0tJtE1RzhDRs3ptL3/J40WIOvvn40IiqyZI53rZXH6lZzhL+/bHE5A9UXYpmXDSaGqLhNazx4HmMM4h/bgKyAiPkwuIMGTthCZri4PPfH0taBHL8QpFevsA74olhTcN9wRm2mKxfJQPJjD65fju7Saj4ygHCKmuZCtU+lgE/wDindzHQ6BV47aTqGo/a2/DnCDM5mbjs5qRFu/rYW1qTbpcY1XF66vIAMPRSipm8jvffmzLpVx7VoiaxorBGwj+Bn49w34WxYXYoRrWrl5VM+ADwZQxn/JkwqdlUJySDSoRVtNFVw++p/3tzJr+xV1oqUr92VUtVK+Ssdnf7h1/jGbz6rvxLvq6rb48WX3lUi87odRvrJaZCcy0ZUxKNVsNgE/DrMXz/CAwn/eklbacAvwfeWDbPGwOuUTSuihPS9iXZ6OcI9evvsVpw557qTi6Y4am2JJl4/2vDln741X2Fzl39hegkritZ6xsqxqr/KCrr40yTv9HzwFuAG2ztrwfOa9Bndo+oPA1DWGnb6t7Qdu++oULs/27LWQLMznlla1qMoSTZcYv9Xo9mXVHvfnoSY7I8mvXQZ1ERVv0Ja1R/SjOiCHwMSNrav0BjZhBuGW3RqKQ9WWdqKr8be7qZBsI9T6fKUhz/5K+xDvOoTdUdVZDWAXrpjbHAu09tTXlcwnlnlrHRoSnCmlQNKztF3mwf8A+MwhQHsAgjXuvRBiesdDWEFbdpWA17RKGoy/Tlf4uXbT//7YnieFYPS188+qL0P7M9O7R6kd95wtJEgtJzVIWiIpR6o1CmYg1Oobd73EZYYNRfbDTCCtuuqyrzNWgTZMP6sJ7dkcvc9aweqNfv/9OD8clhCo9mfaecjkKdkS/r46Ep9Hb9Fdoa0WqyH3aOjp2wEvkUDbpPdfPD9a0fcfENmY5oUne+FJhLWHeockrDqjvKF4XoFHq7Sn7oRqxq0jGalltJe0qbqtiBMIEuJEkEoUZ6s3haj335NynLM136oeDgJ87o7Bjv79wzWBiad96elxz4RYn24HOp/BuPc/jVPZoLww2svTSZdKmO6NQT2bJFoXcKvV2lgg6NqEHOGE0GZRqWiJC3vYyLvN5wNsm6F9I6tmjk01YHEYJxf+Z0usPnnuq2rKxXTUaRCkEAUZIbSJdQUI73uiJTmKqEJTCKqdrxXAM+60zb9d5qTEKAPdbVR2+oIDopyf/8dutB51OXatml873+CUpWe9+rwxZyvuHhYuvWffkhxwdZm691FJNFob6EtXeKvNk52AsjGyEb/2rAZ7VnmdhdLWHtsPlQGsrxvqMvn/rNAwVLzqjzTgul3ZqYsAP+hCV+Xdh8dnc8kXQ+4t3vti4SGeXHqhuK0m4S5tDLJ0sT4nTgZxXab200QpY9BG0mYZQKla6Hm4jbLFfpxgoEun19smw5fOVRLTXRAjtbXV0XvtVn8eZ/5w+JlmxeJh19SXvhVEVY9UO2aN9W2i6uohlVWg0jY/CZwB9MYrKHJWWBixrw2RdijafcIyLlwbvDaU6bLFf2KsSTiFxBpv/nxoTFC37GMa7kwpmemiUaPOP4UOb7N2VfEvSLA9K3fksmfeIRAede1E5Y6YIilnohXbYYbGnAp3wvRhn64eAyyamT4Q9uS+AC4KkGfL/DqpHBcIRl/XIs2zCz5Ymt2dSG3dKSYO+Dr2vNCEGwVn/juMP9gRlBivuTB48v/Oa+WNFRwgq4rX2eyCtiqRdSTUFYYcoDK8eCJPBR4NoGlcLhtusXhlMhK8H65XjOQ2Oc7pY3PBAri2I3y3bVDEG/FvrEmQHLierLbs117o8WnYt+brEVr41mUagTkmWLwXNT6O3ywPXAqgYmK4AV1chgOMJ6kVKHV04PUpCJyX6j/ngx/r0bs5ZV5n2vcEdnd7hrfnzojceGdJsuLe57JuWcaex3udFKAkizxUrR2Aq1QKxsMXi6icmp3zT5rgfWYJT5OrdBtcZSHFUNYQ07AWUPDwEnvtTw8tkx2jzhyXwjKUGX0vYCQmpa7ZOtSUDXy/4WmpP7hffvHSKeP5iJ4qRZ0O5VBFNL6BLu3FV6wFwC80TEFtrjLATji0SXGCELTbWymdXm+0tMXgnMFBH67N8dyZR60kJY8XyRtsnNGisEuMpzb4t6jRjXZEeWdwQgXmKuxAuKsGqNdNGeDWPfJJP0VVVhAAAUXklEQVTVgQk7nXwAi7H657ZVIquRTEKAxyxXQzk1uJ1Gm9d6Bkz5sWqPeNl+0r9VpziOE23XTwz3xZEIa53lan9KHWRzGmG3dZUYyKg+qTXKF4FHVac4jhNs14+Mh7CeoTRTYbYYJqcPqb51EEG3DyEOklaqoAJIa43yRWCd6hTHcYrt+oExE5aIkLUxnUY0r4KBnIQm/HT4rFpWTImgZsjpELV0bwF4SHWMc5A9dAIrS5ryI5nlo+153WtdjbLK4+s0ZtiCVQeUH6tmKCf/p0VkSmUabQa8HOvm3+MiQmy8hHWP5WpfUgUCOY12r9UrvD+l+qRm5mAZ+d+lOsVxnG67vntEo2OUX/YApXmVU4UOssqP5SjaPH5Kq4ckC5WOkiiMB/vKyP9O1SmO43VjkcGIhCUiZID7LY39WbVb6CQ04WdGIK/MwhojVbAfyclid4Eo1BWyh8XAslKpMEqermritm+xXO1NKbPQacxssfZ5rzILJ4z+MtK/R0SIq45xFG/CGvh9j4iQmihh/Y3SbEF96RBFqWaMk+j2SYsM9mfUucKJYm/ZEL5VdYrjsJceu3lUg2O0L4gImzGO6RjQpYf+rLJJnETA1UbIczAmTspKGoJCtcgW7fFXOnCT6hhHzcEZwKk2GdwyYcIy8RfL1W5lFjoMwdyQ1Y+1Rym548b+rD3D6OMiwlbVMY5rV6WHk9eJiC01+wQI6w8Wk2RfKkxBmYWOYpatvkZvShWmGC92JyqNbwVn8R+26xuq+aGqCEtE2GAxC6X0sD+jbBInEXS30+o5ONMk0KvOFo4ZqYJ9l1UHfqs6xlFzcKHNHCwCv6sZYZm43nK1La4K5TltFs5vtZqFO9Sm1pixJ21vuV9EbEVXFOqNDwClmYPvERF21pqwrsM452NgKNtBqrBf9b2DmB1wUZqqOpqz5stSGBm6rETyv1Qd46B2tQYX8H5b86+q/fmqCUtE2A3cblnxd6bcSgQOwqeFmRmwzrhdypVYNfpz9mwXceCPqmMctRPegLVCTnQsMhhrwt8rrGZhzEdRKkeKkzjElr5+R1zFZFWL7WXa1e9GOmirUBecb7u+XkSouubn2AhLcCuw/aXromxhbzqhZOAgunwhvFqiRAaV/DIKdiQKsN/STxK4XHWMg+ZgD0swottLZXDFWH7HmAhLXEGhTMhboj4kqsqncyq1m8ParaefX4wZ/hmF4bGjbF19UERUOmSH8XGszvb7RGT4dMi1MAkBroSS8z7JQiv9WZXBwUnMC7gRJUUKUgUjGFKhMrLFSoT1Y9UxjmpXM4D/Z2u+dKy/Z8yEZVazuMbSuCnqxR47rFA/eLQgh4Stdv/mqJLAsNpVyq6BbgX+pDrGce2qtDr7Jqo4O1gLDQvgR1BiBg5lwwzmVKZGJ7Ew5KM0xCGWgz6lZZUhp8PWqL31hyKi3BgOalcdwAW1kMG4CEtE2IT9OMMLQy6lZTmIgCvInKC1dtumISUBO7Yn7XUH9wK/UB3jKD4BdJRc7y6z0uqsYQFcbFnhB7Nt9OeUL8tJHB52U1rlN5pTx3VKka2oXf1gtJxLCjXVrrqBT9uaLxERxrW1PW7CMs8X/t7S+OyARKLy9zqFoLuLOcF+S9vGIbVjeABb45W0KxXK4Cy+CLSVXO/C2LgbF7QJPsw3KD2uk8h3sjc9oGTkIJa2+REli0QiD7tVXBbJAmwriwn977EEKSpMWLs6jHLf1cUT0XAnRFgiwgvAzy2Nzw2GKEo1Y5xCwNXKgrDV7nlhUEW/v1C2a7oFiKgB4yi+C/hK9X/g6on8Qq0GD/UNKDnekC0GeDGhCMtJHN7qQyupEJ3TYcs0PoDQn61UEefLZnFgBWe0q9cA77Q1f0lEyE0qYYkIe4HvWRo3R9tIF9UZLafg1YIsabdqWS9GIT4Nd+6LEp4pi7B5AM3mb1WoJ1l5MAJzSwtM3EsNYt+0Gj3jjzACwQzo0sXTA3lQDnjHcGgwTMBlTfD3zMD0C3PYlrSX7yoCnxSXq4APB/FprOXnC8CnRGTiMqgJYZn1Cz9D6fToz3SxN6O0LKegCR9HdVkdV4PZ6ZV+JlkwYtGsuFpEeFQNEMe0q8XA12zNERHh8ZoM81o9qIhwM/ZiFU/1+cjpalfGKXT5WpnVYg0mfW4A0tNA0ZXAhgF7SMc+4EtqYDhGVhrGxkbpEZw9wFdqti7X+Jk/iZGQ64A/oYUNgxlU/LVTECzvCOAqccAXTJ/OVJfA9mSlitifERFUmI1z+AjwWlvbp0SEmgWU15SwzDI9n7c07kt1sSfdp2TpEHxakOWd1km6Pw07p7BpmCjA82WO9ptFxFaHQKGe2tURwCW25j8jaluRSKv9k3MlcIfVNOwPkS5GlVgdwryWGXT5rRHwzw4YE3uqoSjhyX67KTgAfFQNBMfIygtcazMF+4ALxBW11e1rTljiSiRG3puDS54uA6zv09BlTonXEbhY1RXAJbIlMoAn+uxHVZofG2NGpgorLhARdqlh4Bi+DZxgUVvgY2YdiJpCq8fTm6ahNSQ/mmtlYzyB8mc5ZRq2sKrbuuERz8NzU0jR3Zcxsq1acb2I8Bs1ABzTrs4EPmtrvk5E6hP3ptXrRUz/wS8tjVujHfRmVGkwpzDL38H8kNU03BGfGqEOyQI8VeYa3QJ8TAneMbI6zJzjpTyyifLzg41PWCY+ATxbymOs72snWVDxWc5AsKw9SIvbWi5mwwBEm7ieYUGH9X3GDuhBZIFzarkjpTACWa0hiFFevrOkOQP8Rz0rEdWVsESEOPAu4GAEti69PLpfI6+rxE1OwCX8HDdDt5w11CU8vt9eo69JZgrw1GClArIXigjrlMAdEMFaNARXA0fbbn2m3kG69dawDuTN6qHUd5UuhHisL62c8A4h6G5jdfeQRQaZIqzvbz4n/MZYpYPN1yH5qRK0Y4vG14H32FqvQat/rjHNifcznaA/sDQOZjvYMBSnNGOmQv0wyz+TxW3WYKWhrKGtNAtn7UzBlrJNg8eAtebutEK9uaqHDwAX2ZofAT7qxHlNzcF3/RJwi6VlV6KLjfF9ahg4hMPDYWa2WGf83iQ83wQ7h70Z2NBvb90NvF2lPHaMrE7HOHpTyhu7gHeMN+VxwxKWiFAEzgFb4cTNQ3PYkVIVdxwRAm5Wd2qEvdYJ/mIMNscb97kHc4aT3bp+J82JskMJ1hGyOhGj8Iy3pDkBvM3JmDfN0fliOOHPoLTcPcCG/jZ2pbapYeEAXKKV42YU8LmsMVobh4zULI2GaB7+3WuPZC8A54oIDyuBOkJWq4C/Aq0lzXngvU5Xz9acfnkRYSfwFrAcStV4qn8+e9Kb1fBwAD4tzMtm6mjCylDPDhhFRxsFsTw82msPX5DAx0WEG5UgHSGr5cBtQJdNBueLCH91+nm0yegEEeFpU9MqzePr4om+RexOb1LDxAEE3a2cNCuDJvI2bRd2NICmFcvDI72VctNfJCKq8o1DZLUC41zwLNutL4kIV02OV2NyO+T1wE1AoKS5yMru3cwLLFBDxgEM5tI80utFly5L+7JOODQ4eWbgoxXJ6nsiwheV0ByZm6tNzWqm7dbFIlK2Szi1NawSTesO4GywFAdw8VTffHakoqhzh/VHhzfA8TNTCPJl5uHmuPMSGMjCw/sqkdWlCJWMzyGyOhn4ZwWy+gGSr04qZzRIB70Z+KNN05IsbtvDkvCcRnnOKY2BXIpHe31lmtahYTgiDJoDItibgSf7KhWC/RFGJLtawOo/F88Afos1VQzAJUi+ONnxbqKBOuo0jKoaIcuNeaH9rGjvQBNuNZzqbh6meKTXjS69lvbZLXBUJ7jrOFxeTBrpnMvx32hcpIpIODIH1wL/C3hst75Fka+LqydfBqLBOuxkjODSDsuNTv8Qx3T58Wh+NazqjGh+P+v2taBL6wrb5oVjusHvqu3f06WR8mZ7WRyYBL4oImVZLBVqP+9cwHeAC22coAOfFxF+2CjPKhqw81ZixHxYne5+V4wTZuoE3e1qiNUZyUKSdb2SXNGq7fpcBmm1e2vzd3I6PNEP/WXn4PPAR0TEVlVcoR7zrQ0jW+iZdukAPSLCNY30vKJBO3GBqWmtstxwiTyruweY6Z+lhlqdkdUTPNIrSeRbLe2agOWdML9lopocrN9fqaJPDCMg8W9KCHWfZ8sxUsQcaZcO8G4R4bZGe2bRwJ0ZBq7HCDK1mgqL2vpZGm5F4FPDro4oyjTr+9PsT3eW3ZsfgiPbx+7XkhiHmJ8dqORc34Zx1OMJ1fl1n1/nAJdjjV4HeBF4q4jwVCM+d0Pvvsm1uJF8ByMFq7D5VKIc0+3C7wqp4VdPIVBkY6yfLdGZZfdCHljVBWFP9Sbgs0Owp2Jg6v3AO0WEvarT60pUQeBS4MMV5v+9wLtEhN5GfX7RJJ18LnAF9q1WTWRY2RVnTmCGGop1xt7MPp7s60SXnjIT8YgOOCQ48mgayBkhC5WTBl6OUb8uqzq6rvPoeAx/1ZEV9N7/w0jA19A56kQTdfZK4PcVOhtmBwdZ0e7Do7WoYVlHJAsxHtvvIlkoD4Hv9MOKDgjaok8KEjbFKhWLACPjwkdFhGtV59bVUvEi+SJGHiu7OpzA2OD4dTO8S1MFZMoeWs2V4D/Lbnq0HCu6osz2d6MCTeuHoszyzFCCXYmusnsHtK0FLcb/+7NG/vhUxXqIT2E4159RnVrXOXMccBXl6YwB1mPkwX+2Wd5HNKkQ3ocR4NZWdrM7MMiKDgi4OtRwrR9tsTczyFN9IYqyPDauzQtBD+yu6KvSzUXn804lfZumRNUKfBP4OOCuIIOfYMS5NZUMRBMLZCHwc+A1Fd4qz+HtURaGWnAJZSbWC5niIE8PuOjLhKv8iZ3AeSLCP1Tn1W1eaMB7McrGz6vwle2mDG5vxvdratNJrkFD8BHgu5Rvz4LfleHIzgSz/O0I1NGeugiBIrtTg2wYCJcd6bHiFxhOXVWGq35kdRJG7YRTKkrKMA0/JyI0bTVdMUUEdSjwY+BtFb/Q6hlkWWeRTm8Xyr9VW6SLCTbGsuxOdDBy9o/HgYuQ/E0VjKj5+D8S+C/gncOM7+cxNjfuavZ3FVNIaMIkrB8Ch1X8Uqc/ztI2jXZviyKuCZuDUTbHc+yMdyIZywHD+4BvIblDEdeEx/wS4MsYm1CVLIgUxhnBH4gIU6IOqJiCQmzBOMT5OeyZHw6gwxdlcVuBLl+bMhXHiGRhPy8m/OyIB4aZJBIjVdALwCeHlQE8AHwPuEVEVKm3MY7x1cDnMYoUe4aRwe+BL4gIU6pWgpjCQp2HsUvygWEmFgQ9cRa3FZjl9+MSATUVhkWBwVyCLbGieUxnuHFzvzlJ7jdlMN80Vd43rAzgGeAy4DoRIam6etjxrAGnAZ8CTh9BBv/C2IF9cCr2g5gGgl5mEtfZw/pYXCLJoeEsC4IuAq6wMhcP0JSMsSedY2vUTaowUpaM9cDXkdxcycwzD9n+F/AOhvdzDQDXABER4TnV+S/1XRfwfmAtcMQIX30c+Brw16mc6FBMI8GvBL4KnAXD+lwk7b5BFobddPsEbtE6/WYIBYZyUXYmNfYkQ2VHcconybeQ3CiuHN2sM8tFfQ14+4gyMMzFXwB/EhGmXc1K2YMHeB3wIYy0LyNp/48B30Jwk7hi6pvWYhoOhiMwfFznjjIQsswJppgbdNPplbhEeOp2CkVi+Th70zq74n5yesuI34a7MeJ8/jGe1dzc1boQo7DuSDLIYORG+yNwq4gQm7IiWIMHwcnAu01rYNYoMrgLuASd28RV02fzYtqaPrKHmaaa3QPMH6WXcsxoSTKrRafb58GntTZ93xVljMFcnt6MYE/CS14fLetFGiPX92UiwvoayWBWiQzmVfH3/2kS2K3A9mY3fczkea8H3oxR9m7mKD+SKpHBtEzBM+19NebKdoY5aV4Po+4aSlrcMWYFdbp8XsKeLF6tswkIKkO8kGQgC31pLwMZL1SVT+xpjBMFvxIR+us0cb2m6bPGlEE1YRLPY9TMuxt4QETY3QQE1QqcALzaNPmOx1r6fSQZXIWxMdE/neerci5bB9QC01Q8F1hRZf9I/K4EXYEc7V4XrV5B0KWZ+ec9k/IiukyRKiaJ573E8oK+VJZEvgNZdQhHL/AH4DpgnZOajOzhkBIZLK9aBkbiuQcx/Gr/xjhc3T9ZWpjsIQQsBY4DjjWJatUYxsS+l2Tg4mHxMxWzpghruMG2FoHkKIw4l7PGMHFeogzcWpKwN0fY66HFXcTvAp8rj9/lwyNAEwfMyrH8XglIJDnyeoyc7iare8gWBalCnnhOJ5bzkC74qtSe7CR1k+kvumuy8yKZMliFEb19FrBszDIw3ulZjJiwzcAO87PTJITceGLAzCBlN0b59rmmS+EQYJFJUsvNtrEmv99nk0FezUZFWONZLZeYfoY3Y5zTmmhJZB0Ywu/y4HVJIInPFTS1siKIIqCBdCFxk8rvQdJCUQZI5mNAZw20tyLwJPAP4GYED4srKDSwDJaa/f8W4OU1kIEEhsxPFCM3VxrD0V80P5ppnnoxNgdaMDKEtJkycNdgHKwH/g7cYsqgqGacIqxarvx+JKcCrwBeZar8zZCmuWD6fe7BOB7zz0ZOhTuiDNYQQHAqcKrpDzquBgTmlAyeK5HBXc0qA0VYzUtgPiTLgJMwkqStNk2CydxJzAMbTT/OeuAR4LGpGtMk1+BDsLxEBqswfJChSZbBCxVkoLJVKMJqOPNFM30aSzAOYh9uXh+CEV/TCUwkoj4N9AP7gd0Y1Wa2AJuAzQg2iSumxmHXccvgPDQ0DjX7frH5KZVBlymD8SKFEZ2/H9iFkWdqc8ln01Q5cKwISxHaAb9Iu0leIdNH4jf9Iprp3yhiFLRMmZ8hc5KkgeJUPoLhoAw6zE8Iw0flG0UGg+YnjaSoMk4oKCgoKCgoKCgoKCgoKCgoKCgolOL/AwfgKL5cDw0CAAAAAElFTkSuQmCC)\n",
        "\n",
        "__SINTAXE__:\n",
        "\n",
        "```\n",
        "SELECT ALIAS1.COLUNA, ALIAS2.COLUNA FROM TABELA1 ALIAS1 \n",
        "LEFT JOIN TABELA2 ALIAS2 \n",
        "ON ALIAS1.COLUNA = ALIAS2.COLUNA\n",
        "```"
      ],
      "metadata": {
        "id": "F9v6KRf13ViH"
      }
    },
    {
      "cell_type": "markdown",
      "source": [
        "### Vamos praticar!"
      ],
      "metadata": {
        "id": "8_1tbg5ASeJt"
      }
    },
    {
      "cell_type": "markdown",
      "source": [
        "* __Passo 1__:\n",
        "\n",
        "```\n",
        "CREATE TABLE IF NOT EXISTS CITIES(\n",
        "    CODE INT(2),\n",
        "    NAME VARCHAR(30)\n",
        ");\n",
        "\n",
        "CREATE TABLE IF NOT EXISTS PEOPLE(\n",
        "    NAME VARCHAR(30),\n",
        "    CITY_CODE INT(2)\n",
        ");\n",
        "\n",
        "INSERT INTO CITIES (CODE, NAME) VALUES (1, 'Rio de Janeiro'), (2, 'Salvador');\n",
        "\n",
        "INSERT INTO PEOPLE (NAME, CITY_CODE) VALUES \n",
        "  ('Rafael', 1),\n",
        "  ('Camila', 2),\n",
        "  ('Marcus', NULL);\n",
        "```\n",
        "\n",
        "* __Passo 2__:\n",
        "\n",
        "```\n",
        "SELECT P.NAME, C.NAME FROM PEOPLE P INNER JOIN\n",
        "CITIES C ON P.CITY_CODE = C.CODE\n",
        "\n",
        "SELECT P.NAME, C.NAME FROM PEOPLE P LEFT JOIN\n",
        "CITIES C ON P.CITY_CODE = C.CODE\n",
        "```"
      ],
      "metadata": {
        "id": "8Y-APs2gSoPn"
      }
    }
  ]
}