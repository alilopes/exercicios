{
  "nbformat": 4,
  "nbformat_minor": 0,
  "metadata": {
    "colab": {
      "provenance": []
    },
    "kernelspec": {
      "name": "python3",
      "display_name": "Python 3"
    },
    "language_info": {
      "name": "python"
    }
  },
  "cells": [
    {
      "cell_type": "markdown",
      "source": [
        "# Ambiente Gráfico com Python"
      ],
      "metadata": {
        "id": "_P_p87sLiPEK"
      }
    },
    {
      "cell_type": "markdown",
      "source": [
        "Antes de realizarmos o projeto 02 - _Calculadora em Python com Tkinter_ - vamos conhecer mais uma palavra reservada da linguagem - `global` - e uma função muito útil - `eval()`."
      ],
      "metadata": {
        "id": "T3ZY1puFiTRW"
      }
    },
    {
      "cell_type": "markdown",
      "source": [
        "## Um pouco mais de Python"
      ],
      "metadata": {
        "id": "Y8TeluqXi7ed"
      }
    },
    {
      "cell_type": "markdown",
      "source": [
        "### Global"
      ],
      "metadata": {
        "id": "zAHMbBd5i-Dl"
      }
    },
    {
      "cell_type": "markdown",
      "source": [
        "#### Qual é o propósito da palavra reservada _global_ em python?"
      ],
      "metadata": {
        "id": "x7KbZE0xjJnK"
      }
    },
    {
      "cell_type": "markdown",
      "source": [
        "A palavra reservada `global` permite que um usuário modifique uma variável fora do escopo atual. \n",
        "\n",
        "Ela é usada para criar variáveis ​​globais em __Python__ a partir de um escopo não global, ou seja, dentro de uma função. \n",
        "\n",
        "É usada, também, dentro de uma função apenas quando queremos fazer atribuições ou quando queremos alterar uma variável. \n",
        "\n",
        "> _Global não é necessário para impressão e acesso_\n",
        "\n",
        "__VALE LEMBRAR__\n",
        "\n",
        "* Se uma variável recebe um valor em qualquer lugar dentro do corpo da função, assume-se que ela é local, a menos que seja explicitamente declarada como global\n",
        "\n",
        "* As variáveis ​​que são referenciadas apenas dentro de uma função são implicitamente globais\n",
        "\n",
        "* Usamos uma palavra reservada global para usar uma variável global dentro de uma função\n",
        "\n",
        "* Não há necessidade de usar palavra reservada global fora de uma função\n",
        "\n",
        "> _**Para acessar uma variável global dentro de uma função, não há necessidade de usar uma palavra-chave global**_"
      ],
      "metadata": {
        "id": "xRyUQzWVA20N"
      }
    },
    {
      "cell_type": "markdown",
      "source": [
        "#### Exemplos"
      ],
      "metadata": {
        "id": "DGV4fZ1YC9F4"
      }
    },
    {
      "cell_type": "markdown",
      "source": [
        "##### Exemplo 1"
      ],
      "metadata": {
        "id": "1HebSG4pDM0l"
      }
    },
    {
      "cell_type": "code",
      "source": [
        "escola = 'Infinity'\n",
        "\n",
        "def myfunc():\n",
        "    print(f'Estamos na {escola}')\n",
        "\n",
        "myfunc()\n"
      ],
      "metadata": {
        "colab": {
          "base_uri": "https://localhost:8080/"
        },
        "id": "NxCWygqpDACD",
        "outputId": "ea1d8abb-df51-4cfe-c04f-3dce69319f43"
      },
      "execution_count": null,
      "outputs": [
        {
          "output_type": "stream",
          "name": "stdout",
          "text": [
            "Estamos na Infinity\n"
          ]
        }
      ]
    },
    {
      "cell_type": "markdown",
      "source": [
        "##### Exemplo 2"
      ],
      "metadata": {
        "id": "9VqKrVkkD2wY"
      }
    },
    {
      "cell_type": "code",
      "source": [
        "escola = 'Infinity'\n",
        "\n",
        "def myfunc():\n",
        "    escola = 'Infinity School'\n",
        "    print(f'Estamos na {escola}')\n",
        "\n",
        "myfunc()\n",
        "\n",
        "print(f'Estamos na {escola}')\n"
      ],
      "metadata": {
        "colab": {
          "base_uri": "https://localhost:8080/"
        },
        "id": "HlS50jNsD4b0",
        "outputId": "6754f817-0db3-4562-ffb7-54493dcea319"
      },
      "execution_count": null,
      "outputs": [
        {
          "output_type": "stream",
          "name": "stdout",
          "text": [
            "Estamos na Infinity School\n",
            "Estamos na Infinity\n"
          ]
        }
      ]
    },
    {
      "cell_type": "markdown",
      "source": [
        "##### Exemplo 3"
      ],
      "metadata": {
        "id": "8USn0uh1EEMO"
      }
    },
    {
      "cell_type": "code",
      "source": [
        "escola = 'Infinity'\n",
        "\n",
        "def myfunc():\n",
        "    global escola\n",
        "    escola = 'Infinity School'\n",
        "\n",
        "\n",
        "myfunc()\n",
        "\n",
        "print(f'Estamos na {escola}')\n"
      ],
      "metadata": {
        "colab": {
          "base_uri": "https://localhost:8080/"
        },
        "id": "NEbcwjS1EGFz",
        "outputId": "af33196e-3231-421b-d7c1-42fc110f6933"
      },
      "execution_count": null,
      "outputs": [
        {
          "output_type": "stream",
          "name": "stdout",
          "text": [
            "Estamos na Infinity School\n"
          ]
        }
      ]
    },
    {
      "cell_type": "markdown",
      "source": [
        "### Eval( )"
      ],
      "metadata": {
        "id": "sxNjfwgdjPS2"
      }
    },
    {
      "cell_type": "markdown",
      "source": [
        "A função `eval()` é uma, das muitas funções, _built-in_ do Python. \n",
        "\n",
        "Podemos pensar na `eval` como uma abreviação de <u>avaliação</u>, que é o processo de encontrar a saída (output).\n",
        "\n",
        "> _Recebe uma expressão como entrada e retorna o resultado da expressão na avaliação_\n",
        "\n",
        "__OBS__: a expressão passada deve ser uma string. Esta é analisada e avaliada pelo interpretador"
      ],
      "metadata": {
        "id": "cVe05SJkjRf6"
      }
    },
    {
      "cell_type": "markdown",
      "source": [
        "#### Usos desta função"
      ],
      "metadata": {
        "id": "z6-8NNKBFQJO"
      }
    },
    {
      "cell_type": "markdown",
      "source": [
        "Embora esta funnção seja raramente usada, podemos listar 2 casos de uso:\n",
        "\n",
        "1. Permitir que o usuário forneça seus _scripts / expressões_ que podem ser usados para customizar os sistemas complexos\n",
        "\n",
        "2. Avaliar expressões matemáticas mais facilmente do que escrever um analisador de expressão"
      ],
      "metadata": {
        "id": "3v_NjTgiFd82"
      }
    },
    {
      "cell_type": "markdown",
      "source": [
        "#### Exemplos"
      ],
      "metadata": {
        "id": "aXHX3eqlJD6g"
      }
    },
    {
      "cell_type": "markdown",
      "source": [
        "##### Exemplo 1"
      ],
      "metadata": {
        "id": "dCHeJQdKJFbS"
      }
    },
    {
      "cell_type": "code",
      "source": [
        "eval('3+4')"
      ],
      "metadata": {
        "colab": {
          "base_uri": "https://localhost:8080/"
        },
        "id": "yZ8r0pmoJ2Yx",
        "outputId": "741465e7-3371-4793-869a-d203c01c2498"
      },
      "execution_count": null,
      "outputs": [
        {
          "output_type": "execute_result",
          "data": {
            "text/plain": [
              "7"
            ]
          },
          "metadata": {},
          "execution_count": 8
        }
      ]
    },
    {
      "cell_type": "markdown",
      "source": [
        "##### Exemplo 2"
      ],
      "metadata": {
        "id": "Lplf2aoTJ5dF"
      }
    },
    {
      "cell_type": "code",
      "source": [
        "eval('print(\"Infinity School\")')"
      ],
      "metadata": {
        "colab": {
          "base_uri": "https://localhost:8080/"
        },
        "id": "8aGuMVsJJ-Xm",
        "outputId": "34db445a-8ba6-4939-ff83-1d5150ca1338"
      },
      "execution_count": null,
      "outputs": [
        {
          "output_type": "stream",
          "name": "stdout",
          "text": [
            "Infinity School\n"
          ]
        }
      ]
    },
    {
      "cell_type": "markdown",
      "source": [
        "##### Exemplo 3"
      ],
      "metadata": {
        "id": "fFR9SIF2KD8h"
      }
    },
    {
      "cell_type": "code",
      "source": [
        "eval('\"Infinity\"[:2]')"
      ],
      "metadata": {
        "colab": {
          "base_uri": "https://localhost:8080/",
          "height": 35
        },
        "id": "HiCpDx-pJVJg",
        "outputId": "9c47fd3d-59cc-46de-b630-d34afc5d38ec"
      },
      "execution_count": null,
      "outputs": [
        {
          "output_type": "execute_result",
          "data": {
            "text/plain": [
              "'In'"
            ],
            "application/vnd.google.colaboratory.intrinsic+json": {
              "type": "string"
            }
          },
          "metadata": {},
          "execution_count": 7
        }
      ]
    },
    {
      "cell_type": "markdown",
      "source": [
        "##### Exemplo 4"
      ],
      "metadata": {
        "id": "yrNaf1-XKLIf"
      }
    },
    {
      "cell_type": "code",
      "source": [
        "eval('3+4*3')"
      ],
      "metadata": {
        "colab": {
          "base_uri": "https://localhost:8080/"
        },
        "id": "9ICkAOPsKM3U",
        "outputId": "353b3a5e-c0f4-495e-92da-762e3ec434b5"
      },
      "execution_count": null,
      "outputs": [
        {
          "output_type": "execute_result",
          "data": {
            "text/plain": [
              "15"
            ]
          },
          "metadata": {},
          "execution_count": 11
        }
      ]
    },
    {
      "cell_type": "markdown",
      "source": [
        "## Projeto 02 - Calculadora Básica"
      ],
      "metadata": {
        "id": "YalX5tAMSpqu"
      }
    },
    {
      "cell_type": "markdown",
      "source": [
        "Montaremos uma calculadora com as operações básicas com o conhecimento que já adquirimos em Tkinter.\n",
        "\n",
        "__VALE LEMBRAR__: há mais de uma forma de implementarmos uma calculadores em python com tkinter. Esta é uma maneira simples e didática\n",
        "\n",
        "__OBS__: Fique a vontade para fazer melhorias no código!"
      ],
      "metadata": {
        "id": "6VVhVyI8S2wz"
      }
    },
    {
      "cell_type": "markdown",
      "source": [
        "### Montando a janela"
      ],
      "metadata": {
        "id": "4CMgmpAHKieF"
      }
    },
    {
      "cell_type": "markdown",
      "source": [
        "```\n",
        "from tkinter import *\n",
        "\n",
        "window = Tk()\n",
        "window.title('Basic Calculator')\n",
        "window.resizable(False, False)\n",
        "\n",
        "window.mainloop()\n",
        "```"
      ],
      "metadata": {
        "id": "HNAxpNbiKlVA"
      }
    },
    {
      "cell_type": "markdown",
      "source": [
        "### Colocando os elementos na tela"
      ],
      "metadata": {
        "id": "v_80kHJCK73K"
      }
    },
    {
      "cell_type": "markdown",
      "source": [
        "```\n",
        "equation = StringVar()\n",
        "\n",
        "display = Entry(\n",
        "    master=window,\n",
        "    state='readonly',\n",
        "    justify='right',\n",
        "    font=('Arial', 80),\n",
        "    width=11,\n",
        "    fg='black',\n",
        "    textvariable=equation\n",
        ")\n",
        "display.grid(row=0, column=0, columnspan=4)\n",
        "display.focus()\n",
        "\n",
        "btn_7 = Button(\n",
        "    text=' 7 ',\n",
        "    font=('Arial', 16),\n",
        "    height=2,\n",
        "    bg='#F7FDA7',\n",
        "    activebackground='#F7FDA7',\n",
        "    command=lambda: press(7)\n",
        ")\n",
        "btn_7.grid(row=1, column=0, sticky=EW)\n",
        "\n",
        "btn_8 = Button(\n",
        "    text=' 8 ',\n",
        "    font=('Arial', 16),\n",
        "    height=2,\n",
        "    bg='#F7FDA7',\n",
        "    activebackground='#F7FDA7',\n",
        "    command=lambda: press(8)\n",
        ")\n",
        "btn_8.grid(row=1, column=1, sticky=EW)\n",
        "\n",
        "btn_9 = Button(\n",
        "    text=' 9 ',\n",
        "    font=('Arial', 16),\n",
        "    height=2,\n",
        "    bg='#F7FDA7',\n",
        "    activebackground='#F7FDA7',\n",
        "    command=lambda: press(9)\n",
        ")\n",
        "btn_9.grid(row=1, column=2, sticky=EW)\n",
        "\n",
        "btn_4 = Button(\n",
        "    text=' 4 ',\n",
        "    font=('Arial', 16),\n",
        "    height=2,\n",
        "    bg='#F7FDA7',\n",
        "    activebackground='#F7FDA7',\n",
        "    command=lambda: press(4)\n",
        ")\n",
        "btn_4.grid(row=2, column=0, sticky=EW)\n",
        "\n",
        "btn_5 = Button(\n",
        "    text=' 5 ',\n",
        "    font=('Arial', 16),\n",
        "    height=2,\n",
        "    bg='#F7FDA7',\n",
        "    activebackground='#F7FDA7',\n",
        "    command=lambda: press(5)\n",
        ")\n",
        "btn_5.grid(row=2, column=1, sticky=EW)\n",
        "\n",
        "btn_6 = Button(\n",
        "    text=' 6 ',\n",
        "    font=('Arial', 16),\n",
        "    height=2,\n",
        "    bg='#F7FDA7',\n",
        "    activebackground='#F7FDA7',\n",
        "    command=lambda: press(6)\n",
        ")\n",
        "btn_6.grid(row=2, column=2, sticky=EW)\n",
        "\n",
        "btn_1 = Button(\n",
        "    text=' 1 ',\n",
        "    font=('Arial', 16),\n",
        "    height=2,\n",
        "    bg='#F7FDA7',\n",
        "    activebackground='#F7FDA7',\n",
        "    command=lambda: press(1)\n",
        ")\n",
        "btn_1.grid(row=3, column=0, sticky=EW)\n",
        "\n",
        "btn_2 = Button(\n",
        "    text=' 2 ',\n",
        "    font=('Arial', 16),\n",
        "    height=2,\n",
        "    bg='#F7FDA7',\n",
        "    activebackground='#F7FDA7',\n",
        "    command=lambda: press(2)\n",
        ")\n",
        "btn_2.grid(row=3, column=1, sticky=EW)\n",
        "\n",
        "btn_3 = Button(\n",
        "    text=' 3 ',\n",
        "    font=('Arial', 16),\n",
        "    height=2,\n",
        "    bg='#F7FDA7',\n",
        "    activebackground='#F7FDA7',\n",
        "    command=lambda: press(3)\n",
        ")\n",
        "btn_3.grid(row=3, column=2, sticky=EW)\n",
        "\n",
        "btn_clear = Button(\n",
        "    text=' C ',\n",
        "    font=('Arial', 16, 'bold'),\n",
        "    height=2,\n",
        "    fg='black',\n",
        "    bg='orange',\n",
        "    activebackground='orange',\n",
        "    command=clear\n",
        ")\n",
        "btn_clear.grid(row=4, column=0, sticky=EW)\n",
        "\n",
        "btn_0 = Button(\n",
        "    text=' 0 ',\n",
        "    font=('Arial', 16),\n",
        "    height=2,\n",
        "    bg='#F7FDA7',\n",
        "    activebackground='#F7FDA7',\n",
        "    command=lambda: press(0)\n",
        ")\n",
        "btn_0.grid(row=4, column=1, sticky=EW)\n",
        "\n",
        "btn_igual = Button(\n",
        "    text=' = ',\n",
        "    font=('Arial', 16, 'bold'),\n",
        "    height=2,\n",
        "    fg='white',\n",
        "    bg='dark red',\n",
        "    activeforeground='white',\n",
        "    activebackground='dark red',\n",
        "    command=equalpress\n",
        ")\n",
        "btn_igual.grid(row=4, column=2, sticky=EW)\n",
        "\n",
        "btn_menos = Button(\n",
        "    text=' - ',\n",
        "    font=('Arial', 16),\n",
        "    height=2,\n",
        "    bg='#E7A4F1',\n",
        "    activebackground='#E7A4F1',\n",
        "    command=lambda: press('-')\n",
        ")\n",
        "btn_menos.grid(row=1, column=3, sticky=EW)\n",
        "\n",
        "btn_mais = Button(\n",
        "    text=' + ',\n",
        "    font=('Arial', 16),\n",
        "    height=2,\n",
        "    bg='#E7A4F1',\n",
        "    activebackground='#E7A4F1',\n",
        "    command=lambda: press('+')\n",
        ")\n",
        "btn_mais.grid(row=2, column=3, sticky=EW)\n",
        "\n",
        "btn_div = Button(\n",
        "    text=' / ',\n",
        "    font=('Arial', 16),\n",
        "    height=2,\n",
        "    bg='#E7A4F1',\n",
        "    activebackground='#E7A4F1',\n",
        "    command=lambda: press('/')\n",
        ")\n",
        "btn_div.grid(row=3, column=3, sticky=EW)\n",
        "\n",
        "btn_mul = Button(\n",
        "    text=' x ',\n",
        "    font=('Arial', 16),\n",
        "    height=2,\n",
        "    bg='#E7A4F1',\n",
        "    activebackground='#E7A4F1',\n",
        "    command=lambda: press('*')\n",
        ")\n",
        "btn_mul.grid(row=4, column=3, sticky=EW)\n",
        "```"
      ],
      "metadata": {
        "id": "S7IIRf1LLA9C"
      }
    },
    {
      "cell_type": "markdown",
      "source": [
        "### Definindo as funções"
      ],
      "metadata": {
        "id": "8cB39fxfLeaf"
      }
    },
    {
      "cell_type": "markdown",
      "source": [
        "```\n",
        "expression = ''\n",
        "\n",
        "def keystroke(event):\n",
        "    if event.char.isnumeric() or event.char in '-+/*':\n",
        "        press(event.char)\n",
        "\n",
        "def press(num):\n",
        "    global expression\n",
        "\n",
        "    expression += str(num)\n",
        "\n",
        "    if len(expression) > 10:\n",
        "        equation.set(expression[:10])\n",
        "    else:\n",
        "        equation.set(expression)\n",
        "\n",
        "def equalpress(event=None):\n",
        "    try:\n",
        "        global expression\n",
        "\n",
        "        total = str(eval(expression))\n",
        "\n",
        "        if len(total) < 10:\n",
        "            equation.set(total)\n",
        "        else:\n",
        "            equation.set(total[:10])\n",
        "\n",
        "        expression = total[:10]\n",
        "    except:\n",
        "\n",
        "        equation.set(' error ')\n",
        "        expression = ''\n",
        "\n",
        "def clear(event=None):\n",
        "    global expression\n",
        "    expression = ''\n",
        "    equation.set('')\n",
        "\n",
        "def backspace(event=None):\n",
        "    global expression\n",
        "    expression = expression[:-1]\n",
        "    equation.set(expression)\n",
        "```"
      ],
      "metadata": {
        "id": "gU9Ok7ibLhJl"
      }
    },
    {
      "cell_type": "markdown",
      "source": [
        "### Definindo os binds"
      ],
      "metadata": {
        "id": "DbU75XYPMFmK"
      }
    },
    {
      "cell_type": "markdown",
      "source": [
        "```\n",
        "display.bind('<KeyPress>', keystroke)\n",
        "display.bind('<Return>', equalpress)\n",
        "display.bind('<BackSpace>', backspace)\n",
        "display.bind('<Delete>', clear)\n",
        "```"
      ],
      "metadata": {
        "id": "17jXkVVJMIE1"
      }
    },
    {
      "cell_type": "markdown",
      "source": [
        "#### Código completo"
      ],
      "metadata": {
        "id": "j8ZLossWKcDs"
      }
    },
    {
      "cell_type": "code",
      "source": [
        "from tkinter import *\n",
        "\n",
        "# declaração da variável global de expressão\n",
        "expression = ''\n",
        "\n",
        "# Função que valida o que está sendo \n",
        "# digitado, aceitando apenas números e \n",
        "# os 4 operadores aritiméticos básicos\n",
        "def keystroke(event):\n",
        "    if event.char.isnumeric() or event.char in '-+/*':\n",
        "        press(event.char)\n",
        "\n",
        "# Função para atualizar a expressão\n",
        "# na caixa de entrada de texto (display)\n",
        "def press(num):\n",
        "    global expression\n",
        "\n",
        "    expression += str(num)\n",
        "    \n",
        "    if len(expression) > 10:\n",
        "        # atualiza a expressão usando o método set\n",
        "        equation.set(expression[:10])\n",
        "    else:\n",
        "        # atualiza a expressão usando o método set\n",
        "        equation.set(expression)\n",
        "\n",
        "# Função para avaliar a expressão final\n",
        "def equalpress(event=None):\n",
        "     # A instrução try e except é usada\n",
        "     # para lidar com os erros como ZeroError\n",
        "     # Division by Zero entre outros\n",
        "\n",
        "     #Coloque este código dentro do bloco try\n",
        "     # que pode gerar o erro\n",
        "    try:\n",
        "        global expression\n",
        "\n",
        "         # função eval avalia a expressão\n",
        "         # e a função str converte o resultado\n",
        "         # em string\n",
        "        total = str(eval(expression))\n",
        "\n",
        "        if len(total) < 10:\n",
        "            equation.set(total)\n",
        "        else:\n",
        "            equation.set(total[:10])\n",
        "\n",
        "        expression = total[:10]\n",
        "    except:\n",
        "\n",
        "        equation.set('' error ')\n",
        "        expression = ''\n",
        "\n",
        "# Função para limpar o conteúdo\n",
        "# da caixa de entrada de texto (display)\n",
        "def clear(event=None):\n",
        "    global expression\n",
        "    expression = ''\n",
        "    equation.set('')\n",
        "\n",
        "# Função que permite apagar elementos\n",
        "# da expressão usando o backspace\n",
        "def backspace(event=None):\n",
        "    global expression\n",
        "    expression = expression[:-1]\n",
        "    equation.set(expression)\n",
        "\n",
        "window = Tk()\n",
        "window.title('Basic Calculator')\n",
        "window.resizable(False, False)\n",
        "\n",
        "# O StringVar ajuda a gerenciar o valor de um widget \n",
        "# como um Label ou Entry de forma mais eficaz\n",
        "equation = StringVar()\n",
        "\n",
        "display = Entry(\n",
        "    master=window,\n",
        "    state='readonly',\n",
        "    justify='right',\n",
        "    font=('Arial', 80),\n",
        "    width=11,\n",
        "    fg='black',\n",
        "    textvariable=equation\n",
        ")\n",
        "display.grid(row=0, column=0, columnspan=4)\n",
        "display.bind('<KeyPress>', keystroke)\n",
        "display.bind('<Return>', equalpress)\n",
        "display.bind('<BackSpace>', backspace)\n",
        "display.bind('<Delete>', clear)\n",
        "display.focus()\n",
        "\n",
        "btn_7 = Button(\n",
        "    text=' 7 ',\n",
        "    font=('Arial', 16),\n",
        "    height=2,\n",
        "    bg='#F7FDA7',\n",
        "    activebackground='#F7FDA7',\n",
        "    command=lambda: press(7)\n",
        ")\n",
        "btn_7.grid(row=1, column=0, sticky=EW)\n",
        "\n",
        "btn_8 = Button(\n",
        "    text=' 8 ',\n",
        "    font=('Arial', 16),\n",
        "    height=2,\n",
        "    bg='#F7FDA7',\n",
        "    activebackground='#F7FDA7',\n",
        "    command=lambda: press(8)\n",
        ")\n",
        "btn_8.grid(row=1, column=1, sticky=EW)\n",
        "\n",
        "btn_9 = Button(\n",
        "    text=' 9 ',\n",
        "    font=('Arial', 16),\n",
        "    height=2,\n",
        "    bg='#F7FDA7',\n",
        "    activebackground='#F7FDA7',\n",
        "    command=lambda: press(9)\n",
        ")\n",
        "btn_9.grid(row=1, column=2, sticky=EW)\n",
        "\n",
        "btn_4 = Button(\n",
        "    text=' 4 ',\n",
        "    font=('Arial', 16),\n",
        "    height=2,\n",
        "    bg='#F7FDA7',\n",
        "    activebackground='#F7FDA7',\n",
        "    command=lambda: press(4)\n",
        ")\n",
        "btn_4.grid(row=2, column=0, sticky=EW)\n",
        "\n",
        "btn_5 = Button(\n",
        "    text=' 5 ',\n",
        "    font=('Arial', 16),\n",
        "    height=2,\n",
        "    bg='#F7FDA7',\n",
        "    activebackground='#F7FDA7',\n",
        "    command=lambda: press(5)\n",
        ")\n",
        "btn_5.grid(row=2, column=1, sticky=EW)\n",
        "\n",
        "btn_6 = Button(\n",
        "    text=' 6 ',\n",
        "    font=('Arial', 16),\n",
        "    height=2,\n",
        "    bg='#F7FDA7',\n",
        "    activebackground='#F7FDA7',\n",
        "    command=lambda: press(6)\n",
        ")\n",
        "btn_6.grid(row=2, column=2, sticky=EW)\n",
        "\n",
        "btn_1 = Button(\n",
        "    text=' 1 ',\n",
        "    font=('Arial', 16),\n",
        "    height=2,\n",
        "    bg='#F7FDA7',\n",
        "    activebackground='#F7FDA7',\n",
        "    command=lambda: press(1)\n",
        ")\n",
        "btn_1.grid(row=3, column=0, sticky=EW)\n",
        "\n",
        "btn_2 = Button(\n",
        "    text=' 2 ',\n",
        "    font=('Arial', 16),\n",
        "    height=2,\n",
        "    bg='#F7FDA7',\n",
        "    activebackground='#F7FDA7',\n",
        "    command=lambda: press(2)\n",
        ")\n",
        "btn_2.grid(row=3, column=1, sticky=EW)\n",
        "\n",
        "btn_3 = Button(\n",
        "    text=' 3 ',\n",
        "    font=('Arial', 16),\n",
        "    height=2,\n",
        "    bg='#F7FDA7',\n",
        "    activebackground='#F7FDA7',\n",
        "    command=lambda: press(3)\n",
        ")\n",
        "btn_3.grid(row=3, column=2, sticky=EW)\n",
        "\n",
        "btn_clear = Button(\n",
        "    text=' C ',\n",
        "    font=('Arial', 16, 'bold'),\n",
        "    height=2,\n",
        "    fg='black',\n",
        "    bg='orange',\n",
        "    activebackground='orange',\n",
        "    command=clear\n",
        ")\n",
        "btn_clear.grid(row=4, column=0, sticky=EW)\n",
        "\n",
        "btn_0 = Button(\n",
        "    text=' 0 ',\n",
        "    font=('Arial', 16),\n",
        "    height=2,\n",
        "    bg='#F7FDA7',\n",
        "    activebackground='#F7FDA7',\n",
        "    command=lambda: press(0)\n",
        ")\n",
        "btn_0.grid(row=4, column=1, sticky=EW)\n",
        "\n",
        "btn_igual = Button(\n",
        "    text=' = ',\n",
        "    font=('Arial', 16, 'bold'),\n",
        "    height=2,\n",
        "    fg='white',\n",
        "    bg='dark red',\n",
        "    activeforeground='white',\n",
        "    activebackground='dark red',\n",
        "    command=equalpress\n",
        ")\n",
        "btn_igual.grid(row=4, column=2, sticky=EW)\n",
        "\n",
        "btn_menos = Button(\n",
        "    text=' - ',\n",
        "    font=('Arial', 16),\n",
        "    height=2,\n",
        "    bg='#E7A4F1',\n",
        "    activebackground='#E7A4F1',\n",
        "    command=lambda: press('-')\n",
        ")\n",
        "btn_menos.grid(row=1, column=3, sticky=EW)\n",
        "\n",
        "btn_mais = Button(\n",
        "    text=' + ',\n",
        "    font=('Arial', 16),\n",
        "    height=2,\n",
        "    bg='#E7A4F1',\n",
        "    activebackground='#E7A4F1',\n",
        "    command=lambda: press('+')\n",
        ")\n",
        "btn_mais.grid(row=2, column=3, sticky=EW)\n",
        "\n",
        "btn_div = Button(\n",
        "    text=' / ',\n",
        "    font=('Arial', 16),\n",
        "    height=2,\n",
        "    bg='#E7A4F1',\n",
        "    activebackground='#E7A4F1',\n",
        "    command=lambda: press('/')\n",
        ")\n",
        "btn_div.grid(row=3, column=3, sticky=EW)\n",
        "\n",
        "btn_mul = Button(\n",
        "    text=' x ',\n",
        "    font=('Arial', 16),\n",
        "    height=2,\n",
        "    bg='#E7A4F1',\n",
        "    activebackground='#E7A4F1',\n",
        "    command=lambda: press('*')\n",
        ")\n",
        "btn_mul.grid(row=4, column=3, sticky=EW)\n",
        "\n",
        "window.mainloop()\n"
      ],
      "metadata": {
        "id": "2CJykJJ6gmDU"
      },
      "execution_count": null,
      "outputs": []
    }
  ]
}