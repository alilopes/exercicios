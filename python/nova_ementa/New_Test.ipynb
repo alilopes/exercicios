{
  "nbformat": 4,
  "nbformat_minor": 0,
  "metadata": {
    "colab": {
      "provenance": []
    },
    "kernelspec": {
      "name": "python3",
      "display_name": "Python 3"
    },
    "language_info": {
      "name": "python"
    }
  },
  "cells": [
    {
      "cell_type": "markdown",
      "source": [
        "# Atenção"
      ],
      "metadata": {
        "id": "w7Saz0WZBpyf"
      }
    },
    {
      "cell_type": "markdown",
      "source": [
        "Verificando a acentuação das palavras (é, à)"
      ],
      "metadata": {
        "id": "U8JGooiCBtbJ"
      }
    }
  ]
}