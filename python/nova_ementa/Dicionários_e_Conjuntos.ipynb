{
  "nbformat": 4,
  "nbformat_minor": 0,
  "metadata": {
    "colab": {
      "name": "Dicionários e Conjuntos.ipynb",
      "provenance": []
    },
    "kernelspec": {
      "name": "python3",
      "display_name": "Python 3"
    },
    "language_info": {
      "name": "python"
    }
  },
  "cells": [
    {
      "cell_type": "markdown",
      "source": [
        "# Mais sobre contâiners"
      ],
      "metadata": {
        "id": "Fwoup6Cng0Q7"
      }
    },
    {
      "cell_type": "markdown",
      "source": [
        "## Dicionários"
      ],
      "metadata": {
        "id": "3QbiLy1ZntGY"
      }
    },
    {
      "cell_type": "markdown",
      "source": [
        "### Introdução"
      ],
      "metadata": {
        "id": "GCOtVup3v_XY"
      }
    },
    {
      "cell_type": "markdown",
      "source": [
        "_Mapping objects_ mapeiam valores _hasheáveis_ para objetos arbitrários. \n",
        "\n",
        "Mapeamentos são objetos mutáveis. Atualmente, existe apenas um tipo de mapeamento padrão que é o __dicionário__.\n",
        "\n",
        "__ATENÇÃO__ : as chaves de um dicionário são quase valores arbitrários. \n",
        "\n",
        "Valores que não são _hasheáveis_, isto é, valores contendo listas, dicionários ou outros tipos mutáveis - que são comparados por valor ao invés de por identidade do objeto - __NÃO DEVEM__ ser usados como chaves.\n",
        "\n",
        "__OBS__: números de ponto flutuante são armazenados como aproximações, usualmente não é uma boa ideia utilizá-los como chaves para dicionários."
      ],
      "metadata": {
        "id": "fOFvmXFitozh"
      }
    },
    {
      "cell_type": "markdown",
      "source": [
        "### A Classe Dict"
      ],
      "metadata": {
        "id": "s-zpdIS6nsTI"
      }
    },
    {
      "cell_type": "markdown",
      "source": [
        "Esta classe retorna um novo dicionário inicializado a partir de um argumento posicional opcional, e um conjunto de argumentos nomeados possivelmente vazio.\n",
        "\n",
        "Os dicionários, assim como vimos nas listas e tuplas, podem ser criados de várias formas:\n",
        "\n",
        "* Usando uma lista de pares `key: value` separados por vírgula e dentro de um par de chaves \n",
        "\n",
        "  Ex: `{'turma': 713, 'módulo': 'Python'}`\n",
        "\n",
        "* Usando dict comprehension\n",
        "\n",
        "  Ex: `{num: num * 10 for num in range(1,11)}`\n",
        "\n",
        "* Usando o construtor dict()\n",
        "\n",
        "  Ex1: Para um dicionário vazio : `dict()`\n",
        "\n",
        "  Ex2: `dict([('turma', 718), ('módulo', 'Python')])`\n",
        "\n",
        "  Ex3: `dict(turma=713, módulo='Python')`\n",
        "\n",
        "__OBS__ nº1: se a chave ocorrer mais de uma vez, o último valor para aquela chave torna-se o valor correspondente no novo dicionário\n",
        "\n",
        "__OBS__ nº2: quando os argumentos nomeados forem passados, seus valores são adicionados ao dicionário criado a partir do argumento posicional\n",
        "\n",
        "__OBS__ nº3: se uma chave que está sendo adicionada já estiver presente, o valor do argumento nomeado substitui o valor do argumento posicional\n",
        "\n",
        "`dados = dict({'nome': 'Rafael', 'idade': 46}, nome='Camila')`"
      ],
      "metadata": {
        "id": "-L2JAnQowHj6"
      }
    },
    {
      "cell_type": "markdown",
      "source": [
        "### Operações suportadas"
      ],
      "metadata": {
        "id": "obkU3M7Ip3aE"
      }
    },
    {
      "cell_type": "code",
      "source": [
        "dados = {\n",
        "    'nome': 'Rafael',\n",
        "    'sobrenome': 'Puyau',\n",
        "    'idade': 45,\n",
        "    'email': 'puyau@proton.me',\n",
        "    'linguagens': ['Python', 'R', 'SQL']\n",
        "}"
      ],
      "metadata": {
        "id": "RX0l-r02rqET"
      },
      "execution_count": null,
      "outputs": []
    },
    {
      "cell_type": "code",
      "source": [
        "dados"
      ],
      "metadata": {
        "colab": {
          "base_uri": "https://localhost:8080/"
        },
        "id": "lWllsG2YIJg4",
        "outputId": "7208e8d8-47b1-4102-a5e4-e75092529cb2"
      },
      "execution_count": null,
      "outputs": [
        {
          "output_type": "execute_result",
          "data": {
            "text/plain": [
              "{'nome': 'Rafael',\n",
              " 'sobrenome': 'Puyau',\n",
              " 'idade': 45,\n",
              " 'email': 'puyau@proton.me',\n",
              " 'linguagens': ['Python', 'R', 'SQL']}"
            ]
          },
          "metadata": {},
          "execution_count": 2
        }
      ]
    },
    {
      "cell_type": "markdown",
      "source": [
        "#### list"
      ],
      "metadata": {
        "id": "6pVwxDKuq4wi"
      }
    },
    {
      "cell_type": "markdown",
      "source": [
        "Retorna uma lista de todas as chaves usadas no dicionário em questão\n",
        "\n",
        "__SINTAXE__\n",
        "\n",
        "`list(nome_dicionario)`"
      ],
      "metadata": {
        "id": "AHZIL4Sdq_fO"
      }
    },
    {
      "cell_type": "code",
      "source": [
        "list(dados)"
      ],
      "metadata": {
        "colab": {
          "base_uri": "https://localhost:8080/"
        },
        "id": "Ps7N2sC1rawM",
        "outputId": "28ebdba8-cafc-4449-9eab-c5fc585f97a8"
      },
      "execution_count": null,
      "outputs": [
        {
          "output_type": "execute_result",
          "data": {
            "text/plain": [
              "['nome', 'sobrenome', 'idade', 'email', 'linguagens']"
            ]
          },
          "metadata": {},
          "execution_count": 3
        }
      ]
    },
    {
      "cell_type": "markdown",
      "source": [
        "#### len"
      ],
      "metadata": {
        "id": "G_K5LTajsagl"
      }
    },
    {
      "cell_type": "markdown",
      "source": [
        "Retorna o número de itens de um dicionário\n",
        "\n",
        "__SINTAXE__\n",
        "\n",
        "`len(nome_dicionario)`"
      ],
      "metadata": {
        "id": "7i0RkyIZscv-"
      }
    },
    {
      "cell_type": "code",
      "source": [
        "len(dados)"
      ],
      "metadata": {
        "colab": {
          "base_uri": "https://localhost:8080/"
        },
        "id": "mzsydxmKsh4T",
        "outputId": "e5cb7ec1-0ffd-417f-ce62-39a4872102ff"
      },
      "execution_count": null,
      "outputs": [
        {
          "output_type": "execute_result",
          "data": {
            "text/plain": [
              "5"
            ]
          },
          "metadata": {},
          "execution_count": 4
        }
      ]
    },
    {
      "cell_type": "markdown",
      "source": [
        "#### dicionario[chave]"
      ],
      "metadata": {
        "id": "_-pMMIsjs1J9"
      }
    },
    {
      "cell_type": "markdown",
      "source": [
        "Retorna o item do dicionário da chave especificada entre colchetes.\n",
        "\n",
        "Caso essa chave não exista no dicionário, uma exceção do tipo _KeyError_ será levantada\n",
        "\n",
        "__SINTAXE__\n",
        "\n",
        "`dicionario[chave]`"
      ],
      "metadata": {
        "id": "FualJMD4s5NO"
      }
    },
    {
      "cell_type": "code",
      "source": [
        "dados['nome']"
      ],
      "metadata": {
        "colab": {
          "base_uri": "https://localhost:8080/",
          "height": 35
        },
        "id": "N1cIO24UtrTG",
        "outputId": "3efc9db9-07f3-497d-a5a6-3d00a99e32dc"
      },
      "execution_count": null,
      "outputs": [
        {
          "output_type": "execute_result",
          "data": {
            "text/plain": [
              "'Rafael'"
            ],
            "application/vnd.google.colaboratory.intrinsic+json": {
              "type": "string"
            }
          },
          "metadata": {},
          "execution_count": 5
        }
      ]
    },
    {
      "cell_type": "code",
      "source": [
        "dados['salario']"
      ],
      "metadata": {
        "colab": {
          "base_uri": "https://localhost:8080/",
          "height": 167
        },
        "id": "tZCTyWJ-JEaR",
        "outputId": "621074c8-8551-4825-d001-9f1e57c00511"
      },
      "execution_count": null,
      "outputs": [
        {
          "output_type": "error",
          "ename": "KeyError",
          "evalue": "ignored",
          "traceback": [
            "\u001b[0;31m---------------------------------------------------------------------------\u001b[0m",
            "\u001b[0;31mKeyError\u001b[0m                                  Traceback (most recent call last)",
            "\u001b[0;32m<ipython-input-6-f9a1ba8c1caa>\u001b[0m in \u001b[0;36m<module>\u001b[0;34m\u001b[0m\n\u001b[0;32m----> 1\u001b[0;31m \u001b[0mdados\u001b[0m\u001b[0;34m[\u001b[0m\u001b[0;34m'salario'\u001b[0m\u001b[0;34m]\u001b[0m\u001b[0;34m\u001b[0m\u001b[0;34m\u001b[0m\u001b[0m\n\u001b[0m",
            "\u001b[0;31mKeyError\u001b[0m: 'salario'"
          ]
        }
      ]
    },
    {
      "cell_type": "markdown",
      "source": [
        "#### dicionario[chave] = valor"
      ],
      "metadata": {
        "id": "3iwv5mzWt28n"
      }
    },
    {
      "cell_type": "markdown",
      "source": [
        "Define um valor para a chave especificada entre colchetes, porém, atente para:\n",
        "\n",
        "* se a chave já existir no dicionário, terá seu valor sobreescrito\n",
        "\n",
        "* se a chave ainda não existir no dicionário, esta será criada e o valor será atribuído a ela\n",
        "\n",
        "__SINTAXE__\n",
        "\n",
        "`dicionario[chave] = valor`"
      ],
      "metadata": {
        "id": "kAOnNbs7uGkF"
      }
    },
    {
      "cell_type": "code",
      "source": [
        "print(dados['idade'])\n",
        "\n",
        "dados['idade'] = 46\n",
        "\n",
        "print(dados['idade'])"
      ],
      "metadata": {
        "colab": {
          "base_uri": "https://localhost:8080/"
        },
        "id": "X1jHZHVCuv9b",
        "outputId": "9ba02bf6-40ff-4560-df24-05106b9042b3"
      },
      "execution_count": null,
      "outputs": [
        {
          "output_type": "stream",
          "name": "stdout",
          "text": [
            "45\n",
            "46\n"
          ]
        }
      ]
    },
    {
      "cell_type": "code",
      "source": [
        "print(dados)\n",
        "\n",
        "dados['empresa'] = 'Wilson Sons'\n",
        "\n",
        "print(dados)"
      ],
      "metadata": {
        "colab": {
          "base_uri": "https://localhost:8080/"
        },
        "id": "Noegz5gBvrCV",
        "outputId": "8f87f8f5-9112-4fb6-ed52-43f8f83356d5"
      },
      "execution_count": null,
      "outputs": [
        {
          "output_type": "stream",
          "name": "stdout",
          "text": [
            "{'nome': 'Rafael', 'sobrenome': 'Puyau', 'idade': 46, 'email': 'puyau@proton.me', 'linguagens': ['Python', 'R', 'SQL']}\n",
            "{'nome': 'Rafael', 'sobrenome': 'Puyau', 'idade': 46, 'email': 'puyau@proton.me', 'linguagens': ['Python', 'R', 'SQL'], 'empresa': 'Wilson Sons'}\n"
          ]
        }
      ]
    },
    {
      "cell_type": "markdown",
      "source": [
        "#### del dicionario[chave]"
      ],
      "metadata": {
        "id": "2N4c-kyyv8Z-"
      }
    },
    {
      "cell_type": "markdown",
      "source": [
        "Remove a chave e seu respectivo valor do dicionario.\n",
        "\n",
        "Caso a chave não exista no dicionário, uma exceção _KeyError_ será levantada\n",
        "\n",
        "__SINTAXE__\n",
        "\n",
        "`del dicionario[chave]`"
      ],
      "metadata": {
        "id": "AWvqlQX2v_0t"
      }
    },
    {
      "cell_type": "code",
      "source": [
        "print(dados)\n",
        "\n",
        "del dados['empresa']\n",
        "\n",
        "print(dados)"
      ],
      "metadata": {
        "colab": {
          "base_uri": "https://localhost:8080/"
        },
        "id": "qRvO5osbwvg7",
        "outputId": "abb2fca7-1e10-4e71-d633-a3910a899bc7"
      },
      "execution_count": null,
      "outputs": [
        {
          "output_type": "stream",
          "name": "stdout",
          "text": [
            "{'nome': 'Rafael', 'sobrenome': 'Puyau', 'idade': 46, 'email': 'puyau@proton.me', 'linguagens': ['Python', 'R', 'SQL'], 'empresa': 'Wilson Sons'}\n",
            "{'nome': 'Rafael', 'sobrenome': 'Puyau', 'idade': 46, 'email': 'puyau@proton.me', 'linguagens': ['Python', 'R', 'SQL']}\n"
          ]
        }
      ]
    },
    {
      "cell_type": "code",
      "source": [
        "print(dados)\n",
        "\n",
        "del dados['empresa']"
      ],
      "metadata": {
        "colab": {
          "base_uri": "https://localhost:8080/",
          "height": 219
        },
        "id": "4l6Arvb1w7OY",
        "outputId": "6129b6eb-987c-4eb0-8ea6-d12a5a780167"
      },
      "execution_count": null,
      "outputs": [
        {
          "output_type": "stream",
          "name": "stdout",
          "text": [
            "{'nome': 'Rafael', 'sobrenome': 'Puyau', 'idade': 46, 'email': 'puyau@proton.me', 'linguagens': ['Python', 'R', 'SQL']}\n"
          ]
        },
        {
          "output_type": "error",
          "ename": "KeyError",
          "evalue": "ignored",
          "traceback": [
            "\u001b[0;31m---------------------------------------------------------------------------\u001b[0m",
            "\u001b[0;31mKeyError\u001b[0m                                  Traceback (most recent call last)",
            "\u001b[0;32m<ipython-input-10-b4abdfc00dbf>\u001b[0m in \u001b[0;36m<module>\u001b[0;34m\u001b[0m\n\u001b[1;32m      1\u001b[0m \u001b[0mprint\u001b[0m\u001b[0;34m(\u001b[0m\u001b[0mdados\u001b[0m\u001b[0;34m)\u001b[0m\u001b[0;34m\u001b[0m\u001b[0;34m\u001b[0m\u001b[0m\n\u001b[1;32m      2\u001b[0m \u001b[0;34m\u001b[0m\u001b[0m\n\u001b[0;32m----> 3\u001b[0;31m \u001b[0;32mdel\u001b[0m \u001b[0mdados\u001b[0m\u001b[0;34m[\u001b[0m\u001b[0;34m'empresa'\u001b[0m\u001b[0;34m]\u001b[0m\u001b[0;34m\u001b[0m\u001b[0;34m\u001b[0m\u001b[0m\n\u001b[0m",
            "\u001b[0;31mKeyError\u001b[0m: 'empresa'"
          ]
        }
      ]
    },
    {
      "cell_type": "markdown",
      "source": [
        "#### chave in dicionario"
      ],
      "metadata": {
        "id": "CBVEtNLDxleC"
      }
    },
    {
      "cell_type": "markdown",
      "source": [
        "Retorna _True_ se a chave for encontrada no dicionário, senão retornará _False_\n",
        "\n",
        "__SINTAXE__\n",
        "\n",
        "`chave in dicionario`"
      ],
      "metadata": {
        "id": "kCj-t5zzxpG7"
      }
    },
    {
      "cell_type": "code",
      "source": [
        "'sobrenome' in dados"
      ],
      "metadata": {
        "colab": {
          "base_uri": "https://localhost:8080/"
        },
        "id": "HYwVtQvXywRg",
        "outputId": "ef318ff7-0e47-4ccc-b28e-dca2cfdf4122"
      },
      "execution_count": null,
      "outputs": [
        {
          "output_type": "execute_result",
          "data": {
            "text/plain": [
              "True"
            ]
          },
          "metadata": {},
          "execution_count": 11
        }
      ]
    },
    {
      "cell_type": "code",
      "source": [
        "'empresa' in dados"
      ],
      "metadata": {
        "colab": {
          "base_uri": "https://localhost:8080/"
        },
        "id": "9cFtGJApy0lY",
        "outputId": "a706bd48-935d-49da-f8ba-28a35a272b4e"
      },
      "execution_count": null,
      "outputs": [
        {
          "output_type": "execute_result",
          "data": {
            "text/plain": [
              "False"
            ]
          },
          "metadata": {},
          "execution_count": 12
        }
      ]
    },
    {
      "cell_type": "markdown",
      "source": [
        "#### chave not in dicionario"
      ],
      "metadata": {
        "id": "CAV3AtNYy_w6"
      }
    },
    {
      "cell_type": "markdown",
      "source": [
        "Retorna _True_ se a chave __não__ for encontrada no dicionário, senão retornará _False_\n",
        "\n",
        "__SINTAXE__\n",
        "\n",
        "`chave not in dicionario`\n",
        "\n",
        "__Equivalência__: `not chave in dicionario`"
      ],
      "metadata": {
        "id": "IYNQ3B7DzERV"
      }
    },
    {
      "cell_type": "code",
      "source": [
        "'empresa' not in dados"
      ],
      "metadata": {
        "colab": {
          "base_uri": "https://localhost:8080/"
        },
        "id": "2TLXzcu3zUnp",
        "outputId": "f132610e-fdc9-44d3-f0d2-ebc8385d30d1"
      },
      "execution_count": null,
      "outputs": [
        {
          "output_type": "execute_result",
          "data": {
            "text/plain": [
              "True"
            ]
          },
          "metadata": {},
          "execution_count": 13
        }
      ]
    },
    {
      "cell_type": "code",
      "source": [
        "'email' not in dados"
      ],
      "metadata": {
        "colab": {
          "base_uri": "https://localhost:8080/"
        },
        "id": "VZ6b1SKbzYr5",
        "outputId": "49f10a4c-2e84-4d03-ddb7-db1d61304042"
      },
      "execution_count": null,
      "outputs": [
        {
          "output_type": "execute_result",
          "data": {
            "text/plain": [
              "False"
            ]
          },
          "metadata": {},
          "execution_count": 14
        }
      ]
    },
    {
      "cell_type": "markdown",
      "source": [
        "#### iter(dicionario)"
      ],
      "metadata": {
        "id": "mzWHm6Xjzqwe"
      }
    },
    {
      "cell_type": "markdown",
      "source": [
        "Retorna um iterador para as chaves do dicionário. Isso é um atalho para `iter(dicionario.keys())`\n",
        "\n",
        "Retorna o mesmo que `dados.keys()`\n",
        "\n",
        "__SINTAXE__\n",
        "\n",
        "`iter(dicionario)`\n"
      ],
      "metadata": {
        "id": "SfL9izwY221v"
      }
    },
    {
      "cell_type": "code",
      "source": [
        "iter(dados)"
      ],
      "metadata": {
        "colab": {
          "base_uri": "https://localhost:8080/"
        },
        "id": "gOS8DSNl3Qaz",
        "outputId": "8fda1fce-5819-4ef2-d2f5-9c25fb162279"
      },
      "execution_count": null,
      "outputs": [
        {
          "output_type": "execute_result",
          "data": {
            "text/plain": [
              "<dict_keyiterator at 0x7f03de202c50>"
            ]
          },
          "metadata": {},
          "execution_count": 15
        }
      ]
    },
    {
      "cell_type": "code",
      "source": [
        "list(iter(dados))"
      ],
      "metadata": {
        "id": "QH7_4yHh3t0G",
        "colab": {
          "base_uri": "https://localhost:8080/"
        },
        "outputId": "6d0be396-221d-4471-a200-4763b2d5e4f0"
      },
      "execution_count": null,
      "outputs": [
        {
          "output_type": "execute_result",
          "data": {
            "text/plain": [
              "['nome', 'sobrenome', 'idade', 'email', 'linguagens']"
            ]
          },
          "metadata": {},
          "execution_count": 16
        }
      ]
    },
    {
      "cell_type": "markdown",
      "source": [
        "#### clear( )"
      ],
      "metadata": {
        "id": "C6Br1kDM4BWt"
      }
    },
    {
      "cell_type": "markdown",
      "source": [
        "Remove todos os itens do dicionário\n",
        "\n",
        "__SINTAXE__\n",
        "\n",
        "`dicionario.clear()`"
      ],
      "metadata": {
        "id": "NC7Z6YQ04DyE"
      }
    },
    {
      "cell_type": "code",
      "source": [
        "dados_2 = {'turma': 713, 'módulo': 'Python'}\n",
        "print(dados_2)\n",
        "dados_2.clear()\n",
        "print(dados_2)"
      ],
      "metadata": {
        "colab": {
          "base_uri": "https://localhost:8080/"
        },
        "id": "fmYYI2Sf4TSI",
        "outputId": "3a58f72d-2d98-4c8d-f0d9-9a345ce66507"
      },
      "execution_count": null,
      "outputs": [
        {
          "output_type": "stream",
          "name": "stdout",
          "text": [
            "{'turma': 713, 'módulo': 'Python'}\n",
            "{}\n"
          ]
        }
      ]
    },
    {
      "cell_type": "markdown",
      "source": [
        "#### copy( )"
      ],
      "metadata": {
        "id": "ldFboDRk5B7i"
      }
    },
    {
      "cell_type": "markdown",
      "source": [
        "Retorna uma cópia do dicionário\n",
        "\n",
        "__SINTAXE__\n",
        "\n",
        "`dicionario.copy()`"
      ],
      "metadata": {
        "id": "JhNB8QLj5Edi"
      }
    },
    {
      "cell_type": "code",
      "source": [
        "dados_1 = {'turma': 713, 'modulo': 'Python'}\n",
        "print(dados_1)\n",
        "dados_2 = dados_1.copy()\n",
        "print(dados_2)\n",
        "dados_2['turma'] = 718\n",
        "print(dados_1, dados_2, sep=' -------> ')"
      ],
      "metadata": {
        "colab": {
          "base_uri": "https://localhost:8080/"
        },
        "id": "A35NegFa5lR0",
        "outputId": "127c149d-a09a-44a0-ad16-ae92edc189bc"
      },
      "execution_count": null,
      "outputs": [
        {
          "output_type": "stream",
          "name": "stdout",
          "text": [
            "{'turma': 713, 'modulo': 'Python'}\n",
            "{'turma': 713, 'modulo': 'Python'}\n",
            "{'turma': 713, 'modulo': 'Python'} -------> {'turma': 718, 'modulo': 'Python'}\n"
          ]
        }
      ]
    },
    {
      "cell_type": "markdown",
      "source": [
        "#### fromkeys( )"
      ],
      "metadata": {
        "id": "HiRiOLpJ6rxI"
      }
    },
    {
      "cell_type": "markdown",
      "source": [
        "Cria um novo dicionário com as chaves provenientes do iterável e o valor definido em _value_\n",
        "\n",
        "`fromkeys()` é um método de classe que retorna um novo dicionário. _Value_ tem como valor padrão `None]`.\n",
        "\n",
        "Todos os valores irão se referir a apenas uma única instância.\n",
        "\n",
        "__SINTAXE__\n",
        "\n",
        "`dict.fromkeys(iteravel)`"
      ],
      "metadata": {
        "id": "Q8uyvkPU6979"
      }
    },
    {
      "cell_type": "markdown",
      "source": [
        "##### Exemplo 1"
      ],
      "metadata": {
        "id": "T2maW8z98fER"
      }
    },
    {
      "cell_type": "code",
      "source": [
        "minha_lista = ['turma', 'modulo', 'horario']\n",
        "dados = dict.fromkeys(minha_lista)\n",
        "dados"
      ],
      "metadata": {
        "colab": {
          "base_uri": "https://localhost:8080/"
        },
        "id": "pi_q3Wnx8iur",
        "outputId": "f0dfb429-a8b0-4d28-f6fa-6c8461cccfc6"
      },
      "execution_count": null,
      "outputs": [
        {
          "output_type": "execute_result",
          "data": {
            "text/plain": [
              "{'turma': None, 'modulo': None, 'horario': None}"
            ]
          },
          "metadata": {},
          "execution_count": 19
        }
      ]
    },
    {
      "cell_type": "markdown",
      "source": [
        "##### Exemplo 2"
      ],
      "metadata": {
        "id": "Dd0p9BUQ846P"
      }
    },
    {
      "cell_type": "code",
      "source": [
        "dados_1 = {\n",
        "    'turma': 713, \n",
        "    'modulo': 'Python', \n",
        "    'horario': '13:30 - 18:30'\n",
        "    }\n",
        "\n",
        "dados_2 = dict.fromkeys(dados_1)\n",
        "\n",
        "print(dados_1, dados_2, sep='\\n')"
      ],
      "metadata": {
        "colab": {
          "base_uri": "https://localhost:8080/"
        },
        "id": "hgbhkFRj87yX",
        "outputId": "cde72829-95c3-42b2-8cee-ce9d2c976c83"
      },
      "execution_count": null,
      "outputs": [
        {
          "output_type": "stream",
          "name": "stdout",
          "text": [
            "{'turma': 713, 'modulo': 'Python', 'horario': '13:30 - 18:30'}\n",
            "{'turma': None, 'modulo': None, 'horario': None}\n"
          ]
        }
      ]
    },
    {
      "cell_type": "markdown",
      "source": [
        "#### get(chave)"
      ],
      "metadata": {
        "id": "IVi9EqCx9bE7"
      }
    },
    {
      "cell_type": "markdown",
      "source": [
        "Retorna o valor para a chave especificada se esta existir no dicionário, senão será retornado um valor padrão definido. \n",
        "\n",
        "Caso este valor padrão não seja definido, será usado o valor padrão `None`. Isto quer dizer que este método não levantará uma exceção do tipo _KeyError_\n",
        "\n",
        "__SINTAXE__\n",
        "\n",
        "`dicionario.get(chave, 'mensagem')`"
      ],
      "metadata": {
        "id": "EPO69WYT9srG"
      }
    },
    {
      "cell_type": "code",
      "source": [
        "dados_1 = {\n",
        "    'turma': [419, 713, 718], \n",
        "    'modulo': 'Python', \n",
        "    'horario': '18:30 - 21:30'\n",
        "    }\n",
        "\n",
        "dados_1.get('turma', 'turma não definida')"
      ],
      "metadata": {
        "colab": {
          "base_uri": "https://localhost:8080/"
        },
        "id": "MB-1IjBX-QoK",
        "outputId": "638388f4-f627-462f-c681-3c08f046b887"
      },
      "execution_count": null,
      "outputs": [
        {
          "output_type": "execute_result",
          "data": {
            "text/plain": [
              "[419, 713, 718]"
            ]
          },
          "metadata": {},
          "execution_count": 36
        }
      ]
    },
    {
      "cell_type": "code",
      "source": [
        "dados_1.get('alunos', 'turma sem alunos ainda')"
      ],
      "metadata": {
        "colab": {
          "base_uri": "https://localhost:8080/",
          "height": 35
        },
        "id": "1XpjwJov-hyS",
        "outputId": "9abd14e8-4c94-4cce-84e5-84317c270cd4"
      },
      "execution_count": null,
      "outputs": [
        {
          "output_type": "execute_result",
          "data": {
            "text/plain": [
              "'turma sem alunos ainda'"
            ],
            "application/vnd.google.colaboratory.intrinsic+json": {
              "type": "string"
            }
          },
          "metadata": {},
          "execution_count": 22
        }
      ]
    },
    {
      "cell_type": "code",
      "source": [
        "print(dados_1.get('alunos'))"
      ],
      "metadata": {
        "colab": {
          "base_uri": "https://localhost:8080/"
        },
        "id": "pk3c7z9AFJa9",
        "outputId": "a7cf2e7e-59a3-43a2-c668-ac7e16e30dcc"
      },
      "execution_count": null,
      "outputs": [
        {
          "output_type": "stream",
          "name": "stdout",
          "text": [
            "None\n"
          ]
        }
      ]
    },
    {
      "cell_type": "markdown",
      "source": [
        "#### items( )"
      ],
      "metadata": {
        "id": "S_BWEGZEDnBK"
      }
    },
    {
      "cell_type": "markdown",
      "source": [
        "Retorna uma nova visão dos itens do dicionário, ou seja, uma lista de tuplas\n",
        "\n",
        "__SINTAXE__\n",
        "\n",
        "`dicionario.items()`"
      ],
      "metadata": {
        "id": "CqF3CKwXDwpv"
      }
    },
    {
      "cell_type": "code",
      "source": [
        "dados_1.items()"
      ],
      "metadata": {
        "colab": {
          "base_uri": "https://localhost:8080/"
        },
        "id": "_JMyv_K_D5qu",
        "outputId": "074a2858-6643-4efe-c80b-db9d3d83f635"
      },
      "execution_count": null,
      "outputs": [
        {
          "output_type": "execute_result",
          "data": {
            "text/plain": [
              "dict_items([('turma', [419, 713, 718]), ('modulo', 'Python'), ('horario', '18:30 - 21:30')])"
            ]
          },
          "metadata": {},
          "execution_count": 25
        }
      ]
    },
    {
      "cell_type": "code",
      "source": [
        "for chave, valor in dados_1.items():\n",
        "  print(chave, valor, sep=' ----- ')"
      ],
      "metadata": {
        "colab": {
          "base_uri": "https://localhost:8080/"
        },
        "id": "TNomDKK9EFeU",
        "outputId": "d96f87e4-9946-453f-b9e1-0aecd9be18f1"
      },
      "execution_count": null,
      "outputs": [
        {
          "output_type": "stream",
          "name": "stdout",
          "text": [
            "turma ----- [419, 713, 718]\n",
            "modulo ----- Python\n",
            "horario ----- 18:30 - 21:30\n"
          ]
        }
      ]
    },
    {
      "cell_type": "markdown",
      "source": [
        "#### keys( )"
      ],
      "metadata": {
        "id": "YA_2njsdEK3t"
      }
    },
    {
      "cell_type": "markdown",
      "source": [
        "Retorna uma nova visão das chaves do dicionário, ou seja, uma lista com os valores das chaves\n",
        "\n",
        "__SINTAXE__\n",
        "\n",
        "`dicionario.keys()`"
      ],
      "metadata": {
        "id": "aK8_5I01EOUb"
      }
    },
    {
      "cell_type": "code",
      "source": [
        "dados_1.keys()"
      ],
      "metadata": {
        "colab": {
          "base_uri": "https://localhost:8080/"
        },
        "id": "tVUCLradEZ9r",
        "outputId": "94d500db-835b-40fc-e8ca-89958a4bbfc9"
      },
      "execution_count": null,
      "outputs": [
        {
          "output_type": "execute_result",
          "data": {
            "text/plain": [
              "dict_keys(['turma', 'modulo', 'horario'])"
            ]
          },
          "metadata": {},
          "execution_count": 29
        }
      ]
    },
    {
      "cell_type": "code",
      "source": [
        "for chave in dados_1.keys():\n",
        "  print(dados_1[chave])"
      ],
      "metadata": {
        "colab": {
          "base_uri": "https://localhost:8080/"
        },
        "id": "f8dqBUzYEyyu",
        "outputId": "2b5ffbcc-6a9f-4e39-e60d-15b5ecdcf717"
      },
      "execution_count": null,
      "outputs": [
        {
          "output_type": "stream",
          "name": "stdout",
          "text": [
            "[419, 713, 718]\n",
            "Python\n",
            "18:30 - 21:30\n"
          ]
        }
      ]
    },
    {
      "cell_type": "markdown",
      "source": [
        "#### pop(chave)"
      ],
      "metadata": {
        "id": "Z-dUqyFvIJeY"
      }
    },
    {
      "cell_type": "markdown",
      "source": [
        "Remove a chave se esta estiver no dicionário, senão retornará o valor padrão.\n",
        "\n",
        "Caso não seja passado um valor padrão e a chave não estiver no dicionário uma exceção do tipo _KeyError_ será levantada"
      ],
      "metadata": {
        "id": "-oW4eegEIPhW"
      }
    },
    {
      "cell_type": "code",
      "source": [
        "valor_removido = dados_1.pop('horario')\n",
        "valor_removido"
      ],
      "metadata": {
        "colab": {
          "base_uri": "https://localhost:8080/",
          "height": 35
        },
        "id": "tQig1J1uIOcI",
        "outputId": "0ded2784-4e08-4bdc-971d-05ff626b58a8"
      },
      "execution_count": null,
      "outputs": [
        {
          "output_type": "execute_result",
          "data": {
            "text/plain": [
              "'18:30 - 21:30'"
            ],
            "application/vnd.google.colaboratory.intrinsic+json": {
              "type": "string"
            }
          },
          "metadata": {},
          "execution_count": 37
        }
      ]
    },
    {
      "cell_type": "code",
      "source": [
        "dados_1.keys()"
      ],
      "metadata": {
        "colab": {
          "base_uri": "https://localhost:8080/"
        },
        "id": "RFZoG8YpRUUg",
        "outputId": "bec80825-de30-4bc9-a562-d611737cc592"
      },
      "execution_count": null,
      "outputs": [
        {
          "output_type": "execute_result",
          "data": {
            "text/plain": [
              "dict_keys(['turma', 'modulo'])"
            ]
          },
          "metadata": {},
          "execution_count": 38
        }
      ]
    },
    {
      "cell_type": "code",
      "source": [
        "dados_1.pop('horario', 'chave não encontrada')"
      ],
      "metadata": {
        "colab": {
          "base_uri": "https://localhost:8080/",
          "height": 35
        },
        "id": "8iqct98wI_aV",
        "outputId": "78a7b77c-167a-413f-cb06-831c35e5450c"
      },
      "execution_count": null,
      "outputs": [
        {
          "output_type": "execute_result",
          "data": {
            "text/plain": [
              "'chave não encontrada'"
            ],
            "application/vnd.google.colaboratory.intrinsic+json": {
              "type": "string"
            }
          },
          "metadata": {},
          "execution_count": 39
        }
      ]
    },
    {
      "cell_type": "code",
      "source": [
        "dados_1.pop('horario')"
      ],
      "metadata": {
        "colab": {
          "base_uri": "https://localhost:8080/",
          "height": 167
        },
        "id": "DfDStIJkJFZA",
        "outputId": "77c65abf-74ab-4132-c090-e8146032605d"
      },
      "execution_count": null,
      "outputs": [
        {
          "output_type": "error",
          "ename": "KeyError",
          "evalue": "ignored",
          "traceback": [
            "\u001b[0;31m---------------------------------------------------------------------------\u001b[0m",
            "\u001b[0;31mKeyError\u001b[0m                                  Traceback (most recent call last)",
            "\u001b[0;32m<ipython-input-40-4ec4051ab430>\u001b[0m in \u001b[0;36m<module>\u001b[0;34m\u001b[0m\n\u001b[0;32m----> 1\u001b[0;31m \u001b[0mdados_1\u001b[0m\u001b[0;34m.\u001b[0m\u001b[0mpop\u001b[0m\u001b[0;34m(\u001b[0m\u001b[0;34m'horario'\u001b[0m\u001b[0;34m)\u001b[0m\u001b[0;34m\u001b[0m\u001b[0;34m\u001b[0m\u001b[0m\n\u001b[0m",
            "\u001b[0;31mKeyError\u001b[0m: 'horario'"
          ]
        }
      ]
    },
    {
      "cell_type": "markdown",
      "source": [
        "#### values( )"
      ],
      "metadata": {
        "id": "rwebc08bNzjP"
      }
    },
    {
      "cell_type": "markdown",
      "source": [
        "Retorna uma nova visão dos valores do dicionário, ou seja, uma lista com os valores.\n",
        "\n",
        "__SINTAXE__\n",
        "\n",
        "`dicionario.values()`"
      ],
      "metadata": {
        "id": "21dOlJp4N2jd"
      }
    },
    {
      "cell_type": "code",
      "source": [
        "dados_1.values()"
      ],
      "metadata": {
        "colab": {
          "base_uri": "https://localhost:8080/"
        },
        "id": "hUT38eMNOCcv",
        "outputId": "c9c15dc3-1d2d-4426-96a6-9607a7ad0955"
      },
      "execution_count": null,
      "outputs": [
        {
          "output_type": "execute_result",
          "data": {
            "text/plain": [
              "dict_values([[419, 713, 718], 'Python'])"
            ]
          },
          "metadata": {},
          "execution_count": 41
        }
      ]
    },
    {
      "cell_type": "markdown",
      "source": [
        "#### update( )"
      ],
      "metadata": {
        "id": "bkP3851CP-ry"
      }
    },
    {
      "cell_type": "markdown",
      "source": [
        "Atualiza o dicionário com os pares de chave e valor existente, sobrescrevendo as chaves existentes.\n",
        "\n",
        "Aceita como argumento outro dicionário ou um iterável de pares de chave e valor como as tuplas.\n",
        "\n",
        "__SINTAXE__\n",
        "\n",
        "`dicionario.update(dicionario2)`"
      ],
      "metadata": {
        "id": "iDDW6NIWQA-O"
      }
    },
    {
      "cell_type": "code",
      "source": [
        "dados_1.update([('horario', '18:30 - 21:30')])\n",
        "dados_1"
      ],
      "metadata": {
        "colab": {
          "base_uri": "https://localhost:8080/"
        },
        "id": "a9vXgUY7Qaqv",
        "outputId": "3a480eee-caa7-455b-c722-065219a71cb1"
      },
      "execution_count": null,
      "outputs": [
        {
          "output_type": "execute_result",
          "data": {
            "text/plain": [
              "{'turma': [419, 713, 718], 'modulo': 'Python', 'horario': '18:30 - 21:30'}"
            ]
          },
          "metadata": {},
          "execution_count": 42
        }
      ]
    },
    {
      "cell_type": "code",
      "source": [
        "dados_1.update({'professor': 'Rafael Puyau'})\n",
        "dados_1"
      ],
      "metadata": {
        "colab": {
          "base_uri": "https://localhost:8080/"
        },
        "id": "06kTHkSWQ0Q2",
        "outputId": "0952d886-aa65-49e3-c1b1-ae8b4d812182"
      },
      "execution_count": null,
      "outputs": [
        {
          "output_type": "execute_result",
          "data": {
            "text/plain": [
              "{'horario': '18:30 - 21:30',\n",
              " 'modulo': 'Python',\n",
              " 'professor': 'Rafael Puyau',\n",
              " 'turma': 718}"
            ]
          },
          "metadata": {},
          "execution_count": 79
        }
      ]
    },
    {
      "cell_type": "code",
      "source": [
        "dados_1.update([['instituicao', 'Infinity School']])\n",
        "dados_1"
      ],
      "metadata": {
        "colab": {
          "base_uri": "https://localhost:8080/"
        },
        "id": "_TLKvvZuR0qR",
        "outputId": "7a0c2a75-4364-430b-caaf-4346a842c747"
      },
      "execution_count": null,
      "outputs": [
        {
          "output_type": "execute_result",
          "data": {
            "text/plain": [
              "{'horario': '18:30 - 21:30',\n",
              " 'instituicao': 'Infinity School',\n",
              " 'modulo': 'Python',\n",
              " 'professor': 'Rafael Puyau',\n",
              " 'turma': 718}"
            ]
          },
          "metadata": {},
          "execution_count": 80
        }
      ]
    },
    {
      "cell_type": "markdown",
      "source": [
        "## Conjuntos"
      ],
      "metadata": {
        "id": "LXZlz1HfOhTq"
      }
    },
    {
      "cell_type": "markdown",
      "source": [
        "Um objeto conjunto é uma coleção _não ordenada_ de objetos hasheáveis distintos.\n",
        "\n",
        "Usos comuns incluem testes de associação, __remover duplicatas__ de uma sequência e computar operações matemáticas tais como interseção, união, diferença e diferença simétrica.\n",
        "\n",
        "Sendo uma coleção não ordenada, conjuntos noão armazenam posição de elementos ou ordem de inserção. Portanto, conjuntos não suportam indexação, fatiamento ou outros comportamentos de sequências ou similares.\n",
        "\n",
        "O tipo _set_ é mutável - o conteúdo pode ser alterado usando métodos como `add()` e `remove()`. "
      ],
      "metadata": {
        "id": "S7Z5SabkOk0I"
      }
    },
    {
      "cell_type": "markdown",
      "source": [
        "Conjuntos podem ser criados de várias formas como:\n",
        "\n",
        "* Usar uma lista de elementos separados por vírgulas entre chaves\n",
        "\n",
        "  Ex: `{'Python', 'SQL'}`\n",
        "\n",
        "* Usar uma compreensão de conjunto \n",
        "\n",
        "  Ex: `{letra for letra in 'rafael' if letra not in 'aeiou'}`\n",
        "\n",
        "* Usar o construtor\n",
        "\n",
        "  Ex: `set()` ou `set('infinity')` ou `set([713, 718, 'python'])`\n",
        "\n",
        "\n",
        "__OBS__ : elementos de conjuntos, assim como as chaves de dicionário, devem ser _hasháveis_"
      ],
      "metadata": {
        "id": "D1p6TtL_Wz-F"
      }
    },
    {
      "cell_type": "markdown",
      "source": [
        "### Operações suportadas"
      ],
      "metadata": {
        "id": "UyD1i8k01znQ"
      }
    },
    {
      "cell_type": "markdown",
      "source": [
        "#### len"
      ],
      "metadata": {
        "id": "dwK2PmsD2Bmz"
      }
    },
    {
      "cell_type": "markdown",
      "source": [
        "Retorna o número de elementos no _set_.\n",
        "\n",
        "__SINTAXE__\n",
        "\n",
        "`len(conjunto)`"
      ],
      "metadata": {
        "id": "WNM6Ljz12E30"
      }
    },
    {
      "cell_type": "code",
      "source": [
        "turmas = {315, 319, 419, 713, 718}\n",
        "len(turmas)"
      ],
      "metadata": {
        "colab": {
          "base_uri": "https://localhost:8080/"
        },
        "id": "66mv5uV62X6h",
        "outputId": "0cec8b54-e78a-428c-a3b2-c4ddeaafe43d"
      },
      "execution_count": null,
      "outputs": [
        {
          "output_type": "execute_result",
          "data": {
            "text/plain": [
              "5"
            ]
          },
          "metadata": {},
          "execution_count": 40
        }
      ]
    },
    {
      "cell_type": "markdown",
      "source": [
        "#### in"
      ],
      "metadata": {
        "id": "muIFcLqL2pRs"
      }
    },
    {
      "cell_type": "markdown",
      "source": [
        "Testa se um elemento pertence ao conjunto. Retorna _True_ se o elemento for encontrado, senão retornará _False_\n",
        "\n",
        "__SINTAXE__\n",
        "\n",
        "`elemento in conjunto`"
      ],
      "metadata": {
        "id": "tJgibTFe2q9A"
      }
    },
    {
      "cell_type": "code",
      "source": [
        "713 in turmas"
      ],
      "metadata": {
        "colab": {
          "base_uri": "https://localhost:8080/"
        },
        "id": "cnTEaDa72z-k",
        "outputId": "05601c15-23f3-471e-9d78-0b144ec7f867"
      },
      "execution_count": null,
      "outputs": [
        {
          "output_type": "execute_result",
          "data": {
            "text/plain": [
              "True"
            ]
          },
          "metadata": {},
          "execution_count": 41
        }
      ]
    },
    {
      "cell_type": "markdown",
      "source": [
        "#### not in"
      ],
      "metadata": {
        "id": "YdakjrdZ27gB"
      }
    },
    {
      "cell_type": "markdown",
      "source": [
        "Testa se um elemento não pertence ao conjunto. Retorna _True_ se o elemento __não__ estiver no conjunto, caso contrário, retornará _False_\n",
        "\n",
        "__SINTAXE__\n",
        "\n",
        "`elemento not in conjunto`"
      ],
      "metadata": {
        "id": "LQ-nMVpA2-Sp"
      }
    },
    {
      "cell_type": "code",
      "source": [
        "713 not in turmas"
      ],
      "metadata": {
        "colab": {
          "base_uri": "https://localhost:8080/"
        },
        "id": "Slnj_Q2S3Jy3",
        "outputId": "774c601e-7a59-478a-ead8-d85f5c5ad04e"
      },
      "execution_count": null,
      "outputs": [
        {
          "output_type": "execute_result",
          "data": {
            "text/plain": [
              "False"
            ]
          },
          "metadata": {},
          "execution_count": 42
        }
      ]
    },
    {
      "cell_type": "markdown",
      "source": [
        "#### copy( )"
      ],
      "metadata": {
        "id": "eAGfqGDG4Cpu"
      }
    },
    {
      "cell_type": "markdown",
      "source": [
        "Retorna uma cópia do conjunto\n",
        "\n",
        "__SINTAXE__\n",
        "\n",
        "`conjunto_2 = conjunto_1.copy()`"
      ],
      "metadata": {
        "id": "mhxMM_e74Hj4"
      }
    },
    {
      "cell_type": "code",
      "source": [
        "turmas_infinity = {713, 718}\n",
        "turmas_sabado = turmas_infinity.copy()\n",
        "\n",
        "print(turmas_infinity, turmas_sabado, sep='\\n')"
      ],
      "metadata": {
        "colab": {
          "base_uri": "https://localhost:8080/"
        },
        "id": "HN_NfnUo5jwu",
        "outputId": "adb29d26-5357-4af5-bab7-7e40c09b0a5a"
      },
      "execution_count": null,
      "outputs": [
        {
          "output_type": "stream",
          "name": "stdout",
          "text": [
            "{713, 718}\n",
            "{713, 718}\n"
          ]
        }
      ]
    },
    {
      "cell_type": "markdown",
      "source": [
        "#### update( )"
      ],
      "metadata": {
        "id": "2Gp7L_e356qt"
      }
    },
    {
      "cell_type": "markdown",
      "source": [
        "Atualiza o conjunto, adicionando os elementos do conjunto informado no update\n",
        "\n",
        "__SINTAXE__\n",
        "\n",
        "`conjunto_2.update(conjunto_1)`"
      ],
      "metadata": {
        "id": "K73qUvW0583z"
      }
    },
    {
      "cell_type": "code",
      "source": [
        "minhas_turmas = {315, 319, 419}\n",
        "turmas_sabado = {713, 718}\n",
        "\n",
        "minhas_turmas.update(turmas_sabado)\n",
        "print(minhas_turmas)"
      ],
      "metadata": {
        "colab": {
          "base_uri": "https://localhost:8080/"
        },
        "id": "9-Nzmunm6QxJ",
        "outputId": "b6ec767f-a724-4d88-d40d-34c8609f93fb"
      },
      "execution_count": null,
      "outputs": [
        {
          "output_type": "stream",
          "name": "stdout",
          "text": [
            "{419, 713, 315, 718, 319}\n"
          ]
        }
      ]
    },
    {
      "cell_type": "markdown",
      "source": [
        "#### add( )"
      ],
      "metadata": {
        "id": "bGiqnZ_S7EOf"
      }
    },
    {
      "cell_type": "markdown",
      "source": [
        "Adiciona o elemento ao conjunto\n",
        "\n",
        "__SINTAXE__\n",
        "\n",
        "`conjunto.add(elemento)`"
      ],
      "metadata": {
        "id": "EqRgs3i67GAf"
      }
    },
    {
      "cell_type": "code",
      "source": [
        "turmas_sabado = {713}\n",
        "turmas_sabado.add(718)\n",
        "turmas_sabado"
      ],
      "metadata": {
        "colab": {
          "base_uri": "https://localhost:8080/"
        },
        "id": "f87_NZX47SYQ",
        "outputId": "b754d103-c9ed-4574-ffe8-181a0c74a8f9"
      },
      "execution_count": null,
      "outputs": [
        {
          "output_type": "execute_result",
          "data": {
            "text/plain": [
              "{713, 718}"
            ]
          },
          "metadata": {},
          "execution_count": 45
        }
      ]
    },
    {
      "cell_type": "markdown",
      "source": [
        "#### remove( )"
      ],
      "metadata": {
        "id": "h4Qb_Wt17bxD"
      }
    },
    {
      "cell_type": "markdown",
      "source": [
        "Remove o elemento do conjunto. Uma exceção do tipo _KeyError_ poderá subir se o elemento a ser removido não estiver contido no conjunto\n",
        "\n",
        "__SINTAXE__\n",
        "\n",
        "`conjunto.remove(elemento)`"
      ],
      "metadata": {
        "id": "wVeAQBQc7evH"
      }
    },
    {
      "cell_type": "code",
      "source": [
        "turmas_sabado = {718, 713, 419}\n",
        "turmas_sabado.remove(419)\n",
        "turmas_sabado"
      ],
      "metadata": {
        "colab": {
          "base_uri": "https://localhost:8080/"
        },
        "id": "4NbBigp074AA",
        "outputId": "1a67f9c3-27e1-41a8-e42e-bf395c4e731a"
      },
      "execution_count": null,
      "outputs": [
        {
          "output_type": "execute_result",
          "data": {
            "text/plain": [
              "{713, 718}"
            ]
          },
          "metadata": {},
          "execution_count": 46
        }
      ]
    },
    {
      "cell_type": "code",
      "source": [
        "turmas_sabado = {718, 713, 419}\n",
        "if 319 in turmas_sabado:\n",
        "  turmas_sabado.remove(319)\n",
        "else:\n",
        "  print('Não foi dessa vez...')\n",
        "turmas_sabado"
      ],
      "metadata": {
        "colab": {
          "base_uri": "https://localhost:8080/"
        },
        "id": "dOklX7dD8A1_",
        "outputId": "f4335ab8-22cc-4b43-9d83-66421c6cadc7"
      },
      "execution_count": null,
      "outputs": [
        {
          "output_type": "stream",
          "name": "stdout",
          "text": [
            "Não foi dessa vez...\n"
          ]
        },
        {
          "output_type": "execute_result",
          "data": {
            "text/plain": [
              "{419, 713, 718}"
            ]
          },
          "metadata": {},
          "execution_count": 48
        }
      ]
    },
    {
      "cell_type": "markdown",
      "source": [
        "#### discard( )"
      ],
      "metadata": {
        "id": "KGXhfFON8KC9"
      }
    },
    {
      "cell_type": "markdown",
      "source": [
        "Remove o elemento do conjunto se ele estiver presente no mesmo\n",
        "\n",
        "__SINTAXE__\n",
        "\n",
        "`conjunto.discard(elemento)` "
      ],
      "metadata": {
        "id": "OZWbNsv48M1L"
      }
    },
    {
      "cell_type": "code",
      "source": [
        "turmas_sabado = {713, 718, 419}\n",
        "turmas_sabado.discard(419)\n",
        "turmas_sabado"
      ],
      "metadata": {
        "colab": {
          "base_uri": "https://localhost:8080/"
        },
        "id": "xvx3uxhI8Yer",
        "outputId": "b4638436-4ab7-461b-d66b-65c66584bec4"
      },
      "execution_count": null,
      "outputs": [
        {
          "output_type": "execute_result",
          "data": {
            "text/plain": [
              "{713, 718}"
            ]
          },
          "metadata": {},
          "execution_count": 49
        }
      ]
    },
    {
      "cell_type": "code",
      "source": [
        "turmas_sabado = {713, 718, 419}\n",
        "turmas_sabado.discard(319)\n",
        "turmas_sabado"
      ],
      "metadata": {
        "colab": {
          "base_uri": "https://localhost:8080/"
        },
        "id": "AMjcgIhk8j8t",
        "outputId": "47b20e12-ef0b-4a81-c2cd-2835e225a489"
      },
      "execution_count": null,
      "outputs": [
        {
          "output_type": "execute_result",
          "data": {
            "text/plain": [
              "{419, 713, 718}"
            ]
          },
          "metadata": {},
          "execution_count": 50
        }
      ]
    },
    {
      "cell_type": "markdown",
      "source": [
        "Remove e retorna o elemento arbitrário do conjunto. Uma exceção do tipo _KeyError_ ocorrerá se o conjunto estiver vazio\n",
        "\n",
        "__SINTAXE__\n",
        "\n",
        "`conjunto.pop()`"
      ],
      "metadata": {
        "id": "kfgiu3ir8vDq"
      }
    },
    {
      "cell_type": "code",
      "source": [
        "turmas_sabado = {713, 718, 419}\n",
        "turmas_sabado.pop()\n",
        "turmas_sabado\n",
        "turmas_sabado.pop()\n",
        "turmas_sabado"
      ],
      "metadata": {
        "colab": {
          "base_uri": "https://localhost:8080/"
        },
        "id": "wpjyfu9k9KcI",
        "outputId": "6c8d1a7e-f6dd-450e-83eb-2e381e31036d"
      },
      "execution_count": null,
      "outputs": [
        {
          "output_type": "execute_result",
          "data": {
            "text/plain": [
              "{718}"
            ]
          },
          "metadata": {},
          "execution_count": 52
        }
      ]
    },
    {
      "cell_type": "markdown",
      "source": [
        "#### clear( )"
      ],
      "metadata": {
        "id": "iC50oiDm9gRd"
      }
    },
    {
      "cell_type": "markdown",
      "source": [
        "Remove todos os elementos do conjunto\n",
        "\n",
        "__SINTAXE__\n",
        "\n",
        "`conjunto.clear()`"
      ],
      "metadata": {
        "id": "P96Fejqs9iBx"
      }
    },
    {
      "cell_type": "code",
      "source": [
        "minhas_turmas = {315, 319, 419, 713, 718}\n",
        "print(minhas_turmas)\n",
        "minhas_turmas.clear()\n",
        "print(minhas_turmas)"
      ],
      "metadata": {
        "colab": {
          "base_uri": "https://localhost:8080/"
        },
        "id": "Se6srbFK95b3",
        "outputId": "b973ef9e-8a80-4d3f-f0f2-2b75efe46584"
      },
      "execution_count": null,
      "outputs": [
        {
          "output_type": "stream",
          "name": "stdout",
          "text": [
            "{419, 713, 718, 315, 319}\n",
            "set()\n"
          ]
        }
      ]
    },
    {
      "cell_type": "markdown",
      "source": [
        "## Hora de praticar!"
      ],
      "metadata": {
        "id": "ArDgmKDT-Vpw"
      }
    },
    {
      "cell_type": "markdown",
      "source": [
        "### Atividade 1"
      ],
      "metadata": {
        "id": "SETb96Md-YPc"
      }
    },
    {
      "cell_type": "markdown",
      "source": [
        "Leia os dados de um usuário - nome, sobrenome, idade, email - e imprima-os enumerando os mesmos."
      ],
      "metadata": {
        "id": "Vx1B56myAJNd"
      }
    },
    {
      "cell_type": "markdown",
      "source": [
        "\n",
        "#### Gabarito"
      ],
      "metadata": {
        "id": "fDlBO3CkQ8wm"
      }
    },
    {
      "cell_type": "code",
      "source": [
        "dados = {}\n",
        "\n",
        "nome = input('Nome: ').strip().title()\n",
        "sobrenome = input('Sobrenome: ').strip().title()\n",
        "idade = int(input('Idade: '))\n",
        "email = input('Email: ').strip().lower()\n",
        "\n",
        "# Forma 1\n",
        "dados['Nome'] = nome\n",
        "dados['Sobrenome'] = sobrenome\n",
        "dados['Idade'] = idade\n",
        "dados['E-mail'] = email\n",
        "\n",
        "# # Forma 2\n",
        "# dados['Nome'] = input('Nome: ')\n",
        "# dados['Sobrenome'] = input('Sobrenome: ')\n",
        "# dados['Idade'] = int(input('Idade: '))\n",
        "# dados['E-mail'] = input('Email: ')\n",
        "\n",
        "# # Forma 3\n",
        "# dados['Nome'], dados['Sobrenome'], dados['Idade'], dados['Email'] = nome, sobrenome, idade, email\n",
        "\n",
        "# # Forma 4\n",
        "# dados = {\n",
        "#     'Nome' : input('Nome: '),\n",
        "#     'Sobrenome' : input('Sobrenome: '),\n",
        "#     'Idade' : int(input('Idade: ')),\n",
        "#     'E-mail' : input('Email: ')\n",
        "# }\n",
        "\n",
        "print('-' * 25)\n",
        "\n",
        "# print(list(enumerate(dados.items(), start=1)))\n",
        "\n",
        "print('-' * 25)\n",
        "\n",
        "for pos, dado in enumerate(dados.items(), start=1):\n",
        "  chave, valor = dado\n",
        "  print(f'{pos} - {chave} : {valor}')"
      ],
      "metadata": {
        "id": "JFr6jsqAJw6q",
        "colab": {
          "base_uri": "https://localhost:8080/"
        },
        "outputId": "885ac73e-6b61-4e5f-d73a-b03d79a1eeb5"
      },
      "execution_count": null,
      "outputs": [
        {
          "output_type": "stream",
          "name": "stdout",
          "text": [
            "Nome: rafael\n",
            "Sobrenome: puyau\n",
            "Idade: 46\n",
            "Email: puyau@email.com\n",
            "-------------------------\n",
            "[(1, ('Nome', 'Rafael')), (2, ('Sobrenome', 'Puyau')), (3, ('Idade', 46)), (4, ('E-mail', 'puyau@email.com'))]\n",
            "-------------------------\n"
          ]
        }
      ]
    },
    {
      "cell_type": "markdown",
      "source": [
        "### Atividade 2"
      ],
      "metadata": {
        "id": "Rt-8ZkA4-klZ"
      }
    },
    {
      "cell_type": "markdown",
      "source": [
        "Leia 4 notas de um aluno, calcule sua média e armazene em um dicionário as seguintes informações:\n",
        "\n",
        "* Nome do aluno\n",
        "* As 4 notas obtidas\n",
        "* Maior nota\n",
        "* Menor nota\n",
        "* Média\n",
        "* Situação\n",
        "  * Aprovado se média for maior ou igual a 7\n",
        "  * Reprovado se média for menor que 7\n",
        "\n",
        "Agora imprima as informações deste aluno na saída padrão"
      ],
      "metadata": {
        "id": "jSxOLhyeC_vf"
      }
    },
    {
      "cell_type": "markdown",
      "source": [
        "#### Gabarito"
      ],
      "metadata": {
        "id": "0QDr1iKdRDCZ"
      }
    },
    {
      "cell_type": "code",
      "source": [
        "dados = {}\n",
        "notas = []\n",
        "\n",
        "nome = input('Nome do aluno: ').strip().title()\n",
        "\n",
        "for _ in range(4):\n",
        "  nota = float(input('Nota: '))\n",
        "  notas.append(nota)\n",
        "\n",
        "dados['Nome'] = nome\n",
        "dados['Notas'] = notas\n",
        "dados['Maior nota'] = max(notas)\n",
        "dados['Menor nota'] = min(notas)\n",
        "dados['Media'] = sum(notas) / len(notas)\n",
        "dados['Situacao'] = 'Aprovado' if dados['Media'] > 6.9 else 'Reprovado'\n",
        "\n",
        "# Forma 2 para popular a chave Situação\n",
        "# if dados['Media'] > 6.9:\n",
        "#   dados['Situacao'] = 'Aprovado'\n",
        "# else:\n",
        "#   dados['Situacao'] = 'Reprovado'\n",
        "\n",
        "print('-' * 20)\n",
        "\n",
        "print(f'O aluno {dados[\"Nome\"]} foi {dados[\"Situacao\"].lower()} com média {dados[\"Media\"]:.2f}')\n",
        "print(f'Notas obtidas pelo aluno: {dados[\"Notas\"]}')\n",
        "\n",
        "print(f'Média: {round(dados[\"Media\"], 2)}')\n",
        "print(f'Maior nota: {dados[\"Maior nota\"]}')\n",
        "print(f'Menor nota: {dados[\"Menor nota\"]}')\n"
      ],
      "metadata": {
        "id": "9w9hNMTtVGxf"
      },
      "execution_count": null,
      "outputs": []
    },
    {
      "cell_type": "markdown",
      "source": [
        "### Atividade 3"
      ],
      "metadata": {
        "id": "-xkOglti-okg"
      }
    },
    {
      "cell_type": "markdown",
      "source": [
        "Refaça o programa anterior, mas desta vez, para 7 alunos e imprima na tela todos os dados dos alunos"
      ],
      "metadata": {
        "id": "zE2W_W8WENeI"
      }
    },
    {
      "cell_type": "markdown",
      "source": [
        "#### Gabarito"
      ],
      "metadata": {
        "id": "PGhicBUXtM9C"
      }
    },
    {
      "cell_type": "code",
      "source": [
        "turma = {}\n",
        "dados_aluno = {}\n",
        "notas = []\n",
        "\n",
        "for indice in range(1, 8):\n",
        "  nome_aluno = input('Nome do aluno: ').strip().title()\n",
        "  print(f'Coletando as informações de {nome_aluno}')\n",
        "  if len(notas) > 0:\n",
        "    notas.clear()\n",
        "  for n in range(1, 5):\n",
        "    nota = float(input(f'{n}ª nota: '))\n",
        "    notas.append(nota)\n",
        "  dados_aluno['Notas'] = notas.copy()\n",
        "  dados_aluno['Maior nota'] = max(notas)\n",
        "  dados_aluno['Menor nota'] = min(notas)\n",
        "  dados_aluno['Media'] = sum(notas) / len(notas)\n",
        "  dados_aluno['Situacao'] = 'Aprovado' if dados_aluno['Media'] > 6.9 else 'Reprovado'\n",
        "  turma[nome_aluno] = dados_aluno.copy()\n",
        "  dados_aluno.clear()\n",
        "\n",
        "print('=_-' * 30)\n",
        "\n",
        "for nome, dados in turma.items():\n",
        "  print(f'O aluno {nome} foi {dados[\"Situacao\"].lower()} com média {dados[\"Media\"]:.2f}')\n",
        "  print(f'Notas obtidas pelo aluno: {dados[\"Notas\"]}')\n",
        "\n",
        "  print(f'Média: {round(dados[\"Media\"], 2)}')\n",
        "  print(f'Maior nota: {dados[\"Maior nota\"]}')\n",
        "  print(f'Menor nota: {dados[\"Menor nota\"]}')\n",
        "\n",
        "  print('-' * 20)"
      ],
      "metadata": {
        "id": "CpQRZJpEg1Il"
      },
      "execution_count": null,
      "outputs": []
    },
    {
      "cell_type": "markdown",
      "source": [
        "### Atividade 4"
      ],
      "metadata": {
        "id": "3i8-sqjT-ruW"
      }
    },
    {
      "cell_type": "markdown",
      "source": [
        "Refaça o programa anterior e imprima a lista dos alunos aprovados em ordem decrescente da maior média para a menor"
      ],
      "metadata": {
        "id": "LVnF5gK8IY-r"
      }
    },
    {
      "cell_type": "markdown",
      "source": [
        "#### Gabarito"
      ],
      "metadata": {
        "id": "5v5TSvxVx5ti"
      }
    },
    {
      "cell_type": "code",
      "source": [
        "turma = {}\n",
        "dados_aluno = {}\n",
        "notas = []\n",
        "aprovados = []\n",
        "\n",
        "for indice in range(1, 8):\n",
        "  nome_aluno = input('Nome do aluno: ').strip().title()\n",
        "  print(f'Coletando as informações de {nome_aluno}')\n",
        "  if len(notas) > 0:\n",
        "    notas.clear()\n",
        "  for n in range(1, 5):\n",
        "    nota = float(input(f'{n}ª nota: '))\n",
        "    notas.append(nota)\n",
        "  dados_aluno['Notas'] = notas.copy()\n",
        "  dados_aluno['Maior nota'] = max(notas)\n",
        "  dados_aluno['Menor nota'] = min(notas)\n",
        "  dados_aluno['Media'] = sum(notas) / len(notas)\n",
        "  dados_aluno['Situacao'] = 'Aprovado' if dados_aluno['Media'] > 6.9 else 'Reprovado'\n",
        "  turma[nome_aluno] = dados_aluno.copy()\n",
        "  dados_aluno.clear()\n",
        "\n",
        "print('=_-' * 30)\n",
        "\n",
        "for nome, dados in turma.items():\n",
        "  if dados['Media'] > 6.99:\n",
        "    aprovados.append(tuple([dados['Media'], nome]))\n",
        "  \n",
        "aprovados.sort(reverse=True)\n",
        "\n",
        "print('APROVADOS', '---------', sep='\\n')\n",
        "for pos, dados_aluno in enumerate(aprovados, start=1):\n",
        "  media, aluno = dados_aluno\n",
        "  print(f'{pos} - {aluno} - Média: {media:.2f} ')"
      ],
      "metadata": {
        "id": "i0CJQUpxtX46"
      },
      "execution_count": null,
      "outputs": []
    },
    {
      "cell_type": "markdown",
      "source": [
        "## Dicionário de Dados"
      ],
      "metadata": {
        "id": "RorWDkwQow2i"
      }
    },
    {
      "cell_type": "markdown",
      "source": [
        "* __hasheável__ : um objeto é hasheável se tem um valor de hash que nunca muda durante seu ciclo de vida"
      ],
      "metadata": {
        "id": "RMRAkO6zoz1c"
      }
    }
  ]
}